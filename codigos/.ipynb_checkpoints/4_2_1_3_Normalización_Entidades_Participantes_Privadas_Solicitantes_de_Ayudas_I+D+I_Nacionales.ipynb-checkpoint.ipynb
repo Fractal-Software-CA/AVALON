{
 "cells": [
  {
   "cell_type": "code",
   "execution_count": 1,
   "id": "8d36a721",
   "metadata": {},
   "outputs": [],
   "source": [
    "import pandas as pd\n",
    "import numpy as np\n",
    "\n",
    "import findspark\n",
    "findspark.init()\n",
    "findspark.find()\n",
    "\n",
    "import pyspark\n",
    "from pyspark import SparkContext, SparkConf\n",
    "from pyspark.sql import SparkSession\n",
    "from pyspark.sql import functions as F\n",
    "from pyspark.sql.functions import monotonically_increasing_id\n",
    "\n",
    "import unidecode\n",
    "import re\n",
    "import csv\n",
    "\n",
    "from elasticsearch import Elasticsearch\n",
    "from time import time\n",
    "#import import_ipynb\n",
    "from nltk.tokenize import word_tokenize\n",
    "\n",
    "from pyspark.sql import Window\n",
    "import pyspark.sql.functions as f\n",
    "\n",
    "\n",
    "\n",
    "from FuncionesCentros import *"
   ]
  },
  {
   "cell_type": "code",
   "execution_count": 2,
   "id": "bf75a9a4",
   "metadata": {},
   "outputs": [],
   "source": [
    "#Establecemos contxto\n",
    "conf= pyspark.SparkConf().setAppName('SparkApp').setMaster(\"local\")\n",
    "sc = pyspark.SparkContext(conf=conf)\n",
    "spark=SparkSession(sc)"
   ]
  },
  {
   "cell_type": "code",
   "execution_count": 3,
   "id": "af522603",
   "metadata": {},
   "outputs": [],
   "source": [
    "#Leemos las rutas con las que trabajar\n",
    "\n",
    "try:\n",
    "    #Las rutas se informan de manera externa\n",
    "    print(Ruta_Input_maestro, Ruta_Input_solicitudes, Ruta_Input, Ruta_Output)\n",
    "except:\n",
    "    #Informamos las rutas dentro del script\n",
    "    Ruta_Input_maestro = 'C:/datos/datoscentros/output/4212/'\n",
    "    Ruta_Input_solicitudes = 'C:/datos/datoscentros/output/4211/'\n",
    "    Ruta_Input = 'C:/datos/datoscentros/input/4213/'\n",
    "    Ruta_Output = 'C:/datos/datoscentros/output/privada/'\n"
   ]
  },
  {
   "cell_type": "code",
   "execution_count": 4,
   "id": "b7cab920",
   "metadata": {},
   "outputs": [],
   "source": [
    "mostrar_info = 0\n",
    "Threshold = 0.87\n",
    "Threshold_same = 1\n",
    "\n",
    "guardarCSV=True\n"
   ]
  },
  {
   "cell_type": "code",
   "execution_count": 5,
   "id": "30816f29",
   "metadata": {},
   "outputs": [
    {
     "name": "stdout",
     "output_type": "stream",
     "text": [
      "DATA_SIC_SOLICITUDES_ESP_UO_PRIVADAS - Registros:  55440\n"
     ]
    }
   ],
   "source": [
    "#Recuperamos solictudes privadas\n",
    "DATA_SIC_SOLICITUDES_ESP_UO_PRIVADAS = spark.read.parquet(Ruta_Input_solicitudes + \"DATA_SIC_SOLICITUDES_ESP_UO_PRIVADAS\")\n",
    "print('DATA_SIC_SOLICITUDES_ESP_UO_PRIVADAS - Registros: ',DATA_SIC_SOLICITUDES_ESP_UO_PRIVADAS.count())"
   ]
  },
  {
   "cell_type": "code",
   "execution_count": 6,
   "id": "7768ea70",
   "metadata": {},
   "outputs": [
    {
     "name": "stdout",
     "output_type": "stream",
     "text": [
      "DATA_SIC_ENTIDADES_PUBLICAS_SOLICITUD_ESP - Registros:  5021\n"
     ]
    }
   ],
   "source": [
    "#Recuperamos maestro del proceso anterior \n",
    "DATA_SIC_ENTIDADES_PUBLICAS_SOLICITUD_ESP = spark.read.parquet(Ruta_Input_maestro + \"DATA_SIC_ENTIDADES_PUBLICAS_SOLICITUD_ESP2\")\n",
    "print('DATA_SIC_ENTIDADES_PUBLICAS_SOLICITUD_ESP - Registros: ',DATA_SIC_ENTIDADES_PUBLICAS_SOLICITUD_ESP.count())\n",
    "DATA_SIC_ENTIDADES_PUBLICAS_SOLICITUD_ESP.toPandas().to_csv(Ruta_Output + 'DATA_SIC_ENTIDADES_PUBLICAS_SOLICITUD_ESP2.csv', index=False, decimal=',', sep=';', float_format='%.4f', quoting=csv.QUOTE_NONNUMERIC)"
   ]
  },
  {
   "cell_type": "code",
   "execution_count": 7,
   "id": "7817f87e",
   "metadata": {},
   "outputs": [
    {
     "name": "stdout",
     "output_type": "stream",
     "text": [
      "DATA_SIC_SOLICITUD_ESP_UO_PV_JURIDICA - Registros:  55171\n"
     ]
    }
   ],
   "source": [
    "#Seleccionamos las personas físcias.\n",
    "DATA_SIC_SOLICITUDES_ESP_UO_PV_JURIDICA = DATA_SIC_SOLICITUDES_ESP_UO_PRIVADAS.where((F.col('Tipo_Persona') == 'J') | (F.col('Tipo_Persona').isNull())).dropDuplicates()\n",
    "if (guardarCSV):\n",
    "    DATA_SIC_SOLICITUDES_ESP_UO_PV_JURIDICA.toPandas().to_csv(Ruta_Output + 'DATA_SIC_SOLICITUD_ESP_UO_PV_JURIDICA.csv', index=False, sep =';')\n",
    "DATA_SIC_SOLICITUDES_ESP_UO_PV_JURIDICA.write.mode(\"overwrite\").parquet(Ruta_Output + \"DATA_SIC_SOLICITUD_ESP_UO_PV_JURIDICA\")\n",
    "print('DATA_SIC_SOLICITUD_ESP_UO_PV_JURIDICA - Registros: ',DATA_SIC_SOLICITUDES_ESP_UO_PV_JURIDICA.count())"
   ]
  },
  {
   "cell_type": "code",
   "execution_count": 8,
   "id": "42370d5c",
   "metadata": {},
   "outputs": [
    {
     "name": "stdout",
     "output_type": "stream",
     "text": [
      "DATA_SIC_SOLICITUD_ESP_UO_PV_FISICA - Registros:  269\n"
     ]
    }
   ],
   "source": [
    "#Seleccionamos personas juridicas.\n",
    "DATA_SIC_SOLICITUDES_ESP_UO_PV_FISICA = DATA_SIC_SOLICITUDES_ESP_UO_PRIVADAS.where(F.col('Tipo_Persona') != 'J').dropDuplicates()\n",
    "if (guardarCSV):\n",
    "    DATA_SIC_SOLICITUDES_ESP_UO_PV_FISICA.toPandas().to_csv(Ruta_Output + 'DATA_SIC_SOLICITUD_ESP_UO_PV_FISICA.csv', index=False, sep =';')\n",
    "DATA_SIC_SOLICITUDES_ESP_UO_PV_FISICA.write.mode(\"overwrite\").parquet(Ruta_Output + \"DATA_SIC_SOLICITUD_ESP_UO_PV_FISICA\")\n",
    "print('DATA_SIC_SOLICITUD_ESP_UO_PV_FISICA - Registros: ',DATA_SIC_SOLICITUDES_ESP_UO_PV_FISICA.count())"
   ]
  },
  {
   "cell_type": "code",
   "execution_count": 9,
   "id": "a3fa91de",
   "metadata": {},
   "outputs": [
    {
     "name": "stdout",
     "output_type": "stream",
     "text": [
      "DATA_SIC_SOLICITUD_ESP_UO_PV_J_MST_NIF - Registros:  11631\n"
     ]
    }
   ],
   "source": [
    "# Ejecucion Ficheros que cruzan \n",
    "DF_INPUT_ORIGENES_MAESTRO_CRUZA_NIF=cruza_NIF(DATA_SIC_SOLICITUDES_ESP_UO_PV_JURIDICA,\n",
    "                                               DATA_SIC_ENTIDADES_PUBLICAS_SOLICITUD_ESP,Ruta_Output,\n",
    "                                               'DATA_SIC_SOLICITUD_ESP_UO_PV_J_MST_NIF',guardarCSV)"
   ]
  },
  {
   "cell_type": "code",
   "execution_count": 10,
   "id": "09df5e52",
   "metadata": {},
   "outputs": [
    {
     "name": "stdout",
     "output_type": "stream",
     "text": [
      "DATA_SIC_SOLICITUD_ESP_UO_PV_J_NO_MST_NIF - Registros:  43558\n"
     ]
    }
   ],
   "source": [
    "# Solicitudes que NO cruzan con el maestro por NIF\n",
    "DF_INPUT_ORIGENES_MAESTRO_NO_CRUZA_NIF=NO_cruza_NIF(DATA_SIC_SOLICITUDES_ESP_UO_PV_JURIDICA,\n",
    "                                                    DATA_SIC_ENTIDADES_PUBLICAS_SOLICITUD_ESP,Ruta_Output,\n",
    "                                                    'DATA_SIC_SOLICITUD_ESP_UO_PV_J_NO_MST_NIF',guardarCSV)\n",
    "\n"
   ]
  },
  {
   "cell_type": "code",
   "execution_count": null,
   "id": "39de61b5",
   "metadata": {},
   "outputs": [
    {
     "name": "stdout",
     "output_type": "stream",
     "text": [
      "entra funcion comparacion\n"
     ]
    },
    {
     "name": "stderr",
     "output_type": "stream",
     "text": [
      "C:\\software\\python\\lib\\site-packages\\elasticsearch\\connection\\base.py:200: ElasticsearchWarning: Elasticsearch built-in security features are not enabled. Without authentication, your cluster could be accessible to anyone. See https://www.elastic.co/guide/en/elasticsearch/reference/7.16/security-minimal-setup.html to enable security.\n",
      "  warnings.warn(message, category=ElasticsearchWarning)\n",
      "100%|█████████████████████████████████████████████████████████████████████████████| 5021/5021 [00:20<00:00, 248.38it/s]\n",
      "100%|███████████████████████████████████████████████████████████████████████████| 43558/43558 [04:17<00:00, 169.24it/s]\n"
     ]
    },
    {
     "name": "stdout",
     "output_type": "stream",
     "text": [
      "entra funcion comparacion 2\n"
     ]
    }
   ],
   "source": [
    "#Método que obtiene las distancias.\n",
    "fichero_distancias=obtenerDistancias(spark,\n",
    "                                     DF_INPUT_ORIGENES_MAESTRO_NO_CRUZA_NIF,\n",
    "                                     DATA_SIC_ENTIDADES_PUBLICAS_SOLICITUD_ESP,\n",
    "                                     'Entidad_norm',\n",
    "                                     'Entidad_norm',\n",
    "                                     'Identificadores_Origen',\n",
    "                                     'Id',\n",
    "                                     Threshold,\n",
    "                                     Ruta_Output,\n",
    "                                     Ruta_Input,\n",
    "                                     guardarCSV)"
   ]
  },
  {
   "cell_type": "code",
   "execution_count": null,
   "id": "110b2a91",
   "metadata": {},
   "outputs": [],
   "source": [
    "DF_INPUT_ORIGENES_MAESTRO_CRUZA_NOMBRE = cruza_Nombre(fichero_distancias, DF_INPUT_ORIGENES_MAESTRO_NO_CRUZA_NIF,'Identificadores_Origen', Threshold,\n",
    "             Ruta_Output,'DATA_SIC_SOLICITUD_ESP_MST_NOMBRE',guardarCSV)"
   ]
  },
  {
   "cell_type": "code",
   "execution_count": null,
   "id": "10c4ee0e",
   "metadata": {},
   "outputs": [],
   "source": [
    "DF_INPUT_ORIGENES_MAESTRO_NO_CRUZA_NOMBRE=NO_cruza_Nombre(DF_INPUT_ORIGENES_MAESTRO_NO_CRUZA_NIF,\n",
    "                                                          DF_INPUT_ORIGENES_MAESTRO_CRUZA_NOMBRE,\n",
    "                                                          fichero_distancias,\n",
    "                                                          'Identificadores_Origen',\n",
    "                                                          Ruta_Output,'DATA_SIC_SOLICITUD_ESP_MST_NOMBRE_RESTO',guardarCSV)"
   ]
  },
  {
   "cell_type": "code",
   "execution_count": null,
   "id": "a1f6c7c5",
   "metadata": {},
   "outputs": [],
   "source": [
    "def consolidaMaestro(df_solicitudes,\n",
    "                     df_entidades,\n",
    "                     ruta_salida,\n",
    "                     fichero_solicitudes_nuevas,\n",
    "                     fichero_entidades_nuevas,\n",
    "                     nombre_fichero,\n",
    "                     guardarCVS):\n",
    "    Max_Id = df_entidades.withColumn('Id', df_entidades['Id'].cast(IntegerType())).groupby().max('Id').collect()[0][0]\n",
    "    \n",
    "    df_nueva_entidad = df_solicitudes.select('CIF', 'Entidad_Norm', 'Provincia_Entidad',f.col('Entidad').alias('Nombre_Entidad_Mostrar')).dropDuplicates()\n",
    "    df_nueva_entidad = df_nueva_entidad.withColumn('Provincia_Entidad', f.col(\"Provincia_Entidad\").cast(IntegerType()))\n",
    "    df_nueva_entidad =df_nueva_entidad.withColumn(\"Id\", monotonically_increasing_id()+Max_Id )\n",
    "    df_nueva_entidad =df_nueva_entidad.withColumn(\"ID_ENTIDAD\",f.lit('')).withColumn(\"NIF_COD\",f.lit('')).withColumn(\"ACRONIMO\",f.lit('')).withColumn(\"NOMBRE_ENTIDAD\",f.lit(''))\n",
    "    df_nueva_entidad =df_nueva_entidad.select(\"Id\", \"CIF\",\"Entidad_Norm\",\"Provincia_Entidad\",\"ID_ENTIDAD\",\"NIF_COD\",\"ACRONIMO\",\"NOMBRE_ENTIDAD\",\"Nombre_Entidad_Mostrar\")\n",
    "    df_nueva_entidad =df_nueva_entidad.withColumn(\"TIPO_ENTIDAD_N1_1\",f.lit('')).withColumn(\"TIPO_ENTIDAD_N2_1\",f.lit('')).withColumn(\"DIRECCION_POSTAL\",f.lit(''))\n",
    "    df_nueva_entidad =df_nueva_entidad.withColumn(\"COD_POSTAL\",f.lit('')).withColumn(\"COD_PROVINCIA\",f.lit('')).withColumn(\"PROVINCIA\",f.lit(''))\n",
    "    df_nueva_entidad =df_nueva_entidad.withColumn(\"COD_CCAA\",f.lit('')).withColumn(\"CCAA\",f.lit('')).withColumn(\"ENLACE_WEB\",f.lit(''))\n",
    "    df_nueva_entidad =df_nueva_entidad.withColumn(\"SOMMA\",f.lit('')).withColumn(\"TIPO_ENTIDAD_REGIONAL\",f.lit('')).withColumn(\"ESTADO_x\",f.lit(''))\n",
    "    df_nueva_entidad =df_nueva_entidad.withColumn(\"CodigoInvente\",f.lit('')).withColumn(\"DenominacionSocial\",f.lit('')).withColumn(\"FormaJuridica_Codigo\",f.lit(''))\n",
    "    df_nueva_entidad =df_nueva_entidad.withColumn(\"FormaJuridica_Descripcion\",f.lit('')).withColumn(\"NIF\",f.lit('')).withColumn(\"codigoDir3\",f.lit(''))\n",
    "    df_nueva_entidad =df_nueva_entidad.withColumn(\"codigoOrigen\",f.lit('')).withColumn(\"Provincia_Codigo\",f.lit('')).withColumn(\"C_ID_UD_ORGANICA\",f.lit(''))\n",
    "    df_nueva_entidad =df_nueva_entidad.withColumn(\"C_DNM_UD_ORGANICA\",f.lit('')).withColumn(\"C_ID_NIVEL_ADMON\",f.lit('')).withColumn(\"C_ID_TIPO_ENT_PUBLICA\",f.lit(''))\n",
    "    df_nueva_entidad =df_nueva_entidad.withColumn(\"N_NIVEL_JERARQUICO\",f.lit('')).withColumn(\"C_ID_DEP_UD_SUPERIOR\",f.lit('')).withColumn(\"C_DNM_UD_ORGANICA_SUPERIOR\",f.lit(''))\n",
    "    df_nueva_entidad =df_nueva_entidad.withColumn(\"C_ID_DEP_UD_PRINCIPAL\",f.lit('')).withColumn(\"C_DNM_UD_ORGANICA_PRINCIPAL\",f.lit('')).withColumn(\"B_SW_DEP_EDP_PRINCIPAL\",f.lit(''))\n",
    "    df_nueva_entidad =df_nueva_entidad.withColumn(\"C_ID_DEP_EDP_PRINCIPAL\",f.lit('')).withColumn(\"C_DNM_UD_ORGANICA_EDP_PRINCIPAL\",f.lit('')).withColumn(\"C_ID_ESTADO\",f.lit(''))\n",
    "    df_nueva_entidad =df_nueva_entidad.withColumn(\"D_VIG_ALTA_OFICIAL\",f.lit('')).withColumn(\"NIF_CIF\",f.lit('')).withColumn(\"C_ID_AMB_PROVINCIA\",f.lit(''))\n",
    "    df_nueva_entidad =df_nueva_entidad.withColumn(\"C_DESC_PROV\",f.lit('')).withColumn(\"C_DESC_PROV\",f.lit('')).withColumn(\"CONTACTOS\",f.lit(''))\n",
    "    df_nueva_entidad =df_nueva_entidad.dropDuplicates()\n",
    "    if(guardarCVS):  \n",
    "        df_nueva_entidad.toPandas().to_csv(ruta_salida + fichero_entidades_nuevas + '.csv', index=False, decimal=',', sep=';', float_format='%.4f', quoting=csv.QUOTE_NONNUMERIC)\n",
    "    df_nueva_entidad.write.mode(\"overwrite\").parquet(ruta_salida + fichero_entidades_nuevas)\n",
    "    print(fichero_entidades_nuevas +' - Registros: ',df_nueva_entidad.count())\n",
    "    \n",
    "    df_retorno=df_entidades.union(df_nueva_entidad)\n",
    "    \n",
    "    if(guardarCVS):  \n",
    "        df_retorno.toPandas().to_csv(ruta_salida + nombre_fichero + '.csv', index=False, decimal=',', sep=';', float_format='%.4f', quoting=csv.QUOTE_NONNUMERIC)\n",
    "    df_retorno.write.mode(\"overwrite\").parquet(ruta_salida + nombre_fichero)\n",
    "    print(nombre_fichero +' - Registros: ',df_retorno.count())\n",
    "\n",
    "    df_nuevas_solicitudes=df_nueva_entidad.alias('a').join(df_solicitudes.alias('b'), \n",
    "                                                (f.col('a.CIF')==f.col('b.CIF')) &\n",
    "                                                (f.col('a.Entidad_Norm')==f.col('b.Entidad_Norm')) &\n",
    "                                                (f.col('a.Provincia_Entidad').eqNullSafe(f.col('b.Provincia_Entidad'))) &\n",
    "                                                (f.col('a.Nombre_Entidad_Mostrar')==f.col('b.Entidad')) \n",
    "                                                , how=\"inner\").select('a.Id','b.*')\n",
    "    df_nuevas_solicitudes=df_nuevas_solicitudes.dropDuplicates()\n",
    "    if(guardarCVS):  \n",
    "        df_nuevas_solicitudes.toPandas().to_csv(ruta_salida + fichero_solicitudes_nuevas + '.csv', index=False, decimal=',', sep=';', float_format='%.4f', quoting=csv.QUOTE_NONNUMERIC)\n",
    "    df_nuevas_solicitudes.write.mode(\"overwrite\").parquet(ruta_salida + fichero_solicitudes_nuevas)\n",
    "    print(fichero_solicitudes_nuevas +' - Registros: ',df_nuevas_solicitudes.count())                               \n",
    "    return df_retorno"
   ]
  },
  {
   "cell_type": "code",
   "execution_count": null,
   "id": "40a7d0e4",
   "metadata": {},
   "outputs": [],
   "source": [
    "\n",
    "consolidaMaestro(DF_INPUT_ORIGENES_MAESTRO_NO_CRUZA_NOMBRE,\n",
    "                 DATA_SIC_ENTIDADES_PUBLICAS_SOLICITUD_ESP,\n",
    "                 Ruta_Output,\n",
    "                 'DATA_SIC_SOLICITUD_ESP_UO_PB_J_MAESTRO',\n",
    "                 'DATA_SIC_NUEVA_ENTIDAD_ESP_MST_NOMBRE_RESTO',\n",
    "                 'DATA_SIC_ENTIDADES_MAESTRO_SOLICITUD_ESP',\n",
    "                 guardarCSV)"
   ]
  },
  {
   "cell_type": "code",
   "execution_count": null,
   "id": "79c68866",
   "metadata": {},
   "outputs": [],
   "source": [
    "DATA_SIC_SOLICITUD_ESP_UO_PB_J_MAESTRO =DATA_SIC_SOLICITUD_ESP_UO_PB_J_MAESTRO.dropDuplicates()\n",
    "DATA_SIC_SOLICITUD_ESP_UO_PB_J_MAESTRO.count()"
   ]
  },
  {
   "cell_type": "code",
   "execution_count": null,
   "id": "697125b0",
   "metadata": {},
   "outputs": [],
   "source": []
  }
 ],
 "metadata": {
  "kernelspec": {
   "display_name": "Python 3 (ipykernel)",
   "language": "python",
   "name": "python3"
  },
  "language_info": {
   "codemirror_mode": {
    "name": "ipython",
    "version": 3
   },
   "file_extension": ".py",
   "mimetype": "text/x-python",
   "name": "python",
   "nbconvert_exporter": "python",
   "pygments_lexer": "ipython3",
   "version": "3.9.7"
  }
 },
 "nbformat": 4,
 "nbformat_minor": 5
}
