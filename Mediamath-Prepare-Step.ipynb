{
 "cells": [
  {
   "cell_type": "code",
   "execution_count": 17,
   "id": "4abc92f5",
   "metadata": {},
   "outputs": [
    {
     "name": "stderr",
     "output_type": "stream",
     "text": [
      "UsageError: Cell magic `%%configure` not found.\n"
     ]
    }
   ],
   "source": [
    "%%configure -f\n",
    "{\n",
    "    \"driverMemory\": \"8G\", \n",
    "    \"executorCores\": 2, \n",
    "    \"numExecutors\": 2, \n",
    "    \"executorMemory\": \"16G\",\n",
    "    \"kind\": \"pyspark3\",\n",
    "    \"conf\":{\n",
    "        \"spark.pyspark.python\": \"python3\",\n",
    "        \"spark.pyspark.virtualenv.enabled\": \"true\",\n",
    "        \"spark.pyspark.virtualenv.type\":\"native\",\n",
    "        \"spark.pyspark.virtualenv.bin.path\":\"/usr/bin/virtualenv\"\n",
    "    }\n",
    "}"
   ]
  },
  {
   "cell_type": "code",
   "execution_count": 21,
   "id": "afc1c1ab",
   "metadata": {},
   "outputs": [
    {
     "name": "stdout",
     "output_type": "stream",
     "text": [
      "Collecting pyspark\n",
      "  Downloading pyspark-3.3.0.tar.gz (281.3 MB)\n",
      "\u001b[K     |████████████████████████████████| 281.3 MB 124 kB/s eta 0:00:01    |█▋                              | 13.7 MB 744 kB/s eta 0:06:00     |██▏                             | 18.8 MB 205 kB/s eta 0:21:18     |█████████████████▌              | 153.4 MB 439 kB/s eta 0:04:52\n",
      "\u001b[?25hCollecting py4j==0.10.9.5\n",
      "  Downloading py4j-0.10.9.5-py2.py3-none-any.whl (199 kB)\n",
      "\u001b[K     |████████████████████████████████| 199 kB 637 kB/s eta 0:00:01\n",
      "\u001b[?25hBuilding wheels for collected packages: pyspark\n",
      "  Building wheel for pyspark (setup.py) ... \u001b[?25ldone\n",
      "\u001b[?25h  Created wheel for pyspark: filename=pyspark-3.3.0-py2.py3-none-any.whl size=281764027 sha256=5ced2b284f4d8e6868233b14f2b955666d1ad9e17893a3c5e816eb6e35afa5e7\n",
      "  Stored in directory: /Users/arturo/Library/Caches/pip/wheels/05/75/73/81f84d174299abca38dd6a06a5b98b08ae25fce50ab8986fa1\n",
      "Successfully built pyspark\n",
      "Installing collected packages: py4j, pyspark\n",
      "Successfully installed py4j-0.10.9.5 pyspark-3.3.0\n",
      "Note: you may need to restart the kernel to use updated packages.\n"
     ]
    }
   ],
   "source": [
    "pip install pyspark"
   ]
  },
  {
   "cell_type": "code",
   "execution_count": 2,
   "id": "cf958b3f",
   "metadata": {},
   "outputs": [
    {
     "name": "stderr",
     "output_type": "stream",
     "text": [
      "Setting default log level to \"WARN\".\n",
      "To adjust logging level use sc.setLogLevel(newLevel). For SparkR, use setLogLevel(newLevel).\n"
     ]
    },
    {
     "name": "stdout",
     "output_type": "stream",
     "text": [
      "22/07/17 08:42:39 WARN NativeCodeLoader: Unable to load native-hadoop library for your platform... using builtin-java classes where applicable\n",
      "22/07/17 08:42:40 WARN Utils: Service 'SparkUI' could not bind on port 4040. Attempting port 4041.\n"
     ]
    }
   ],
   "source": [
    "from pyspark.context import SparkContext\n",
    "sc = SparkContext('local', 'test')"
   ]
  },
  {
   "cell_type": "code",
   "execution_count": 3,
   "id": "faee186e",
   "metadata": {},
   "outputs": [],
   "source": [
    "from pyspark.sql import SparkSession\n",
    "spark = SparkSession.builder.master(\"local[1]\") \\\n",
    "                    .appName('SparkByExamples.com') \\\n",
    "                    .getOrCreate()"
   ]
  },
  {
   "cell_type": "code",
   "execution_count": 6,
   "id": "8921ecc8",
   "metadata": {},
   "outputs": [],
   "source": [
    "DEBUG = True\n",
    "# PACKAGES = []\n",
    "\n",
    "# def install_packages():\n",
    "#     for pkg in PACKAGES:\n",
    "#         sc.install_pypi_package(pkg)\n",
    "\n",
    "        \n",
    "# def uninstall_packages():\n",
    "#     for pkg in PACKAGES:\n",
    "#         sc.uninstall_package(pkg)\n",
    "\n",
    "\n",
    "# uninstall_packages()\n",
    "# install_packages()\n",
    "# sc.list_packages()"
   ]
  },
  {
   "cell_type": "markdown",
   "id": "8a591a8e",
   "metadata": {},
   "source": [
    "### INPUT VALUES"
   ]
  },
  {
   "cell_type": "code",
   "execution_count": 4,
   "id": "0e3ca57e",
   "metadata": {},
   "outputs": [],
   "source": [
    "_segments = 'pf_a18,pf_a25,pf_a35,pf_a45,pf_a55,pf_a65,pf_cd,pf_cfe,pf_diy,pf_ee,pf_fcf,pf_fd,pf_ff,pf_food,pf_gc,pf_ge,pf_he,pf_me,pf_oe,pf_pe,pf_s_bb,pf_s_cc,pf_s_cl,pf_s_cv,pf_s_ds,pf_s_em,pf_s_gc,pf_s_lx,pf_se,prg_357,prg_622,prg_635,prg_636,pf_aa,pf_as,pf_fp,pf_h,pf_in,pf_jp,pf_bk,pf_dd,pf_den,pf_dom,pf_ihp,pf_mcd,pf_ph,pf_pj,pf_pt,pf_sb,pf_tb,pf_tgf,prg_554,prg_555,prg_556,prg_557,prg_558,prg_559,prg_560,prg_561,prg_562,prg_563,prg_564,prg_565,prg_566,prg_567,prg_573,prg_574,prg_575,prg_576,prg_577,prg_578,pf_f,pf_m,pf_100,pf_150,pf_250,pf_251,pf_50,pf_ai,pf_apln,pf_cell,prg_055,prg_056,prg_057,prg_470,prg_471,prg_472,prg_473,prg_474,prg_475,prg_476,prg_477,prg_478,prg_479,prg_480,prg_481,prg_482,prg_483,prg_484,prg_485,prg_486,prg_495,prg_496,prg_497,prg_498,prg_499,prg_500,prg_501,prg_502,prg_547,prg_548,prg_549,prg_568,prg_579,prg_608,prg_618,prg_619,pf_21,pf_bt,pf_gam,pf_hce,pf_kid,pf_lt,pf_st,pf_te,prg_005,prg_358,prg_366,prg_623,prg_634,prg_673,prg_677,prg_678,prg_706,prg_708,pf_aapl,pf_ace,pf_bbb,pf_bby,pf_bro,pf_cos,pf_cvs,pf_hd,pf_krog,pf_low,pf_mcy,pf_msft,pf_old,pf_sam,pf_tgt,pf_wdr,pf_wmt,prg_011,prg_020,prg_021,prg_022,prg_023,prg_024,prg_028,prg_029,prg_030,prg_031,prg_049,prg_050,prg_051,prg_104,prg_138,prg_139,prg_140,prg_141,prg_142,prg_143,prg_144,prg_145,prg_146,prg_147,prg_148,prg_149,prg_150,prg_151,prg_153,prg_154,prg_552,prg_553,prg_569,prg_570,prg_571,prg_572,prg_580,prg_599,prg_605,prg_607,prg_609,prg_610,prg_611,prg_612,prg_617,prg_620,prg_628,prg_629,prg_631,prg_638,prg_639,prg_640,prg_642,prg_643,prg_644,prg_645,prg_646,prg_684,prg_685,prg_695,prg_696,prg_697,prg_701,pf_htch,pf_htnch,prg_058,prg_059,prg_060,prg_061,prg_062,prg_063,prg_064,prg_132,prg_133,prg_326,prg_327,prg_328,prg_370,prg_367,ts_073,prg_387,prg_392,prg_445,prg_446,prg_447,prg_487,prg_488,prg_489,prg_490,prg_491,prg_492,prg_493,prg_494,prg_516,prg_517,prg_518,prg_519,prg_591,prg_728,prg_732,prg_734,prg_744,prg_745,prg_771,prg_772,prg_773,prg_774,prg_775,prg_766,prg_776,prg_780,prg_781,prg_782,prg_783,prg_790,prg_791,prg_784,prg_785,prg_786,prg_787,prg_804,prg_811,prg_812,prg_813,prg_814,prg_815,prg_816,prg_817,prg_818,prg_819,prg_820,prg_835,prg_836,prg_840,prg_841,prg_842'\n",
    "ticket = 'ENG-10388-2'"
   ]
  },
  {
   "cell_type": "code",
   "execution_count": 5,
   "id": "0aec99a0",
   "metadata": {},
   "outputs": [],
   "source": [
    "segments = re.findall(r\"[\\w]+\", _segments)"
   ]
  },
  {
   "cell_type": "code",
   "execution_count": 9,
   "id": "83c19869",
   "metadata": {},
   "outputs": [],
   "source": [
    "segments = ['pf_a18','pf_a25','pf_a35','pf_a45','pf_a55','pf_a65','pf_cd','pf_cfe','pf_diy','pf_ee','pf_fcf','pf_fd','pf_ff','pf_food','pf_gc','pf_ge','pf_he','pf_me','pf_oe','pf_pe','pf_s_bb','pf_s_cc','pf_s_cl','pf_s_cv','pf_s_ds','pf_s_em','pf_s_gc','pf_s_lx','pf_se','prg_357','prg_622','prg_635','prg_636','pf_aa','pf_as','pf_fp','pf_h','pf_in','pf_jp','pf_bk','pf_dd','pf_den','pf_dom','pf_ihp','pf_mcd','pf_ph','pf_pj','pf_pt','pf_sb','pf_tb','pf_tgf','prg_554','prg_555','prg_556','prg_557','prg_558','prg_559','prg_560','prg_561','prg_562','prg_563','prg_564','prg_565','prg_566','prg_567','prg_573','prg_574','prg_575','prg_576','prg_577','prg_578','pf_f','pf_m','pf_100','pf_150','pf_250','pf_251','pf_50','pf_ai','pf_apln','pf_cell','prg_055','prg_056','prg_057','prg_470','prg_471','prg_472','prg_473','prg_474','prg_475','prg_476','prg_477','prg_478','prg_479','prg_480','prg_481','prg_482','prg_483','prg_484','prg_485','prg_486','prg_495','prg_496','prg_497','prg_498','prg_499','prg_500','prg_501','prg_502','prg_547','prg_548','prg_549','prg_568','prg_579','prg_608','prg_618','prg_619','pf_21','pf_bt','pf_gam','pf_hce','pf_kid','pf_lt','pf_st','pf_te','prg_005','prg_358','prg_366','prg_623','prg_634','prg_673','prg_677','prg_678','prg_706','prg_708','pf_aapl','pf_ace','pf_bbb','pf_bby','pf_bro','pf_cos','pf_cvs','pf_hd','pf_krog','pf_low','pf_mcy','pf_msft','pf_old','pf_sam','pf_tgt','pf_wdr','pf_wmt','prg_011','prg_020','prg_021','prg_022','prg_023','prg_024','prg_028','prg_029','prg_030','prg_031','prg_049','prg_050','prg_051','prg_104','prg_138','prg_139','prg_140','prg_141','prg_142','prg_143','prg_144','prg_145','prg_146','prg_147','prg_148','prg_149','prg_150','prg_151','prg_153','prg_154','prg_552','prg_553','prg_569','prg_570','prg_571','prg_572','prg_580','prg_599','prg_605','prg_607','prg_609','prg_610','prg_611','prg_612','prg_617','prg_620','prg_628','prg_629','prg_631','prg_638','prg_639','prg_640','prg_642','prg_643','prg_644','prg_645','prg_646','prg_684','prg_685','prg_695','prg_696','prg_697','prg_701','pf_htch','pf_htnch','prg_058','prg_059','prg_060','prg_061','prg_062','prg_063','prg_064','prg_132','prg_133','prg_326','prg_327','prg_328','prg_370','prg_367','ts_073','prg_387','prg_392','prg_445','prg_446','prg_447','prg_487','prg_488','prg_489','prg_490','prg_491','prg_492','prg_493','prg_494','prg_516','prg_517','prg_518','prg_519','prg_591','prg_728','prg_732','prg_734','prg_744','prg_745','prg_771','prg_772','prg_773','prg_774','prg_775','prg_766','prg_776','prg_780','prg_781','prg_782','prg_783','prg_790','prg_791','prg_784','prg_785','prg_786','prg_787','prg_804','prg_811','prg_812','prg_813','prg_814','prg_815','prg_816','prg_817','prg_818','prg_819','prg_820','prg_835','prg_836','prg_840','prg_841','prg_842']"
   ]
  },
  {
   "cell_type": "code",
   "execution_count": 10,
   "id": "6d807f71",
   "metadata": {},
   "outputs": [
    {
     "data": {
      "text/plain": [
       "'pf_a18'"
      ]
     },
     "execution_count": 10,
     "metadata": {},
     "output_type": "execute_result"
    }
   ],
   "source": [
    "segments[0]"
   ]
  },
  {
   "cell_type": "markdown",
   "id": "865fb195",
   "metadata": {},
   "source": [
    "### PARAMETERS: LOCATIONS, DATASET NAMES, SFTP SETTINGS"
   ]
  },
  {
   "cell_type": "code",
   "execution_count": 85,
   "id": "5a2ca8c1",
   "metadata": {},
   "outputs": [
    {
     "data": {
      "text/plain": [
       "True"
      ]
     },
     "execution_count": 85,
     "metadata": {},
     "output_type": "execute_result"
    }
   ],
   "source": [
    "True if re.match(\"^[A-F0-9\\-]{36}$\", \"BAF7CF94-9F15-4F03-88B2-D3FFA1AD3F81\") else False"
   ]
  },
  {
   "cell_type": "code",
   "execution_count": 6,
   "id": "7af3c67b",
   "metadata": {},
   "outputs": [],
   "source": [
    "import re, datetime\n",
    "from IPython.display import display_html, HTML, FileLink, display\n",
    "#from integration.common import isIDFA, isADID, isSHA1, isMD5, isAndroidID\n",
    "\n",
    "def isIDFA(id):\n",
    "    return True if re.match(\"^[A-F0-9\\-]{36}$\", id) else False    \n",
    "\n",
    "def isADID(id):\n",
    "    return True if re.match(\"^[a-f0-9\\-]{36}$\", id) else False\n",
    "\n",
    "def isSHA1(id):\n",
    "    return True if re.match(\"^[A-Za-z0-9]{40}$\", id) else False\n",
    "\n",
    "def isMD5(id):\n",
    "    return True if re.match(\"^[A-Za-z0-9]{32}$\", id) else False\n",
    "\n",
    "\n",
    "def isAndroidID(id):\n",
    "    return True if re.match(\"^[A-Za-z0-9]{16}$\", id) else False\n",
    "\n",
    "\n",
    "# segments = re.findall(r\"[\\w]+\", _segments)\n",
    "#print(segments)\n",
    "\n",
    "# partner_name = 'mediamath'\n",
    "\n",
    "data_location_bucket_1 = 'im-audience-profiles'\n",
    "data_location_1 = f's3a://{data_location_bucket_1}/'\n",
    "\n",
    "# output_data_location_bucket = 'notebooks-common'\n",
    "# output_data_location = f's3a://{output_data_location_bucket}/'\n",
    "\n",
    "# output_dataset_name = f'data/datatrain/production/integration/{partner_name}/mm_prepare_{ticket}.csv'\n",
    "# output_dataset = output_data_location + output_dataset_name\n",
    "\n",
    "# output_temp_dataset_name = f'tmp/{partner_name}/{partner_name}_{ticket}.csv'\n",
    "# output_temp_dataset = output_data_location + output_temp_dataset_name\n",
    "# output_temp_dataset\n",
    "# output_dataset_partitions = 4\n",
    "\n",
    "# print(output_dataset, output_temp_dataset)\n",
    "\n",
    "# SFTP_FILE_SIZE_LIMIT = 4 * 1024 ** 3 # 4 GB per file\n",
    "# SFTP_QUOTA = 20 * 1024 ** 3 # 20 GB per day\n",
    "# SFTP_FILES_NUMBER_FACTOR = 4 # increase this if you want to have more files at the end (smaller files)"
   ]
  },
  {
   "cell_type": "markdown",
   "id": "255ef0d7",
   "metadata": {},
   "source": [
    "### COMMON FUNCTIONS"
   ]
  },
  {
   "cell_type": "code",
   "execution_count": null,
   "id": "9ce2862c",
   "metadata": {},
   "outputs": [],
   "source": [
    "import json\n",
    "import boto3\n",
    "from integration.utils.s3 import S3Bucket\n",
    "from integration.utils.spark import save_rdd, create_files_for_sftp"
   ]
  },
  {
   "cell_type": "markdown",
   "id": "cc69eeda",
   "metadata": {},
   "source": [
    "### CLEAN TEMP FOLDER"
   ]
  },
  {
   "cell_type": "code",
   "execution_count": null,
   "id": "10da02a9",
   "metadata": {},
   "outputs": [],
   "source": [
    "s3_client = boto3.client('s3')\n",
    "\n",
    "s3_profiles_bucket = S3Bucket(bucket=data_location_bucket_1, client=s3_client)\n",
    "s3_common_bucket = S3Bucket(bucket=output_data_location_bucket, client=s3_client)\n",
    "print(s3_common_bucket.get_folder_size(output_temp_dataset_name))\n",
    "s3_common_bucket.remove_files_from_folder(output_temp_dataset_name)"
   ]
  },
  {
   "cell_type": "markdown",
   "id": "b0bee014",
   "metadata": {},
   "source": [
    "### SEGMENTS VALIDATION"
   ]
  },
  {
   "cell_type": "code",
   "execution_count": 4,
   "id": "f8ec51e8",
   "metadata": {},
   "outputs": [
    {
     "name": "stdout",
     "output_type": "stream",
     "text": [
      "288 of 288 segments have been found in S3\n"
     ]
    }
   ],
   "source": [
    "previous_segments = list(segments)\n",
    "segments = [s for s in segments if True]\n",
    "print(f'{len(segments)} of {len(previous_segments)} segments have been found in S3')"
   ]
  },
  {
   "cell_type": "code",
   "execution_count": 7,
   "id": "c26cbf8e",
   "metadata": {},
   "outputs": [
    {
     "name": "stdout",
     "output_type": "stream",
     "text": [
      "2\n"
     ]
    }
   ],
   "source": [
    "if DEBUG:\n",
    "    segments = segments[:2]\n",
    "print(len(segments))"
   ]
  },
  {
   "cell_type": "code",
   "execution_count": 8,
   "id": "eb1679ef",
   "metadata": {},
   "outputs": [
    {
     "data": {
      "text/plain": [
       "['pf_a18', 'pf_a25']"
      ]
     },
     "execution_count": 8,
     "metadata": {},
     "output_type": "execute_result"
    }
   ],
   "source": [
    "segments"
   ]
  },
  {
   "cell_type": "code",
   "execution_count": 9,
   "id": "1a8abfb1",
   "metadata": {},
   "outputs": [],
   "source": [
    "import math\n",
    "\n",
    "size_per_partitions = 128 * 1024**2 \n",
    "def calculate_partitions(segments):\n",
    "    if len(segments) > 0:\n",
    "        segment_size = 0\n",
    "        for seg in segments:\n",
    "            size = 2000\n",
    "            segment_size += size\n",
    "        print(\"Total Segments Size: \", segment_size)\n",
    "        num_partitions = math.ceil(segment_size / size_per_partitions)\n",
    "        print(\"Total Partitions: \", num_partitions)\n",
    "        return num_partitions\n",
    "    else:\n",
    "        return 1"
   ]
  },
  {
   "cell_type": "code",
   "execution_count": 16,
   "id": "adbeaa61",
   "metadata": {},
   "outputs": [
    {
     "data": {
      "text/plain": [
       "134217728"
      ]
     },
     "execution_count": 16,
     "metadata": {},
     "output_type": "execute_result"
    }
   ],
   "source": [
    "size_per_partitions = 128 * (1024**2 )\n",
    "size_per_partitions"
   ]
  },
  {
   "cell_type": "code",
   "execution_count": 40,
   "id": "bce79809",
   "metadata": {},
   "outputs": [],
   "source": [
    "import time, datetime, string\n",
    "\n",
    "date = datetime.date.today()\n",
    "printable = set(string.printable)\n",
    "\n",
    "#files = [data_location_1 + seg for seg in segments]"
   ]
  },
  {
   "cell_type": "code",
   "execution_count": 7,
   "id": "86e06a7a",
   "metadata": {},
   "outputs": [],
   "source": [
    "files=[\"acxp_124\", \"acxp_125\"]"
   ]
  },
  {
   "cell_type": "code",
   "execution_count": 8,
   "id": "989f5c8f",
   "metadata": {},
   "outputs": [
    {
     "data": {
      "text/plain": [
       "'acxp_124,acxp_125'"
      ]
     },
     "execution_count": 8,
     "metadata": {},
     "output_type": "execute_result"
    }
   ],
   "source": [
    "','.join(files)"
   ]
  },
  {
   "cell_type": "code",
   "execution_count": 59,
   "id": "f0315f7d",
   "metadata": {},
   "outputs": [
    {
     "ename": "NameError",
     "evalue": "name 'calculate_partitions' is not defined",
     "output_type": "error",
     "traceback": [
      "\u001b[0;31m---------------------------------------------------------------------------\u001b[0m",
      "\u001b[0;31mNameError\u001b[0m                                 Traceback (most recent call last)",
      "\u001b[0;32m/var/folders/fy/cjds5kvd3692g8__1nlvytj00000gn/T/ipykernel_17552/4064080985.py\u001b[0m in \u001b[0;36m<module>\u001b[0;34m\u001b[0m\n\u001b[0;32m----> 1\u001b[0;31m \u001b[0mnum_partitions\u001b[0m \u001b[0;34m=\u001b[0m \u001b[0mcalculate_partitions\u001b[0m\u001b[0;34m(\u001b[0m\u001b[0msegments\u001b[0m\u001b[0;34m)\u001b[0m\u001b[0;34m\u001b[0m\u001b[0;34m\u001b[0m\u001b[0m\n\u001b[0m",
      "\u001b[0;31mNameError\u001b[0m: name 'calculate_partitions' is not defined"
     ]
    }
   ],
   "source": [
    "num_partitions = calculate_partitions(segments)"
   ]
  },
  {
   "cell_type": "code",
   "execution_count": 28,
   "id": "eaac5855",
   "metadata": {},
   "outputs": [],
   "source": [
    "rdd = sc.textFile(','.join(files)).repartition(5)"
   ]
  },
  {
   "cell_type": "code",
   "execution_count": 36,
   "id": "6f4eed51",
   "metadata": {},
   "outputs": [
    {
     "data": {
      "text/plain": [
       "PythonRDD[22] at RDD at PythonRDD.scala:53"
      ]
     },
     "execution_count": 36,
     "metadata": {},
     "output_type": "execute_result"
    }
   ],
   "source": [
    "rdd.map(lambda x: \"\".join([y for y in x if y in printable]))"
   ]
  },
  {
   "cell_type": "code",
   "execution_count": 24,
   "id": "28f633f9",
   "metadata": {
    "scrolled": true
   },
   "outputs": [],
   "source": [
    "import time, datetime, string\n",
    "\n",
    "date = datetime.date.today()\n",
    "printable = set(string.printable)"
   ]
  },
  {
   "cell_type": "markdown",
   "id": "6ce2ce0a",
   "metadata": {},
   "source": [
    "### DATA PROCESSING"
   ]
  },
  {
   "cell_type": "code",
   "execution_count": 29,
   "id": "be737f35",
   "metadata": {},
   "outputs": [],
   "source": [
    "\n",
    "\n",
    "\n",
    "\n",
    "devices = (rdd\n",
    "    .map(lambda x: \"\".join([y for y in x if y in printable]))\n",
    "    .filter(lambda x: (isIDFA(str(x.split(',')[0])) or isADID(str(x.split(',')[0]))))\n",
    "    .map(lambda row: (row.split(',')[0], row.split(',')[1]))\n",
    "    .groupByKey()\n",
    "    .map(lambda x : x[0] + ',' + \",\".join(x[1]))\n",
    "    .cache()\n",
    ")\n"
   ]
  },
  {
   "cell_type": "code",
   "execution_count": null,
   "id": "08bead43",
   "metadata": {},
   "outputs": [],
   "source": []
  },
  {
   "cell_type": "code",
   "execution_count": 11,
   "id": "a8d58388",
   "metadata": {},
   "outputs": [],
   "source": [
    "from pyspark.sql import Row"
   ]
  },
  {
   "cell_type": "code",
   "execution_count": 30,
   "id": "83fbc4c6",
   "metadata": {},
   "outputs": [],
   "source": [
    "df1 = devices.map(lambda x: Row(x)).toDF()"
   ]
  },
  {
   "cell_type": "code",
   "execution_count": 31,
   "id": "abdb75b6",
   "metadata": {},
   "outputs": [
    {
     "name": "stdout",
     "output_type": "stream",
     "text": [
      "+------------------------------------------------------+\n",
      "|_1                                                    |\n",
      "+------------------------------------------------------+\n",
      "|FEF02AFA-40D9-4E9A-B2B6-8C6E339DAEBC,acxp_124,acxp_125|\n",
      "|F2608DD7-5BD3-4687-9AB9-E28425DF7AC6,acxp_124         |\n",
      "|1BF4C3F9-EF1D-4540-A741-9CA0FAF17C2F,acxp_124         |\n",
      "|9de37c37-0187-4d5e-9a23-cd0c29244c76,acxp_124         |\n",
      "|dd1b3dc9-32a7-4b6f-8abc-450450c5b56f,acxp_125         |\n",
      "|38FFCC08-2856-4A53-BED1-A93E4816EA2A,acxp_125         |\n",
      "|be9df499-e28f-4770-b973-e80de1cc52be,acxp_125         |\n",
      "|569cf8f1-b448-4ec9-b8e4-36f13dfe8bf5,acxp_124         |\n",
      "|20B1D00B-8C67-491A-9A75-50FEAEAD354D,acxp_124         |\n",
      "|242da4e2-ae93-45da-bb19-0df325003e37,acxp_125         |\n",
      "|1ca342a8-8d11-4614-9f30-a5ab79fa0ce6,acxp_125         |\n",
      "|4ef38d98-5da0-42e4-816e-024584992c55,acxp_124         |\n",
      "|80299F70-F155-4F42-81ED-55B15774E596,acxp_125         |\n",
      "|c9a14ac3-9060-4490-aaf2-dfd0607af607,acxp_125         |\n",
      "+------------------------------------------------------+\n",
      "\n"
     ]
    }
   ],
   "source": [
    "df1.show(truncate = False)"
   ]
  },
  {
   "cell_type": "code",
   "execution_count": 32,
   "id": "a29e0a12",
   "metadata": {},
   "outputs": [
    {
     "ename": "NameError",
     "evalue": "name 'Seq' is not defined",
     "output_type": "error",
     "traceback": [
      "\u001b[0;31m---------------------------------------------------------------------------\u001b[0m",
      "\u001b[0;31mNameError\u001b[0m                                 Traceback (most recent call last)",
      "\u001b[0;32m/var/folders/fy/cjds5kvd3692g8__1nlvytj00000gn/T/ipykernel_23690/421129647.py\u001b[0m in \u001b[0;36m<module>\u001b[0;34m\u001b[0m\n\u001b[0;32m----> 1\u001b[0;31m \u001b[0mSeq\u001b[0m\u001b[0;34m(\u001b[0m\u001b[0;34m\"1,2,3\"\u001b[0m\u001b[0;34m)\u001b[0m\u001b[0;34m\u001b[0m\u001b[0;34m\u001b[0m\u001b[0m\n\u001b[0m",
      "\u001b[0;31mNameError\u001b[0m: name 'Seq' is not defined"
     ]
    }
   ],
   "source": []
  },
  {
   "cell_type": "code",
   "execution_count": null,
   "id": "bce89caa",
   "metadata": {},
   "outputs": [],
   "source": []
  },
  {
   "cell_type": "code",
   "execution_count": null,
   "id": "3ec3faea",
   "metadata": {},
   "outputs": [],
   "source": []
  },
  {
   "cell_type": "code",
   "execution_count": null,
   "id": "63106f27",
   "metadata": {},
   "outputs": [],
   "source": []
  },
  {
   "cell_type": "code",
   "execution_count": 47,
   "id": "93fdadbf",
   "metadata": {},
   "outputs": [],
   "source": [
    "def save_rdd(rdd, output_path, partitions=0, compression=None):\n",
    "    if partitions > 0:\n",
    "        rdd = rdd.repartition(partitions)\n",
    "    \n",
    "    compression_codec_cls = None\n",
    "    if compression == 'gzip':\n",
    "        compression_codec_cls = \"org.apache.hadoop.io.compress.GzipCodec\"\n",
    "    \n",
    "    rdd.saveAsTextFile(\n",
    "        output_path, \n",
    "        compressionCodecClass=compression_codec_cls\n",
    "    )"
   ]
  },
  {
   "cell_type": "code",
   "execution_count": 64,
   "id": "891f1160",
   "metadata": {},
   "outputs": [
    {
     "name": "stderr",
     "output_type": "stream",
     "text": [
      "                                                                                \r"
     ]
    }
   ],
   "source": [
    "save_rdd(devices, \"/Users/arturo/repos/repos/2090/tn-spark-etl/test3/\")"
   ]
  },
  {
   "cell_type": "markdown",
   "id": "6d4a86d9",
   "metadata": {},
   "source": [
    "### CLEAN OUTPUT FOLDER"
   ]
  },
  {
   "cell_type": "code",
   "execution_count": null,
   "id": "b4acf5b3",
   "metadata": {},
   "outputs": [],
   "source": [
    "print(s3_common_bucket.get_folder_size(output_dataset_name))\n",
    "s3_common_bucket.remove_files_from_folder(output_dataset_name)"
   ]
  },
  {
   "cell_type": "markdown",
   "id": "9e948b8f",
   "metadata": {},
   "source": [
    "### SPLIT THE OUTPUT BASED ON SFTP SPECS"
   ]
  },
  {
   "cell_type": "code",
   "execution_count": null,
   "id": "bb47bd84",
   "metadata": {},
   "outputs": [],
   "source": [
    "temp_dataset_size = s3_common_bucket.get_folder_size(output_temp_dataset_name)\n",
    "number_of_files = create_files_for_sftp(devices, temp_dataset_size, output_dataset)\n",
    "print(f'number-files-generated={number_of_files}')"
   ]
  }
 ],
 "metadata": {
  "interpreter": {
   "hash": "31f2aee4e71d21fbe5cf8b01ff0e069b9275f58929596ceb00d14d90e3e16cd6"
  },
  "kernelspec": {
   "display_name": "Python 3 (ipykernel)",
   "language": "python",
   "name": "python3"
  },
  "language_info": {
   "codemirror_mode": {
    "name": "ipython",
    "version": 3
   },
   "file_extension": ".py",
   "mimetype": "text/x-python",
   "name": "python",
   "nbconvert_exporter": "python",
   "pygments_lexer": "ipython3",
   "version": "3.9.7"
  }
 },
 "nbformat": 4,
 "nbformat_minor": 5
}
