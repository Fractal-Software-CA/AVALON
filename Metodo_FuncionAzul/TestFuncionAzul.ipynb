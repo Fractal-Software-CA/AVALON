{
 "cells": [
  {
   "cell_type": "code",
   "execution_count": 1,
   "id": "afd75d89",
   "metadata": {},
   "outputs": [],
   "source": [
    "from FuncionAzul import *"
   ]
  },
  {
   "cell_type": "markdown",
   "id": "4e2b9215-2446-4512-892c-8e6dc99d3278",
   "metadata": {},
   "source": [
    "# Prueba "
   ]
  },
  {
   "cell_type": "code",
   "execution_count": 3,
   "id": "b31fc302",
   "metadata": {
    "scrolled": true
   },
   "outputs": [
    {
     "ename": "AttributeError",
     "evalue": "'DataFrame' object has no attribute 'Id_NIVEL_0'",
     "output_type": "error",
     "traceback": [
      "\u001b[0;31m---------------------------------------------------------------------------\u001b[0m",
      "\u001b[0;31mAttributeError\u001b[0m                            Traceback (most recent call last)",
      "\u001b[0;32m<ipython-input-3-7858ba419837>\u001b[0m in \u001b[0;36m<module>\u001b[0;34m\u001b[0m\n\u001b[0;32m----> 1\u001b[0;31m FuncionAzul(Ruta_Nombre_Input_entidades = \"DATA_SIC_ENTIDADES_PUBLICAS_SOLICITUD_ESP.csv\", \n\u001b[0m\u001b[1;32m      2\u001b[0m             \u001b[0mRuta_Nombre_Input_investigadores\u001b[0m \u001b[0;34m=\u001b[0m \u001b[0;34m\"DATA_SIC_INVEST_UO_FIL_PB_J_MAESTRO.csv\"\u001b[0m\u001b[0;34m,\u001b[0m\u001b[0;34m\u001b[0m\u001b[0;34m\u001b[0m\u001b[0m\n\u001b[1;32m      3\u001b[0m             \u001b[0mRuta_Nombre_Input_relaciones\u001b[0m \u001b[0;34m=\u001b[0m \u001b[0;34m\"DATA_SIC_RELACIONES_ENTIDADES_PB_AYUDAS_ESP_A6CORREC_new.csv\"\u001b[0m\u001b[0;34m,\u001b[0m\u001b[0;34m\u001b[0m\u001b[0;34m\u001b[0m\u001b[0m\n\u001b[1;32m      4\u001b[0m             \u001b[0mRuta_Nombre_Input_invente\u001b[0m \u001b[0;34m=\u001b[0m \u001b[0;34m'Analisis_entidades_invente_15-02-2022.xlsx'\u001b[0m\u001b[0;34m,\u001b[0m\u001b[0;34m\u001b[0m\u001b[0;34m\u001b[0m\u001b[0m\n\u001b[1;32m      5\u001b[0m             \u001b[0mRuta_Nombre_Input_dir3\u001b[0m \u001b[0;34m=\u001b[0m \u001b[0;34m\"DIR3_concatenado_AGE_CCAA_EELL_Universidades.csv\"\u001b[0m\u001b[0;34m,\u001b[0m\u001b[0;34m\u001b[0m\u001b[0;34m\u001b[0m\u001b[0m\n",
      "\u001b[0;32m~/Documentos/NA/AVALON/Metodo_FuncionAzul/FuncionAzul.py\u001b[0m in \u001b[0;36mFuncionAzul\u001b[0;34m(Ruta_Nombre_Input_entidades, Ruta_Nombre_Input_investigadores, Ruta_Nombre_Input_relaciones, Ruta_Nombre_Input_invente, Ruta_Nombre_Input_dir3, Ruta_Nombre_Intermedio_cruce1_relaciones, Ruta_Nombre_Intermedio_cruce1_entidades, Ruta_Nombre_Intermedio_cruce2_invente, Ruta_Nombre_Intermedio_cruce3_dir3, Ruta_Nombre_Output_investigadores, Ruta_Nombre_Output_relaciones, Ruta_Nombre_Output_entidades, flag_invente_dir3, Flag_csv)\u001b[0m\n\u001b[1;32m     76\u001b[0m     \u001b[0mcruce1\u001b[0m \u001b[0;34m=\u001b[0m \u001b[0mNombre_Input_investigadores\u001b[0m\u001b[0;34m.\u001b[0m\u001b[0;31m\\\u001b[0m\u001b[0;34m\u001b[0m\u001b[0;34m\u001b[0m\u001b[0m\n\u001b[1;32m     77\u001b[0m                                         join(Nombre_Input_relaciones,\n\u001b[0;32m---> 78\u001b[0;31m                                              Nombre_Input_investigadores.Id ==  Nombre_Input_relaciones.Id_NIVEL_0,\"left\")\\\n\u001b[0m\u001b[1;32m     79\u001b[0m                                         \u001b[0;34m.\u001b[0m\u001b[0mdropDuplicates\u001b[0m\u001b[0;34m(\u001b[0m\u001b[0mNombre_Input_investigadores\u001b[0m\u001b[0;34m.\u001b[0m\u001b[0mcolumns\u001b[0m\u001b[0;34m)\u001b[0m\u001b[0;31m\\\u001b[0m\u001b[0;34m\u001b[0m\u001b[0;34m\u001b[0m\u001b[0m\n\u001b[1;32m     80\u001b[0m                                         \u001b[0;34m.\u001b[0m\u001b[0mfilter\u001b[0m\u001b[0;34m(\u001b[0m\u001b[0;34m\"Id_NIVEL_0 is not null\"\u001b[0m\u001b[0;34m)\u001b[0m\u001b[0;34m\u001b[0m\u001b[0;34m\u001b[0m\u001b[0m\n",
      "\u001b[0;32m~/virtual/lib/python3.8/site-packages/pyspark/sql/dataframe.py\u001b[0m in \u001b[0;36m__getattr__\u001b[0;34m(self, name)\u001b[0m\n\u001b[1;32m   1986\u001b[0m         \"\"\"\n\u001b[1;32m   1987\u001b[0m         \u001b[0;32mif\u001b[0m \u001b[0mname\u001b[0m \u001b[0;32mnot\u001b[0m \u001b[0;32min\u001b[0m \u001b[0mself\u001b[0m\u001b[0;34m.\u001b[0m\u001b[0mcolumns\u001b[0m\u001b[0;34m:\u001b[0m\u001b[0;34m\u001b[0m\u001b[0;34m\u001b[0m\u001b[0m\n\u001b[0;32m-> 1988\u001b[0;31m             raise AttributeError(\n\u001b[0m\u001b[1;32m   1989\u001b[0m                 \u001b[0;34m\"'%s' object has no attribute '%s'\"\u001b[0m \u001b[0;34m%\u001b[0m \u001b[0;34m(\u001b[0m\u001b[0mself\u001b[0m\u001b[0;34m.\u001b[0m\u001b[0m__class__\u001b[0m\u001b[0;34m.\u001b[0m\u001b[0m__name__\u001b[0m\u001b[0;34m,\u001b[0m \u001b[0mname\u001b[0m\u001b[0;34m)\u001b[0m\u001b[0;34m\u001b[0m\u001b[0;34m\u001b[0m\u001b[0m\n\u001b[1;32m   1990\u001b[0m             )\n",
      "\u001b[0;31mAttributeError\u001b[0m: 'DataFrame' object has no attribute 'Id_NIVEL_0'"
     ]
    }
   ],
   "source": [
    "FuncionAzul(Ruta_Nombre_Input_entidades = \"DATA_SIC_ENTIDADES_PUBLICAS_SOLICITUD_ESP.csv\", \n",
    "            Ruta_Nombre_Input_investigadores = \"DATA_SIC_INVEST_UO_FIL_PB_J_MAESTRO.csv\",     \n",
    "            Ruta_Nombre_Input_relaciones = \"DATA_SIC_RELACIONES_ENTIDADES_PB_AYUDAS_ESP_A6CORREC_new.csv\",\n",
    "            Ruta_Nombre_Input_invente = 'Analisis_entidades_invente_15-02-2022.xlsx', \n",
    "            Ruta_Nombre_Input_dir3 = \"DIR3_concatenado_AGE_CCAA_EELL_Universidades.csv\", \n",
    "            Ruta_Nombre_Intermedio_cruce1_relaciones = \"test/Nombre_Intermedio_cruce1_relaciones\",\n",
    "            Ruta_Nombre_Intermedio_cruce1_entidades = \"test/Nombre_Intermedio_cruce1_entidades\", \n",
    "            Ruta_Nombre_Intermedio_cruce2_invente = \"test/Nombre_Intermedio_cruce2_invente\", \n",
    "            Ruta_Nombre_Intermedio_cruce3_dir3 = \"test/Nombre_Intermedio_cruce3_dir3\",\n",
    "            Ruta_Nombre_Output_investigadores = \"test/Nombre_Output_investigadores\", \n",
    "            Ruta_Nombre_Output_relaciones = \"test/Nombre_Output_relaciones\",\n",
    "            Ruta_Nombre_Output_entidades = \"test/Nombre_Output_entidades\", \n",
    "            flag_invente_dir3 = True, \n",
    "            Flag_csv = True)"
   ]
  },
  {
   "cell_type": "code",
   "execution_count": null,
   "id": "6e51f3ed",
   "metadata": {
    "scrolled": true,
    "tags": []
   },
   "outputs": [],
   "source": [
    "FuncionAzul(Ruta_Nombre_Input_entidades = \"DATA_SIC_ENTIDADES_PUBLICAS_AYUDAS_ESP_short1.csv\", \n",
    "            Ruta_Nombre_Input_investigadores = \"DATA_SIC_AYUDA_ESP_UO_PB_J_MAESTRO_short1.csv\",     \n",
    "            Ruta_Nombre_Input_relaciones = \"DATA_RELACION_ENTIDADES_MAESTRO_short1.csv\",\n",
    "            Ruta_Nombre_Input_invente = 'Analisis_entidades_invente_15-02-2022.xlsx', \n",
    "            Ruta_Nombre_Input_dir3 = \"DIR3_concatenado_AGE_CCAA_EELL_Universidades.csv\", \n",
    "            Ruta_Nombre_Intermedio_cruce1_relaciones = \"test/Nombre_Intermedio_cruce1_relaciones\",\n",
    "            Ruta_Nombre_Intermedio_cruce1_entidades = \"test/Nombre_Intermedio_cruce1_entidades\", \n",
    "            Ruta_Nombre_Intermedio_cruce2_invente = \"test/Nombre_Intermedio_cruce2_invente\", \n",
    "            Ruta_Nombre_Intermedio_cruce3_dir3 = \"test/Nombre_Intermedio_cruce3_dir3\",\n",
    "            Ruta_Nombre_Output_investigadores = \"test/Nombre_Output_investigadores\", \n",
    "            Ruta_Nombre_Output_relaciones = \"test/Ruta_Nombre_Output_relaciones\",\n",
    "            Ruta_Nombre_Output_entidades = \"test/Ruta_Nombre_Output_entidades\", \n",
    "            flag_invente_dir3 = False, \n",
    "            Flag_csv = True)"
   ]
  },
  {
   "cell_type": "code",
   "execution_count": null,
   "id": "1a4e601c",
   "metadata": {},
   "outputs": [],
   "source": []
  }
 ],
 "metadata": {
  "kernelspec": {
   "display_name": "Python 3",
   "language": "python",
   "name": "python3"
  },
  "language_info": {
   "codemirror_mode": {
    "name": "ipython",
    "version": 3
   },
   "file_extension": ".py",
   "mimetype": "text/x-python",
   "name": "python",
   "nbconvert_exporter": "python",
   "pygments_lexer": "ipython3",
   "version": "3.8.5"
  }
 },
 "nbformat": 4,
 "nbformat_minor": 5
}
