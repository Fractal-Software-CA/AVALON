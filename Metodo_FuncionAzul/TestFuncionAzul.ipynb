{
 "cells": [
  {
   "cell_type": "code",
   "execution_count": null,
   "id": "afd75d89",
   "metadata": {},
   "outputs": [],
   "source": [
    "from FuncionAzul import *"
   ]
  },
  {
   "cell_type": "code",
   "execution_count": 16,
   "id": "23d0f9d5-3914-430b-99e0-18c3fc654545",
   "metadata": {},
   "outputs": [
    {
     "data": {
      "text/plain": [
       "'JAVA_HOME=\"/lib/jvm/java-11-openjdk-amd64/bin/java'"
      ]
     },
     "execution_count": 16,
     "metadata": {},
     "output_type": "execute_result"
    }
   ],
   "source": [
    "java_home = os.environ.get('JAVA_HOME', None)\n",
    "java_home"
   ]
  },
  {
   "cell_type": "code",
   "execution_count": null,
   "id": "1d590602-ed07-4523-83ec-e402833bd352",
   "metadata": {},
   "outputs": [
    {
     "name": "stdout",
     "output_type": "stream",
     "text": [
      "\n"
     ]
    }
   ],
   "source": [
    "!echo $SPARK_HOME"
   ]
  },
  {
   "cell_type": "code",
   "execution_count": 11,
   "id": "bdfe37e9-5973-4a9f-bc62-d69dd2afb44a",
   "metadata": {},
   "outputs": [
    {
     "data": {
      "text/plain": [
       "12"
      ]
     },
     "execution_count": 11,
     "metadata": {},
     "output_type": "execute_result"
    }
   ],
   "source": [
    "os.cpu_count()"
   ]
  },
  {
   "cell_type": "code",
   "execution_count": 1,
   "id": "2f7d854e-5a06-4a47-9bc6-525f6f70220c",
   "metadata": {},
   "outputs": [
    {
     "name": "stdout",
     "output_type": "stream",
     "text": [
      "Existing Java Home:  JAVA_HOME=\"/lib/jvm/java-11-openjdk-amd64/bin/java\n",
      "Updated Java Home:  /usr/lib/jvm/java-11-openjdk-amd64/\n"
     ]
    }
   ],
   "source": [
    "import os\n",
    "java_path = \"/usr/lib/jvm/java-11-openjdk-amd64/\"\n",
    "java_home = os.environ.get('JAVA_HOME', None)\n",
    "\n",
    "print(\"Existing Java Home: \",java_home)\n",
    "\n",
    "if (not java_home) or (java_path not in java_home):\n",
    "    os.environ['JAVA_HOME'] = java_path\n",
    "\n",
    "print(\"Updated Java Home: \",os.environ.get('JAVA_HOME', None))"
   ]
  },
  {
   "cell_type": "code",
   "execution_count": 15,
   "id": "b8639f52-fa6f-4eb1-8aad-dbb60fc08a1a",
   "metadata": {},
   "outputs": [],
   "source": [
    "from function2 import *\n",
    "import pickle\n",
    "import pyspark\n",
    "from pyspark.sql import SparkSession\n",
    "from pyspark.sql.window import Window as W"
   ]
  },
  {
   "cell_type": "markdown",
   "id": "4e2b9215-2446-4512-892c-8e6dc99d3278",
   "metadata": {},
   "source": [
    "# Prueba "
   ]
  },
  {
   "cell_type": "code",
   "execution_count": 3,
   "id": "b31fc302",
   "metadata": {
    "scrolled": true
   },
   "outputs": [
    {
     "ename": "NameError",
     "evalue": "name 'FuncionAzul' is not defined",
     "output_type": "error",
     "traceback": [
      "\u001b[0;31m---------------------------------------------------------------------------\u001b[0m",
      "\u001b[0;31mNameError\u001b[0m                                 Traceback (most recent call last)",
      "Input \u001b[0;32mIn [3]\u001b[0m, in \u001b[0;36m<cell line: 1>\u001b[0;34m()\u001b[0m\n\u001b[0;32m----> 1\u001b[0m \u001b[43mFuncionAzul\u001b[49m(Ruta_Nombre_Input_entidades \u001b[38;5;241m=\u001b[39m \u001b[38;5;124m\"\u001b[39m\u001b[38;5;124mDATA_SIC_ENTIDADES_PUBLICAS_SOLICITUD_ESP.csv\u001b[39m\u001b[38;5;124m\"\u001b[39m, \n\u001b[1;32m      2\u001b[0m             Ruta_Nombre_Input_investigadores \u001b[38;5;241m=\u001b[39m \u001b[38;5;124m\"\u001b[39m\u001b[38;5;124mDATA_SIC_INVEST_UO_FIL_PB_J_MAESTRO.csv\u001b[39m\u001b[38;5;124m\"\u001b[39m,     \n\u001b[1;32m      3\u001b[0m             Ruta_Nombre_Input_relaciones \u001b[38;5;241m=\u001b[39m \u001b[38;5;124m\"\u001b[39m\u001b[38;5;124mDATA_SIC_RELACIONES_ENTIDADES_PB_AYUDAS_ESP_A6CORREC_new.csv\u001b[39m\u001b[38;5;124m\"\u001b[39m,\n\u001b[1;32m      4\u001b[0m             Ruta_Nombre_Input_invente \u001b[38;5;241m=\u001b[39m \u001b[38;5;124m'\u001b[39m\u001b[38;5;124mAnalisis_entidades_invente_15-02-2022.xlsx\u001b[39m\u001b[38;5;124m'\u001b[39m, \n\u001b[1;32m      5\u001b[0m             Ruta_Nombre_Input_dir3 \u001b[38;5;241m=\u001b[39m \u001b[38;5;124m\"\u001b[39m\u001b[38;5;124mDIR3_concatenado_AGE_CCAA_EELL_Universidades.csv\u001b[39m\u001b[38;5;124m\"\u001b[39m, \n\u001b[1;32m      6\u001b[0m             Ruta_Nombre_Intermedio_cruce1_relaciones \u001b[38;5;241m=\u001b[39m \u001b[38;5;124m\"\u001b[39m\u001b[38;5;124mtest/Nombre_Intermedio_cruce1_relaciones\u001b[39m\u001b[38;5;124m\"\u001b[39m,\n\u001b[1;32m      7\u001b[0m             Ruta_Nombre_Intermedio_cruce1_entidades \u001b[38;5;241m=\u001b[39m \u001b[38;5;124m\"\u001b[39m\u001b[38;5;124mtest/Nombre_Intermedio_cruce1_entidades\u001b[39m\u001b[38;5;124m\"\u001b[39m, \n\u001b[1;32m      8\u001b[0m             Ruta_Nombre_Intermedio_cruce2_invente \u001b[38;5;241m=\u001b[39m \u001b[38;5;124m\"\u001b[39m\u001b[38;5;124mtest/Nombre_Intermedio_cruce2_invente\u001b[39m\u001b[38;5;124m\"\u001b[39m, \n\u001b[1;32m      9\u001b[0m             Ruta_Nombre_Intermedio_cruce3_dir3 \u001b[38;5;241m=\u001b[39m \u001b[38;5;124m\"\u001b[39m\u001b[38;5;124mtest/Nombre_Intermedio_cruce3_dir3\u001b[39m\u001b[38;5;124m\"\u001b[39m,\n\u001b[1;32m     10\u001b[0m             Ruta_Nombre_Output_investigadores \u001b[38;5;241m=\u001b[39m \u001b[38;5;124m\"\u001b[39m\u001b[38;5;124mtest/Nombre_Output_investigadores\u001b[39m\u001b[38;5;124m\"\u001b[39m, \n\u001b[1;32m     11\u001b[0m             Ruta_Nombre_Output_relaciones \u001b[38;5;241m=\u001b[39m \u001b[38;5;124m\"\u001b[39m\u001b[38;5;124mtest/Nombre_Output_relaciones\u001b[39m\u001b[38;5;124m\"\u001b[39m,\n\u001b[1;32m     12\u001b[0m             Ruta_Nombre_Output_entidades \u001b[38;5;241m=\u001b[39m \u001b[38;5;124m\"\u001b[39m\u001b[38;5;124mtest/Nombre_Output_entidades\u001b[39m\u001b[38;5;124m\"\u001b[39m, \n\u001b[1;32m     13\u001b[0m             flag_invente_dir3 \u001b[38;5;241m=\u001b[39m \u001b[38;5;28;01mTrue\u001b[39;00m, \n\u001b[1;32m     14\u001b[0m             Flag_csv \u001b[38;5;241m=\u001b[39m \u001b[38;5;28;01mTrue\u001b[39;00m)\n",
      "\u001b[0;31mNameError\u001b[0m: name 'FuncionAzul' is not defined"
     ]
    }
   ],
   "source": [
    "FuncionAzul(Ruta_Nombre_Input_entidades = \"DATA_SIC_ENTIDADES_PUBLICAS_SOLICITUD_ESP.csv\", \n",
    "            Ruta_Nombre_Input_investigadores = \"DATA_SIC_INVEST_UO_FIL_PB_J_MAESTRO.csv\",     \n",
    "            Ruta_Nombre_Input_relaciones = \"DATA_SIC_RELACIONES_ENTIDADES_PB_AYUDAS_ESP_A6CORREC_new.csv\",\n",
    "            Ruta_Nombre_Input_invente = 'Analisis_entidades_invente_15-02-2022.xlsx', \n",
    "            Ruta_Nombre_Input_dir3 = \"DIR3_concatenado_AGE_CCAA_EELL_Universidades.csv\", \n",
    "            Ruta_Nombre_Intermedio_cruce1_relaciones = \"test/Nombre_Intermedio_cruce1_relaciones\",\n",
    "            Ruta_Nombre_Intermedio_cruce1_entidades = \"test/Nombre_Intermedio_cruce1_entidades\", \n",
    "            Ruta_Nombre_Intermedio_cruce2_invente = \"test/Nombre_Intermedio_cruce2_invente\", \n",
    "            Ruta_Nombre_Intermedio_cruce3_dir3 = \"test/Nombre_Intermedio_cruce3_dir3\",\n",
    "            Ruta_Nombre_Output_investigadores = \"test/Nombre_Output_investigadores\", \n",
    "            Ruta_Nombre_Output_relaciones = \"test/Nombre_Output_relaciones\",\n",
    "            Ruta_Nombre_Output_entidades = \"test/Nombre_Output_entidades\", \n",
    "            flag_invente_dir3 = True, \n",
    "            Flag_csv = True)"
   ]
  },
  {
   "cell_type": "code",
   "execution_count": 18,
   "id": "bcd0a7ab-ae1e-4f8d-8069-d7bc50d0c8c6",
   "metadata": {},
   "outputs": [],
   "source": [
    "ni = pd.read_csv('DATA_SIC_RELACIONES_ENTIDADES_PB_AYUDAS_ESP_A6CORREC_new.csv', sep = ';')"
   ]
  },
  {
   "cell_type": "code",
   "execution_count": 19,
   "id": "5c1ccd1b-c711-4f14-a74a-d0e9f1bf3b8e",
   "metadata": {},
   "outputs": [],
   "source": [
    "ni[:20000].to_csv('DATA_SIC_RELACIONES_ENTIDADES_PB_AYUDAS_ESP_A6CORREC_new_short.csv', sep = ';', index = False)"
   ]
  },
  {
   "cell_type": "code",
   "execution_count": null,
   "id": "0353cf19-478d-4653-b509-e2dde1121878",
   "metadata": {},
   "outputs": [],
   "source": []
  },
  {
   "cell_type": "code",
   "execution_count": null,
   "id": "bbd66029-5ead-4687-aae6-be5ae566e363",
   "metadata": {},
   "outputs": [],
   "source": []
  },
  {
   "cell_type": "code",
   "execution_count": 2,
   "id": "cc72d0ee-39fe-4137-aadc-6c4c3b232dcd",
   "metadata": {},
   "outputs": [],
   "source": [
    "Ruta_Nombre_Input_entidades = \"DATA_SIC_ENTIDADES_PUBLICAS_SOLICITUD_ESP.csv\" \n",
    "Ruta_Nombre_Input_investigadores = \"DATA_SIC_INVEST_UO_FIL_PB_J_MAESTRO_short.csv\"     \n",
    "Ruta_Nombre_Input_relaciones = \"DATA_SIC_RELACIONES_ENTIDADES_PB_AYUDAS_ESP_A6CORREC_new_short.csv\"\n",
    "Ruta_Nombre_Input_invente = 'Analisis_entidades_invente_15-02-2022.xlsx' \n",
    "Ruta_Nombre_Input_dir3 = \"DIR3_concatenado_AGE_CCAA_EELL_Universidades.csv\" \n",
    "Ruta_Nombre_Intermedio_cruce1_relaciones = \"test/Nombre_Intermedio_cruce1_relaciones\"\n",
    "Ruta_Nombre_Intermedio_cruce1_entidades = \"test/Nombre_Intermedio_cruce1_entidades\" \n",
    "Ruta_Nombre_Intermedio_cruce2_invente = \"test/Nombre_Intermedio_cruce2_invente\" \n",
    "Ruta_Nombre_Intermedio_cruce3_dir3 = \"test/Nombre_Intermedio_cruce3_dir3\"\n",
    "Ruta_Nombre_Output_investigadores = \"test/Nombre_Output_investigadores\" \n",
    "Ruta_Nombre_Output_relaciones = \"test/Nombre_Output_relaciones\"\n",
    "Ruta_Nombre_Output_entidades = \"test/Nombre_Output_entidades\" \n",
    "flag_invente_dir3 = True \n",
    "Flag_csv = True"
   ]
  },
  {
   "cell_type": "code",
   "execution_count": 3,
   "id": "a48d7fb2-7084-48f3-ba82-f647d8c938b6",
   "metadata": {},
   "outputs": [
    {
     "name": "stdout",
     "output_type": "stream",
     "text": [
      "22/08/28 04:26:07 WARN Utils: Your hostname, gaszsantana-G7-7500 resolves to a loopback address: 127.0.1.1; using 192.168.8.101 instead (on interface wlp0s20f3)\n",
      "22/08/28 04:26:07 WARN Utils: Set SPARK_LOCAL_IP if you need to bind to another address\n"
     ]
    },
    {
     "name": "stderr",
     "output_type": "stream",
     "text": [
      "Setting default log level to \"WARN\".\n",
      "To adjust logging level use sc.setLogLevel(newLevel). For SparkR, use setLogLevel(newLevel).\n"
     ]
    },
    {
     "name": "stdout",
     "output_type": "stream",
     "text": [
      "22/08/28 04:26:17 WARN NativeCodeLoader: Unable to load native-hadoop library for your platform... using builtin-java classes where applicable\n"
     ]
    }
   ],
   "source": [
    "spark = SparkSession.builder.appName('FuncionAzul').config(\"spark.driver.memory\",\"50G\")\\\n",
    "                         .config(\"spark.executor.memory\",\"50G\")\\\n",
    "                         .config(\"spark.executor.cores\",\"12\")\\\n",
    "                         .config(\"spark.executor.instances\",\"5\")\\\n",
    "                         .config(\"spark.driver.maxResultSize\", '128g')\\\n",
    "                         .config(\"spark.memory.offHeap.enabled\", 'true')\\\n",
    "                         .config(\"spark.memory.offHeap.size\", '70g')\\\n",
    "                         .enableHiveSupport().getOrCreate()"
   ]
  },
  {
   "cell_type": "code",
   "execution_count": 4,
   "id": "af449b00-4ac1-46e3-8982-3be7948c1361",
   "metadata": {},
   "outputs": [],
   "source": [
    "# =============================================================================\n",
    "# Creamos 3 archivos: \n",
    "# 1. Nombre_Intermedio_cruce1_entidades.\n",
    "# 2. Nombre_Output_investigadores.  \n",
    "# 3. Nombre_Intermedio_cruce1_relaciones.\n",
    "# =============================================================================\n",
    "Nombre_Input_entidades = spark.read.csv(Ruta_Nombre_Input_entidades, sep=\";\", header=True)\n",
    "Nombre_Input_relaciones = spark.read.csv(Ruta_Nombre_Input_relaciones, sep=\";\", header=True)\n",
    "Nombre_Input_relaciones = Nombre_Input_relaciones.drop(\"Entidad_NIVEL_0\", \"Entidad_Norm_NIVEL_0\", \"CIF_NIVEL_0\", \"Provincia_Entidad_NIVEL_0\", \"Entidad_NIVEL_1\",\n",
    "                                                      \"Entidad_Norm_NIVEL_1\", \"CIF_NIVEL_1\", \"Provincia_Entidad_NIVEL_1\")\n",
    "Nombre_Input_investigadores = spark.read.csv(Ruta_Nombre_Input_investigadores, sep=\";\", header=True)\n"
   ]
  },
  {
   "cell_type": "code",
   "execution_count": 5,
   "id": "35f80ba5-3284-4e86-9d4f-8cec28563931",
   "metadata": {},
   "outputs": [],
   "source": [
    "cruce1 = Nombre_Input_investigadores.\\\n",
    "                                    join(Nombre_Input_relaciones,\n",
    "                                         Nombre_Input_investigadores.Id ==  Nombre_Input_relaciones.Id_NIVEL_0,\"inner\")\\\n",
    "                                    .dropDuplicates(Nombre_Input_investigadores.columns)\\\n",
    "                                    .filter(\"Id_NIVEL_0 is not null\")\n",
    "\n",
    "\n",
    "\n",
    "cruce1 = cruce1.withColumn(\"Similitud\", \n",
    "                           udf_Distance_ratcliff_obershelp(\n",
    "                               UDF_normalizarTexto(cruce1.NOMBRE_ENTIDAD_NIVEL_1),\n",
    "                               cruce1.Centro_Norm )\n",
    "                          ) "
   ]
  },
  {
   "cell_type": "code",
   "execution_count": 6,
   "id": "1dc62d81-e47e-4520-b4e4-36e2b69fb4d1",
   "metadata": {},
   "outputs": [
    {
     "name": "stderr",
     "output_type": "stream",
     "text": [
      "                                                                                \r"
     ]
    }
   ],
   "source": [
    "# # Nombre_Intermedio_cruce1_entidades\n",
    "\n",
    "# Valor maximo del index del archivo Nombre_Input_entidades\n",
    "maxId = Nombre_Input_entidades.withColumn(\"Id\", Nombre_Input_entidades.Id.cast('int')).select(\"Id\").rdd.max()[0]\n",
    "\n",
    "\n",
    "\n",
    "\n",
    "data = cruce1.filter(\"Similitud <0.875\")\\\n",
    "             .withColumn(\"CIF\",col(\"CIF\"))\\\n",
    "             .withColumn(\"Entidad\",col(\"Entidad\"))\\\n",
    "             .withColumn(\"Entidad_Norm\",col(\"Entidad_Norm\"))\\\n",
    "             .withColumn(\"Provincia_Entidad\",col(\"Provincia_Centro\"))\\\n",
    "             .withColumn(\"ID_ENTIDAD\",lit(None).cast(StringType()))\\\n",
    "             .withColumn(\"NIF_COD\",lit(None).cast(StringType()))\\\n",
    "             .withColumn(\"ACRONIMO\",lit(None).cast(StringType()))\\\n",
    "             .withColumn(\"NOMBRE_ENTIDAD\",lit(None).cast(StringType()))\\\n",
    "             .withColumn(\"Nombre_Entidad_Mostrar\",lit(None).cast(StringType()))\\\n",
    "             .withColumn(\"TIPO_ENTIDAD_N1_1\",lit(None).cast(StringType()))\\\n",
    "             .withColumn(\"TIPO_ENTIDAD_N2_1\",lit(None).cast(StringType()))\\\n",
    "             .withColumn(\"DIRECCION_POSTAL\",lit(None).cast(StringType()))\\\n",
    "             .withColumn(\"COD_POSTAL\",lit(None).cast(StringType()))\\\n",
    "             .withColumn(\"COD_PROVINCIA\",lit(None).cast(StringType()))\\\n",
    "             .withColumn(\"PROVINCIA\",lit(None).cast(StringType()))\\\n",
    "             .withColumn(\"COD_CCAA\",lit(None).cast(StringType()))\\\n",
    "             .withColumn(\"CCAA\",lit(None).cast(StringType()))\\\n",
    "             .withColumn(\"ENLACE_WEB\",lit(None).cast(StringType()))\\\n",
    "             .withColumn(\"SOMMA\",lit(None).cast(StringType()))\\\n",
    "             .withColumn(\"TIPO_ENTIDAD_REGIONAL\",lit(None).cast(StringType()))\\\n",
    "             .withColumn(\"ESTADO_x\",lit(None).cast(StringType()))\\\n",
    "             .withColumn(\"CodigoInvente\",lit(None).cast(StringType()))\\\n",
    "             .withColumn(\"DenominacionSocial\",lit(None).cast(StringType()))\\\n",
    "             .withColumn(\"FormaJuridica_Codigo\",lit(None).cast(StringType()))\\\n",
    "             .withColumn(\"FormaJuridica_Descripcion\",lit(None).cast(StringType()))\\\n",
    "             .withColumn(\"NIF\",lit(None).cast(StringType()))\\\n",
    "             .withColumn(\"codigoDir3\",lit(None).cast(StringType()))\\\n",
    "             .withColumn(\"codigoOrigen\",lit(None).cast(StringType()))\\\n",
    "             .withColumn(\"Provincia_Codigo\",lit(None).cast(StringType()))\\\n",
    "             .withColumn(\"C_ID_UD_ORGANICA\",lit(None).cast(StringType()))\\\n",
    "             .withColumn(\"C_DNM_UD_ORGANICA\",lit(None).cast(StringType()))\\\n",
    "             .withColumn(\"C_ID_NIVEL_ADMON\",lit(None).cast(StringType()))\\\n",
    "             .withColumn(\"C_ID_TIPO_ENT_PUBLICA\",lit(None).cast(StringType()))\\\n",
    "             .withColumn(\"N_NIVEL_JERARQUICO\",lit(None).cast(StringType()))\\\n",
    "             .withColumn(\"C_ID_DEP_UD_SUPERIOR\",lit(None).cast(StringType()))\\\n",
    "             .withColumn(\"C_DNM_UD_ORGANICA_SUPERIOR\",lit(None).cast(StringType()))\\\n",
    "             .withColumn(\"C_ID_DEP_UD_PRINCIPAL\",lit(None).cast(StringType()))\\\n",
    "             .withColumn(\"C_DNM_UD_ORGANICA_PRINCIPAL\",lit(None).cast(StringType()))\\\n",
    "             .withColumn(\"B_SW_DEP_EDP_PRINCIPAL\",lit(None).cast(StringType()))\\\n",
    "             .withColumn(\"C_ID_DEP_EDP_PRINCIPAL\",lit(None).cast(StringType()))\\\n",
    "             .withColumn(\"C_DNM_UD_ORGANICA_EDP_PRINCIPAL\",lit(None).cast(StringType()))\\\n",
    "             .withColumn(\"C_ID_ESTADO\",lit(None).cast(StringType()))\\\n",
    "             .withColumn(\"D_VIG_ALTA_OFICIAL\",lit(None).cast(StringType()))\\\n",
    "             .withColumn(\"NIF_CIF\",lit(None).cast(StringType()))\\\n",
    "             .withColumn(\"C_ID_AMB_PROVINCIA\",lit(None).cast(StringType()))\\\n",
    "             .withColumn(\"C_DESC_PROV\",lit(None).cast(StringType()))\\\n",
    "             .withColumn(\"CONTACTOS\",lit(None).cast(StringType()))\\\n",
    "             .withColumn(\"List_Entidad_Norm\",col(\"Centro_Norm\"))\\\n",
    "             .withColumn(\"List_Provincia_Entidad\",col(\"Provincia_Centro\"))\\\n",
    "             .withColumn(\"List_CIF\",lit(None).cast(StringType()))\n",
    "\n",
    "# =============================================================================\n",
    "# Procesamiento para iniciar el archivo deseado a partter del maxId\n",
    "# =============================================================================\n",
    "data = data.dropDuplicates([\"Entidad_Norm\", \"Provincia_Entidad\"])\n",
    "data = data.withColumnRenamed(\"Id\", \"IdOld\")\n"
   ]
  },
  {
   "cell_type": "code",
   "execution_count": null,
   "id": "ff711507-99b8-4826-85f5-49e355f0bb75",
   "metadata": {},
   "outputs": [
    {
     "name": "stderr",
     "output_type": "stream",
     "text": [
      "                                                                                \r"
     ]
    }
   ],
   "source": [
    "cruce1.toPandas().to_csv('test/cruce1.csv', decimal = ',', index = False)"
   ]
  },
  {
   "cell_type": "code",
   "execution_count": 7,
   "id": "9d41c1db-a061-47c4-b17c-8cb70c1f6627",
   "metadata": {
    "scrolled": true,
    "tags": []
   },
   "outputs": [
    {
     "name": "stderr",
     "output_type": "stream",
     "text": [
      "                                                                                \r"
     ]
    }
   ],
   "source": [
    "data_count = data.count()"
   ]
  },
  {
   "cell_type": "code",
   "execution_count": 8,
   "id": "c7aea335-ae63-4862-96e6-584bb3331a52",
   "metadata": {},
   "outputs": [
    {
     "data": {
      "text/plain": [
       "9"
      ]
     },
     "execution_count": 8,
     "metadata": {},
     "output_type": "execute_result"
    }
   ],
   "source": [
    "data_count"
   ]
  },
  {
   "cell_type": "code",
   "execution_count": 9,
   "id": "7804af8b-427f-4d30-9a57-6d906e8bfc43",
   "metadata": {
    "scrolled": true,
    "tags": []
   },
   "outputs": [
    {
     "name": "stdout",
     "output_type": "stream",
     "text": [
      "22/08/28 04:26:31 WARN WindowExec: No Partition Defined for Window operation! Moving all data to a single partition, this can cause serious performance degradation.\n",
      "22/08/28 04:26:31 WARN WindowExec: No Partition Defined for Window operation! Moving all data to a single partition, this can cause serious performance degradation.\n",
      "22/08/28 04:26:31 WARN WindowExec: No Partition Defined for Window operation! Moving all data to a single partition, this can cause serious performance degradation.\n",
      "22/08/28 04:26:31 WARN WindowExec: No Partition Defined for Window operation! Moving all data to a single partition, this can cause serious performance degradation.\n",
      "22/08/28 04:26:31 WARN package: Truncated the string representation of a plan since it was too large. This behavior can be adjusted by setting 'spark.sql.debug.maxToStringFields'.\n",
      "22/08/28 04:26:31 WARN WindowExec: No Partition Defined for Window operation! Moving all data to a single partition, this can cause serious performance degradation.\n",
      "22/08/28 04:26:31 WARN WindowExec: No Partition Defined for Window operation! Moving all data to a single partition, this can cause serious performance degradation.\n",
      "22/08/28 04:26:31 WARN WindowExec: No Partition Defined for Window operation! Moving all data to a single partition, this can cause serious performance degradation.\n",
      "22/08/28 04:26:31 WARN WindowExec: No Partition Defined for Window operation! Moving all data to a single partition, this can cause serious performance degradation.\n",
      "22/08/28 04:26:31 WARN WindowExec: No Partition Defined for Window operation! Moving all data to a single partition, this can cause serious performance degradation.\n",
      "22/08/28 04:26:31 WARN WindowExec: No Partition Defined for Window operation! Moving all data to a single partition, this can cause serious performance degradation.\n",
      "22/08/28 04:26:31 WARN WindowExec: No Partition Defined for Window operation! Moving all data to a single partition, this can cause serious performance degradation.\n",
      "22/08/28 04:26:31 WARN WindowExec: No Partition Defined for Window operation! Moving all data to a single partition, this can cause serious performance degradation.\n"
     ]
    },
    {
     "name": "stderr",
     "output_type": "stream",
     "text": [
      "[Stage 17:=============================>                            (1 + 1) / 2]\r"
     ]
    },
    {
     "name": "stdout",
     "output_type": "stream",
     "text": [
      "22/08/28 04:26:35 WARN WindowExec: No Partition Defined for Window operation! Moving all data to a single partition, this can cause serious performance degradation.\n",
      "22/08/28 04:26:35 WARN WindowExec: No Partition Defined for Window operation! Moving all data to a single partition, this can cause serious performance degradation.\n",
      "22/08/28 04:26:35 WARN WindowExec: No Partition Defined for Window operation! Moving all data to a single partition, this can cause serious performance degradation.\n",
      "22/08/28 04:26:35 WARN WindowExec: No Partition Defined for Window operation! Moving all data to a single partition, this can cause serious performance degradation.\n",
      "22/08/28 04:26:35 WARN WindowExec: No Partition Defined for Window operation! Moving all data to a single partition, this can cause serious performance degradation.\n",
      "22/08/28 04:26:35 WARN WindowExec: No Partition Defined for Window operation! Moving all data to a single partition, this can cause serious performance degradation.\n",
      "22/08/28 04:26:35 WARN WindowExec: No Partition Defined for Window operation! Moving all data to a single partition, this can cause serious performance degradation.\n",
      "22/08/28 04:26:35 WARN WindowExec: No Partition Defined for Window operation! Moving all data to a single partition, this can cause serious performance degradation.\n",
      "22/08/28 04:26:35 WARN WindowExec: No Partition Defined for Window operation! Moving all data to a single partition, this can cause serious performance degradation.\n",
      "22/08/28 04:26:35 WARN WindowExec: No Partition Defined for Window operation! Moving all data to a single partition, this can cause serious performance degradation.\n",
      "22/08/28 04:26:35 WARN WindowExec: No Partition Defined for Window operation! Moving all data to a single partition, this can cause serious performance degradation.\n",
      "22/08/28 04:26:35 WARN WindowExec: No Partition Defined for Window operation! Moving all data to a single partition, this can cause serious performance degradation.\n"
     ]
    },
    {
     "name": "stderr",
     "output_type": "stream",
     "text": [
      "                                                                                \r"
     ]
    }
   ],
   "source": [
    "Index = [maxId + i for i in range(1, data_count+1)]\n",
    "Index = spark.createDataFrame(Index, IntegerType())\n",
    "Index = Index.withColumnRenamed(\"value\", \"Id\")\n",
    "\n",
    "\n",
    "\n",
    "\n",
    "windowSpec = W.orderBy(\"Dummy\")\n",
    "\n",
    "Index = Index.withColumn(\"Dummy\", monotonically_increasing_id())\n",
    "Index = Index.withColumn(\"Dummy\", F.row_number().over(windowSpec))\n",
    "\n",
    "data = data.withColumn(\"Dummy\", monotonically_increasing_id())\n",
    "data = data.withColumn(\"Dummy\", F.row_number().over(windowSpec))\n",
    "\n",
    "data = data.join(Index, \"Dummy\", \"outer\").drop(\"Dummy\")\n",
    "\n",
    "\n",
    "\n",
    "Nombre_Intermedio_cruce1_entidades = data.select(Nombre_Input_entidades.columns)\\\n",
    "                                         .withColumn(\"Cruce\", lit(Ruta_Nombre_Input_investigadores+' / '+Ruta_Nombre_Input_relaciones).cast(StringType()))\n",
    "\n",
    "\n",
    "\n",
    "\n",
    "\n",
    "# =============================================================================\n",
    "# Aplicación de metodo para almacenar el resultado (parquet, csv, o ambos inclusive)\n",
    "# =============================================================================\n",
    "save_csv_parquet(Nombre_Intermedio_cruce1_entidades, Flag_csv, Ruta_Nombre_Intermedio_cruce1_entidades)\n"
   ]
  },
  {
   "cell_type": "code",
   "execution_count": 10,
   "id": "4135a96c-0a67-42a5-9e0f-70780b61f539",
   "metadata": {
    "scrolled": true,
    "tags": []
   },
   "outputs": [
    {
     "name": "stdout",
     "output_type": "stream",
     "text": [
      "22/08/28 04:26:36 WARN WindowExec: No Partition Defined for Window operation! Moving all data to a single partition, this can cause serious performance degradation.\n",
      "22/08/28 04:26:36 WARN WindowExec: No Partition Defined for Window operation! Moving all data to a single partition, this can cause serious performance degradation.\n",
      "22/08/28 04:26:36 WARN WindowExec: No Partition Defined for Window operation! Moving all data to a single partition, this can cause serious performance degradation.\n",
      "22/08/28 04:26:36 WARN WindowExec: No Partition Defined for Window operation! Moving all data to a single partition, this can cause serious performance degradation.\n",
      "22/08/28 04:26:36 WARN WindowExec: No Partition Defined for Window operation! Moving all data to a single partition, this can cause serious performance degradation.\n",
      "22/08/28 04:26:36 WARN WindowExec: No Partition Defined for Window operation! Moving all data to a single partition, this can cause serious performance degradation.\n",
      "22/08/28 04:26:36 WARN WindowExec: No Partition Defined for Window operation! Moving all data to a single partition, this can cause serious performance degradation.\n",
      "22/08/28 04:26:36 WARN WindowExec: No Partition Defined for Window operation! Moving all data to a single partition, this can cause serious performance degradation.\n",
      "22/08/28 04:26:36 WARN WindowExec: No Partition Defined for Window operation! Moving all data to a single partition, this can cause serious performance degradation.\n",
      "22/08/28 04:26:36 WARN WindowExec: No Partition Defined for Window operation! Moving all data to a single partition, this can cause serious performance degradation.\n",
      "22/08/28 04:26:36 WARN WindowExec: No Partition Defined for Window operation! Moving all data to a single partition, this can cause serious performance degradation.\n",
      "22/08/28 04:26:36 WARN WindowExec: No Partition Defined for Window operation! Moving all data to a single partition, this can cause serious performance degradation.\n",
      "22/08/28 04:26:36 WARN WindowExec: No Partition Defined for Window operation! Moving all data to a single partition, this can cause serious performance degradation.\n",
      "22/08/28 04:26:36 WARN WindowExec: No Partition Defined for Window operation! Moving all data to a single partition, this can cause serious performance degradation.\n",
      "22/08/28 04:26:36 WARN WindowExec: No Partition Defined for Window operation! Moving all data to a single partition, this can cause serious performance degradation.\n",
      "22/08/28 04:26:36 WARN WindowExec: No Partition Defined for Window operation! Moving all data to a single partition, this can cause serious performance degradation.\n"
     ]
    },
    {
     "name": "stderr",
     "output_type": "stream",
     "text": [
      "[Stage 36:=========>        (1 + 1) / 2][Stage 37:=========>        (1 + 1) / 2]\r"
     ]
    },
    {
     "name": "stdout",
     "output_type": "stream",
     "text": [
      "22/08/28 04:26:41 WARN WindowExec: No Partition Defined for Window operation! Moving all data to a single partition, this can cause serious performance degradation.\n",
      "22/08/28 04:26:41 WARN WindowExec: No Partition Defined for Window operation! Moving all data to a single partition, this can cause serious performance degradation.\n",
      "22/08/28 04:26:41 WARN WindowExec: No Partition Defined for Window operation! Moving all data to a single partition, this can cause serious performance degradation.\n",
      "22/08/28 04:26:41 WARN WindowExec: No Partition Defined for Window operation! Moving all data to a single partition, this can cause serious performance degradation.\n"
     ]
    },
    {
     "name": "stderr",
     "output_type": "stream",
     "text": [
      "[Stage 37:=============================>                            (1 + 1) / 2]\r"
     ]
    },
    {
     "name": "stdout",
     "output_type": "stream",
     "text": [
      "22/08/28 04:26:41 WARN WindowExec: No Partition Defined for Window operation! Moving all data to a single partition, this can cause serious performance degradation.\n",
      "22/08/28 04:26:41 WARN WindowExec: No Partition Defined for Window operation! Moving all data to a single partition, this can cause serious performance degradation.\n",
      "22/08/28 04:26:41 WARN WindowExec: No Partition Defined for Window operation! Moving all data to a single partition, this can cause serious performance degradation.\n",
      "22/08/28 04:26:41 WARN WindowExec: No Partition Defined for Window operation! Moving all data to a single partition, this can cause serious performance degradation.\n"
     ]
    },
    {
     "name": "stderr",
     "output_type": "stream",
     "text": [
      "[Stage 39:>                                                         (0 + 3) / 3]\r"
     ]
    },
    {
     "name": "stdout",
     "output_type": "stream",
     "text": [
      "22/08/28 04:26:42 WARN WindowExec: No Partition Defined for Window operation! Moving all data to a single partition, this can cause serious performance degradation.\n",
      "22/08/28 04:26:42 WARN WindowExec: No Partition Defined for Window operation! Moving all data to a single partition, this can cause serious performance degradation.\n",
      "22/08/28 04:26:42 WARN WindowExec: No Partition Defined for Window operation! Moving all data to a single partition, this can cause serious performance degradation.\n",
      "22/08/28 04:26:42 WARN WindowExec: No Partition Defined for Window operation! Moving all data to a single partition, this can cause serious performance degradation.\n",
      "22/08/28 04:26:42 WARN WindowExec: No Partition Defined for Window operation! Moving all data to a single partition, this can cause serious performance degradation.\n",
      "22/08/28 04:26:42 WARN WindowExec: No Partition Defined for Window operation! Moving all data to a single partition, this can cause serious performance degradation.\n",
      "22/08/28 04:26:42 WARN WindowExec: No Partition Defined for Window operation! Moving all data to a single partition, this can cause serious performance degradation.\n",
      "22/08/28 04:26:42 WARN WindowExec: No Partition Defined for Window operation! Moving all data to a single partition, this can cause serious performance degradation.\n",
      "22/08/28 04:26:42 WARN WindowExec: No Partition Defined for Window operation! Moving all data to a single partition, this can cause serious performance degradation.\n",
      "22/08/28 04:26:42 WARN WindowExec: No Partition Defined for Window operation! Moving all data to a single partition, this can cause serious performance degradation.\n"
     ]
    },
    {
     "name": "stderr",
     "output_type": "stream",
     "text": [
      "                                                                                \r"
     ]
    }
   ],
   "source": [
    "# # Creación del archivo Nombre_Output_investigadores\n",
    "\n",
    "\n",
    "data_2 = cruce1.filter(\"Similitud >=0.875\")\\\n",
    "        .withColumn(\"Final_Score\", col(\"Similitud\"))\\\n",
    "        .withColumn(\"Id_Centro\", col(\"Id_NIVEL_1\"))\\\n",
    "        .withColumn(\"Centro_Nombre_match\", col(\"NOMBRE_ENTIDAD_NIVEL_1\"))\\\n",
    "        .withColumn(\"Centro_Provincia_match\", col(\"COD_PROVINCIA_NIVEL_1\"))\\\n",
    "        .withColumn(\"Similitud_Centro\", col(\"Similitud\"))\\\n",
    "        .select(Nombre_Input_investigadores.columns + \n",
    "                [\"Final_Score\",\"Id_Centro\", \"Centro_Nombre_match\", \"Centro_Provincia_match\", \"Similitud_Centro\"])\n",
    "\n",
    "data_3 = data.withColumn(\"Final_Score\", col(\"Similitud\"))\\\n",
    "        .withColumn(\"Id_Centro\", col(\"Id\"))\\\n",
    "        .withColumn(\"Centro_Nombre_match\", col(\"NOMBRE_ENTIDAD_NIVEL_1\"))\\\n",
    "        .withColumn(\"Centro_Provincia_match\", col(\"COD_PROVINCIA_NIVEL_1\"))\\\n",
    "        .withColumn(\"Similitud_Centro\", col(\"Similitud\"))\\\n",
    "        .select(Nombre_Input_investigadores.columns + \n",
    "                [\"Final_Score\",\"Id_Centro\", \"Centro_Nombre_match\", \"Centro_Provincia_match\", \"Similitud_Centro\"])\n",
    "\n",
    "\n",
    "Nombre_Output_investigadores = data_2.union(data_3)\\\n",
    "                                      .withColumn(\"Cruce\", lit(Ruta_Nombre_Input_investigadores+' / '+Ruta_Nombre_Input_relaciones).cast(StringType()))  \n",
    "\n",
    "# =============================================================================\n",
    "# Aplicación de metodo para almacenar el resultado (parquet, csv, o ambos inclusive)\n",
    "# =============================================================================\n",
    "save_csv_parquet(Nombre_Output_investigadores, Flag_csv, Ruta_Nombre_Output_investigadores)\n"
   ]
  },
  {
   "cell_type": "code",
   "execution_count": 11,
   "id": "c27526ea-9233-4655-8dee-d9d6c1795f77",
   "metadata": {},
   "outputs": [],
   "source": [
    "# =============================================================================\n",
    "# Creación del archivo Nombre_Intermedio_cruce1_relaciones\n",
    "# =============================================================================\n",
    "Nombre_Intermedio_cruce1_relaciones = data.select([\"Id\", \"IdOld\", \"Entidad\", \"Centro\",\"Centro_Norm\", \"Provincia_Entidad\", \"Provincia_Centro\",\"CIF\",\"Entidad_Norm\"])"
   ]
  },
  {
   "cell_type": "code",
   "execution_count": 12,
   "id": "5c2b2d23-4a28-44d1-986b-3ecc1c776e63",
   "metadata": {
    "scrolled": true,
    "tags": []
   },
   "outputs": [
    {
     "name": "stderr",
     "output_type": "stream",
     "text": [
      "100%|████████████████████████████████████| 20000/20000 [01:26<00:00, 230.45it/s]\n",
      "100%|████████████████████████████████████| 20000/20000 [02:38<00:00, 126.22it/s]\n",
      "100%|███████████████████████████████████| 20000/20000 [00:19<00:00, 1017.35it/s]\n",
      "                                                                                \r"
     ]
    }
   ],
   "source": [
    " #Eliminamos duplicados\n",
    "    \n",
    "l = get_matching_entities_by_elasticSearch(\n",
    "                                        Nombre_Input_investigadores, \n",
    "                                        \"Entidad_Norm\", \n",
    "                                        [\"Entidad_Norm\"],\n",
    "                                        Nombre_Input_investigadores, \n",
    "                                        \"Centro_Norm\",\n",
    "                                        [\"Centro_Norm\"],\n",
    "                                        'index_name',\n",
    "                                        5)\n",
    "\n",
    "l = get_matching_by_elasticSearch_Distance_ratcliff_obershelp(spark,l)\n",
    "duplicados = list(l.filter(\"final_score >= 0.875\").select(\"Entidad_Norm\").dropDuplicates().toPandas().Entidad_Norm)\n",
    "Nombre_Intermedio_cruce1_relaciones = Nombre_Intermedio_cruce1_relaciones.filter(~Nombre_Intermedio_cruce1_relaciones.Entidad_Norm.isin(duplicados))"
   ]
  },
  {
   "cell_type": "code",
   "execution_count": 13,
   "id": "0e2ebcf0-c5ae-43b1-b638-bf1e1b36aed1",
   "metadata": {},
   "outputs": [
    {
     "name": "stdout",
     "output_type": "stream",
     "text": [
      "22/08/28 04:32:04 WARN WindowExec: No Partition Defined for Window operation! Moving all data to a single partition, this can cause serious performance degradation.\n",
      "22/08/28 04:32:04 WARN WindowExec: No Partition Defined for Window operation! Moving all data to a single partition, this can cause serious performance degradation.\n",
      "22/08/28 04:32:04 WARN WindowExec: No Partition Defined for Window operation! Moving all data to a single partition, this can cause serious performance degradation.\n",
      "22/08/28 04:32:04 WARN WindowExec: No Partition Defined for Window operation! Moving all data to a single partition, this can cause serious performance degradation.\n",
      "22/08/28 04:32:04 WARN WindowExec: No Partition Defined for Window operation! Moving all data to a single partition, this can cause serious performance degradation.\n",
      "22/08/28 04:32:04 WARN WindowExec: No Partition Defined for Window operation! Moving all data to a single partition, this can cause serious performance degradation.\n",
      "22/08/28 04:32:04 WARN WindowExec: No Partition Defined for Window operation! Moving all data to a single partition, this can cause serious performance degradation.\n",
      "22/08/28 04:32:04 WARN WindowExec: No Partition Defined for Window operation! Moving all data to a single partition, this can cause serious performance degradation.\n",
      "22/08/28 04:32:04 WARN WindowExec: No Partition Defined for Window operation! Moving all data to a single partition, this can cause serious performance degradation.\n",
      "22/08/28 04:32:04 WARN WindowExec: No Partition Defined for Window operation! Moving all data to a single partition, this can cause serious performance degradation.\n",
      "22/08/28 04:32:04 WARN WindowExec: No Partition Defined for Window operation! Moving all data to a single partition, this can cause serious performance degradation.\n",
      "22/08/28 04:32:04 WARN WindowExec: No Partition Defined for Window operation! Moving all data to a single partition, this can cause serious performance degradation.\n"
     ]
    },
    {
     "name": "stderr",
     "output_type": "stream",
     "text": [
      "[Stage 64:=============================>                            (1 + 1) / 2]\r"
     ]
    },
    {
     "name": "stdout",
     "output_type": "stream",
     "text": [
      "22/08/28 04:32:08 WARN WindowExec: No Partition Defined for Window operation! Moving all data to a single partition, this can cause serious performance degradation.\n",
      "22/08/28 04:32:08 WARN WindowExec: No Partition Defined for Window operation! Moving all data to a single partition, this can cause serious performance degradation.\n",
      "22/08/28 04:32:08 WARN WindowExec: No Partition Defined for Window operation! Moving all data to a single partition, this can cause serious performance degradation.\n",
      "22/08/28 04:32:08 WARN WindowExec: No Partition Defined for Window operation! Moving all data to a single partition, this can cause serious performance degradation.\n",
      "22/08/28 04:32:08 WARN WindowExec: No Partition Defined for Window operation! Moving all data to a single partition, this can cause serious performance degradation.\n",
      "22/08/28 04:32:08 WARN WindowExec: No Partition Defined for Window operation! Moving all data to a single partition, this can cause serious performance degradation.\n"
     ]
    },
    {
     "name": "stderr",
     "output_type": "stream",
     "text": [
      "                                                                                \r"
     ]
    }
   ],
   "source": [
    "Nombre_Intermedio_cruce1_relaciones = Nombre_Intermedio_cruce1_relaciones.withColumn(\"Id_NIVEL_1\", col(\"Id\"))\\\n",
    "      .withColumn(\"Id_NIVEL_0\", col(\"IdOld\"))\\\n",
    "      .withColumn(\"NOMBRE_ENTIDAD_NIVEL_0\", col(\"Entidad\"))\\\n",
    "      .withColumn(\"NOMBRE_ENTIDAD_NIVEL_1\", col(\"Centro\"))\\\n",
    "      .withColumn(\"COD_PROVINCIA_NIVEL_0\", col(\"Provincia_Entidad\"))\\\n",
    "      .withColumn(\"COD_PROVINCIA_NIVEL_1\", col(\"Provincia_Centro\"))\\\n",
    "      .withColumn(\"NIF_COD_NIVEL_0\", col(\"CIF\"))\\\n",
    "      .withColumn(\"Jerarquia\", lit(\"Orgánica Directa\").cast(StringType()))\\\n",
    "      .withColumn(\"ACRONIMO_NIVEL_0\",lit(None).cast(StringType()))\\\n",
    "      .withColumn(\"ACRONIMO_NIVEL_1\",lit(None).cast(StringType()))\\\n",
    "      .withColumn(\"CCAA_NIVEL_0\",lit(None).cast(StringType()))\\\n",
    "      .withColumn(\"CCAA_NIVEL_1\",lit(None).cast(StringType()))\\\n",
    "      .withColumn(\"COD_CCAA_NIVEL_0\",lit(None).cast(StringType()))\\\n",
    "      .withColumn(\"COD_CCAA_NIVEL_1\",lit(None).cast(StringType()))\\\n",
    "      .withColumn(\"COD_POSTAL_NIVEL_0\",lit(None).cast(StringType()))\\\n",
    "      .withColumn(\"COD_POSTAL_NIVEL_1\",lit(None).cast(StringType()))\\\n",
    "      .withColumn(\"DIRECCION_POSTAL_NIVEL_0\",lit(None).cast(StringType()))\\\n",
    "      .withColumn(\"DIRECCION_POSTAL_NIVEL_1\",lit(None).cast(StringType()))\\\n",
    "      .withColumn(\"ENLACE_WEB_NIVEL_0\",lit(None).cast(StringType()))\\\n",
    "      .withColumn(\"ENLACE_WEB_NIVEL_1\",lit(None).cast(StringType()))\\\n",
    "      .withColumn(\"ESTADO_x_NIVEL_0\",lit(None).cast(StringType()))\\\n",
    "      .withColumn(\"ENLACE_WEB_NIVEL_1\",lit(None).cast(StringType()))\\\n",
    "      .withColumn(\"ESTADO_x_NIVEL_0\",lit(None).cast(StringType()))\\\n",
    "      .withColumn(\"ESTADO_x_NIVEL_1\",lit(None).cast(StringType()))\\\n",
    "      .withColumn(\"ID_ENTIDAD_NIVEL_0\",lit(None).cast(StringType()))\\\n",
    "      .withColumn(\"ID_ENTIDAD_NIVEL_1\",lit(None).cast(StringType()))\\\n",
    "      .withColumn(\"NIF_COD_NIVEL_1\",lit(None).cast(StringType()))\\\n",
    "      .withColumn(\"Nombre_Entidad_Mostrar_NIVEL_0\",lit(None).cast(StringType()))\\\n",
    "      .withColumn(\"Nombre_Entidad_Mostrar_NIVEL_1\",lit(None).cast(StringType()))\\\n",
    "      .withColumn(\"PROVINCIA_NIVEL_0\",lit(None).cast(StringType()))\\\n",
    "      .withColumn(\"PROVINCIA_NIVEL_1\",lit(None).cast(StringType()))\\\n",
    "      .withColumn(\"SOMMA_NIVEL_0\",lit(None).cast(StringType()))\\\n",
    "      .withColumn(\"SOMMA_NIVEL_1\",lit(None).cast(StringType()))\\\n",
    "      .withColumn(\"TIPO_ENTIDAD_N1_1_NIVEL_0\",lit(None).cast(StringType()))\\\n",
    "      .withColumn(\"TIPO_ENTIDAD_N1_1_NIVEL_1\",lit(None).cast(StringType()))\\\n",
    "      .withColumn(\"TIPO_ENTIDAD_N2_1_NIVEL_0\",lit(None).cast(StringType()))\\\n",
    "      .withColumn(\"TIPO_ENTIDAD_N2_1_NIVEL_1\",lit(None).cast(StringType()))\\\n",
    "      .withColumn(\"TIPO_ENTIDAD_REGIONAL_NIVEL_0\",lit(None).cast(StringType()))\\\n",
    "      .withColumn(\"TIPO_ENTIDAD_REGIONAL_NIVEL_1\",lit(None).cast(StringType()))\\\n",
    "\n",
    "\n",
    "\n",
    "\n",
    "Nombre_Intermedio_cruce1_relaciones = Nombre_Intermedio_cruce1_relaciones.select(Nombre_Input_relaciones.columns)\n",
    "\n",
    "# =============================================================================\n",
    "# Aplicación de metodo para almacenar el resultado (parquet, csv, o ambos inclusive)\n",
    "# =============================================================================\n",
    "save_csv_parquet(Nombre_Intermedio_cruce1_relaciones, Flag_csv, Ruta_Nombre_Intermedio_cruce1_relaciones)"
   ]
  },
  {
   "cell_type": "code",
   "execution_count": 16,
   "id": "7e311f78-86fe-4c7b-a904-33069ab2988c",
   "metadata": {
    "scrolled": true,
    "tags": []
   },
   "outputs": [
    {
     "name": "stdout",
     "output_type": "stream",
     "text": [
      "22/08/28 04:45:14 WARN WindowExec: No Partition Defined for Window operation! Moving all data to a single partition, this can cause serious performance degradation.\n",
      "22/08/28 04:45:14 WARN WindowExec: No Partition Defined for Window operation! Moving all data to a single partition, this can cause serious performance degradation.\n",
      "22/08/28 04:45:14 WARN WindowExec: No Partition Defined for Window operation! Moving all data to a single partition, this can cause serious performance degradation.\n",
      "22/08/28 04:45:14 WARN WindowExec: No Partition Defined for Window operation! Moving all data to a single partition, this can cause serious performance degradation.\n",
      "22/08/28 04:45:14 WARN WindowExec: No Partition Defined for Window operation! Moving all data to a single partition, this can cause serious performance degradation.\n",
      "22/08/28 04:45:14 WARN WindowExec: No Partition Defined for Window operation! Moving all data to a single partition, this can cause serious performance degradation.\n",
      "22/08/28 04:45:14 WARN WindowExec: No Partition Defined for Window operation! Moving all data to a single partition, this can cause serious performance degradation.\n",
      "22/08/28 04:45:14 WARN WindowExec: No Partition Defined for Window operation! Moving all data to a single partition, this can cause serious performance degradation.\n",
      "22/08/28 04:45:14 WARN WindowExec: No Partition Defined for Window operation! Moving all data to a single partition, this can cause serious performance degradation.\n",
      "22/08/28 04:45:14 WARN WindowExec: No Partition Defined for Window operation! Moving all data to a single partition, this can cause serious performance degradation.\n",
      "22/08/28 04:45:14 WARN WindowExec: No Partition Defined for Window operation! Moving all data to a single partition, this can cause serious performance degradation.\n",
      "22/08/28 04:45:14 WARN WindowExec: No Partition Defined for Window operation! Moving all data to a single partition, this can cause serious performance degradation.\n"
     ]
    },
    {
     "name": "stderr",
     "output_type": "stream",
     "text": [
      "[Stage 166:============================>                            (1 + 1) / 2]\r"
     ]
    },
    {
     "name": "stdout",
     "output_type": "stream",
     "text": [
      "22/08/28 04:45:20 WARN WindowExec: No Partition Defined for Window operation! Moving all data to a single partition, this can cause serious performance degradation.\n",
      "22/08/28 04:45:20 WARN WindowExec: No Partition Defined for Window operation! Moving all data to a single partition, this can cause serious performance degradation.\n"
     ]
    },
    {
     "name": "stderr",
     "output_type": "stream",
     "text": [
      "[Stage 168:>                                                        (0 + 3) / 3]\r"
     ]
    },
    {
     "name": "stdout",
     "output_type": "stream",
     "text": [
      "22/08/28 04:45:22 WARN WindowExec: No Partition Defined for Window operation! Moving all data to a single partition, this can cause serious performance degradation.\n",
      "22/08/28 04:45:22 WARN WindowExec: No Partition Defined for Window operation! Moving all data to a single partition, this can cause serious performance degradation.\n",
      "22/08/28 04:45:22 WARN WindowExec: No Partition Defined for Window operation! Moving all data to a single partition, this can cause serious performance degradation.\n",
      "22/08/28 04:45:22 WARN WindowExec: No Partition Defined for Window operation! Moving all data to a single partition, this can cause serious performance degradation.\n"
     ]
    },
    {
     "name": "stderr",
     "output_type": "stream",
     "text": [
      "                                                                                \r"
     ]
    },
    {
     "ename": "SniffingError",
     "evalue": "No viable nodes were discovered on the initial sniff attempt",
     "output_type": "error",
     "traceback": [
      "\u001b[0;31m---------------------------------------------------------------------------\u001b[0m",
      "\u001b[0;31mValueError\u001b[0m                                Traceback (most recent call last)",
      "File \u001b[0;32m~/Documentos/NA/AVALON/Metodo_FuncionAzul/function2.py:106\u001b[0m, in \u001b[0;36mindex_es\u001b[0;34m(df, target_name_column, index_name)\u001b[0m\n",
      "File \u001b[0;32m~/na/lib/python3.8/site-packages/elasticsearch/_sync/client/__init__.py:191\u001b[0m, in \u001b[0;36mElasticsearch.__init__\u001b[0;34m(self, hosts, cloud_id, api_key, basic_auth, bearer_auth, opaque_id, headers, connections_per_node, http_compress, verify_certs, ca_certs, client_cert, client_key, ssl_assert_hostname, ssl_assert_fingerprint, ssl_version, ssl_context, ssl_show_warn, transport_class, request_timeout, node_class, node_pool_class, randomize_nodes_in_pool, node_selector_class, dead_node_backoff_factor, max_dead_node_backoff, serializer, serializers, default_mimetype, max_retries, retry_on_status, retry_on_timeout, sniff_on_start, sniff_before_requests, sniff_on_node_failure, sniff_timeout, min_delay_between_sniffing, sniffed_node_callback, meta_header, timeout, randomize_hosts, host_info_callback, sniffer_timeout, sniff_on_connection_fail, http_auth, maxsize, _transport)\u001b[0m\n\u001b[1;32m    190\u001b[0m \u001b[38;5;28;01mif\u001b[39;00m hosts \u001b[38;5;129;01mis\u001b[39;00m \u001b[38;5;28;01mNone\u001b[39;00m \u001b[38;5;129;01mand\u001b[39;00m cloud_id \u001b[38;5;129;01mis\u001b[39;00m \u001b[38;5;28;01mNone\u001b[39;00m \u001b[38;5;129;01mand\u001b[39;00m _transport \u001b[38;5;129;01mis\u001b[39;00m \u001b[38;5;28;01mNone\u001b[39;00m:\n\u001b[0;32m--> 191\u001b[0m     \u001b[38;5;28;01mraise\u001b[39;00m \u001b[38;5;167;01mValueError\u001b[39;00m(\u001b[38;5;124m\"\u001b[39m\u001b[38;5;124mEither \u001b[39m\u001b[38;5;124m'\u001b[39m\u001b[38;5;124mhosts\u001b[39m\u001b[38;5;124m'\u001b[39m\u001b[38;5;124m or \u001b[39m\u001b[38;5;124m'\u001b[39m\u001b[38;5;124mcloud_id\u001b[39m\u001b[38;5;124m'\u001b[39m\u001b[38;5;124m must be specified\u001b[39m\u001b[38;5;124m\"\u001b[39m)\n\u001b[1;32m    193\u001b[0m \u001b[38;5;28;01mif\u001b[39;00m timeout \u001b[38;5;129;01mis\u001b[39;00m \u001b[38;5;129;01mnot\u001b[39;00m DEFAULT:\n",
      "\u001b[0;31mValueError\u001b[0m: Either 'hosts' or 'cloud_id' must be specified",
      "\nDuring handling of the above exception, another exception occurred:\n",
      "\u001b[0;31mSniffingError\u001b[0m                             Traceback (most recent call last)",
      "Input \u001b[0;32mIn [16]\u001b[0m, in \u001b[0;36m<cell line: 13>\u001b[0;34m()\u001b[0m\n\u001b[1;32m     37\u001b[0m Nombre_Input_invente \u001b[38;5;241m=\u001b[39m Nombre_Input_invente\u001b[38;5;241m.\u001b[39mwithColumn(\u001b[38;5;124m\"\u001b[39m\u001b[38;5;124mDenominacionSocial_Norm\u001b[39m\u001b[38;5;124m\"\u001b[39m, UDF_normalizarTexto(Nombre_Input_invente\u001b[38;5;241m.\u001b[39mDenominacionSocial))\n\u001b[1;32m     40\u001b[0m \u001b[38;5;66;03m# # Nombre_Intermedio_cruce2_invente\u001b[39;00m\n\u001b[0;32m---> 44\u001b[0m l \u001b[38;5;241m=\u001b[39m \u001b[43mget_matching_entities_by_elasticSearch\u001b[49m\u001b[43m(\u001b[49m\n\u001b[1;32m     45\u001b[0m \u001b[43m                                        \u001b[49m\u001b[43mNombre_Intermedio_cruce1_entidades\u001b[49m\u001b[43m,\u001b[49m\u001b[43m \u001b[49m\n\u001b[1;32m     46\u001b[0m \u001b[43m                                        \u001b[49m\u001b[38;5;124;43m\"\u001b[39;49m\u001b[38;5;124;43mEntidad_Norm\u001b[39;49m\u001b[38;5;124;43m\"\u001b[39;49m\u001b[43m,\u001b[49m\u001b[43m \u001b[49m\n\u001b[1;32m     47\u001b[0m \u001b[43m                                        \u001b[49m\u001b[43m[\u001b[49m\u001b[38;5;124;43m\"\u001b[39;49m\u001b[38;5;124;43mEntidad_Norm\u001b[39;49m\u001b[38;5;124;43m\"\u001b[39;49m\u001b[43m]\u001b[49m\u001b[43m,\u001b[49m\n\u001b[1;32m     48\u001b[0m \u001b[43m                                        \u001b[49m\u001b[43mNombre_Input_invente\u001b[49m\u001b[43m,\u001b[49m\u001b[43m \u001b[49m\n\u001b[1;32m     49\u001b[0m \u001b[43m                                        \u001b[49m\u001b[38;5;124;43m\"\u001b[39;49m\u001b[38;5;124;43mDenominacionSocial_Norm\u001b[39;49m\u001b[38;5;124;43m\"\u001b[39;49m\u001b[43m,\u001b[49m\n\u001b[1;32m     50\u001b[0m \u001b[43m                                        \u001b[49m\u001b[43mNombre_Input_invente\u001b[49m\u001b[38;5;241;43m.\u001b[39;49m\u001b[43mcolumns\u001b[49m\u001b[43m,\u001b[49m\n\u001b[1;32m     51\u001b[0m \u001b[43m                                        \u001b[49m\u001b[38;5;124;43m'\u001b[39;49m\u001b[38;5;124;43mindex_name\u001b[39;49m\u001b[38;5;124;43m'\u001b[39;49m\u001b[43m,\u001b[49m\n\u001b[1;32m     52\u001b[0m \u001b[43m                                        \u001b[49m\u001b[38;5;241;43m1\u001b[39;49m\u001b[43m)\u001b[49m\n\u001b[1;32m     56\u001b[0m l \u001b[38;5;241m=\u001b[39m get_matching_by_elasticSearch_Distance_ratcliff_obershelp(spark,l)\u001b[38;5;241m.\u001b[39mfilter(\u001b[38;5;124m\"\u001b[39m\u001b[38;5;124mfinal_score >= 0.875\u001b[39m\u001b[38;5;124m\"\u001b[39m)\n\u001b[1;32m     60\u001b[0m l \u001b[38;5;241m=\u001b[39m l\u001b[38;5;241m.\u001b[39msort(l\u001b[38;5;241m.\u001b[39mfinal_score\u001b[38;5;241m.\u001b[39mdesc())\u001b[38;5;241m.\u001b[39mdropDuplicates(subset \u001b[38;5;241m=\u001b[39m [\u001b[38;5;124m'\u001b[39m\u001b[38;5;124mEntidad_Norm\u001b[39m\u001b[38;5;124m'\u001b[39m])\u001b[38;5;241m.\u001b[39mselect(\u001b[38;5;124m\"\u001b[39m\u001b[38;5;124mEntidad_Norm\u001b[39m\u001b[38;5;124m\"\u001b[39m,\u001b[38;5;124m\"\u001b[39m\u001b[38;5;124mDenominacionSocial\u001b[39m\u001b[38;5;124m\"\u001b[39m, \u001b[38;5;124m\"\u001b[39m\u001b[38;5;124mNIF\u001b[39m\u001b[38;5;124m\"\u001b[39m,\n\u001b[1;32m     61\u001b[0m                                                                                 \u001b[38;5;124m\"\u001b[39m\u001b[38;5;124mCodigoInvente\u001b[39m\u001b[38;5;124m\"\u001b[39m, \u001b[38;5;124m\"\u001b[39m\u001b[38;5;124mFormaJuridica_Codigo\u001b[39m\u001b[38;5;124m\"\u001b[39m, \n\u001b[1;32m     62\u001b[0m                                                                                 \u001b[38;5;124m\"\u001b[39m\u001b[38;5;124mFormaJuridica_Descripcion\u001b[39m\u001b[38;5;124m\"\u001b[39m, \u001b[38;5;124m\"\u001b[39m\u001b[38;5;124mcodigoDir3\u001b[39m\u001b[38;5;124m\"\u001b[39m,\u001b[38;5;124m\"\u001b[39m\u001b[38;5;124mcodigoOrigen\u001b[39m\u001b[38;5;124m\"\u001b[39m,\n\u001b[1;32m     63\u001b[0m                                                                                 \u001b[38;5;124m\"\u001b[39m\u001b[38;5;124mProvincia_Codigo\u001b[39m\u001b[38;5;124m\"\u001b[39m, \u001b[38;5;124m\"\u001b[39m\u001b[38;5;124mfinal_score\u001b[39m\u001b[38;5;124m\"\u001b[39m,\u001b[38;5;124m\"\u001b[39m\u001b[38;5;124mDenominacionSocial_Norm\u001b[39m\u001b[38;5;124m\"\u001b[39m)\n",
      "File \u001b[0;32m~/Documentos/NA/AVALON/Metodo_FuncionAzul/function2.py:154\u001b[0m, in \u001b[0;36mget_matching_entities_by_elasticSearch\u001b[0;34m(df1, source_name_column, df1columns, df2, target_name_column, df2columns, index_name, n)\u001b[0m\n",
      "File \u001b[0;32m~/Documentos/NA/AVALON/Metodo_FuncionAzul/function2.py:113\u001b[0m, in \u001b[0;36mindex_es\u001b[0;34m(df, target_name_column, index_name)\u001b[0m\n",
      "File \u001b[0;32m~/na/lib/python3.8/site-packages/elasticsearch/_sync/client/__init__.py:395\u001b[0m, in \u001b[0;36mElasticsearch.__init__\u001b[0;34m(self, hosts, cloud_id, api_key, basic_auth, bearer_auth, opaque_id, headers, connections_per_node, http_compress, verify_certs, ca_certs, client_cert, client_key, ssl_assert_hostname, ssl_assert_fingerprint, ssl_version, ssl_context, ssl_show_warn, transport_class, request_timeout, node_class, node_pool_class, randomize_nodes_in_pool, node_selector_class, dead_node_backoff_factor, max_dead_node_backoff, serializer, serializers, default_mimetype, max_retries, retry_on_status, retry_on_timeout, sniff_on_start, sniff_before_requests, sniff_on_node_failure, sniff_timeout, min_delay_between_sniffing, sniffed_node_callback, meta_header, timeout, randomize_hosts, host_info_callback, sniffer_timeout, sniff_on_connection_fail, http_auth, maxsize, _transport)\u001b[0m\n\u001b[1;32m    390\u001b[0m \u001b[38;5;28;01mif\u001b[39;00m min_delay_between_sniffing \u001b[38;5;129;01mis\u001b[39;00m \u001b[38;5;129;01mnot\u001b[39;00m DEFAULT:\n\u001b[1;32m    391\u001b[0m     transport_kwargs[\n\u001b[1;32m    392\u001b[0m         \u001b[38;5;124m\"\u001b[39m\u001b[38;5;124mmin_delay_between_sniffing\u001b[39m\u001b[38;5;124m\"\u001b[39m\n\u001b[1;32m    393\u001b[0m     ] \u001b[38;5;241m=\u001b[39m min_delay_between_sniffing\n\u001b[0;32m--> 395\u001b[0m _transport \u001b[38;5;241m=\u001b[39m \u001b[43mtransport_class\u001b[49m\u001b[43m(\u001b[49m\n\u001b[1;32m    396\u001b[0m \u001b[43m    \u001b[49m\u001b[43mnode_configs\u001b[49m\u001b[43m,\u001b[49m\n\u001b[1;32m    397\u001b[0m \u001b[43m    \u001b[49m\u001b[43mclient_meta_service\u001b[49m\u001b[38;5;241;43m=\u001b[39;49m\u001b[43mCLIENT_META_SERVICE\u001b[49m\u001b[43m,\u001b[49m\n\u001b[1;32m    398\u001b[0m \u001b[43m    \u001b[49m\u001b[43msniff_callback\u001b[49m\u001b[38;5;241;43m=\u001b[39;49m\u001b[43msniff_callback\u001b[49m\u001b[43m,\u001b[49m\n\u001b[1;32m    399\u001b[0m \u001b[43m    \u001b[49m\u001b[38;5;241;43m*\u001b[39;49m\u001b[38;5;241;43m*\u001b[39;49m\u001b[43mtransport_kwargs\u001b[49m\u001b[43m,\u001b[49m\n\u001b[1;32m    400\u001b[0m \u001b[43m\u001b[49m\u001b[43m)\u001b[49m\n\u001b[1;32m    402\u001b[0m \u001b[38;5;28msuper\u001b[39m()\u001b[38;5;241m.\u001b[39m\u001b[38;5;21m__init__\u001b[39m(_transport)\n\u001b[1;32m    404\u001b[0m \u001b[38;5;66;03m# These are set per-request so are stored separately.\u001b[39;00m\n",
      "File \u001b[0;32m~/na/lib/python3.8/site-packages/elastic_transport/_transport.py:246\u001b[0m, in \u001b[0;36mTransport.__init__\u001b[0;34m(self, node_configs, node_class, node_pool_class, randomize_nodes_in_pool, node_selector_class, dead_node_backoff_factor, max_dead_node_backoff, serializers, default_mimetype, max_retries, retry_on_status, retry_on_timeout, sniff_on_start, sniff_before_requests, sniff_on_node_failure, sniff_timeout, min_delay_between_sniffing, sniff_callback, meta_header, client_meta_service)\u001b[0m\n\u001b[1;32m    243\u001b[0m \u001b[38;5;28mself\u001b[39m\u001b[38;5;241m.\u001b[39m_last_sniffed_at \u001b[38;5;241m=\u001b[39m \u001b[38;5;241m0.0\u001b[39m\n\u001b[1;32m    245\u001b[0m \u001b[38;5;28;01mif\u001b[39;00m sniff_on_start:\n\u001b[0;32m--> 246\u001b[0m     \u001b[38;5;28;43mself\u001b[39;49m\u001b[38;5;241;43m.\u001b[39;49m\u001b[43msniff\u001b[49m\u001b[43m(\u001b[49m\u001b[38;5;28;43;01mTrue\u001b[39;49;00m\u001b[43m)\u001b[49m\n",
      "File \u001b[0;32m~/na/lib/python3.8/site-packages/elastic_transport/_transport.py:449\u001b[0m, in \u001b[0;36mTransport.sniff\u001b[0;34m(self, is_initial_sniff)\u001b[0m\n\u001b[1;32m    447\u001b[0m node_configs \u001b[38;5;241m=\u001b[39m \u001b[38;5;28mself\u001b[39m\u001b[38;5;241m.\u001b[39m_sniff_callback(\u001b[38;5;28mself\u001b[39m, options)\n\u001b[1;32m    448\u001b[0m \u001b[38;5;28;01mif\u001b[39;00m \u001b[38;5;129;01mnot\u001b[39;00m node_configs \u001b[38;5;129;01mand\u001b[39;00m is_initial_sniff:\n\u001b[0;32m--> 449\u001b[0m     \u001b[38;5;28;01mraise\u001b[39;00m SniffingError(\n\u001b[1;32m    450\u001b[0m         \u001b[38;5;124m\"\u001b[39m\u001b[38;5;124mNo viable nodes were discovered on the initial sniff attempt\u001b[39m\u001b[38;5;124m\"\u001b[39m\n\u001b[1;32m    451\u001b[0m     )\n\u001b[1;32m    453\u001b[0m prev_node_pool_size \u001b[38;5;241m=\u001b[39m \u001b[38;5;28mlen\u001b[39m(\u001b[38;5;28mself\u001b[39m\u001b[38;5;241m.\u001b[39mnode_pool)\n\u001b[1;32m    454\u001b[0m \u001b[38;5;28;01mfor\u001b[39;00m node_config \u001b[38;5;129;01min\u001b[39;00m node_configs:\n",
      "\u001b[0;31mSniffingError\u001b[0m: No viable nodes were discovered on the initial sniff attempt"
     ]
    }
   ],
   "source": [
    "# =============================================================================\n",
    "# Agregacion vertical de relaciones\n",
    "# =============================================================================\n",
    "\n",
    "Nombre_Output_relaciones = Nombre_Input_relaciones.union(Nombre_Intermedio_cruce1_relaciones)\n",
    "\n",
    "# =============================================================================\n",
    "# Aplicación de metodo para almacenar el resultado (parquet, csv, o ambos inclusive)\n",
    "# =============================================================================\n",
    "save_csv_parquet(Nombre_Output_relaciones, Flag_csv, Ruta_Nombre_Output_relaciones)\n",
    "\n",
    "\n",
    "if flag_invente_dir3 == True:\n",
    "# # Nombre_Input_invente\n",
    "# data invente\n",
    "    Nombre_Input_invente = pd.read_excel(Ruta_Nombre_Input_invente)\n",
    "    for i in Nombre_Input_invente.columns:\n",
    "        Nombre_Input_invente[i] = Nombre_Input_invente[i].astype(str)\n",
    "\n",
    "\n",
    "\n",
    "    new_header = Nombre_Input_invente.iloc[0] \n",
    "    # #grab the first row for the header\n",
    "    Nombre_Input_invente = Nombre_Input_invente[1:] #take the data less the header row\n",
    "    Nombre_Input_invente.columns = new_header #set the header row as the df header\n",
    "\n",
    "    Nombre_Input_invente = Nombre_Input_invente[[\"DenominacionSocial\", \"Provincia_Codigo\", \"NIF\",\n",
    "                                                    \"CodigoInvente\", \"FormaJuridica_Codigo\", \n",
    "                                                    \"FormaJuridica_Descripcion\", \"codigoDir3\",\"codigoOrigen\",\n",
    "                                                    \"Provincia_Codigo\"]]\n",
    "\n",
    "    Nombre_Input_invente = Nombre_Input_invente.loc[:,~Nombre_Input_invente.columns.duplicated()]\n",
    "\n",
    "    Nombre_Input_invente = spark.createDataFrame(Nombre_Input_invente.fillna('')) \n",
    "\n",
    "\n",
    "    Nombre_Input_invente = Nombre_Input_invente.withColumn(\"DenominacionSocial_Norm\", UDF_normalizarTexto(Nombre_Input_invente.DenominacionSocial))\n",
    "\n",
    "\n",
    "    # # Nombre_Intermedio_cruce2_invente\n",
    "\n",
    "\n",
    "\n",
    "    l = get_matching_entities_by_elasticSearch(\n",
    "                                            Nombre_Intermedio_cruce1_entidades, \n",
    "                                            \"Entidad_Norm\", \n",
    "                                            [\"Entidad_Norm\"],\n",
    "                                            Nombre_Input_invente, \n",
    "                                            \"DenominacionSocial_Norm\",\n",
    "                                            Nombre_Input_invente.columns,\n",
    "                                            'index_name',\n",
    "                                            1)\n",
    "\n",
    "\n",
    "\n",
    "    l = get_matching_by_elasticSearch_Distance_ratcliff_obershelp(spark,l).filter(\"final_score >= 0.875\")\n",
    "\n",
    "\n",
    "\n",
    "    l = l.sort(l.final_score.desc()).dropDuplicates(subset = ['Entidad_Norm']).select(\"Entidad_Norm\",\"DenominacionSocial\", \"NIF\",\n",
    "                                                                                    \"CodigoInvente\", \"FormaJuridica_Codigo\", \n",
    "                                                                                    \"FormaJuridica_Descripcion\", \"codigoDir3\",\"codigoOrigen\",\n",
    "                                                                                    \"Provincia_Codigo\", \"final_score\",\"DenominacionSocial_Norm\")\n",
    "\n",
    "\n",
    "\n",
    "    Nombre_Intermedio_cruce2_invente = Nombre_Intermedio_cruce1_entidades.drop(\"CodigoInvente\",\"DenominacionSocial\", \"FormaJuridica_Codigo\", \n",
    "                                                                       \"FormaJuridica_Descripcion\", \"NIF\", \"codigoDir3\", \"codigoOrigen\",\n",
    "                                                                        \"Provincia_Codigo\", \"Provincia_Entidad\", \"CIF\")\n",
    "\n",
    "\n",
    "\n",
    "\n",
    "\n",
    "\n",
    "\n",
    "    Nombre_Intermedio_cruce2_invente = Nombre_Intermedio_cruce2_invente.join(l,\n",
    "                                          Nombre_Intermedio_cruce2_invente.Entidad_Norm ==  l.Entidad_Norm,\"left\")                                 \n",
    "\n",
    "\n",
    "\n",
    "    Nombre_Intermedio_cruce2_invente1 = Nombre_Intermedio_cruce2_invente.filter(\"final_score is not NULL\").drop(\"Entidad_Norm\")\n",
    "    Nombre_Intermedio_cruce2_invente2 = Nombre_Intermedio_cruce2_invente.filter(\"final_score is  NULL\")\n",
    "\n",
    "\n",
    "\n",
    "\n",
    "    Nombre_Intermedio_cruce2_invente1 = Nombre_Intermedio_cruce2_invente1.withColumn(\"Entidad_Norm\", col(\"DenominacionSocial_Norm\"))\\\n",
    "                                                                        .withColumn(\"Provincia_Entidad\", col(\"Provincia_Codigo\"))\\\n",
    "                                                                        .withColumn(\"CIF\", col(\"NIF\"))\\\n",
    "                                                                        .withColumn(\"Similitud_invente\", col(\"final_score\"))\n",
    "\n",
    "\n",
    "\n",
    "\n",
    "    Nombre_Intermedio_cruce2_invente1 = Nombre_Intermedio_cruce2_invente1.select(Nombre_Intermedio_cruce1_entidades.columns+[\"Similitud_invente\"])\n",
    "\n",
    "\n",
    "\n",
    "\n",
    "    Nombre_Intermedio_cruce2_invente = Nombre_Intermedio_cruce2_invente1.union(Nombre_Intermedio_cruce2_invente2)\n",
    "\n",
    "    # =============================================================================\n",
    "    # Aplicación de metodo para almacenar el resultado (parquet, csv, o ambos inclusive)\n",
    "    # =============================================================================\n",
    "    save_csv_parquet(Nombre_Intermedio_cruce2_invente, Flag_csv, Ruta_Nombre_Intermedio_cruce2_invente)\n",
    "\n",
    "\n",
    "\n",
    "    # # Nombre_Intermedio_proceso_dir3_entidades\n",
    "\n",
    "\n",
    "\n",
    "    Nombre_Input_dir3 = spark.read.csv(Ruta_Nombre_Input_dir3, sep=\";\", header=True).drop(\"Unnamed: 0\")\n",
    "    Nombre_Input_dir3 = Nombre_Input_dir3.withColumn(\"C_DNM_UD_ORGANICA_Norm\", UDF_normalizarTexto(Nombre_Input_dir3.C_DNM_UD_ORGANICA))\n",
    "\n",
    "\n",
    "\n",
    "\n",
    "    l = get_matching_entities_by_elasticSearch(\n",
    "                                            Nombre_Intermedio_cruce2_invente, \n",
    "                                            \"Entidad_Norm\", \n",
    "                                            [\"Entidad_Norm\"],\n",
    "                                            Nombre_Input_dir3, \n",
    "                                            \"C_DNM_UD_ORGANICA_Norm\",\n",
    "                                            Nombre_Input_dir3.columns,\n",
    "                                            'index_name',\n",
    "                                            5)\n",
    "\n",
    "    l = get_matching_by_elasticSearch_Distance_ratcliff_obershelp(spark,l).filter(\"final_score >= 0.875\")\\\n",
    "                                   .dropDuplicates(subset = ['Entidad_Norm', \"C_DNM_UD_ORGANICA_Norm\"])\n",
    "\n",
    "\n",
    "\n",
    "\n",
    "\n",
    "    unique = l.selectExpr(\n",
    "                  '*', \n",
    "                  'count(*) over (partition by Entidad_Norm) as cnt'\n",
    "                ).filter(F.col('cnt') == 1).drop('cnt')\n",
    "\n",
    "\n",
    "\n",
    "\n",
    "    duplicated = l.join(l.groupBy('Entidad_Norm')\\\n",
    "                      .count().where('count = 1').drop('count'),\n",
    "                    on=['Entidad_Norm'],\n",
    "                    how='left_anti')\n",
    "\n",
    "\n",
    "\n",
    "    duplicated1 = duplicated.selectExpr(\n",
    "                  '*', \n",
    "                  'count(*) over (partition by Entidad_Norm, N_NIVEL_JERARQUICO) as cnt'\n",
    "                ).filter(F.col('cnt') == 1).drop('cnt')\n",
    "\n",
    "    duplicated1 = duplicated1.sort(duplicated1.N_NIVEL_JERARQUICO.asc())\\\n",
    "                                .dropDuplicates(subset = ['Entidad_Norm'])\n",
    "\n",
    "\n",
    "\n",
    "    duplicated2 = l.join(l.groupBy('Entidad_Norm', 'N_NIVEL_JERARQUICO')\\\n",
    "                      .count().where('count = 1').drop('count'),\n",
    "                    on=['Entidad_Norm','N_NIVEL_JERARQUICO'],\n",
    "                    how='left_anti')\n",
    "\n",
    "\n",
    "    duplicated2 = duplicated2.withColumn(\"Similitud\", \n",
    "                               udf_Distance_ratcliff_obershelp(\n",
    "                                   UDF_normalizarTexto(duplicated2.C_DNM_UD_ORGANICA_SUPERIOR),\n",
    "                                   duplicated2.Entidad_Norm )\n",
    "                              ) \n",
    "\n",
    "\n",
    "\n",
    "    duplicated2 = duplicated2.sort(duplicated2.Similitud.desc())\\\n",
    "                                .dropDuplicates(subset = ['Entidad_Norm']).drop(\"Similitud\")\n",
    "\n",
    "\n",
    "\n",
    "    match = unique.union(duplicated1).union(duplicated2)\\\n",
    "                   .select(['Entidad_Norm',\"final_score\"] + Nombre_Input_dir3.columns)\\\n",
    "                   .withColumnRenamed(\"Entidad_Norm\",\"Entidad_Norm1\")\n",
    "\n",
    "\n",
    "\n",
    "    Nombre_Intermedio_proceso_dir3_entidades = Nombre_Intermedio_cruce2_invente\\\n",
    "                                                .drop('C_DNM_UD_ORGANICA_SUPERIOR', 'C_ID_UD_ORGANICA', 'C_ID_TIPO_ENT_PUBLICA',\n",
    "                                                      'C_DESC_PROV', 'C_ID_DEP_EDP_PRINCIPAL', 'C_ID_ESTADO', 'D_VIG_ALTA_OFICIAL', \n",
    "                                                      'CONTACTOS', 'NIF_CIF', 'C_ID_NIVEL_ADMON', 'C_DNM_UD_ORGANICA_EDP_PRINCIPAL', \n",
    "                                                      'C_ID_DEP_UD_PRINCIPAL', 'N_NIVEL_JERARQUICO', 'C_DNM_UD_ORGANICA', \n",
    "                                                      'C_DNM_UD_ORGANICA_PRINCIPAL', 'B_SW_DEP_EDP_PRINCIPAL', 'C_ID_AMB_PROVINCIA',\n",
    "                                                      'C_ID_DEP_UD_SUPERIOR')\n",
    "\n",
    "\n",
    "\n",
    "\n",
    "    Nombre_Intermedio_proceso_dir3_entidades = Nombre_Intermedio_proceso_dir3_entidades.join(match,\n",
    "                                          Nombre_Intermedio_proceso_dir3_entidades.Entidad_Norm ==  match.Entidad_Norm1,\"left\")     \n",
    "\n",
    "\n",
    "\n",
    "\n",
    "    Nombre_Intermedio_proceso_dir3_entidades1 = Nombre_Intermedio_proceso_dir3_entidades.filter(\"final_score is not NULL\").drop(\"Entidad_Norm\")\n",
    "\n",
    "    Nombre_Intermedio_proceso_dir3_entidades2 = Nombre_Intermedio_proceso_dir3_entidades.filter(\"final_score is  NULL\").drop(\"Entidad_Norm1\")\n",
    "\n",
    "    Nombre_Intermedio_proceso_dir3_entidades2 = Nombre_Intermedio_proceso_dir3_entidades2\\\n",
    "                                                    .withColumn(\"Entidad_Norm\", col(\"C_DNM_UD_ORGANICA\"))\\\n",
    "                                                    .withColumn(\"Provincia_Entidad\", col(\"C_DESC_PROV\"))\\\n",
    "                                                    .withColumn(\"CIF\", col(\"NIF_CIF\"))\\\n",
    "                                                    .withColumn(\"Similitud_Dir3\",lit(None).cast(FloatType()))\n",
    "\n",
    "\n",
    "\n",
    "    Nombre_Intermedio_proceso_dir3_entidades1 = Nombre_Intermedio_proceso_dir3_entidades1\\\n",
    "                                    .withColumn(\"Entidad_Norm\", col(\"C_DNM_UD_ORGANICA\"))\\\n",
    "                                    .withColumn(\"Provincia_Entidad\", col(\"C_DESC_PROV\"))\\\n",
    "                                    .withColumn(\"CIF\", col(\"NIF_CIF\"))\\\n",
    "                                    .withColumn(\"Similitud_Dir3\", col(\"final_score\"))\\\n",
    "                                    .drop(\"Entidad_Norm1\")\n",
    "\n",
    "\n",
    "\n",
    "\n",
    "    Nombre_Intermedio_cruce3_dir3 = Nombre_Intermedio_proceso_dir3_entidades1\\\n",
    "                                                .union(Nombre_Intermedio_proceso_dir3_entidades2)\\\n",
    "                                                .drop(\"C_DNM_UD_ORGANICA_Norm\", \"final_score\")\n",
    "\n",
    "    # =============================================================================\n",
    "    # Aplicación de metodo para almacenar el resultado (parquet, csv, o ambos inclusive)\n",
    "    # =============================================================================\n",
    "    save_csv_parquet(Nombre_Intermedio_cruce3_dir3, Flag_csv, Ruta_Nombre_Intermedio_cruce3_dir3)\n",
    "\n",
    "\n",
    "    # # Inclusion vertical\n",
    "\n",
    "\n",
    "\n",
    "    Nombre_Output_entidades = Nombre_Intermedio_cruce3_dir3.drop(\"Similitud_Invente\", \"Similitud_Dir3\")\n",
    "\n",
    "\n",
    "\n",
    "\n",
    "    Nombre_Output_entidades = Nombre_Input_entidades\\\n",
    "                                                .union(Nombre_Output_entidadesdrop(\"Cruce\")\n",
    ")\n",
    "\n",
    "\n",
    "    # =============================================================================\n",
    "    # Aplicación de metodo para almacenar el resultado (parquet, csv, o ambos inclusive)\n",
    "    # =============================================================================\n",
    "    save_csv_parquet(Nombre_Output_entidades, Flag_csv, Ruta_Nombre_Output_entidades)\n",
    "\n",
    "\n",
    "# # If flag_invente_dir3 == False\n",
    "else:\n",
    "\n",
    "    Nombre_Output_entidades = Nombre_Input_entidades\\\n",
    "                                                .union(Nombre_Intermedio_cruce1_entidades)\n",
    "\n",
    "    # =============================================================================\n",
    "    # Aplicación de metodo para almacenar el resultado (parquet, csv, o ambos inclusive)\n",
    "    # =============================================================================\n",
    "    save_csv_parquet(Nombre_Output_entidades, Flag_csv, Ruta_Nombre_Output_entidades)"
   ]
  },
  {
   "cell_type": "code",
   "execution_count": null,
   "id": "456751ca-c22e-4f5b-875b-5b67b5fd87ca",
   "metadata": {},
   "outputs": [],
   "source": []
  },
  {
   "cell_type": "code",
   "execution_count": null,
   "id": "1c52ea32-bcf2-4c73-8a15-a9c1b829634d",
   "metadata": {},
   "outputs": [],
   "source": []
  },
  {
   "cell_type": "code",
   "execution_count": null,
   "id": "ae248661-35c5-4485-a1de-60faf2be8667",
   "metadata": {},
   "outputs": [],
   "source": []
  },
  {
   "cell_type": "code",
   "execution_count": null,
   "id": "667bf482-c1b1-4bba-aaf2-df5fb6b15574",
   "metadata": {},
   "outputs": [],
   "source": []
  },
  {
   "cell_type": "code",
   "execution_count": null,
   "id": "bbf28bb0-fbf5-4b30-8b09-e6b7fa90e8da",
   "metadata": {},
   "outputs": [],
   "source": []
  },
  {
   "cell_type": "code",
   "execution_count": null,
   "id": "efedbde0-c30f-4e75-a158-355a904e1354",
   "metadata": {},
   "outputs": [],
   "source": []
  },
  {
   "cell_type": "code",
   "execution_count": null,
   "id": "52a031c8-41b1-437a-ad46-f75287281f5e",
   "metadata": {},
   "outputs": [],
   "source": []
  },
  {
   "cell_type": "code",
   "execution_count": null,
   "id": "f22f210c-40a3-4504-9df5-827df9f63bfb",
   "metadata": {},
   "outputs": [],
   "source": []
  },
  {
   "cell_type": "code",
   "execution_count": null,
   "id": "6e51f3ed",
   "metadata": {
    "scrolled": true,
    "tags": []
   },
   "outputs": [],
   "source": [
    "FuncionAzul(Ruta_Nombre_Input_entidades = \"DATA_SIC_ENTIDADES_PUBLICAS_AYUDAS_ESP_short1.csv\", \n",
    "            Ruta_Nombre_Input_investigadores = \"DATA_SIC_AYUDA_ESP_UO_PB_J_MAESTRO_short1.csv\",     \n",
    "            Ruta_Nombre_Input_relaciones = \"DATA_RELACION_ENTIDADES_MAESTRO_short1.csv\",\n",
    "            Ruta_Nombre_Input_invente = 'Analisis_entidades_invente_15-02-2022.xlsx', \n",
    "            Ruta_Nombre_Input_dir3 = \"DIR3_concatenado_AGE_CCAA_EELL_Universidades.csv\", \n",
    "            Ruta_Nombre_Intermedio_cruce1_relaciones = \"test/Nombre_Intermedio_cruce1_relaciones\",\n",
    "            Ruta_Nombre_Intermedio_cruce1_entidades = \"test/Nombre_Intermedio_cruce1_entidades\", \n",
    "            Ruta_Nombre_Intermedio_cruce2_invente = \"test/Nombre_Intermedio_cruce2_invente\", \n",
    "            Ruta_Nombre_Intermedio_cruce3_dir3 = \"test/Nombre_Intermedio_cruce3_dir3\",\n",
    "            Ruta_Nombre_Output_investigadores = \"test/Nombre_Output_investigadores\", \n",
    "            Ruta_Nombre_Output_relaciones = \"test/Ruta_Nombre_Output_relaciones\",\n",
    "            Ruta_Nombre_Output_entidades = \"test/Ruta_Nombre_Output_entidades\", \n",
    "            flag_invente_dir3 = False, \n",
    "            Flag_csv = True)"
   ]
  },
  {
   "cell_type": "code",
   "execution_count": null,
   "id": "1a4e601c",
   "metadata": {},
   "outputs": [],
   "source": []
  }
 ],
 "metadata": {
  "kernelspec": {
   "display_name": "Python 3",
   "language": "python",
   "name": "python3"
  },
  "language_info": {
   "codemirror_mode": {
    "name": "ipython",
    "version": 3
   },
   "file_extension": ".py",
   "mimetype": "text/x-python",
   "name": "python",
   "nbconvert_exporter": "python",
   "pygments_lexer": "ipython3",
   "version": "3.8.5"
  }
 },
 "nbformat": 4,
 "nbformat_minor": 5
}
