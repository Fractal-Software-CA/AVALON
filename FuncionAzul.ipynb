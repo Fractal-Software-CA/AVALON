{
 "cells": [
  {
   "cell_type": "code",
   "execution_count": 1,
   "id": "3b8a875d",
   "metadata": {},
   "outputs": [],
   "source": [
    "import sys  \n",
    "sys.path.insert(0, '/Users/arturo/Downloads/')\n",
    "\n",
    "from Funciones import *"
   ]
  },
  {
   "cell_type": "code",
   "execution_count": 2,
   "id": "ffad5d2f",
   "metadata": {},
   "outputs": [],
   "source": [
    "import pyspark\n",
    "from pyspark.sql import SparkSession\n",
    "from Funciones import *\n",
    "# from pyspark.sql.types import StructType,StructField, StringType, IntegerType \n",
    "# from pyspark.sql.types import ArrayType, DoubleType, BooleanType\n",
    "# from pyspark.sql.functions import col,array_contains\n",
    "\n"
   ]
  },
  {
   "cell_type": "code",
   "execution_count": 3,
   "id": "aebed985",
   "metadata": {},
   "outputs": [
    {
     "name": "stderr",
     "output_type": "stream",
     "text": [
      "Setting default log level to \"WARN\".\n",
      "To adjust logging level use sc.setLogLevel(newLevel). For SparkR, use setLogLevel(newLevel).\n"
     ]
    },
    {
     "name": "stdout",
     "output_type": "stream",
     "text": [
      "22/07/19 21:34:03 WARN NativeCodeLoader: Unable to load native-hadoop library for your platform... using builtin-java classes where applicable\n"
     ]
    }
   ],
   "source": [
    "spark = SparkSession.builder.appName('SparkByExamples.com').getOrCreate()\n"
   ]
  },
  {
   "cell_type": "markdown",
   "id": "e5d318af",
   "metadata": {},
   "source": [
    "# Datos"
   ]
  },
  {
   "cell_type": "code",
   "execution_count": 4,
   "id": "7e715f8c",
   "metadata": {},
   "outputs": [],
   "source": [
    "fi4 = spark.read.csv(\"DATA_SIC_ENTIDADES_PUBLICAS_AYUDAS_ESP.csv\", sep=\";\", header=True)\n",
    "a12 = spark.read.csv(\"DATA_RELACION_ENTIDADES_MAESTRO.csv\", sep=\";\", header=True)\n",
    "fi5 = spark.read.csv(\"DATA_SIC_AYUDA_ESP_UO_PB_J_MAESTRO.csv\", sep=\";\", header=True)"
   ]
  },
  {
   "cell_type": "markdown",
   "id": "5390fb48",
   "metadata": {},
   "source": [
    "# Cruce 1"
   ]
  },
  {
   "cell_type": "code",
   "execution_count": 12,
   "id": "dc76ba9e",
   "metadata": {},
   "outputs": [],
   "source": [
    "cruce1 = fi5.join(a12,fi5.Id ==  a12.Id_NIVEL_0,\"outer\")"
   ]
  },
  {
   "cell_type": "code",
   "execution_count": 28,
   "id": "304cf61d",
   "metadata": {},
   "outputs": [],
   "source": [
    "cruce1 = cruce1.withColumn(\"Similitud\", \n",
    "                           udf_Distance_ratcliff_obershelp(\n",
    "                               cruce1.NOMBRE_ENTIDAD_NIVEL_1,cruce1.Centro_Norm\n",
    "                           )) "
   ]
  },
  {
   "cell_type": "code",
   "execution_count": null,
   "id": "20dd057c",
   "metadata": {},
   "outputs": [],
   "source": []
  },
  {
   "cell_type": "code",
   "execution_count": null,
   "id": "b4674c4b",
   "metadata": {},
   "outputs": [],
   "source": []
  },
  {
   "cell_type": "code",
   "execution_count": null,
   "id": "f04cca19",
   "metadata": {},
   "outputs": [],
   "source": []
  },
  {
   "cell_type": "code",
   "execution_count": null,
   "id": "601662b0",
   "metadata": {},
   "outputs": [],
   "source": []
  },
  {
   "cell_type": "code",
   "execution_count": null,
   "id": "6021ad3d",
   "metadata": {},
   "outputs": [],
   "source": []
  },
  {
   "cell_type": "code",
   "execution_count": null,
   "id": "0280fe87",
   "metadata": {},
   "outputs": [],
   "source": []
  },
  {
   "cell_type": "code",
   "execution_count": null,
   "id": "a42b45f9",
   "metadata": {},
   "outputs": [],
   "source": []
  },
  {
   "cell_type": "code",
   "execution_count": null,
   "id": "966de426",
   "metadata": {},
   "outputs": [],
   "source": []
  },
  {
   "cell_type": "code",
   "execution_count": null,
   "id": "e22a42da",
   "metadata": {},
   "outputs": [],
   "source": []
  },
  {
   "cell_type": "code",
   "execution_count": null,
   "id": "7415739e",
   "metadata": {},
   "outputs": [],
   "source": []
  },
  {
   "cell_type": "code",
   "execution_count": null,
   "id": "b7024720",
   "metadata": {},
   "outputs": [],
   "source": []
  },
  {
   "cell_type": "code",
   "execution_count": null,
   "id": "fe7963a1",
   "metadata": {},
   "outputs": [],
   "source": []
  },
  {
   "cell_type": "code",
   "execution_count": null,
   "id": "5b38f4e9",
   "metadata": {},
   "outputs": [],
   "source": []
  },
  {
   "cell_type": "code",
   "execution_count": null,
   "id": "2f184689",
   "metadata": {},
   "outputs": [],
   "source": []
  },
  {
   "cell_type": "code",
   "execution_count": null,
   "id": "76c4e0f4",
   "metadata": {},
   "outputs": [],
   "source": []
  },
  {
   "cell_type": "code",
   "execution_count": null,
   "id": "184d4742",
   "metadata": {},
   "outputs": [],
   "source": []
  },
  {
   "cell_type": "code",
   "execution_count": null,
   "id": "d85bb041",
   "metadata": {},
   "outputs": [],
   "source": []
  },
  {
   "cell_type": "code",
   "execution_count": 21,
   "id": "58916892",
   "metadata": {},
   "outputs": [
    {
     "name": "stdout",
     "output_type": "stream",
     "text": [
      "root\n",
      " |-- Id: string (nullable = true)\n",
      " |-- Entidad: string (nullable = true)\n",
      " |-- Origen_Solicitud: string (nullable = true)\n",
      " |-- Identificadores_Origen: string (nullable = true)\n",
      " |-- Entidad_Norm: string (nullable = true)\n",
      " |-- CIF: string (nullable = true)\n",
      " |-- CIF_validacion: string (nullable = true)\n",
      " |-- Centro: string (nullable = true)\n",
      " |-- Centro_Norm: string (nullable = true)\n",
      " |-- Tipo: string (nullable = true)\n",
      " |-- Provincia_Entidad: string (nullable = true)\n",
      " |-- Pais_Entidad: string (nullable = true)\n",
      " |-- Provincia_Centro: string (nullable = true)\n",
      " |-- PIC: string (nullable = true)\n",
      " |-- Tipo_Persona: string (nullable = true)\n",
      " |-- Entidad_Match: string (nullable = true)\n",
      " |-- Provincia_Match: string (nullable = true)\n",
      " |-- Match: string (nullable = true)\n",
      "\n"
     ]
    }
   ],
   "source": [
    "fi5.printSchema()\n"
   ]
  },
  {
   "cell_type": "code",
   "execution_count": 21,
   "id": "b9ecc6e5",
   "metadata": {},
   "outputs": [
    {
     "name": "stdout",
     "output_type": "stream",
     "text": [
      "root\n",
      " |-- Id_NIVEL_1: string (nullable = true)\n",
      " |-- Id_NIVEL_0: string (nullable = true)\n",
      " |-- ID_ENTIDAD_NIVEL_0: string (nullable = true)\n",
      " |-- ID_ENTIDAD_NIVEL_1: string (nullable = true)\n",
      " |-- Jerarquia: string (nullable = true)\n",
      " |-- NIF_COD_NIVEL_0: string (nullable = true)\n",
      " |-- ACRONIMO_NIVEL_0: string (nullable = true)\n",
      " |-- NOMBRE_ENTIDAD_NIVEL_0: string (nullable = true)\n",
      " |-- Nombre_Entidad_Mostrar_NIVEL_0: string (nullable = true)\n",
      " |-- TIPO_ENTIDAD_N1_1_NIVEL_0: string (nullable = true)\n",
      " |-- TIPO_ENTIDAD_N2_1_NIVEL_0: string (nullable = true)\n",
      " |-- DIRECCION_POSTAL_NIVEL_0: string (nullable = true)\n",
      " |-- COD_POSTAL_NIVEL_0: string (nullable = true)\n",
      " |-- COD_PROVINCIA_NIVEL_0: string (nullable = true)\n",
      " |-- PROVINCIA_NIVEL_0: string (nullable = true)\n",
      " |-- COD_CCAA_NIVEL_0: string (nullable = true)\n",
      " |-- CCAA_NIVEL_0: string (nullable = true)\n",
      " |-- ENLACE_WEB_NIVEL_0: string (nullable = true)\n",
      " |-- SOMMA_NIVEL_0: string (nullable = true)\n",
      " |-- TIPO_ENTIDAD_REGIONAL_NIVEL_0: string (nullable = true)\n",
      " |-- ESTADO_x_NIVEL_0: string (nullable = true)\n",
      " |-- NIF_COD_NIVEL_1: string (nullable = true)\n",
      " |-- ACRONIMO_NIVEL_1: string (nullable = true)\n",
      " |-- NOMBRE_ENTIDAD_NIVEL_1: string (nullable = true)\n",
      " |-- Nombre_Entidad_Mostrar_NIVEL_1: string (nullable = true)\n",
      " |-- TIPO_ENTIDAD_N1_1_NIVEL_1: string (nullable = true)\n",
      " |-- TIPO_ENTIDAD_N2_1_NIVEL_1: string (nullable = true)\n",
      " |-- DIRECCION_POSTAL_NIVEL_1: string (nullable = true)\n",
      " |-- COD_POSTAL_NIVEL_1: string (nullable = true)\n",
      " |-- COD_PROVINCIA_NIVEL_1: string (nullable = true)\n",
      " |-- PROVINCIA_NIVEL_1: string (nullable = true)\n",
      " |-- COD_CCAA_NIVEL_1: string (nullable = true)\n",
      " |-- CCAA_NIVEL_1: string (nullable = true)\n",
      " |-- ENLACE_WEB_NIVEL_1: string (nullable = true)\n",
      " |-- SOMMA_NIVEL_1: string (nullable = true)\n",
      " |-- TIPO_ENTIDAD_REGIONAL_NIVEL_1: string (nullable = true)\n",
      " |-- ESTADO_x_NIVEL_1: string (nullable = true)\n",
      "\n"
     ]
    }
   ],
   "source": [
    "a12.printSchema()"
   ]
  }
 ],
 "metadata": {
  "kernelspec": {
   "display_name": "Python 3 (ipykernel)",
   "language": "python",
   "name": "python3"
  },
  "language_info": {
   "codemirror_mode": {
    "name": "ipython",
    "version": 3
   },
   "file_extension": ".py",
   "mimetype": "text/x-python",
   "name": "python",
   "nbconvert_exporter": "python",
   "pygments_lexer": "ipython3",
   "version": "3.9.7"
  }
 },
 "nbformat": 4,
 "nbformat_minor": 5
}
