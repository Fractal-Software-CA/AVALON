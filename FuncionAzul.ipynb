{
 "cells": [
  {
   "cell_type": "code",
   "execution_count": 1,
   "id": "3b8a875d",
   "metadata": {},
   "outputs": [],
   "source": [
    "# import sys  \n",
    "# sys.path.insert(0, '/Users/arturo/Downloads/')\n",
    "\n",
    "from function2 import *\n"
   ]
  },
  {
   "cell_type": "code",
   "execution_count": 2,
   "id": "ffad5d2f",
   "metadata": {},
   "outputs": [],
   "source": [
    "import pyspark\n",
    "from pyspark.sql import SparkSession\n",
    "import warnings\n",
    "warnings.filterwarnings('ignore')\n",
    "from pyspark.sql.window import Window as W\n",
    "pd.options.display.max_colwidth = 1000\n",
    "# from pyspark.sql.types import StructType,StructField, StringType, IntegerType \n",
    "# from pyspark.sql.types import ArrayType, DoubleType, BooleanType\n",
    "# from pyspark.sql.functions import col,array_contains\n",
    "\n"
   ]
  },
  {
   "cell_type": "code",
   "execution_count": 3,
   "id": "aebed985",
   "metadata": {},
   "outputs": [
    {
     "name": "stderr",
     "output_type": "stream",
     "text": [
      "Setting default log level to \"WARN\".\n",
      "To adjust logging level use sc.setLogLevel(newLevel). For SparkR, use setLogLevel(newLevel).\n"
     ]
    },
    {
     "name": "stdout",
     "output_type": "stream",
     "text": [
      "22/07/31 18:55:38 WARN NativeCodeLoader: Unable to load native-hadoop library for your platform... using builtin-java classes where applicable\n"
     ]
    }
   ],
   "source": [
    "spark = SparkSession.builder.appName('SparkByExamples.com').getOrCreate()"
   ]
  },
  {
   "cell_type": "markdown",
   "id": "e5d318af",
   "metadata": {},
   "source": [
    "# Datos"
   ]
  },
  {
   "cell_type": "code",
   "execution_count": 4,
   "id": "7e715f8c",
   "metadata": {},
   "outputs": [],
   "source": [
    "Nombre_Input_entidades = spark.read.csv(\"DATA_SIC_ENTIDADES_PUBLICAS_AYUDAS_ESP_short1.csv\", sep=\";\", header=True)\n",
    "Nombre_Input_relaciones = spark.read.csv(\"DATA_RELACION_ENTIDADES_MAESTRO_short1.csv\", sep=\";\", header=True)\n",
    "Nombre_Input_investigadores = spark.read.csv(\"DATA_SIC_AYUDA_ESP_UO_PB_J_MAESTRO_short1.csv\", sep=\";\", header=True)"
   ]
  },
  {
   "cell_type": "markdown",
   "id": "5390fb48",
   "metadata": {},
   "source": [
    "# Cruce 1"
   ]
  },
  {
   "cell_type": "code",
   "execution_count": 5,
   "id": "dc76ba9e",
   "metadata": {},
   "outputs": [],
   "source": [
    "cruce1 = Nombre_Input_investigadores.\\\n",
    "                                    join(Nombre_Input_relaciones,\n",
    "                                         Nombre_Input_investigadores.Id ==  Nombre_Input_relaciones.Id_NIVEL_0,\"left\")\\\n",
    "                                    .dropDuplicates(Nombre_Input_investigadores.columns)\\\n",
    "                                    .filter(\"Id_NIVEL_0 is not null\")"
   ]
  },
  {
   "cell_type": "code",
   "execution_count": 6,
   "id": "304cf61d",
   "metadata": {},
   "outputs": [],
   "source": [
    "cruce1 = cruce1.withColumn(\"Similitud\", \n",
    "                           udf_Distance_ratcliff_obershelp(\n",
    "                               UDF_normalizarTexto(cruce1.NOMBRE_ENTIDAD_NIVEL_1),\n",
    "                               cruce1.Centro_Norm )\n",
    "                          ) "
   ]
  },
  {
   "cell_type": "markdown",
   "id": "8525feb3",
   "metadata": {},
   "source": [
    "# Nombre_Intermedio_cruce1_entidades"
   ]
  },
  {
   "cell_type": "code",
   "execution_count": 7,
   "id": "2214f45d",
   "metadata": {},
   "outputs": [
    {
     "name": "stderr",
     "output_type": "stream",
     "text": [
      "                                                                                \r"
     ]
    }
   ],
   "source": [
    "maxId = Nombre_Input_entidades.withColumn(\"Id\", Nombre_Input_entidades.Id.cast('int')).select(\"Id\").rdd.max()[0]"
   ]
  },
  {
   "cell_type": "code",
   "execution_count": 8,
   "id": "f04cca19",
   "metadata": {},
   "outputs": [],
   "source": [
    "data = cruce1.filter(\"Similitud <0.875\")\\\n",
    "             .withColumn(\"CIF\",lit(None).cast(StringType()))\\\n",
    "             .withColumn(\"Entidad_Norm\",col(\"Centro_Norm\"))\\\n",
    "             .withColumn(\"Provincia_Entidad\",col(\"Provincia_Centro\"))\\\n",
    "             .withColumn(\"ID_ENTIDAD\",lit(None).cast(StringType()))\\\n",
    "             .withColumn(\"NIF_COD\",lit(None).cast(StringType()))\\\n",
    "             .withColumn(\"ACRONIMO\",lit(None).cast(StringType()))\\\n",
    "             .withColumn(\"NOMBRE_ENTIDAD\",lit(None).cast(StringType()))\\\n",
    "             .withColumn(\"Nombre_Entidad_Mostrar\",lit(None).cast(StringType()))\\\n",
    "             .withColumn(\"TIPO_ENTIDAD_N1_1\",lit(None).cast(StringType()))\\\n",
    "             .withColumn(\"TIPO_ENTIDAD_N2_1\",lit(None).cast(StringType()))\\\n",
    "             .withColumn(\"DIRECCION_POSTAL\",lit(None).cast(StringType()))\\\n",
    "             .withColumn(\"COD_POSTAL\",lit(None).cast(StringType()))\\\n",
    "             .withColumn(\"COD_PROVINCIA\",lit(None).cast(StringType()))\\\n",
    "             .withColumn(\"PROVINCIA\",lit(None).cast(StringType()))\\\n",
    "             .withColumn(\"COD_CCAA\",lit(None).cast(StringType()))\\\n",
    "             .withColumn(\"CCAA\",lit(None).cast(StringType()))\\\n",
    "             .withColumn(\"ENLACE_WEB\",lit(None).cast(StringType()))\\\n",
    "             .withColumn(\"SOMMA\",lit(None).cast(StringType()))\\\n",
    "             .withColumn(\"TIPO_ENTIDAD_REGIONAL\",lit(None).cast(StringType()))\\\n",
    "             .withColumn(\"ESTADO_x\",lit(None).cast(StringType()))\\\n",
    "             .withColumn(\"CodigoInvente\",lit(None).cast(StringType()))\\\n",
    "             .withColumn(\"DenominacionSocial\",lit(None).cast(StringType()))\\\n",
    "             .withColumn(\"FormaJuridica_Codigo\",lit(None).cast(StringType()))\\\n",
    "             .withColumn(\"FormaJuridica_Descripcion\",lit(None).cast(StringType()))\\\n",
    "             .withColumn(\"NIF\",lit(None).cast(StringType()))\\\n",
    "             .withColumn(\"codigoDir3\",lit(None).cast(StringType()))\\\n",
    "             .withColumn(\"codigoOrigen\",lit(None).cast(StringType()))\\\n",
    "             .withColumn(\"Provincia_Codigo\",lit(None).cast(StringType()))\\\n",
    "             .withColumn(\"C_ID_UD_ORGANICA\",lit(None).cast(StringType()))\\\n",
    "             .withColumn(\"C_DNM_UD_ORGANICA\",lit(None).cast(StringType()))\\\n",
    "             .withColumn(\"C_ID_NIVEL_ADMON\",lit(None).cast(StringType()))\\\n",
    "             .withColumn(\"C_ID_TIPO_ENT_PUBLICA\",lit(None).cast(StringType()))\\\n",
    "             .withColumn(\"N_NIVEL_JERARQUICO\",lit(None).cast(StringType()))\\\n",
    "             .withColumn(\"C_ID_DEP_UD_SUPERIOR\",lit(None).cast(StringType()))\\\n",
    "             .withColumn(\"C_DNM_UD_ORGANICA_SUPERIOR\",lit(None).cast(StringType()))\\\n",
    "             .withColumn(\"C_ID_DEP_UD_PRINCIPAL\",lit(None).cast(StringType()))\\\n",
    "             .withColumn(\"C_DNM_UD_ORGANICA_PRINCIPAL\",lit(None).cast(StringType()))\\\n",
    "             .withColumn(\"B_SW_DEP_EDP_PRINCIPAL\",lit(None).cast(StringType()))\\\n",
    "             .withColumn(\"C_ID_DEP_EDP_PRINCIPAL\",lit(None).cast(StringType()))\\\n",
    "             .withColumn(\"C_DNM_UD_ORGANICA_EDP_PRINCIPAL\",lit(None).cast(StringType()))\\\n",
    "             .withColumn(\"C_ID_ESTADO\",lit(None).cast(StringType()))\\\n",
    "             .withColumn(\"D_VIG_ALTA_OFICIAL\",lit(None).cast(StringType()))\\\n",
    "             .withColumn(\"NIF_CIF\",lit(None).cast(StringType()))\\\n",
    "             .withColumn(\"C_ID_AMB_PROVINCIA\",lit(None).cast(StringType()))\\\n",
    "             .withColumn(\"C_DESC_PROV\",lit(None).cast(StringType()))\\\n",
    "             .withColumn(\"CONTACTOS\",lit(None).cast(StringType()))\\\n",
    "             .withColumn(\"List_Entidad_Norm\",col(\"Centro_Norm\"))\\\n",
    "             .withColumn(\"List_Provincia_Entidad\",col(\"Provincia_Centro\"))\\\n",
    "             .withColumn(\"List_CIF\",lit(None).cast(StringType()))"
   ]
  },
  {
   "cell_type": "code",
   "execution_count": 9,
   "id": "9510a27e",
   "metadata": {},
   "outputs": [
    {
     "name": "stderr",
     "output_type": "stream",
     "text": [
      "                                                                                \r"
     ]
    }
   ],
   "source": [
    "data_count = data.count()"
   ]
  },
  {
   "cell_type": "code",
   "execution_count": 10,
   "id": "15b811ea",
   "metadata": {},
   "outputs": [],
   "source": [
    "#data = data.dropDuplicates([\"Entidad_Norm\", \"Provincia_Entidad\"])\n",
    "data = data.withColumnRenamed(\"Id\", \"IdOld\")"
   ]
  },
  {
   "cell_type": "code",
   "execution_count": 11,
   "id": "4086cf00",
   "metadata": {},
   "outputs": [],
   "source": [
    "Index = [maxId + i for i in range(1, data_count+1)]\n",
    "Index = spark.createDataFrame(Index, IntegerType())\n",
    "Index = Index.withColumnRenamed(\"value\", \"Id\")"
   ]
  },
  {
   "cell_type": "code",
   "execution_count": 12,
   "id": "88f27586",
   "metadata": {},
   "outputs": [],
   "source": [
    "windowSpec = W.orderBy(\"Dummy\")\n",
    "\n",
    "Index = Index.withColumn(\"Dummy\", monotonically_increasing_id())\n",
    "Index = Index.withColumn(\"Dummy\", F.row_number().over(windowSpec))\n",
    "\n",
    "data = data.withColumn(\"Dummy\", monotonically_increasing_id())\n",
    "data = data.withColumn(\"Dummy\", F.row_number().over(windowSpec))\n",
    "\n",
    "data = data.join(Index, \"Dummy\", \"outer\").drop(\"Dummy\")"
   ]
  },
  {
   "cell_type": "code",
   "execution_count": 13,
   "id": "d7a83d3b",
   "metadata": {},
   "outputs": [],
   "source": [
    "Nombre_Intermedio_cruce1_entidades = data.select(Nombre_Input_entidades.columns)"
   ]
  },
  {
   "cell_type": "code",
   "execution_count": 14,
   "id": "ea7c6ef1",
   "metadata": {},
   "outputs": [],
   "source": [
    "# eliminar duplicados"
   ]
  },
  {
   "cell_type": "code",
   "execution_count": 15,
   "id": "22dd956a",
   "metadata": {},
   "outputs": [],
   "source": [
    "#Nombre_Intermedio_cruce1_entidades.write.option(\"header\",True).mode('overwrite').format(\"csv\").save(\"Nombre_Intermedio_cruce1_entidades/csv\")"
   ]
  },
  {
   "cell_type": "code",
   "execution_count": 16,
   "id": "40cd53bc",
   "metadata": {},
   "outputs": [],
   "source": [
    "#Nombre_Intermedio_cruce1_entidades.write.format(\"parquet\").mode('overwrite').save(\"Nombre_Intermedio_cruce1_entidades/parquet\")"
   ]
  },
  {
   "cell_type": "markdown",
   "id": "c8708fbc",
   "metadata": {},
   "source": [
    "# Nombre_Output_investigadores"
   ]
  },
  {
   "cell_type": "code",
   "execution_count": 17,
   "id": "9bdbf3e3",
   "metadata": {},
   "outputs": [],
   "source": [
    "data_2 = cruce1.filter(\"Similitud >=0.875\")\\\n",
    "        .withColumn(\"Final_Score\", col(\"Similitud\"))\\\n",
    "        .withColumn(\"Id_Centro\", col(\"Id_NIVEL_1\"))\\\n",
    "        .withColumn(\"Centro_Nombre_match\", col(\"NOMBRE_ENTIDAD_NIVEL_1\"))\\\n",
    "        .withColumn(\"Centro_Provincia_match\", col(\"COD_PROVINCIA_NIVEL_1\"))\\\n",
    "        .withColumn(\"Similitud_Centro\", col(\"Similitud\"))\\\n",
    "        .select(Nombre_Input_investigadores.columns + \n",
    "                [\"Final_Score\",\"Id_Centro\", \"Centro_Nombre_match\", \"Centro_Provincia_match\", \"Similitud_Centro\"])\n"
   ]
  },
  {
   "cell_type": "code",
   "execution_count": 18,
   "id": "196406af",
   "metadata": {},
   "outputs": [],
   "source": [
    "data_3 = data.withColumn(\"Final_Score\", col(\"Similitud\"))\\\n",
    "        .withColumn(\"Id_Centro\", col(\"Id\"))\\\n",
    "        .withColumn(\"Centro_Nombre_match\", col(\"NOMBRE_ENTIDAD_NIVEL_1\"))\\\n",
    "        .withColumn(\"Centro_Provincia_match\", col(\"COD_PROVINCIA_NIVEL_1\"))\\\n",
    "        .withColumn(\"Similitud_Centro\", col(\"Similitud\"))\\\n",
    "        .select(Nombre_Input_investigadores.columns + \n",
    "                [\"Final_Score\",\"Id_Centro\", \"Centro_Nombre_match\", \"Centro_Provincia_match\", \"Similitud_Centro\"])\n"
   ]
  },
  {
   "cell_type": "code",
   "execution_count": 19,
   "id": "ec4df652",
   "metadata": {},
   "outputs": [],
   "source": [
    "Nombre_Output_investigadores = data_2.union(data_3)"
   ]
  },
  {
   "cell_type": "code",
   "execution_count": 20,
   "id": "f0b40c2b",
   "metadata": {},
   "outputs": [],
   "source": [
    "#result.write.option(\"header\",True).mode('overwrite').format(\"csv\").save(\"Nombre_Output_investigadores/csv\")"
   ]
  },
  {
   "cell_type": "code",
   "execution_count": 21,
   "id": "2140b2de",
   "metadata": {},
   "outputs": [],
   "source": [
    "#result.write.format(\"parquet\").mode('overwrite').save(\"Nombre_Output_investigadores/parquet\")"
   ]
  },
  {
   "cell_type": "markdown",
   "id": "e245dc5f",
   "metadata": {},
   "source": [
    "# Nombre_Intermedio_cruce1_relaciones"
   ]
  },
  {
   "cell_type": "code",
   "execution_count": 22,
   "id": "46c13542",
   "metadata": {},
   "outputs": [],
   "source": [
    "Nombre_Intermedio_cruce1_relaciones = data.select([\"Id\", \"IdOld\", \"Entidad\", \"Centro\",\"Centro_Norm\", \"Provincia_Entidad\", \"Provincia_Centro\",\"CIF\",\"Entidad_Norm\"])"
   ]
  },
  {
   "cell_type": "code",
   "execution_count": 23,
   "id": "7ef063be",
   "metadata": {},
   "outputs": [
    {
     "name": "stderr",
     "output_type": "stream",
     "text": [
      "100%|████████████████████████████████████████| 970/970 [00:01<00:00, 732.80it/s]\n",
      "100%|████████████████████████████████████████| 970/970 [00:05<00:00, 185.69it/s]\n"
     ]
    },
    {
     "name": "stdout",
     "output_type": "stream",
     "text": [
      "22/07/31 18:56:05 WARN StopWordsRemover: Default locale set was [en_MX]; however, it was not found in available locales in JVM, falling back to en_US locale. Set param `locale` in order to respect another locale.\n",
      "22/07/31 18:56:05 WARN StopWordsRemover: Default locale set was [en_MX]; however, it was not found in available locales in JVM, falling back to en_US locale. Set param `locale` in order to respect another locale.\n"
     ]
    },
    {
     "name": "stderr",
     "output_type": "stream",
     "text": [
      "                                                                                \r"
     ]
    }
   ],
   "source": [
    "#Eliminamos duplicados\n",
    "\n",
    "l = get_matching_entities_by_elasticSearch(\n",
    "                                        Nombre_Input_investigadores, \n",
    "                                        \"Entidad_Norm\", \n",
    "                                        [\"Entidad_Norm\"],\n",
    "                                        Nombre_Input_investigadores, \n",
    "                                        \"Centro_Norm\",\n",
    "                                        [\"Centro_Norm\"],\n",
    "                                        'index_name',\n",
    "                                        10)\n",
    "\n",
    "l = get_matching_by_elasticSearch_Distance_ratcliff_obershelp(spark,l)\n",
    "duplicados = list(l.filter(\"final_score >= 0.875\").select(\"Entidad_Norm\").dropDuplicates().toPandas().Entidad_Norm)\n",
    "Nombre_Intermedio_cruce1_relaciones = Nombre_Intermedio_cruce1_relaciones.filter(~Nombre_Intermedio_cruce1_relaciones.Entidad_Norm.isin(duplicados))\n"
   ]
  },
  {
   "cell_type": "code",
   "execution_count": 24,
   "id": "85ea1cf1",
   "metadata": {},
   "outputs": [],
   "source": [
    "Nombre_Intermedio_cruce1_relaciones = Nombre_Intermedio_cruce1_relaciones.withColumn(\"Id_NIVEL_1\", col(\"Id\"))\\\n",
    "      .withColumn(\"Id_NIVEL_0\", col(\"IdOld\"))\\\n",
    "      .withColumn(\"NOMBRE_ENTIDAD_NIVEL_0\", col(\"Entidad\"))\\\n",
    "      .withColumn(\"NOMBRE_ENTIDAD_NIVEL_1\", col(\"Centro\"))\\\n",
    "      .withColumn(\"COD_PROVINCIA_NIVEL_0\", col(\"Provincia_Entidad\"))\\\n",
    "      .withColumn(\"COD_PROVINCIA_NIVEL_1\", col(\"Provincia_Centro\"))\\\n",
    "      .withColumn(\"NIF_COD_NIVEL_0\", col(\"CIF\"))\\\n",
    "      .withColumn(\"Jerarquia\", lit(\"Orgánica Directa\").cast(StringType()))\\\n",
    "      .withColumn(\"ACRONIMO_NIVEL_0\",lit(None).cast(StringType()))\\\n",
    "      .withColumn(\"ACRONIMO_NIVEL_1\",lit(None).cast(StringType()))\\\n",
    "      .withColumn(\"CCAA_NIVEL_0\",lit(None).cast(StringType()))\\\n",
    "      .withColumn(\"CCAA_NIVEL_1\",lit(None).cast(StringType()))\\\n",
    "      .withColumn(\"COD_CCAA_NIVEL_0\",lit(None).cast(StringType()))\\\n",
    "      .withColumn(\"COD_CCAA_NIVEL_1\",lit(None).cast(StringType()))\\\n",
    "      .withColumn(\"COD_POSTAL_NIVEL_0\",lit(None).cast(StringType()))\\\n",
    "      .withColumn(\"COD_POSTAL_NIVEL_1\",lit(None).cast(StringType()))\\\n",
    "      .withColumn(\"DIRECCION_POSTAL_NIVEL_0\",lit(None).cast(StringType()))\\\n",
    "      .withColumn(\"DIRECCION_POSTAL_NIVEL_1\",lit(None).cast(StringType()))\\\n",
    "      .withColumn(\"ENLACE_WEB_NIVEL_0\",lit(None).cast(StringType()))\\\n",
    "      .withColumn(\"ENLACE_WEB_NIVEL_1\",lit(None).cast(StringType()))\\\n",
    "      .withColumn(\"ESTADO_x_NIVEL_0\",lit(None).cast(StringType()))\\\n",
    "      .withColumn(\"ENLACE_WEB_NIVEL_1\",lit(None).cast(StringType()))\\\n",
    "      .withColumn(\"ESTADO_x_NIVEL_0\",lit(None).cast(StringType()))\\\n",
    "      .withColumn(\"ESTADO_x_NIVEL_1\",lit(None).cast(StringType()))\\\n",
    "      .withColumn(\"ID_ENTIDAD_NIVEL_0\",lit(None).cast(StringType()))\\\n",
    "      .withColumn(\"ID_ENTIDAD_NIVEL_1\",lit(None).cast(StringType()))\\\n",
    "      .withColumn(\"NIF_COD_NIVEL_1\",lit(None).cast(StringType()))\\\n",
    "      .withColumn(\"Nombre_Entidad_Mostrar_NIVEL_0\",lit(None).cast(StringType()))\\\n",
    "      .withColumn(\"Nombre_Entidad_Mostrar_NIVEL_1\",lit(None).cast(StringType()))\\\n",
    "      .withColumn(\"PROVINCIA_NIVEL_0\",lit(None).cast(StringType()))\\\n",
    "      .withColumn(\"PROVINCIA_NIVEL_1\",lit(None).cast(StringType()))\\\n",
    "      .withColumn(\"SOMMA_NIVEL_0\",lit(None).cast(StringType()))\\\n",
    "      .withColumn(\"SOMMA_NIVEL_1\",lit(None).cast(StringType()))\\\n",
    "      .withColumn(\"TIPO_ENTIDAD_N1_1_NIVEL_0\",lit(None).cast(StringType()))\\\n",
    "      .withColumn(\"TIPO_ENTIDAD_N1_1_NIVEL_1\",lit(None).cast(StringType()))\\\n",
    "      .withColumn(\"TIPO_ENTIDAD_N2_1_NIVEL_0\",lit(None).cast(StringType()))\\\n",
    "      .withColumn(\"TIPO_ENTIDAD_N2_1_NIVEL_1\",lit(None).cast(StringType()))\\\n",
    "      .withColumn(\"TIPO_ENTIDAD_REGIONAL_NIVEL_0\",lit(None).cast(StringType()))\\\n",
    "      .withColumn(\"TIPO_ENTIDAD_REGIONAL_NIVEL_1\",lit(None).cast(StringType()))\\\n",
    "    "
   ]
  },
  {
   "cell_type": "code",
   "execution_count": 25,
   "id": "f58bc52d",
   "metadata": {},
   "outputs": [],
   "source": [
    "Nombre_Intermedio_cruce1_relaciones = Nombre_Intermedio_cruce1_relaciones.select(Nombre_Input_relaciones.columns)"
   ]
  },
  {
   "cell_type": "code",
   "execution_count": 26,
   "id": "d1750c31",
   "metadata": {},
   "outputs": [],
   "source": [
    "\n",
    "#Nombre_Intermedio_cruce1_relaciones.write.option(\"header\",True).mode('overwrite').format(\"csv\").save(\"Nombre_Intermedio_cruce1_relaciones/csv\")"
   ]
  },
  {
   "cell_type": "code",
   "execution_count": 27,
   "id": "c74f19ab",
   "metadata": {},
   "outputs": [],
   "source": [
    "#Nombre_Intermedio_cruce1_relaciones.write.option(\"header\",True).mode('overwrite').format(\"csv\").save(\"Nombre_Intermedio_cruce1_relaciones/parquet\")"
   ]
  },
  {
   "cell_type": "markdown",
   "id": "676246bd",
   "metadata": {},
   "source": [
    "# Agregacion vertical de relaciones"
   ]
  },
  {
   "cell_type": "code",
   "execution_count": 28,
   "id": "22a53a2b",
   "metadata": {},
   "outputs": [],
   "source": [
    "Nombre_Output_relaciones = Nombre_Input_relaciones.union(Nombre_Intermedio_cruce1_relaciones)"
   ]
  },
  {
   "cell_type": "code",
   "execution_count": 31,
   "id": "8be1e2b1",
   "metadata": {},
   "outputs": [],
   "source": [
    "#Nombre_Intermedio_cruce1_relaciones.write.option(\"header\",True).mode('overwrite').format(\"csv\").save(\"Nombre_Output_relaciones/csv\")"
   ]
  },
  {
   "cell_type": "code",
   "execution_count": 32,
   "id": "8bdcec4c",
   "metadata": {},
   "outputs": [],
   "source": [
    "#Nombre_Intermedio_cruce1_relaciones.write.mode('overwrite').format(\"paequet\").save(\"Nombre_Output_relaciones/parquet\")"
   ]
  },
  {
   "cell_type": "markdown",
   "id": "c5355032",
   "metadata": {},
   "source": [
    "# If flag_invente_dir3 == True"
   ]
  },
  {
   "cell_type": "markdown",
   "id": "53c71c21",
   "metadata": {},
   "source": [
    "# Nombre_Input_invente"
   ]
  },
  {
   "cell_type": "code",
   "execution_count": 22,
   "id": "07e72157",
   "metadata": {},
   "outputs": [],
   "source": [
    "# data invente\n",
    "Nombre_Input_invente = pd.read_excel('Analisis_entidades_invente_15-02-2022.xlsx')\n",
    "for i in Nombre_Input_invente.columns:\n",
    "    Nombre_Input_invente[i] = Nombre_Input_invente[i].astype(str)\n",
    "\n",
    "\n",
    "\n",
    "new_header = Nombre_Input_invente.iloc[0] \n",
    "# #grab the first row for the header\n",
    "Nombre_Input_invente = Nombre_Input_invente[1:] #take the data less the header row\n",
    "Nombre_Input_invente.columns = new_header #set the header row as the df header\n",
    "\n",
    "Nombre_Input_invente = Nombre_Input_invente[[\"DenominacionSocial\", \"Provincia_Codigo\", \"NIF\",\n",
    "                                                \"CodigoInvente\", \"FormaJuridica_Codigo\", \n",
    "                                                \"FormaJuridica_Descripcion\", \"codigoDir3\",\"codigoOrigen\",\n",
    "                                                \"Provincia_Codigo\"]]\n",
    "\n",
    "Nombre_Input_invente = Nombre_Input_invente.loc[:,~Nombre_Input_invente.columns.duplicated()]\n",
    "\n",
    "Nombre_Input_invente = spark.createDataFrame(Nombre_Input_invente.fillna('')) \n",
    "\n",
    "\n",
    "Nombre_Input_invente = Nombre_Input_invente.withColumn(\"DenominacionSocial_Norm\", UDF_normalizarTexto(Nombre_Input_invente.DenominacionSocial))\n"
   ]
  },
  {
   "cell_type": "markdown",
   "id": "d3966d8e",
   "metadata": {},
   "source": [
    "# Nombre_Intermedio_cruce2_invente"
   ]
  },
  {
   "cell_type": "code",
   "execution_count": 23,
   "id": "15eee1ad",
   "metadata": {},
   "outputs": [
    {
     "name": "stdout",
     "output_type": "stream",
     "text": [
      "22/07/31 18:38:21 WARN WindowExec: No Partition Defined for Window operation! Moving all data to a single partition, this can cause serious performance degradation.\n",
      "22/07/31 18:38:21 WARN WindowExec: No Partition Defined for Window operation! Moving all data to a single partition, this can cause serious performance degradation.\n",
      "22/07/31 18:38:21 WARN WindowExec: No Partition Defined for Window operation! Moving all data to a single partition, this can cause serious performance degradation.\n",
      "22/07/31 18:38:21 WARN WindowExec: No Partition Defined for Window operation! Moving all data to a single partition, this can cause serious performance degradation.\n",
      "22/07/31 18:38:21 WARN package: Truncated the string representation of a plan since it was too large. This behavior can be adjusted by setting 'spark.sql.debug.maxToStringFields'.\n",
      "22/07/31 18:38:21 WARN WindowExec: No Partition Defined for Window operation! Moving all data to a single partition, this can cause serious performance degradation.\n",
      "22/07/31 18:38:21 WARN WindowExec: No Partition Defined for Window operation! Moving all data to a single partition, this can cause serious performance degradation.\n",
      "22/07/31 18:38:21 WARN WindowExec: No Partition Defined for Window operation! Moving all data to a single partition, this can cause serious performance degradation.\n",
      "22/07/31 18:38:21 WARN WindowExec: No Partition Defined for Window operation! Moving all data to a single partition, this can cause serious performance degradation.\n",
      "22/07/31 18:38:21 WARN WindowExec: No Partition Defined for Window operation! Moving all data to a single partition, this can cause serious performance degradation.\n",
      "22/07/31 18:38:21 WARN WindowExec: No Partition Defined for Window operation! Moving all data to a single partition, this can cause serious performance degradation.\n",
      "22/07/31 18:38:21 WARN WindowExec: No Partition Defined for Window operation! Moving all data to a single partition, this can cause serious performance degradation.\n",
      "22/07/31 18:38:21 WARN WindowExec: No Partition Defined for Window operation! Moving all data to a single partition, this can cause serious performance degradation.\n",
      "22/07/31 18:38:21 WARN WindowExec: No Partition Defined for Window operation! Moving all data to a single partition, this can cause serious performance degradation.\n",
      "22/07/31 18:38:21 WARN WindowExec: No Partition Defined for Window operation! Moving all data to a single partition, this can cause serious performance degradation.\n",
      "22/07/31 18:38:21 WARN WindowExec: No Partition Defined for Window operation! Moving all data to a single partition, this can cause serious performance degradation.\n",
      "22/07/31 18:38:21 WARN WindowExec: No Partition Defined for Window operation! Moving all data to a single partition, this can cause serious performance degradation.\n",
      "22/07/31 18:38:21 WARN WindowExec: No Partition Defined for Window operation! Moving all data to a single partition, this can cause serious performance degradation.\n",
      "22/07/31 18:38:21 WARN WindowExec: No Partition Defined for Window operation! Moving all data to a single partition, this can cause serious performance degradation.\n",
      "22/07/31 18:38:21 WARN WindowExec: No Partition Defined for Window operation! Moving all data to a single partition, this can cause serious performance degradation.\n",
      "22/07/31 18:38:21 WARN WindowExec: No Partition Defined for Window operation! Moving all data to a single partition, this can cause serious performance degradation.\n"
     ]
    },
    {
     "name": "stderr",
     "output_type": "stream",
     "text": [
      "100%|██████████████████████████████████████| 5181/5181 [00:06<00:00, 862.16it/s]\n",
      "100%|████████████████████████████████████████| 727/727 [00:03<00:00, 190.29it/s]\n"
     ]
    }
   ],
   "source": [
    "l = get_matching_entities_by_elasticSearch(\n",
    "                                        Nombre_Intermedio_cruce1_entidades, \n",
    "                                        \"Entidad_Norm\", \n",
    "                                        [\"Entidad_Norm\"],\n",
    "                                        Nombre_Input_invente, \n",
    "                                        \"DenominacionSocial_Norm\",\n",
    "                                        Nombre_Input_invente.columns,\n",
    "                                        'index_name',\n",
    "                                        1)"
   ]
  },
  {
   "cell_type": "code",
   "execution_count": 24,
   "id": "5fbfa868",
   "metadata": {},
   "outputs": [
    {
     "name": "stdout",
     "output_type": "stream",
     "text": [
      "22/07/31 18:38:33 WARN StopWordsRemover: Default locale set was [en_MX]; however, it was not found in available locales in JVM, falling back to en_US locale. Set param `locale` in order to respect another locale.\n",
      "22/07/31 18:38:33 WARN StopWordsRemover: Default locale set was [en_MX]; however, it was not found in available locales in JVM, falling back to en_US locale. Set param `locale` in order to respect another locale.\n"
     ]
    }
   ],
   "source": [
    "l = get_matching_by_elasticSearch_Distance_ratcliff_obershelp(spark,l).filter(\"final_score >= 0.875\")"
   ]
  },
  {
   "cell_type": "code",
   "execution_count": 25,
   "id": "a62e009a",
   "metadata": {},
   "outputs": [],
   "source": [
    "l = l.sort(l.final_score.desc()).dropDuplicates(subset = ['Entidad_Norm']).select(\"Entidad_Norm\",\"DenominacionSocial\", \"NIF\",\n",
    "                                                                                \"CodigoInvente\", \"FormaJuridica_Codigo\", \n",
    "                                                                                \"FormaJuridica_Descripcion\", \"codigoDir3\",\"codigoOrigen\",\n",
    "                                                                                \"Provincia_Codigo\", \"final_score\",\"DenominacionSocial_Norm\")\n"
   ]
  },
  {
   "cell_type": "code",
   "execution_count": 26,
   "id": "d0edf607",
   "metadata": {},
   "outputs": [],
   "source": [
    "Nombre_Intermedio_cruce2_invente = Nombre_Intermedio_cruce1_entidades.drop(\"CodigoInvente\",\"DenominacionSocial\", \"FormaJuridica_Codigo\", \n",
    "                                                                           \"FormaJuridica_Descripcion\", \"NIF\", \"codigoDir3\", \"codigoOrigen\",\n",
    "                                                                            \"Provincia_Codigo\", \"Provincia_Entidad\", \"CIF\")\n",
    "\n",
    "\n",
    "\n"
   ]
  },
  {
   "cell_type": "code",
   "execution_count": 27,
   "id": "e64975b5",
   "metadata": {},
   "outputs": [],
   "source": [
    "Nombre_Intermedio_cruce2_invente = Nombre_Intermedio_cruce2_invente.join(l,\n",
    "                                      Nombre_Intermedio_cruce2_invente.Entidad_Norm ==  l.Entidad_Norm,\"left\")                                 \n",
    "\n",
    "     "
   ]
  },
  {
   "cell_type": "code",
   "execution_count": 28,
   "id": "b94c4e38",
   "metadata": {},
   "outputs": [],
   "source": [
    "Nombre_Intermedio_cruce2_invente1 = Nombre_Intermedio_cruce2_invente.filter(\"final_score is not NULL\").drop(\"Entidad_Norm\")\n",
    "Nombre_Intermedio_cruce2_invente2 = Nombre_Intermedio_cruce2_invente.filter(\"final_score is  NULL\")"
   ]
  },
  {
   "cell_type": "code",
   "execution_count": 29,
   "id": "1c92140a",
   "metadata": {},
   "outputs": [],
   "source": [
    "Nombre_Intermedio_cruce2_invente1 = Nombre_Intermedio_cruce2_invente1.withColumn(\"Entidad_Norm\", col(\"DenominacionSocial_Norm\"))\\\n",
    "                                                                    .withColumn(\"Provincia_Entidad\", col(\"Provincia_Codigo\"))\\\n",
    "                                                                    .withColumn(\"CIF\", col(\"NIF\"))\\\n",
    "                                                                    .withColumn(\"Similitud_invente\", col(\"final_score\"))"
   ]
  },
  {
   "cell_type": "code",
   "execution_count": 30,
   "id": "7afbe567",
   "metadata": {},
   "outputs": [],
   "source": [
    "Nombre_Intermedio_cruce2_invente1 = Nombre_Intermedio_cruce2_invente1.select(Nombre_Intermedio_cruce1_entidades.columns+[\"Similitud_invente\"])\n"
   ]
  },
  {
   "cell_type": "code",
   "execution_count": 31,
   "id": "65e8fcd3",
   "metadata": {},
   "outputs": [],
   "source": [
    "Nombre_Intermedio_cruce2_invente = Nombre_Intermedio_cruce2_invente1.union(Nombre_Intermedio_cruce2_invente2)"
   ]
  },
  {
   "cell_type": "code",
   "execution_count": 43,
   "id": "a3940566",
   "metadata": {},
   "outputs": [],
   "source": [
    "#Nombre_Intermedio_cruce2_invente.write.option(\"header\",True).mode('overwrite').format(\"csv\").save(\"Nombre_Intermedio_cruce2_invente/csv\")\n",
    "\n"
   ]
  },
  {
   "cell_type": "code",
   "execution_count": 44,
   "id": "6f906a68",
   "metadata": {},
   "outputs": [],
   "source": [
    "#Nombre_Intermedio_cruce2_invente.write.mode('overwrite').format(\"paequet\").save(\"Nombre_Intermedio_cruce2_invente/parquet\")\n",
    "\n"
   ]
  },
  {
   "cell_type": "markdown",
   "id": "4af09438",
   "metadata": {},
   "source": [
    "# Nombre_Intermedio_proceso_dir3_entidades"
   ]
  },
  {
   "cell_type": "code",
   "execution_count": 32,
   "id": "55d5ea15",
   "metadata": {},
   "outputs": [],
   "source": [
    "Nombre_Input_dir3 = spark.read.csv(\"DIR3_concatenado_AGE_CCAA_EELL_Universidades.csv\", sep=\";\", header=True).drop(\"Unnamed: 0\")\n",
    "Nombre_Input_dir3 = Nombre_Input_dir3.withColumn(\"C_DNM_UD_ORGANICA_Norm\", UDF_normalizarTexto(Nombre_Input_dir3.C_DNM_UD_ORGANICA))\n"
   ]
  },
  {
   "cell_type": "code",
   "execution_count": 33,
   "id": "bd849632",
   "metadata": {},
   "outputs": [
    {
     "name": "stdout",
     "output_type": "stream",
     "text": [
      "22/07/31 18:38:47 WARN WindowExec: No Partition Defined for Window operation! Moving all data to a single partition, this can cause serious performance degradation.\n",
      "22/07/31 18:38:47 WARN WindowExec: No Partition Defined for Window operation! Moving all data to a single partition, this can cause serious performance degradation.\n",
      "22/07/31 18:38:47 WARN WindowExec: No Partition Defined for Window operation! Moving all data to a single partition, this can cause serious performance degradation.\n",
      "22/07/31 18:38:47 WARN WindowExec: No Partition Defined for Window operation! Moving all data to a single partition, this can cause serious performance degradation.\n",
      "22/07/31 18:38:47 WARN WindowExec: No Partition Defined for Window operation! Moving all data to a single partition, this can cause serious performance degradation.\n",
      "22/07/31 18:38:47 WARN WindowExec: No Partition Defined for Window operation! Moving all data to a single partition, this can cause serious performance degradation.\n",
      "22/07/31 18:38:47 WARN WindowExec: No Partition Defined for Window operation! Moving all data to a single partition, this can cause serious performance degradation.\n",
      "22/07/31 18:38:47 WARN WindowExec: No Partition Defined for Window operation! Moving all data to a single partition, this can cause serious performance degradation.\n"
     ]
    },
    {
     "name": "stderr",
     "output_type": "stream",
     "text": [
      "                                                                                \r"
     ]
    },
    {
     "name": "stdout",
     "output_type": "stream",
     "text": [
      "22/07/31 18:38:52 WARN WindowExec: No Partition Defined for Window operation! Moving all data to a single partition, this can cause serious performance degradation.\n",
      "22/07/31 18:38:52 WARN WindowExec: No Partition Defined for Window operation! Moving all data to a single partition, this can cause serious performance degradation.\n",
      "22/07/31 18:38:52 WARN WindowExec: No Partition Defined for Window operation! Moving all data to a single partition, this can cause serious performance degradation.\n",
      "22/07/31 18:38:52 WARN WindowExec: No Partition Defined for Window operation! Moving all data to a single partition, this can cause serious performance degradation.\n",
      "22/07/31 18:38:52 WARN WindowExec: No Partition Defined for Window operation! Moving all data to a single partition, this can cause serious performance degradation.\n",
      "22/07/31 18:38:52 WARN WindowExec: No Partition Defined for Window operation! Moving all data to a single partition, this can cause serious performance degradation.\n",
      "22/07/31 18:38:52 WARN WindowExec: No Partition Defined for Window operation! Moving all data to a single partition, this can cause serious performance degradation.\n",
      "22/07/31 18:38:52 WARN WindowExec: No Partition Defined for Window operation! Moving all data to a single partition, this can cause serious performance degradation.\n",
      "22/07/31 18:38:52 WARN WindowExec: No Partition Defined for Window operation! Moving all data to a single partition, this can cause serious performance degradation.\n",
      "22/07/31 18:38:53 WARN WindowExec: No Partition Defined for Window operation! Moving all data to a single partition, this can cause serious performance degradation.\n",
      "22/07/31 18:38:53 WARN WindowExec: No Partition Defined for Window operation! Moving all data to a single partition, this can cause serious performance degradation.\n",
      "22/07/31 18:38:53 WARN WindowExec: No Partition Defined for Window operation! Moving all data to a single partition, this can cause serious performance degradation.\n",
      "22/07/31 18:38:53 WARN WindowExec: No Partition Defined for Window operation! Moving all data to a single partition, this can cause serious performance degradation.\n",
      "22/07/31 18:38:53 WARN WindowExec: No Partition Defined for Window operation! Moving all data to a single partition, this can cause serious performance degradation.\n",
      "22/07/31 18:38:53 WARN WindowExec: No Partition Defined for Window operation! Moving all data to a single partition, this can cause serious performance degradation.\n",
      "22/07/31 18:38:53 WARN WindowExec: No Partition Defined for Window operation! Moving all data to a single partition, this can cause serious performance degradation.\n",
      "22/07/31 18:38:53 WARN WindowExec: No Partition Defined for Window operation! Moving all data to a single partition, this can cause serious performance degradation.\n",
      "22/07/31 18:38:53 WARN WindowExec: No Partition Defined for Window operation! Moving all data to a single partition, this can cause serious performance degradation.\n",
      "22/07/31 18:38:53 WARN WindowExec: No Partition Defined for Window operation! Moving all data to a single partition, this can cause serious performance degradation.\n",
      "22/07/31 18:38:53 WARN WindowExec: No Partition Defined for Window operation! Moving all data to a single partition, this can cause serious performance degradation.\n",
      "22/07/31 18:38:53 WARN WindowExec: No Partition Defined for Window operation! Moving all data to a single partition, this can cause serious performance degradation.\n",
      "22/07/31 18:38:53 WARN WindowExec: No Partition Defined for Window operation! Moving all data to a single partition, this can cause serious performance degradation.\n",
      "22/07/31 18:38:53 WARN WindowExec: No Partition Defined for Window operation! Moving all data to a single partition, this can cause serious performance degradation.\n",
      "22/07/31 18:38:53 WARN WindowExec: No Partition Defined for Window operation! Moving all data to a single partition, this can cause serious performance degradation.\n",
      "22/07/31 18:38:53 WARN WindowExec: No Partition Defined for Window operation! Moving all data to a single partition, this can cause serious performance degradation.\n",
      "22/07/31 18:38:53 WARN WindowExec: No Partition Defined for Window operation! Moving all data to a single partition, this can cause serious performance degradation.\n",
      "22/07/31 18:38:53 WARN WindowExec: No Partition Defined for Window operation! Moving all data to a single partition, this can cause serious performance degradation.\n",
      "22/07/31 18:38:53 WARN WindowExec: No Partition Defined for Window operation! Moving all data to a single partition, this can cause serious performance degradation.\n",
      "22/07/31 18:38:53 WARN WindowExec: No Partition Defined for Window operation! Moving all data to a single partition, this can cause serious performance degradation.\n",
      "22/07/31 18:38:53 WARN WindowExec: No Partition Defined for Window operation! Moving all data to a single partition, this can cause serious performance degradation.\n",
      "22/07/31 18:38:53 WARN WindowExec: No Partition Defined for Window operation! Moving all data to a single partition, this can cause serious performance degradation.\n",
      "22/07/31 18:38:53 WARN WindowExec: No Partition Defined for Window operation! Moving all data to a single partition, this can cause serious performance degradation.\n",
      "22/07/31 18:38:53 WARN WindowExec: No Partition Defined for Window operation! Moving all data to a single partition, this can cause serious performance degradation.\n",
      "22/07/31 18:38:53 WARN WindowExec: No Partition Defined for Window operation! Moving all data to a single partition, this can cause serious performance degradation.\n",
      "22/07/31 18:38:53 WARN WindowExec: No Partition Defined for Window operation! Moving all data to a single partition, this can cause serious performance degradation.\n",
      "22/07/31 18:38:53 WARN WindowExec: No Partition Defined for Window operation! Moving all data to a single partition, this can cause serious performance degradation.\n",
      "22/07/31 18:38:53 WARN WindowExec: No Partition Defined for Window operation! Moving all data to a single partition, this can cause serious performance degradation.\n",
      "22/07/31 18:38:53 WARN WindowExec: No Partition Defined for Window operation! Moving all data to a single partition, this can cause serious performance degradation.\n",
      "22/07/31 18:38:53 WARN WindowExec: No Partition Defined for Window operation! Moving all data to a single partition, this can cause serious performance degradation.\n",
      "22/07/31 18:38:53 WARN WindowExec: No Partition Defined for Window operation! Moving all data to a single partition, this can cause serious performance degradation.\n",
      "22/07/31 18:38:53 WARN WindowExec: No Partition Defined for Window operation! Moving all data to a single partition, this can cause serious performance degradation.\n",
      "22/07/31 18:38:53 WARN WindowExec: No Partition Defined for Window operation! Moving all data to a single partition, this can cause serious performance degradation.\n",
      "22/07/31 18:38:53 WARN WindowExec: No Partition Defined for Window operation! Moving all data to a single partition, this can cause serious performance degradation.\n",
      "22/07/31 18:38:53 WARN WindowExec: No Partition Defined for Window operation! Moving all data to a single partition, this can cause serious performance degradation.\n",
      "22/07/31 18:38:53 WARN WindowExec: No Partition Defined for Window operation! Moving all data to a single partition, this can cause serious performance degradation.\n",
      "22/07/31 18:38:53 WARN WindowExec: No Partition Defined for Window operation! Moving all data to a single partition, this can cause serious performance degradation.\n",
      "22/07/31 18:38:53 WARN WindowExec: No Partition Defined for Window operation! Moving all data to a single partition, this can cause serious performance degradation.\n",
      "22/07/31 18:38:53 WARN WindowExec: No Partition Defined for Window operation! Moving all data to a single partition, this can cause serious performance degradation.\n",
      "22/07/31 18:38:53 WARN WindowExec: No Partition Defined for Window operation! Moving all data to a single partition, this can cause serious performance degradation.\n",
      "22/07/31 18:38:53 WARN WindowExec: No Partition Defined for Window operation! Moving all data to a single partition, this can cause serious performance degradation.\n"
     ]
    },
    {
     "name": "stderr",
     "output_type": "stream",
     "text": [
      "100%|████████████████████████████████████| 68001/68001 [01:33<00:00, 724.01it/s]\n",
      "100%|████████████████████████████████████████| 727/727 [00:01<00:00, 455.94it/s]\n"
     ]
    },
    {
     "name": "stdout",
     "output_type": "stream",
     "text": [
      "22/07/31 18:40:32 WARN StopWordsRemover: Default locale set was [en_MX]; however, it was not found in available locales in JVM, falling back to en_US locale. Set param `locale` in order to respect another locale.\n",
      "22/07/31 18:40:32 WARN StopWordsRemover: Default locale set was [en_MX]; however, it was not found in available locales in JVM, falling back to en_US locale. Set param `locale` in order to respect another locale.\n"
     ]
    }
   ],
   "source": [
    "l = get_matching_entities_by_elasticSearch(\n",
    "                                        Nombre_Intermedio_cruce2_invente, \n",
    "                                        \"Entidad_Norm\", \n",
    "                                        [\"Entidad_Norm\"],\n",
    "                                        Nombre_Input_dir3, \n",
    "                                        \"C_DNM_UD_ORGANICA_Norm\",\n",
    "                                        Nombre_Input_dir3.columns,\n",
    "                                        'index_name',\n",
    "                                        10)\n",
    "\n",
    "l = get_matching_by_elasticSearch_Distance_ratcliff_obershelp(spark,l).filter(\"final_score >= 0.875\")\\\n",
    "                               .dropDuplicates(subset = ['Entidad_Norm', \"C_DNM_UD_ORGANICA_Norm\"])\n",
    "                                                                    "
   ]
  },
  {
   "cell_type": "code",
   "execution_count": 34,
   "id": "0148cdeb",
   "metadata": {},
   "outputs": [],
   "source": [
    "unique = l.selectExpr(\n",
    "              '*', \n",
    "              'count(*) over (partition by Entidad_Norm) as cnt'\n",
    "            ).filter(F.col('cnt') == 1).drop('cnt')\n",
    "\n"
   ]
  },
  {
   "cell_type": "code",
   "execution_count": 35,
   "id": "656ef22f",
   "metadata": {},
   "outputs": [],
   "source": [
    "duplicated = l.join(l.groupBy('Entidad_Norm')\\\n",
    "                  .count().where('count = 1').drop('count'),\n",
    "                on=['Entidad_Norm'],\n",
    "                how='left_anti')"
   ]
  },
  {
   "cell_type": "code",
   "execution_count": 36,
   "id": "b770256b",
   "metadata": {},
   "outputs": [],
   "source": [
    "duplicated1 = duplicated.selectExpr(\n",
    "              '*', \n",
    "              'count(*) over (partition by Entidad_Norm, N_NIVEL_JERARQUICO) as cnt'\n",
    "            ).filter(F.col('cnt') == 1).drop('cnt')\n",
    "\n",
    "duplicated1 = duplicated1.sort(duplicated1.N_NIVEL_JERARQUICO.asc())\\\n",
    "                            .dropDuplicates(subset = ['Entidad_Norm'])"
   ]
  },
  {
   "cell_type": "code",
   "execution_count": 37,
   "id": "71d09255",
   "metadata": {},
   "outputs": [],
   "source": [
    "duplicated2 = l.join(l.groupBy('Entidad_Norm', 'N_NIVEL_JERARQUICO')\\\n",
    "                  .count().where('count = 1').drop('count'),\n",
    "                on=['Entidad_Norm','N_NIVEL_JERARQUICO'],\n",
    "                how='left_anti')\n",
    "\n",
    "\n",
    "duplicated2 = duplicated2.withColumn(\"Similitud\", \n",
    "                           udf_Distance_ratcliff_obershelp(\n",
    "                               UDF_normalizarTexto(duplicated2.C_DNM_UD_ORGANICA_SUPERIOR),\n",
    "                               duplicated2.Entidad_Norm )\n",
    "                          ) \n",
    "\n",
    "\n",
    "\n",
    "duplicated2 = duplicated2.sort(duplicated2.Similitud.desc())\\\n",
    "                            .dropDuplicates(subset = ['Entidad_Norm']).drop(\"Similitud\")"
   ]
  },
  {
   "cell_type": "code",
   "execution_count": 38,
   "id": "0041dc09",
   "metadata": {},
   "outputs": [],
   "source": [
    "match = unique.union(duplicated1).union(duplicated2)\\\n",
    "               .select(['Entidad_Norm',\"final_score\"] + Nombre_Input_dir3.columns)\\\n",
    "               .withColumnRenamed(\"Entidad_Norm\",\"Entidad_Norm1\")\n"
   ]
  },
  {
   "cell_type": "code",
   "execution_count": 56,
   "id": "889af66e",
   "metadata": {},
   "outputs": [],
   "source": [
    "Nombre_Intermedio_proceso_dir3_entidades = Nombre_Intermedio_cruce2_invente\\\n",
    "                                            .drop('C_DNM_UD_ORGANICA_SUPERIOR', 'C_ID_UD_ORGANICA', 'C_ID_TIPO_ENT_PUBLICA',\n",
    "                                                  'C_DESC_PROV', 'C_ID_DEP_EDP_PRINCIPAL', 'C_ID_ESTADO', 'D_VIG_ALTA_OFICIAL', \n",
    "                                                  'CONTACTOS', 'NIF_CIF', 'C_ID_NIVEL_ADMON', 'C_DNM_UD_ORGANICA_EDP_PRINCIPAL', \n",
    "                                                  'C_ID_DEP_UD_PRINCIPAL', 'N_NIVEL_JERARQUICO', 'C_DNM_UD_ORGANICA', \n",
    "                                                  'C_DNM_UD_ORGANICA_PRINCIPAL', 'B_SW_DEP_EDP_PRINCIPAL', 'C_ID_AMB_PROVINCIA',\n",
    "                                                  'C_ID_DEP_UD_SUPERIOR')\n"
   ]
  },
  {
   "cell_type": "code",
   "execution_count": 57,
   "id": "d7775ffc",
   "metadata": {},
   "outputs": [],
   "source": [
    "Nombre_Intermedio_proceso_dir3_entidades = Nombre_Intermedio_proceso_dir3_entidades.join(match,\n",
    "                                      Nombre_Intermedio_proceso_dir3_entidades.Entidad_Norm ==  match.Entidad_Norm1,\"left\")     \n",
    "\n"
   ]
  },
  {
   "cell_type": "code",
   "execution_count": 58,
   "id": "deec0b86",
   "metadata": {},
   "outputs": [],
   "source": [
    "Nombre_Intermedio_proceso_dir3_entidades1 = Nombre_Intermedio_proceso_dir3_entidades.filter(\"final_score is not NULL\").drop(\"Entidad_Norm\")\n",
    "\n",
    "Nombre_Intermedio_proceso_dir3_entidades2 = Nombre_Intermedio_proceso_dir3_entidades.filter(\"final_score is  NULL\").drop(\"Entidad_Norm1\")\n",
    "\n",
    "Nombre_Intermedio_proceso_dir3_entidades2 = Nombre_Intermedio_proceso_dir3_entidades2\\\n",
    "                                                .withColumn(\"Similitud_Dir3\",lit(None).cast(FloatType()))"
   ]
  },
  {
   "cell_type": "code",
   "execution_count": 59,
   "id": "6f9ba327",
   "metadata": {},
   "outputs": [],
   "source": [
    "Nombre_Intermedio_proceso_dir3_entidades1 = Nombre_Intermedio_proceso_dir3_entidades1\\\n",
    "                                .withColumn(\"Entidad_Norm\", col(\"C_DNM_UD_ORGANICA\"))\\\n",
    "                                .withColumn(\"Provincia_Entidad\", col(\"C_DESC_PROV\"))\\\n",
    "                                .withColumn(\"CIF\", col(\"NIF_CIF\"))\\\n",
    "                                .withColumn(\"Similitud_Dir3\", col(\"final_score\"))\\\n",
    "                                .drop(\"Entidad_Norm1\")\n",
    "\n",
    "\n"
   ]
  },
  {
   "cell_type": "code",
   "execution_count": 60,
   "id": "77b1e2fe",
   "metadata": {},
   "outputs": [],
   "source": [
    "Nombre_Intermedio_cruce3_dir3 = Nombre_Intermedio_proceso_dir3_entidades1\\\n",
    "                                            .union(Nombre_Intermedio_proceso_dir3_entidades2)\\\n",
    "                                            .drop(\"C_DNM_UD_ORGANICA_Norm\", \"final_score\")\n",
    "\n",
    "\n",
    "\n",
    "\n"
   ]
  },
  {
   "cell_type": "code",
   "execution_count": null,
   "id": "2c6fa5fa",
   "metadata": {},
   "outputs": [],
   "source": [
    "#Nombre_Intermedio_cruce3_dir3.write.option(\"header\",True).mode('overwrite').format(\"csv\").save(\"Nombre_Intermedio_cruce3_dir3/csv\")\n"
   ]
  },
  {
   "cell_type": "code",
   "execution_count": null,
   "id": "e52a54c4",
   "metadata": {},
   "outputs": [],
   "source": [
    "#Nombre_Intermedio_cruce3_dir3.write.mode('overwrite').format(\"paequet\").save(\"Nombre_Intermedio_cruce3_dir3/parquet\")\n"
   ]
  },
  {
   "cell_type": "markdown",
   "id": "68baa8fa",
   "metadata": {},
   "source": [
    "# Inclusion vertical"
   ]
  },
  {
   "cell_type": "code",
   "execution_count": 61,
   "id": "c7410c9e",
   "metadata": {},
   "outputs": [],
   "source": [
    "Nombre_Output_entidades = Nombre_Intermedio_cruce3_dir3.drop(\"Similitud_Invente\", \"Similitud_Dir3\")"
   ]
  },
  {
   "cell_type": "code",
   "execution_count": 62,
   "id": "60b1a84b",
   "metadata": {},
   "outputs": [],
   "source": [
    "Nombre_Output_entidades = Nombre_Input_entidades\\\n",
    "                                            .union(Nombre_Output_entidades)"
   ]
  },
  {
   "cell_type": "code",
   "execution_count": null,
   "id": "aac8baf4",
   "metadata": {},
   "outputs": [],
   "source": [
    "#Nombre_Output_entidades.write.option(\"header\",True).mode('overwrite').format(\"csv\").save(\"Nombre_Output_entidades/csv\")\n"
   ]
  },
  {
   "cell_type": "code",
   "execution_count": null,
   "id": "562dfd45",
   "metadata": {},
   "outputs": [],
   "source": [
    "#Nombre_Output_entidades.write.mode('overwrite').format(\"parquet\").save(\"Nombre_Output_entidades/parquet\")\n"
   ]
  },
  {
   "cell_type": "markdown",
   "id": "24e69f5c",
   "metadata": {},
   "source": [
    "# If flag_invente_dir3 == False"
   ]
  },
  {
   "cell_type": "code",
   "execution_count": 30,
   "id": "0acdd528",
   "metadata": {},
   "outputs": [],
   "source": [
    "Nombre_Output_entidades = Nombre_Input_entidades\\\n",
    "                                            .union(Nombre_Intermedio_cruce1_entidades)"
   ]
  },
  {
   "cell_type": "code",
   "execution_count": null,
   "id": "7de93866",
   "metadata": {},
   "outputs": [],
   "source": [
    "#Nombre_Output_entidades.write.option(\"header\",True).mode('overwrite').format(\"csv\").save(\"Nombre_Output_entidades/csv\")\n"
   ]
  },
  {
   "cell_type": "code",
   "execution_count": null,
   "id": "54a8df21",
   "metadata": {},
   "outputs": [],
   "source": [
    "#Nombre_Output_entidades.write.mode('overwrite').format(\"parquet\").save(\"Nombre_Output_entidades/parquet\")\n"
   ]
  },
  {
   "cell_type": "code",
   "execution_count": null,
   "id": "26cf73c3",
   "metadata": {},
   "outputs": [],
   "source": []
  },
  {
   "cell_type": "code",
   "execution_count": null,
   "id": "fe172883",
   "metadata": {},
   "outputs": [],
   "source": []
  },
  {
   "cell_type": "code",
   "execution_count": null,
   "id": "59268386",
   "metadata": {},
   "outputs": [],
   "source": []
  }
 ],
 "metadata": {
  "kernelspec": {
   "display_name": "Python 3 (ipykernel)",
   "language": "python",
   "name": "python3"
  },
  "language_info": {
   "codemirror_mode": {
    "name": "ipython",
    "version": 3
   },
   "file_extension": ".py",
   "mimetype": "text/x-python",
   "name": "python",
   "nbconvert_exporter": "python",
   "pygments_lexer": "ipython3",
   "version": "3.8.10"
  }
 },
 "nbformat": 4,
 "nbformat_minor": 5
}
