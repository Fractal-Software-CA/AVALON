{
 "cells": [
  {
   "cell_type": "code",
   "execution_count": 26,
   "id": "3b8a875d",
   "metadata": {},
   "outputs": [],
   "source": [
    "# import sys  \n",
    "# sys.path.insert(0, '/Users/arturo/Downloads/')\n",
    "\n",
    "from function2 import *\n"
   ]
  },
  {
   "cell_type": "code",
   "execution_count": 27,
   "id": "ffad5d2f",
   "metadata": {},
   "outputs": [],
   "source": [
    "import pyspark\n",
    "from pyspark.sql import SparkSession\n",
    "import warnings\n",
    "warnings.filterwarnings('ignore')\n",
    "from pyspark.sql.window import Window as W\n",
    "pd.options.display.max_colwidth = 1000\n",
    "# from pyspark.sql.types import StructType,StructField, StringType, IntegerType \n",
    "# from pyspark.sql.types import ArrayType, DoubleType, BooleanType\n",
    "# from pyspark.sql.functions import col,array_contains\n",
    "\n"
   ]
  },
  {
   "cell_type": "code",
   "execution_count": 28,
   "id": "aebed985",
   "metadata": {},
   "outputs": [],
   "source": [
    "spark = SparkSession.builder.appName('SparkByExamples.com').getOrCreate()"
   ]
  },
  {
   "cell_type": "markdown",
   "id": "e5d318af",
   "metadata": {},
   "source": [
    "# Datos"
   ]
  },
  {
   "cell_type": "code",
   "execution_count": 29,
   "id": "7e715f8c",
   "metadata": {},
   "outputs": [],
   "source": [
    "Nombre_Input_entidades = spark.read.csv(\"DATA_SIC_ENTIDADES_PUBLICAS_AYUDAS_ESP_short1.csv\", sep=\";\", header=True)\n",
    "Nombre_Input_relaciones = spark.read.csv(\"DATA_RELACION_ENTIDADES_MAESTRO_short1.csv\", sep=\";\", header=True)\n",
    "Nombre_Input_investigadores = spark.read.csv(\"DATA_SIC_AYUDA_ESP_UO_PB_J_MAESTRO_short1.csv\", sep=\";\", header=True)"
   ]
  },
  {
   "cell_type": "markdown",
   "id": "5390fb48",
   "metadata": {},
   "source": [
    "# Cruce 1"
   ]
  },
  {
   "cell_type": "code",
   "execution_count": 30,
   "id": "dc76ba9e",
   "metadata": {},
   "outputs": [],
   "source": [
    "cruce1 = Nombre_Input_investigadores.\\\n",
    "                                    join(Nombre_Input_relaciones,\n",
    "                                         Nombre_Input_investigadores.Id ==  Nombre_Input_relaciones.Id_NIVEL_0,\"left\")\\\n",
    "                                    .dropDuplicates(Nombre_Input_investigadores.columns)\\\n",
    "                                    .filter(\"Id_NIVEL_0 is not null\")"
   ]
  },
  {
   "cell_type": "code",
   "execution_count": 31,
   "id": "304cf61d",
   "metadata": {},
   "outputs": [],
   "source": [
    "cruce1 = cruce1.withColumn(\"Similitud\", \n",
    "                           udf_Distance_ratcliff_obershelp(\n",
    "                               UDF_normalizarTexto(cruce1.NOMBRE_ENTIDAD_NIVEL_1),\n",
    "                               cruce1.Centro_Norm )\n",
    "                          ) "
   ]
  },
  {
   "cell_type": "markdown",
   "id": "8525feb3",
   "metadata": {},
   "source": [
    "# DATA_SIC_ENTIDADES_CENTROS_PB"
   ]
  },
  {
   "cell_type": "code",
   "execution_count": 32,
   "id": "2214f45d",
   "metadata": {},
   "outputs": [],
   "source": [
    "maxId = Nombre_Input_entidades.withColumn(\"Id\", Nombre_Input_entidades.Id.cast('int')).select(\"Id\").rdd.max()[0]"
   ]
  },
  {
   "cell_type": "code",
   "execution_count": 33,
   "id": "f04cca19",
   "metadata": {},
   "outputs": [],
   "source": [
    "data = cruce1.filter(\"Similitud <0.875\")\\\n",
    "             .withColumn(\"CIF\",lit(None).cast(StringType()))\\\n",
    "             .withColumn(\"Entidad_Norm\",col(\"Centro_Norm\"))\\\n",
    "             .withColumn(\"Provincia_Entidad\",col(\"Provincia_Centro\"))\\\n",
    "             .withColumn(\"ID_ENTIDAD\",lit(None).cast(StringType()))\\\n",
    "             .withColumn(\"NIF_COD\",lit(None).cast(StringType()))\\\n",
    "             .withColumn(\"ACRONIMO\",lit(None).cast(StringType()))\\\n",
    "             .withColumn(\"NOMBRE_ENTIDAD\",lit(None).cast(StringType()))\\\n",
    "             .withColumn(\"Nombre_Entidad_Mostrar\",lit(None).cast(StringType()))\\\n",
    "             .withColumn(\"TIPO_ENTIDAD_N1_1\",lit(None).cast(StringType()))\\\n",
    "             .withColumn(\"TIPO_ENTIDAD_N2_1\",lit(None).cast(StringType()))\\\n",
    "             .withColumn(\"DIRECCION_POSTAL\",lit(None).cast(StringType()))\\\n",
    "             .withColumn(\"COD_POSTAL\",lit(None).cast(StringType()))\\\n",
    "             .withColumn(\"COD_PROVINCIA\",lit(None).cast(StringType()))\\\n",
    "             .withColumn(\"PROVINCIA\",lit(None).cast(StringType()))\\\n",
    "             .withColumn(\"COD_CCAA\",lit(None).cast(StringType()))\\\n",
    "             .withColumn(\"CCAA\",lit(None).cast(StringType()))\\\n",
    "             .withColumn(\"ENLACE_WEB\",lit(None).cast(StringType()))\\\n",
    "             .withColumn(\"SOMMA\",lit(None).cast(StringType()))\\\n",
    "             .withColumn(\"TIPO_ENTIDAD_REGIONAL\",lit(None).cast(StringType()))\\\n",
    "             .withColumn(\"ESTADO_x\",lit(None).cast(StringType()))\\\n",
    "             .withColumn(\"CodigoInvente\",lit(None).cast(StringType()))\\\n",
    "             .withColumn(\"DenominacionSocial\",lit(None).cast(StringType()))\\\n",
    "             .withColumn(\"FormaJuridica_Codigo\",lit(None).cast(StringType()))\\\n",
    "             .withColumn(\"FormaJuridica_Descripcion\",lit(None).cast(StringType()))\\\n",
    "             .withColumn(\"NIF\",lit(None).cast(StringType()))\\\n",
    "             .withColumn(\"codigoDir3\",lit(None).cast(StringType()))\\\n",
    "             .withColumn(\"codigoOrigen\",lit(None).cast(StringType()))\\\n",
    "             .withColumn(\"Provincia_Codigo\",lit(None).cast(StringType()))\\\n",
    "             .withColumn(\"C_ID_UD_ORGANICA\",lit(None).cast(StringType()))\\\n",
    "             .withColumn(\"C_DNM_UD_ORGANICA\",lit(None).cast(StringType()))\\\n",
    "             .withColumn(\"C_ID_NIVEL_ADMON\",lit(None).cast(StringType()))\\\n",
    "             .withColumn(\"C_ID_TIPO_ENT_PUBLICA\",lit(None).cast(StringType()))\\\n",
    "             .withColumn(\"N_NIVEL_JERARQUICO\",lit(None).cast(StringType()))\\\n",
    "             .withColumn(\"C_ID_DEP_UD_SUPERIOR\",lit(None).cast(StringType()))\\\n",
    "             .withColumn(\"C_DNM_UD_ORGANICA_SUPERIOR\",lit(None).cast(StringType()))\\\n",
    "             .withColumn(\"C_ID_DEP_UD_PRINCIPAL\",lit(None).cast(StringType()))\\\n",
    "             .withColumn(\"C_DNM_UD_ORGANICA_PRINCIPAL\",lit(None).cast(StringType()))\\\n",
    "             .withColumn(\"B_SW_DEP_EDP_PRINCIPAL\",lit(None).cast(StringType()))\\\n",
    "             .withColumn(\"C_ID_DEP_EDP_PRINCIPAL\",lit(None).cast(StringType()))\\\n",
    "             .withColumn(\"C_DNM_UD_ORGANICA_EDP_PRINCIPAL\",lit(None).cast(StringType()))\\\n",
    "             .withColumn(\"C_ID_ESTADO\",lit(None).cast(StringType()))\\\n",
    "             .withColumn(\"D_VIG_ALTA_OFICIAL\",lit(None).cast(StringType()))\\\n",
    "             .withColumn(\"NIF_CIF\",lit(None).cast(StringType()))\\\n",
    "             .withColumn(\"C_ID_AMB_PROVINCIA\",lit(None).cast(StringType()))\\\n",
    "             .withColumn(\"C_DESC_PROV\",lit(None).cast(StringType()))\\\n",
    "             .withColumn(\"CONTACTOS\",lit(None).cast(StringType()))\\\n",
    "             .withColumn(\"List_Entidad_Norm\",col(\"Centro_Norm\"))\\\n",
    "             .withColumn(\"List_Provincia_Entidad\",col(\"Provincia_Centro\"))\\\n",
    "             .withColumn(\"List_CIF\",lit(None).cast(StringType()))"
   ]
  },
  {
   "cell_type": "code",
   "execution_count": 34,
   "id": "15b811ea",
   "metadata": {},
   "outputs": [],
   "source": [
    "#data = data.dropDuplicates([\"Entidad_Norm\", \"Provincia_Entidad\"])\n",
    "data = data.withColumnRenamed(\"Id\", \"IdOld\")"
   ]
  },
  {
   "cell_type": "code",
   "execution_count": 35,
   "id": "4086cf00",
   "metadata": {},
   "outputs": [],
   "source": [
    "Index = [maxId + i for i in range(1, data_count+1)]\n",
    "Index = spark.createDataFrame(Index, IntegerType())\n",
    "Index = Index.withColumnRenamed(\"value\", \"Id\")"
   ]
  },
  {
   "cell_type": "code",
   "execution_count": 36,
   "id": "88f27586",
   "metadata": {},
   "outputs": [],
   "source": [
    "windowSpec = W.orderBy(\"Dummy\")\n",
    "\n",
    "Index = Index.withColumn(\"Dummy\", monotonically_increasing_id())\n",
    "Index = Index.withColumn(\"Dummy\", F.row_number().over(windowSpec))\n",
    "\n",
    "data = data.withColumn(\"Dummy\", monotonically_increasing_id())\n",
    "data = data.withColumn(\"Dummy\", F.row_number().over(windowSpec))\n",
    "\n",
    "data = data.join(Index, \"Dummy\", \"outer\").drop(\"Dummy\")"
   ]
  },
  {
   "cell_type": "code",
   "execution_count": 37,
   "id": "d7a83d3b",
   "metadata": {},
   "outputs": [],
   "source": [
    "Nombre_Intermedio_cruce1_entidades = data.select(Nombre_Input_entidades.columns)"
   ]
  },
  {
   "cell_type": "code",
   "execution_count": 38,
   "id": "ea7c6ef1",
   "metadata": {},
   "outputs": [],
   "source": [
    "# eliminar duplicados"
   ]
  },
  {
   "cell_type": "code",
   "execution_count": 39,
   "id": "22dd956a",
   "metadata": {},
   "outputs": [],
   "source": [
    "#Nombre_Intermedio_cruce1_entidades.write.option(\"header\",True).mode('overwrite').format(\"csv\").save(\"Nombre_Intermedio_cruce1_entidades/csv\")"
   ]
  },
  {
   "cell_type": "code",
   "execution_count": 40,
   "id": "40cd53bc",
   "metadata": {},
   "outputs": [],
   "source": [
    "#Nombre_Intermedio_cruce1_entidades.write.format(\"parquet\").mode('overwrite').save(\"Nombre_Intermedio_cruce1_entidades/parquet\")"
   ]
  },
  {
   "cell_type": "markdown",
   "id": "c8708fbc",
   "metadata": {},
   "source": [
    "# Nombre_Output_investigadores"
   ]
  },
  {
   "cell_type": "code",
   "execution_count": 41,
   "id": "9bdbf3e3",
   "metadata": {},
   "outputs": [],
   "source": [
    "data_2 = cruce1.filter(\"Similitud >=0.875\")\\\n",
    "        .withColumn(\"Final_Score\", col(\"Similitud\"))\\\n",
    "        .withColumn(\"Id_Centro\", col(\"Id_NIVEL_1\"))\\\n",
    "        .withColumn(\"Centro_Nombre_match\", col(\"NOMBRE_ENTIDAD_NIVEL_1\"))\\\n",
    "        .withColumn(\"Centro_Provincia_match\", col(\"COD_PROVINCIA_NIVEL_1\"))\\\n",
    "        .withColumn(\"Similitud_Centro\", col(\"Similitud\"))\\\n",
    "        .select(Nombre_Input_investigadores.columns + \n",
    "                [\"Final_Score\",\"Id_Centro\", \"Centro_Nombre_match\", \"Centro_Provincia_match\", \"Similitud_Centro\"])\n"
   ]
  },
  {
   "cell_type": "code",
   "execution_count": 42,
   "id": "196406af",
   "metadata": {},
   "outputs": [],
   "source": [
    "data_3 = data.withColumn(\"Final_Score\", col(\"Similitud\"))\\\n",
    "        .withColumn(\"Id_Centro\", col(\"Id\"))\\\n",
    "        .withColumn(\"Centro_Nombre_match\", col(\"NOMBRE_ENTIDAD_NIVEL_1\"))\\\n",
    "        .withColumn(\"Centro_Provincia_match\", col(\"COD_PROVINCIA_NIVEL_1\"))\\\n",
    "        .withColumn(\"Similitud_Centro\", col(\"Similitud\"))\\\n",
    "        .select(Nombre_Input_investigadores.columns + \n",
    "                [\"Final_Score\",\"Id_Centro\", \"Centro_Nombre_match\", \"Centro_Provincia_match\", \"Similitud_Centro\"])\n"
   ]
  },
  {
   "cell_type": "code",
   "execution_count": 43,
   "id": "ec4df652",
   "metadata": {},
   "outputs": [],
   "source": [
    "Nombre_Output_investigadores = data_2.union(data_3)"
   ]
  },
  {
   "cell_type": "code",
   "execution_count": 44,
   "id": "f0b40c2b",
   "metadata": {},
   "outputs": [],
   "source": [
    "#result.write.option(\"header\",True).mode('overwrite').format(\"csv\").save(\"Nombre_Output_investigadores/csv\")"
   ]
  },
  {
   "cell_type": "code",
   "execution_count": 45,
   "id": "2140b2de",
   "metadata": {},
   "outputs": [],
   "source": [
    "#result.write.format(\"parquet\").mode('overwrite').save(\"Nombre_Output_investigadores/parquet\")"
   ]
  },
  {
   "cell_type": "markdown",
   "id": "e245dc5f",
   "metadata": {},
   "source": [
    "# Nombre_Intermedio_cruce1_relaciones"
   ]
  },
  {
   "cell_type": "code",
   "execution_count": 46,
   "id": "46c13542",
   "metadata": {},
   "outputs": [],
   "source": [
    "Nombre_Intermedio_cruce1_relaciones = data.select([\"Id\", \"IdOld\", \"Entidad\", \"Centro\",\"Centro_Norm\", \"Provincia_Entidad\", \"Provincia_Centro\",\"CIF\",\"Entidad_Norm\"])"
   ]
  },
  {
   "cell_type": "code",
   "execution_count": 47,
   "id": "7ef063be",
   "metadata": {},
   "outputs": [
    {
     "name": "stderr",
     "output_type": "stream",
     "text": [
      "100%|████████████████████████████████████████| 970/970 [00:01<00:00, 706.89it/s]\n",
      "100%|████████████████████████████████████████| 970/970 [00:04<00:00, 204.97it/s]\n"
     ]
    },
    {
     "name": "stdout",
     "output_type": "stream",
     "text": [
      "22/07/31 11:14:05 WARN StopWordsRemover: Default locale set was [en_MX]; however, it was not found in available locales in JVM, falling back to en_US locale. Set param `locale` in order to respect another locale.\n",
      "22/07/31 11:14:05 WARN StopWordsRemover: Default locale set was [en_MX]; however, it was not found in available locales in JVM, falling back to en_US locale. Set param `locale` in order to respect another locale.\n"
     ]
    },
    {
     "name": "stderr",
     "output_type": "stream",
     "text": [
      "                                                                                \r"
     ]
    }
   ],
   "source": [
    "#Eliminamos duplicados\n",
    "\n",
    "l = get_matching_entities_by_elasticSearch(\n",
    "                                        Nombre_Input_investigadores, \n",
    "                                        \"Entidad_Norm\", \n",
    "                                        [\"Entidad_Norm\"],\n",
    "                                        Nombre_Input_investigadores, \n",
    "                                        \"Centro_Norm\",\n",
    "                                        [\"Centro_Norm\"],\n",
    "                                        'index_name',\n",
    "                                        10)\n",
    "\n",
    "l = get_matching_by_elasticSearch_Distance_ratcliff_obershelp(spark,l)\n",
    "duplicados = list(l.filter(\"final_score >= 0.875\").select(\"Entidad_Norm\").dropDuplicates().toPandas().Entidad_Norm)\n",
    "Nombre_Intermedio_cruce1_relaciones = Nombre_Intermedio_cruce1_relaciones.filter(~Nombre_Intermedio_cruce1_relaciones.Entidad_Norm.isin(duplicados))\n"
   ]
  },
  {
   "cell_type": "code",
   "execution_count": 48,
   "id": "85ea1cf1",
   "metadata": {},
   "outputs": [],
   "source": [
    "Nombre_Intermedio_cruce1_relaciones = Nombre_Intermedio_cruce1_relaciones.withColumn(\"Id_NIVEL_1\", col(\"Id\"))\\\n",
    "      .withColumn(\"Id_NIVEL_0\", col(\"IdOld\"))\\\n",
    "      .withColumn(\"NOMBRE_ENTIDAD_NIVEL_0\", col(\"Entidad\"))\\\n",
    "      .withColumn(\"NOMBRE_ENTIDAD_NIVEL_1\", col(\"Centro\"))\\\n",
    "      .withColumn(\"COD_PROVINCIA_NIVEL_0\", col(\"Provincia_Entidad\"))\\\n",
    "      .withColumn(\"COD_PROVINCIA_NIVEL_1\", col(\"Provincia_Centro\"))\\\n",
    "      .withColumn(\"NIF_COD_NIVEL_0\", col(\"CIF\"))\\\n",
    "      .withColumn(\"Jerarquia\", lit(\"Orgánica Directa\").cast(StringType()))\\\n",
    "      .withColumn(\"ACRONIMO_NIVEL_0\",lit(None).cast(StringType()))\\\n",
    "      .withColumn(\"ACRONIMO_NIVEL_1\",lit(None).cast(StringType()))\\\n",
    "      .withColumn(\"CCAA_NIVEL_0\",lit(None).cast(StringType()))\\\n",
    "      .withColumn(\"CCAA_NIVEL_1\",lit(None).cast(StringType()))\\\n",
    "      .withColumn(\"COD_CCAA_NIVEL_0\",lit(None).cast(StringType()))\\\n",
    "      .withColumn(\"COD_CCAA_NIVEL_1\",lit(None).cast(StringType()))\\\n",
    "      .withColumn(\"COD_POSTAL_NIVEL_0\",lit(None).cast(StringType()))\\\n",
    "      .withColumn(\"COD_POSTAL_NIVEL_1\",lit(None).cast(StringType()))\\\n",
    "      .withColumn(\"DIRECCION_POSTAL_NIVEL_0\",lit(None).cast(StringType()))\\\n",
    "      .withColumn(\"DIRECCION_POSTAL_NIVEL_1\",lit(None).cast(StringType()))\\\n",
    "      .withColumn(\"ENLACE_WEB_NIVEL_0\",lit(None).cast(StringType()))\\\n",
    "      .withColumn(\"ENLACE_WEB_NIVEL_1\",lit(None).cast(StringType()))\\\n",
    "      .withColumn(\"ESTADO_x_NIVEL_0\",lit(None).cast(StringType()))\\\n",
    "      .withColumn(\"ENLACE_WEB_NIVEL_1\",lit(None).cast(StringType()))\\\n",
    "      .withColumn(\"ESTADO_x_NIVEL_0\",lit(None).cast(StringType()))\\\n",
    "      .withColumn(\"ESTADO_x_NIVEL_1\",lit(None).cast(StringType()))\\\n",
    "      .withColumn(\"ID_ENTIDAD_NIVEL_0\",lit(None).cast(StringType()))\\\n",
    "      .withColumn(\"ID_ENTIDAD_NIVEL_1\",lit(None).cast(StringType()))\\\n",
    "      .withColumn(\"NIF_COD_NIVEL_1\",lit(None).cast(StringType()))\\\n",
    "      .withColumn(\"Nombre_Entidad_Mostrar_NIVEL_0\",lit(None).cast(StringType()))\\\n",
    "      .withColumn(\"Nombre_Entidad_Mostrar_NIVEL_1\",lit(None).cast(StringType()))\\\n",
    "      .withColumn(\"PROVINCIA_NIVEL_0\",lit(None).cast(StringType()))\\\n",
    "      .withColumn(\"PROVINCIA_NIVEL_1\",lit(None).cast(StringType()))\\\n",
    "      .withColumn(\"SOMMA_NIVEL_0\",lit(None).cast(StringType()))\\\n",
    "      .withColumn(\"SOMMA_NIVEL_1\",lit(None).cast(StringType()))\\\n",
    "      .withColumn(\"TIPO_ENTIDAD_N1_1_NIVEL_0\",lit(None).cast(StringType()))\\\n",
    "      .withColumn(\"TIPO_ENTIDAD_N1_1_NIVEL_1\",lit(None).cast(StringType()))\\\n",
    "      .withColumn(\"TIPO_ENTIDAD_N2_1_NIVEL_0\",lit(None).cast(StringType()))\\\n",
    "      .withColumn(\"TIPO_ENTIDAD_N2_1_NIVEL_1\",lit(None).cast(StringType()))\\\n",
    "      .withColumn(\"TIPO_ENTIDAD_REGIONAL_NIVEL_0\",lit(None).cast(StringType()))\\\n",
    "      .withColumn(\"TIPO_ENTIDAD_REGIONAL_NIVEL_1\",lit(None).cast(StringType()))\\\n",
    "    "
   ]
  },
  {
   "cell_type": "code",
   "execution_count": 49,
   "id": "f58bc52d",
   "metadata": {},
   "outputs": [],
   "source": [
    "Nombre_Intermedio_cruce1_relaciones = Nombre_Intermedio_cruce1_relaciones.select(Nombre_Input_relaciones.columns)"
   ]
  },
  {
   "cell_type": "code",
   "execution_count": null,
   "id": "d1750c31",
   "metadata": {},
   "outputs": [],
   "source": [
    "\n",
    "#Nombre_Intermedio_cruce1_relaciones.write.option(\"header\",True).mode('overwrite').format(\"csv\").save(\"Nombre_Intermedio_cruce1_relaciones/csv\")"
   ]
  },
  {
   "cell_type": "code",
   "execution_count": null,
   "id": "c74f19ab",
   "metadata": {},
   "outputs": [],
   "source": [
    "#Nombre_Intermedio_cruce1_relaciones.write.option(\"header\",True).mode('overwrite').format(\"csv\").save(\"Nombre_Intermedio_cruce1_relaciones/parquet\")"
   ]
  },
  {
   "cell_type": "markdown",
   "id": "676246bd",
   "metadata": {},
   "source": [
    "# Agregacion vertical de relaciones"
   ]
  },
  {
   "cell_type": "code",
   "execution_count": 50,
   "id": "22a53a2b",
   "metadata": {},
   "outputs": [],
   "source": [
    "Nombre_Output_relaciones = Nombre_Input_relaciones.union(Nombre_Intermedio_cruce1_relaciones)"
   ]
  },
  {
   "cell_type": "code",
   "execution_count": 51,
   "id": "8be1e2b1",
   "metadata": {},
   "outputs": [],
   "source": [
    "#Nombre_Intermedio_cruce1_relaciones.write.option(\"header\",True).mode('overwrite').format(\"csv\").save(\"Nombre_Output_relaciones/csv\")"
   ]
  },
  {
   "cell_type": "code",
   "execution_count": 52,
   "id": "8bdcec4c",
   "metadata": {},
   "outputs": [],
   "source": [
    "#Nombre_Intermedio_cruce1_relaciones.write.mode('overwrite').format(\"paequet\").save(\"Nombre_Output_relaciones/parquet\")"
   ]
  },
  {
   "cell_type": "markdown",
   "id": "c5355032",
   "metadata": {},
   "source": [
    "# If flag_invente_dir3 == True"
   ]
  },
  {
   "cell_type": "markdown",
   "id": "53c71c21",
   "metadata": {},
   "source": [
    "# Nombre_Input_invente"
   ]
  },
  {
   "cell_type": "code",
   "execution_count": 53,
   "id": "07e72157",
   "metadata": {},
   "outputs": [],
   "source": [
    "# data invente\n",
    "Nombre_Input_invente = pd.read_excel('Analisis_entidades_invente_15-02-2022.xlsx')\n",
    "for i in Nombre_Input_invente.columns:\n",
    "    Nombre_Input_invente[i] = Nombre_Input_invente[i].astype(str)\n",
    "\n",
    "\n",
    "\n",
    "new_header = Nombre_Input_invente.iloc[0] \n",
    "# #grab the first row for the header\n",
    "Nombre_Input_invente = Nombre_Input_invente[1:] #take the data less the header row\n",
    "Nombre_Input_invente.columns = new_header #set the header row as the df header\n",
    "\n",
    "Nombre_Input_invente = Nombre_Input_invente[[\"DenominacionSocial\", \"Provincia_Codigo\", \"NIF\",\n",
    "                                                \"CodigoInvente\", \"FormaJuridica_Codigo\", \n",
    "                                                \"FormaJuridica_Descripcion\", \"codigoDir3\",\"codigoOrigen\",\n",
    "                                                \"Provincia_Codigo\"]]\n",
    "\n",
    "Nombre_Input_invente = Nombre_Input_invente.loc[:,~Nombre_Input_invente.columns.duplicated()]\n",
    "\n",
    "Nombre_Input_invente = spark.createDataFrame(Nombre_Input_invente.fillna('')) \n",
    "\n",
    "\n",
    "Nombre_Input_invente = Nombre_Input_invente.withColumn(\"DenominacionSocial_Norm\", UDF_normalizarTexto(Nombre_Input_invente.DenominacionSocial))\n"
   ]
  },
  {
   "cell_type": "markdown",
   "id": "d3966d8e",
   "metadata": {},
   "source": [
    "# Nombre_Intermedio_cruce2_invente"
   ]
  },
  {
   "cell_type": "code",
   "execution_count": 54,
   "id": "15eee1ad",
   "metadata": {},
   "outputs": [
    {
     "name": "stdout",
     "output_type": "stream",
     "text": [
      "22/07/31 11:14:21 WARN WindowExec: No Partition Defined for Window operation! Moving all data to a single partition, this can cause serious performance degradation.\n",
      "22/07/31 11:14:21 WARN WindowExec: No Partition Defined for Window operation! Moving all data to a single partition, this can cause serious performance degradation.\n",
      "22/07/31 11:14:21 WARN WindowExec: No Partition Defined for Window operation! Moving all data to a single partition, this can cause serious performance degradation.\n",
      "22/07/31 11:14:21 WARN WindowExec: No Partition Defined for Window operation! Moving all data to a single partition, this can cause serious performance degradation.\n",
      "22/07/31 11:14:21 WARN package: Truncated the string representation of a plan since it was too large. This behavior can be adjusted by setting 'spark.sql.debug.maxToStringFields'.\n",
      "22/07/31 11:14:22 WARN WindowExec: No Partition Defined for Window operation! Moving all data to a single partition, this can cause serious performance degradation.\n",
      "22/07/31 11:14:22 WARN WindowExec: No Partition Defined for Window operation! Moving all data to a single partition, this can cause serious performance degradation.\n",
      "22/07/31 11:14:22 WARN WindowExec: No Partition Defined for Window operation! Moving all data to a single partition, this can cause serious performance degradation.\n",
      "22/07/31 11:14:22 WARN WindowExec: No Partition Defined for Window operation! Moving all data to a single partition, this can cause serious performance degradation.\n",
      "22/07/31 11:14:22 WARN WindowExec: No Partition Defined for Window operation! Moving all data to a single partition, this can cause serious performance degradation.\n",
      "22/07/31 11:14:22 WARN WindowExec: No Partition Defined for Window operation! Moving all data to a single partition, this can cause serious performance degradation.\n",
      "22/07/31 11:14:22 WARN WindowExec: No Partition Defined for Window operation! Moving all data to a single partition, this can cause serious performance degradation.\n",
      "22/07/31 11:14:22 WARN WindowExec: No Partition Defined for Window operation! Moving all data to a single partition, this can cause serious performance degradation.\n",
      "22/07/31 11:14:22 WARN WindowExec: No Partition Defined for Window operation! Moving all data to a single partition, this can cause serious performance degradation.\n",
      "22/07/31 11:14:22 WARN WindowExec: No Partition Defined for Window operation! Moving all data to a single partition, this can cause serious performance degradation.\n",
      "22/07/31 11:14:22 WARN WindowExec: No Partition Defined for Window operation! Moving all data to a single partition, this can cause serious performance degradation.\n",
      "22/07/31 11:14:22 WARN WindowExec: No Partition Defined for Window operation! Moving all data to a single partition, this can cause serious performance degradation.\n",
      "22/07/31 11:14:22 WARN WindowExec: No Partition Defined for Window operation! Moving all data to a single partition, this can cause serious performance degradation.\n",
      "22/07/31 11:14:22 WARN WindowExec: No Partition Defined for Window operation! Moving all data to a single partition, this can cause serious performance degradation.\n",
      "22/07/31 11:14:22 WARN WindowExec: No Partition Defined for Window operation! Moving all data to a single partition, this can cause serious performance degradation.\n",
      "22/07/31 11:14:22 WARN WindowExec: No Partition Defined for Window operation! Moving all data to a single partition, this can cause serious performance degradation.\n"
     ]
    },
    {
     "name": "stderr",
     "output_type": "stream",
     "text": [
      "100%|██████████████████████████████████████| 5181/5181 [00:05<00:00, 950.27it/s]\n",
      "100%|█████████████████████████████████| 112793/112793 [01:21<00:00, 1386.64it/s]\n"
     ]
    }
   ],
   "source": [
    "l = get_matching_entities_by_elasticSearch(\n",
    "                                        Nombre_Intermedio_cruce1_entidades, \n",
    "                                        \"Entidad_Norm\", \n",
    "                                        [\"Entidad_Norm\"],\n",
    "                                        Nombre_Input_invente, \n",
    "                                        \"DenominacionSocial_Norm\",\n",
    "                                        Nombre_Input_invente.columns,\n",
    "                                        'index_name',\n",
    "                                        1)"
   ]
  },
  {
   "cell_type": "code",
   "execution_count": 55,
   "id": "5fbfa868",
   "metadata": {},
   "outputs": [
    {
     "name": "stdout",
     "output_type": "stream",
     "text": [
      "22/07/31 11:15:53 WARN StopWordsRemover: Default locale set was [en_MX]; however, it was not found in available locales in JVM, falling back to en_US locale. Set param `locale` in order to respect another locale.\n",
      "22/07/31 11:15:53 WARN StopWordsRemover: Default locale set was [en_MX]; however, it was not found in available locales in JVM, falling back to en_US locale. Set param `locale` in order to respect another locale.\n"
     ]
    }
   ],
   "source": [
    "l = get_matching_by_elasticSearch_Distance_ratcliff_obershelp(spark,l).filter(\"final_score >= 0.875\")"
   ]
  },
  {
   "cell_type": "code",
   "execution_count": 56,
   "id": "a62e009a",
   "metadata": {},
   "outputs": [],
   "source": [
    "l = l.sort(l.final_score.desc()).dropDuplicates(subset = ['Entidad_Norm']).select(\"Entidad_Norm\",\"DenominacionSocial\", \"NIF\",\n",
    "                                                                                \"CodigoInvente\", \"FormaJuridica_Codigo\", \n",
    "                                                                                \"FormaJuridica_Descripcion\", \"codigoDir3\",\"codigoOrigen\",\n",
    "                                                                                \"Provincia_Codigo\", \"final_score\",\"DenominacionSocial_Norm\")\n"
   ]
  },
  {
   "cell_type": "code",
   "execution_count": 57,
   "id": "d0edf607",
   "metadata": {},
   "outputs": [],
   "source": [
    "Nombre_Intermedio_cruce2_invente = Nombre_Intermedio_cruce1_entidades.drop(\"CodigoInvente\",\"DenominacionSocial\", \"FormaJuridica_Codigo\", \n",
    "                                                                           \"FormaJuridica_Descripcion\", \"NIF\", \"codigoDir3\", \"codigoOrigen\",\n",
    "                                                                            \"Provincia_Codigo\", \"Provincia_Entidad\", \"CIF\")\n",
    "\n",
    "\n",
    "\n"
   ]
  },
  {
   "cell_type": "code",
   "execution_count": 58,
   "id": "e64975b5",
   "metadata": {},
   "outputs": [],
   "source": [
    "Nombre_Intermedio_cruce2_invente = Nombre_Intermedio_cruce2_invente.join(l,\n",
    "                                      Nombre_Intermedio_cruce2_invente.Entidad_Norm ==  l.Entidad_Norm,\"left\")                                 \n",
    "\n",
    "     "
   ]
  },
  {
   "cell_type": "code",
   "execution_count": 59,
   "id": "b94c4e38",
   "metadata": {},
   "outputs": [],
   "source": [
    "Nombre_Intermedio_cruce2_invente1 = Nombre_Intermedio_cruce2_invente.filter(\"final_score is not NULL\").drop(\"Entidad_Norm\")\n",
    "Nombre_Intermedio_cruce2_invente2 = Nombre_Intermedio_cruce2_invente.filter(\"final_score is  NULL\")"
   ]
  },
  {
   "cell_type": "code",
   "execution_count": 60,
   "id": "1c92140a",
   "metadata": {},
   "outputs": [],
   "source": [
    "Nombre_Intermedio_cruce2_invente1 = Nombre_Intermedio_cruce2_invente1.withColumn(\"Entidad_Norm\", col(\"DenominacionSocial_Norm\"))\\\n",
    "                                                                    .withColumn(\"Provincia_Entidad\", col(\"Provincia_Codigo\"))\\\n",
    "                                                                    .withColumn(\"CIF\", col(\"NIF\"))\\\n",
    "                                                                    .withColumn(\"Similitud_invente\", col(\"final_score\"))"
   ]
  },
  {
   "cell_type": "code",
   "execution_count": 61,
   "id": "7afbe567",
   "metadata": {},
   "outputs": [],
   "source": [
    "Nombre_Intermedio_cruce2_invente1 = Nombre_Intermedio_cruce2_invente1.select(Nombre_Intermedio_cruce1_entidades.columns+[\"Similitud_invente\"])\n"
   ]
  },
  {
   "cell_type": "code",
   "execution_count": 62,
   "id": "65e8fcd3",
   "metadata": {},
   "outputs": [],
   "source": [
    "Nombre_Intermedio_cruce2_invente = Nombre_Intermedio_cruce2_invente1.union(Nombre_Intermedio_cruce2_invente2)"
   ]
  },
  {
   "cell_type": "code",
   "execution_count": null,
   "id": "a3940566",
   "metadata": {},
   "outputs": [],
   "source": [
    "#Nombre_Intermedio_cruce2_invente.write.option(\"header\",True).mode('overwrite').format(\"csv\").save(\"Nombre_Intermedio_cruce2_invente/csv\")\n",
    "\n"
   ]
  },
  {
   "cell_type": "code",
   "execution_count": null,
   "id": "6f906a68",
   "metadata": {},
   "outputs": [],
   "source": [
    "#Nombre_Intermedio_cruce2_invente.write.mode('overwrite').format(\"paequet\").save(\"Nombre_Intermedio_cruce2_invente/parquet\")\n",
    "\n"
   ]
  },
  {
   "cell_type": "markdown",
   "id": "4af09438",
   "metadata": {},
   "source": [
    "# Nombre_Intermedio_proceso_dir3_entidades"
   ]
  },
  {
   "cell_type": "code",
   "execution_count": 183,
   "id": "55d5ea15",
   "metadata": {},
   "outputs": [],
   "source": [
    "Nombre_Input_dir3 = spark.read.csv(\"DIR3_concatenado_AGE_CCAA_EELL_Universidades.csv\", sep=\";\", header=True).drop(\"Unnamed: 0\")\n",
    "Nombre_Input_dir3 = Nombre_Input_dir3.withColumn(\"C_DNM_UD_ORGANICA_Norm\", UDF_normalizarTexto(Nombre_Input_dir3.C_DNM_UD_ORGANICA))\n"
   ]
  },
  {
   "cell_type": "code",
   "execution_count": 184,
   "id": "bd849632",
   "metadata": {},
   "outputs": [
    {
     "name": "stderr",
     "output_type": "stream",
     "text": [
      "100%|████████████████████████████████████| 68001/68001 [01:13<00:00, 928.82it/s]\n",
      "100%|█████████████████████████████████| 112793/112793 [01:13<00:00, 1538.42it/s]\n"
     ]
    },
    {
     "name": "stdout",
     "output_type": "stream",
     "text": [
      "22/07/31 14:28:33 WARN StopWordsRemover: Default locale set was [en_MX]; however, it was not found in available locales in JVM, falling back to en_US locale. Set param `locale` in order to respect another locale.\n",
      "22/07/31 14:28:33 WARN StopWordsRemover: Default locale set was [en_MX]; however, it was not found in available locales in JVM, falling back to en_US locale. Set param `locale` in order to respect another locale.\n"
     ]
    }
   ],
   "source": [
    "l = get_matching_entities_by_elasticSearch(\n",
    "                                        Nombre_Intermedio_cruce2_invente, \n",
    "                                        \"Entidad_Norm\", \n",
    "                                        [\"Entidad_Norm\"],\n",
    "                                        Nombre_Input_dir3, \n",
    "                                        \"C_DNM_UD_ORGANICA_Norm\",\n",
    "                                        Nombre_Input_dir3.columns,\n",
    "                                        'index_name',\n",
    "                                        10)\n",
    "\n",
    "l = get_matching_by_elasticSearch_Distance_ratcliff_obershelp(spark,l).filter(\"final_score >= 0.875\")\\\n",
    "                               .dropDuplicates(subset = ['Entidad_Norm', \"C_DNM_UD_ORGANICA_Norm\"])\n",
    "                                                                    "
   ]
  },
  {
   "cell_type": "code",
   "execution_count": 254,
   "id": "0148cdeb",
   "metadata": {},
   "outputs": [],
   "source": [
    "unique = l.selectExpr(\n",
    "              '*', \n",
    "              'count(*) over (partition by Entidad_Norm) as cnt'\n",
    "            ).filter(F.col('cnt') == 1).drop('cnt')\n",
    "\n"
   ]
  },
  {
   "cell_type": "code",
   "execution_count": 255,
   "id": "656ef22f",
   "metadata": {},
   "outputs": [],
   "source": [
    "duplicated = l.join(l.groupBy('Entidad_Norm')\\\n",
    "                  .count().where('count = 1').drop('count'),\n",
    "                on=['Entidad_Norm'],\n",
    "                how='left_anti')"
   ]
  },
  {
   "cell_type": "code",
   "execution_count": 256,
   "id": "b770256b",
   "metadata": {},
   "outputs": [],
   "source": [
    "duplicated1 = duplicated.selectExpr(\n",
    "              '*', \n",
    "              'count(*) over (partition by Entidad_Norm, N_NIVEL_JERARQUICO) as cnt'\n",
    "            ).filter(F.col('cnt') == 1).drop('cnt')\n",
    "\n",
    "duplicated1 = duplicated1.sort(duplicated1.N_NIVEL_JERARQUICO.asc())\\\n",
    "                            .dropDuplicates(subset = ['Entidad_Norm'])"
   ]
  },
  {
   "cell_type": "code",
   "execution_count": 257,
   "id": "71d09255",
   "metadata": {},
   "outputs": [],
   "source": [
    "duplicated2 = l.join(l.groupBy('Entidad_Norm', 'N_NIVEL_JERARQUICO')\\\n",
    "                  .count().where('count = 1').drop('count'),\n",
    "                on=['Entidad_Norm','N_NIVEL_JERARQUICO'],\n",
    "                how='left_anti')\n",
    "\n",
    "\n",
    "duplicated2 = duplicated2.withColumn(\"Similitud\", \n",
    "                           udf_Distance_ratcliff_obershelp(\n",
    "                               UDF_normalizarTexto(duplicated2.C_DNM_UD_ORGANICA_SUPERIOR),\n",
    "                               duplicated2.Entidad_Norm )\n",
    "                          ) \n",
    "\n",
    "\n",
    "\n",
    "duplicated2 = duplicated2.sort(duplicated2.Similitud.desc())\\\n",
    "                            .dropDuplicates(subset = ['Entidad_Norm']).drop(\"Similitud\")"
   ]
  },
  {
   "cell_type": "code",
   "execution_count": 258,
   "id": "0041dc09",
   "metadata": {},
   "outputs": [],
   "source": [
    "match = unique.union(duplicated1).union(duplicated2)\\\n",
    "               .select(['Entidad_Norm',\"final_score\"] + Nombre_Input_dir3.columns)\\\n",
    "               .withColumnRenamed(\"Entidad_Norm\",\"Entidad_Norm1\")\n"
   ]
  },
  {
   "cell_type": "code",
   "execution_count": 259,
   "id": "889af66e",
   "metadata": {},
   "outputs": [],
   "source": [
    "Nombre_Intermedio_proceso_dir3_entidades = Nombre_Intermedio_cruce2_invente\\\n",
    "                                            .drop('C_DNM_UD_ORGANICA_SUPERIOR', 'C_ID_UD_ORGANICA', 'C_ID_TIPO_ENT_PUBLICA',\n",
    "                                                  'C_DESC_PROV', 'C_ID_DEP_EDP_PRINCIPAL', 'C_ID_ESTADO', 'D_VIG_ALTA_OFICIAL', \n",
    "                                                  'CONTACTOS', 'NIF_CIF', 'C_ID_NIVEL_ADMON', 'C_DNM_UD_ORGANICA_EDP_PRINCIPAL', \n",
    "                                                  'C_ID_DEP_UD_PRINCIPAL', 'N_NIVEL_JERARQUICO', 'C_DNM_UD_ORGANICA', \n",
    "                                                  'C_DNM_UD_ORGANICA_PRINCIPAL', 'B_SW_DEP_EDP_PRINCIPAL', 'C_ID_AMB_PROVINCIA',\n",
    "                                                  'C_ID_DEP_UD_SUPERIOR')\n"
   ]
  },
  {
   "cell_type": "code",
   "execution_count": 260,
   "id": "d7775ffc",
   "metadata": {},
   "outputs": [],
   "source": [
    "Nombre_Intermedio_proceso_dir3_entidades = Nombre_Intermedio_proceso_dir3_entidades.join(match,\n",
    "                                      Nombre_Intermedio_proceso_dir3_entidades.Entidad_Norm ==  match.Entidad_Norm1,\"left\")     \n",
    "\n"
   ]
  },
  {
   "cell_type": "code",
   "execution_count": 261,
   "id": "deec0b86",
   "metadata": {},
   "outputs": [],
   "source": [
    "Nombre_Intermedio_proceso_dir3_entidades1 = Nombre_Intermedio_proceso_dir3_entidades.filter(\"final_score is not NULL\").drop(\"Entidad_Norm\")\n",
    "\n",
    "Nombre_Intermedio_proceso_dir3_entidades2 = Nombre_Intermedio_proceso_dir3_entidades.filter(\"final_score is  NULL\").drop(\"Entidad_Norm1\")\n",
    "\n",
    "Nombre_Intermedio_proceso_dir3_entidades2 = Nombre_Intermedio_proceso_dir3_entidades2\\\n",
    "                                                .withColumn(\"Similitud_Dir3\",lit(None).cast(FloatType()))"
   ]
  },
  {
   "cell_type": "code",
   "execution_count": 262,
   "id": "6f9ba327",
   "metadata": {},
   "outputs": [],
   "source": [
    "Nombre_Intermedio_proceso_dir3_entidades1 = Nombre_Intermedio_proceso_dir3_entidades1\\\n",
    "                                .withColumn(\"Entidad_Norm\", col(\"C_DNM_UD_ORGANICA\"))\\\n",
    "                                .withColumn(\"Provincia_Entidad\", col(\"C_DESC_PROV\"))\\\n",
    "                                .withColumn(\"CIF\", col(\"NIF_CIF\"))\\\n",
    "                                .withColumn(\"Similitud_Dir3\", col(\"final_score\"))\\\n",
    "                                .drop(\"Entidad_Norm1\")\n",
    "\n",
    "\n"
   ]
  },
  {
   "cell_type": "code",
   "execution_count": 263,
   "id": "77b1e2fe",
   "metadata": {},
   "outputs": [],
   "source": [
    "Nombre_Intermedio_proceso_dir3_entidades = Nombre_Intermedio_proceso_dir3_entidades1\\\n",
    "                                            .union(Nombre_Intermedio_proceso_dir3_entidades2)\n",
    "\n",
    "\n",
    "\n",
    "\n"
   ]
  },
  {
   "cell_type": "code",
   "execution_count": null,
   "id": "b96dbeaf",
   "metadata": {},
   "outputs": [],
   "source": []
  },
  {
   "cell_type": "code",
   "execution_count": null,
   "id": "dce87732",
   "metadata": {},
   "outputs": [],
   "source": []
  },
  {
   "cell_type": "code",
   "execution_count": null,
   "id": "2c6fa5fa",
   "metadata": {},
   "outputs": [],
   "source": []
  },
  {
   "cell_type": "code",
   "execution_count": null,
   "id": "e52a54c4",
   "metadata": {},
   "outputs": [],
   "source": []
  },
  {
   "cell_type": "code",
   "execution_count": null,
   "id": "77a7b7b6",
   "metadata": {},
   "outputs": [],
   "source": []
  },
  {
   "cell_type": "code",
   "execution_count": null,
   "id": "c7410c9e",
   "metadata": {},
   "outputs": [],
   "source": []
  },
  {
   "cell_type": "code",
   "execution_count": null,
   "id": "60b1a84b",
   "metadata": {},
   "outputs": [],
   "source": []
  },
  {
   "cell_type": "code",
   "execution_count": null,
   "id": "aac8baf4",
   "metadata": {},
   "outputs": [],
   "source": []
  },
  {
   "cell_type": "code",
   "execution_count": null,
   "id": "fa75fd84",
   "metadata": {},
   "outputs": [],
   "source": []
  },
  {
   "cell_type": "code",
   "execution_count": null,
   "id": "fe90f2cb",
   "metadata": {},
   "outputs": [],
   "source": []
  },
  {
   "cell_type": "code",
   "execution_count": null,
   "id": "7a66f4c4",
   "metadata": {},
   "outputs": [],
   "source": []
  },
  {
   "cell_type": "code",
   "execution_count": null,
   "id": "908bd657",
   "metadata": {},
   "outputs": [],
   "source": []
  },
  {
   "cell_type": "code",
   "execution_count": null,
   "id": "0c1802a1",
   "metadata": {},
   "outputs": [],
   "source": []
  },
  {
   "cell_type": "code",
   "execution_count": null,
   "id": "d700d2bf",
   "metadata": {},
   "outputs": [],
   "source": []
  },
  {
   "cell_type": "code",
   "execution_count": null,
   "id": "455d5f56",
   "metadata": {},
   "outputs": [],
   "source": []
  },
  {
   "cell_type": "code",
   "execution_count": null,
   "id": "db2bc937",
   "metadata": {},
   "outputs": [],
   "source": []
  },
  {
   "cell_type": "code",
   "execution_count": null,
   "id": "b7f486f8",
   "metadata": {},
   "outputs": [],
   "source": []
  },
  {
   "cell_type": "code",
   "execution_count": null,
   "id": "fd77a2fb",
   "metadata": {},
   "outputs": [],
   "source": []
  },
  {
   "cell_type": "code",
   "execution_count": null,
   "id": "5f58de0a",
   "metadata": {},
   "outputs": [],
   "source": []
  },
  {
   "cell_type": "code",
   "execution_count": null,
   "id": "5810764a",
   "metadata": {},
   "outputs": [],
   "source": []
  },
  {
   "cell_type": "code",
   "execution_count": null,
   "id": "631ae591",
   "metadata": {},
   "outputs": [],
   "source": []
  },
  {
   "cell_type": "code",
   "execution_count": null,
   "id": "adf54983",
   "metadata": {},
   "outputs": [],
   "source": []
  },
  {
   "cell_type": "code",
   "execution_count": null,
   "id": "8be84493",
   "metadata": {},
   "outputs": [],
   "source": []
  },
  {
   "cell_type": "code",
   "execution_count": 232,
   "id": "b2f6575c",
   "metadata": {},
   "outputs": [
    {
     "data": {
      "text/plain": [
       "set()"
      ]
     },
     "execution_count": 232,
     "metadata": {},
     "output_type": "execute_result"
    }
   ],
   "source": [
    "lista1 = set(Nombre_Intermedio_proceso_dir3_entidades1.columns)\n",
    "\n",
    "lista2 = set(Nombre_Intermedio_proceso_dir3_entidades2.columns)\n",
    "\n",
    "difference_1 = set(lista1).difference(set(lista2))\n",
    "\n",
    "difference_1"
   ]
  },
  {
   "cell_type": "code",
   "execution_count": 253,
   "id": "e6d6e892",
   "metadata": {},
   "outputs": [
    {
     "data": {
      "text/plain": [
       "Id                                 1\n",
       "C_DNM_UD_ORGANICA_SUPERIOR         1\n",
       "List_Provincia_Entidad             1\n",
       "List_CIF                           1\n",
       "Similitud_invente                  1\n",
       "Entidad_Norm1                      1\n",
       "final_score                        1\n",
       "C_ID_UD_ORGANICA                   1\n",
       "C_DNM_UD_ORGANICA                  1\n",
       "C_ID_NIVEL_ADMON                   1\n",
       "C_ID_TIPO_ENT_PUBLICA              1\n",
       "N_NIVEL_JERARQUICO                 1\n",
       "C_ID_DEP_UD_SUPERIOR               1\n",
       "C_ID_DEP_UD_PRINCIPAL              1\n",
       "Provincia_Codigo                   1\n",
       "C_DNM_UD_ORGANICA_PRINCIPAL        1\n",
       "B_SW_DEP_EDP_PRINCIPAL             1\n",
       "C_ID_DEP_EDP_PRINCIPAL             1\n",
       "C_DNM_UD_ORGANICA_EDP_PRINCIPAL    1\n",
       "C_ID_ESTADO                        1\n",
       "D_VIG_ALTA_OFICIAL                 1\n",
       "NIF_CIF                            1\n",
       "C_ID_AMB_PROVINCIA                 1\n",
       "C_DESC_PROV                        1\n",
       "CONTACTOS                          1\n",
       "C_DNM_UD_ORGANICA_Norm             1\n",
       "List_Entidad_Norm                  1\n",
       "codigoOrigen                       1\n",
       "CIF                                1\n",
       "COD_PROVINCIA                      1\n",
       "Entidad_Norm                       1\n",
       "Provincia_Entidad                  1\n",
       "ID_ENTIDAD                         1\n",
       "NIF_COD                            1\n",
       "ACRONIMO                           1\n",
       "NOMBRE_ENTIDAD                     1\n",
       "Nombre_Entidad_Mostrar             1\n",
       "TIPO_ENTIDAD_N1_1                  1\n",
       "TIPO_ENTIDAD_N2_1                  1\n",
       "DIRECCION_POSTAL                   1\n",
       "COD_POSTAL                         1\n",
       "PROVINCIA                          1\n",
       "codigoDir3                         1\n",
       "COD_CCAA                           1\n",
       "CCAA                               1\n",
       "ENLACE_WEB                         1\n",
       "SOMMA                              1\n",
       "TIPO_ENTIDAD_REGIONAL              1\n",
       "ESTADO_x                           1\n",
       "CodigoInvente                      1\n",
       "DenominacionSocial                 1\n",
       "FormaJuridica_Codigo               1\n",
       "FormaJuridica_Descripcion          1\n",
       "NIF                                1\n",
       "Similitud_Dir3                     1\n",
       "Name: 0, dtype: int64"
      ]
     },
     "execution_count": 253,
     "metadata": {},
     "output_type": "execute_result"
    }
   ],
   "source": [
    "k = Nombre_Intermedio_proceso_dir3_entidades2.columns\n",
    "\n",
    "pd.DataFrame(k)[0].value_counts()"
   ]
  },
  {
   "cell_type": "code",
   "execution_count": null,
   "id": "7046901d",
   "metadata": {},
   "outputs": [],
   "source": [
    "             \\"
   ]
  },
  {
   "cell_type": "code",
   "execution_count": null,
   "id": "369b093d",
   "metadata": {},
   "outputs": [],
   "source": []
  },
  {
   "cell_type": "code",
   "execution_count": null,
   "id": "9e20edc2",
   "metadata": {},
   "outputs": [],
   "source": []
  },
  {
   "cell_type": "code",
   "execution_count": 208,
   "id": "c6c5de17",
   "metadata": {},
   "outputs": [
    {
     "name": "stdout",
     "output_type": "stream",
     "text": [
      "root\n",
      " |-- Id: integer (nullable = true)\n",
      " |-- CIF: string (nullable = true)\n",
      " |-- Provincia_Entidad: string (nullable = true)\n",
      " |-- ID_ENTIDAD: string (nullable = true)\n",
      " |-- NIF_COD: string (nullable = true)\n",
      " |-- ACRONIMO: string (nullable = true)\n",
      " |-- NOMBRE_ENTIDAD: string (nullable = true)\n",
      " |-- Nombre_Entidad_Mostrar: string (nullable = true)\n",
      " |-- TIPO_ENTIDAD_N1_1: string (nullable = true)\n",
      " |-- TIPO_ENTIDAD_N2_1: string (nullable = true)\n",
      " |-- DIRECCION_POSTAL: string (nullable = true)\n",
      " |-- COD_POSTAL: string (nullable = true)\n",
      " |-- COD_PROVINCIA: string (nullable = true)\n",
      " |-- PROVINCIA: string (nullable = true)\n",
      " |-- COD_CCAA: string (nullable = true)\n",
      " |-- CCAA: string (nullable = true)\n",
      " |-- ENLACE_WEB: string (nullable = true)\n",
      " |-- SOMMA: string (nullable = true)\n",
      " |-- TIPO_ENTIDAD_REGIONAL: string (nullable = true)\n",
      " |-- ESTADO_x: string (nullable = true)\n",
      " |-- CodigoInvente: string (nullable = true)\n",
      " |-- DenominacionSocial: string (nullable = true)\n",
      " |-- FormaJuridica_Codigo: string (nullable = true)\n",
      " |-- FormaJuridica_Descripcion: string (nullable = true)\n",
      " |-- NIF: string (nullable = true)\n",
      " |-- codigoDir3: string (nullable = true)\n",
      " |-- codigoOrigen: string (nullable = true)\n",
      " |-- Provincia_Codigo: string (nullable = true)\n",
      " |-- List_Entidad_Norm: string (nullable = true)\n",
      " |-- List_Provincia_Entidad: string (nullable = true)\n",
      " |-- List_CIF: string (nullable = true)\n",
      " |-- Similitud_invente: string (nullable = true)\n",
      " |-- final_score: float (nullable = true)\n",
      " |-- C_ID_UD_ORGANICA: string (nullable = true)\n",
      " |-- C_DNM_UD_ORGANICA: string (nullable = true)\n",
      " |-- C_ID_NIVEL_ADMON: string (nullable = true)\n",
      " |-- C_ID_TIPO_ENT_PUBLICA: string (nullable = true)\n",
      " |-- N_NIVEL_JERARQUICO: string (nullable = true)\n",
      " |-- C_ID_DEP_UD_SUPERIOR: string (nullable = true)\n",
      " |-- C_DNM_UD_ORGANICA_SUPERIOR: string (nullable = true)\n",
      " |-- C_ID_DEP_UD_PRINCIPAL: string (nullable = true)\n",
      " |-- C_DNM_UD_ORGANICA_PRINCIPAL: string (nullable = true)\n",
      " |-- B_SW_DEP_EDP_PRINCIPAL: string (nullable = true)\n",
      " |-- C_ID_DEP_EDP_PRINCIPAL: string (nullable = true)\n",
      " |-- C_DNM_UD_ORGANICA_EDP_PRINCIPAL: string (nullable = true)\n",
      " |-- C_ID_ESTADO: string (nullable = true)\n",
      " |-- D_VIG_ALTA_OFICIAL: string (nullable = true)\n",
      " |-- NIF_CIF: string (nullable = true)\n",
      " |-- C_ID_AMB_PROVINCIA: string (nullable = true)\n",
      " |-- C_DESC_PROV: string (nullable = true)\n",
      " |-- CONTACTOS: string (nullable = true)\n",
      " |-- C_DNM_UD_ORGANICA_Norm: string (nullable = true)\n",
      "\n"
     ]
    }
   ],
   "source": [
    "Nombre_Intermedio_proceso_dir3_entidades1.printSchema()"
   ]
  },
  {
   "cell_type": "code",
   "execution_count": null,
   "id": "8f595ad7",
   "metadata": {},
   "outputs": [],
   "source": []
  },
  {
   "cell_type": "code",
   "execution_count": null,
   "id": "a4614387",
   "metadata": {},
   "outputs": [],
   "source": []
  },
  {
   "cell_type": "code",
   "execution_count": 206,
   "id": "efb3bedc",
   "metadata": {},
   "outputs": [
    {
     "ename": "AnalysisException",
     "evalue": "Union can only be performed on tables with the same number of columns, but the first table has 52 columns and the second table has 55 columns;\n'Union false, false\n:- Project [Id#10956, CIF#14393, Provincia_Entidad#14341, ID_ENTIDAD#7148, NIF_COD#7206, ACRONIMO#7265, NOMBRE_ENTIDAD#7325, Nombre_Entidad_Mostrar#7386, TIPO_ENTIDAD_N1_1#7448, TIPO_ENTIDAD_N2_1#7511, DIRECCION_POSTAL#7575, COD_POSTAL#7640, COD_PROVINCIA#7706, PROVINCIA#7773, COD_CCAA#7841, CCAA#7910, ENLACE_WEB#7980, SOMMA#8051, TIPO_ENTIDAD_REGIONAL#8123, ESTADO_x#8196, CodigoInvente#13918, DenominacionSocial#13915, FormaJuridica_Codigo#13919, FormaJuridica_Descripcion#13920, ... 28 more fields]\n:  +- Filter isnotnull(final_score#32306)\n:     +- Join LeftOuter, (Entidad_Norm#14290 = Entidad_Norm#32048)\n:        :- Project [Id#10956, CIF#14393, Entidad_Norm#14290, Provincia_Entidad#14341, ID_ENTIDAD#7148, NIF_COD#7206, ACRONIMO#7265, NOMBRE_ENTIDAD#7325, Nombre_Entidad_Mostrar#7386, TIPO_ENTIDAD_N1_1#7448, TIPO_ENTIDAD_N2_1#7511, DIRECCION_POSTAL#7575, COD_POSTAL#7640, COD_PROVINCIA#7706, PROVINCIA#7773, COD_CCAA#7841, CCAA#7910, ENLACE_WEB#7980, SOMMA#8051, TIPO_ENTIDAD_REGIONAL#8123, ESTADO_x#8196, CodigoInvente#13918, DenominacionSocial#13915, FormaJuridica_Codigo#13919, ... 9 more fields]\n:        :  +- Union false, false\n:        :     :- Project [Id#10956, NIF#13917 AS CIF#14393, DenominacionSocial_Norm#13923 AS Entidad_Norm#14290, Provincia_Codigo#13916 AS Provincia_Entidad#14341, ID_ENTIDAD#7148, NIF_COD#7206, ACRONIMO#7265, NOMBRE_ENTIDAD#7325, Nombre_Entidad_Mostrar#7386, TIPO_ENTIDAD_N1_1#7448, TIPO_ENTIDAD_N2_1#7511, DIRECCION_POSTAL#7575, COD_POSTAL#7640, COD_PROVINCIA#7706, PROVINCIA#7773, COD_CCAA#7841, CCAA#7910, ENLACE_WEB#7980, SOMMA#8051, TIPO_ENTIDAD_REGIONAL#8123, ESTADO_x#8196, CodigoInvente#13918, DenominacionSocial#13915, FormaJuridica_Codigo#13919, ... 27 more fields]\n:        :     :  +- Filter isnotnull(final_score#14072)\n:        :     :     +- Join LeftOuter, (Entidad_Norm#7034 = Entidad_Norm#13914)\n:        :     :        :- Project [Id#10956, Entidad_Norm#7034, ID_ENTIDAD#7148, NIF_COD#7206, ACRONIMO#7265, NOMBRE_ENTIDAD#7325, Nombre_Entidad_Mostrar#7386, TIPO_ENTIDAD_N1_1#7448, TIPO_ENTIDAD_N2_1#7511, DIRECCION_POSTAL#7575, COD_POSTAL#7640, COD_PROVINCIA#7706, PROVINCIA#7773, COD_CCAA#7841, CCAA#7910, ENLACE_WEB#7980, SOMMA#8051, TIPO_ENTIDAD_REGIONAL#8123, ESTADO_x#8196, C_ID_UD_ORGANICA#8898, C_DNM_UD_ORGANICA#8981, C_ID_NIVEL_ADMON#9065, C_ID_TIPO_ENT_PUBLICA#9150, N_NIVEL_JERARQUICO#9236, ... 16 more fields]\n:        :     :        :  +- Project [Id#10956, CIF#6977, Entidad_Norm#7034, Provincia_Entidad#7091, ID_ENTIDAD#7148, NIF_COD#7206, ACRONIMO#7265, NOMBRE_ENTIDAD#7325, Nombre_Entidad_Mostrar#7386, TIPO_ENTIDAD_N1_1#7448, TIPO_ENTIDAD_N2_1#7511, DIRECCION_POSTAL#7575, COD_POSTAL#7640, COD_PROVINCIA#7706, PROVINCIA#7773, COD_CCAA#7841, CCAA#7910, ENLACE_WEB#7980, SOMMA#8051, TIPO_ENTIDAD_REGIONAL#8123, ESTADO_x#8196, CodigoInvente#8270, DenominacionSocial#8345, FormaJuridica_Codigo#8421, ... 26 more fields]\n:        :     :        :     +- Project [IdOld#10851, Entidad#6717, Origen_Solicitud#6718, Identificadores_Origen#6719, Entidad_Norm#7034, CIF#6977, CIF_validacion#6722, Centro#6723, Centro_Norm#6724, Tipo#6725, Provincia_Entidad#7091, Pais_Entidad#6727, Provincia_Centro#6728, PIC#6729, Tipo_Persona#6730, Entidad_Match#6731, Provincia_Match#6732, Match#6733, Id_NIVEL_1#6625, Id_NIVEL_0#6626, ID_ENTIDAD_NIVEL_0#6627, ID_ENTIDAD_NIVEL_1#6628, Jerarquia#6629, NIF_COD_NIVEL_0#6630, ... 79 more fields]\n:        :     :        :        +- Project [coalesce(Dummy#11070, Dummy#10962) AS Dummy#11174, IdOld#10851, Entidad#6717, Origen_Solicitud#6718, Identificadores_Origen#6719, Entidad_Norm#7034, CIF#6977, CIF_validacion#6722, Centro#6723, Centro_Norm#6724, Tipo#6725, Provincia_Entidad#7091, Pais_Entidad#6727, Provincia_Centro#6728, PIC#6729, Tipo_Persona#6730, Entidad_Match#6731, Provincia_Match#6732, Match#6733, Id_NIVEL_1#6625, Id_NIVEL_0#6626, ID_ENTIDAD_NIVEL_0#6627, ID_ENTIDAD_NIVEL_1#6628, Jerarquia#6629, ... 80 more fields]\n:        :     :        :           +- Join FullOuter, (Dummy#11070 = Dummy#10962)\n:        :     :        :              :- Project [IdOld#10851, Entidad#6717, Origen_Solicitud#6718, Identificadores_Origen#6719, Entidad_Norm#7034, CIF#6977, CIF_validacion#6722, Centro#6723, Centro_Norm#6724, Tipo#6725, Provincia_Entidad#7091, Pais_Entidad#6727, Provincia_Centro#6728, PIC#6729, Tipo_Persona#6730, Entidad_Match#6731, Provincia_Match#6732, Match#6733, Id_NIVEL_1#6625, Id_NIVEL_0#6626, ID_ENTIDAD_NIVEL_0#6627, ID_ENTIDAD_NIVEL_1#6628, Jerarquia#6629, NIF_COD_NIVEL_0#6630, ... 79 more fields]\n:        :     :        :              :  +- Project [IdOld#10851, Entidad#6717, Origen_Solicitud#6718, Identificadores_Origen#6719, Entidad_Norm#7034, CIF#6977, CIF_validacion#6722, Centro#6723, Centro_Norm#6724, Tipo#6725, Provincia_Entidad#7091, Pais_Entidad#6727, Provincia_Centro#6728, PIC#6729, Tipo_Persona#6730, Entidad_Match#6731, Provincia_Match#6732, Match#6733, Id_NIVEL_1#6625, Id_NIVEL_0#6626, ID_ENTIDAD_NIVEL_0#6627, ID_ENTIDAD_NIVEL_1#6628, Jerarquia#6629, NIF_COD_NIVEL_0#6630, ... 81 more fields]\n:        :     :        :              :     +- Window [row_number() windowspecdefinition(Dummy#10965L ASC NULLS FIRST, specifiedwindowframe(RowFrame, unboundedpreceding$(), currentrow$())) AS Dummy#11070], [Dummy#10965L ASC NULLS FIRST]\n:        :     :        :              :        +- Project [IdOld#10851, Entidad#6717, Origen_Solicitud#6718, Identificadores_Origen#6719, Entidad_Norm#7034, CIF#6977, CIF_validacion#6722, Centro#6723, Centro_Norm#6724, Tipo#6725, Provincia_Entidad#7091, Pais_Entidad#6727, Provincia_Centro#6728, PIC#6729, Tipo_Persona#6730, Entidad_Match#6731, Provincia_Match#6732, Match#6733, Id_NIVEL_1#6625, Id_NIVEL_0#6626, ID_ENTIDAD_NIVEL_0#6627, ID_ENTIDAD_NIVEL_1#6628, Jerarquia#6629, NIF_COD_NIVEL_0#6630, ... 79 more fields]\n:        :     :        :              :           +- Project [IdOld#10851, Entidad#6717, Origen_Solicitud#6718, Identificadores_Origen#6719, Entidad_Norm#7034, CIF#6977, CIF_validacion#6722, Centro#6723, Centro_Norm#6724, Tipo#6725, Provincia_Entidad#7091, Pais_Entidad#6727, Provincia_Centro#6728, PIC#6729, Tipo_Persona#6730, Entidad_Match#6731, Provincia_Match#6732, Match#6733, Id_NIVEL_1#6625, Id_NIVEL_0#6626, ID_ENTIDAD_NIVEL_0#6627, ID_ENTIDAD_NIVEL_1#6628, Jerarquia#6629, NIF_COD_NIVEL_0#6630, ... 79 more fields]\n:        :     :        :              :              +- Project [Id#6716 AS IdOld#10851, Entidad#6717, Origen_Solicitud#6718, Identificadores_Origen#6719, Entidad_Norm#7034, CIF#6977, CIF_validacion#6722, Centro#6723, Centro_Norm#6724, Tipo#6725, Provincia_Entidad#7091, Pais_Entidad#6727, Provincia_Centro#6728, PIC#6729, Tipo_Persona#6730, Entidad_Match#6731, Provincia_Match#6732, Match#6733, Id_NIVEL_1#6625, Id_NIVEL_0#6626, ID_ENTIDAD_NIVEL_0#6627, ID_ENTIDAD_NIVEL_1#6628, Jerarquia#6629, NIF_COD_NIVEL_0#6630, ... 78 more fields]\n:        :     :        :              :                 +- Project [Id#6716, Entidad#6717, Origen_Solicitud#6718, Identificadores_Origen#6719, Entidad_Norm#7034, CIF#6977, CIF_validacion#6722, Centro#6723, Centro_Norm#6724, Tipo#6725, Provincia_Entidad#7091, Pais_Entidad#6727, Provincia_Centro#6728, PIC#6729, Tipo_Persona#6730, Entidad_Match#6731, Provincia_Match#6732, Match#6733, Id_NIVEL_1#6625, Id_NIVEL_0#6626, ID_ENTIDAD_NIVEL_0#6627, ID_ENTIDAD_NIVEL_1#6628, Jerarquia#6629, NIF_COD_NIVEL_0#6630, ... 78 more fields]\n:        :     :        :              :                    +- Project [Id#6716, Entidad#6717, Origen_Solicitud#6718, Identificadores_Origen#6719, Entidad_Norm#7034, CIF#6977, CIF_validacion#6722, Centro#6723, Centro_Norm#6724, Tipo#6725, Provincia_Entidad#7091, Pais_Entidad#6727, Provincia_Centro#6728, PIC#6729, Tipo_Persona#6730, Entidad_Match#6731, Provincia_Match#6732, Match#6733, Id_NIVEL_1#6625, Id_NIVEL_0#6626, ID_ENTIDAD_NIVEL_0#6627, ID_ENTIDAD_NIVEL_1#6628, Jerarquia#6629, NIF_COD_NIVEL_0#6630, ... 77 more fields]\n:        :     :        :              :                       +- Project [Id#6716, Entidad#6717, Origen_Solicitud#6718, Identificadores_Origen#6719, Entidad_Norm#7034, CIF#6977, CIF_validacion#6722, Centro#6723, Centro_Norm#6724, Tipo#6725, Provincia_Entidad#7091, Pais_Entidad#6727, Provincia_Centro#6728, PIC#6729, Tipo_Persona#6730, Entidad_Match#6731, Provincia_Match#6732, Match#6733, Id_NIVEL_1#6625, Id_NIVEL_0#6626, ID_ENTIDAD_NIVEL_0#6627, ID_ENTIDAD_NIVEL_1#6628, Jerarquia#6629, NIF_COD_NIVEL_0#6630, ... 76 more fields]\n:        :     :        :              :                          +- Project [Id#6716, Entidad#6717, Origen_Solicitud#6718, Identificadores_Origen#6719, Entidad_Norm#7034, CIF#6977, CIF_validacion#6722, Centro#6723, Centro_Norm#6724, Tipo#6725, Provincia_Entidad#7091, Pais_Entidad#6727, Provincia_Centro#6728, PIC#6729, Tipo_Persona#6730, Entidad_Match#6731, Provincia_Match#6732, Match#6733, Id_NIVEL_1#6625, Id_NIVEL_0#6626, ID_ENTIDAD_NIVEL_0#6627, ID_ENTIDAD_NIVEL_1#6628, Jerarquia#6629, NIF_COD_NIVEL_0#6630, ... 75 more fields]\n:        :     :        :              :                             +- Project [Id#6716, Entidad#6717, Origen_Solicitud#6718, Identificadores_Origen#6719, Entidad_Norm#7034, CIF#6977, CIF_validacion#6722, Centro#6723, Centro_Norm#6724, Tipo#6725, Provincia_Entidad#7091, Pais_Entidad#6727, Provincia_Centro#6728, PIC#6729, Tipo_Persona#6730, Entidad_Match#6731, Provincia_Match#6732, Match#6733, Id_NIVEL_1#6625, Id_NIVEL_0#6626, ID_ENTIDAD_NIVEL_0#6627, ID_ENTIDAD_NIVEL_1#6628, Jerarquia#6629, NIF_COD_NIVEL_0#6630, ... 74 more fields]\n:        :     :        :              :                                +- Project [Id#6716, Entidad#6717, Origen_Solicitud#6718, Identificadores_Origen#6719, Entidad_Norm#7034, CIF#6977, CIF_validacion#6722, Centro#6723, Centro_Norm#6724, Tipo#6725, Provincia_Entidad#7091, Pais_Entidad#6727, Provincia_Centro#6728, PIC#6729, Tipo_Persona#6730, Entidad_Match#6731, Provincia_Match#6732, Match#6733, Id_NIVEL_1#6625, Id_NIVEL_0#6626, ID_ENTIDAD_NIVEL_0#6627, ID_ENTIDAD_NIVEL_1#6628, Jerarquia#6629, NIF_COD_NIVEL_0#6630, ... 73 more fields]\n:        :     :        :              :                                   +- Project [Id#6716, Entidad#6717, Origen_Solicitud#6718, Identificadores_Origen#6719, Entidad_Norm#7034, CIF#6977, CIF_validacion#6722, Centro#6723, Centro_Norm#6724, Tipo#6725, Provincia_Entidad#7091, Pais_Entidad#6727, Provincia_Centro#6728, PIC#6729, Tipo_Persona#6730, Entidad_Match#6731, Provincia_Match#6732, Match#6733, Id_NIVEL_1#6625, Id_NIVEL_0#6626, ID_ENTIDAD_NIVEL_0#6627, ID_ENTIDAD_NIVEL_1#6628, Jerarquia#6629, NIF_COD_NIVEL_0#6630, ... 72 more fields]\n:        :     :        :              :                                      +- Project [Id#6716, Entidad#6717, Origen_Solicitud#6718, Identificadores_Origen#6719, Entidad_Norm#7034, CIF#6977, CIF_validacion#6722, Centro#6723, Centro_Norm#6724, Tipo#6725, Provincia_Entidad#7091, Pais_Entidad#6727, Provincia_Centro#6728, PIC#6729, Tipo_Persona#6730, Entidad_Match#6731, Provincia_Match#6732, Match#6733, Id_NIVEL_1#6625, Id_NIVEL_0#6626, ID_ENTIDAD_NIVEL_0#6627, ID_ENTIDAD_NIVEL_1#6628, Jerarquia#6629, NIF_COD_NIVEL_0#6630, ... 71 more fields]\n:        :     :        :              :                                         +- Project [Id#6716, Entidad#6717, Origen_Solicitud#6718, Identificadores_Origen#6719, Entidad_Norm#7034, CIF#6977, CIF_validacion#6722, Centro#6723, Centro_Norm#6724, Tipo#6725, Provincia_Entidad#7091, Pais_Entidad#6727, Provincia_Centro#6728, PIC#6729, Tipo_Persona#6730, Entidad_Match#6731, Provincia_Match#6732, Match#6733, Id_NIVEL_1#6625, Id_NIVEL_0#6626, ID_ENTIDAD_NIVEL_0#6627, ID_ENTIDAD_NIVEL_1#6628, Jerarquia#6629, NIF_COD_NIVEL_0#6630, ... 70 more fields]\n:        :     :        :              :                                            +- Project [Id#6716, Entidad#6717, Origen_Solicitud#6718, Identificadores_Origen#6719, Entidad_Norm#7034, CIF#6977, CIF_validacion#6722, Centro#6723, Centro_Norm#6724, Tipo#6725, Provincia_Entidad#7091, Pais_Entidad#6727, Provincia_Centro#6728, PIC#6729, Tipo_Persona#6730, Entidad_Match#6731, Provincia_Match#6732, Match#6733, Id_NIVEL_1#6625, Id_NIVEL_0#6626, ID_ENTIDAD_NIVEL_0#6627, ID_ENTIDAD_NIVEL_1#6628, Jerarquia#6629, NIF_COD_NIVEL_0#6630, ... 69 more fields]\n:        :     :        :              :                                               +- Project [Id#6716, Entidad#6717, Origen_Solicitud#6718, Identificadores_Origen#6719, Entidad_Norm#7034, CIF#6977, CIF_validacion#6722, Centro#6723, Centro_Norm#6724, Tipo#6725, Provincia_Entidad#7091, Pais_Entidad#6727, Provincia_Centro#6728, PIC#6729, Tipo_Persona#6730, Entidad_Match#6731, Provincia_Match#6732, Match#6733, Id_NIVEL_1#6625, Id_NIVEL_0#6626, ID_ENTIDAD_NIVEL_0#6627, ID_ENTIDAD_NIVEL_1#6628, Jerarquia#6629, NIF_COD_NIVEL_0#6630, ... 68 more fields]\n:        :     :        :              :                                                  +- Project [Id#6716, Entidad#6717, Origen_Solicitud#6718, Identificadores_Origen#6719, Entidad_Norm#7034, CIF#6977, CIF_validacion#6722, Centro#6723, Centro_Norm#6724, Tipo#6725, Provincia_Entidad#7091, Pais_Entidad#6727, Provincia_Centro#6728, PIC#6729, Tipo_Persona#6730, Entidad_Match#6731, Provincia_Match#6732, Match#6733, Id_NIVEL_1#6625, Id_NIVEL_0#6626, ID_ENTIDAD_NIVEL_0#6627, ID_ENTIDAD_NIVEL_1#6628, Jerarquia#6629, NIF_COD_NIVEL_0#6630, ... 67 more fields]\n:        :     :        :              :                                                     +- Project [Id#6716, Entidad#6717, Origen_Solicitud#6718, Identificadores_Origen#6719, Entidad_Norm#7034, CIF#6977, CIF_validacion#6722, Centro#6723, Centro_Norm#6724, Tipo#6725, Provincia_Entidad#7091, Pais_Entidad#6727, Provincia_Centro#6728, PIC#6729, Tipo_Persona#6730, Entidad_Match#6731, Provincia_Match#6732, Match#6733, Id_NIVEL_1#6625, Id_NIVEL_0#6626, ID_ENTIDAD_NIVEL_0#6627, ID_ENTIDAD_NIVEL_1#6628, Jerarquia#6629, NIF_COD_NIVEL_0#6630, ... 66 more fields]\n:        :     :        :              :                                                        +- Project [Id#6716, Entidad#6717, Origen_Solicitud#6718, Identificadores_Origen#6719, Entidad_Norm#7034, CIF#6977, CIF_validacion#6722, Centro#6723, Centro_Norm#6724, Tipo#6725, Provincia_Entidad#7091, Pais_Entidad#6727, Provincia_Centro#6728, PIC#6729, Tipo_Persona#6730, Entidad_Match#6731, Provincia_Match#6732, Match#6733, Id_NIVEL_1#6625, Id_NIVEL_0#6626, ID_ENTIDAD_NIVEL_0#6627, ID_ENTIDAD_NIVEL_1#6628, Jerarquia#6629, NIF_COD_NIVEL_0#6630, ... 65 more fields]\n:        :     :        :              :                                                           +- Project [Id#6716, Entidad#6717, Origen_Solicitud#6718, Identificadores_Origen#6719, Entidad_Norm#7034, CIF#6977, CIF_validacion#6722, Centro#6723, Centro_Norm#6724, Tipo#6725, Provincia_Entidad#7091, Pais_Entidad#6727, Provincia_Centro#6728, PIC#6729, Tipo_Persona#6730, Entidad_Match#6731, Provincia_Match#6732, Match#6733, Id_NIVEL_1#6625, Id_NIVEL_0#6626, ID_ENTIDAD_NIVEL_0#6627, ID_ENTIDAD_NIVEL_1#6628, Jerarquia#6629, NIF_COD_NIVEL_0#6630, ... 64 more fields]\n:        :     :        :              :                                                              +- Project [Id#6716, Entidad#6717, Origen_Solicitud#6718, Identificadores_Origen#6719, Entidad_Norm#7034, CIF#6977, CIF_validacion#6722, Centro#6723, Centro_Norm#6724, Tipo#6725, Provincia_Entidad#7091, Pais_Entidad#6727, Provincia_Centro#6728, PIC#6729, Tipo_Persona#6730, Entidad_Match#6731, Provincia_Match#6732, Match#6733, Id_NIVEL_1#6625, Id_NIVEL_0#6626, ID_ENTIDAD_NIVEL_0#6627, ID_ENTIDAD_NIVEL_1#6628, Jerarquia#6629, NIF_COD_NIVEL_0#6630, ... 63 more fields]\n:        :     :        :              :                                                                 +- Project [Id#6716, Entidad#6717, Origen_Solicitud#6718, Identificadores_Origen#6719, Entidad_Norm#7034, CIF#6977, CIF_validacion#6722, Centro#6723, Centro_Norm#6724, Tipo#6725, Provincia_Entidad#7091, Pais_Entidad#6727, Provincia_Centro#6728, PIC#6729, Tipo_Persona#6730, Entidad_Match#6731, Provincia_Match#6732, Match#6733, Id_NIVEL_1#6625, Id_NIVEL_0#6626, ID_ENTIDAD_NIVEL_0#6627, ID_ENTIDAD_NIVEL_1#6628, Jerarquia#6629, NIF_COD_NIVEL_0#6630, ... 62 more fields]\n:        :     :        :              :                                                                    +- Project [Id#6716, Entidad#6717, Origen_Solicitud#6718, Identificadores_Origen#6719, Entidad_Norm#7034, CIF#6977, CIF_validacion#6722, Centro#6723, Centro_Norm#6724, Tipo#6725, Provincia_Entidad#7091, Pais_Entidad#6727, Provincia_Centro#6728, PIC#6729, Tipo_Persona#6730, Entidad_Match#6731, Provincia_Match#6732, Match#6733, Id_NIVEL_1#6625, Id_NIVEL_0#6626, ID_ENTIDAD_NIVEL_0#6627, ID_ENTIDAD_NIVEL_1#6628, Jerarquia#6629, NIF_COD_NIVEL_0#6630, ... 61 more fields]\n:        :     :        :              :                                                                       +- Project [Id#6716, Entidad#6717, Origen_Solicitud#6718, Identificadores_Origen#6719, Entidad_Norm#7034, CIF#6977, CIF_validacion#6722, Centro#6723, Centro_Norm#6724, Tipo#6725, Provincia_Entidad#7091, Pais_Entidad#6727, Provincia_Centro#6728, PIC#6729, Tipo_Persona#6730, Entidad_Match#6731, Provincia_Match#6732, Match#6733, Id_NIVEL_1#6625, Id_NIVEL_0#6626, ID_ENTIDAD_NIVEL_0#6627, ID_ENTIDAD_NIVEL_1#6628, Jerarquia#6629, NIF_COD_NIVEL_0#6630, ... 60 more fields]\n:        :     :        :              :                                                                          +- Project [Id#6716, Entidad#6717, Origen_Solicitud#6718, Identificadores_Origen#6719, Entidad_Norm#7034, CIF#6977, CIF_validacion#6722, Centro#6723, Centro_Norm#6724, Tipo#6725, Provincia_Entidad#7091, Pais_Entidad#6727, Provincia_Centro#6728, PIC#6729, Tipo_Persona#6730, Entidad_Match#6731, Provincia_Match#6732, Match#6733, Id_NIVEL_1#6625, Id_NIVEL_0#6626, ID_ENTIDAD_NIVEL_0#6627, ID_ENTIDAD_NIVEL_1#6628, Jerarquia#6629, NIF_COD_NIVEL_0#6630, ... 59 more fields]\n:        :     :        :              :                                                                             +- Project [Id#6716, Entidad#6717, Origen_Solicitud#6718, Identificadores_Origen#6719, Entidad_Norm#7034, CIF#6977, CIF_validacion#6722, Centro#6723, Centro_Norm#6724, Tipo#6725, Provincia_Entidad#7091, Pais_Entidad#6727, Provincia_Centro#6728, PIC#6729, Tipo_Persona#6730, Entidad_Match#6731, Provincia_Match#6732, Match#6733, Id_NIVEL_1#6625, Id_NIVEL_0#6626, ID_ENTIDAD_NIVEL_0#6627, ID_ENTIDAD_NIVEL_1#6628, Jerarquia#6629, NIF_COD_NIVEL_0#6630, ... 58 more fields]\n:        :     :        :              :                                                                                +- Project [Id#6716, Entidad#6717, Origen_Solicitud#6718, Identificadores_Origen#6719, Entidad_Norm#7034, CIF#6977, CIF_validacion#6722, Centro#6723, Centro_Norm#6724, Tipo#6725, Provincia_Entidad#7091, Pais_Entidad#6727, Provincia_Centro#6728, PIC#6729, Tipo_Persona#6730, Entidad_Match#6731, Provincia_Match#6732, Match#6733, Id_NIVEL_1#6625, Id_NIVEL_0#6626, ID_ENTIDAD_NIVEL_0#6627, ID_ENTIDAD_NIVEL_1#6628, Jerarquia#6629, NIF_COD_NIVEL_0#6630, ... 57 more fields]\n:        :     :        :              :                                                                                   +- Project [Id#6716, Entidad#6717, Origen_Solicitud#6718, Identificadores_Origen#6719, Entidad_Norm#7034, CIF#6977, CIF_validacion#6722, Centro#6723, Centro_Norm#6724, Tipo#6725, Provincia_Entidad#7091, Pais_Entidad#6727, Provincia_Centro#6728, PIC#6729, Tipo_Persona#6730, Entidad_Match#6731, Provincia_Match#6732, Match#6733, Id_NIVEL_1#6625, Id_NIVEL_0#6626, ID_ENTIDAD_NIVEL_0#6627, ID_ENTIDAD_NIVEL_1#6628, Jerarquia#6629, NIF_COD_NIVEL_0#6630, ... 56 more fields]\n:        :     :        :              :                                                                                      +- Project [Id#6716, Entidad#6717, Origen_Solicitud#6718, Identificadores_Origen#6719, Entidad_Norm#7034, CIF#6977, CIF_validacion#6722, Centro#6723, Centro_Norm#6724, Tipo#6725, Provincia_Entidad#7091, Pais_Entidad#6727, Provincia_Centro#6728, PIC#6729, Tipo_Persona#6730, Entidad_Match#6731, Provincia_Match#6732, Match#6733, Id_NIVEL_1#6625, Id_NIVEL_0#6626, ID_ENTIDAD_NIVEL_0#6627, ID_ENTIDAD_NIVEL_1#6628, Jerarquia#6629, NIF_COD_NIVEL_0#6630, ... 55 more fields]\n:        :     :        :              :                                                                                         +- Project [Id#6716, Entidad#6717, Origen_Solicitud#6718, Identificadores_Origen#6719, Entidad_Norm#7034, CIF#6977, CIF_validacion#6722, Centro#6723, Centro_Norm#6724, Tipo#6725, Provincia_Entidad#7091, Pais_Entidad#6727, Provincia_Centro#6728, PIC#6729, Tipo_Persona#6730, Entidad_Match#6731, Provincia_Match#6732, Match#6733, Id_NIVEL_1#6625, Id_NIVEL_0#6626, ID_ENTIDAD_NIVEL_0#6627, ID_ENTIDAD_NIVEL_1#6628, Jerarquia#6629, NIF_COD_NIVEL_0#6630, ... 54 more fields]\n:        :     :        :              :                                                                                            +- Project [Id#6716, Entidad#6717, Origen_Solicitud#6718, Identificadores_Origen#6719, Entidad_Norm#7034, CIF#6977, CIF_validacion#6722, Centro#6723, Centro_Norm#6724, Tipo#6725, Provincia_Entidad#7091, Pais_Entidad#6727, Provincia_Centro#6728, PIC#6729, Tipo_Persona#6730, Entidad_Match#6731, Provincia_Match#6732, Match#6733, Id_NIVEL_1#6625, Id_NIVEL_0#6626, ID_ENTIDAD_NIVEL_0#6627, ID_ENTIDAD_NIVEL_1#6628, Jerarquia#6629, NIF_COD_NIVEL_0#6630, ... 53 more fields]\n:        :     :        :              :                                                                                               +- Project [Id#6716, Entidad#6717, Origen_Solicitud#6718, Identificadores_Origen#6719, Entidad_Norm#7034, CIF#6977, CIF_validacion#6722, Centro#6723, Centro_Norm#6724, Tipo#6725, Provincia_Entidad#7091, Pais_Entidad#6727, Provincia_Centro#6728, PIC#6729, Tipo_Persona#6730, Entidad_Match#6731, Provincia_Match#6732, Match#6733, Id_NIVEL_1#6625, Id_NIVEL_0#6626, ID_ENTIDAD_NIVEL_0#6627, ID_ENTIDAD_NIVEL_1#6628, Jerarquia#6629, NIF_COD_NIVEL_0#6630, ... 52 more fields]\n:        :     :        :              :                                                                                                  +- Project [Id#6716, Entidad#6717, Origen_Solicitud#6718, Identificadores_Origen#6719, Entidad_Norm#7034, CIF#6977, CIF_validacion#6722, Centro#6723, Centro_Norm#6724, Tipo#6725, Provincia_Entidad#7091, Pais_Entidad#6727, Provincia_Centro#6728, PIC#6729, Tipo_Persona#6730, Entidad_Match#6731, Provincia_Match#6732, Match#6733, Id_NIVEL_1#6625, Id_NIVEL_0#6626, ID_ENTIDAD_NIVEL_0#6627, ID_ENTIDAD_NIVEL_1#6628, Jerarquia#6629, NIF_COD_NIVEL_0#6630, ... 51 more fields]\n:        :     :        :              :                                                                                                     +- Project [Id#6716, Entidad#6717, Origen_Solicitud#6718, Identificadores_Origen#6719, Entidad_Norm#7034, CIF#6977, CIF_validacion#6722, Centro#6723, Centro_Norm#6724, Tipo#6725, Provincia_Entidad#7091, Pais_Entidad#6727, Provincia_Centro#6728, PIC#6729, Tipo_Persona#6730, Entidad_Match#6731, Provincia_Match#6732, Match#6733, Id_NIVEL_1#6625, Id_NIVEL_0#6626, ID_ENTIDAD_NIVEL_0#6627, ID_ENTIDAD_NIVEL_1#6628, Jerarquia#6629, NIF_COD_NIVEL_0#6630, ... 50 more fields]\n:        :     :        :              :                                                                                                        +- Project [Id#6716, Entidad#6717, Origen_Solicitud#6718, Identificadores_Origen#6719, Entidad_Norm#7034, CIF#6977, CIF_validacion#6722, Centro#6723, Centro_Norm#6724, Tipo#6725, Provincia_Entidad#7091, Pais_Entidad#6727, Provincia_Centro#6728, PIC#6729, Tipo_Persona#6730, Entidad_Match#6731, Provincia_Match#6732, Match#6733, Id_NIVEL_1#6625, Id_NIVEL_0#6626, ID_ENTIDAD_NIVEL_0#6627, ID_ENTIDAD_NIVEL_1#6628, Jerarquia#6629, NIF_COD_NIVEL_0#6630, ... 49 more fields]\n:        :     :        :              :                                                                                                           +- Project [Id#6716, Entidad#6717, Origen_Solicitud#6718, Identificadores_Origen#6719, Entidad_Norm#7034, CIF#6977, CIF_validacion#6722, Centro#6723, Centro_Norm#6724, Tipo#6725, Provincia_Entidad#7091, Pais_Entidad#6727, Provincia_Centro#6728, PIC#6729, Tipo_Persona#6730, Entidad_Match#6731, Provincia_Match#6732, Match#6733, Id_NIVEL_1#6625, Id_NIVEL_0#6626, ID_ENTIDAD_NIVEL_0#6627, ID_ENTIDAD_NIVEL_1#6628, Jerarquia#6629, NIF_COD_NIVEL_0#6630, ... 48 more fields]\n:        :     :        :              :                                                                                                              +- Project [Id#6716, Entidad#6717, Origen_Solicitud#6718, Identificadores_Origen#6719, Entidad_Norm#7034, CIF#6977, CIF_validacion#6722, Centro#6723, Centro_Norm#6724, Tipo#6725, Provincia_Entidad#7091, Pais_Entidad#6727, Provincia_Centro#6728, PIC#6729, Tipo_Persona#6730, Entidad_Match#6731, Provincia_Match#6732, Match#6733, Id_NIVEL_1#6625, Id_NIVEL_0#6626, ID_ENTIDAD_NIVEL_0#6627, ID_ENTIDAD_NIVEL_1#6628, Jerarquia#6629, NIF_COD_NIVEL_0#6630, ... 47 more fields]\n:        :     :        :              :                                                                                                                 +- Project [Id#6716, Entidad#6717, Origen_Solicitud#6718, Identificadores_Origen#6719, Entidad_Norm#7034, CIF#6977, CIF_validacion#6722, Centro#6723, Centro_Norm#6724, Tipo#6725, Provincia_Entidad#7091, Pais_Entidad#6727, Provincia_Centro#6728, PIC#6729, Tipo_Persona#6730, Entidad_Match#6731, Provincia_Match#6732, Match#6733, Id_NIVEL_1#6625, Id_NIVEL_0#6626, ID_ENTIDAD_NIVEL_0#6627, ID_ENTIDAD_NIVEL_1#6628, Jerarquia#6629, NIF_COD_NIVEL_0#6630, ... 46 more fields]\n:        :     :        :              :                                                                                                                    +- Project [Id#6716, Entidad#6717, Origen_Solicitud#6718, Identificadores_Origen#6719, Entidad_Norm#7034, CIF#6977, CIF_validacion#6722, Centro#6723, Centro_Norm#6724, Tipo#6725, Provincia_Entidad#7091, Pais_Entidad#6727, Provincia_Centro#6728, PIC#6729, Tipo_Persona#6730, Entidad_Match#6731, Provincia_Match#6732, Match#6733, Id_NIVEL_1#6625, Id_NIVEL_0#6626, ID_ENTIDAD_NIVEL_0#6627, ID_ENTIDAD_NIVEL_1#6628, Jerarquia#6629, NIF_COD_NIVEL_0#6630, ... 45 more fields]\n:        :     :        :              :                                                                                                                       +- Project [Id#6716, Entidad#6717, Origen_Solicitud#6718, Identificadores_Origen#6719, Entidad_Norm#7034, CIF#6977, CIF_validacion#6722, Centro#6723, Centro_Norm#6724, Tipo#6725, Provincia_Entidad#7091, Pais_Entidad#6727, Provincia_Centro#6728, PIC#6729, Tipo_Persona#6730, Entidad_Match#6731, Provincia_Match#6732, Match#6733, Id_NIVEL_1#6625, Id_NIVEL_0#6626, ID_ENTIDAD_NIVEL_0#6627, ID_ENTIDAD_NIVEL_1#6628, Jerarquia#6629, NIF_COD_NIVEL_0#6630, ... 44 more fields]\n:        :     :        :              :                                                                                                                          +- Project [Id#6716, Entidad#6717, Origen_Solicitud#6718, Identificadores_Origen#6719, Entidad_Norm#7034, CIF#6977, CIF_validacion#6722, Centro#6723, Centro_Norm#6724, Tipo#6725, Provincia_Entidad#7091, Pais_Entidad#6727, Provincia_Centro#6728, PIC#6729, Tipo_Persona#6730, Entidad_Match#6731, Provincia_Match#6732, Match#6733, Id_NIVEL_1#6625, Id_NIVEL_0#6626, ID_ENTIDAD_NIVEL_0#6627, ID_ENTIDAD_NIVEL_1#6628, Jerarquia#6629, NIF_COD_NIVEL_0#6630, ... 43 more fields]\n:        :     :        :              :                                                                                                                             +- Project [Id#6716, Entidad#6717, Origen_Solicitud#6718, Identificadores_Origen#6719, Entidad_Norm#7034, CIF#6977, CIF_validacion#6722, Centro#6723, Centro_Norm#6724, Tipo#6725, Provincia_Entidad#7091, Pais_Entidad#6727, Provincia_Centro#6728, PIC#6729, Tipo_Persona#6730, Entidad_Match#6731, Provincia_Match#6732, Match#6733, Id_NIVEL_1#6625, Id_NIVEL_0#6626, ID_ENTIDAD_NIVEL_0#6627, ID_ENTIDAD_NIVEL_1#6628, Jerarquia#6629, NIF_COD_NIVEL_0#6630, ... 42 more fields]\n:        :     :        :              :                                                                                                                                +- Project [Id#6716, Entidad#6717, Origen_Solicitud#6718, Identificadores_Origen#6719, Entidad_Norm#7034, CIF#6977, CIF_validacion#6722, Centro#6723, Centro_Norm#6724, Tipo#6725, Provincia_Entidad#7091, Pais_Entidad#6727, Provincia_Centro#6728, PIC#6729, Tipo_Persona#6730, Entidad_Match#6731, Provincia_Match#6732, Match#6733, Id_NIVEL_1#6625, Id_NIVEL_0#6626, ID_ENTIDAD_NIVEL_0#6627, ID_ENTIDAD_NIVEL_1#6628, Jerarquia#6629, NIF_COD_NIVEL_0#6630, ... 41 more fields]\n:        :     :        :              :                                                                                                                                   +- Project [Id#6716, Entidad#6717, Origen_Solicitud#6718, Identificadores_Origen#6719, Entidad_Norm#7034, CIF#6977, CIF_validacion#6722, Centro#6723, Centro_Norm#6724, Tipo#6725, Provincia_Entidad#7091, Pais_Entidad#6727, Provincia_Centro#6728, PIC#6729, Tipo_Persona#6730, Entidad_Match#6731, Provincia_Match#6732, Match#6733, Id_NIVEL_1#6625, Id_NIVEL_0#6626, ID_ENTIDAD_NIVEL_0#6627, ID_ENTIDAD_NIVEL_1#6628, Jerarquia#6629, NIF_COD_NIVEL_0#6630, ... 40 more fields]\n:        :     :        :              :                                                                                                                                      +- Project [Id#6716, Entidad#6717, Origen_Solicitud#6718, Identificadores_Origen#6719, Entidad_Norm#7034, CIF#6977, CIF_validacion#6722, Centro#6723, Centro_Norm#6724, Tipo#6725, Provincia_Entidad#7091, Pais_Entidad#6727, Provincia_Centro#6728, PIC#6729, Tipo_Persona#6730, Entidad_Match#6731, Provincia_Match#6732, Match#6733, Id_NIVEL_1#6625, Id_NIVEL_0#6626, ID_ENTIDAD_NIVEL_0#6627, ID_ENTIDAD_NIVEL_1#6628, Jerarquia#6629, NIF_COD_NIVEL_0#6630, ... 39 more fields]\n:        :     :        :              :                                                                                                                                         +- Project [Id#6716, Entidad#6717, Origen_Solicitud#6718, Identificadores_Origen#6719, Entidad_Norm#7034, CIF#6977, CIF_validacion#6722, Centro#6723, Centro_Norm#6724, Tipo#6725, Provincia_Entidad#7091, Pais_Entidad#6727, Provincia_Centro#6728, PIC#6729, Tipo_Persona#6730, Entidad_Match#6731, Provincia_Match#6732, Match#6733, Id_NIVEL_1#6625, Id_NIVEL_0#6626, ID_ENTIDAD_NIVEL_0#6627, ID_ENTIDAD_NIVEL_1#6628, Jerarquia#6629, NIF_COD_NIVEL_0#6630, ... 38 more fields]\n:        :     :        :              :                                                                                                                                            +- Project [Id#6716, Entidad#6717, Origen_Solicitud#6718, Identificadores_Origen#6719, Entidad_Norm#7034, CIF#6977, CIF_validacion#6722, Centro#6723, Centro_Norm#6724, Tipo#6725, Provincia_Entidad#7091, Pais_Entidad#6727, Provincia_Centro#6728, PIC#6729, Tipo_Persona#6730, Entidad_Match#6731, Provincia_Match#6732, Match#6733, Id_NIVEL_1#6625, Id_NIVEL_0#6626, ID_ENTIDAD_NIVEL_0#6627, ID_ENTIDAD_NIVEL_1#6628, Jerarquia#6629, NIF_COD_NIVEL_0#6630, ... 37 more fields]\n:        :     :        :              :                                                                                                                                               +- Project [Id#6716, Entidad#6717, Origen_Solicitud#6718, Identificadores_Origen#6719, Entidad_Norm#7034, CIF#6977, CIF_validacion#6722, Centro#6723, Centro_Norm#6724, Tipo#6725, Provincia_Entidad#7091, Pais_Entidad#6727, Provincia_Centro#6728, PIC#6729, Tipo_Persona#6730, Entidad_Match#6731, Provincia_Match#6732, Match#6733, Id_NIVEL_1#6625, Id_NIVEL_0#6626, ID_ENTIDAD_NIVEL_0#6627, ID_ENTIDAD_NIVEL_1#6628, Jerarquia#6629, NIF_COD_NIVEL_0#6630, ... 36 more fields]\n:        :     :        :              :                                                                                                                                                  +- Project [Id#6716, Entidad#6717, Origen_Solicitud#6718, Identificadores_Origen#6719, Entidad_Norm#7034, CIF#6977, CIF_validacion#6722, Centro#6723, Centro_Norm#6724, Tipo#6725, Provincia_Entidad#7091, Pais_Entidad#6727, Provincia_Centro#6728, PIC#6729, Tipo_Persona#6730, Entidad_Match#6731, Provincia_Match#6732, Match#6733, Id_NIVEL_1#6625, Id_NIVEL_0#6626, ID_ENTIDAD_NIVEL_0#6627, ID_ENTIDAD_NIVEL_1#6628, Jerarquia#6629, NIF_COD_NIVEL_0#6630, ... 35 more fields]\n:        :     :        :              :                                                                                                                                                     +- Project [Id#6716, Entidad#6717, Origen_Solicitud#6718, Identificadores_Origen#6719, Entidad_Norm#7034, CIF#6977, CIF_validacion#6722, Centro#6723, Centro_Norm#6724, Tipo#6725, Provincia_Entidad#7091, Pais_Entidad#6727, Provincia_Centro#6728, PIC#6729, Tipo_Persona#6730, Entidad_Match#6731, Provincia_Match#6732, Match#6733, Id_NIVEL_1#6625, Id_NIVEL_0#6626, ID_ENTIDAD_NIVEL_0#6627, ID_ENTIDAD_NIVEL_1#6628, Jerarquia#6629, NIF_COD_NIVEL_0#6630, ... 34 more fields]\n:        :     :        :              :                                                                                                                                                        +- Project [Id#6716, Entidad#6717, Origen_Solicitud#6718, Identificadores_Origen#6719, Entidad_Norm#7034, CIF#6977, CIF_validacion#6722, Centro#6723, Centro_Norm#6724, Tipo#6725, Provincia_Entidad#7091, Pais_Entidad#6727, Provincia_Centro#6728, PIC#6729, Tipo_Persona#6730, Entidad_Match#6731, Provincia_Match#6732, Match#6733, Id_NIVEL_1#6625, Id_NIVEL_0#6626, ID_ENTIDAD_NIVEL_0#6627, ID_ENTIDAD_NIVEL_1#6628, Jerarquia#6629, NIF_COD_NIVEL_0#6630, ... 33 more fields]\n:        :     :        :              :                                                                                                                                                           +- Project [Id#6716, Entidad#6717, Origen_Solicitud#6718, Identificadores_Origen#6719, Entidad_Norm#7034, CIF#6977, CIF_validacion#6722, Centro#6723, Centro_Norm#6724, Tipo#6725, Provincia_Centro#6728 AS Provincia_Entidad#7091, Pais_Entidad#6727, Provincia_Centro#6728, PIC#6729, Tipo_Persona#6730, Entidad_Match#6731, Provincia_Match#6732, Match#6733, Id_NIVEL_1#6625, Id_NIVEL_0#6626, ID_ENTIDAD_NIVEL_0#6627, ID_ENTIDAD_NIVEL_1#6628, Jerarquia#6629, NIF_COD_NIVEL_0#6630, ... 32 more fields]\n:        :     :        :              :                                                                                                                                                              +- Project [Id#6716, Entidad#6717, Origen_Solicitud#6718, Identificadores_Origen#6719, Centro_Norm#6724 AS Entidad_Norm#7034, CIF#6977, CIF_validacion#6722, Centro#6723, Centro_Norm#6724, Tipo#6725, Provincia_Entidad#6726, Pais_Entidad#6727, Provincia_Centro#6728, PIC#6729, Tipo_Persona#6730, Entidad_Match#6731, Provincia_Match#6732, Match#6733, Id_NIVEL_1#6625, Id_NIVEL_0#6626, ID_ENTIDAD_NIVEL_0#6627, ID_ENTIDAD_NIVEL_1#6628, Jerarquia#6629, NIF_COD_NIVEL_0#6630, ... 32 more fields]\n:        :     :        :              :                                                                                                                                                                 +- Project [Id#6716, Entidad#6717, Origen_Solicitud#6718, Identificadores_Origen#6719, Entidad_Norm#6720, cast(null as string) AS CIF#6977, CIF_validacion#6722, Centro#6723, Centro_Norm#6724, Tipo#6725, Provincia_Entidad#6726, Pais_Entidad#6727, Provincia_Centro#6728, PIC#6729, Tipo_Persona#6730, Entidad_Match#6731, Provincia_Match#6732, Match#6733, Id_NIVEL_1#6625, Id_NIVEL_0#6626, ID_ENTIDAD_NIVEL_0#6627, ID_ENTIDAD_NIVEL_1#6628, Jerarquia#6629, NIF_COD_NIVEL_0#6630, ... 32 more fields]\n:        :     :        :              :                                                                                                                                                                    +- Filter (cast(Similitud#6866 as double) < cast(0.875 as double))\n:        :     :        :              :                                                                                                                                                                       +- Project [Id#6716, Entidad#6717, Origen_Solicitud#6718, Identificadores_Origen#6719, Entidad_Norm#6720, CIF#6721, CIF_validacion#6722, Centro#6723, Centro_Norm#6724, Tipo#6725, Provincia_Entidad#6726, Pais_Entidad#6727, Provincia_Centro#6728, PIC#6729, Tipo_Persona#6730, Entidad_Match#6731, Provincia_Match#6732, Match#6733, Id_NIVEL_1#6625, Id_NIVEL_0#6626, ID_ENTIDAD_NIVEL_0#6627, ID_ENTIDAD_NIVEL_1#6628, Jerarquia#6629, NIF_COD_NIVEL_0#6630, ... 32 more fields]\n:        :     :        :              :                                                                                                                                                                          +- Filter isnotnull(Id_NIVEL_0#6626)\n:        :     :        :              :                                                                                                                                                                             +- Deduplicate [Pais_Entidad#6727, Id#6716, Centro_Norm#6724, Entidad_Norm#6720, Entidad_Match#6731, Centro#6723, Identificadores_Origen#6719, Tipo#6725, Origen_Solicitud#6718, Entidad#6717, CIF_validacion#6722, Tipo_Persona#6730, Provincia_Match#6732, PIC#6729, CIF#6721, Provincia_Entidad#6726, Provincia_Centro#6728, Match#6733]\n:        :     :        :              :                                                                                                                                                                                +- Join LeftOuter, (Id#6716 = Id_NIVEL_0#6626)\n:        :     :        :              :                                                                                                                                                                                   :- Relation [Id#6716,Entidad#6717,Origen_Solicitud#6718,Identificadores_Origen#6719,Entidad_Norm#6720,CIF#6721,CIF_validacion#6722,Centro#6723,Centro_Norm#6724,Tipo#6725,Provincia_Entidad#6726,Pais_Entidad#6727,Provincia_Centro#6728,PIC#6729,Tipo_Persona#6730,Entidad_Match#6731,Provincia_Match#6732,Match#6733] csv\n:        :     :        :              :                                                                                                                                                                                   +- Relation [Id_NIVEL_1#6625,Id_NIVEL_0#6626,ID_ENTIDAD_NIVEL_0#6627,ID_ENTIDAD_NIVEL_1#6628,Jerarquia#6629,NIF_COD_NIVEL_0#6630,ACRONIMO_NIVEL_0#6631,NOMBRE_ENTIDAD_NIVEL_0#6632,Nombre_Entidad_Mostrar_NIVEL_0#6633,TIPO_ENTIDAD_N1_1_NIVEL_0#6634,TIPO_ENTIDAD_N2_1_NIVEL_0#6635,DIRECCION_POSTAL_NIVEL_0#6636,COD_POSTAL_NIVEL_0#6637,COD_PROVINCIA_NIVEL_0#6638,PROVINCIA_NIVEL_0#6639,COD_CCAA_NIVEL_0#6640,CCAA_NIVEL_0#6641,ENLACE_WEB_NIVEL_0#6642,SOMMA_NIVEL_0#6643,TIPO_ENTIDAD_REGIONAL_NIVEL_0#6644,ESTADO_x_NIVEL_0#6645,NIF_COD_NIVEL_1#6646,ACRONIMO_NIVEL_1#6647,NOMBRE_ENTIDAD_NIVEL_1#6648,... 13 more fields] csv\n:        :     :        :              +- Project [Id#10956, Dummy#10962]\n:        :     :        :                 +- Project [Id#10956, Dummy#10958L, Dummy#10962, Dummy#10962]\n:        :     :        :                    +- Window [row_number() windowspecdefinition(Dummy#10958L ASC NULLS FIRST, specifiedwindowframe(RowFrame, unboundedpreceding$(), currentrow$())) AS Dummy#10962], [Dummy#10958L ASC NULLS FIRST]\n:        :     :        :                       +- Project [Id#10956, Dummy#10958L]\n:        :     :        :                          +- Project [Id#10956, monotonically_increasing_id() AS Dummy#10958L]\n:        :     :        :                             +- Project [value#10954 AS Id#10956]\n:        :     :        :                                +- LogicalRDD [value#10954], false\n:        :     :        +- Project [Entidad_Norm#13914, DenominacionSocial#13915, NIF#13917, CodigoInvente#13918, FormaJuridica_Codigo#13919, FormaJuridica_Descripcion#13920, codigoDir3#13921, codigoOrigen#13922, Provincia_Codigo#13916, final_score#14072, DenominacionSocial_Norm#13923]\n:        :     :           +- Deduplicate [Entidad_Norm#13914]\n:        :     :              +- Sort [final_score#14072 DESC NULLS LAST], true\n:        :     :                 +- Filter (cast(final_score#14072 as double) >= cast(0.875 as double))\n:        :     :                    +- Project [source_name#13912, target_name#13913, Entidad_Norm#13914, DenominacionSocial#13915, Provincia_Codigo#13916, NIF#13917, CodigoInvente#13918, FormaJuridica_Codigo#13919, FormaJuridica_Descripcion#13920, codigoDir3#13921, codigoOrigen#13922, DenominacionSocial_Norm#13923, source_names_stopwords#13971, target_names_stopwords#14023, CASE WHEN NOT (source_names_stopwords#13971 = target_names_stopwords#14023) THEN final_score#14040 ELSE cast(1 as float) END AS final_score#14072]\n:        :     :                       +- Project [source_name#13912, target_name#13913, Entidad_Norm#13914, DenominacionSocial#13915, Provincia_Codigo#13916, NIF#13917, CodigoInvente#13918, FormaJuridica_Codigo#13919, FormaJuridica_Descripcion#13920, codigoDir3#13921, codigoOrigen#13922, DenominacionSocial_Norm#13923, source_names_stopwords#13971, target_names_stopwords#14023, final_score#14040]\n:        :     :                          +- Project [source_name#13912, target_name#13913, Entidad_Norm#13914, DenominacionSocial#13915, Provincia_Codigo#13916, NIF#13917, CodigoInvente#13918, FormaJuridica_Codigo#13919, FormaJuridica_Descripcion#13920, codigoDir3#13921, codigoOrigen#13922, DenominacionSocial_Norm#13923, aux#13986, source_names_stopwords#13971, target_names_stopwords#14023, Distance_ratcliff_obershelp(source_names_stopwords#13971, target_names_stopwords#14023)#14039 AS final_score#14040]\n:        :     :                             +- Project [source_name#13912, target_name#13913, Entidad_Norm#13914, DenominacionSocial#13915, Provincia_Codigo#13916, NIF#13917, CodigoInvente#13918, FormaJuridica_Codigo#13919, FormaJuridica_Descripcion#13920, codigoDir3#13921, codigoOrigen#13922, DenominacionSocial_Norm#13923, aux#13986, source_names_stopwords#13971, array_join(target_names_stopwords#14004,  , None) AS target_names_stopwords#14023]\n:        :     :                                +- Project [source_name#13912, target_name#13913, Entidad_Norm#13914, DenominacionSocial#13915, Provincia_Codigo#13916, NIF#13917, CodigoInvente#13918, FormaJuridica_Codigo#13919, FormaJuridica_Descripcion#13920, codigoDir3#13921, codigoOrigen#13922, DenominacionSocial_Norm#13923, aux#13986, source_names_stopwords#13971, UDF(aux#13986) AS target_names_stopwords#14004]\n:        :     :                                   +- Project [source_name#13912, target_name#13913, Entidad_Norm#13914, DenominacionSocial#13915, Provincia_Codigo#13916, NIF#13917, CodigoInvente#13918, FormaJuridica_Codigo#13919, FormaJuridica_Descripcion#13920, codigoDir3#13921, codigoOrigen#13922, DenominacionSocial_Norm#13923, split(target_name#13913, \\s+, -1) AS aux#13986, source_names_stopwords#13971]\n:        :     :                                      +- Project [source_name#13912, target_name#13913, Entidad_Norm#13914, DenominacionSocial#13915, Provincia_Codigo#13916, NIF#13917, CodigoInvente#13918, FormaJuridica_Codigo#13919, FormaJuridica_Descripcion#13920, codigoDir3#13921, codigoOrigen#13922, DenominacionSocial_Norm#13923, aux#13936, array_join(source_names_stopwords#13953,  , None) AS source_names_stopwords#13971]\n:        :     :                                         +- Project [source_name#13912, target_name#13913, Entidad_Norm#13914, DenominacionSocial#13915, Provincia_Codigo#13916, NIF#13917, CodigoInvente#13918, FormaJuridica_Codigo#13919, FormaJuridica_Descripcion#13920, codigoDir3#13921, codigoOrigen#13922, DenominacionSocial_Norm#13923, aux#13936, UDF(aux#13936) AS source_names_stopwords#13953]\n:        :     :                                            +- Project [source_name#13912, target_name#13913, Entidad_Norm#13914, DenominacionSocial#13915, Provincia_Codigo#13916, NIF#13917, CodigoInvente#13918, FormaJuridica_Codigo#13919, FormaJuridica_Descripcion#13920, codigoDir3#13921, codigoOrigen#13922, DenominacionSocial_Norm#13923, split(source_name#13912, \\s+, -1) AS aux#13936]\n:        :     :                                               +- LogicalRDD [source_name#13912, target_name#13913, Entidad_Norm#13914, DenominacionSocial#13915, Provincia_Codigo#13916, NIF#13917, CodigoInvente#13918, FormaJuridica_Codigo#13919, FormaJuridica_Descripcion#13920, codigoDir3#13921, codigoOrigen#13922, DenominacionSocial_Norm#13923], false\n:        :     +- Project [Id#10956 AS Id#14619, Entidad_Norm#7034 AS Entidad_Norm#14620, ID_ENTIDAD#7148 AS ID_ENTIDAD#14621, NIF_COD#7206 AS NIF_COD#14622, ACRONIMO#7265 AS ACRONIMO#14623, NOMBRE_ENTIDAD#7325 AS NOMBRE_ENTIDAD#14624, Nombre_Entidad_Mostrar#7386 AS Nombre_Entidad_Mostrar#14625, TIPO_ENTIDAD_N1_1#7448 AS TIPO_ENTIDAD_N1_1#14626, TIPO_ENTIDAD_N2_1#7511 AS TIPO_ENTIDAD_N2_1#14627, DIRECCION_POSTAL#7575 AS DIRECCION_POSTAL#14628, COD_POSTAL#7640 AS COD_POSTAL#14629, COD_PROVINCIA#7706 AS COD_PROVINCIA#14630, PROVINCIA#7773 AS PROVINCIA#14631, COD_CCAA#7841 AS COD_CCAA#14632, CCAA#7910 AS CCAA#14633, ENLACE_WEB#7980 AS ENLACE_WEB#14634, SOMMA#8051 AS SOMMA#14635, TIPO_ENTIDAD_REGIONAL#8123 AS TIPO_ENTIDAD_REGIONAL#14636, ESTADO_x#8196 AS ESTADO_x#14637, C_ID_UD_ORGANICA#8898 AS C_ID_UD_ORGANICA#14638, C_DNM_UD_ORGANICA#8981 AS C_DNM_UD_ORGANICA#14639, C_ID_NIVEL_ADMON#9065 AS C_ID_NIVEL_ADMON#14640, C_ID_TIPO_ENT_PUBLICA#9150 AS C_ID_TIPO_ENT_PUBLICA#14641, N_NIVEL_JERARQUICO#9236 AS N_NIVEL_JERARQUICO#14642, ... 27 more fields]\n:        :        +- Filter isnull(final_score#14072)\n:        :           +- Join LeftOuter, (Entidad_Norm#7034 = Entidad_Norm#14609)\n:        :              :- Project [Id#10956, Entidad_Norm#7034, ID_ENTIDAD#7148, NIF_COD#7206, ACRONIMO#7265, NOMBRE_ENTIDAD#7325, Nombre_Entidad_Mostrar#7386, TIPO_ENTIDAD_N1_1#7448, TIPO_ENTIDAD_N2_1#7511, DIRECCION_POSTAL#7575, COD_POSTAL#7640, COD_PROVINCIA#7706, PROVINCIA#7773, COD_CCAA#7841, CCAA#7910, ENLACE_WEB#7980, SOMMA#8051, TIPO_ENTIDAD_REGIONAL#8123, ESTADO_x#8196, C_ID_UD_ORGANICA#8898, C_DNM_UD_ORGANICA#8981, C_ID_NIVEL_ADMON#9065, C_ID_TIPO_ENT_PUBLICA#9150, N_NIVEL_JERARQUICO#9236, ... 16 more fields]\n:        :              :  +- Project [Id#10956, CIF#6977, Entidad_Norm#7034, Provincia_Entidad#7091, ID_ENTIDAD#7148, NIF_COD#7206, ACRONIMO#7265, NOMBRE_ENTIDAD#7325, Nombre_Entidad_Mostrar#7386, TIPO_ENTIDAD_N1_1#7448, TIPO_ENTIDAD_N2_1#7511, DIRECCION_POSTAL#7575, COD_POSTAL#7640, COD_PROVINCIA#7706, PROVINCIA#7773, COD_CCAA#7841, CCAA#7910, ENLACE_WEB#7980, SOMMA#8051, TIPO_ENTIDAD_REGIONAL#8123, ESTADO_x#8196, CodigoInvente#8270, DenominacionSocial#8345, FormaJuridica_Codigo#8421, ... 26 more fields]\n:        :              :     +- Project [IdOld#10851, Entidad#14552, Origen_Solicitud#14553, Identificadores_Origen#14554, Entidad_Norm#7034, CIF#6977, CIF_validacion#14557, Centro#14558, Centro_Norm#14559, Tipo#14560, Provincia_Entidad#7091, Pais_Entidad#14562, Provincia_Centro#14563, PIC#14564, Tipo_Persona#14565, Entidad_Match#14566, Provincia_Match#14567, Match#14568, Id_NIVEL_1#14569, Id_NIVEL_0#14570, ID_ENTIDAD_NIVEL_0#14571, ID_ENTIDAD_NIVEL_1#14572, Jerarquia#14573, NIF_COD_NIVEL_0#14574, ... 79 more fields]\n:        :              :        +- Project [coalesce(Dummy#11070, Dummy#10962) AS Dummy#11174, IdOld#10851, Entidad#14552, Origen_Solicitud#14553, Identificadores_Origen#14554, Entidad_Norm#7034, CIF#6977, CIF_validacion#14557, Centro#14558, Centro_Norm#14559, Tipo#14560, Provincia_Entidad#7091, Pais_Entidad#14562, Provincia_Centro#14563, PIC#14564, Tipo_Persona#14565, Entidad_Match#14566, Provincia_Match#14567, Match#14568, Id_NIVEL_1#14569, Id_NIVEL_0#14570, ID_ENTIDAD_NIVEL_0#14571, ID_ENTIDAD_NIVEL_1#14572, Jerarquia#14573, ... 80 more fields]\n:        :              :           +- Join FullOuter, (Dummy#11070 = Dummy#10962)\n:        :              :              :- Project [IdOld#10851, Entidad#14552, Origen_Solicitud#14553, Identificadores_Origen#14554, Entidad_Norm#7034, CIF#6977, CIF_validacion#14557, Centro#14558, Centro_Norm#14559, Tipo#14560, Provincia_Entidad#7091, Pais_Entidad#14562, Provincia_Centro#14563, PIC#14564, Tipo_Persona#14565, Entidad_Match#14566, Provincia_Match#14567, Match#14568, Id_NIVEL_1#14569, Id_NIVEL_0#14570, ID_ENTIDAD_NIVEL_0#14571, ID_ENTIDAD_NIVEL_1#14572, Jerarquia#14573, NIF_COD_NIVEL_0#14574, ... 79 more fields]\n:        :              :              :  +- Project [IdOld#10851, Entidad#14552, Origen_Solicitud#14553, Identificadores_Origen#14554, Entidad_Norm#7034, CIF#6977, CIF_validacion#14557, Centro#14558, Centro_Norm#14559, Tipo#14560, Provincia_Entidad#7091, Pais_Entidad#14562, Provincia_Centro#14563, PIC#14564, Tipo_Persona#14565, Entidad_Match#14566, Provincia_Match#14567, Match#14568, Id_NIVEL_1#14569, Id_NIVEL_0#14570, ID_ENTIDAD_NIVEL_0#14571, ID_ENTIDAD_NIVEL_1#14572, Jerarquia#14573, NIF_COD_NIVEL_0#14574, ... 81 more fields]\n:        :              :              :     +- Window [row_number() windowspecdefinition(Dummy#10965L ASC NULLS FIRST, specifiedwindowframe(RowFrame, unboundedpreceding$(), currentrow$())) AS Dummy#11070], [Dummy#10965L ASC NULLS FIRST]\n:        :              :              :        +- Project [IdOld#10851, Entidad#14552, Origen_Solicitud#14553, Identificadores_Origen#14554, Entidad_Norm#7034, CIF#6977, CIF_validacion#14557, Centro#14558, Centro_Norm#14559, Tipo#14560, Provincia_Entidad#7091, Pais_Entidad#14562, Provincia_Centro#14563, PIC#14564, Tipo_Persona#14565, Entidad_Match#14566, Provincia_Match#14567, Match#14568, Id_NIVEL_1#14569, Id_NIVEL_0#14570, ID_ENTIDAD_NIVEL_0#14571, ID_ENTIDAD_NIVEL_1#14572, Jerarquia#14573, NIF_COD_NIVEL_0#14574, ... 79 more fields]\n:        :              :              :           +- Project [IdOld#10851, Entidad#14552, Origen_Solicitud#14553, Identificadores_Origen#14554, Entidad_Norm#7034, CIF#6977, CIF_validacion#14557, Centro#14558, Centro_Norm#14559, Tipo#14560, Provincia_Entidad#7091, Pais_Entidad#14562, Provincia_Centro#14563, PIC#14564, Tipo_Persona#14565, Entidad_Match#14566, Provincia_Match#14567, Match#14568, Id_NIVEL_1#14569, Id_NIVEL_0#14570, ID_ENTIDAD_NIVEL_0#14571, ID_ENTIDAD_NIVEL_1#14572, Jerarquia#14573, NIF_COD_NIVEL_0#14574, ... 79 more fields]\n:        :              :              :              +- Project [Id#14551 AS IdOld#10851, Entidad#14552, Origen_Solicitud#14553, Identificadores_Origen#14554, Entidad_Norm#7034, CIF#6977, CIF_validacion#14557, Centro#14558, Centro_Norm#14559, Tipo#14560, Provincia_Entidad#7091, Pais_Entidad#14562, Provincia_Centro#14563, PIC#14564, Tipo_Persona#14565, Entidad_Match#14566, Provincia_Match#14567, Match#14568, Id_NIVEL_1#14569, Id_NIVEL_0#14570, ID_ENTIDAD_NIVEL_0#14571, ID_ENTIDAD_NIVEL_1#14572, Jerarquia#14573, NIF_COD_NIVEL_0#14574, ... 78 more fields]\n:        :              :              :                 +- Project [Id#14551, Entidad#14552, Origen_Solicitud#14553, Identificadores_Origen#14554, Entidad_Norm#7034, CIF#6977, CIF_validacion#14557, Centro#14558, Centro_Norm#14559, Tipo#14560, Provincia_Entidad#7091, Pais_Entidad#14562, Provincia_Centro#14563, PIC#14564, Tipo_Persona#14565, Entidad_Match#14566, Provincia_Match#14567, Match#14568, Id_NIVEL_1#14569, Id_NIVEL_0#14570, ID_ENTIDAD_NIVEL_0#14571, ID_ENTIDAD_NIVEL_1#14572, Jerarquia#14573, NIF_COD_NIVEL_0#14574, ... 78 more fields]\n:        :              :              :                    +- Project [Id#14551, Entidad#14552, Origen_Solicitud#14553, Identificadores_Origen#14554, Entidad_Norm#7034, CIF#6977, CIF_validacion#14557, Centro#14558, Centro_Norm#14559, Tipo#14560, Provincia_Entidad#7091, Pais_Entidad#14562, Provincia_Centro#14563, PIC#14564, Tipo_Persona#14565, Entidad_Match#14566, Provincia_Match#14567, Match#14568, Id_NIVEL_1#14569, Id_NIVEL_0#14570, ID_ENTIDAD_NIVEL_0#14571, ID_ENTIDAD_NIVEL_1#14572, Jerarquia#14573, NIF_COD_NIVEL_0#14574, ... 77 more fields]\n:        :              :              :                       +- Project [Id#14551, Entidad#14552, Origen_Solicitud#14553, Identificadores_Origen#14554, Entidad_Norm#7034, CIF#6977, CIF_validacion#14557, Centro#14558, Centro_Norm#14559, Tipo#14560, Provincia_Entidad#7091, Pais_Entidad#14562, Provincia_Centro#14563, PIC#14564, Tipo_Persona#14565, Entidad_Match#14566, Provincia_Match#14567, Match#14568, Id_NIVEL_1#14569, Id_NIVEL_0#14570, ID_ENTIDAD_NIVEL_0#14571, ID_ENTIDAD_NIVEL_1#14572, Jerarquia#14573, NIF_COD_NIVEL_0#14574, ... 76 more fields]\n:        :              :              :                          +- Project [Id#14551, Entidad#14552, Origen_Solicitud#14553, Identificadores_Origen#14554, Entidad_Norm#7034, CIF#6977, CIF_validacion#14557, Centro#14558, Centro_Norm#14559, Tipo#14560, Provincia_Entidad#7091, Pais_Entidad#14562, Provincia_Centro#14563, PIC#14564, Tipo_Persona#14565, Entidad_Match#14566, Provincia_Match#14567, Match#14568, Id_NIVEL_1#14569, Id_NIVEL_0#14570, ID_ENTIDAD_NIVEL_0#14571, ID_ENTIDAD_NIVEL_1#14572, Jerarquia#14573, NIF_COD_NIVEL_0#14574, ... 75 more fields]\n:        :              :              :                             +- Project [Id#14551, Entidad#14552, Origen_Solicitud#14553, Identificadores_Origen#14554, Entidad_Norm#7034, CIF#6977, CIF_validacion#14557, Centro#14558, Centro_Norm#14559, Tipo#14560, Provincia_Entidad#7091, Pais_Entidad#14562, Provincia_Centro#14563, PIC#14564, Tipo_Persona#14565, Entidad_Match#14566, Provincia_Match#14567, Match#14568, Id_NIVEL_1#14569, Id_NIVEL_0#14570, ID_ENTIDAD_NIVEL_0#14571, ID_ENTIDAD_NIVEL_1#14572, Jerarquia#14573, NIF_COD_NIVEL_0#14574, ... 74 more fields]\n:        :              :              :                                +- Project [Id#14551, Entidad#14552, Origen_Solicitud#14553, Identificadores_Origen#14554, Entidad_Norm#7034, CIF#6977, CIF_validacion#14557, Centro#14558, Centro_Norm#14559, Tipo#14560, Provincia_Entidad#7091, Pais_Entidad#14562, Provincia_Centro#14563, PIC#14564, Tipo_Persona#14565, Entidad_Match#14566, Provincia_Match#14567, Match#14568, Id_NIVEL_1#14569, Id_NIVEL_0#14570, ID_ENTIDAD_NIVEL_0#14571, ID_ENTIDAD_NIVEL_1#14572, Jerarquia#14573, NIF_COD_NIVEL_0#14574, ... 73 more fields]\n:        :              :              :                                   +- Project [Id#14551, Entidad#14552, Origen_Solicitud#14553, Identificadores_Origen#14554, Entidad_Norm#7034, CIF#6977, CIF_validacion#14557, Centro#14558, Centro_Norm#14559, Tipo#14560, Provincia_Entidad#7091, Pais_Entidad#14562, Provincia_Centro#14563, PIC#14564, Tipo_Persona#14565, Entidad_Match#14566, Provincia_Match#14567, Match#14568, Id_NIVEL_1#14569, Id_NIVEL_0#14570, ID_ENTIDAD_NIVEL_0#14571, ID_ENTIDAD_NIVEL_1#14572, Jerarquia#14573, NIF_COD_NIVEL_0#14574, ... 72 more fields]\n:        :              :              :                                      +- Project [Id#14551, Entidad#14552, Origen_Solicitud#14553, Identificadores_Origen#14554, Entidad_Norm#7034, CIF#6977, CIF_validacion#14557, Centro#14558, Centro_Norm#14559, Tipo#14560, Provincia_Entidad#7091, Pais_Entidad#14562, Provincia_Centro#14563, PIC#14564, Tipo_Persona#14565, Entidad_Match#14566, Provincia_Match#14567, Match#14568, Id_NIVEL_1#14569, Id_NIVEL_0#14570, ID_ENTIDAD_NIVEL_0#14571, ID_ENTIDAD_NIVEL_1#14572, Jerarquia#14573, NIF_COD_NIVEL_0#14574, ... 71 more fields]\n:        :              :              :                                         +- Project [Id#14551, Entidad#14552, Origen_Solicitud#14553, Identificadores_Origen#14554, Entidad_Norm#7034, CIF#6977, CIF_validacion#14557, Centro#14558, Centro_Norm#14559, Tipo#14560, Provincia_Entidad#7091, Pais_Entidad#14562, Provincia_Centro#14563, PIC#14564, Tipo_Persona#14565, Entidad_Match#14566, Provincia_Match#14567, Match#14568, Id_NIVEL_1#14569, Id_NIVEL_0#14570, ID_ENTIDAD_NIVEL_0#14571, ID_ENTIDAD_NIVEL_1#14572, Jerarquia#14573, NIF_COD_NIVEL_0#14574, ... 70 more fields]\n:        :              :              :                                            +- Project [Id#14551, Entidad#14552, Origen_Solicitud#14553, Identificadores_Origen#14554, Entidad_Norm#7034, CIF#6977, CIF_validacion#14557, Centro#14558, Centro_Norm#14559, Tipo#14560, Provincia_Entidad#7091, Pais_Entidad#14562, Provincia_Centro#14563, PIC#14564, Tipo_Persona#14565, Entidad_Match#14566, Provincia_Match#14567, Match#14568, Id_NIVEL_1#14569, Id_NIVEL_0#14570, ID_ENTIDAD_NIVEL_0#14571, ID_ENTIDAD_NIVEL_1#14572, Jerarquia#14573, NIF_COD_NIVEL_0#14574, ... 69 more fields]\n:        :              :              :                                               +- Project [Id#14551, Entidad#14552, Origen_Solicitud#14553, Identificadores_Origen#14554, Entidad_Norm#7034, CIF#6977, CIF_validacion#14557, Centro#14558, Centro_Norm#14559, Tipo#14560, Provincia_Entidad#7091, Pais_Entidad#14562, Provincia_Centro#14563, PIC#14564, Tipo_Persona#14565, Entidad_Match#14566, Provincia_Match#14567, Match#14568, Id_NIVEL_1#14569, Id_NIVEL_0#14570, ID_ENTIDAD_NIVEL_0#14571, ID_ENTIDAD_NIVEL_1#14572, Jerarquia#14573, NIF_COD_NIVEL_0#14574, ... 68 more fields]\n:        :              :              :                                                  +- Project [Id#14551, Entidad#14552, Origen_Solicitud#14553, Identificadores_Origen#14554, Entidad_Norm#7034, CIF#6977, CIF_validacion#14557, Centro#14558, Centro_Norm#14559, Tipo#14560, Provincia_Entidad#7091, Pais_Entidad#14562, Provincia_Centro#14563, PIC#14564, Tipo_Persona#14565, Entidad_Match#14566, Provincia_Match#14567, Match#14568, Id_NIVEL_1#14569, Id_NIVEL_0#14570, ID_ENTIDAD_NIVEL_0#14571, ID_ENTIDAD_NIVEL_1#14572, Jerarquia#14573, NIF_COD_NIVEL_0#14574, ... 67 more fields]\n:        :              :              :                                                     +- Project [Id#14551, Entidad#14552, Origen_Solicitud#14553, Identificadores_Origen#14554, Entidad_Norm#7034, CIF#6977, CIF_validacion#14557, Centro#14558, Centro_Norm#14559, Tipo#14560, Provincia_Entidad#7091, Pais_Entidad#14562, Provincia_Centro#14563, PIC#14564, Tipo_Persona#14565, Entidad_Match#14566, Provincia_Match#14567, Match#14568, Id_NIVEL_1#14569, Id_NIVEL_0#14570, ID_ENTIDAD_NIVEL_0#14571, ID_ENTIDAD_NIVEL_1#14572, Jerarquia#14573, NIF_COD_NIVEL_0#14574, ... 66 more fields]\n:        :              :              :                                                        +- Project [Id#14551, Entidad#14552, Origen_Solicitud#14553, Identificadores_Origen#14554, Entidad_Norm#7034, CIF#6977, CIF_validacion#14557, Centro#14558, Centro_Norm#14559, Tipo#14560, Provincia_Entidad#7091, Pais_Entidad#14562, Provincia_Centro#14563, PIC#14564, Tipo_Persona#14565, Entidad_Match#14566, Provincia_Match#14567, Match#14568, Id_NIVEL_1#14569, Id_NIVEL_0#14570, ID_ENTIDAD_NIVEL_0#14571, ID_ENTIDAD_NIVEL_1#14572, Jerarquia#14573, NIF_COD_NIVEL_0#14574, ... 65 more fields]\n:        :              :              :                                                           +- Project [Id#14551, Entidad#14552, Origen_Solicitud#14553, Identificadores_Origen#14554, Entidad_Norm#7034, CIF#6977, CIF_validacion#14557, Centro#14558, Centro_Norm#14559, Tipo#14560, Provincia_Entidad#7091, Pais_Entidad#14562, Provincia_Centro#14563, PIC#14564, Tipo_Persona#14565, Entidad_Match#14566, Provincia_Match#14567, Match#14568, Id_NIVEL_1#14569, Id_NIVEL_0#14570, ID_ENTIDAD_NIVEL_0#14571, ID_ENTIDAD_NIVEL_1#14572, Jerarquia#14573, NIF_COD_NIVEL_0#14574, ... 64 more fields]\n:        :              :              :                                                              +- Project [Id#14551, Entidad#14552, Origen_Solicitud#14553, Identificadores_Origen#14554, Entidad_Norm#7034, CIF#6977, CIF_validacion#14557, Centro#14558, Centro_Norm#14559, Tipo#14560, Provincia_Entidad#7091, Pais_Entidad#14562, Provincia_Centro#14563, PIC#14564, Tipo_Persona#14565, Entidad_Match#14566, Provincia_Match#14567, Match#14568, Id_NIVEL_1#14569, Id_NIVEL_0#14570, ID_ENTIDAD_NIVEL_0#14571, ID_ENTIDAD_NIVEL_1#14572, Jerarquia#14573, NIF_COD_NIVEL_0#14574, ... 63 more fields]\n:        :              :              :                                                                 +- Project [Id#14551, Entidad#14552, Origen_Solicitud#14553, Identificadores_Origen#14554, Entidad_Norm#7034, CIF#6977, CIF_validacion#14557, Centro#14558, Centro_Norm#14559, Tipo#14560, Provincia_Entidad#7091, Pais_Entidad#14562, Provincia_Centro#14563, PIC#14564, Tipo_Persona#14565, Entidad_Match#14566, Provincia_Match#14567, Match#14568, Id_NIVEL_1#14569, Id_NIVEL_0#14570, ID_ENTIDAD_NIVEL_0#14571, ID_ENTIDAD_NIVEL_1#14572, Jerarquia#14573, NIF_COD_NIVEL_0#14574, ... 62 more fields]\n:        :              :              :                                                                    +- Project [Id#14551, Entidad#14552, Origen_Solicitud#14553, Identificadores_Origen#14554, Entidad_Norm#7034, CIF#6977, CIF_validacion#14557, Centro#14558, Centro_Norm#14559, Tipo#14560, Provincia_Entidad#7091, Pais_Entidad#14562, Provincia_Centro#14563, PIC#14564, Tipo_Persona#14565, Entidad_Match#14566, Provincia_Match#14567, Match#14568, Id_NIVEL_1#14569, Id_NIVEL_0#14570, ID_ENTIDAD_NIVEL_0#14571, ID_ENTIDAD_NIVEL_1#14572, Jerarquia#14573, NIF_COD_NIVEL_0#14574, ... 61 more fields]\n:        :              :              :                                                                       +- Project [Id#14551, Entidad#14552, Origen_Solicitud#14553, Identificadores_Origen#14554, Entidad_Norm#7034, CIF#6977, CIF_validacion#14557, Centro#14558, Centro_Norm#14559, Tipo#14560, Provincia_Entidad#7091, Pais_Entidad#14562, Provincia_Centro#14563, PIC#14564, Tipo_Persona#14565, Entidad_Match#14566, Provincia_Match#14567, Match#14568, Id_NIVEL_1#14569, Id_NIVEL_0#14570, ID_ENTIDAD_NIVEL_0#14571, ID_ENTIDAD_NIVEL_1#14572, Jerarquia#14573, NIF_COD_NIVEL_0#14574, ... 60 more fields]\n:        :              :              :                                                                          +- Project [Id#14551, Entidad#14552, Origen_Solicitud#14553, Identificadores_Origen#14554, Entidad_Norm#7034, CIF#6977, CIF_validacion#14557, Centro#14558, Centro_Norm#14559, Tipo#14560, Provincia_Entidad#7091, Pais_Entidad#14562, Provincia_Centro#14563, PIC#14564, Tipo_Persona#14565, Entidad_Match#14566, Provincia_Match#14567, Match#14568, Id_NIVEL_1#14569, Id_NIVEL_0#14570, ID_ENTIDAD_NIVEL_0#14571, ID_ENTIDAD_NIVEL_1#14572, Jerarquia#14573, NIF_COD_NIVEL_0#14574, ... 59 more fields]\n:        :              :              :                                                                             +- Project [Id#14551, Entidad#14552, Origen_Solicitud#14553, Identificadores_Origen#14554, Entidad_Norm#7034, CIF#6977, CIF_validacion#14557, Centro#14558, Centro_Norm#14559, Tipo#14560, Provincia_Entidad#7091, Pais_Entidad#14562, Provincia_Centro#14563, PIC#14564, Tipo_Persona#14565, Entidad_Match#14566, Provincia_Match#14567, Match#14568, Id_NIVEL_1#14569, Id_NIVEL_0#14570, ID_ENTIDAD_NIVEL_0#14571, ID_ENTIDAD_NIVEL_1#14572, Jerarquia#14573, NIF_COD_NIVEL_0#14574, ... 58 more fields]\n:        :              :              :                                                                                +- Project [Id#14551, Entidad#14552, Origen_Solicitud#14553, Identificadores_Origen#14554, Entidad_Norm#7034, CIF#6977, CIF_validacion#14557, Centro#14558, Centro_Norm#14559, Tipo#14560, Provincia_Entidad#7091, Pais_Entidad#14562, Provincia_Centro#14563, PIC#14564, Tipo_Persona#14565, Entidad_Match#14566, Provincia_Match#14567, Match#14568, Id_NIVEL_1#14569, Id_NIVEL_0#14570, ID_ENTIDAD_NIVEL_0#14571, ID_ENTIDAD_NIVEL_1#14572, Jerarquia#14573, NIF_COD_NIVEL_0#14574, ... 57 more fields]\n:        :              :              :                                                                                   +- Project [Id#14551, Entidad#14552, Origen_Solicitud#14553, Identificadores_Origen#14554, Entidad_Norm#7034, CIF#6977, CIF_validacion#14557, Centro#14558, Centro_Norm#14559, Tipo#14560, Provincia_Entidad#7091, Pais_Entidad#14562, Provincia_Centro#14563, PIC#14564, Tipo_Persona#14565, Entidad_Match#14566, Provincia_Match#14567, Match#14568, Id_NIVEL_1#14569, Id_NIVEL_0#14570, ID_ENTIDAD_NIVEL_0#14571, ID_ENTIDAD_NIVEL_1#14572, Jerarquia#14573, NIF_COD_NIVEL_0#14574, ... 56 more fields]\n:        :              :              :                                                                                      +- Project [Id#14551, Entidad#14552, Origen_Solicitud#14553, Identificadores_Origen#14554, Entidad_Norm#7034, CIF#6977, CIF_validacion#14557, Centro#14558, Centro_Norm#14559, Tipo#14560, Provincia_Entidad#7091, Pais_Entidad#14562, Provincia_Centro#14563, PIC#14564, Tipo_Persona#14565, Entidad_Match#14566, Provincia_Match#14567, Match#14568, Id_NIVEL_1#14569, Id_NIVEL_0#14570, ID_ENTIDAD_NIVEL_0#14571, ID_ENTIDAD_NIVEL_1#14572, Jerarquia#14573, NIF_COD_NIVEL_0#14574, ... 55 more fields]\n:        :              :              :                                                                                         +- Project [Id#14551, Entidad#14552, Origen_Solicitud#14553, Identificadores_Origen#14554, Entidad_Norm#7034, CIF#6977, CIF_validacion#14557, Centro#14558, Centro_Norm#14559, Tipo#14560, Provincia_Entidad#7091, Pais_Entidad#14562, Provincia_Centro#14563, PIC#14564, Tipo_Persona#14565, Entidad_Match#14566, Provincia_Match#14567, Match#14568, Id_NIVEL_1#14569, Id_NIVEL_0#14570, ID_ENTIDAD_NIVEL_0#14571, ID_ENTIDAD_NIVEL_1#14572, Jerarquia#14573, NIF_COD_NIVEL_0#14574, ... 54 more fields]\n:        :              :              :                                                                                            +- Project [Id#14551, Entidad#14552, Origen_Solicitud#14553, Identificadores_Origen#14554, Entidad_Norm#7034, CIF#6977, CIF_validacion#14557, Centro#14558, Centro_Norm#14559, Tipo#14560, Provincia_Entidad#7091, Pais_Entidad#14562, Provincia_Centro#14563, PIC#14564, Tipo_Persona#14565, Entidad_Match#14566, Provincia_Match#14567, Match#14568, Id_NIVEL_1#14569, Id_NIVEL_0#14570, ID_ENTIDAD_NIVEL_0#14571, ID_ENTIDAD_NIVEL_1#14572, Jerarquia#14573, NIF_COD_NIVEL_0#14574, ... 53 more fields]\n:        :              :              :                                                                                               +- Project [Id#14551, Entidad#14552, Origen_Solicitud#14553, Identificadores_Origen#14554, Entidad_Norm#7034, CIF#6977, CIF_validacion#14557, Centro#14558, Centro_Norm#14559, Tipo#14560, Provincia_Entidad#7091, Pais_Entidad#14562, Provincia_Centro#14563, PIC#14564, Tipo_Persona#14565, Entidad_Match#14566, Provincia_Match#14567, Match#14568, Id_NIVEL_1#14569, Id_NIVEL_0#14570, ID_ENTIDAD_NIVEL_0#14571, ID_ENTIDAD_NIVEL_1#14572, Jerarquia#14573, NIF_COD_NIVEL_0#14574, ... 52 more fields]\n:        :              :              :                                                                                                  +- Project [Id#14551, Entidad#14552, Origen_Solicitud#14553, Identificadores_Origen#14554, Entidad_Norm#7034, CIF#6977, CIF_validacion#14557, Centro#14558, Centro_Norm#14559, Tipo#14560, Provincia_Entidad#7091, Pais_Entidad#14562, Provincia_Centro#14563, PIC#14564, Tipo_Persona#14565, Entidad_Match#14566, Provincia_Match#14567, Match#14568, Id_NIVEL_1#14569, Id_NIVEL_0#14570, ID_ENTIDAD_NIVEL_0#14571, ID_ENTIDAD_NIVEL_1#14572, Jerarquia#14573, NIF_COD_NIVEL_0#14574, ... 51 more fields]\n:        :              :              :                                                                                                     +- Project [Id#14551, Entidad#14552, Origen_Solicitud#14553, Identificadores_Origen#14554, Entidad_Norm#7034, CIF#6977, CIF_validacion#14557, Centro#14558, Centro_Norm#14559, Tipo#14560, Provincia_Entidad#7091, Pais_Entidad#14562, Provincia_Centro#14563, PIC#14564, Tipo_Persona#14565, Entidad_Match#14566, Provincia_Match#14567, Match#14568, Id_NIVEL_1#14569, Id_NIVEL_0#14570, ID_ENTIDAD_NIVEL_0#14571, ID_ENTIDAD_NIVEL_1#14572, Jerarquia#14573, NIF_COD_NIVEL_0#14574, ... 50 more fields]\n:        :              :              :                                                                                                        +- Project [Id#14551, Entidad#14552, Origen_Solicitud#14553, Identificadores_Origen#14554, Entidad_Norm#7034, CIF#6977, CIF_validacion#14557, Centro#14558, Centro_Norm#14559, Tipo#14560, Provincia_Entidad#7091, Pais_Entidad#14562, Provincia_Centro#14563, PIC#14564, Tipo_Persona#14565, Entidad_Match#14566, Provincia_Match#14567, Match#14568, Id_NIVEL_1#14569, Id_NIVEL_0#14570, ID_ENTIDAD_NIVEL_0#14571, ID_ENTIDAD_NIVEL_1#14572, Jerarquia#14573, NIF_COD_NIVEL_0#14574, ... 49 more fields]\n:        :              :              :                                                                                                           +- Project [Id#14551, Entidad#14552, Origen_Solicitud#14553, Identificadores_Origen#14554, Entidad_Norm#7034, CIF#6977, CIF_validacion#14557, Centro#14558, Centro_Norm#14559, Tipo#14560, Provincia_Entidad#7091, Pais_Entidad#14562, Provincia_Centro#14563, PIC#14564, Tipo_Persona#14565, Entidad_Match#14566, Provincia_Match#14567, Match#14568, Id_NIVEL_1#14569, Id_NIVEL_0#14570, ID_ENTIDAD_NIVEL_0#14571, ID_ENTIDAD_NIVEL_1#14572, Jerarquia#14573, NIF_COD_NIVEL_0#14574, ... 48 more fields]\n:        :              :              :                                                                                                              +- Project [Id#14551, Entidad#14552, Origen_Solicitud#14553, Identificadores_Origen#14554, Entidad_Norm#7034, CIF#6977, CIF_validacion#14557, Centro#14558, Centro_Norm#14559, Tipo#14560, Provincia_Entidad#7091, Pais_Entidad#14562, Provincia_Centro#14563, PIC#14564, Tipo_Persona#14565, Entidad_Match#14566, Provincia_Match#14567, Match#14568, Id_NIVEL_1#14569, Id_NIVEL_0#14570, ID_ENTIDAD_NIVEL_0#14571, ID_ENTIDAD_NIVEL_1#14572, Jerarquia#14573, NIF_COD_NIVEL_0#14574, ... 47 more fields]\n:        :              :              :                                                                                                                 +- Project [Id#14551, Entidad#14552, Origen_Solicitud#14553, Identificadores_Origen#14554, Entidad_Norm#7034, CIF#6977, CIF_validacion#14557, Centro#14558, Centro_Norm#14559, Tipo#14560, Provincia_Entidad#7091, Pais_Entidad#14562, Provincia_Centro#14563, PIC#14564, Tipo_Persona#14565, Entidad_Match#14566, Provincia_Match#14567, Match#14568, Id_NIVEL_1#14569, Id_NIVEL_0#14570, ID_ENTIDAD_NIVEL_0#14571, ID_ENTIDAD_NIVEL_1#14572, Jerarquia#14573, NIF_COD_NIVEL_0#14574, ... 46 more fields]\n:        :              :              :                                                                                                                    +- Project [Id#14551, Entidad#14552, Origen_Solicitud#14553, Identificadores_Origen#14554, Entidad_Norm#7034, CIF#6977, CIF_validacion#14557, Centro#14558, Centro_Norm#14559, Tipo#14560, Provincia_Entidad#7091, Pais_Entidad#14562, Provincia_Centro#14563, PIC#14564, Tipo_Persona#14565, Entidad_Match#14566, Provincia_Match#14567, Match#14568, Id_NIVEL_1#14569, Id_NIVEL_0#14570, ID_ENTIDAD_NIVEL_0#14571, ID_ENTIDAD_NIVEL_1#14572, Jerarquia#14573, NIF_COD_NIVEL_0#14574, ... 45 more fields]\n:        :              :              :                                                                                                                       +- Project [Id#14551, Entidad#14552, Origen_Solicitud#14553, Identificadores_Origen#14554, Entidad_Norm#7034, CIF#6977, CIF_validacion#14557, Centro#14558, Centro_Norm#14559, Tipo#14560, Provincia_Entidad#7091, Pais_Entidad#14562, Provincia_Centro#14563, PIC#14564, Tipo_Persona#14565, Entidad_Match#14566, Provincia_Match#14567, Match#14568, Id_NIVEL_1#14569, Id_NIVEL_0#14570, ID_ENTIDAD_NIVEL_0#14571, ID_ENTIDAD_NIVEL_1#14572, Jerarquia#14573, NIF_COD_NIVEL_0#14574, ... 44 more fields]\n:        :              :              :                                                                                                                          +- Project [Id#14551, Entidad#14552, Origen_Solicitud#14553, Identificadores_Origen#14554, Entidad_Norm#7034, CIF#6977, CIF_validacion#14557, Centro#14558, Centro_Norm#14559, Tipo#14560, Provincia_Entidad#7091, Pais_Entidad#14562, Provincia_Centro#14563, PIC#14564, Tipo_Persona#14565, Entidad_Match#14566, Provincia_Match#14567, Match#14568, Id_NIVEL_1#14569, Id_NIVEL_0#14570, ID_ENTIDAD_NIVEL_0#14571, ID_ENTIDAD_NIVEL_1#14572, Jerarquia#14573, NIF_COD_NIVEL_0#14574, ... 43 more fields]\n:        :              :              :                                                                                                                             +- Project [Id#14551, Entidad#14552, Origen_Solicitud#14553, Identificadores_Origen#14554, Entidad_Norm#7034, CIF#6977, CIF_validacion#14557, Centro#14558, Centro_Norm#14559, Tipo#14560, Provincia_Entidad#7091, Pais_Entidad#14562, Provincia_Centro#14563, PIC#14564, Tipo_Persona#14565, Entidad_Match#14566, Provincia_Match#14567, Match#14568, Id_NIVEL_1#14569, Id_NIVEL_0#14570, ID_ENTIDAD_NIVEL_0#14571, ID_ENTIDAD_NIVEL_1#14572, Jerarquia#14573, NIF_COD_NIVEL_0#14574, ... 42 more fields]\n:        :              :              :                                                                                                                                +- Project [Id#14551, Entidad#14552, Origen_Solicitud#14553, Identificadores_Origen#14554, Entidad_Norm#7034, CIF#6977, CIF_validacion#14557, Centro#14558, Centro_Norm#14559, Tipo#14560, Provincia_Entidad#7091, Pais_Entidad#14562, Provincia_Centro#14563, PIC#14564, Tipo_Persona#14565, Entidad_Match#14566, Provincia_Match#14567, Match#14568, Id_NIVEL_1#14569, Id_NIVEL_0#14570, ID_ENTIDAD_NIVEL_0#14571, ID_ENTIDAD_NIVEL_1#14572, Jerarquia#14573, NIF_COD_NIVEL_0#14574, ... 41 more fields]\n:        :              :              :                                                                                                                                   +- Project [Id#14551, Entidad#14552, Origen_Solicitud#14553, Identificadores_Origen#14554, Entidad_Norm#7034, CIF#6977, CIF_validacion#14557, Centro#14558, Centro_Norm#14559, Tipo#14560, Provincia_Entidad#7091, Pais_Entidad#14562, Provincia_Centro#14563, PIC#14564, Tipo_Persona#14565, Entidad_Match#14566, Provincia_Match#14567, Match#14568, Id_NIVEL_1#14569, Id_NIVEL_0#14570, ID_ENTIDAD_NIVEL_0#14571, ID_ENTIDAD_NIVEL_1#14572, Jerarquia#14573, NIF_COD_NIVEL_0#14574, ... 40 more fields]\n:        :              :              :                                                                                                                                      +- Project [Id#14551, Entidad#14552, Origen_Solicitud#14553, Identificadores_Origen#14554, Entidad_Norm#7034, CIF#6977, CIF_validacion#14557, Centro#14558, Centro_Norm#14559, Tipo#14560, Provincia_Entidad#7091, Pais_Entidad#14562, Provincia_Centro#14563, PIC#14564, Tipo_Persona#14565, Entidad_Match#14566, Provincia_Match#14567, Match#14568, Id_NIVEL_1#14569, Id_NIVEL_0#14570, ID_ENTIDAD_NIVEL_0#14571, ID_ENTIDAD_NIVEL_1#14572, Jerarquia#14573, NIF_COD_NIVEL_0#14574, ... 39 more fields]\n:        :              :              :                                                                                                                                         +- Project [Id#14551, Entidad#14552, Origen_Solicitud#14553, Identificadores_Origen#14554, Entidad_Norm#7034, CIF#6977, CIF_validacion#14557, Centro#14558, Centro_Norm#14559, Tipo#14560, Provincia_Entidad#7091, Pais_Entidad#14562, Provincia_Centro#14563, PIC#14564, Tipo_Persona#14565, Entidad_Match#14566, Provincia_Match#14567, Match#14568, Id_NIVEL_1#14569, Id_NIVEL_0#14570, ID_ENTIDAD_NIVEL_0#14571, ID_ENTIDAD_NIVEL_1#14572, Jerarquia#14573, NIF_COD_NIVEL_0#14574, ... 38 more fields]\n:        :              :              :                                                                                                                                            +- Project [Id#14551, Entidad#14552, Origen_Solicitud#14553, Identificadores_Origen#14554, Entidad_Norm#7034, CIF#6977, CIF_validacion#14557, Centro#14558, Centro_Norm#14559, Tipo#14560, Provincia_Entidad#7091, Pais_Entidad#14562, Provincia_Centro#14563, PIC#14564, Tipo_Persona#14565, Entidad_Match#14566, Provincia_Match#14567, Match#14568, Id_NIVEL_1#14569, Id_NIVEL_0#14570, ID_ENTIDAD_NIVEL_0#14571, ID_ENTIDAD_NIVEL_1#14572, Jerarquia#14573, NIF_COD_NIVEL_0#14574, ... 37 more fields]\n:        :              :              :                                                                                                                                               +- Project [Id#14551, Entidad#14552, Origen_Solicitud#14553, Identificadores_Origen#14554, Entidad_Norm#7034, CIF#6977, CIF_validacion#14557, Centro#14558, Centro_Norm#14559, Tipo#14560, Provincia_Entidad#7091, Pais_Entidad#14562, Provincia_Centro#14563, PIC#14564, Tipo_Persona#14565, Entidad_Match#14566, Provincia_Match#14567, Match#14568, Id_NIVEL_1#14569, Id_NIVEL_0#14570, ID_ENTIDAD_NIVEL_0#14571, ID_ENTIDAD_NIVEL_1#14572, Jerarquia#14573, NIF_COD_NIVEL_0#14574, ... 36 more fields]\n:        :              :              :                                                                                                                                                  +- Project [Id#14551, Entidad#14552, Origen_Solicitud#14553, Identificadores_Origen#14554, Entidad_Norm#7034, CIF#6977, CIF_validacion#14557, Centro#14558, Centro_Norm#14559, Tipo#14560, Provincia_Entidad#7091, Pais_Entidad#14562, Provincia_Centro#14563, PIC#14564, Tipo_Persona#14565, Entidad_Match#14566, Provincia_Match#14567, Match#14568, Id_NIVEL_1#14569, Id_NIVEL_0#14570, ID_ENTIDAD_NIVEL_0#14571, ID_ENTIDAD_NIVEL_1#14572, Jerarquia#14573, NIF_COD_NIVEL_0#14574, ... 35 more fields]\n:        :              :              :                                                                                                                                                     +- Project [Id#14551, Entidad#14552, Origen_Solicitud#14553, Identificadores_Origen#14554, Entidad_Norm#7034, CIF#6977, CIF_validacion#14557, Centro#14558, Centro_Norm#14559, Tipo#14560, Provincia_Entidad#7091, Pais_Entidad#14562, Provincia_Centro#14563, PIC#14564, Tipo_Persona#14565, Entidad_Match#14566, Provincia_Match#14567, Match#14568, Id_NIVEL_1#14569, Id_NIVEL_0#14570, ID_ENTIDAD_NIVEL_0#14571, ID_ENTIDAD_NIVEL_1#14572, Jerarquia#14573, NIF_COD_NIVEL_0#14574, ... 34 more fields]\n:        :              :              :                                                                                                                                                        +- Project [Id#14551, Entidad#14552, Origen_Solicitud#14553, Identificadores_Origen#14554, Entidad_Norm#7034, CIF#6977, CIF_validacion#14557, Centro#14558, Centro_Norm#14559, Tipo#14560, Provincia_Entidad#7091, Pais_Entidad#14562, Provincia_Centro#14563, PIC#14564, Tipo_Persona#14565, Entidad_Match#14566, Provincia_Match#14567, Match#14568, Id_NIVEL_1#14569, Id_NIVEL_0#14570, ID_ENTIDAD_NIVEL_0#14571, ID_ENTIDAD_NIVEL_1#14572, Jerarquia#14573, NIF_COD_NIVEL_0#14574, ... 33 more fields]\n:        :              :              :                                                                                                                                                           +- Project [Id#14551, Entidad#14552, Origen_Solicitud#14553, Identificadores_Origen#14554, Entidad_Norm#7034, CIF#6977, CIF_validacion#14557, Centro#14558, Centro_Norm#14559, Tipo#14560, Provincia_Centro#14563 AS Provincia_Entidad#7091, Pais_Entidad#14562, Provincia_Centro#14563, PIC#14564, Tipo_Persona#14565, Entidad_Match#14566, Provincia_Match#14567, Match#14568, Id_NIVEL_1#14569, Id_NIVEL_0#14570, ID_ENTIDAD_NIVEL_0#14571, ID_ENTIDAD_NIVEL_1#14572, Jerarquia#14573, NIF_COD_NIVEL_0#14574, ... 32 more fields]\n:        :              :              :                                                                                                                                                              +- Project [Id#14551, Entidad#14552, Origen_Solicitud#14553, Identificadores_Origen#14554, Centro_Norm#14559 AS Entidad_Norm#7034, CIF#6977, CIF_validacion#14557, Centro#14558, Centro_Norm#14559, Tipo#14560, Provincia_Entidad#14561, Pais_Entidad#14562, Provincia_Centro#14563, PIC#14564, Tipo_Persona#14565, Entidad_Match#14566, Provincia_Match#14567, Match#14568, Id_NIVEL_1#14569, Id_NIVEL_0#14570, ID_ENTIDAD_NIVEL_0#14571, ID_ENTIDAD_NIVEL_1#14572, Jerarquia#14573, NIF_COD_NIVEL_0#14574, ... 32 more fields]\n:        :              :              :                                                                                                                                                                 +- Project [Id#14551, Entidad#14552, Origen_Solicitud#14553, Identificadores_Origen#14554, Entidad_Norm#14555, cast(null as string) AS CIF#6977, CIF_validacion#14557, Centro#14558, Centro_Norm#14559, Tipo#14560, Provincia_Entidad#14561, Pais_Entidad#14562, Provincia_Centro#14563, PIC#14564, Tipo_Persona#14565, Entidad_Match#14566, Provincia_Match#14567, Match#14568, Id_NIVEL_1#14569, Id_NIVEL_0#14570, ID_ENTIDAD_NIVEL_0#14571, ID_ENTIDAD_NIVEL_1#14572, Jerarquia#14573, NIF_COD_NIVEL_0#14574, ... 32 more fields]\n:        :              :              :                                                                                                                                                                    +- Filter (cast(Similitud#6866 as double) < cast(0.875 as double))\n:        :              :              :                                                                                                                                                                       +- Project [Id#14551, Entidad#14552, Origen_Solicitud#14553, Identificadores_Origen#14554, Entidad_Norm#14555, CIF#14556, CIF_validacion#14557, Centro#14558, Centro_Norm#14559, Tipo#14560, Provincia_Entidad#14561, Pais_Entidad#14562, Provincia_Centro#14563, PIC#14564, Tipo_Persona#14565, Entidad_Match#14566, Provincia_Match#14567, Match#14568, Id_NIVEL_1#14569, Id_NIVEL_0#14570, ID_ENTIDAD_NIVEL_0#14571, ID_ENTIDAD_NIVEL_1#14572, Jerarquia#14573, NIF_COD_NIVEL_0#14574, ... 32 more fields]\n:        :              :              :                                                                                                                                                                          +- Filter isnotnull(Id_NIVEL_0#14570)\n:        :              :              :                                                                                                                                                                             +- Deduplicate [Pais_Entidad#14562, Id#14551, Centro_Norm#14559, Entidad_Norm#14555, Entidad_Match#14566, Centro#14558, Identificadores_Origen#14554, Tipo#14560, Origen_Solicitud#14553, Entidad#14552, CIF_validacion#14557, Tipo_Persona#14565, Provincia_Match#14567, PIC#14564, CIF#14556, Provincia_Entidad#14561, Provincia_Centro#14563, Match#14568]\n:        :              :              :                                                                                                                                                                                +- Join LeftOuter, (Id#14551 = Id_NIVEL_0#14570)\n:        :              :              :                                                                                                                                                                                   :- Relation [Id#14551,Entidad#14552,Origen_Solicitud#14553,Identificadores_Origen#14554,Entidad_Norm#14555,CIF#14556,CIF_validacion#14557,Centro#14558,Centro_Norm#14559,Tipo#14560,Provincia_Entidad#14561,Pais_Entidad#14562,Provincia_Centro#14563,PIC#14564,Tipo_Persona#14565,Entidad_Match#14566,Provincia_Match#14567,Match#14568] csv\n:        :              :              :                                                                                                                                                                                   +- Relation [Id_NIVEL_1#14569,Id_NIVEL_0#14570,ID_ENTIDAD_NIVEL_0#14571,ID_ENTIDAD_NIVEL_1#14572,Jerarquia#14573,NIF_COD_NIVEL_0#14574,ACRONIMO_NIVEL_0#14575,NOMBRE_ENTIDAD_NIVEL_0#14576,Nombre_Entidad_Mostrar_NIVEL_0#14577,TIPO_ENTIDAD_N1_1_NIVEL_0#14578,TIPO_ENTIDAD_N2_1_NIVEL_0#14579,DIRECCION_POSTAL_NIVEL_0#14580,COD_POSTAL_NIVEL_0#14581,COD_PROVINCIA_NIVEL_0#14582,PROVINCIA_NIVEL_0#14583,COD_CCAA_NIVEL_0#14584,CCAA_NIVEL_0#14585,ENLACE_WEB_NIVEL_0#14586,SOMMA_NIVEL_0#14587,TIPO_ENTIDAD_REGIONAL_NIVEL_0#14588,ESTADO_x_NIVEL_0#14589,NIF_COD_NIVEL_1#14590,ACRONIMO_NIVEL_1#14591,NOMBRE_ENTIDAD_NIVEL_1#14592,... 13 more fields] csv\n:        :              :              +- Project [Id#10956, Dummy#10962]\n:        :              :                 +- Project [Id#10956, Dummy#10958L, Dummy#10962, Dummy#10962]\n:        :              :                    +- Window [row_number() windowspecdefinition(Dummy#10958L ASC NULLS FIRST, specifiedwindowframe(RowFrame, unboundedpreceding$(), currentrow$())) AS Dummy#10962], [Dummy#10958L ASC NULLS FIRST]\n:        :              :                       +- Project [Id#10956, Dummy#10958L]\n:        :              :                          +- Project [Id#10956, monotonically_increasing_id() AS Dummy#10958L]\n:        :              :                             +- Project [value#14606 AS Id#10956]\n:        :              :                                +- LogicalRDD [value#14606], false\n:        :              +- Project [Entidad_Norm#14609, DenominacionSocial#14610, NIF#14612, CodigoInvente#14613, FormaJuridica_Codigo#14614, FormaJuridica_Descripcion#14615, codigoDir3#14616, codigoOrigen#14617, Provincia_Codigo#14611, final_score#14072, DenominacionSocial_Norm#14618]\n:        :                 +- Deduplicate [Entidad_Norm#14609]\n:        :                    +- Sort [final_score#14072 DESC NULLS LAST], true\n:        :                       +- Filter (cast(final_score#14072 as double) >= cast(0.875 as double))\n:        :                          +- Project [source_name#14607, target_name#14608, Entidad_Norm#14609, DenominacionSocial#14610, Provincia_Codigo#14611, NIF#14612, CodigoInvente#14613, FormaJuridica_Codigo#14614, FormaJuridica_Descripcion#14615, codigoDir3#14616, codigoOrigen#14617, DenominacionSocial_Norm#14618, source_names_stopwords#13971, target_names_stopwords#14023, CASE WHEN NOT (source_names_stopwords#13971 = target_names_stopwords#14023) THEN final_score#14040 ELSE cast(1 as float) END AS final_score#14072]\n:        :                             +- Project [source_name#14607, target_name#14608, Entidad_Norm#14609, DenominacionSocial#14610, Provincia_Codigo#14611, NIF#14612, CodigoInvente#14613, FormaJuridica_Codigo#14614, FormaJuridica_Descripcion#14615, codigoDir3#14616, codigoOrigen#14617, DenominacionSocial_Norm#14618, source_names_stopwords#13971, target_names_stopwords#14023, final_score#14040]\n:        :                                +- Project [source_name#14607, target_name#14608, Entidad_Norm#14609, DenominacionSocial#14610, Provincia_Codigo#14611, NIF#14612, CodigoInvente#14613, FormaJuridica_Codigo#14614, FormaJuridica_Descripcion#14615, codigoDir3#14616, codigoOrigen#14617, DenominacionSocial_Norm#14618, aux#13986, source_names_stopwords#13971, target_names_stopwords#14023, Distance_ratcliff_obershelp(source_names_stopwords#13971, target_names_stopwords#14023)#14039 AS final_score#14040]\n:        :                                   +- Project [source_name#14607, target_name#14608, Entidad_Norm#14609, DenominacionSocial#14610, Provincia_Codigo#14611, NIF#14612, CodigoInvente#14613, FormaJuridica_Codigo#14614, FormaJuridica_Descripcion#14615, codigoDir3#14616, codigoOrigen#14617, DenominacionSocial_Norm#14618, aux#13986, source_names_stopwords#13971, array_join(target_names_stopwords#14004,  , None) AS target_names_stopwords#14023]\n:        :                                      +- Project [source_name#14607, target_name#14608, Entidad_Norm#14609, DenominacionSocial#14610, Provincia_Codigo#14611, NIF#14612, CodigoInvente#14613, FormaJuridica_Codigo#14614, FormaJuridica_Descripcion#14615, codigoDir3#14616, codigoOrigen#14617, DenominacionSocial_Norm#14618, aux#13986, source_names_stopwords#13971, UDF(aux#13986) AS target_names_stopwords#14004]\n:        :                                         +- Project [source_name#14607, target_name#14608, Entidad_Norm#14609, DenominacionSocial#14610, Provincia_Codigo#14611, NIF#14612, CodigoInvente#14613, FormaJuridica_Codigo#14614, FormaJuridica_Descripcion#14615, codigoDir3#14616, codigoOrigen#14617, DenominacionSocial_Norm#14618, split(target_name#14608, \\s+, -1) AS aux#13986, source_names_stopwords#13971]\n:        :                                            +- Project [source_name#14607, target_name#14608, Entidad_Norm#14609, DenominacionSocial#14610, Provincia_Codigo#14611, NIF#14612, CodigoInvente#14613, FormaJuridica_Codigo#14614, FormaJuridica_Descripcion#14615, codigoDir3#14616, codigoOrigen#14617, DenominacionSocial_Norm#14618, aux#13936, array_join(source_names_stopwords#13953,  , None) AS source_names_stopwords#13971]\n:        :                                               +- Project [source_name#14607, target_name#14608, Entidad_Norm#14609, DenominacionSocial#14610, Provincia_Codigo#14611, NIF#14612, CodigoInvente#14613, FormaJuridica_Codigo#14614, FormaJuridica_Descripcion#14615, codigoDir3#14616, codigoOrigen#14617, DenominacionSocial_Norm#14618, aux#13936, UDF(aux#13936) AS source_names_stopwords#13953]\n:        :                                                  +- Project [source_name#14607, target_name#14608, Entidad_Norm#14609, DenominacionSocial#14610, Provincia_Codigo#14611, NIF#14612, CodigoInvente#14613, FormaJuridica_Codigo#14614, FormaJuridica_Descripcion#14615, codigoDir3#14616, codigoOrigen#14617, DenominacionSocial_Norm#14618, split(source_name#14607, \\s+, -1) AS aux#13936]\n:        :                                                     +- LogicalRDD [source_name#14607, target_name#14608, Entidad_Norm#14609, DenominacionSocial#14610, Provincia_Codigo#14611, NIF#14612, CodigoInvente#14613, FormaJuridica_Codigo#14614, FormaJuridica_Descripcion#14615, codigoDir3#14616, codigoOrigen#14617, DenominacionSocial_Norm#14618], false\n:        +- Project [Entidad_Norm#32048, final_score#32306, C_ID_UD_ORGANICA#32049, C_DNM_UD_ORGANICA#32050, C_ID_NIVEL_ADMON#32051, C_ID_TIPO_ENT_PUBLICA#32052, N_NIVEL_JERARQUICO#32053, C_ID_DEP_UD_SUPERIOR#32054, C_DNM_UD_ORGANICA_SUPERIOR#32055, C_ID_DEP_UD_PRINCIPAL#32056, C_DNM_UD_ORGANICA_PRINCIPAL#32057, B_SW_DEP_EDP_PRINCIPAL#32058, C_ID_DEP_EDP_PRINCIPAL#32059, C_DNM_UD_ORGANICA_EDP_PRINCIPAL#32060, C_ID_ESTADO#32061, D_VIG_ALTA_OFICIAL#32062, NIF_CIF#32063, C_ID_AMB_PROVINCIA#32064, C_DESC_PROV#32065, CONTACTOS#32066, C_DNM_UD_ORGANICA_Norm#32067]\n:           +- Union false, false\n:              :- Project [source_name#32046, target_name#32047, Entidad_Norm#32048, C_ID_UD_ORGANICA#32049, C_DNM_UD_ORGANICA#32050, C_ID_NIVEL_ADMON#32051, C_ID_TIPO_ENT_PUBLICA#32052, N_NIVEL_JERARQUICO#32053, C_ID_DEP_UD_SUPERIOR#32054, C_DNM_UD_ORGANICA_SUPERIOR#32055, C_ID_DEP_UD_PRINCIPAL#32056, C_DNM_UD_ORGANICA_PRINCIPAL#32057, B_SW_DEP_EDP_PRINCIPAL#32058, C_ID_DEP_EDP_PRINCIPAL#32059, C_DNM_UD_ORGANICA_EDP_PRINCIPAL#32060, C_ID_ESTADO#32061, D_VIG_ALTA_OFICIAL#32062, NIF_CIF#32063, C_ID_AMB_PROVINCIA#32064, C_DESC_PROV#32065, CONTACTOS#32066, C_DNM_UD_ORGANICA_Norm#32067, source_names_stopwords#32145, target_names_stopwords#32227, final_score#32306]\n:              :  +- Filter (cnt#33400L = cast(1 as bigint))\n:              :     +- Project [source_name#32046, target_name#32047, Entidad_Norm#32048, C_ID_UD_ORGANICA#32049, C_DNM_UD_ORGANICA#32050, C_ID_NIVEL_ADMON#32051, C_ID_TIPO_ENT_PUBLICA#32052, N_NIVEL_JERARQUICO#32053, C_ID_DEP_UD_SUPERIOR#32054, C_DNM_UD_ORGANICA_SUPERIOR#32055, C_ID_DEP_UD_PRINCIPAL#32056, C_DNM_UD_ORGANICA_PRINCIPAL#32057, B_SW_DEP_EDP_PRINCIPAL#32058, C_ID_DEP_EDP_PRINCIPAL#32059, C_DNM_UD_ORGANICA_EDP_PRINCIPAL#32060, C_ID_ESTADO#32061, D_VIG_ALTA_OFICIAL#32062, NIF_CIF#32063, C_ID_AMB_PROVINCIA#32064, C_DESC_PROV#32065, CONTACTOS#32066, C_DNM_UD_ORGANICA_Norm#32067, source_names_stopwords#32145, target_names_stopwords#32227, ... 2 more fields]\n:              :        +- Project [source_name#32046, target_name#32047, Entidad_Norm#32048, C_ID_UD_ORGANICA#32049, C_DNM_UD_ORGANICA#32050, C_ID_NIVEL_ADMON#32051, C_ID_TIPO_ENT_PUBLICA#32052, N_NIVEL_JERARQUICO#32053, C_ID_DEP_UD_SUPERIOR#32054, C_DNM_UD_ORGANICA_SUPERIOR#32055, C_ID_DEP_UD_PRINCIPAL#32056, C_DNM_UD_ORGANICA_PRINCIPAL#32057, B_SW_DEP_EDP_PRINCIPAL#32058, C_ID_DEP_EDP_PRINCIPAL#32059, C_DNM_UD_ORGANICA_EDP_PRINCIPAL#32060, C_ID_ESTADO#32061, D_VIG_ALTA_OFICIAL#32062, NIF_CIF#32063, C_ID_AMB_PROVINCIA#32064, C_DESC_PROV#32065, CONTACTOS#32066, C_DNM_UD_ORGANICA_Norm#32067, source_names_stopwords#32145, target_names_stopwords#32227, ... 3 more fields]\n:              :           +- Window [count(1) windowspecdefinition(Entidad_Norm#32048, specifiedwindowframe(RowFrame, unboundedpreceding$(), unboundedfollowing$())) AS cnt#33400L], [Entidad_Norm#32048]\n:              :              +- Project [source_name#32046, target_name#32047, Entidad_Norm#32048, C_ID_UD_ORGANICA#32049, C_DNM_UD_ORGANICA#32050, C_ID_NIVEL_ADMON#32051, C_ID_TIPO_ENT_PUBLICA#32052, N_NIVEL_JERARQUICO#32053, C_ID_DEP_UD_SUPERIOR#32054, C_DNM_UD_ORGANICA_SUPERIOR#32055, C_ID_DEP_UD_PRINCIPAL#32056, C_DNM_UD_ORGANICA_PRINCIPAL#32057, B_SW_DEP_EDP_PRINCIPAL#32058, C_ID_DEP_EDP_PRINCIPAL#32059, C_DNM_UD_ORGANICA_EDP_PRINCIPAL#32060, C_ID_ESTADO#32061, D_VIG_ALTA_OFICIAL#32062, NIF_CIF#32063, C_ID_AMB_PROVINCIA#32064, C_DESC_PROV#32065, CONTACTOS#32066, C_DNM_UD_ORGANICA_Norm#32067, source_names_stopwords#32145, target_names_stopwords#32227, final_score#32306]\n:              :                 +- Deduplicate [Entidad_Norm#32048, C_DNM_UD_ORGANICA_Norm#32067]\n:              :                    +- Filter (cast(final_score#32306 as double) >= cast(0.875 as double))\n:              :                       +- Project [source_name#32046, target_name#32047, Entidad_Norm#32048, C_ID_UD_ORGANICA#32049, C_DNM_UD_ORGANICA#32050, C_ID_NIVEL_ADMON#32051, C_ID_TIPO_ENT_PUBLICA#32052, N_NIVEL_JERARQUICO#32053, C_ID_DEP_UD_SUPERIOR#32054, C_DNM_UD_ORGANICA_SUPERIOR#32055, C_ID_DEP_UD_PRINCIPAL#32056, C_DNM_UD_ORGANICA_PRINCIPAL#32057, B_SW_DEP_EDP_PRINCIPAL#32058, C_ID_DEP_EDP_PRINCIPAL#32059, C_DNM_UD_ORGANICA_EDP_PRINCIPAL#32060, C_ID_ESTADO#32061, D_VIG_ALTA_OFICIAL#32062, NIF_CIF#32063, C_ID_AMB_PROVINCIA#32064, C_DESC_PROV#32065, CONTACTOS#32066, C_DNM_UD_ORGANICA_Norm#32067, source_names_stopwords#32145, target_names_stopwords#32227, CASE WHEN NOT (source_names_stopwords#32145 = target_names_stopwords#32227) THEN final_score#32254 ELSE cast(1 as float) END AS final_score#32306]\n:              :                          +- Project [source_name#32046, target_name#32047, Entidad_Norm#32048, C_ID_UD_ORGANICA#32049, C_DNM_UD_ORGANICA#32050, C_ID_NIVEL_ADMON#32051, C_ID_TIPO_ENT_PUBLICA#32052, N_NIVEL_JERARQUICO#32053, C_ID_DEP_UD_SUPERIOR#32054, C_DNM_UD_ORGANICA_SUPERIOR#32055, C_ID_DEP_UD_PRINCIPAL#32056, C_DNM_UD_ORGANICA_PRINCIPAL#32057, B_SW_DEP_EDP_PRINCIPAL#32058, C_ID_DEP_EDP_PRINCIPAL#32059, C_DNM_UD_ORGANICA_EDP_PRINCIPAL#32060, C_ID_ESTADO#32061, D_VIG_ALTA_OFICIAL#32062, NIF_CIF#32063, C_ID_AMB_PROVINCIA#32064, C_DESC_PROV#32065, CONTACTOS#32066, C_DNM_UD_ORGANICA_Norm#32067, source_names_stopwords#32145, target_names_stopwords#32227, final_score#32254]\n:              :                             +- Project [source_name#32046, target_name#32047, Entidad_Norm#32048, C_ID_UD_ORGANICA#32049, C_DNM_UD_ORGANICA#32050, C_ID_NIVEL_ADMON#32051, C_ID_TIPO_ENT_PUBLICA#32052, N_NIVEL_JERARQUICO#32053, C_ID_DEP_UD_SUPERIOR#32054, C_DNM_UD_ORGANICA_SUPERIOR#32055, C_ID_DEP_UD_PRINCIPAL#32056, C_DNM_UD_ORGANICA_PRINCIPAL#32057, B_SW_DEP_EDP_PRINCIPAL#32058, C_ID_DEP_EDP_PRINCIPAL#32059, C_DNM_UD_ORGANICA_EDP_PRINCIPAL#32060, C_ID_ESTADO#32061, D_VIG_ALTA_OFICIAL#32062, NIF_CIF#32063, C_ID_AMB_PROVINCIA#32064, C_DESC_PROV#32065, CONTACTOS#32066, C_DNM_UD_ORGANICA_Norm#32067, aux#32170, source_names_stopwords#32145, ... 2 more fields]\n:              :                                +- Project [source_name#32046, target_name#32047, Entidad_Norm#32048, C_ID_UD_ORGANICA#32049, C_DNM_UD_ORGANICA#32050, C_ID_NIVEL_ADMON#32051, C_ID_TIPO_ENT_PUBLICA#32052, N_NIVEL_JERARQUICO#32053, C_ID_DEP_UD_SUPERIOR#32054, C_DNM_UD_ORGANICA_SUPERIOR#32055, C_ID_DEP_UD_PRINCIPAL#32056, C_DNM_UD_ORGANICA_PRINCIPAL#32057, B_SW_DEP_EDP_PRINCIPAL#32058, C_ID_DEP_EDP_PRINCIPAL#32059, C_DNM_UD_ORGANICA_EDP_PRINCIPAL#32060, C_ID_ESTADO#32061, D_VIG_ALTA_OFICIAL#32062, NIF_CIF#32063, C_ID_AMB_PROVINCIA#32064, C_DESC_PROV#32065, CONTACTOS#32066, C_DNM_UD_ORGANICA_Norm#32067, aux#32170, source_names_stopwords#32145, array_join(target_names_stopwords#32198,  , None) AS target_names_stopwords#32227]\n:              :                                   +- Project [source_name#32046, target_name#32047, Entidad_Norm#32048, C_ID_UD_ORGANICA#32049, C_DNM_UD_ORGANICA#32050, C_ID_NIVEL_ADMON#32051, C_ID_TIPO_ENT_PUBLICA#32052, N_NIVEL_JERARQUICO#32053, C_ID_DEP_UD_SUPERIOR#32054, C_DNM_UD_ORGANICA_SUPERIOR#32055, C_ID_DEP_UD_PRINCIPAL#32056, C_DNM_UD_ORGANICA_PRINCIPAL#32057, B_SW_DEP_EDP_PRINCIPAL#32058, C_ID_DEP_EDP_PRINCIPAL#32059, C_DNM_UD_ORGANICA_EDP_PRINCIPAL#32060, C_ID_ESTADO#32061, D_VIG_ALTA_OFICIAL#32062, NIF_CIF#32063, C_ID_AMB_PROVINCIA#32064, C_DESC_PROV#32065, CONTACTOS#32066, C_DNM_UD_ORGANICA_Norm#32067, aux#32170, source_names_stopwords#32145, UDF(aux#32170) AS target_names_stopwords#32198]\n:              :                                      +- Project [source_name#32046, target_name#32047, Entidad_Norm#32048, C_ID_UD_ORGANICA#32049, C_DNM_UD_ORGANICA#32050, C_ID_NIVEL_ADMON#32051, C_ID_TIPO_ENT_PUBLICA#32052, N_NIVEL_JERARQUICO#32053, C_ID_DEP_UD_SUPERIOR#32054, C_DNM_UD_ORGANICA_SUPERIOR#32055, C_ID_DEP_UD_PRINCIPAL#32056, C_DNM_UD_ORGANICA_PRINCIPAL#32057, B_SW_DEP_EDP_PRINCIPAL#32058, C_ID_DEP_EDP_PRINCIPAL#32059, C_DNM_UD_ORGANICA_EDP_PRINCIPAL#32060, C_ID_ESTADO#32061, D_VIG_ALTA_OFICIAL#32062, NIF_CIF#32063, C_ID_AMB_PROVINCIA#32064, C_DESC_PROV#32065, CONTACTOS#32066, C_DNM_UD_ORGANICA_Norm#32067, split(target_name#32047, \\s+, -1) AS aux#32170, source_names_stopwords#32145]\n:              :                                         +- Project [source_name#32046, target_name#32047, Entidad_Norm#32048, C_ID_UD_ORGANICA#32049, C_DNM_UD_ORGANICA#32050, C_ID_NIVEL_ADMON#32051, C_ID_TIPO_ENT_PUBLICA#32052, N_NIVEL_JERARQUICO#32053, C_ID_DEP_UD_SUPERIOR#32054, C_DNM_UD_ORGANICA_SUPERIOR#32055, C_ID_DEP_UD_PRINCIPAL#32056, C_DNM_UD_ORGANICA_PRINCIPAL#32057, B_SW_DEP_EDP_PRINCIPAL#32058, C_ID_DEP_EDP_PRINCIPAL#32059, C_DNM_UD_ORGANICA_EDP_PRINCIPAL#32060, C_ID_ESTADO#32061, D_VIG_ALTA_OFICIAL#32062, NIF_CIF#32063, C_ID_AMB_PROVINCIA#32064, C_DESC_PROV#32065, CONTACTOS#32066, C_DNM_UD_ORGANICA_Norm#32067, aux#32090, array_join(source_names_stopwords#32117,  , None) AS source_names_stopwords#32145]\n:              :                                            +- Project [source_name#32046, target_name#32047, Entidad_Norm#32048, C_ID_UD_ORGANICA#32049, C_DNM_UD_ORGANICA#32050, C_ID_NIVEL_ADMON#32051, C_ID_TIPO_ENT_PUBLICA#32052, N_NIVEL_JERARQUICO#32053, C_ID_DEP_UD_SUPERIOR#32054, C_DNM_UD_ORGANICA_SUPERIOR#32055, C_ID_DEP_UD_PRINCIPAL#32056, C_DNM_UD_ORGANICA_PRINCIPAL#32057, B_SW_DEP_EDP_PRINCIPAL#32058, C_ID_DEP_EDP_PRINCIPAL#32059, C_DNM_UD_ORGANICA_EDP_PRINCIPAL#32060, C_ID_ESTADO#32061, D_VIG_ALTA_OFICIAL#32062, NIF_CIF#32063, C_ID_AMB_PROVINCIA#32064, C_DESC_PROV#32065, CONTACTOS#32066, C_DNM_UD_ORGANICA_Norm#32067, aux#32090, UDF(aux#32090) AS source_names_stopwords#32117]\n:              :                                               +- Project [source_name#32046, target_name#32047, Entidad_Norm#32048, C_ID_UD_ORGANICA#32049, C_DNM_UD_ORGANICA#32050, C_ID_NIVEL_ADMON#32051, C_ID_TIPO_ENT_PUBLICA#32052, N_NIVEL_JERARQUICO#32053, C_ID_DEP_UD_SUPERIOR#32054, C_DNM_UD_ORGANICA_SUPERIOR#32055, C_ID_DEP_UD_PRINCIPAL#32056, C_DNM_UD_ORGANICA_PRINCIPAL#32057, B_SW_DEP_EDP_PRINCIPAL#32058, C_ID_DEP_EDP_PRINCIPAL#32059, C_DNM_UD_ORGANICA_EDP_PRINCIPAL#32060, C_ID_ESTADO#32061, D_VIG_ALTA_OFICIAL#32062, NIF_CIF#32063, C_ID_AMB_PROVINCIA#32064, C_DESC_PROV#32065, CONTACTOS#32066, C_DNM_UD_ORGANICA_Norm#32067, split(source_name#32046, \\s+, -1) AS aux#32090]\n:              :                                                  +- LogicalRDD [source_name#32046, target_name#32047, Entidad_Norm#32048, C_ID_UD_ORGANICA#32049, C_DNM_UD_ORGANICA#32050, C_ID_NIVEL_ADMON#32051, C_ID_TIPO_ENT_PUBLICA#32052, N_NIVEL_JERARQUICO#32053, C_ID_DEP_UD_SUPERIOR#32054, C_DNM_UD_ORGANICA_SUPERIOR#32055, C_ID_DEP_UD_PRINCIPAL#32056, C_DNM_UD_ORGANICA_PRINCIPAL#32057, B_SW_DEP_EDP_PRINCIPAL#32058, C_ID_DEP_EDP_PRINCIPAL#32059, C_DNM_UD_ORGANICA_EDP_PRINCIPAL#32060, C_ID_ESTADO#32061, D_VIG_ALTA_OFICIAL#32062, NIF_CIF#32063, C_ID_AMB_PROVINCIA#32064, C_DESC_PROV#32065, CONTACTOS#32066, C_DNM_UD_ORGANICA_Norm#32067], false\n:              :- Project [Entidad_Norm#33718 AS Entidad_Norm#33738, source_name#33716 AS source_name#33739, target_name#33717 AS target_name#33740, C_ID_UD_ORGANICA#33719 AS C_ID_UD_ORGANICA#33741, C_DNM_UD_ORGANICA#33720 AS C_DNM_UD_ORGANICA#33742, C_ID_NIVEL_ADMON#33721 AS C_ID_NIVEL_ADMON#33743, C_ID_TIPO_ENT_PUBLICA#33722 AS C_ID_TIPO_ENT_PUBLICA#33744, N_NIVEL_JERARQUICO#33723 AS N_NIVEL_JERARQUICO#33745, C_ID_DEP_UD_SUPERIOR#33724 AS C_ID_DEP_UD_SUPERIOR#33746, C_DNM_UD_ORGANICA_SUPERIOR#33725 AS C_DNM_UD_ORGANICA_SUPERIOR#33747, C_ID_DEP_UD_PRINCIPAL#33726 AS C_ID_DEP_UD_PRINCIPAL#33748, C_DNM_UD_ORGANICA_PRINCIPAL#33727 AS C_DNM_UD_ORGANICA_PRINCIPAL#33749, B_SW_DEP_EDP_PRINCIPAL#33728 AS B_SW_DEP_EDP_PRINCIPAL#33750, C_ID_DEP_EDP_PRINCIPAL#33729 AS C_ID_DEP_EDP_PRINCIPAL#33751, C_DNM_UD_ORGANICA_EDP_PRINCIPAL#33730 AS C_DNM_UD_ORGANICA_EDP_PRINCIPAL#33752, C_ID_ESTADO#33731 AS C_ID_ESTADO#33753, D_VIG_ALTA_OFICIAL#33732 AS D_VIG_ALTA_OFICIAL#33754, NIF_CIF#33733 AS NIF_CIF#33755, C_ID_AMB_PROVINCIA#33734 AS C_ID_AMB_PROVINCIA#33756, C_DESC_PROV#33735 AS C_DESC_PROV#33757, CONTACTOS#33736 AS CONTACTOS#33758, C_DNM_UD_ORGANICA_Norm#33737 AS C_DNM_UD_ORGANICA_Norm#33759, source_names_stopwords#32145 AS source_names_stopwords#33760, target_names_stopwords#32227 AS target_names_stopwords#33761, final_score#32306 AS final_score#33762]\n:              :  +- Deduplicate [Entidad_Norm#33718]\n:              :     +- Sort [N_NIVEL_JERARQUICO#33723 ASC NULLS FIRST], true\n:              :        +- Project [Entidad_Norm#33718, source_name#33716, target_name#33717, C_ID_UD_ORGANICA#33719, C_DNM_UD_ORGANICA#33720, C_ID_NIVEL_ADMON#33721, C_ID_TIPO_ENT_PUBLICA#33722, N_NIVEL_JERARQUICO#33723, C_ID_DEP_UD_SUPERIOR#33724, C_DNM_UD_ORGANICA_SUPERIOR#33725, C_ID_DEP_UD_PRINCIPAL#33726, C_DNM_UD_ORGANICA_PRINCIPAL#33727, B_SW_DEP_EDP_PRINCIPAL#33728, C_ID_DEP_EDP_PRINCIPAL#33729, C_DNM_UD_ORGANICA_EDP_PRINCIPAL#33730, C_ID_ESTADO#33731, D_VIG_ALTA_OFICIAL#33732, NIF_CIF#33733, C_ID_AMB_PROVINCIA#33734, C_DESC_PROV#33735, CONTACTOS#33736, C_DNM_UD_ORGANICA_Norm#33737, source_names_stopwords#32145, target_names_stopwords#32227, final_score#32306]\n:              :           +- Filter (cnt#33530L = cast(1 as bigint))\n:              :              +- Project [Entidad_Norm#33718, source_name#33716, target_name#33717, C_ID_UD_ORGANICA#33719, C_DNM_UD_ORGANICA#33720, C_ID_NIVEL_ADMON#33721, C_ID_TIPO_ENT_PUBLICA#33722, N_NIVEL_JERARQUICO#33723, C_ID_DEP_UD_SUPERIOR#33724, C_DNM_UD_ORGANICA_SUPERIOR#33725, C_ID_DEP_UD_PRINCIPAL#33726, C_DNM_UD_ORGANICA_PRINCIPAL#33727, B_SW_DEP_EDP_PRINCIPAL#33728, C_ID_DEP_EDP_PRINCIPAL#33729, C_DNM_UD_ORGANICA_EDP_PRINCIPAL#33730, C_ID_ESTADO#33731, D_VIG_ALTA_OFICIAL#33732, NIF_CIF#33733, C_ID_AMB_PROVINCIA#33734, C_DESC_PROV#33735, CONTACTOS#33736, C_DNM_UD_ORGANICA_Norm#33737, source_names_stopwords#32145, target_names_stopwords#32227, ... 2 more fields]\n:              :                 +- Project [Entidad_Norm#33718, source_name#33716, target_name#33717, C_ID_UD_ORGANICA#33719, C_DNM_UD_ORGANICA#33720, C_ID_NIVEL_ADMON#33721, C_ID_TIPO_ENT_PUBLICA#33722, N_NIVEL_JERARQUICO#33723, C_ID_DEP_UD_SUPERIOR#33724, C_DNM_UD_ORGANICA_SUPERIOR#33725, C_ID_DEP_UD_PRINCIPAL#33726, C_DNM_UD_ORGANICA_PRINCIPAL#33727, B_SW_DEP_EDP_PRINCIPAL#33728, C_ID_DEP_EDP_PRINCIPAL#33729, C_DNM_UD_ORGANICA_EDP_PRINCIPAL#33730, C_ID_ESTADO#33731, D_VIG_ALTA_OFICIAL#33732, NIF_CIF#33733, C_ID_AMB_PROVINCIA#33734, C_DESC_PROV#33735, CONTACTOS#33736, C_DNM_UD_ORGANICA_Norm#33737, source_names_stopwords#32145, target_names_stopwords#32227, ... 3 more fields]\n:              :                    +- Window [count(1) windowspecdefinition(Entidad_Norm#33718, N_NIVEL_JERARQUICO#33723, specifiedwindowframe(RowFrame, unboundedpreceding$(), unboundedfollowing$())) AS cnt#33530L], [Entidad_Norm#33718, N_NIVEL_JERARQUICO#33723]\n:              :                       +- Project [Entidad_Norm#33718, source_name#33716, target_name#33717, C_ID_UD_ORGANICA#33719, C_DNM_UD_ORGANICA#33720, C_ID_NIVEL_ADMON#33721, C_ID_TIPO_ENT_PUBLICA#33722, N_NIVEL_JERARQUICO#33723, C_ID_DEP_UD_SUPERIOR#33724, C_DNM_UD_ORGANICA_SUPERIOR#33725, C_ID_DEP_UD_PRINCIPAL#33726, C_DNM_UD_ORGANICA_PRINCIPAL#33727, B_SW_DEP_EDP_PRINCIPAL#33728, C_ID_DEP_EDP_PRINCIPAL#33729, C_DNM_UD_ORGANICA_EDP_PRINCIPAL#33730, C_ID_ESTADO#33731, D_VIG_ALTA_OFICIAL#33732, NIF_CIF#33733, C_ID_AMB_PROVINCIA#33734, C_DESC_PROV#33735, CONTACTOS#33736, C_DNM_UD_ORGANICA_Norm#33737, source_names_stopwords#32145, target_names_stopwords#32227, final_score#32306]\n:              :                          +- Project [Entidad_Norm#33718, source_name#33716, target_name#33717, C_ID_UD_ORGANICA#33719, C_DNM_UD_ORGANICA#33720, C_ID_NIVEL_ADMON#33721, C_ID_TIPO_ENT_PUBLICA#33722, N_NIVEL_JERARQUICO#33723, C_ID_DEP_UD_SUPERIOR#33724, C_DNM_UD_ORGANICA_SUPERIOR#33725, C_ID_DEP_UD_PRINCIPAL#33726, C_DNM_UD_ORGANICA_PRINCIPAL#33727, B_SW_DEP_EDP_PRINCIPAL#33728, C_ID_DEP_EDP_PRINCIPAL#33729, C_DNM_UD_ORGANICA_EDP_PRINCIPAL#33730, C_ID_ESTADO#33731, D_VIG_ALTA_OFICIAL#33732, NIF_CIF#33733, C_ID_AMB_PROVINCIA#33734, C_DESC_PROV#33735, CONTACTOS#33736, C_DNM_UD_ORGANICA_Norm#33737, source_names_stopwords#32145, target_names_stopwords#32227, final_score#32306]\n:              :                             +- Join LeftAnti, (Entidad_Norm#33718 = Entidad_Norm#33485)\n:              :                                :- Deduplicate [Entidad_Norm#33718, C_DNM_UD_ORGANICA_Norm#33737]\n:              :                                :  +- Filter (cast(final_score#32306 as double) >= cast(0.875 as double))\n:              :                                :     +- Project [source_name#33716, target_name#33717, Entidad_Norm#33718, C_ID_UD_ORGANICA#33719, C_DNM_UD_ORGANICA#33720, C_ID_NIVEL_ADMON#33721, C_ID_TIPO_ENT_PUBLICA#33722, N_NIVEL_JERARQUICO#33723, C_ID_DEP_UD_SUPERIOR#33724, C_DNM_UD_ORGANICA_SUPERIOR#33725, C_ID_DEP_UD_PRINCIPAL#33726, C_DNM_UD_ORGANICA_PRINCIPAL#33727, B_SW_DEP_EDP_PRINCIPAL#33728, C_ID_DEP_EDP_PRINCIPAL#33729, C_DNM_UD_ORGANICA_EDP_PRINCIPAL#33730, C_ID_ESTADO#33731, D_VIG_ALTA_OFICIAL#33732, NIF_CIF#33733, C_ID_AMB_PROVINCIA#33734, C_DESC_PROV#33735, CONTACTOS#33736, C_DNM_UD_ORGANICA_Norm#33737, source_names_stopwords#32145, target_names_stopwords#32227, CASE WHEN NOT (source_names_stopwords#32145 = target_names_stopwords#32227) THEN final_score#32254 ELSE cast(1 as float) END AS final_score#32306]\n:              :                                :        +- Project [source_name#33716, target_name#33717, Entidad_Norm#33718, C_ID_UD_ORGANICA#33719, C_DNM_UD_ORGANICA#33720, C_ID_NIVEL_ADMON#33721, C_ID_TIPO_ENT_PUBLICA#33722, N_NIVEL_JERARQUICO#33723, C_ID_DEP_UD_SUPERIOR#33724, C_DNM_UD_ORGANICA_SUPERIOR#33725, C_ID_DEP_UD_PRINCIPAL#33726, C_DNM_UD_ORGANICA_PRINCIPAL#33727, B_SW_DEP_EDP_PRINCIPAL#33728, C_ID_DEP_EDP_PRINCIPAL#33729, C_DNM_UD_ORGANICA_EDP_PRINCIPAL#33730, C_ID_ESTADO#33731, D_VIG_ALTA_OFICIAL#33732, NIF_CIF#33733, C_ID_AMB_PROVINCIA#33734, C_DESC_PROV#33735, CONTACTOS#33736, C_DNM_UD_ORGANICA_Norm#33737, source_names_stopwords#32145, target_names_stopwords#32227, final_score#32254]\n:              :                                :           +- Project [source_name#33716, target_name#33717, Entidad_Norm#33718, C_ID_UD_ORGANICA#33719, C_DNM_UD_ORGANICA#33720, C_ID_NIVEL_ADMON#33721, C_ID_TIPO_ENT_PUBLICA#33722, N_NIVEL_JERARQUICO#33723, C_ID_DEP_UD_SUPERIOR#33724, C_DNM_UD_ORGANICA_SUPERIOR#33725, C_ID_DEP_UD_PRINCIPAL#33726, C_DNM_UD_ORGANICA_PRINCIPAL#33727, B_SW_DEP_EDP_PRINCIPAL#33728, C_ID_DEP_EDP_PRINCIPAL#33729, C_DNM_UD_ORGANICA_EDP_PRINCIPAL#33730, C_ID_ESTADO#33731, D_VIG_ALTA_OFICIAL#33732, NIF_CIF#33733, C_ID_AMB_PROVINCIA#33734, C_DESC_PROV#33735, CONTACTOS#33736, C_DNM_UD_ORGANICA_Norm#33737, aux#32170, source_names_stopwords#32145, ... 2 more fields]\n:              :                                :              +- Project [source_name#33716, target_name#33717, Entidad_Norm#33718, C_ID_UD_ORGANICA#33719, C_DNM_UD_ORGANICA#33720, C_ID_NIVEL_ADMON#33721, C_ID_TIPO_ENT_PUBLICA#33722, N_NIVEL_JERARQUICO#33723, C_ID_DEP_UD_SUPERIOR#33724, C_DNM_UD_ORGANICA_SUPERIOR#33725, C_ID_DEP_UD_PRINCIPAL#33726, C_DNM_UD_ORGANICA_PRINCIPAL#33727, B_SW_DEP_EDP_PRINCIPAL#33728, C_ID_DEP_EDP_PRINCIPAL#33729, C_DNM_UD_ORGANICA_EDP_PRINCIPAL#33730, C_ID_ESTADO#33731, D_VIG_ALTA_OFICIAL#33732, NIF_CIF#33733, C_ID_AMB_PROVINCIA#33734, C_DESC_PROV#33735, CONTACTOS#33736, C_DNM_UD_ORGANICA_Norm#33737, aux#32170, source_names_stopwords#32145, array_join(target_names_stopwords#32198,  , None) AS target_names_stopwords#32227]\n:              :                                :                 +- Project [source_name#33716, target_name#33717, Entidad_Norm#33718, C_ID_UD_ORGANICA#33719, C_DNM_UD_ORGANICA#33720, C_ID_NIVEL_ADMON#33721, C_ID_TIPO_ENT_PUBLICA#33722, N_NIVEL_JERARQUICO#33723, C_ID_DEP_UD_SUPERIOR#33724, C_DNM_UD_ORGANICA_SUPERIOR#33725, C_ID_DEP_UD_PRINCIPAL#33726, C_DNM_UD_ORGANICA_PRINCIPAL#33727, B_SW_DEP_EDP_PRINCIPAL#33728, C_ID_DEP_EDP_PRINCIPAL#33729, C_DNM_UD_ORGANICA_EDP_PRINCIPAL#33730, C_ID_ESTADO#33731, D_VIG_ALTA_OFICIAL#33732, NIF_CIF#33733, C_ID_AMB_PROVINCIA#33734, C_DESC_PROV#33735, CONTACTOS#33736, C_DNM_UD_ORGANICA_Norm#33737, aux#32170, source_names_stopwords#32145, UDF(aux#32170) AS target_names_stopwords#32198]\n:              :                                :                    +- Project [source_name#33716, target_name#33717, Entidad_Norm#33718, C_ID_UD_ORGANICA#33719, C_DNM_UD_ORGANICA#33720, C_ID_NIVEL_ADMON#33721, C_ID_TIPO_ENT_PUBLICA#33722, N_NIVEL_JERARQUICO#33723, C_ID_DEP_UD_SUPERIOR#33724, C_DNM_UD_ORGANICA_SUPERIOR#33725, C_ID_DEP_UD_PRINCIPAL#33726, C_DNM_UD_ORGANICA_PRINCIPAL#33727, B_SW_DEP_EDP_PRINCIPAL#33728, C_ID_DEP_EDP_PRINCIPAL#33729, C_DNM_UD_ORGANICA_EDP_PRINCIPAL#33730, C_ID_ESTADO#33731, D_VIG_ALTA_OFICIAL#33732, NIF_CIF#33733, C_ID_AMB_PROVINCIA#33734, C_DESC_PROV#33735, CONTACTOS#33736, C_DNM_UD_ORGANICA_Norm#33737, split(target_name#33717, \\s+, -1) AS aux#32170, source_names_stopwords#32145]\n:              :                                :                       +- Project [source_name#33716, target_name#33717, Entidad_Norm#33718, C_ID_UD_ORGANICA#33719, C_DNM_UD_ORGANICA#33720, C_ID_NIVEL_ADMON#33721, C_ID_TIPO_ENT_PUBLICA#33722, N_NIVEL_JERARQUICO#33723, C_ID_DEP_UD_SUPERIOR#33724, C_DNM_UD_ORGANICA_SUPERIOR#33725, C_ID_DEP_UD_PRINCIPAL#33726, C_DNM_UD_ORGANICA_PRINCIPAL#33727, B_SW_DEP_EDP_PRINCIPAL#33728, C_ID_DEP_EDP_PRINCIPAL#33729, C_DNM_UD_ORGANICA_EDP_PRINCIPAL#33730, C_ID_ESTADO#33731, D_VIG_ALTA_OFICIAL#33732, NIF_CIF#33733, C_ID_AMB_PROVINCIA#33734, C_DESC_PROV#33735, CONTACTOS#33736, C_DNM_UD_ORGANICA_Norm#33737, aux#32090, array_join(source_names_stopwords#32117,  , None) AS source_names_stopwords#32145]\n:              :                                :                          +- Project [source_name#33716, target_name#33717, Entidad_Norm#33718, C_ID_UD_ORGANICA#33719, C_DNM_UD_ORGANICA#33720, C_ID_NIVEL_ADMON#33721, C_ID_TIPO_ENT_PUBLICA#33722, N_NIVEL_JERARQUICO#33723, C_ID_DEP_UD_SUPERIOR#33724, C_DNM_UD_ORGANICA_SUPERIOR#33725, C_ID_DEP_UD_PRINCIPAL#33726, C_DNM_UD_ORGANICA_PRINCIPAL#33727, B_SW_DEP_EDP_PRINCIPAL#33728, C_ID_DEP_EDP_PRINCIPAL#33729, C_DNM_UD_ORGANICA_EDP_PRINCIPAL#33730, C_ID_ESTADO#33731, D_VIG_ALTA_OFICIAL#33732, NIF_CIF#33733, C_ID_AMB_PROVINCIA#33734, C_DESC_PROV#33735, CONTACTOS#33736, C_DNM_UD_ORGANICA_Norm#33737, aux#32090, UDF(aux#32090) AS source_names_stopwords#32117]\n:              :                                :                             +- Project [source_name#33716, target_name#33717, Entidad_Norm#33718, C_ID_UD_ORGANICA#33719, C_DNM_UD_ORGANICA#33720, C_ID_NIVEL_ADMON#33721, C_ID_TIPO_ENT_PUBLICA#33722, N_NIVEL_JERARQUICO#33723, C_ID_DEP_UD_SUPERIOR#33724, C_DNM_UD_ORGANICA_SUPERIOR#33725, C_ID_DEP_UD_PRINCIPAL#33726, C_DNM_UD_ORGANICA_PRINCIPAL#33727, B_SW_DEP_EDP_PRINCIPAL#33728, C_ID_DEP_EDP_PRINCIPAL#33729, C_DNM_UD_ORGANICA_EDP_PRINCIPAL#33730, C_ID_ESTADO#33731, D_VIG_ALTA_OFICIAL#33732, NIF_CIF#33733, C_ID_AMB_PROVINCIA#33734, C_DESC_PROV#33735, CONTACTOS#33736, C_DNM_UD_ORGANICA_Norm#33737, split(source_name#33716, \\s+, -1) AS aux#32090]\n:              :                                :                                +- LogicalRDD [source_name#33716, target_name#33717, Entidad_Norm#33718, C_ID_UD_ORGANICA#33719, C_DNM_UD_ORGANICA#33720, C_ID_NIVEL_ADMON#33721, C_ID_TIPO_ENT_PUBLICA#33722, N_NIVEL_JERARQUICO#33723, C_ID_DEP_UD_SUPERIOR#33724, C_DNM_UD_ORGANICA_SUPERIOR#33725, C_ID_DEP_UD_PRINCIPAL#33726, C_DNM_UD_ORGANICA_PRINCIPAL#33727, B_SW_DEP_EDP_PRINCIPAL#33728, C_ID_DEP_EDP_PRINCIPAL#33729, C_DNM_UD_ORGANICA_EDP_PRINCIPAL#33730, C_ID_ESTADO#33731, D_VIG_ALTA_OFICIAL#33732, NIF_CIF#33733, C_ID_AMB_PROVINCIA#33734, C_DESC_PROV#33735, CONTACTOS#33736, C_DNM_UD_ORGANICA_Norm#33737], false\n:              :                                +- Project [Entidad_Norm#33485]\n:              :                                   +- Filter (count#33479L = cast(1 as bigint))\n:              :                                      +- Aggregate [Entidad_Norm#33485], [Entidad_Norm#33485, count(1) AS count#33479L]\n:              :                                         +- Deduplicate [Entidad_Norm#33485, C_DNM_UD_ORGANICA_Norm#33504]\n:              :                                            +- Filter (cast(final_score#32306 as double) >= cast(0.875 as double))\n:              :                                               +- Project [source_name#33483, target_name#33484, Entidad_Norm#33485, C_ID_UD_ORGANICA#33486, C_DNM_UD_ORGANICA#33487, C_ID_NIVEL_ADMON#33488, C_ID_TIPO_ENT_PUBLICA#33489, N_NIVEL_JERARQUICO#33490, C_ID_DEP_UD_SUPERIOR#33491, C_DNM_UD_ORGANICA_SUPERIOR#33492, C_ID_DEP_UD_PRINCIPAL#33493, C_DNM_UD_ORGANICA_PRINCIPAL#33494, B_SW_DEP_EDP_PRINCIPAL#33495, C_ID_DEP_EDP_PRINCIPAL#33496, C_DNM_UD_ORGANICA_EDP_PRINCIPAL#33497, C_ID_ESTADO#33498, D_VIG_ALTA_OFICIAL#33499, NIF_CIF#33500, C_ID_AMB_PROVINCIA#33501, C_DESC_PROV#33502, CONTACTOS#33503, C_DNM_UD_ORGANICA_Norm#33504, source_names_stopwords#32145, target_names_stopwords#32227, CASE WHEN NOT (source_names_stopwords#32145 = target_names_stopwords#32227) THEN final_score#32254 ELSE cast(1 as float) END AS final_score#32306]\n:              :                                                  +- Project [source_name#33483, target_name#33484, Entidad_Norm#33485, C_ID_UD_ORGANICA#33486, C_DNM_UD_ORGANICA#33487, C_ID_NIVEL_ADMON#33488, C_ID_TIPO_ENT_PUBLICA#33489, N_NIVEL_JERARQUICO#33490, C_ID_DEP_UD_SUPERIOR#33491, C_DNM_UD_ORGANICA_SUPERIOR#33492, C_ID_DEP_UD_PRINCIPAL#33493, C_DNM_UD_ORGANICA_PRINCIPAL#33494, B_SW_DEP_EDP_PRINCIPAL#33495, C_ID_DEP_EDP_PRINCIPAL#33496, C_DNM_UD_ORGANICA_EDP_PRINCIPAL#33497, C_ID_ESTADO#33498, D_VIG_ALTA_OFICIAL#33499, NIF_CIF#33500, C_ID_AMB_PROVINCIA#33501, C_DESC_PROV#33502, CONTACTOS#33503, C_DNM_UD_ORGANICA_Norm#33504, source_names_stopwords#32145, target_names_stopwords#32227, final_score#32254]\n:              :                                                     +- Project [source_name#33483, target_name#33484, Entidad_Norm#33485, C_ID_UD_ORGANICA#33486, C_DNM_UD_ORGANICA#33487, C_ID_NIVEL_ADMON#33488, C_ID_TIPO_ENT_PUBLICA#33489, N_NIVEL_JERARQUICO#33490, C_ID_DEP_UD_SUPERIOR#33491, C_DNM_UD_ORGANICA_SUPERIOR#33492, C_ID_DEP_UD_PRINCIPAL#33493, C_DNM_UD_ORGANICA_PRINCIPAL#33494, B_SW_DEP_EDP_PRINCIPAL#33495, C_ID_DEP_EDP_PRINCIPAL#33496, C_DNM_UD_ORGANICA_EDP_PRINCIPAL#33497, C_ID_ESTADO#33498, D_VIG_ALTA_OFICIAL#33499, NIF_CIF#33500, C_ID_AMB_PROVINCIA#33501, C_DESC_PROV#33502, CONTACTOS#33503, C_DNM_UD_ORGANICA_Norm#33504, aux#32170, source_names_stopwords#32145, ... 2 more fields]\n:              :                                                        +- Project [source_name#33483, target_name#33484, Entidad_Norm#33485, C_ID_UD_ORGANICA#33486, C_DNM_UD_ORGANICA#33487, C_ID_NIVEL_ADMON#33488, C_ID_TIPO_ENT_PUBLICA#33489, N_NIVEL_JERARQUICO#33490, C_ID_DEP_UD_SUPERIOR#33491, C_DNM_UD_ORGANICA_SUPERIOR#33492, C_ID_DEP_UD_PRINCIPAL#33493, C_DNM_UD_ORGANICA_PRINCIPAL#33494, B_SW_DEP_EDP_PRINCIPAL#33495, C_ID_DEP_EDP_PRINCIPAL#33496, C_DNM_UD_ORGANICA_EDP_PRINCIPAL#33497, C_ID_ESTADO#33498, D_VIG_ALTA_OFICIAL#33499, NIF_CIF#33500, C_ID_AMB_PROVINCIA#33501, C_DESC_PROV#33502, CONTACTOS#33503, C_DNM_UD_ORGANICA_Norm#33504, aux#32170, source_names_stopwords#32145, array_join(target_names_stopwords#32198,  , None) AS target_names_stopwords#32227]\n:              :                                                           +- Project [source_name#33483, target_name#33484, Entidad_Norm#33485, C_ID_UD_ORGANICA#33486, C_DNM_UD_ORGANICA#33487, C_ID_NIVEL_ADMON#33488, C_ID_TIPO_ENT_PUBLICA#33489, N_NIVEL_JERARQUICO#33490, C_ID_DEP_UD_SUPERIOR#33491, C_DNM_UD_ORGANICA_SUPERIOR#33492, C_ID_DEP_UD_PRINCIPAL#33493, C_DNM_UD_ORGANICA_PRINCIPAL#33494, B_SW_DEP_EDP_PRINCIPAL#33495, C_ID_DEP_EDP_PRINCIPAL#33496, C_DNM_UD_ORGANICA_EDP_PRINCIPAL#33497, C_ID_ESTADO#33498, D_VIG_ALTA_OFICIAL#33499, NIF_CIF#33500, C_ID_AMB_PROVINCIA#33501, C_DESC_PROV#33502, CONTACTOS#33503, C_DNM_UD_ORGANICA_Norm#33504, aux#32170, source_names_stopwords#32145, UDF(aux#32170) AS target_names_stopwords#32198]\n:              :                                                              +- Project [source_name#33483, target_name#33484, Entidad_Norm#33485, C_ID_UD_ORGANICA#33486, C_DNM_UD_ORGANICA#33487, C_ID_NIVEL_ADMON#33488, C_ID_TIPO_ENT_PUBLICA#33489, N_NIVEL_JERARQUICO#33490, C_ID_DEP_UD_SUPERIOR#33491, C_DNM_UD_ORGANICA_SUPERIOR#33492, C_ID_DEP_UD_PRINCIPAL#33493, C_DNM_UD_ORGANICA_PRINCIPAL#33494, B_SW_DEP_EDP_PRINCIPAL#33495, C_ID_DEP_EDP_PRINCIPAL#33496, C_DNM_UD_ORGANICA_EDP_PRINCIPAL#33497, C_ID_ESTADO#33498, D_VIG_ALTA_OFICIAL#33499, NIF_CIF#33500, C_ID_AMB_PROVINCIA#33501, C_DESC_PROV#33502, CONTACTOS#33503, C_DNM_UD_ORGANICA_Norm#33504, split(target_name#33484, \\s+, -1) AS aux#32170, source_names_stopwords#32145]\n:              :                                                                 +- Project [source_name#33483, target_name#33484, Entidad_Norm#33485, C_ID_UD_ORGANICA#33486, C_DNM_UD_ORGANICA#33487, C_ID_NIVEL_ADMON#33488, C_ID_TIPO_ENT_PUBLICA#33489, N_NIVEL_JERARQUICO#33490, C_ID_DEP_UD_SUPERIOR#33491, C_DNM_UD_ORGANICA_SUPERIOR#33492, C_ID_DEP_UD_PRINCIPAL#33493, C_DNM_UD_ORGANICA_PRINCIPAL#33494, B_SW_DEP_EDP_PRINCIPAL#33495, C_ID_DEP_EDP_PRINCIPAL#33496, C_DNM_UD_ORGANICA_EDP_PRINCIPAL#33497, C_ID_ESTADO#33498, D_VIG_ALTA_OFICIAL#33499, NIF_CIF#33500, C_ID_AMB_PROVINCIA#33501, C_DESC_PROV#33502, CONTACTOS#33503, C_DNM_UD_ORGANICA_Norm#33504, aux#32090, array_join(source_names_stopwords#32117,  , None) AS source_names_stopwords#32145]\n:              :                                                                    +- Project [source_name#33483, target_name#33484, Entidad_Norm#33485, C_ID_UD_ORGANICA#33486, C_DNM_UD_ORGANICA#33487, C_ID_NIVEL_ADMON#33488, C_ID_TIPO_ENT_PUBLICA#33489, N_NIVEL_JERARQUICO#33490, C_ID_DEP_UD_SUPERIOR#33491, C_DNM_UD_ORGANICA_SUPERIOR#33492, C_ID_DEP_UD_PRINCIPAL#33493, C_DNM_UD_ORGANICA_PRINCIPAL#33494, B_SW_DEP_EDP_PRINCIPAL#33495, C_ID_DEP_EDP_PRINCIPAL#33496, C_DNM_UD_ORGANICA_EDP_PRINCIPAL#33497, C_ID_ESTADO#33498, D_VIG_ALTA_OFICIAL#33499, NIF_CIF#33500, C_ID_AMB_PROVINCIA#33501, C_DESC_PROV#33502, CONTACTOS#33503, C_DNM_UD_ORGANICA_Norm#33504, aux#32090, UDF(aux#32090) AS source_names_stopwords#32117]\n:              :                                                                       +- Project [source_name#33483, target_name#33484, Entidad_Norm#33485, C_ID_UD_ORGANICA#33486, C_DNM_UD_ORGANICA#33487, C_ID_NIVEL_ADMON#33488, C_ID_TIPO_ENT_PUBLICA#33489, N_NIVEL_JERARQUICO#33490, C_ID_DEP_UD_SUPERIOR#33491, C_DNM_UD_ORGANICA_SUPERIOR#33492, C_ID_DEP_UD_PRINCIPAL#33493, C_DNM_UD_ORGANICA_PRINCIPAL#33494, B_SW_DEP_EDP_PRINCIPAL#33495, C_ID_DEP_EDP_PRINCIPAL#33496, C_DNM_UD_ORGANICA_EDP_PRINCIPAL#33497, C_ID_ESTADO#33498, D_VIG_ALTA_OFICIAL#33499, NIF_CIF#33500, C_ID_AMB_PROVINCIA#33501, C_DESC_PROV#33502, CONTACTOS#33503, C_DNM_UD_ORGANICA_Norm#33504, split(source_name#33483, \\s+, -1) AS aux#32090]\n:              :                                                                          +- LogicalRDD [source_name#33483, target_name#33484, Entidad_Norm#33485, C_ID_UD_ORGANICA#33486, C_DNM_UD_ORGANICA#33487, C_ID_NIVEL_ADMON#33488, C_ID_TIPO_ENT_PUBLICA#33489, N_NIVEL_JERARQUICO#33490, C_ID_DEP_UD_SUPERIOR#33491, C_DNM_UD_ORGANICA_SUPERIOR#33492, C_ID_DEP_UD_PRINCIPAL#33493, C_DNM_UD_ORGANICA_PRINCIPAL#33494, B_SW_DEP_EDP_PRINCIPAL#33495, C_ID_DEP_EDP_PRINCIPAL#33496, C_DNM_UD_ORGANICA_EDP_PRINCIPAL#33497, C_ID_ESTADO#33498, D_VIG_ALTA_OFICIAL#33499, NIF_CIF#33500, C_ID_AMB_PROVINCIA#33501, C_DESC_PROV#33502, CONTACTOS#33503, C_DNM_UD_ORGANICA_Norm#33504], false\n:              +- Project [Entidad_Norm#33790 AS Entidad_Norm#33810, N_NIVEL_JERARQUICO#33795 AS N_NIVEL_JERARQUICO#33811, source_name#33788 AS source_name#33812, target_name#33789 AS target_name#33813, C_ID_UD_ORGANICA#33791 AS C_ID_UD_ORGANICA#33814, C_DNM_UD_ORGANICA#33792 AS C_DNM_UD_ORGANICA#33815, C_ID_NIVEL_ADMON#33793 AS C_ID_NIVEL_ADMON#33816, C_ID_TIPO_ENT_PUBLICA#33794 AS C_ID_TIPO_ENT_PUBLICA#33817, C_ID_DEP_UD_SUPERIOR#33796 AS C_ID_DEP_UD_SUPERIOR#33818, C_DNM_UD_ORGANICA_SUPERIOR#33797 AS C_DNM_UD_ORGANICA_SUPERIOR#33819, C_ID_DEP_UD_PRINCIPAL#33798 AS C_ID_DEP_UD_PRINCIPAL#33820, C_DNM_UD_ORGANICA_PRINCIPAL#33799 AS C_DNM_UD_ORGANICA_PRINCIPAL#33821, B_SW_DEP_EDP_PRINCIPAL#33800 AS B_SW_DEP_EDP_PRINCIPAL#33822, C_ID_DEP_EDP_PRINCIPAL#33801 AS C_ID_DEP_EDP_PRINCIPAL#33823, C_DNM_UD_ORGANICA_EDP_PRINCIPAL#33802 AS C_DNM_UD_ORGANICA_EDP_PRINCIPAL#33824, C_ID_ESTADO#33803 AS C_ID_ESTADO#33825, D_VIG_ALTA_OFICIAL#33804 AS D_VIG_ALTA_OFICIAL#33826, NIF_CIF#33805 AS NIF_CIF#33827, C_ID_AMB_PROVINCIA#33806 AS C_ID_AMB_PROVINCIA#33828, C_DESC_PROV#33807 AS C_DESC_PROV#33829, CONTACTOS#33808 AS CONTACTOS#33830, C_DNM_UD_ORGANICA_Norm#33809 AS C_DNM_UD_ORGANICA_Norm#33831, source_names_stopwords#32145 AS source_names_stopwords#33832, target_names_stopwords#32227 AS target_names_stopwords#33833, final_score#32306 AS final_score#33834]\n:                 +- Deduplicate [Entidad_Norm#33790]\n:                    +- Sort [Similitud#33664 DESC NULLS LAST], true\n:                       +- Project [Entidad_Norm#33790, N_NIVEL_JERARQUICO#33795, source_name#33788, target_name#33789, C_ID_UD_ORGANICA#33791, C_DNM_UD_ORGANICA#33792, C_ID_NIVEL_ADMON#33793, C_ID_TIPO_ENT_PUBLICA#33794, C_ID_DEP_UD_SUPERIOR#33796, C_DNM_UD_ORGANICA_SUPERIOR#33797, C_ID_DEP_UD_PRINCIPAL#33798, C_DNM_UD_ORGANICA_PRINCIPAL#33799, B_SW_DEP_EDP_PRINCIPAL#33800, C_ID_DEP_EDP_PRINCIPAL#33801, C_DNM_UD_ORGANICA_EDP_PRINCIPAL#33802, C_ID_ESTADO#33803, D_VIG_ALTA_OFICIAL#33804, NIF_CIF#33805, C_ID_AMB_PROVINCIA#33806, C_DESC_PROV#33807, CONTACTOS#33808, C_DNM_UD_ORGANICA_Norm#33809, source_names_stopwords#32145, target_names_stopwords#32227, ... 2 more fields]\n:                          +- Project [Entidad_Norm#33790, N_NIVEL_JERARQUICO#33795, source_name#33788, target_name#33789, C_ID_UD_ORGANICA#33791, C_DNM_UD_ORGANICA#33792, C_ID_NIVEL_ADMON#33793, C_ID_TIPO_ENT_PUBLICA#33794, C_ID_DEP_UD_SUPERIOR#33796, C_DNM_UD_ORGANICA_SUPERIOR#33797, C_ID_DEP_UD_PRINCIPAL#33798, C_DNM_UD_ORGANICA_PRINCIPAL#33799, B_SW_DEP_EDP_PRINCIPAL#33800, C_ID_DEP_EDP_PRINCIPAL#33801, C_DNM_UD_ORGANICA_EDP_PRINCIPAL#33802, C_ID_ESTADO#33803, D_VIG_ALTA_OFICIAL#33804, NIF_CIF#33805, C_ID_AMB_PROVINCIA#33806, C_DESC_PROV#33807, CONTACTOS#33808, C_DNM_UD_ORGANICA_Norm#33809, source_names_stopwords#32145, target_names_stopwords#32227, final_score#32306]\n:                             +- Join LeftAnti, ((Entidad_Norm#33790 = Entidad_Norm#33617) AND (N_NIVEL_JERARQUICO#33795 = N_NIVEL_JERARQUICO#33622))\n:                                :- Deduplicate [Entidad_Norm#33790, C_DNM_UD_ORGANICA_Norm#33809]\n:                                :  +- Filter (cast(final_score#32306 as double) >= cast(0.875 as double))\n:                                :     +- Project [source_name#33788, target_name#33789, Entidad_Norm#33790, C_ID_UD_ORGANICA#33791, C_DNM_UD_ORGANICA#33792, C_ID_NIVEL_ADMON#33793, C_ID_TIPO_ENT_PUBLICA#33794, N_NIVEL_JERARQUICO#33795, C_ID_DEP_UD_SUPERIOR#33796, C_DNM_UD_ORGANICA_SUPERIOR#33797, C_ID_DEP_UD_PRINCIPAL#33798, C_DNM_UD_ORGANICA_PRINCIPAL#33799, B_SW_DEP_EDP_PRINCIPAL#33800, C_ID_DEP_EDP_PRINCIPAL#33801, C_DNM_UD_ORGANICA_EDP_PRINCIPAL#33802, C_ID_ESTADO#33803, D_VIG_ALTA_OFICIAL#33804, NIF_CIF#33805, C_ID_AMB_PROVINCIA#33806, C_DESC_PROV#33807, CONTACTOS#33808, C_DNM_UD_ORGANICA_Norm#33809, source_names_stopwords#32145, target_names_stopwords#32227, CASE WHEN NOT (source_names_stopwords#32145 = target_names_stopwords#32227) THEN final_score#32254 ELSE cast(1 as float) END AS final_score#32306]\n:                                :        +- Project [source_name#33788, target_name#33789, Entidad_Norm#33790, C_ID_UD_ORGANICA#33791, C_DNM_UD_ORGANICA#33792, C_ID_NIVEL_ADMON#33793, C_ID_TIPO_ENT_PUBLICA#33794, N_NIVEL_JERARQUICO#33795, C_ID_DEP_UD_SUPERIOR#33796, C_DNM_UD_ORGANICA_SUPERIOR#33797, C_ID_DEP_UD_PRINCIPAL#33798, C_DNM_UD_ORGANICA_PRINCIPAL#33799, B_SW_DEP_EDP_PRINCIPAL#33800, C_ID_DEP_EDP_PRINCIPAL#33801, C_DNM_UD_ORGANICA_EDP_PRINCIPAL#33802, C_ID_ESTADO#33803, D_VIG_ALTA_OFICIAL#33804, NIF_CIF#33805, C_ID_AMB_PROVINCIA#33806, C_DESC_PROV#33807, CONTACTOS#33808, C_DNM_UD_ORGANICA_Norm#33809, source_names_stopwords#32145, target_names_stopwords#32227, final_score#32254]\n:                                :           +- Project [source_name#33788, target_name#33789, Entidad_Norm#33790, C_ID_UD_ORGANICA#33791, C_DNM_UD_ORGANICA#33792, C_ID_NIVEL_ADMON#33793, C_ID_TIPO_ENT_PUBLICA#33794, N_NIVEL_JERARQUICO#33795, C_ID_DEP_UD_SUPERIOR#33796, C_DNM_UD_ORGANICA_SUPERIOR#33797, C_ID_DEP_UD_PRINCIPAL#33798, C_DNM_UD_ORGANICA_PRINCIPAL#33799, B_SW_DEP_EDP_PRINCIPAL#33800, C_ID_DEP_EDP_PRINCIPAL#33801, C_DNM_UD_ORGANICA_EDP_PRINCIPAL#33802, C_ID_ESTADO#33803, D_VIG_ALTA_OFICIAL#33804, NIF_CIF#33805, C_ID_AMB_PROVINCIA#33806, C_DESC_PROV#33807, CONTACTOS#33808, C_DNM_UD_ORGANICA_Norm#33809, aux#32170, source_names_stopwords#32145, ... 2 more fields]\n:                                :              +- Project [source_name#33788, target_name#33789, Entidad_Norm#33790, C_ID_UD_ORGANICA#33791, C_DNM_UD_ORGANICA#33792, C_ID_NIVEL_ADMON#33793, C_ID_TIPO_ENT_PUBLICA#33794, N_NIVEL_JERARQUICO#33795, C_ID_DEP_UD_SUPERIOR#33796, C_DNM_UD_ORGANICA_SUPERIOR#33797, C_ID_DEP_UD_PRINCIPAL#33798, C_DNM_UD_ORGANICA_PRINCIPAL#33799, B_SW_DEP_EDP_PRINCIPAL#33800, C_ID_DEP_EDP_PRINCIPAL#33801, C_DNM_UD_ORGANICA_EDP_PRINCIPAL#33802, C_ID_ESTADO#33803, D_VIG_ALTA_OFICIAL#33804, NIF_CIF#33805, C_ID_AMB_PROVINCIA#33806, C_DESC_PROV#33807, CONTACTOS#33808, C_DNM_UD_ORGANICA_Norm#33809, aux#32170, source_names_stopwords#32145, array_join(target_names_stopwords#32198,  , None) AS target_names_stopwords#32227]\n:                                :                 +- Project [source_name#33788, target_name#33789, Entidad_Norm#33790, C_ID_UD_ORGANICA#33791, C_DNM_UD_ORGANICA#33792, C_ID_NIVEL_ADMON#33793, C_ID_TIPO_ENT_PUBLICA#33794, N_NIVEL_JERARQUICO#33795, C_ID_DEP_UD_SUPERIOR#33796, C_DNM_UD_ORGANICA_SUPERIOR#33797, C_ID_DEP_UD_PRINCIPAL#33798, C_DNM_UD_ORGANICA_PRINCIPAL#33799, B_SW_DEP_EDP_PRINCIPAL#33800, C_ID_DEP_EDP_PRINCIPAL#33801, C_DNM_UD_ORGANICA_EDP_PRINCIPAL#33802, C_ID_ESTADO#33803, D_VIG_ALTA_OFICIAL#33804, NIF_CIF#33805, C_ID_AMB_PROVINCIA#33806, C_DESC_PROV#33807, CONTACTOS#33808, C_DNM_UD_ORGANICA_Norm#33809, aux#32170, source_names_stopwords#32145, UDF(aux#32170) AS target_names_stopwords#32198]\n:                                :                    +- Project [source_name#33788, target_name#33789, Entidad_Norm#33790, C_ID_UD_ORGANICA#33791, C_DNM_UD_ORGANICA#33792, C_ID_NIVEL_ADMON#33793, C_ID_TIPO_ENT_PUBLICA#33794, N_NIVEL_JERARQUICO#33795, C_ID_DEP_UD_SUPERIOR#33796, C_DNM_UD_ORGANICA_SUPERIOR#33797, C_ID_DEP_UD_PRINCIPAL#33798, C_DNM_UD_ORGANICA_PRINCIPAL#33799, B_SW_DEP_EDP_PRINCIPAL#33800, C_ID_DEP_EDP_PRINCIPAL#33801, C_DNM_UD_ORGANICA_EDP_PRINCIPAL#33802, C_ID_ESTADO#33803, D_VIG_ALTA_OFICIAL#33804, NIF_CIF#33805, C_ID_AMB_PROVINCIA#33806, C_DESC_PROV#33807, CONTACTOS#33808, C_DNM_UD_ORGANICA_Norm#33809, split(target_name#33789, \\s+, -1) AS aux#32170, source_names_stopwords#32145]\n:                                :                       +- Project [source_name#33788, target_name#33789, Entidad_Norm#33790, C_ID_UD_ORGANICA#33791, C_DNM_UD_ORGANICA#33792, C_ID_NIVEL_ADMON#33793, C_ID_TIPO_ENT_PUBLICA#33794, N_NIVEL_JERARQUICO#33795, C_ID_DEP_UD_SUPERIOR#33796, C_DNM_UD_ORGANICA_SUPERIOR#33797, C_ID_DEP_UD_PRINCIPAL#33798, C_DNM_UD_ORGANICA_PRINCIPAL#33799, B_SW_DEP_EDP_PRINCIPAL#33800, C_ID_DEP_EDP_PRINCIPAL#33801, C_DNM_UD_ORGANICA_EDP_PRINCIPAL#33802, C_ID_ESTADO#33803, D_VIG_ALTA_OFICIAL#33804, NIF_CIF#33805, C_ID_AMB_PROVINCIA#33806, C_DESC_PROV#33807, CONTACTOS#33808, C_DNM_UD_ORGANICA_Norm#33809, aux#32090, array_join(source_names_stopwords#32117,  , None) AS source_names_stopwords#32145]\n:                                :                          +- Project [source_name#33788, target_name#33789, Entidad_Norm#33790, C_ID_UD_ORGANICA#33791, C_DNM_UD_ORGANICA#33792, C_ID_NIVEL_ADMON#33793, C_ID_TIPO_ENT_PUBLICA#33794, N_NIVEL_JERARQUICO#33795, C_ID_DEP_UD_SUPERIOR#33796, C_DNM_UD_ORGANICA_SUPERIOR#33797, C_ID_DEP_UD_PRINCIPAL#33798, C_DNM_UD_ORGANICA_PRINCIPAL#33799, B_SW_DEP_EDP_PRINCIPAL#33800, C_ID_DEP_EDP_PRINCIPAL#33801, C_DNM_UD_ORGANICA_EDP_PRINCIPAL#33802, C_ID_ESTADO#33803, D_VIG_ALTA_OFICIAL#33804, NIF_CIF#33805, C_ID_AMB_PROVINCIA#33806, C_DESC_PROV#33807, CONTACTOS#33808, C_DNM_UD_ORGANICA_Norm#33809, aux#32090, UDF(aux#32090) AS source_names_stopwords#32117]\n:                                :                             +- Project [source_name#33788, target_name#33789, Entidad_Norm#33790, C_ID_UD_ORGANICA#33791, C_DNM_UD_ORGANICA#33792, C_ID_NIVEL_ADMON#33793, C_ID_TIPO_ENT_PUBLICA#33794, N_NIVEL_JERARQUICO#33795, C_ID_DEP_UD_SUPERIOR#33796, C_DNM_UD_ORGANICA_SUPERIOR#33797, C_ID_DEP_UD_PRINCIPAL#33798, C_DNM_UD_ORGANICA_PRINCIPAL#33799, B_SW_DEP_EDP_PRINCIPAL#33800, C_ID_DEP_EDP_PRINCIPAL#33801, C_DNM_UD_ORGANICA_EDP_PRINCIPAL#33802, C_ID_ESTADO#33803, D_VIG_ALTA_OFICIAL#33804, NIF_CIF#33805, C_ID_AMB_PROVINCIA#33806, C_DESC_PROV#33807, CONTACTOS#33808, C_DNM_UD_ORGANICA_Norm#33809, split(source_name#33788, \\s+, -1) AS aux#32090]\n:                                :                                +- LogicalRDD [source_name#33788, target_name#33789, Entidad_Norm#33790, C_ID_UD_ORGANICA#33791, C_DNM_UD_ORGANICA#33792, C_ID_NIVEL_ADMON#33793, C_ID_TIPO_ENT_PUBLICA#33794, N_NIVEL_JERARQUICO#33795, C_ID_DEP_UD_SUPERIOR#33796, C_DNM_UD_ORGANICA_SUPERIOR#33797, C_ID_DEP_UD_PRINCIPAL#33798, C_DNM_UD_ORGANICA_PRINCIPAL#33799, B_SW_DEP_EDP_PRINCIPAL#33800, C_ID_DEP_EDP_PRINCIPAL#33801, C_DNM_UD_ORGANICA_EDP_PRINCIPAL#33802, C_ID_ESTADO#33803, D_VIG_ALTA_OFICIAL#33804, NIF_CIF#33805, C_ID_AMB_PROVINCIA#33806, C_DESC_PROV#33807, CONTACTOS#33808, C_DNM_UD_ORGANICA_Norm#33809], false\n:                                +- Project [Entidad_Norm#33617, N_NIVEL_JERARQUICO#33622]\n:                                   +- Filter (count#33609L = cast(1 as bigint))\n:                                      +- Aggregate [Entidad_Norm#33617, N_NIVEL_JERARQUICO#33622], [Entidad_Norm#33617, N_NIVEL_JERARQUICO#33622, count(1) AS count#33609L]\n:                                         +- Deduplicate [Entidad_Norm#33617, C_DNM_UD_ORGANICA_Norm#33636]\n:                                            +- Filter (cast(final_score#32306 as double) >= cast(0.875 as double))\n:                                               +- Project [source_name#33615, target_name#33616, Entidad_Norm#33617, C_ID_UD_ORGANICA#33618, C_DNM_UD_ORGANICA#33619, C_ID_NIVEL_ADMON#33620, C_ID_TIPO_ENT_PUBLICA#33621, N_NIVEL_JERARQUICO#33622, C_ID_DEP_UD_SUPERIOR#33623, C_DNM_UD_ORGANICA_SUPERIOR#33624, C_ID_DEP_UD_PRINCIPAL#33625, C_DNM_UD_ORGANICA_PRINCIPAL#33626, B_SW_DEP_EDP_PRINCIPAL#33627, C_ID_DEP_EDP_PRINCIPAL#33628, C_DNM_UD_ORGANICA_EDP_PRINCIPAL#33629, C_ID_ESTADO#33630, D_VIG_ALTA_OFICIAL#33631, NIF_CIF#33632, C_ID_AMB_PROVINCIA#33633, C_DESC_PROV#33634, CONTACTOS#33635, C_DNM_UD_ORGANICA_Norm#33636, source_names_stopwords#32145, target_names_stopwords#32227, CASE WHEN NOT (source_names_stopwords#32145 = target_names_stopwords#32227) THEN final_score#32254 ELSE cast(1 as float) END AS final_score#32306]\n:                                                  +- Project [source_name#33615, target_name#33616, Entidad_Norm#33617, C_ID_UD_ORGANICA#33618, C_DNM_UD_ORGANICA#33619, C_ID_NIVEL_ADMON#33620, C_ID_TIPO_ENT_PUBLICA#33621, N_NIVEL_JERARQUICO#33622, C_ID_DEP_UD_SUPERIOR#33623, C_DNM_UD_ORGANICA_SUPERIOR#33624, C_ID_DEP_UD_PRINCIPAL#33625, C_DNM_UD_ORGANICA_PRINCIPAL#33626, B_SW_DEP_EDP_PRINCIPAL#33627, C_ID_DEP_EDP_PRINCIPAL#33628, C_DNM_UD_ORGANICA_EDP_PRINCIPAL#33629, C_ID_ESTADO#33630, D_VIG_ALTA_OFICIAL#33631, NIF_CIF#33632, C_ID_AMB_PROVINCIA#33633, C_DESC_PROV#33634, CONTACTOS#33635, C_DNM_UD_ORGANICA_Norm#33636, source_names_stopwords#32145, target_names_stopwords#32227, final_score#32254]\n:                                                     +- Project [source_name#33615, target_name#33616, Entidad_Norm#33617, C_ID_UD_ORGANICA#33618, C_DNM_UD_ORGANICA#33619, C_ID_NIVEL_ADMON#33620, C_ID_TIPO_ENT_PUBLICA#33621, N_NIVEL_JERARQUICO#33622, C_ID_DEP_UD_SUPERIOR#33623, C_DNM_UD_ORGANICA_SUPERIOR#33624, C_ID_DEP_UD_PRINCIPAL#33625, C_DNM_UD_ORGANICA_PRINCIPAL#33626, B_SW_DEP_EDP_PRINCIPAL#33627, C_ID_DEP_EDP_PRINCIPAL#33628, C_DNM_UD_ORGANICA_EDP_PRINCIPAL#33629, C_ID_ESTADO#33630, D_VIG_ALTA_OFICIAL#33631, NIF_CIF#33632, C_ID_AMB_PROVINCIA#33633, C_DESC_PROV#33634, CONTACTOS#33635, C_DNM_UD_ORGANICA_Norm#33636, aux#32170, source_names_stopwords#32145, ... 2 more fields]\n:                                                        +- Project [source_name#33615, target_name#33616, Entidad_Norm#33617, C_ID_UD_ORGANICA#33618, C_DNM_UD_ORGANICA#33619, C_ID_NIVEL_ADMON#33620, C_ID_TIPO_ENT_PUBLICA#33621, N_NIVEL_JERARQUICO#33622, C_ID_DEP_UD_SUPERIOR#33623, C_DNM_UD_ORGANICA_SUPERIOR#33624, C_ID_DEP_UD_PRINCIPAL#33625, C_DNM_UD_ORGANICA_PRINCIPAL#33626, B_SW_DEP_EDP_PRINCIPAL#33627, C_ID_DEP_EDP_PRINCIPAL#33628, C_DNM_UD_ORGANICA_EDP_PRINCIPAL#33629, C_ID_ESTADO#33630, D_VIG_ALTA_OFICIAL#33631, NIF_CIF#33632, C_ID_AMB_PROVINCIA#33633, C_DESC_PROV#33634, CONTACTOS#33635, C_DNM_UD_ORGANICA_Norm#33636, aux#32170, source_names_stopwords#32145, array_join(target_names_stopwords#32198,  , None) AS target_names_stopwords#32227]\n:                                                           +- Project [source_name#33615, target_name#33616, Entidad_Norm#33617, C_ID_UD_ORGANICA#33618, C_DNM_UD_ORGANICA#33619, C_ID_NIVEL_ADMON#33620, C_ID_TIPO_ENT_PUBLICA#33621, N_NIVEL_JERARQUICO#33622, C_ID_DEP_UD_SUPERIOR#33623, C_DNM_UD_ORGANICA_SUPERIOR#33624, C_ID_DEP_UD_PRINCIPAL#33625, C_DNM_UD_ORGANICA_PRINCIPAL#33626, B_SW_DEP_EDP_PRINCIPAL#33627, C_ID_DEP_EDP_PRINCIPAL#33628, C_DNM_UD_ORGANICA_EDP_PRINCIPAL#33629, C_ID_ESTADO#33630, D_VIG_ALTA_OFICIAL#33631, NIF_CIF#33632, C_ID_AMB_PROVINCIA#33633, C_DESC_PROV#33634, CONTACTOS#33635, C_DNM_UD_ORGANICA_Norm#33636, aux#32170, source_names_stopwords#32145, UDF(aux#32170) AS target_names_stopwords#32198]\n:                                                              +- Project [source_name#33615, target_name#33616, Entidad_Norm#33617, C_ID_UD_ORGANICA#33618, C_DNM_UD_ORGANICA#33619, C_ID_NIVEL_ADMON#33620, C_ID_TIPO_ENT_PUBLICA#33621, N_NIVEL_JERARQUICO#33622, C_ID_DEP_UD_SUPERIOR#33623, C_DNM_UD_ORGANICA_SUPERIOR#33624, C_ID_DEP_UD_PRINCIPAL#33625, C_DNM_UD_ORGANICA_PRINCIPAL#33626, B_SW_DEP_EDP_PRINCIPAL#33627, C_ID_DEP_EDP_PRINCIPAL#33628, C_DNM_UD_ORGANICA_EDP_PRINCIPAL#33629, C_ID_ESTADO#33630, D_VIG_ALTA_OFICIAL#33631, NIF_CIF#33632, C_ID_AMB_PROVINCIA#33633, C_DESC_PROV#33634, CONTACTOS#33635, C_DNM_UD_ORGANICA_Norm#33636, split(target_name#33616, \\s+, -1) AS aux#32170, source_names_stopwords#32145]\n:                                                                 +- Project [source_name#33615, target_name#33616, Entidad_Norm#33617, C_ID_UD_ORGANICA#33618, C_DNM_UD_ORGANICA#33619, C_ID_NIVEL_ADMON#33620, C_ID_TIPO_ENT_PUBLICA#33621, N_NIVEL_JERARQUICO#33622, C_ID_DEP_UD_SUPERIOR#33623, C_DNM_UD_ORGANICA_SUPERIOR#33624, C_ID_DEP_UD_PRINCIPAL#33625, C_DNM_UD_ORGANICA_PRINCIPAL#33626, B_SW_DEP_EDP_PRINCIPAL#33627, C_ID_DEP_EDP_PRINCIPAL#33628, C_DNM_UD_ORGANICA_EDP_PRINCIPAL#33629, C_ID_ESTADO#33630, D_VIG_ALTA_OFICIAL#33631, NIF_CIF#33632, C_ID_AMB_PROVINCIA#33633, C_DESC_PROV#33634, CONTACTOS#33635, C_DNM_UD_ORGANICA_Norm#33636, aux#32090, array_join(source_names_stopwords#32117,  , None) AS source_names_stopwords#32145]\n:                                                                    +- Project [source_name#33615, target_name#33616, Entidad_Norm#33617, C_ID_UD_ORGANICA#33618, C_DNM_UD_ORGANICA#33619, C_ID_NIVEL_ADMON#33620, C_ID_TIPO_ENT_PUBLICA#33621, N_NIVEL_JERARQUICO#33622, C_ID_DEP_UD_SUPERIOR#33623, C_DNM_UD_ORGANICA_SUPERIOR#33624, C_ID_DEP_UD_PRINCIPAL#33625, C_DNM_UD_ORGANICA_PRINCIPAL#33626, B_SW_DEP_EDP_PRINCIPAL#33627, C_ID_DEP_EDP_PRINCIPAL#33628, C_DNM_UD_ORGANICA_EDP_PRINCIPAL#33629, C_ID_ESTADO#33630, D_VIG_ALTA_OFICIAL#33631, NIF_CIF#33632, C_ID_AMB_PROVINCIA#33633, C_DESC_PROV#33634, CONTACTOS#33635, C_DNM_UD_ORGANICA_Norm#33636, aux#32090, UDF(aux#32090) AS source_names_stopwords#32117]\n:                                                                       +- Project [source_name#33615, target_name#33616, Entidad_Norm#33617, C_ID_UD_ORGANICA#33618, C_DNM_UD_ORGANICA#33619, C_ID_NIVEL_ADMON#33620, C_ID_TIPO_ENT_PUBLICA#33621, N_NIVEL_JERARQUICO#33622, C_ID_DEP_UD_SUPERIOR#33623, C_DNM_UD_ORGANICA_SUPERIOR#33624, C_ID_DEP_UD_PRINCIPAL#33625, C_DNM_UD_ORGANICA_PRINCIPAL#33626, B_SW_DEP_EDP_PRINCIPAL#33627, C_ID_DEP_EDP_PRINCIPAL#33628, C_DNM_UD_ORGANICA_EDP_PRINCIPAL#33629, C_ID_ESTADO#33630, D_VIG_ALTA_OFICIAL#33631, NIF_CIF#33632, C_ID_AMB_PROVINCIA#33633, C_DESC_PROV#33634, CONTACTOS#33635, C_DNM_UD_ORGANICA_Norm#33636, split(source_name#33615, \\s+, -1) AS aux#32090]\n:                                                                          +- LogicalRDD [source_name#33615, target_name#33616, Entidad_Norm#33617, C_ID_UD_ORGANICA#33618, C_DNM_UD_ORGANICA#33619, C_ID_NIVEL_ADMON#33620, C_ID_TIPO_ENT_PUBLICA#33621, N_NIVEL_JERARQUICO#33622, C_ID_DEP_UD_SUPERIOR#33623, C_DNM_UD_ORGANICA_SUPERIOR#33624, C_ID_DEP_UD_PRINCIPAL#33625, C_DNM_UD_ORGANICA_PRINCIPAL#33626, B_SW_DEP_EDP_PRINCIPAL#33627, C_ID_DEP_EDP_PRINCIPAL#33628, C_DNM_UD_ORGANICA_EDP_PRINCIPAL#33629, C_ID_ESTADO#33630, D_VIG_ALTA_OFICIAL#33631, NIF_CIF#33632, C_ID_AMB_PROVINCIA#33633, C_DESC_PROV#33634, CONTACTOS#33635, C_DNM_UD_ORGANICA_Norm#33636], false\n+- Project [Id#10956 AS Id#34542, CIF#34185 AS CIF#34543, Entidad_Norm#34074 AS Entidad_Norm#34544, Provincia_Entidad#34130 AS Provincia_Entidad#34545, ID_ENTIDAD#7148 AS ID_ENTIDAD#34546, NIF_COD#7206 AS NIF_COD#34547, ACRONIMO#7265 AS ACRONIMO#34548, NOMBRE_ENTIDAD#7325 AS NOMBRE_ENTIDAD#34549, Nombre_Entidad_Mostrar#7386 AS Nombre_Entidad_Mostrar#34550, TIPO_ENTIDAD_N1_1#7448 AS TIPO_ENTIDAD_N1_1#34551, TIPO_ENTIDAD_N2_1#7511 AS TIPO_ENTIDAD_N2_1#34552, DIRECCION_POSTAL#7575 AS DIRECCION_POSTAL#34553, COD_POSTAL#7640 AS COD_POSTAL#34554, COD_PROVINCIA#7706 AS COD_PROVINCIA#34555, PROVINCIA#7773 AS PROVINCIA#34556, COD_CCAA#7841 AS COD_CCAA#34557, CCAA#7910 AS CCAA#34558, ENLACE_WEB#7980 AS ENLACE_WEB#34559, SOMMA#8051 AS SOMMA#34560, TIPO_ENTIDAD_REGIONAL#8123 AS TIPO_ENTIDAD_REGIONAL#34561, ESTADO_x#8196 AS ESTADO_x#34562, CodigoInvente#34358 AS CodigoInvente#34563, DenominacionSocial#34355 AS DenominacionSocial#34564, FormaJuridica_Codigo#34359 AS FormaJuridica_Codigo#34565, ... 31 more fields]\n   +- Project [Id#10956, NIF_CIF#34449 AS CIF#34185, C_DNM_UD_ORGANICA#34436 AS Entidad_Norm#34074, C_DESC_PROV#34451 AS Provincia_Entidad#34130, ID_ENTIDAD#7148, NIF_COD#7206, ACRONIMO#7265, NOMBRE_ENTIDAD#7325, Nombre_Entidad_Mostrar#7386, TIPO_ENTIDAD_N1_1#7448, TIPO_ENTIDAD_N2_1#7511, DIRECCION_POSTAL#7575, COD_POSTAL#7640, COD_PROVINCIA#7706, PROVINCIA#7773, COD_CCAA#7841, CCAA#7910, ENLACE_WEB#7980, SOMMA#8051, TIPO_ENTIDAD_REGIONAL#8123, ESTADO_x#8196, CodigoInvente#34358, DenominacionSocial#34355, FormaJuridica_Codigo#34359, ... 31 more fields]\n      +- Filter isnull(final_score#32306)\n         +- Join LeftOuter, (Entidad_Norm#14290 = Entidad_Norm#34434)\n            :- Project [Id#10956, CIF#14393, Entidad_Norm#14290, Provincia_Entidad#14341, ID_ENTIDAD#7148, NIF_COD#7206, ACRONIMO#7265, NOMBRE_ENTIDAD#7325, Nombre_Entidad_Mostrar#7386, TIPO_ENTIDAD_N1_1#7448, TIPO_ENTIDAD_N2_1#7511, DIRECCION_POSTAL#7575, COD_POSTAL#7640, COD_PROVINCIA#7706, PROVINCIA#7773, COD_CCAA#7841, CCAA#7910, ENLACE_WEB#7980, SOMMA#8051, TIPO_ENTIDAD_REGIONAL#8123, ESTADO_x#8196, CodigoInvente#34358, DenominacionSocial#34355, FormaJuridica_Codigo#34359, ... 9 more fields]\n            :  +- Union false, false\n            :     :- Project [Id#10956, NIF#34357 AS CIF#14393, DenominacionSocial_Norm#34363 AS Entidad_Norm#14290, Provincia_Codigo#34356 AS Provincia_Entidad#14341, ID_ENTIDAD#7148, NIF_COD#7206, ACRONIMO#7265, NOMBRE_ENTIDAD#7325, Nombre_Entidad_Mostrar#7386, TIPO_ENTIDAD_N1_1#7448, TIPO_ENTIDAD_N2_1#7511, DIRECCION_POSTAL#7575, COD_POSTAL#7640, COD_PROVINCIA#7706, PROVINCIA#7773, COD_CCAA#7841, CCAA#7910, ENLACE_WEB#7980, SOMMA#8051, TIPO_ENTIDAD_REGIONAL#8123, ESTADO_x#8196, CodigoInvente#34358, DenominacionSocial#34355, FormaJuridica_Codigo#34359, ... 27 more fields]\n            :     :  +- Filter isnotnull(final_score#14072)\n            :     :     +- Join LeftOuter, (Entidad_Norm#7034 = Entidad_Norm#34354)\n            :     :        :- Project [Id#10956, Entidad_Norm#7034, ID_ENTIDAD#7148, NIF_COD#7206, ACRONIMO#7265, NOMBRE_ENTIDAD#7325, Nombre_Entidad_Mostrar#7386, TIPO_ENTIDAD_N1_1#7448, TIPO_ENTIDAD_N2_1#7511, DIRECCION_POSTAL#7575, COD_POSTAL#7640, COD_PROVINCIA#7706, PROVINCIA#7773, COD_CCAA#7841, CCAA#7910, ENLACE_WEB#7980, SOMMA#8051, TIPO_ENTIDAD_REGIONAL#8123, ESTADO_x#8196, C_ID_UD_ORGANICA#8898, C_DNM_UD_ORGANICA#8981, C_ID_NIVEL_ADMON#9065, C_ID_TIPO_ENT_PUBLICA#9150, N_NIVEL_JERARQUICO#9236, ... 16 more fields]\n            :     :        :  +- Project [Id#10956, CIF#6977, Entidad_Norm#7034, Provincia_Entidad#7091, ID_ENTIDAD#7148, NIF_COD#7206, ACRONIMO#7265, NOMBRE_ENTIDAD#7325, Nombre_Entidad_Mostrar#7386, TIPO_ENTIDAD_N1_1#7448, TIPO_ENTIDAD_N2_1#7511, DIRECCION_POSTAL#7575, COD_POSTAL#7640, COD_PROVINCIA#7706, PROVINCIA#7773, COD_CCAA#7841, CCAA#7910, ENLACE_WEB#7980, SOMMA#8051, TIPO_ENTIDAD_REGIONAL#8123, ESTADO_x#8196, CodigoInvente#8270, DenominacionSocial#8345, FormaJuridica_Codigo#8421, ... 26 more fields]\n            :     :        :     +- Project [IdOld#10851, Entidad#34297, Origen_Solicitud#34298, Identificadores_Origen#34299, Entidad_Norm#7034, CIF#6977, CIF_validacion#34302, Centro#34303, Centro_Norm#34304, Tipo#34305, Provincia_Entidad#7091, Pais_Entidad#34307, Provincia_Centro#34308, PIC#34309, Tipo_Persona#34310, Entidad_Match#34311, Provincia_Match#34312, Match#34313, Id_NIVEL_1#34314, Id_NIVEL_0#34315, ID_ENTIDAD_NIVEL_0#34316, ID_ENTIDAD_NIVEL_1#34317, Jerarquia#34318, NIF_COD_NIVEL_0#34319, ... 79 more fields]\n            :     :        :        +- Project [coalesce(Dummy#11070, Dummy#10962) AS Dummy#11174, IdOld#10851, Entidad#34297, Origen_Solicitud#34298, Identificadores_Origen#34299, Entidad_Norm#7034, CIF#6977, CIF_validacion#34302, Centro#34303, Centro_Norm#34304, Tipo#34305, Provincia_Entidad#7091, Pais_Entidad#34307, Provincia_Centro#34308, PIC#34309, Tipo_Persona#34310, Entidad_Match#34311, Provincia_Match#34312, Match#34313, Id_NIVEL_1#34314, Id_NIVEL_0#34315, ID_ENTIDAD_NIVEL_0#34316, ID_ENTIDAD_NIVEL_1#34317, Jerarquia#34318, ... 80 more fields]\n            :     :        :           +- Join FullOuter, (Dummy#11070 = Dummy#10962)\n            :     :        :              :- Project [IdOld#10851, Entidad#34297, Origen_Solicitud#34298, Identificadores_Origen#34299, Entidad_Norm#7034, CIF#6977, CIF_validacion#34302, Centro#34303, Centro_Norm#34304, Tipo#34305, Provincia_Entidad#7091, Pais_Entidad#34307, Provincia_Centro#34308, PIC#34309, Tipo_Persona#34310, Entidad_Match#34311, Provincia_Match#34312, Match#34313, Id_NIVEL_1#34314, Id_NIVEL_0#34315, ID_ENTIDAD_NIVEL_0#34316, ID_ENTIDAD_NIVEL_1#34317, Jerarquia#34318, NIF_COD_NIVEL_0#34319, ... 79 more fields]\n            :     :        :              :  +- Project [IdOld#10851, Entidad#34297, Origen_Solicitud#34298, Identificadores_Origen#34299, Entidad_Norm#7034, CIF#6977, CIF_validacion#34302, Centro#34303, Centro_Norm#34304, Tipo#34305, Provincia_Entidad#7091, Pais_Entidad#34307, Provincia_Centro#34308, PIC#34309, Tipo_Persona#34310, Entidad_Match#34311, Provincia_Match#34312, Match#34313, Id_NIVEL_1#34314, Id_NIVEL_0#34315, ID_ENTIDAD_NIVEL_0#34316, ID_ENTIDAD_NIVEL_1#34317, Jerarquia#34318, NIF_COD_NIVEL_0#34319, ... 81 more fields]\n            :     :        :              :     +- Window [row_number() windowspecdefinition(Dummy#10965L ASC NULLS FIRST, specifiedwindowframe(RowFrame, unboundedpreceding$(), currentrow$())) AS Dummy#11070], [Dummy#10965L ASC NULLS FIRST]\n            :     :        :              :        +- Project [IdOld#10851, Entidad#34297, Origen_Solicitud#34298, Identificadores_Origen#34299, Entidad_Norm#7034, CIF#6977, CIF_validacion#34302, Centro#34303, Centro_Norm#34304, Tipo#34305, Provincia_Entidad#7091, Pais_Entidad#34307, Provincia_Centro#34308, PIC#34309, Tipo_Persona#34310, Entidad_Match#34311, Provincia_Match#34312, Match#34313, Id_NIVEL_1#34314, Id_NIVEL_0#34315, ID_ENTIDAD_NIVEL_0#34316, ID_ENTIDAD_NIVEL_1#34317, Jerarquia#34318, NIF_COD_NIVEL_0#34319, ... 79 more fields]\n            :     :        :              :           +- Project [IdOld#10851, Entidad#34297, Origen_Solicitud#34298, Identificadores_Origen#34299, Entidad_Norm#7034, CIF#6977, CIF_validacion#34302, Centro#34303, Centro_Norm#34304, Tipo#34305, Provincia_Entidad#7091, Pais_Entidad#34307, Provincia_Centro#34308, PIC#34309, Tipo_Persona#34310, Entidad_Match#34311, Provincia_Match#34312, Match#34313, Id_NIVEL_1#34314, Id_NIVEL_0#34315, ID_ENTIDAD_NIVEL_0#34316, ID_ENTIDAD_NIVEL_1#34317, Jerarquia#34318, NIF_COD_NIVEL_0#34319, ... 79 more fields]\n            :     :        :              :              +- Project [Id#34296 AS IdOld#10851, Entidad#34297, Origen_Solicitud#34298, Identificadores_Origen#34299, Entidad_Norm#7034, CIF#6977, CIF_validacion#34302, Centro#34303, Centro_Norm#34304, Tipo#34305, Provincia_Entidad#7091, Pais_Entidad#34307, Provincia_Centro#34308, PIC#34309, Tipo_Persona#34310, Entidad_Match#34311, Provincia_Match#34312, Match#34313, Id_NIVEL_1#34314, Id_NIVEL_0#34315, ID_ENTIDAD_NIVEL_0#34316, ID_ENTIDAD_NIVEL_1#34317, Jerarquia#34318, NIF_COD_NIVEL_0#34319, ... 78 more fields]\n            :     :        :              :                 +- Project [Id#34296, Entidad#34297, Origen_Solicitud#34298, Identificadores_Origen#34299, Entidad_Norm#7034, CIF#6977, CIF_validacion#34302, Centro#34303, Centro_Norm#34304, Tipo#34305, Provincia_Entidad#7091, Pais_Entidad#34307, Provincia_Centro#34308, PIC#34309, Tipo_Persona#34310, Entidad_Match#34311, Provincia_Match#34312, Match#34313, Id_NIVEL_1#34314, Id_NIVEL_0#34315, ID_ENTIDAD_NIVEL_0#34316, ID_ENTIDAD_NIVEL_1#34317, Jerarquia#34318, NIF_COD_NIVEL_0#34319, ... 78 more fields]\n            :     :        :              :                    +- Project [Id#34296, Entidad#34297, Origen_Solicitud#34298, Identificadores_Origen#34299, Entidad_Norm#7034, CIF#6977, CIF_validacion#34302, Centro#34303, Centro_Norm#34304, Tipo#34305, Provincia_Entidad#7091, Pais_Entidad#34307, Provincia_Centro#34308, PIC#34309, Tipo_Persona#34310, Entidad_Match#34311, Provincia_Match#34312, Match#34313, Id_NIVEL_1#34314, Id_NIVEL_0#34315, ID_ENTIDAD_NIVEL_0#34316, ID_ENTIDAD_NIVEL_1#34317, Jerarquia#34318, NIF_COD_NIVEL_0#34319, ... 77 more fields]\n            :     :        :              :                       +- Project [Id#34296, Entidad#34297, Origen_Solicitud#34298, Identificadores_Origen#34299, Entidad_Norm#7034, CIF#6977, CIF_validacion#34302, Centro#34303, Centro_Norm#34304, Tipo#34305, Provincia_Entidad#7091, Pais_Entidad#34307, Provincia_Centro#34308, PIC#34309, Tipo_Persona#34310, Entidad_Match#34311, Provincia_Match#34312, Match#34313, Id_NIVEL_1#34314, Id_NIVEL_0#34315, ID_ENTIDAD_NIVEL_0#34316, ID_ENTIDAD_NIVEL_1#34317, Jerarquia#34318, NIF_COD_NIVEL_0#34319, ... 76 more fields]\n            :     :        :              :                          +- Project [Id#34296, Entidad#34297, Origen_Solicitud#34298, Identificadores_Origen#34299, Entidad_Norm#7034, CIF#6977, CIF_validacion#34302, Centro#34303, Centro_Norm#34304, Tipo#34305, Provincia_Entidad#7091, Pais_Entidad#34307, Provincia_Centro#34308, PIC#34309, Tipo_Persona#34310, Entidad_Match#34311, Provincia_Match#34312, Match#34313, Id_NIVEL_1#34314, Id_NIVEL_0#34315, ID_ENTIDAD_NIVEL_0#34316, ID_ENTIDAD_NIVEL_1#34317, Jerarquia#34318, NIF_COD_NIVEL_0#34319, ... 75 more fields]\n            :     :        :              :                             +- Project [Id#34296, Entidad#34297, Origen_Solicitud#34298, Identificadores_Origen#34299, Entidad_Norm#7034, CIF#6977, CIF_validacion#34302, Centro#34303, Centro_Norm#34304, Tipo#34305, Provincia_Entidad#7091, Pais_Entidad#34307, Provincia_Centro#34308, PIC#34309, Tipo_Persona#34310, Entidad_Match#34311, Provincia_Match#34312, Match#34313, Id_NIVEL_1#34314, Id_NIVEL_0#34315, ID_ENTIDAD_NIVEL_0#34316, ID_ENTIDAD_NIVEL_1#34317, Jerarquia#34318, NIF_COD_NIVEL_0#34319, ... 74 more fields]\n            :     :        :              :                                +- Project [Id#34296, Entidad#34297, Origen_Solicitud#34298, Identificadores_Origen#34299, Entidad_Norm#7034, CIF#6977, CIF_validacion#34302, Centro#34303, Centro_Norm#34304, Tipo#34305, Provincia_Entidad#7091, Pais_Entidad#34307, Provincia_Centro#34308, PIC#34309, Tipo_Persona#34310, Entidad_Match#34311, Provincia_Match#34312, Match#34313, Id_NIVEL_1#34314, Id_NIVEL_0#34315, ID_ENTIDAD_NIVEL_0#34316, ID_ENTIDAD_NIVEL_1#34317, Jerarquia#34318, NIF_COD_NIVEL_0#34319, ... 73 more fields]\n            :     :        :              :                                   +- Project [Id#34296, Entidad#34297, Origen_Solicitud#34298, Identificadores_Origen#34299, Entidad_Norm#7034, CIF#6977, CIF_validacion#34302, Centro#34303, Centro_Norm#34304, Tipo#34305, Provincia_Entidad#7091, Pais_Entidad#34307, Provincia_Centro#34308, PIC#34309, Tipo_Persona#34310, Entidad_Match#34311, Provincia_Match#34312, Match#34313, Id_NIVEL_1#34314, Id_NIVEL_0#34315, ID_ENTIDAD_NIVEL_0#34316, ID_ENTIDAD_NIVEL_1#34317, Jerarquia#34318, NIF_COD_NIVEL_0#34319, ... 72 more fields]\n            :     :        :              :                                      +- Project [Id#34296, Entidad#34297, Origen_Solicitud#34298, Identificadores_Origen#34299, Entidad_Norm#7034, CIF#6977, CIF_validacion#34302, Centro#34303, Centro_Norm#34304, Tipo#34305, Provincia_Entidad#7091, Pais_Entidad#34307, Provincia_Centro#34308, PIC#34309, Tipo_Persona#34310, Entidad_Match#34311, Provincia_Match#34312, Match#34313, Id_NIVEL_1#34314, Id_NIVEL_0#34315, ID_ENTIDAD_NIVEL_0#34316, ID_ENTIDAD_NIVEL_1#34317, Jerarquia#34318, NIF_COD_NIVEL_0#34319, ... 71 more fields]\n            :     :        :              :                                         +- Project [Id#34296, Entidad#34297, Origen_Solicitud#34298, Identificadores_Origen#34299, Entidad_Norm#7034, CIF#6977, CIF_validacion#34302, Centro#34303, Centro_Norm#34304, Tipo#34305, Provincia_Entidad#7091, Pais_Entidad#34307, Provincia_Centro#34308, PIC#34309, Tipo_Persona#34310, Entidad_Match#34311, Provincia_Match#34312, Match#34313, Id_NIVEL_1#34314, Id_NIVEL_0#34315, ID_ENTIDAD_NIVEL_0#34316, ID_ENTIDAD_NIVEL_1#34317, Jerarquia#34318, NIF_COD_NIVEL_0#34319, ... 70 more fields]\n            :     :        :              :                                            +- Project [Id#34296, Entidad#34297, Origen_Solicitud#34298, Identificadores_Origen#34299, Entidad_Norm#7034, CIF#6977, CIF_validacion#34302, Centro#34303, Centro_Norm#34304, Tipo#34305, Provincia_Entidad#7091, Pais_Entidad#34307, Provincia_Centro#34308, PIC#34309, Tipo_Persona#34310, Entidad_Match#34311, Provincia_Match#34312, Match#34313, Id_NIVEL_1#34314, Id_NIVEL_0#34315, ID_ENTIDAD_NIVEL_0#34316, ID_ENTIDAD_NIVEL_1#34317, Jerarquia#34318, NIF_COD_NIVEL_0#34319, ... 69 more fields]\n            :     :        :              :                                               +- Project [Id#34296, Entidad#34297, Origen_Solicitud#34298, Identificadores_Origen#34299, Entidad_Norm#7034, CIF#6977, CIF_validacion#34302, Centro#34303, Centro_Norm#34304, Tipo#34305, Provincia_Entidad#7091, Pais_Entidad#34307, Provincia_Centro#34308, PIC#34309, Tipo_Persona#34310, Entidad_Match#34311, Provincia_Match#34312, Match#34313, Id_NIVEL_1#34314, Id_NIVEL_0#34315, ID_ENTIDAD_NIVEL_0#34316, ID_ENTIDAD_NIVEL_1#34317, Jerarquia#34318, NIF_COD_NIVEL_0#34319, ... 68 more fields]\n            :     :        :              :                                                  +- Project [Id#34296, Entidad#34297, Origen_Solicitud#34298, Identificadores_Origen#34299, Entidad_Norm#7034, CIF#6977, CIF_validacion#34302, Centro#34303, Centro_Norm#34304, Tipo#34305, Provincia_Entidad#7091, Pais_Entidad#34307, Provincia_Centro#34308, PIC#34309, Tipo_Persona#34310, Entidad_Match#34311, Provincia_Match#34312, Match#34313, Id_NIVEL_1#34314, Id_NIVEL_0#34315, ID_ENTIDAD_NIVEL_0#34316, ID_ENTIDAD_NIVEL_1#34317, Jerarquia#34318, NIF_COD_NIVEL_0#34319, ... 67 more fields]\n            :     :        :              :                                                     +- Project [Id#34296, Entidad#34297, Origen_Solicitud#34298, Identificadores_Origen#34299, Entidad_Norm#7034, CIF#6977, CIF_validacion#34302, Centro#34303, Centro_Norm#34304, Tipo#34305, Provincia_Entidad#7091, Pais_Entidad#34307, Provincia_Centro#34308, PIC#34309, Tipo_Persona#34310, Entidad_Match#34311, Provincia_Match#34312, Match#34313, Id_NIVEL_1#34314, Id_NIVEL_0#34315, ID_ENTIDAD_NIVEL_0#34316, ID_ENTIDAD_NIVEL_1#34317, Jerarquia#34318, NIF_COD_NIVEL_0#34319, ... 66 more fields]\n            :     :        :              :                                                        +- Project [Id#34296, Entidad#34297, Origen_Solicitud#34298, Identificadores_Origen#34299, Entidad_Norm#7034, CIF#6977, CIF_validacion#34302, Centro#34303, Centro_Norm#34304, Tipo#34305, Provincia_Entidad#7091, Pais_Entidad#34307, Provincia_Centro#34308, PIC#34309, Tipo_Persona#34310, Entidad_Match#34311, Provincia_Match#34312, Match#34313, Id_NIVEL_1#34314, Id_NIVEL_0#34315, ID_ENTIDAD_NIVEL_0#34316, ID_ENTIDAD_NIVEL_1#34317, Jerarquia#34318, NIF_COD_NIVEL_0#34319, ... 65 more fields]\n            :     :        :              :                                                           +- Project [Id#34296, Entidad#34297, Origen_Solicitud#34298, Identificadores_Origen#34299, Entidad_Norm#7034, CIF#6977, CIF_validacion#34302, Centro#34303, Centro_Norm#34304, Tipo#34305, Provincia_Entidad#7091, Pais_Entidad#34307, Provincia_Centro#34308, PIC#34309, Tipo_Persona#34310, Entidad_Match#34311, Provincia_Match#34312, Match#34313, Id_NIVEL_1#34314, Id_NIVEL_0#34315, ID_ENTIDAD_NIVEL_0#34316, ID_ENTIDAD_NIVEL_1#34317, Jerarquia#34318, NIF_COD_NIVEL_0#34319, ... 64 more fields]\n            :     :        :              :                                                              +- Project [Id#34296, Entidad#34297, Origen_Solicitud#34298, Identificadores_Origen#34299, Entidad_Norm#7034, CIF#6977, CIF_validacion#34302, Centro#34303, Centro_Norm#34304, Tipo#34305, Provincia_Entidad#7091, Pais_Entidad#34307, Provincia_Centro#34308, PIC#34309, Tipo_Persona#34310, Entidad_Match#34311, Provincia_Match#34312, Match#34313, Id_NIVEL_1#34314, Id_NIVEL_0#34315, ID_ENTIDAD_NIVEL_0#34316, ID_ENTIDAD_NIVEL_1#34317, Jerarquia#34318, NIF_COD_NIVEL_0#34319, ... 63 more fields]\n            :     :        :              :                                                                 +- Project [Id#34296, Entidad#34297, Origen_Solicitud#34298, Identificadores_Origen#34299, Entidad_Norm#7034, CIF#6977, CIF_validacion#34302, Centro#34303, Centro_Norm#34304, Tipo#34305, Provincia_Entidad#7091, Pais_Entidad#34307, Provincia_Centro#34308, PIC#34309, Tipo_Persona#34310, Entidad_Match#34311, Provincia_Match#34312, Match#34313, Id_NIVEL_1#34314, Id_NIVEL_0#34315, ID_ENTIDAD_NIVEL_0#34316, ID_ENTIDAD_NIVEL_1#34317, Jerarquia#34318, NIF_COD_NIVEL_0#34319, ... 62 more fields]\n            :     :        :              :                                                                    +- Project [Id#34296, Entidad#34297, Origen_Solicitud#34298, Identificadores_Origen#34299, Entidad_Norm#7034, CIF#6977, CIF_validacion#34302, Centro#34303, Centro_Norm#34304, Tipo#34305, Provincia_Entidad#7091, Pais_Entidad#34307, Provincia_Centro#34308, PIC#34309, Tipo_Persona#34310, Entidad_Match#34311, Provincia_Match#34312, Match#34313, Id_NIVEL_1#34314, Id_NIVEL_0#34315, ID_ENTIDAD_NIVEL_0#34316, ID_ENTIDAD_NIVEL_1#34317, Jerarquia#34318, NIF_COD_NIVEL_0#34319, ... 61 more fields]\n            :     :        :              :                                                                       +- Project [Id#34296, Entidad#34297, Origen_Solicitud#34298, Identificadores_Origen#34299, Entidad_Norm#7034, CIF#6977, CIF_validacion#34302, Centro#34303, Centro_Norm#34304, Tipo#34305, Provincia_Entidad#7091, Pais_Entidad#34307, Provincia_Centro#34308, PIC#34309, Tipo_Persona#34310, Entidad_Match#34311, Provincia_Match#34312, Match#34313, Id_NIVEL_1#34314, Id_NIVEL_0#34315, ID_ENTIDAD_NIVEL_0#34316, ID_ENTIDAD_NIVEL_1#34317, Jerarquia#34318, NIF_COD_NIVEL_0#34319, ... 60 more fields]\n            :     :        :              :                                                                          +- Project [Id#34296, Entidad#34297, Origen_Solicitud#34298, Identificadores_Origen#34299, Entidad_Norm#7034, CIF#6977, CIF_validacion#34302, Centro#34303, Centro_Norm#34304, Tipo#34305, Provincia_Entidad#7091, Pais_Entidad#34307, Provincia_Centro#34308, PIC#34309, Tipo_Persona#34310, Entidad_Match#34311, Provincia_Match#34312, Match#34313, Id_NIVEL_1#34314, Id_NIVEL_0#34315, ID_ENTIDAD_NIVEL_0#34316, ID_ENTIDAD_NIVEL_1#34317, Jerarquia#34318, NIF_COD_NIVEL_0#34319, ... 59 more fields]\n            :     :        :              :                                                                             +- Project [Id#34296, Entidad#34297, Origen_Solicitud#34298, Identificadores_Origen#34299, Entidad_Norm#7034, CIF#6977, CIF_validacion#34302, Centro#34303, Centro_Norm#34304, Tipo#34305, Provincia_Entidad#7091, Pais_Entidad#34307, Provincia_Centro#34308, PIC#34309, Tipo_Persona#34310, Entidad_Match#34311, Provincia_Match#34312, Match#34313, Id_NIVEL_1#34314, Id_NIVEL_0#34315, ID_ENTIDAD_NIVEL_0#34316, ID_ENTIDAD_NIVEL_1#34317, Jerarquia#34318, NIF_COD_NIVEL_0#34319, ... 58 more fields]\n            :     :        :              :                                                                                +- Project [Id#34296, Entidad#34297, Origen_Solicitud#34298, Identificadores_Origen#34299, Entidad_Norm#7034, CIF#6977, CIF_validacion#34302, Centro#34303, Centro_Norm#34304, Tipo#34305, Provincia_Entidad#7091, Pais_Entidad#34307, Provincia_Centro#34308, PIC#34309, Tipo_Persona#34310, Entidad_Match#34311, Provincia_Match#34312, Match#34313, Id_NIVEL_1#34314, Id_NIVEL_0#34315, ID_ENTIDAD_NIVEL_0#34316, ID_ENTIDAD_NIVEL_1#34317, Jerarquia#34318, NIF_COD_NIVEL_0#34319, ... 57 more fields]\n            :     :        :              :                                                                                   +- Project [Id#34296, Entidad#34297, Origen_Solicitud#34298, Identificadores_Origen#34299, Entidad_Norm#7034, CIF#6977, CIF_validacion#34302, Centro#34303, Centro_Norm#34304, Tipo#34305, Provincia_Entidad#7091, Pais_Entidad#34307, Provincia_Centro#34308, PIC#34309, Tipo_Persona#34310, Entidad_Match#34311, Provincia_Match#34312, Match#34313, Id_NIVEL_1#34314, Id_NIVEL_0#34315, ID_ENTIDAD_NIVEL_0#34316, ID_ENTIDAD_NIVEL_1#34317, Jerarquia#34318, NIF_COD_NIVEL_0#34319, ... 56 more fields]\n            :     :        :              :                                                                                      +- Project [Id#34296, Entidad#34297, Origen_Solicitud#34298, Identificadores_Origen#34299, Entidad_Norm#7034, CIF#6977, CIF_validacion#34302, Centro#34303, Centro_Norm#34304, Tipo#34305, Provincia_Entidad#7091, Pais_Entidad#34307, Provincia_Centro#34308, PIC#34309, Tipo_Persona#34310, Entidad_Match#34311, Provincia_Match#34312, Match#34313, Id_NIVEL_1#34314, Id_NIVEL_0#34315, ID_ENTIDAD_NIVEL_0#34316, ID_ENTIDAD_NIVEL_1#34317, Jerarquia#34318, NIF_COD_NIVEL_0#34319, ... 55 more fields]\n            :     :        :              :                                                                                         +- Project [Id#34296, Entidad#34297, Origen_Solicitud#34298, Identificadores_Origen#34299, Entidad_Norm#7034, CIF#6977, CIF_validacion#34302, Centro#34303, Centro_Norm#34304, Tipo#34305, Provincia_Entidad#7091, Pais_Entidad#34307, Provincia_Centro#34308, PIC#34309, Tipo_Persona#34310, Entidad_Match#34311, Provincia_Match#34312, Match#34313, Id_NIVEL_1#34314, Id_NIVEL_0#34315, ID_ENTIDAD_NIVEL_0#34316, ID_ENTIDAD_NIVEL_1#34317, Jerarquia#34318, NIF_COD_NIVEL_0#34319, ... 54 more fields]\n            :     :        :              :                                                                                            +- Project [Id#34296, Entidad#34297, Origen_Solicitud#34298, Identificadores_Origen#34299, Entidad_Norm#7034, CIF#6977, CIF_validacion#34302, Centro#34303, Centro_Norm#34304, Tipo#34305, Provincia_Entidad#7091, Pais_Entidad#34307, Provincia_Centro#34308, PIC#34309, Tipo_Persona#34310, Entidad_Match#34311, Provincia_Match#34312, Match#34313, Id_NIVEL_1#34314, Id_NIVEL_0#34315, ID_ENTIDAD_NIVEL_0#34316, ID_ENTIDAD_NIVEL_1#34317, Jerarquia#34318, NIF_COD_NIVEL_0#34319, ... 53 more fields]\n            :     :        :              :                                                                                               +- Project [Id#34296, Entidad#34297, Origen_Solicitud#34298, Identificadores_Origen#34299, Entidad_Norm#7034, CIF#6977, CIF_validacion#34302, Centro#34303, Centro_Norm#34304, Tipo#34305, Provincia_Entidad#7091, Pais_Entidad#34307, Provincia_Centro#34308, PIC#34309, Tipo_Persona#34310, Entidad_Match#34311, Provincia_Match#34312, Match#34313, Id_NIVEL_1#34314, Id_NIVEL_0#34315, ID_ENTIDAD_NIVEL_0#34316, ID_ENTIDAD_NIVEL_1#34317, Jerarquia#34318, NIF_COD_NIVEL_0#34319, ... 52 more fields]\n            :     :        :              :                                                                                                  +- Project [Id#34296, Entidad#34297, Origen_Solicitud#34298, Identificadores_Origen#34299, Entidad_Norm#7034, CIF#6977, CIF_validacion#34302, Centro#34303, Centro_Norm#34304, Tipo#34305, Provincia_Entidad#7091, Pais_Entidad#34307, Provincia_Centro#34308, PIC#34309, Tipo_Persona#34310, Entidad_Match#34311, Provincia_Match#34312, Match#34313, Id_NIVEL_1#34314, Id_NIVEL_0#34315, ID_ENTIDAD_NIVEL_0#34316, ID_ENTIDAD_NIVEL_1#34317, Jerarquia#34318, NIF_COD_NIVEL_0#34319, ... 51 more fields]\n            :     :        :              :                                                                                                     +- Project [Id#34296, Entidad#34297, Origen_Solicitud#34298, Identificadores_Origen#34299, Entidad_Norm#7034, CIF#6977, CIF_validacion#34302, Centro#34303, Centro_Norm#34304, Tipo#34305, Provincia_Entidad#7091, Pais_Entidad#34307, Provincia_Centro#34308, PIC#34309, Tipo_Persona#34310, Entidad_Match#34311, Provincia_Match#34312, Match#34313, Id_NIVEL_1#34314, Id_NIVEL_0#34315, ID_ENTIDAD_NIVEL_0#34316, ID_ENTIDAD_NIVEL_1#34317, Jerarquia#34318, NIF_COD_NIVEL_0#34319, ... 50 more fields]\n            :     :        :              :                                                                                                        +- Project [Id#34296, Entidad#34297, Origen_Solicitud#34298, Identificadores_Origen#34299, Entidad_Norm#7034, CIF#6977, CIF_validacion#34302, Centro#34303, Centro_Norm#34304, Tipo#34305, Provincia_Entidad#7091, Pais_Entidad#34307, Provincia_Centro#34308, PIC#34309, Tipo_Persona#34310, Entidad_Match#34311, Provincia_Match#34312, Match#34313, Id_NIVEL_1#34314, Id_NIVEL_0#34315, ID_ENTIDAD_NIVEL_0#34316, ID_ENTIDAD_NIVEL_1#34317, Jerarquia#34318, NIF_COD_NIVEL_0#34319, ... 49 more fields]\n            :     :        :              :                                                                                                           +- Project [Id#34296, Entidad#34297, Origen_Solicitud#34298, Identificadores_Origen#34299, Entidad_Norm#7034, CIF#6977, CIF_validacion#34302, Centro#34303, Centro_Norm#34304, Tipo#34305, Provincia_Entidad#7091, Pais_Entidad#34307, Provincia_Centro#34308, PIC#34309, Tipo_Persona#34310, Entidad_Match#34311, Provincia_Match#34312, Match#34313, Id_NIVEL_1#34314, Id_NIVEL_0#34315, ID_ENTIDAD_NIVEL_0#34316, ID_ENTIDAD_NIVEL_1#34317, Jerarquia#34318, NIF_COD_NIVEL_0#34319, ... 48 more fields]\n            :     :        :              :                                                                                                              +- Project [Id#34296, Entidad#34297, Origen_Solicitud#34298, Identificadores_Origen#34299, Entidad_Norm#7034, CIF#6977, CIF_validacion#34302, Centro#34303, Centro_Norm#34304, Tipo#34305, Provincia_Entidad#7091, Pais_Entidad#34307, Provincia_Centro#34308, PIC#34309, Tipo_Persona#34310, Entidad_Match#34311, Provincia_Match#34312, Match#34313, Id_NIVEL_1#34314, Id_NIVEL_0#34315, ID_ENTIDAD_NIVEL_0#34316, ID_ENTIDAD_NIVEL_1#34317, Jerarquia#34318, NIF_COD_NIVEL_0#34319, ... 47 more fields]\n            :     :        :              :                                                                                                                 +- Project [Id#34296, Entidad#34297, Origen_Solicitud#34298, Identificadores_Origen#34299, Entidad_Norm#7034, CIF#6977, CIF_validacion#34302, Centro#34303, Centro_Norm#34304, Tipo#34305, Provincia_Entidad#7091, Pais_Entidad#34307, Provincia_Centro#34308, PIC#34309, Tipo_Persona#34310, Entidad_Match#34311, Provincia_Match#34312, Match#34313, Id_NIVEL_1#34314, Id_NIVEL_0#34315, ID_ENTIDAD_NIVEL_0#34316, ID_ENTIDAD_NIVEL_1#34317, Jerarquia#34318, NIF_COD_NIVEL_0#34319, ... 46 more fields]\n            :     :        :              :                                                                                                                    +- Project [Id#34296, Entidad#34297, Origen_Solicitud#34298, Identificadores_Origen#34299, Entidad_Norm#7034, CIF#6977, CIF_validacion#34302, Centro#34303, Centro_Norm#34304, Tipo#34305, Provincia_Entidad#7091, Pais_Entidad#34307, Provincia_Centro#34308, PIC#34309, Tipo_Persona#34310, Entidad_Match#34311, Provincia_Match#34312, Match#34313, Id_NIVEL_1#34314, Id_NIVEL_0#34315, ID_ENTIDAD_NIVEL_0#34316, ID_ENTIDAD_NIVEL_1#34317, Jerarquia#34318, NIF_COD_NIVEL_0#34319, ... 45 more fields]\n            :     :        :              :                                                                                                                       +- Project [Id#34296, Entidad#34297, Origen_Solicitud#34298, Identificadores_Origen#34299, Entidad_Norm#7034, CIF#6977, CIF_validacion#34302, Centro#34303, Centro_Norm#34304, Tipo#34305, Provincia_Entidad#7091, Pais_Entidad#34307, Provincia_Centro#34308, PIC#34309, Tipo_Persona#34310, Entidad_Match#34311, Provincia_Match#34312, Match#34313, Id_NIVEL_1#34314, Id_NIVEL_0#34315, ID_ENTIDAD_NIVEL_0#34316, ID_ENTIDAD_NIVEL_1#34317, Jerarquia#34318, NIF_COD_NIVEL_0#34319, ... 44 more fields]\n            :     :        :              :                                                                                                                          +- Project [Id#34296, Entidad#34297, Origen_Solicitud#34298, Identificadores_Origen#34299, Entidad_Norm#7034, CIF#6977, CIF_validacion#34302, Centro#34303, Centro_Norm#34304, Tipo#34305, Provincia_Entidad#7091, Pais_Entidad#34307, Provincia_Centro#34308, PIC#34309, Tipo_Persona#34310, Entidad_Match#34311, Provincia_Match#34312, Match#34313, Id_NIVEL_1#34314, Id_NIVEL_0#34315, ID_ENTIDAD_NIVEL_0#34316, ID_ENTIDAD_NIVEL_1#34317, Jerarquia#34318, NIF_COD_NIVEL_0#34319, ... 43 more fields]\n            :     :        :              :                                                                                                                             +- Project [Id#34296, Entidad#34297, Origen_Solicitud#34298, Identificadores_Origen#34299, Entidad_Norm#7034, CIF#6977, CIF_validacion#34302, Centro#34303, Centro_Norm#34304, Tipo#34305, Provincia_Entidad#7091, Pais_Entidad#34307, Provincia_Centro#34308, PIC#34309, Tipo_Persona#34310, Entidad_Match#34311, Provincia_Match#34312, Match#34313, Id_NIVEL_1#34314, Id_NIVEL_0#34315, ID_ENTIDAD_NIVEL_0#34316, ID_ENTIDAD_NIVEL_1#34317, Jerarquia#34318, NIF_COD_NIVEL_0#34319, ... 42 more fields]\n            :     :        :              :                                                                                                                                +- Project [Id#34296, Entidad#34297, Origen_Solicitud#34298, Identificadores_Origen#34299, Entidad_Norm#7034, CIF#6977, CIF_validacion#34302, Centro#34303, Centro_Norm#34304, Tipo#34305, Provincia_Entidad#7091, Pais_Entidad#34307, Provincia_Centro#34308, PIC#34309, Tipo_Persona#34310, Entidad_Match#34311, Provincia_Match#34312, Match#34313, Id_NIVEL_1#34314, Id_NIVEL_0#34315, ID_ENTIDAD_NIVEL_0#34316, ID_ENTIDAD_NIVEL_1#34317, Jerarquia#34318, NIF_COD_NIVEL_0#34319, ... 41 more fields]\n            :     :        :              :                                                                                                                                   +- Project [Id#34296, Entidad#34297, Origen_Solicitud#34298, Identificadores_Origen#34299, Entidad_Norm#7034, CIF#6977, CIF_validacion#34302, Centro#34303, Centro_Norm#34304, Tipo#34305, Provincia_Entidad#7091, Pais_Entidad#34307, Provincia_Centro#34308, PIC#34309, Tipo_Persona#34310, Entidad_Match#34311, Provincia_Match#34312, Match#34313, Id_NIVEL_1#34314, Id_NIVEL_0#34315, ID_ENTIDAD_NIVEL_0#34316, ID_ENTIDAD_NIVEL_1#34317, Jerarquia#34318, NIF_COD_NIVEL_0#34319, ... 40 more fields]\n            :     :        :              :                                                                                                                                      +- Project [Id#34296, Entidad#34297, Origen_Solicitud#34298, Identificadores_Origen#34299, Entidad_Norm#7034, CIF#6977, CIF_validacion#34302, Centro#34303, Centro_Norm#34304, Tipo#34305, Provincia_Entidad#7091, Pais_Entidad#34307, Provincia_Centro#34308, PIC#34309, Tipo_Persona#34310, Entidad_Match#34311, Provincia_Match#34312, Match#34313, Id_NIVEL_1#34314, Id_NIVEL_0#34315, ID_ENTIDAD_NIVEL_0#34316, ID_ENTIDAD_NIVEL_1#34317, Jerarquia#34318, NIF_COD_NIVEL_0#34319, ... 39 more fields]\n            :     :        :              :                                                                                                                                         +- Project [Id#34296, Entidad#34297, Origen_Solicitud#34298, Identificadores_Origen#34299, Entidad_Norm#7034, CIF#6977, CIF_validacion#34302, Centro#34303, Centro_Norm#34304, Tipo#34305, Provincia_Entidad#7091, Pais_Entidad#34307, Provincia_Centro#34308, PIC#34309, Tipo_Persona#34310, Entidad_Match#34311, Provincia_Match#34312, Match#34313, Id_NIVEL_1#34314, Id_NIVEL_0#34315, ID_ENTIDAD_NIVEL_0#34316, ID_ENTIDAD_NIVEL_1#34317, Jerarquia#34318, NIF_COD_NIVEL_0#34319, ... 38 more fields]\n            :     :        :              :                                                                                                                                            +- Project [Id#34296, Entidad#34297, Origen_Solicitud#34298, Identificadores_Origen#34299, Entidad_Norm#7034, CIF#6977, CIF_validacion#34302, Centro#34303, Centro_Norm#34304, Tipo#34305, Provincia_Entidad#7091, Pais_Entidad#34307, Provincia_Centro#34308, PIC#34309, Tipo_Persona#34310, Entidad_Match#34311, Provincia_Match#34312, Match#34313, Id_NIVEL_1#34314, Id_NIVEL_0#34315, ID_ENTIDAD_NIVEL_0#34316, ID_ENTIDAD_NIVEL_1#34317, Jerarquia#34318, NIF_COD_NIVEL_0#34319, ... 37 more fields]\n            :     :        :              :                                                                                                                                               +- Project [Id#34296, Entidad#34297, Origen_Solicitud#34298, Identificadores_Origen#34299, Entidad_Norm#7034, CIF#6977, CIF_validacion#34302, Centro#34303, Centro_Norm#34304, Tipo#34305, Provincia_Entidad#7091, Pais_Entidad#34307, Provincia_Centro#34308, PIC#34309, Tipo_Persona#34310, Entidad_Match#34311, Provincia_Match#34312, Match#34313, Id_NIVEL_1#34314, Id_NIVEL_0#34315, ID_ENTIDAD_NIVEL_0#34316, ID_ENTIDAD_NIVEL_1#34317, Jerarquia#34318, NIF_COD_NIVEL_0#34319, ... 36 more fields]\n            :     :        :              :                                                                                                                                                  +- Project [Id#34296, Entidad#34297, Origen_Solicitud#34298, Identificadores_Origen#34299, Entidad_Norm#7034, CIF#6977, CIF_validacion#34302, Centro#34303, Centro_Norm#34304, Tipo#34305, Provincia_Entidad#7091, Pais_Entidad#34307, Provincia_Centro#34308, PIC#34309, Tipo_Persona#34310, Entidad_Match#34311, Provincia_Match#34312, Match#34313, Id_NIVEL_1#34314, Id_NIVEL_0#34315, ID_ENTIDAD_NIVEL_0#34316, ID_ENTIDAD_NIVEL_1#34317, Jerarquia#34318, NIF_COD_NIVEL_0#34319, ... 35 more fields]\n            :     :        :              :                                                                                                                                                     +- Project [Id#34296, Entidad#34297, Origen_Solicitud#34298, Identificadores_Origen#34299, Entidad_Norm#7034, CIF#6977, CIF_validacion#34302, Centro#34303, Centro_Norm#34304, Tipo#34305, Provincia_Entidad#7091, Pais_Entidad#34307, Provincia_Centro#34308, PIC#34309, Tipo_Persona#34310, Entidad_Match#34311, Provincia_Match#34312, Match#34313, Id_NIVEL_1#34314, Id_NIVEL_0#34315, ID_ENTIDAD_NIVEL_0#34316, ID_ENTIDAD_NIVEL_1#34317, Jerarquia#34318, NIF_COD_NIVEL_0#34319, ... 34 more fields]\n            :     :        :              :                                                                                                                                                        +- Project [Id#34296, Entidad#34297, Origen_Solicitud#34298, Identificadores_Origen#34299, Entidad_Norm#7034, CIF#6977, CIF_validacion#34302, Centro#34303, Centro_Norm#34304, Tipo#34305, Provincia_Entidad#7091, Pais_Entidad#34307, Provincia_Centro#34308, PIC#34309, Tipo_Persona#34310, Entidad_Match#34311, Provincia_Match#34312, Match#34313, Id_NIVEL_1#34314, Id_NIVEL_0#34315, ID_ENTIDAD_NIVEL_0#34316, ID_ENTIDAD_NIVEL_1#34317, Jerarquia#34318, NIF_COD_NIVEL_0#34319, ... 33 more fields]\n            :     :        :              :                                                                                                                                                           +- Project [Id#34296, Entidad#34297, Origen_Solicitud#34298, Identificadores_Origen#34299, Entidad_Norm#7034, CIF#6977, CIF_validacion#34302, Centro#34303, Centro_Norm#34304, Tipo#34305, Provincia_Centro#34308 AS Provincia_Entidad#7091, Pais_Entidad#34307, Provincia_Centro#34308, PIC#34309, Tipo_Persona#34310, Entidad_Match#34311, Provincia_Match#34312, Match#34313, Id_NIVEL_1#34314, Id_NIVEL_0#34315, ID_ENTIDAD_NIVEL_0#34316, ID_ENTIDAD_NIVEL_1#34317, Jerarquia#34318, NIF_COD_NIVEL_0#34319, ... 32 more fields]\n            :     :        :              :                                                                                                                                                              +- Project [Id#34296, Entidad#34297, Origen_Solicitud#34298, Identificadores_Origen#34299, Centro_Norm#34304 AS Entidad_Norm#7034, CIF#6977, CIF_validacion#34302, Centro#34303, Centro_Norm#34304, Tipo#34305, Provincia_Entidad#34306, Pais_Entidad#34307, Provincia_Centro#34308, PIC#34309, Tipo_Persona#34310, Entidad_Match#34311, Provincia_Match#34312, Match#34313, Id_NIVEL_1#34314, Id_NIVEL_0#34315, ID_ENTIDAD_NIVEL_0#34316, ID_ENTIDAD_NIVEL_1#34317, Jerarquia#34318, NIF_COD_NIVEL_0#34319, ... 32 more fields]\n            :     :        :              :                                                                                                                                                                 +- Project [Id#34296, Entidad#34297, Origen_Solicitud#34298, Identificadores_Origen#34299, Entidad_Norm#34300, cast(null as string) AS CIF#6977, CIF_validacion#34302, Centro#34303, Centro_Norm#34304, Tipo#34305, Provincia_Entidad#34306, Pais_Entidad#34307, Provincia_Centro#34308, PIC#34309, Tipo_Persona#34310, Entidad_Match#34311, Provincia_Match#34312, Match#34313, Id_NIVEL_1#34314, Id_NIVEL_0#34315, ID_ENTIDAD_NIVEL_0#34316, ID_ENTIDAD_NIVEL_1#34317, Jerarquia#34318, NIF_COD_NIVEL_0#34319, ... 32 more fields]\n            :     :        :              :                                                                                                                                                                    +- Filter (cast(Similitud#6866 as double) < cast(0.875 as double))\n            :     :        :              :                                                                                                                                                                       +- Project [Id#34296, Entidad#34297, Origen_Solicitud#34298, Identificadores_Origen#34299, Entidad_Norm#34300, CIF#34301, CIF_validacion#34302, Centro#34303, Centro_Norm#34304, Tipo#34305, Provincia_Entidad#34306, Pais_Entidad#34307, Provincia_Centro#34308, PIC#34309, Tipo_Persona#34310, Entidad_Match#34311, Provincia_Match#34312, Match#34313, Id_NIVEL_1#34314, Id_NIVEL_0#34315, ID_ENTIDAD_NIVEL_0#34316, ID_ENTIDAD_NIVEL_1#34317, Jerarquia#34318, NIF_COD_NIVEL_0#34319, ... 32 more fields]\n            :     :        :              :                                                                                                                                                                          +- Filter isnotnull(Id_NIVEL_0#34315)\n            :     :        :              :                                                                                                                                                                             +- Deduplicate [Pais_Entidad#34307, Id#34296, Centro_Norm#34304, Entidad_Norm#34300, Entidad_Match#34311, Centro#34303, Identificadores_Origen#34299, Tipo#34305, Origen_Solicitud#34298, Entidad#34297, CIF_validacion#34302, Tipo_Persona#34310, Provincia_Match#34312, PIC#34309, CIF#34301, Provincia_Entidad#34306, Provincia_Centro#34308, Match#34313]\n            :     :        :              :                                                                                                                                                                                +- Join LeftOuter, (Id#34296 = Id_NIVEL_0#34315)\n            :     :        :              :                                                                                                                                                                                   :- Relation [Id#34296,Entidad#34297,Origen_Solicitud#34298,Identificadores_Origen#34299,Entidad_Norm#34300,CIF#34301,CIF_validacion#34302,Centro#34303,Centro_Norm#34304,Tipo#34305,Provincia_Entidad#34306,Pais_Entidad#34307,Provincia_Centro#34308,PIC#34309,Tipo_Persona#34310,Entidad_Match#34311,Provincia_Match#34312,Match#34313] csv\n            :     :        :              :                                                                                                                                                                                   +- Relation [Id_NIVEL_1#34314,Id_NIVEL_0#34315,ID_ENTIDAD_NIVEL_0#34316,ID_ENTIDAD_NIVEL_1#34317,Jerarquia#34318,NIF_COD_NIVEL_0#34319,ACRONIMO_NIVEL_0#34320,NOMBRE_ENTIDAD_NIVEL_0#34321,Nombre_Entidad_Mostrar_NIVEL_0#34322,TIPO_ENTIDAD_N1_1_NIVEL_0#34323,TIPO_ENTIDAD_N2_1_NIVEL_0#34324,DIRECCION_POSTAL_NIVEL_0#34325,COD_POSTAL_NIVEL_0#34326,COD_PROVINCIA_NIVEL_0#34327,PROVINCIA_NIVEL_0#34328,COD_CCAA_NIVEL_0#34329,CCAA_NIVEL_0#34330,ENLACE_WEB_NIVEL_0#34331,SOMMA_NIVEL_0#34332,TIPO_ENTIDAD_REGIONAL_NIVEL_0#34333,ESTADO_x_NIVEL_0#34334,NIF_COD_NIVEL_1#34335,ACRONIMO_NIVEL_1#34336,NOMBRE_ENTIDAD_NIVEL_1#34337,... 13 more fields] csv\n            :     :        :              +- Project [Id#10956, Dummy#10962]\n            :     :        :                 +- Project [Id#10956, Dummy#10958L, Dummy#10962, Dummy#10962]\n            :     :        :                    +- Window [row_number() windowspecdefinition(Dummy#10958L ASC NULLS FIRST, specifiedwindowframe(RowFrame, unboundedpreceding$(), currentrow$())) AS Dummy#10962], [Dummy#10958L ASC NULLS FIRST]\n            :     :        :                       +- Project [Id#10956, Dummy#10958L]\n            :     :        :                          +- Project [Id#10956, monotonically_increasing_id() AS Dummy#10958L]\n            :     :        :                             +- Project [value#34351 AS Id#10956]\n            :     :        :                                +- LogicalRDD [value#34351], false\n            :     :        +- Project [Entidad_Norm#34354, DenominacionSocial#34355, NIF#34357, CodigoInvente#34358, FormaJuridica_Codigo#34359, FormaJuridica_Descripcion#34360, codigoDir3#34361, codigoOrigen#34362, Provincia_Codigo#34356, final_score#14072, DenominacionSocial_Norm#34363]\n            :     :           +- Deduplicate [Entidad_Norm#34354]\n            :     :              +- Sort [final_score#14072 DESC NULLS LAST], true\n            :     :                 +- Filter (cast(final_score#14072 as double) >= cast(0.875 as double))\n            :     :                    +- Project [source_name#34352, target_name#34353, Entidad_Norm#34354, DenominacionSocial#34355, Provincia_Codigo#34356, NIF#34357, CodigoInvente#34358, FormaJuridica_Codigo#34359, FormaJuridica_Descripcion#34360, codigoDir3#34361, codigoOrigen#34362, DenominacionSocial_Norm#34363, source_names_stopwords#13971, target_names_stopwords#14023, CASE WHEN NOT (source_names_stopwords#13971 = target_names_stopwords#14023) THEN final_score#14040 ELSE cast(1 as float) END AS final_score#14072]\n            :     :                       +- Project [source_name#34352, target_name#34353, Entidad_Norm#34354, DenominacionSocial#34355, Provincia_Codigo#34356, NIF#34357, CodigoInvente#34358, FormaJuridica_Codigo#34359, FormaJuridica_Descripcion#34360, codigoDir3#34361, codigoOrigen#34362, DenominacionSocial_Norm#34363, source_names_stopwords#13971, target_names_stopwords#14023, final_score#14040]\n            :     :                          +- Project [source_name#34352, target_name#34353, Entidad_Norm#34354, DenominacionSocial#34355, Provincia_Codigo#34356, NIF#34357, CodigoInvente#34358, FormaJuridica_Codigo#34359, FormaJuridica_Descripcion#34360, codigoDir3#34361, codigoOrigen#34362, DenominacionSocial_Norm#34363, aux#13986, source_names_stopwords#13971, target_names_stopwords#14023, Distance_ratcliff_obershelp(source_names_stopwords#13971, target_names_stopwords#14023)#14039 AS final_score#14040]\n            :     :                             +- Project [source_name#34352, target_name#34353, Entidad_Norm#34354, DenominacionSocial#34355, Provincia_Codigo#34356, NIF#34357, CodigoInvente#34358, FormaJuridica_Codigo#34359, FormaJuridica_Descripcion#34360, codigoDir3#34361, codigoOrigen#34362, DenominacionSocial_Norm#34363, aux#13986, source_names_stopwords#13971, array_join(target_names_stopwords#14004,  , None) AS target_names_stopwords#14023]\n            :     :                                +- Project [source_name#34352, target_name#34353, Entidad_Norm#34354, DenominacionSocial#34355, Provincia_Codigo#34356, NIF#34357, CodigoInvente#34358, FormaJuridica_Codigo#34359, FormaJuridica_Descripcion#34360, codigoDir3#34361, codigoOrigen#34362, DenominacionSocial_Norm#34363, aux#13986, source_names_stopwords#13971, UDF(aux#13986) AS target_names_stopwords#14004]\n            :     :                                   +- Project [source_name#34352, target_name#34353, Entidad_Norm#34354, DenominacionSocial#34355, Provincia_Codigo#34356, NIF#34357, CodigoInvente#34358, FormaJuridica_Codigo#34359, FormaJuridica_Descripcion#34360, codigoDir3#34361, codigoOrigen#34362, DenominacionSocial_Norm#34363, split(target_name#34353, \\s+, -1) AS aux#13986, source_names_stopwords#13971]\n            :     :                                      +- Project [source_name#34352, target_name#34353, Entidad_Norm#34354, DenominacionSocial#34355, Provincia_Codigo#34356, NIF#34357, CodigoInvente#34358, FormaJuridica_Codigo#34359, FormaJuridica_Descripcion#34360, codigoDir3#34361, codigoOrigen#34362, DenominacionSocial_Norm#34363, aux#13936, array_join(source_names_stopwords#13953,  , None) AS source_names_stopwords#13971]\n            :     :                                         +- Project [source_name#34352, target_name#34353, Entidad_Norm#34354, DenominacionSocial#34355, Provincia_Codigo#34356, NIF#34357, CodigoInvente#34358, FormaJuridica_Codigo#34359, FormaJuridica_Descripcion#34360, codigoDir3#34361, codigoOrigen#34362, DenominacionSocial_Norm#34363, aux#13936, UDF(aux#13936) AS source_names_stopwords#13953]\n            :     :                                            +- Project [source_name#34352, target_name#34353, Entidad_Norm#34354, DenominacionSocial#34355, Provincia_Codigo#34356, NIF#34357, CodigoInvente#34358, FormaJuridica_Codigo#34359, FormaJuridica_Descripcion#34360, codigoDir3#34361, codigoOrigen#34362, DenominacionSocial_Norm#34363, split(source_name#34352, \\s+, -1) AS aux#13936]\n            :     :                                               +- LogicalRDD [source_name#34352, target_name#34353, Entidad_Norm#34354, DenominacionSocial#34355, Provincia_Codigo#34356, NIF#34357, CodigoInvente#34358, FormaJuridica_Codigo#34359, FormaJuridica_Descripcion#34360, codigoDir3#34361, codigoOrigen#34362, DenominacionSocial_Norm#34363], false\n            :     +- Project [Id#10956 AS Id#14619, Entidad_Norm#7034 AS Entidad_Norm#14620, ID_ENTIDAD#7148 AS ID_ENTIDAD#14621, NIF_COD#7206 AS NIF_COD#14622, ACRONIMO#7265 AS ACRONIMO#14623, NOMBRE_ENTIDAD#7325 AS NOMBRE_ENTIDAD#14624, Nombre_Entidad_Mostrar#7386 AS Nombre_Entidad_Mostrar#14625, TIPO_ENTIDAD_N1_1#7448 AS TIPO_ENTIDAD_N1_1#14626, TIPO_ENTIDAD_N2_1#7511 AS TIPO_ENTIDAD_N2_1#14627, DIRECCION_POSTAL#7575 AS DIRECCION_POSTAL#14628, COD_POSTAL#7640 AS COD_POSTAL#14629, COD_PROVINCIA#7706 AS COD_PROVINCIA#14630, PROVINCIA#7773 AS PROVINCIA#14631, COD_CCAA#7841 AS COD_CCAA#14632, CCAA#7910 AS CCAA#14633, ENLACE_WEB#7980 AS ENLACE_WEB#14634, SOMMA#8051 AS SOMMA#14635, TIPO_ENTIDAD_REGIONAL#8123 AS TIPO_ENTIDAD_REGIONAL#14636, ESTADO_x#8196 AS ESTADO_x#14637, C_ID_UD_ORGANICA#8898 AS C_ID_UD_ORGANICA#14638, C_DNM_UD_ORGANICA#8981 AS C_DNM_UD_ORGANICA#14639, C_ID_NIVEL_ADMON#9065 AS C_ID_NIVEL_ADMON#14640, C_ID_TIPO_ENT_PUBLICA#9150 AS C_ID_TIPO_ENT_PUBLICA#14641, N_NIVEL_JERARQUICO#9236 AS N_NIVEL_JERARQUICO#14642, ... 27 more fields]\n            :        +- Filter isnull(final_score#14072)\n            :           +- Join LeftOuter, (Entidad_Norm#7034 = Entidad_Norm#34422)\n            :              :- Project [Id#10956, Entidad_Norm#7034, ID_ENTIDAD#7148, NIF_COD#7206, ACRONIMO#7265, NOMBRE_ENTIDAD#7325, Nombre_Entidad_Mostrar#7386, TIPO_ENTIDAD_N1_1#7448, TIPO_ENTIDAD_N2_1#7511, DIRECCION_POSTAL#7575, COD_POSTAL#7640, COD_PROVINCIA#7706, PROVINCIA#7773, COD_CCAA#7841, CCAA#7910, ENLACE_WEB#7980, SOMMA#8051, TIPO_ENTIDAD_REGIONAL#8123, ESTADO_x#8196, C_ID_UD_ORGANICA#8898, C_DNM_UD_ORGANICA#8981, C_ID_NIVEL_ADMON#9065, C_ID_TIPO_ENT_PUBLICA#9150, N_NIVEL_JERARQUICO#9236, ... 16 more fields]\n            :              :  +- Project [Id#10956, CIF#6977, Entidad_Norm#7034, Provincia_Entidad#7091, ID_ENTIDAD#7148, NIF_COD#7206, ACRONIMO#7265, NOMBRE_ENTIDAD#7325, Nombre_Entidad_Mostrar#7386, TIPO_ENTIDAD_N1_1#7448, TIPO_ENTIDAD_N2_1#7511, DIRECCION_POSTAL#7575, COD_POSTAL#7640, COD_PROVINCIA#7706, PROVINCIA#7773, COD_CCAA#7841, CCAA#7910, ENLACE_WEB#7980, SOMMA#8051, TIPO_ENTIDAD_REGIONAL#8123, ESTADO_x#8196, CodigoInvente#8270, DenominacionSocial#8345, FormaJuridica_Codigo#8421, ... 26 more fields]\n            :              :     +- Project [IdOld#10851, Entidad#34365, Origen_Solicitud#34366, Identificadores_Origen#34367, Entidad_Norm#7034, CIF#6977, CIF_validacion#34370, Centro#34371, Centro_Norm#34372, Tipo#34373, Provincia_Entidad#7091, Pais_Entidad#34375, Provincia_Centro#34376, PIC#34377, Tipo_Persona#34378, Entidad_Match#34379, Provincia_Match#34380, Match#34381, Id_NIVEL_1#34382, Id_NIVEL_0#34383, ID_ENTIDAD_NIVEL_0#34384, ID_ENTIDAD_NIVEL_1#34385, Jerarquia#34386, NIF_COD_NIVEL_0#34387, ... 79 more fields]\n            :              :        +- Project [coalesce(Dummy#11070, Dummy#10962) AS Dummy#11174, IdOld#10851, Entidad#34365, Origen_Solicitud#34366, Identificadores_Origen#34367, Entidad_Norm#7034, CIF#6977, CIF_validacion#34370, Centro#34371, Centro_Norm#34372, Tipo#34373, Provincia_Entidad#7091, Pais_Entidad#34375, Provincia_Centro#34376, PIC#34377, Tipo_Persona#34378, Entidad_Match#34379, Provincia_Match#34380, Match#34381, Id_NIVEL_1#34382, Id_NIVEL_0#34383, ID_ENTIDAD_NIVEL_0#34384, ID_ENTIDAD_NIVEL_1#34385, Jerarquia#34386, ... 80 more fields]\n            :              :           +- Join FullOuter, (Dummy#11070 = Dummy#10962)\n            :              :              :- Project [IdOld#10851, Entidad#34365, Origen_Solicitud#34366, Identificadores_Origen#34367, Entidad_Norm#7034, CIF#6977, CIF_validacion#34370, Centro#34371, Centro_Norm#34372, Tipo#34373, Provincia_Entidad#7091, Pais_Entidad#34375, Provincia_Centro#34376, PIC#34377, Tipo_Persona#34378, Entidad_Match#34379, Provincia_Match#34380, Match#34381, Id_NIVEL_1#34382, Id_NIVEL_0#34383, ID_ENTIDAD_NIVEL_0#34384, ID_ENTIDAD_NIVEL_1#34385, Jerarquia#34386, NIF_COD_NIVEL_0#34387, ... 79 more fields]\n            :              :              :  +- Project [IdOld#10851, Entidad#34365, Origen_Solicitud#34366, Identificadores_Origen#34367, Entidad_Norm#7034, CIF#6977, CIF_validacion#34370, Centro#34371, Centro_Norm#34372, Tipo#34373, Provincia_Entidad#7091, Pais_Entidad#34375, Provincia_Centro#34376, PIC#34377, Tipo_Persona#34378, Entidad_Match#34379, Provincia_Match#34380, Match#34381, Id_NIVEL_1#34382, Id_NIVEL_0#34383, ID_ENTIDAD_NIVEL_0#34384, ID_ENTIDAD_NIVEL_1#34385, Jerarquia#34386, NIF_COD_NIVEL_0#34387, ... 81 more fields]\n            :              :              :     +- Window [row_number() windowspecdefinition(Dummy#10965L ASC NULLS FIRST, specifiedwindowframe(RowFrame, unboundedpreceding$(), currentrow$())) AS Dummy#11070], [Dummy#10965L ASC NULLS FIRST]\n            :              :              :        +- Project [IdOld#10851, Entidad#34365, Origen_Solicitud#34366, Identificadores_Origen#34367, Entidad_Norm#7034, CIF#6977, CIF_validacion#34370, Centro#34371, Centro_Norm#34372, Tipo#34373, Provincia_Entidad#7091, Pais_Entidad#34375, Provincia_Centro#34376, PIC#34377, Tipo_Persona#34378, Entidad_Match#34379, Provincia_Match#34380, Match#34381, Id_NIVEL_1#34382, Id_NIVEL_0#34383, ID_ENTIDAD_NIVEL_0#34384, ID_ENTIDAD_NIVEL_1#34385, Jerarquia#34386, NIF_COD_NIVEL_0#34387, ... 79 more fields]\n            :              :              :           +- Project [IdOld#10851, Entidad#34365, Origen_Solicitud#34366, Identificadores_Origen#34367, Entidad_Norm#7034, CIF#6977, CIF_validacion#34370, Centro#34371, Centro_Norm#34372, Tipo#34373, Provincia_Entidad#7091, Pais_Entidad#34375, Provincia_Centro#34376, PIC#34377, Tipo_Persona#34378, Entidad_Match#34379, Provincia_Match#34380, Match#34381, Id_NIVEL_1#34382, Id_NIVEL_0#34383, ID_ENTIDAD_NIVEL_0#34384, ID_ENTIDAD_NIVEL_1#34385, Jerarquia#34386, NIF_COD_NIVEL_0#34387, ... 79 more fields]\n            :              :              :              +- Project [Id#34364 AS IdOld#10851, Entidad#34365, Origen_Solicitud#34366, Identificadores_Origen#34367, Entidad_Norm#7034, CIF#6977, CIF_validacion#34370, Centro#34371, Centro_Norm#34372, Tipo#34373, Provincia_Entidad#7091, Pais_Entidad#34375, Provincia_Centro#34376, PIC#34377, Tipo_Persona#34378, Entidad_Match#34379, Provincia_Match#34380, Match#34381, Id_NIVEL_1#34382, Id_NIVEL_0#34383, ID_ENTIDAD_NIVEL_0#34384, ID_ENTIDAD_NIVEL_1#34385, Jerarquia#34386, NIF_COD_NIVEL_0#34387, ... 78 more fields]\n            :              :              :                 +- Project [Id#34364, Entidad#34365, Origen_Solicitud#34366, Identificadores_Origen#34367, Entidad_Norm#7034, CIF#6977, CIF_validacion#34370, Centro#34371, Centro_Norm#34372, Tipo#34373, Provincia_Entidad#7091, Pais_Entidad#34375, Provincia_Centro#34376, PIC#34377, Tipo_Persona#34378, Entidad_Match#34379, Provincia_Match#34380, Match#34381, Id_NIVEL_1#34382, Id_NIVEL_0#34383, ID_ENTIDAD_NIVEL_0#34384, ID_ENTIDAD_NIVEL_1#34385, Jerarquia#34386, NIF_COD_NIVEL_0#34387, ... 78 more fields]\n            :              :              :                    +- Project [Id#34364, Entidad#34365, Origen_Solicitud#34366, Identificadores_Origen#34367, Entidad_Norm#7034, CIF#6977, CIF_validacion#34370, Centro#34371, Centro_Norm#34372, Tipo#34373, Provincia_Entidad#7091, Pais_Entidad#34375, Provincia_Centro#34376, PIC#34377, Tipo_Persona#34378, Entidad_Match#34379, Provincia_Match#34380, Match#34381, Id_NIVEL_1#34382, Id_NIVEL_0#34383, ID_ENTIDAD_NIVEL_0#34384, ID_ENTIDAD_NIVEL_1#34385, Jerarquia#34386, NIF_COD_NIVEL_0#34387, ... 77 more fields]\n            :              :              :                       +- Project [Id#34364, Entidad#34365, Origen_Solicitud#34366, Identificadores_Origen#34367, Entidad_Norm#7034, CIF#6977, CIF_validacion#34370, Centro#34371, Centro_Norm#34372, Tipo#34373, Provincia_Entidad#7091, Pais_Entidad#34375, Provincia_Centro#34376, PIC#34377, Tipo_Persona#34378, Entidad_Match#34379, Provincia_Match#34380, Match#34381, Id_NIVEL_1#34382, Id_NIVEL_0#34383, ID_ENTIDAD_NIVEL_0#34384, ID_ENTIDAD_NIVEL_1#34385, Jerarquia#34386, NIF_COD_NIVEL_0#34387, ... 76 more fields]\n            :              :              :                          +- Project [Id#34364, Entidad#34365, Origen_Solicitud#34366, Identificadores_Origen#34367, Entidad_Norm#7034, CIF#6977, CIF_validacion#34370, Centro#34371, Centro_Norm#34372, Tipo#34373, Provincia_Entidad#7091, Pais_Entidad#34375, Provincia_Centro#34376, PIC#34377, Tipo_Persona#34378, Entidad_Match#34379, Provincia_Match#34380, Match#34381, Id_NIVEL_1#34382, Id_NIVEL_0#34383, ID_ENTIDAD_NIVEL_0#34384, ID_ENTIDAD_NIVEL_1#34385, Jerarquia#34386, NIF_COD_NIVEL_0#34387, ... 75 more fields]\n            :              :              :                             +- Project [Id#34364, Entidad#34365, Origen_Solicitud#34366, Identificadores_Origen#34367, Entidad_Norm#7034, CIF#6977, CIF_validacion#34370, Centro#34371, Centro_Norm#34372, Tipo#34373, Provincia_Entidad#7091, Pais_Entidad#34375, Provincia_Centro#34376, PIC#34377, Tipo_Persona#34378, Entidad_Match#34379, Provincia_Match#34380, Match#34381, Id_NIVEL_1#34382, Id_NIVEL_0#34383, ID_ENTIDAD_NIVEL_0#34384, ID_ENTIDAD_NIVEL_1#34385, Jerarquia#34386, NIF_COD_NIVEL_0#34387, ... 74 more fields]\n            :              :              :                                +- Project [Id#34364, Entidad#34365, Origen_Solicitud#34366, Identificadores_Origen#34367, Entidad_Norm#7034, CIF#6977, CIF_validacion#34370, Centro#34371, Centro_Norm#34372, Tipo#34373, Provincia_Entidad#7091, Pais_Entidad#34375, Provincia_Centro#34376, PIC#34377, Tipo_Persona#34378, Entidad_Match#34379, Provincia_Match#34380, Match#34381, Id_NIVEL_1#34382, Id_NIVEL_0#34383, ID_ENTIDAD_NIVEL_0#34384, ID_ENTIDAD_NIVEL_1#34385, Jerarquia#34386, NIF_COD_NIVEL_0#34387, ... 73 more fields]\n            :              :              :                                   +- Project [Id#34364, Entidad#34365, Origen_Solicitud#34366, Identificadores_Origen#34367, Entidad_Norm#7034, CIF#6977, CIF_validacion#34370, Centro#34371, Centro_Norm#34372, Tipo#34373, Provincia_Entidad#7091, Pais_Entidad#34375, Provincia_Centro#34376, PIC#34377, Tipo_Persona#34378, Entidad_Match#34379, Provincia_Match#34380, Match#34381, Id_NIVEL_1#34382, Id_NIVEL_0#34383, ID_ENTIDAD_NIVEL_0#34384, ID_ENTIDAD_NIVEL_1#34385, Jerarquia#34386, NIF_COD_NIVEL_0#34387, ... 72 more fields]\n            :              :              :                                      +- Project [Id#34364, Entidad#34365, Origen_Solicitud#34366, Identificadores_Origen#34367, Entidad_Norm#7034, CIF#6977, CIF_validacion#34370, Centro#34371, Centro_Norm#34372, Tipo#34373, Provincia_Entidad#7091, Pais_Entidad#34375, Provincia_Centro#34376, PIC#34377, Tipo_Persona#34378, Entidad_Match#34379, Provincia_Match#34380, Match#34381, Id_NIVEL_1#34382, Id_NIVEL_0#34383, ID_ENTIDAD_NIVEL_0#34384, ID_ENTIDAD_NIVEL_1#34385, Jerarquia#34386, NIF_COD_NIVEL_0#34387, ... 71 more fields]\n            :              :              :                                         +- Project [Id#34364, Entidad#34365, Origen_Solicitud#34366, Identificadores_Origen#34367, Entidad_Norm#7034, CIF#6977, CIF_validacion#34370, Centro#34371, Centro_Norm#34372, Tipo#34373, Provincia_Entidad#7091, Pais_Entidad#34375, Provincia_Centro#34376, PIC#34377, Tipo_Persona#34378, Entidad_Match#34379, Provincia_Match#34380, Match#34381, Id_NIVEL_1#34382, Id_NIVEL_0#34383, ID_ENTIDAD_NIVEL_0#34384, ID_ENTIDAD_NIVEL_1#34385, Jerarquia#34386, NIF_COD_NIVEL_0#34387, ... 70 more fields]\n            :              :              :                                            +- Project [Id#34364, Entidad#34365, Origen_Solicitud#34366, Identificadores_Origen#34367, Entidad_Norm#7034, CIF#6977, CIF_validacion#34370, Centro#34371, Centro_Norm#34372, Tipo#34373, Provincia_Entidad#7091, Pais_Entidad#34375, Provincia_Centro#34376, PIC#34377, Tipo_Persona#34378, Entidad_Match#34379, Provincia_Match#34380, Match#34381, Id_NIVEL_1#34382, Id_NIVEL_0#34383, ID_ENTIDAD_NIVEL_0#34384, ID_ENTIDAD_NIVEL_1#34385, Jerarquia#34386, NIF_COD_NIVEL_0#34387, ... 69 more fields]\n            :              :              :                                               +- Project [Id#34364, Entidad#34365, Origen_Solicitud#34366, Identificadores_Origen#34367, Entidad_Norm#7034, CIF#6977, CIF_validacion#34370, Centro#34371, Centro_Norm#34372, Tipo#34373, Provincia_Entidad#7091, Pais_Entidad#34375, Provincia_Centro#34376, PIC#34377, Tipo_Persona#34378, Entidad_Match#34379, Provincia_Match#34380, Match#34381, Id_NIVEL_1#34382, Id_NIVEL_0#34383, ID_ENTIDAD_NIVEL_0#34384, ID_ENTIDAD_NIVEL_1#34385, Jerarquia#34386, NIF_COD_NIVEL_0#34387, ... 68 more fields]\n            :              :              :                                                  +- Project [Id#34364, Entidad#34365, Origen_Solicitud#34366, Identificadores_Origen#34367, Entidad_Norm#7034, CIF#6977, CIF_validacion#34370, Centro#34371, Centro_Norm#34372, Tipo#34373, Provincia_Entidad#7091, Pais_Entidad#34375, Provincia_Centro#34376, PIC#34377, Tipo_Persona#34378, Entidad_Match#34379, Provincia_Match#34380, Match#34381, Id_NIVEL_1#34382, Id_NIVEL_0#34383, ID_ENTIDAD_NIVEL_0#34384, ID_ENTIDAD_NIVEL_1#34385, Jerarquia#34386, NIF_COD_NIVEL_0#34387, ... 67 more fields]\n            :              :              :                                                     +- Project [Id#34364, Entidad#34365, Origen_Solicitud#34366, Identificadores_Origen#34367, Entidad_Norm#7034, CIF#6977, CIF_validacion#34370, Centro#34371, Centro_Norm#34372, Tipo#34373, Provincia_Entidad#7091, Pais_Entidad#34375, Provincia_Centro#34376, PIC#34377, Tipo_Persona#34378, Entidad_Match#34379, Provincia_Match#34380, Match#34381, Id_NIVEL_1#34382, Id_NIVEL_0#34383, ID_ENTIDAD_NIVEL_0#34384, ID_ENTIDAD_NIVEL_1#34385, Jerarquia#34386, NIF_COD_NIVEL_0#34387, ... 66 more fields]\n            :              :              :                                                        +- Project [Id#34364, Entidad#34365, Origen_Solicitud#34366, Identificadores_Origen#34367, Entidad_Norm#7034, CIF#6977, CIF_validacion#34370, Centro#34371, Centro_Norm#34372, Tipo#34373, Provincia_Entidad#7091, Pais_Entidad#34375, Provincia_Centro#34376, PIC#34377, Tipo_Persona#34378, Entidad_Match#34379, Provincia_Match#34380, Match#34381, Id_NIVEL_1#34382, Id_NIVEL_0#34383, ID_ENTIDAD_NIVEL_0#34384, ID_ENTIDAD_NIVEL_1#34385, Jerarquia#34386, NIF_COD_NIVEL_0#34387, ... 65 more fields]\n            :              :              :                                                           +- Project [Id#34364, Entidad#34365, Origen_Solicitud#34366, Identificadores_Origen#34367, Entidad_Norm#7034, CIF#6977, CIF_validacion#34370, Centro#34371, Centro_Norm#34372, Tipo#34373, Provincia_Entidad#7091, Pais_Entidad#34375, Provincia_Centro#34376, PIC#34377, Tipo_Persona#34378, Entidad_Match#34379, Provincia_Match#34380, Match#34381, Id_NIVEL_1#34382, Id_NIVEL_0#34383, ID_ENTIDAD_NIVEL_0#34384, ID_ENTIDAD_NIVEL_1#34385, Jerarquia#34386, NIF_COD_NIVEL_0#34387, ... 64 more fields]\n            :              :              :                                                              +- Project [Id#34364, Entidad#34365, Origen_Solicitud#34366, Identificadores_Origen#34367, Entidad_Norm#7034, CIF#6977, CIF_validacion#34370, Centro#34371, Centro_Norm#34372, Tipo#34373, Provincia_Entidad#7091, Pais_Entidad#34375, Provincia_Centro#34376, PIC#34377, Tipo_Persona#34378, Entidad_Match#34379, Provincia_Match#34380, Match#34381, Id_NIVEL_1#34382, Id_NIVEL_0#34383, ID_ENTIDAD_NIVEL_0#34384, ID_ENTIDAD_NIVEL_1#34385, Jerarquia#34386, NIF_COD_NIVEL_0#34387, ... 63 more fields]\n            :              :              :                                                                 +- Project [Id#34364, Entidad#34365, Origen_Solicitud#34366, Identificadores_Origen#34367, Entidad_Norm#7034, CIF#6977, CIF_validacion#34370, Centro#34371, Centro_Norm#34372, Tipo#34373, Provincia_Entidad#7091, Pais_Entidad#34375, Provincia_Centro#34376, PIC#34377, Tipo_Persona#34378, Entidad_Match#34379, Provincia_Match#34380, Match#34381, Id_NIVEL_1#34382, Id_NIVEL_0#34383, ID_ENTIDAD_NIVEL_0#34384, ID_ENTIDAD_NIVEL_1#34385, Jerarquia#34386, NIF_COD_NIVEL_0#34387, ... 62 more fields]\n            :              :              :                                                                    +- Project [Id#34364, Entidad#34365, Origen_Solicitud#34366, Identificadores_Origen#34367, Entidad_Norm#7034, CIF#6977, CIF_validacion#34370, Centro#34371, Centro_Norm#34372, Tipo#34373, Provincia_Entidad#7091, Pais_Entidad#34375, Provincia_Centro#34376, PIC#34377, Tipo_Persona#34378, Entidad_Match#34379, Provincia_Match#34380, Match#34381, Id_NIVEL_1#34382, Id_NIVEL_0#34383, ID_ENTIDAD_NIVEL_0#34384, ID_ENTIDAD_NIVEL_1#34385, Jerarquia#34386, NIF_COD_NIVEL_0#34387, ... 61 more fields]\n            :              :              :                                                                       +- Project [Id#34364, Entidad#34365, Origen_Solicitud#34366, Identificadores_Origen#34367, Entidad_Norm#7034, CIF#6977, CIF_validacion#34370, Centro#34371, Centro_Norm#34372, Tipo#34373, Provincia_Entidad#7091, Pais_Entidad#34375, Provincia_Centro#34376, PIC#34377, Tipo_Persona#34378, Entidad_Match#34379, Provincia_Match#34380, Match#34381, Id_NIVEL_1#34382, Id_NIVEL_0#34383, ID_ENTIDAD_NIVEL_0#34384, ID_ENTIDAD_NIVEL_1#34385, Jerarquia#34386, NIF_COD_NIVEL_0#34387, ... 60 more fields]\n            :              :              :                                                                          +- Project [Id#34364, Entidad#34365, Origen_Solicitud#34366, Identificadores_Origen#34367, Entidad_Norm#7034, CIF#6977, CIF_validacion#34370, Centro#34371, Centro_Norm#34372, Tipo#34373, Provincia_Entidad#7091, Pais_Entidad#34375, Provincia_Centro#34376, PIC#34377, Tipo_Persona#34378, Entidad_Match#34379, Provincia_Match#34380, Match#34381, Id_NIVEL_1#34382, Id_NIVEL_0#34383, ID_ENTIDAD_NIVEL_0#34384, ID_ENTIDAD_NIVEL_1#34385, Jerarquia#34386, NIF_COD_NIVEL_0#34387, ... 59 more fields]\n            :              :              :                                                                             +- Project [Id#34364, Entidad#34365, Origen_Solicitud#34366, Identificadores_Origen#34367, Entidad_Norm#7034, CIF#6977, CIF_validacion#34370, Centro#34371, Centro_Norm#34372, Tipo#34373, Provincia_Entidad#7091, Pais_Entidad#34375, Provincia_Centro#34376, PIC#34377, Tipo_Persona#34378, Entidad_Match#34379, Provincia_Match#34380, Match#34381, Id_NIVEL_1#34382, Id_NIVEL_0#34383, ID_ENTIDAD_NIVEL_0#34384, ID_ENTIDAD_NIVEL_1#34385, Jerarquia#34386, NIF_COD_NIVEL_0#34387, ... 58 more fields]\n            :              :              :                                                                                +- Project [Id#34364, Entidad#34365, Origen_Solicitud#34366, Identificadores_Origen#34367, Entidad_Norm#7034, CIF#6977, CIF_validacion#34370, Centro#34371, Centro_Norm#34372, Tipo#34373, Provincia_Entidad#7091, Pais_Entidad#34375, Provincia_Centro#34376, PIC#34377, Tipo_Persona#34378, Entidad_Match#34379, Provincia_Match#34380, Match#34381, Id_NIVEL_1#34382, Id_NIVEL_0#34383, ID_ENTIDAD_NIVEL_0#34384, ID_ENTIDAD_NIVEL_1#34385, Jerarquia#34386, NIF_COD_NIVEL_0#34387, ... 57 more fields]\n            :              :              :                                                                                   +- Project [Id#34364, Entidad#34365, Origen_Solicitud#34366, Identificadores_Origen#34367, Entidad_Norm#7034, CIF#6977, CIF_validacion#34370, Centro#34371, Centro_Norm#34372, Tipo#34373, Provincia_Entidad#7091, Pais_Entidad#34375, Provincia_Centro#34376, PIC#34377, Tipo_Persona#34378, Entidad_Match#34379, Provincia_Match#34380, Match#34381, Id_NIVEL_1#34382, Id_NIVEL_0#34383, ID_ENTIDAD_NIVEL_0#34384, ID_ENTIDAD_NIVEL_1#34385, Jerarquia#34386, NIF_COD_NIVEL_0#34387, ... 56 more fields]\n            :              :              :                                                                                      +- Project [Id#34364, Entidad#34365, Origen_Solicitud#34366, Identificadores_Origen#34367, Entidad_Norm#7034, CIF#6977, CIF_validacion#34370, Centro#34371, Centro_Norm#34372, Tipo#34373, Provincia_Entidad#7091, Pais_Entidad#34375, Provincia_Centro#34376, PIC#34377, Tipo_Persona#34378, Entidad_Match#34379, Provincia_Match#34380, Match#34381, Id_NIVEL_1#34382, Id_NIVEL_0#34383, ID_ENTIDAD_NIVEL_0#34384, ID_ENTIDAD_NIVEL_1#34385, Jerarquia#34386, NIF_COD_NIVEL_0#34387, ... 55 more fields]\n            :              :              :                                                                                         +- Project [Id#34364, Entidad#34365, Origen_Solicitud#34366, Identificadores_Origen#34367, Entidad_Norm#7034, CIF#6977, CIF_validacion#34370, Centro#34371, Centro_Norm#34372, Tipo#34373, Provincia_Entidad#7091, Pais_Entidad#34375, Provincia_Centro#34376, PIC#34377, Tipo_Persona#34378, Entidad_Match#34379, Provincia_Match#34380, Match#34381, Id_NIVEL_1#34382, Id_NIVEL_0#34383, ID_ENTIDAD_NIVEL_0#34384, ID_ENTIDAD_NIVEL_1#34385, Jerarquia#34386, NIF_COD_NIVEL_0#34387, ... 54 more fields]\n            :              :              :                                                                                            +- Project [Id#34364, Entidad#34365, Origen_Solicitud#34366, Identificadores_Origen#34367, Entidad_Norm#7034, CIF#6977, CIF_validacion#34370, Centro#34371, Centro_Norm#34372, Tipo#34373, Provincia_Entidad#7091, Pais_Entidad#34375, Provincia_Centro#34376, PIC#34377, Tipo_Persona#34378, Entidad_Match#34379, Provincia_Match#34380, Match#34381, Id_NIVEL_1#34382, Id_NIVEL_0#34383, ID_ENTIDAD_NIVEL_0#34384, ID_ENTIDAD_NIVEL_1#34385, Jerarquia#34386, NIF_COD_NIVEL_0#34387, ... 53 more fields]\n            :              :              :                                                                                               +- Project [Id#34364, Entidad#34365, Origen_Solicitud#34366, Identificadores_Origen#34367, Entidad_Norm#7034, CIF#6977, CIF_validacion#34370, Centro#34371, Centro_Norm#34372, Tipo#34373, Provincia_Entidad#7091, Pais_Entidad#34375, Provincia_Centro#34376, PIC#34377, Tipo_Persona#34378, Entidad_Match#34379, Provincia_Match#34380, Match#34381, Id_NIVEL_1#34382, Id_NIVEL_0#34383, ID_ENTIDAD_NIVEL_0#34384, ID_ENTIDAD_NIVEL_1#34385, Jerarquia#34386, NIF_COD_NIVEL_0#34387, ... 52 more fields]\n            :              :              :                                                                                                  +- Project [Id#34364, Entidad#34365, Origen_Solicitud#34366, Identificadores_Origen#34367, Entidad_Norm#7034, CIF#6977, CIF_validacion#34370, Centro#34371, Centro_Norm#34372, Tipo#34373, Provincia_Entidad#7091, Pais_Entidad#34375, Provincia_Centro#34376, PIC#34377, Tipo_Persona#34378, Entidad_Match#34379, Provincia_Match#34380, Match#34381, Id_NIVEL_1#34382, Id_NIVEL_0#34383, ID_ENTIDAD_NIVEL_0#34384, ID_ENTIDAD_NIVEL_1#34385, Jerarquia#34386, NIF_COD_NIVEL_0#34387, ... 51 more fields]\n            :              :              :                                                                                                     +- Project [Id#34364, Entidad#34365, Origen_Solicitud#34366, Identificadores_Origen#34367, Entidad_Norm#7034, CIF#6977, CIF_validacion#34370, Centro#34371, Centro_Norm#34372, Tipo#34373, Provincia_Entidad#7091, Pais_Entidad#34375, Provincia_Centro#34376, PIC#34377, Tipo_Persona#34378, Entidad_Match#34379, Provincia_Match#34380, Match#34381, Id_NIVEL_1#34382, Id_NIVEL_0#34383, ID_ENTIDAD_NIVEL_0#34384, ID_ENTIDAD_NIVEL_1#34385, Jerarquia#34386, NIF_COD_NIVEL_0#34387, ... 50 more fields]\n            :              :              :                                                                                                        +- Project [Id#34364, Entidad#34365, Origen_Solicitud#34366, Identificadores_Origen#34367, Entidad_Norm#7034, CIF#6977, CIF_validacion#34370, Centro#34371, Centro_Norm#34372, Tipo#34373, Provincia_Entidad#7091, Pais_Entidad#34375, Provincia_Centro#34376, PIC#34377, Tipo_Persona#34378, Entidad_Match#34379, Provincia_Match#34380, Match#34381, Id_NIVEL_1#34382, Id_NIVEL_0#34383, ID_ENTIDAD_NIVEL_0#34384, ID_ENTIDAD_NIVEL_1#34385, Jerarquia#34386, NIF_COD_NIVEL_0#34387, ... 49 more fields]\n            :              :              :                                                                                                           +- Project [Id#34364, Entidad#34365, Origen_Solicitud#34366, Identificadores_Origen#34367, Entidad_Norm#7034, CIF#6977, CIF_validacion#34370, Centro#34371, Centro_Norm#34372, Tipo#34373, Provincia_Entidad#7091, Pais_Entidad#34375, Provincia_Centro#34376, PIC#34377, Tipo_Persona#34378, Entidad_Match#34379, Provincia_Match#34380, Match#34381, Id_NIVEL_1#34382, Id_NIVEL_0#34383, ID_ENTIDAD_NIVEL_0#34384, ID_ENTIDAD_NIVEL_1#34385, Jerarquia#34386, NIF_COD_NIVEL_0#34387, ... 48 more fields]\n            :              :              :                                                                                                              +- Project [Id#34364, Entidad#34365, Origen_Solicitud#34366, Identificadores_Origen#34367, Entidad_Norm#7034, CIF#6977, CIF_validacion#34370, Centro#34371, Centro_Norm#34372, Tipo#34373, Provincia_Entidad#7091, Pais_Entidad#34375, Provincia_Centro#34376, PIC#34377, Tipo_Persona#34378, Entidad_Match#34379, Provincia_Match#34380, Match#34381, Id_NIVEL_1#34382, Id_NIVEL_0#34383, ID_ENTIDAD_NIVEL_0#34384, ID_ENTIDAD_NIVEL_1#34385, Jerarquia#34386, NIF_COD_NIVEL_0#34387, ... 47 more fields]\n            :              :              :                                                                                                                 +- Project [Id#34364, Entidad#34365, Origen_Solicitud#34366, Identificadores_Origen#34367, Entidad_Norm#7034, CIF#6977, CIF_validacion#34370, Centro#34371, Centro_Norm#34372, Tipo#34373, Provincia_Entidad#7091, Pais_Entidad#34375, Provincia_Centro#34376, PIC#34377, Tipo_Persona#34378, Entidad_Match#34379, Provincia_Match#34380, Match#34381, Id_NIVEL_1#34382, Id_NIVEL_0#34383, ID_ENTIDAD_NIVEL_0#34384, ID_ENTIDAD_NIVEL_1#34385, Jerarquia#34386, NIF_COD_NIVEL_0#34387, ... 46 more fields]\n            :              :              :                                                                                                                    +- Project [Id#34364, Entidad#34365, Origen_Solicitud#34366, Identificadores_Origen#34367, Entidad_Norm#7034, CIF#6977, CIF_validacion#34370, Centro#34371, Centro_Norm#34372, Tipo#34373, Provincia_Entidad#7091, Pais_Entidad#34375, Provincia_Centro#34376, PIC#34377, Tipo_Persona#34378, Entidad_Match#34379, Provincia_Match#34380, Match#34381, Id_NIVEL_1#34382, Id_NIVEL_0#34383, ID_ENTIDAD_NIVEL_0#34384, ID_ENTIDAD_NIVEL_1#34385, Jerarquia#34386, NIF_COD_NIVEL_0#34387, ... 45 more fields]\n            :              :              :                                                                                                                       +- Project [Id#34364, Entidad#34365, Origen_Solicitud#34366, Identificadores_Origen#34367, Entidad_Norm#7034, CIF#6977, CIF_validacion#34370, Centro#34371, Centro_Norm#34372, Tipo#34373, Provincia_Entidad#7091, Pais_Entidad#34375, Provincia_Centro#34376, PIC#34377, Tipo_Persona#34378, Entidad_Match#34379, Provincia_Match#34380, Match#34381, Id_NIVEL_1#34382, Id_NIVEL_0#34383, ID_ENTIDAD_NIVEL_0#34384, ID_ENTIDAD_NIVEL_1#34385, Jerarquia#34386, NIF_COD_NIVEL_0#34387, ... 44 more fields]\n            :              :              :                                                                                                                          +- Project [Id#34364, Entidad#34365, Origen_Solicitud#34366, Identificadores_Origen#34367, Entidad_Norm#7034, CIF#6977, CIF_validacion#34370, Centro#34371, Centro_Norm#34372, Tipo#34373, Provincia_Entidad#7091, Pais_Entidad#34375, Provincia_Centro#34376, PIC#34377, Tipo_Persona#34378, Entidad_Match#34379, Provincia_Match#34380, Match#34381, Id_NIVEL_1#34382, Id_NIVEL_0#34383, ID_ENTIDAD_NIVEL_0#34384, ID_ENTIDAD_NIVEL_1#34385, Jerarquia#34386, NIF_COD_NIVEL_0#34387, ... 43 more fields]\n            :              :              :                                                                                                                             +- Project [Id#34364, Entidad#34365, Origen_Solicitud#34366, Identificadores_Origen#34367, Entidad_Norm#7034, CIF#6977, CIF_validacion#34370, Centro#34371, Centro_Norm#34372, Tipo#34373, Provincia_Entidad#7091, Pais_Entidad#34375, Provincia_Centro#34376, PIC#34377, Tipo_Persona#34378, Entidad_Match#34379, Provincia_Match#34380, Match#34381, Id_NIVEL_1#34382, Id_NIVEL_0#34383, ID_ENTIDAD_NIVEL_0#34384, ID_ENTIDAD_NIVEL_1#34385, Jerarquia#34386, NIF_COD_NIVEL_0#34387, ... 42 more fields]\n            :              :              :                                                                                                                                +- Project [Id#34364, Entidad#34365, Origen_Solicitud#34366, Identificadores_Origen#34367, Entidad_Norm#7034, CIF#6977, CIF_validacion#34370, Centro#34371, Centro_Norm#34372, Tipo#34373, Provincia_Entidad#7091, Pais_Entidad#34375, Provincia_Centro#34376, PIC#34377, Tipo_Persona#34378, Entidad_Match#34379, Provincia_Match#34380, Match#34381, Id_NIVEL_1#34382, Id_NIVEL_0#34383, ID_ENTIDAD_NIVEL_0#34384, ID_ENTIDAD_NIVEL_1#34385, Jerarquia#34386, NIF_COD_NIVEL_0#34387, ... 41 more fields]\n            :              :              :                                                                                                                                   +- Project [Id#34364, Entidad#34365, Origen_Solicitud#34366, Identificadores_Origen#34367, Entidad_Norm#7034, CIF#6977, CIF_validacion#34370, Centro#34371, Centro_Norm#34372, Tipo#34373, Provincia_Entidad#7091, Pais_Entidad#34375, Provincia_Centro#34376, PIC#34377, Tipo_Persona#34378, Entidad_Match#34379, Provincia_Match#34380, Match#34381, Id_NIVEL_1#34382, Id_NIVEL_0#34383, ID_ENTIDAD_NIVEL_0#34384, ID_ENTIDAD_NIVEL_1#34385, Jerarquia#34386, NIF_COD_NIVEL_0#34387, ... 40 more fields]\n            :              :              :                                                                                                                                      +- Project [Id#34364, Entidad#34365, Origen_Solicitud#34366, Identificadores_Origen#34367, Entidad_Norm#7034, CIF#6977, CIF_validacion#34370, Centro#34371, Centro_Norm#34372, Tipo#34373, Provincia_Entidad#7091, Pais_Entidad#34375, Provincia_Centro#34376, PIC#34377, Tipo_Persona#34378, Entidad_Match#34379, Provincia_Match#34380, Match#34381, Id_NIVEL_1#34382, Id_NIVEL_0#34383, ID_ENTIDAD_NIVEL_0#34384, ID_ENTIDAD_NIVEL_1#34385, Jerarquia#34386, NIF_COD_NIVEL_0#34387, ... 39 more fields]\n            :              :              :                                                                                                                                         +- Project [Id#34364, Entidad#34365, Origen_Solicitud#34366, Identificadores_Origen#34367, Entidad_Norm#7034, CIF#6977, CIF_validacion#34370, Centro#34371, Centro_Norm#34372, Tipo#34373, Provincia_Entidad#7091, Pais_Entidad#34375, Provincia_Centro#34376, PIC#34377, Tipo_Persona#34378, Entidad_Match#34379, Provincia_Match#34380, Match#34381, Id_NIVEL_1#34382, Id_NIVEL_0#34383, ID_ENTIDAD_NIVEL_0#34384, ID_ENTIDAD_NIVEL_1#34385, Jerarquia#34386, NIF_COD_NIVEL_0#34387, ... 38 more fields]\n            :              :              :                                                                                                                                            +- Project [Id#34364, Entidad#34365, Origen_Solicitud#34366, Identificadores_Origen#34367, Entidad_Norm#7034, CIF#6977, CIF_validacion#34370, Centro#34371, Centro_Norm#34372, Tipo#34373, Provincia_Entidad#7091, Pais_Entidad#34375, Provincia_Centro#34376, PIC#34377, Tipo_Persona#34378, Entidad_Match#34379, Provincia_Match#34380, Match#34381, Id_NIVEL_1#34382, Id_NIVEL_0#34383, ID_ENTIDAD_NIVEL_0#34384, ID_ENTIDAD_NIVEL_1#34385, Jerarquia#34386, NIF_COD_NIVEL_0#34387, ... 37 more fields]\n            :              :              :                                                                                                                                               +- Project [Id#34364, Entidad#34365, Origen_Solicitud#34366, Identificadores_Origen#34367, Entidad_Norm#7034, CIF#6977, CIF_validacion#34370, Centro#34371, Centro_Norm#34372, Tipo#34373, Provincia_Entidad#7091, Pais_Entidad#34375, Provincia_Centro#34376, PIC#34377, Tipo_Persona#34378, Entidad_Match#34379, Provincia_Match#34380, Match#34381, Id_NIVEL_1#34382, Id_NIVEL_0#34383, ID_ENTIDAD_NIVEL_0#34384, ID_ENTIDAD_NIVEL_1#34385, Jerarquia#34386, NIF_COD_NIVEL_0#34387, ... 36 more fields]\n            :              :              :                                                                                                                                                  +- Project [Id#34364, Entidad#34365, Origen_Solicitud#34366, Identificadores_Origen#34367, Entidad_Norm#7034, CIF#6977, CIF_validacion#34370, Centro#34371, Centro_Norm#34372, Tipo#34373, Provincia_Entidad#7091, Pais_Entidad#34375, Provincia_Centro#34376, PIC#34377, Tipo_Persona#34378, Entidad_Match#34379, Provincia_Match#34380, Match#34381, Id_NIVEL_1#34382, Id_NIVEL_0#34383, ID_ENTIDAD_NIVEL_0#34384, ID_ENTIDAD_NIVEL_1#34385, Jerarquia#34386, NIF_COD_NIVEL_0#34387, ... 35 more fields]\n            :              :              :                                                                                                                                                     +- Project [Id#34364, Entidad#34365, Origen_Solicitud#34366, Identificadores_Origen#34367, Entidad_Norm#7034, CIF#6977, CIF_validacion#34370, Centro#34371, Centro_Norm#34372, Tipo#34373, Provincia_Entidad#7091, Pais_Entidad#34375, Provincia_Centro#34376, PIC#34377, Tipo_Persona#34378, Entidad_Match#34379, Provincia_Match#34380, Match#34381, Id_NIVEL_1#34382, Id_NIVEL_0#34383, ID_ENTIDAD_NIVEL_0#34384, ID_ENTIDAD_NIVEL_1#34385, Jerarquia#34386, NIF_COD_NIVEL_0#34387, ... 34 more fields]\n            :              :              :                                                                                                                                                        +- Project [Id#34364, Entidad#34365, Origen_Solicitud#34366, Identificadores_Origen#34367, Entidad_Norm#7034, CIF#6977, CIF_validacion#34370, Centro#34371, Centro_Norm#34372, Tipo#34373, Provincia_Entidad#7091, Pais_Entidad#34375, Provincia_Centro#34376, PIC#34377, Tipo_Persona#34378, Entidad_Match#34379, Provincia_Match#34380, Match#34381, Id_NIVEL_1#34382, Id_NIVEL_0#34383, ID_ENTIDAD_NIVEL_0#34384, ID_ENTIDAD_NIVEL_1#34385, Jerarquia#34386, NIF_COD_NIVEL_0#34387, ... 33 more fields]\n            :              :              :                                                                                                                                                           +- Project [Id#34364, Entidad#34365, Origen_Solicitud#34366, Identificadores_Origen#34367, Entidad_Norm#7034, CIF#6977, CIF_validacion#34370, Centro#34371, Centro_Norm#34372, Tipo#34373, Provincia_Centro#34376 AS Provincia_Entidad#7091, Pais_Entidad#34375, Provincia_Centro#34376, PIC#34377, Tipo_Persona#34378, Entidad_Match#34379, Provincia_Match#34380, Match#34381, Id_NIVEL_1#34382, Id_NIVEL_0#34383, ID_ENTIDAD_NIVEL_0#34384, ID_ENTIDAD_NIVEL_1#34385, Jerarquia#34386, NIF_COD_NIVEL_0#34387, ... 32 more fields]\n            :              :              :                                                                                                                                                              +- Project [Id#34364, Entidad#34365, Origen_Solicitud#34366, Identificadores_Origen#34367, Centro_Norm#34372 AS Entidad_Norm#7034, CIF#6977, CIF_validacion#34370, Centro#34371, Centro_Norm#34372, Tipo#34373, Provincia_Entidad#34374, Pais_Entidad#34375, Provincia_Centro#34376, PIC#34377, Tipo_Persona#34378, Entidad_Match#34379, Provincia_Match#34380, Match#34381, Id_NIVEL_1#34382, Id_NIVEL_0#34383, ID_ENTIDAD_NIVEL_0#34384, ID_ENTIDAD_NIVEL_1#34385, Jerarquia#34386, NIF_COD_NIVEL_0#34387, ... 32 more fields]\n            :              :              :                                                                                                                                                                 +- Project [Id#34364, Entidad#34365, Origen_Solicitud#34366, Identificadores_Origen#34367, Entidad_Norm#34368, cast(null as string) AS CIF#6977, CIF_validacion#34370, Centro#34371, Centro_Norm#34372, Tipo#34373, Provincia_Entidad#34374, Pais_Entidad#34375, Provincia_Centro#34376, PIC#34377, Tipo_Persona#34378, Entidad_Match#34379, Provincia_Match#34380, Match#34381, Id_NIVEL_1#34382, Id_NIVEL_0#34383, ID_ENTIDAD_NIVEL_0#34384, ID_ENTIDAD_NIVEL_1#34385, Jerarquia#34386, NIF_COD_NIVEL_0#34387, ... 32 more fields]\n            :              :              :                                                                                                                                                                    +- Filter (cast(Similitud#6866 as double) < cast(0.875 as double))\n            :              :              :                                                                                                                                                                       +- Project [Id#34364, Entidad#34365, Origen_Solicitud#34366, Identificadores_Origen#34367, Entidad_Norm#34368, CIF#34369, CIF_validacion#34370, Centro#34371, Centro_Norm#34372, Tipo#34373, Provincia_Entidad#34374, Pais_Entidad#34375, Provincia_Centro#34376, PIC#34377, Tipo_Persona#34378, Entidad_Match#34379, Provincia_Match#34380, Match#34381, Id_NIVEL_1#34382, Id_NIVEL_0#34383, ID_ENTIDAD_NIVEL_0#34384, ID_ENTIDAD_NIVEL_1#34385, Jerarquia#34386, NIF_COD_NIVEL_0#34387, ... 32 more fields]\n            :              :              :                                                                                                                                                                          +- Filter isnotnull(Id_NIVEL_0#34383)\n            :              :              :                                                                                                                                                                             +- Deduplicate [Pais_Entidad#34375, Id#34364, Centro_Norm#34372, Entidad_Norm#34368, Entidad_Match#34379, Centro#34371, Identificadores_Origen#34367, Tipo#34373, Origen_Solicitud#34366, Entidad#34365, CIF_validacion#34370, Tipo_Persona#34378, Provincia_Match#34380, PIC#34377, CIF#34369, Provincia_Entidad#34374, Provincia_Centro#34376, Match#34381]\n            :              :              :                                                                                                                                                                                +- Join LeftOuter, (Id#34364 = Id_NIVEL_0#34383)\n            :              :              :                                                                                                                                                                                   :- Relation [Id#34364,Entidad#34365,Origen_Solicitud#34366,Identificadores_Origen#34367,Entidad_Norm#34368,CIF#34369,CIF_validacion#34370,Centro#34371,Centro_Norm#34372,Tipo#34373,Provincia_Entidad#34374,Pais_Entidad#34375,Provincia_Centro#34376,PIC#34377,Tipo_Persona#34378,Entidad_Match#34379,Provincia_Match#34380,Match#34381] csv\n            :              :              :                                                                                                                                                                                   +- Relation [Id_NIVEL_1#34382,Id_NIVEL_0#34383,ID_ENTIDAD_NIVEL_0#34384,ID_ENTIDAD_NIVEL_1#34385,Jerarquia#34386,NIF_COD_NIVEL_0#34387,ACRONIMO_NIVEL_0#34388,NOMBRE_ENTIDAD_NIVEL_0#34389,Nombre_Entidad_Mostrar_NIVEL_0#34390,TIPO_ENTIDAD_N1_1_NIVEL_0#34391,TIPO_ENTIDAD_N2_1_NIVEL_0#34392,DIRECCION_POSTAL_NIVEL_0#34393,COD_POSTAL_NIVEL_0#34394,COD_PROVINCIA_NIVEL_0#34395,PROVINCIA_NIVEL_0#34396,COD_CCAA_NIVEL_0#34397,CCAA_NIVEL_0#34398,ENLACE_WEB_NIVEL_0#34399,SOMMA_NIVEL_0#34400,TIPO_ENTIDAD_REGIONAL_NIVEL_0#34401,ESTADO_x_NIVEL_0#34402,NIF_COD_NIVEL_1#34403,ACRONIMO_NIVEL_1#34404,NOMBRE_ENTIDAD_NIVEL_1#34405,... 13 more fields] csv\n            :              :              +- Project [Id#10956, Dummy#10962]\n            :              :                 +- Project [Id#10956, Dummy#10958L, Dummy#10962, Dummy#10962]\n            :              :                    +- Window [row_number() windowspecdefinition(Dummy#10958L ASC NULLS FIRST, specifiedwindowframe(RowFrame, unboundedpreceding$(), currentrow$())) AS Dummy#10962], [Dummy#10958L ASC NULLS FIRST]\n            :              :                       +- Project [Id#10956, Dummy#10958L]\n            :              :                          +- Project [Id#10956, monotonically_increasing_id() AS Dummy#10958L]\n            :              :                             +- Project [value#34419 AS Id#10956]\n            :              :                                +- LogicalRDD [value#34419], false\n            :              +- Project [Entidad_Norm#34422, DenominacionSocial#34423, NIF#34425, CodigoInvente#34426, FormaJuridica_Codigo#34427, FormaJuridica_Descripcion#34428, codigoDir3#34429, codigoOrigen#34430, Provincia_Codigo#34424, final_score#14072, DenominacionSocial_Norm#34431]\n            :                 +- Deduplicate [Entidad_Norm#34422]\n            :                    +- Sort [final_score#14072 DESC NULLS LAST], true\n            :                       +- Filter (cast(final_score#14072 as double) >= cast(0.875 as double))\n            :                          +- Project [source_name#34420, target_name#34421, Entidad_Norm#34422, DenominacionSocial#34423, Provincia_Codigo#34424, NIF#34425, CodigoInvente#34426, FormaJuridica_Codigo#34427, FormaJuridica_Descripcion#34428, codigoDir3#34429, codigoOrigen#34430, DenominacionSocial_Norm#34431, source_names_stopwords#13971, target_names_stopwords#14023, CASE WHEN NOT (source_names_stopwords#13971 = target_names_stopwords#14023) THEN final_score#14040 ELSE cast(1 as float) END AS final_score#14072]\n            :                             +- Project [source_name#34420, target_name#34421, Entidad_Norm#34422, DenominacionSocial#34423, Provincia_Codigo#34424, NIF#34425, CodigoInvente#34426, FormaJuridica_Codigo#34427, FormaJuridica_Descripcion#34428, codigoDir3#34429, codigoOrigen#34430, DenominacionSocial_Norm#34431, source_names_stopwords#13971, target_names_stopwords#14023, final_score#14040]\n            :                                +- Project [source_name#34420, target_name#34421, Entidad_Norm#34422, DenominacionSocial#34423, Provincia_Codigo#34424, NIF#34425, CodigoInvente#34426, FormaJuridica_Codigo#34427, FormaJuridica_Descripcion#34428, codigoDir3#34429, codigoOrigen#34430, DenominacionSocial_Norm#34431, aux#13986, source_names_stopwords#13971, target_names_stopwords#14023, Distance_ratcliff_obershelp(source_names_stopwords#13971, target_names_stopwords#14023)#14039 AS final_score#14040]\n            :                                   +- Project [source_name#34420, target_name#34421, Entidad_Norm#34422, DenominacionSocial#34423, Provincia_Codigo#34424, NIF#34425, CodigoInvente#34426, FormaJuridica_Codigo#34427, FormaJuridica_Descripcion#34428, codigoDir3#34429, codigoOrigen#34430, DenominacionSocial_Norm#34431, aux#13986, source_names_stopwords#13971, array_join(target_names_stopwords#14004,  , None) AS target_names_stopwords#14023]\n            :                                      +- Project [source_name#34420, target_name#34421, Entidad_Norm#34422, DenominacionSocial#34423, Provincia_Codigo#34424, NIF#34425, CodigoInvente#34426, FormaJuridica_Codigo#34427, FormaJuridica_Descripcion#34428, codigoDir3#34429, codigoOrigen#34430, DenominacionSocial_Norm#34431, aux#13986, source_names_stopwords#13971, UDF(aux#13986) AS target_names_stopwords#14004]\n            :                                         +- Project [source_name#34420, target_name#34421, Entidad_Norm#34422, DenominacionSocial#34423, Provincia_Codigo#34424, NIF#34425, CodigoInvente#34426, FormaJuridica_Codigo#34427, FormaJuridica_Descripcion#34428, codigoDir3#34429, codigoOrigen#34430, DenominacionSocial_Norm#34431, split(target_name#34421, \\s+, -1) AS aux#13986, source_names_stopwords#13971]\n            :                                            +- Project [source_name#34420, target_name#34421, Entidad_Norm#34422, DenominacionSocial#34423, Provincia_Codigo#34424, NIF#34425, CodigoInvente#34426, FormaJuridica_Codigo#34427, FormaJuridica_Descripcion#34428, codigoDir3#34429, codigoOrigen#34430, DenominacionSocial_Norm#34431, aux#13936, array_join(source_names_stopwords#13953,  , None) AS source_names_stopwords#13971]\n            :                                               +- Project [source_name#34420, target_name#34421, Entidad_Norm#34422, DenominacionSocial#34423, Provincia_Codigo#34424, NIF#34425, CodigoInvente#34426, FormaJuridica_Codigo#34427, FormaJuridica_Descripcion#34428, codigoDir3#34429, codigoOrigen#34430, DenominacionSocial_Norm#34431, aux#13936, UDF(aux#13936) AS source_names_stopwords#13953]\n            :                                                  +- Project [source_name#34420, target_name#34421, Entidad_Norm#34422, DenominacionSocial#34423, Provincia_Codigo#34424, NIF#34425, CodigoInvente#34426, FormaJuridica_Codigo#34427, FormaJuridica_Descripcion#34428, codigoDir3#34429, codigoOrigen#34430, DenominacionSocial_Norm#34431, split(source_name#34420, \\s+, -1) AS aux#13936]\n            :                                                     +- LogicalRDD [source_name#34420, target_name#34421, Entidad_Norm#34422, DenominacionSocial#34423, Provincia_Codigo#34424, NIF#34425, CodigoInvente#34426, FormaJuridica_Codigo#34427, FormaJuridica_Descripcion#34428, codigoDir3#34429, codigoOrigen#34430, DenominacionSocial_Norm#34431], false\n            +- Project [Entidad_Norm#34434, final_score#32306, C_ID_UD_ORGANICA#34435, C_DNM_UD_ORGANICA#34436, C_ID_NIVEL_ADMON#34437, C_ID_TIPO_ENT_PUBLICA#34438, N_NIVEL_JERARQUICO#34439, C_ID_DEP_UD_SUPERIOR#34440, C_DNM_UD_ORGANICA_SUPERIOR#34441, C_ID_DEP_UD_PRINCIPAL#34442, C_DNM_UD_ORGANICA_PRINCIPAL#34443, B_SW_DEP_EDP_PRINCIPAL#34444, C_ID_DEP_EDP_PRINCIPAL#34445, C_DNM_UD_ORGANICA_EDP_PRINCIPAL#34446, C_ID_ESTADO#34447, D_VIG_ALTA_OFICIAL#34448, NIF_CIF#34449, C_ID_AMB_PROVINCIA#34450, C_DESC_PROV#34451, CONTACTOS#34452, C_DNM_UD_ORGANICA_Norm#34453]\n               +- Union false, false\n                  :- Project [source_name#34432, target_name#34433, Entidad_Norm#34434, C_ID_UD_ORGANICA#34435, C_DNM_UD_ORGANICA#34436, C_ID_NIVEL_ADMON#34437, C_ID_TIPO_ENT_PUBLICA#34438, N_NIVEL_JERARQUICO#34439, C_ID_DEP_UD_SUPERIOR#34440, C_DNM_UD_ORGANICA_SUPERIOR#34441, C_ID_DEP_UD_PRINCIPAL#34442, C_DNM_UD_ORGANICA_PRINCIPAL#34443, B_SW_DEP_EDP_PRINCIPAL#34444, C_ID_DEP_EDP_PRINCIPAL#34445, C_DNM_UD_ORGANICA_EDP_PRINCIPAL#34446, C_ID_ESTADO#34447, D_VIG_ALTA_OFICIAL#34448, NIF_CIF#34449, C_ID_AMB_PROVINCIA#34450, C_DESC_PROV#34451, CONTACTOS#34452, C_DNM_UD_ORGANICA_Norm#34453, source_names_stopwords#32145, target_names_stopwords#32227, final_score#32306]\n                  :  +- Filter (cnt#33400L = cast(1 as bigint))\n                  :     +- Project [source_name#34432, target_name#34433, Entidad_Norm#34434, C_ID_UD_ORGANICA#34435, C_DNM_UD_ORGANICA#34436, C_ID_NIVEL_ADMON#34437, C_ID_TIPO_ENT_PUBLICA#34438, N_NIVEL_JERARQUICO#34439, C_ID_DEP_UD_SUPERIOR#34440, C_DNM_UD_ORGANICA_SUPERIOR#34441, C_ID_DEP_UD_PRINCIPAL#34442, C_DNM_UD_ORGANICA_PRINCIPAL#34443, B_SW_DEP_EDP_PRINCIPAL#34444, C_ID_DEP_EDP_PRINCIPAL#34445, C_DNM_UD_ORGANICA_EDP_PRINCIPAL#34446, C_ID_ESTADO#34447, D_VIG_ALTA_OFICIAL#34448, NIF_CIF#34449, C_ID_AMB_PROVINCIA#34450, C_DESC_PROV#34451, CONTACTOS#34452, C_DNM_UD_ORGANICA_Norm#34453, source_names_stopwords#32145, target_names_stopwords#32227, ... 2 more fields]\n                  :        +- Project [source_name#34432, target_name#34433, Entidad_Norm#34434, C_ID_UD_ORGANICA#34435, C_DNM_UD_ORGANICA#34436, C_ID_NIVEL_ADMON#34437, C_ID_TIPO_ENT_PUBLICA#34438, N_NIVEL_JERARQUICO#34439, C_ID_DEP_UD_SUPERIOR#34440, C_DNM_UD_ORGANICA_SUPERIOR#34441, C_ID_DEP_UD_PRINCIPAL#34442, C_DNM_UD_ORGANICA_PRINCIPAL#34443, B_SW_DEP_EDP_PRINCIPAL#34444, C_ID_DEP_EDP_PRINCIPAL#34445, C_DNM_UD_ORGANICA_EDP_PRINCIPAL#34446, C_ID_ESTADO#34447, D_VIG_ALTA_OFICIAL#34448, NIF_CIF#34449, C_ID_AMB_PROVINCIA#34450, C_DESC_PROV#34451, CONTACTOS#34452, C_DNM_UD_ORGANICA_Norm#34453, source_names_stopwords#32145, target_names_stopwords#32227, ... 3 more fields]\n                  :           +- Window [count(1) windowspecdefinition(Entidad_Norm#34434, specifiedwindowframe(RowFrame, unboundedpreceding$(), unboundedfollowing$())) AS cnt#33400L], [Entidad_Norm#34434]\n                  :              +- Project [source_name#34432, target_name#34433, Entidad_Norm#34434, C_ID_UD_ORGANICA#34435, C_DNM_UD_ORGANICA#34436, C_ID_NIVEL_ADMON#34437, C_ID_TIPO_ENT_PUBLICA#34438, N_NIVEL_JERARQUICO#34439, C_ID_DEP_UD_SUPERIOR#34440, C_DNM_UD_ORGANICA_SUPERIOR#34441, C_ID_DEP_UD_PRINCIPAL#34442, C_DNM_UD_ORGANICA_PRINCIPAL#34443, B_SW_DEP_EDP_PRINCIPAL#34444, C_ID_DEP_EDP_PRINCIPAL#34445, C_DNM_UD_ORGANICA_EDP_PRINCIPAL#34446, C_ID_ESTADO#34447, D_VIG_ALTA_OFICIAL#34448, NIF_CIF#34449, C_ID_AMB_PROVINCIA#34450, C_DESC_PROV#34451, CONTACTOS#34452, C_DNM_UD_ORGANICA_Norm#34453, source_names_stopwords#32145, target_names_stopwords#32227, final_score#32306]\n                  :                 +- Deduplicate [Entidad_Norm#34434, C_DNM_UD_ORGANICA_Norm#34453]\n                  :                    +- Filter (cast(final_score#32306 as double) >= cast(0.875 as double))\n                  :                       +- Project [source_name#34432, target_name#34433, Entidad_Norm#34434, C_ID_UD_ORGANICA#34435, C_DNM_UD_ORGANICA#34436, C_ID_NIVEL_ADMON#34437, C_ID_TIPO_ENT_PUBLICA#34438, N_NIVEL_JERARQUICO#34439, C_ID_DEP_UD_SUPERIOR#34440, C_DNM_UD_ORGANICA_SUPERIOR#34441, C_ID_DEP_UD_PRINCIPAL#34442, C_DNM_UD_ORGANICA_PRINCIPAL#34443, B_SW_DEP_EDP_PRINCIPAL#34444, C_ID_DEP_EDP_PRINCIPAL#34445, C_DNM_UD_ORGANICA_EDP_PRINCIPAL#34446, C_ID_ESTADO#34447, D_VIG_ALTA_OFICIAL#34448, NIF_CIF#34449, C_ID_AMB_PROVINCIA#34450, C_DESC_PROV#34451, CONTACTOS#34452, C_DNM_UD_ORGANICA_Norm#34453, source_names_stopwords#32145, target_names_stopwords#32227, CASE WHEN NOT (source_names_stopwords#32145 = target_names_stopwords#32227) THEN final_score#32254 ELSE cast(1 as float) END AS final_score#32306]\n                  :                          +- Project [source_name#34432, target_name#34433, Entidad_Norm#34434, C_ID_UD_ORGANICA#34435, C_DNM_UD_ORGANICA#34436, C_ID_NIVEL_ADMON#34437, C_ID_TIPO_ENT_PUBLICA#34438, N_NIVEL_JERARQUICO#34439, C_ID_DEP_UD_SUPERIOR#34440, C_DNM_UD_ORGANICA_SUPERIOR#34441, C_ID_DEP_UD_PRINCIPAL#34442, C_DNM_UD_ORGANICA_PRINCIPAL#34443, B_SW_DEP_EDP_PRINCIPAL#34444, C_ID_DEP_EDP_PRINCIPAL#34445, C_DNM_UD_ORGANICA_EDP_PRINCIPAL#34446, C_ID_ESTADO#34447, D_VIG_ALTA_OFICIAL#34448, NIF_CIF#34449, C_ID_AMB_PROVINCIA#34450, C_DESC_PROV#34451, CONTACTOS#34452, C_DNM_UD_ORGANICA_Norm#34453, source_names_stopwords#32145, target_names_stopwords#32227, final_score#32254]\n                  :                             +- Project [source_name#34432, target_name#34433, Entidad_Norm#34434, C_ID_UD_ORGANICA#34435, C_DNM_UD_ORGANICA#34436, C_ID_NIVEL_ADMON#34437, C_ID_TIPO_ENT_PUBLICA#34438, N_NIVEL_JERARQUICO#34439, C_ID_DEP_UD_SUPERIOR#34440, C_DNM_UD_ORGANICA_SUPERIOR#34441, C_ID_DEP_UD_PRINCIPAL#34442, C_DNM_UD_ORGANICA_PRINCIPAL#34443, B_SW_DEP_EDP_PRINCIPAL#34444, C_ID_DEP_EDP_PRINCIPAL#34445, C_DNM_UD_ORGANICA_EDP_PRINCIPAL#34446, C_ID_ESTADO#34447, D_VIG_ALTA_OFICIAL#34448, NIF_CIF#34449, C_ID_AMB_PROVINCIA#34450, C_DESC_PROV#34451, CONTACTOS#34452, C_DNM_UD_ORGANICA_Norm#34453, aux#32170, source_names_stopwords#32145, ... 2 more fields]\n                  :                                +- Project [source_name#34432, target_name#34433, Entidad_Norm#34434, C_ID_UD_ORGANICA#34435, C_DNM_UD_ORGANICA#34436, C_ID_NIVEL_ADMON#34437, C_ID_TIPO_ENT_PUBLICA#34438, N_NIVEL_JERARQUICO#34439, C_ID_DEP_UD_SUPERIOR#34440, C_DNM_UD_ORGANICA_SUPERIOR#34441, C_ID_DEP_UD_PRINCIPAL#34442, C_DNM_UD_ORGANICA_PRINCIPAL#34443, B_SW_DEP_EDP_PRINCIPAL#34444, C_ID_DEP_EDP_PRINCIPAL#34445, C_DNM_UD_ORGANICA_EDP_PRINCIPAL#34446, C_ID_ESTADO#34447, D_VIG_ALTA_OFICIAL#34448, NIF_CIF#34449, C_ID_AMB_PROVINCIA#34450, C_DESC_PROV#34451, CONTACTOS#34452, C_DNM_UD_ORGANICA_Norm#34453, aux#32170, source_names_stopwords#32145, array_join(target_names_stopwords#32198,  , None) AS target_names_stopwords#32227]\n                  :                                   +- Project [source_name#34432, target_name#34433, Entidad_Norm#34434, C_ID_UD_ORGANICA#34435, C_DNM_UD_ORGANICA#34436, C_ID_NIVEL_ADMON#34437, C_ID_TIPO_ENT_PUBLICA#34438, N_NIVEL_JERARQUICO#34439, C_ID_DEP_UD_SUPERIOR#34440, C_DNM_UD_ORGANICA_SUPERIOR#34441, C_ID_DEP_UD_PRINCIPAL#34442, C_DNM_UD_ORGANICA_PRINCIPAL#34443, B_SW_DEP_EDP_PRINCIPAL#34444, C_ID_DEP_EDP_PRINCIPAL#34445, C_DNM_UD_ORGANICA_EDP_PRINCIPAL#34446, C_ID_ESTADO#34447, D_VIG_ALTA_OFICIAL#34448, NIF_CIF#34449, C_ID_AMB_PROVINCIA#34450, C_DESC_PROV#34451, CONTACTOS#34452, C_DNM_UD_ORGANICA_Norm#34453, aux#32170, source_names_stopwords#32145, UDF(aux#32170) AS target_names_stopwords#32198]\n                  :                                      +- Project [source_name#34432, target_name#34433, Entidad_Norm#34434, C_ID_UD_ORGANICA#34435, C_DNM_UD_ORGANICA#34436, C_ID_NIVEL_ADMON#34437, C_ID_TIPO_ENT_PUBLICA#34438, N_NIVEL_JERARQUICO#34439, C_ID_DEP_UD_SUPERIOR#34440, C_DNM_UD_ORGANICA_SUPERIOR#34441, C_ID_DEP_UD_PRINCIPAL#34442, C_DNM_UD_ORGANICA_PRINCIPAL#34443, B_SW_DEP_EDP_PRINCIPAL#34444, C_ID_DEP_EDP_PRINCIPAL#34445, C_DNM_UD_ORGANICA_EDP_PRINCIPAL#34446, C_ID_ESTADO#34447, D_VIG_ALTA_OFICIAL#34448, NIF_CIF#34449, C_ID_AMB_PROVINCIA#34450, C_DESC_PROV#34451, CONTACTOS#34452, C_DNM_UD_ORGANICA_Norm#34453, split(target_name#34433, \\s+, -1) AS aux#32170, source_names_stopwords#32145]\n                  :                                         +- Project [source_name#34432, target_name#34433, Entidad_Norm#34434, C_ID_UD_ORGANICA#34435, C_DNM_UD_ORGANICA#34436, C_ID_NIVEL_ADMON#34437, C_ID_TIPO_ENT_PUBLICA#34438, N_NIVEL_JERARQUICO#34439, C_ID_DEP_UD_SUPERIOR#34440, C_DNM_UD_ORGANICA_SUPERIOR#34441, C_ID_DEP_UD_PRINCIPAL#34442, C_DNM_UD_ORGANICA_PRINCIPAL#34443, B_SW_DEP_EDP_PRINCIPAL#34444, C_ID_DEP_EDP_PRINCIPAL#34445, C_DNM_UD_ORGANICA_EDP_PRINCIPAL#34446, C_ID_ESTADO#34447, D_VIG_ALTA_OFICIAL#34448, NIF_CIF#34449, C_ID_AMB_PROVINCIA#34450, C_DESC_PROV#34451, CONTACTOS#34452, C_DNM_UD_ORGANICA_Norm#34453, aux#32090, array_join(source_names_stopwords#32117,  , None) AS source_names_stopwords#32145]\n                  :                                            +- Project [source_name#34432, target_name#34433, Entidad_Norm#34434, C_ID_UD_ORGANICA#34435, C_DNM_UD_ORGANICA#34436, C_ID_NIVEL_ADMON#34437, C_ID_TIPO_ENT_PUBLICA#34438, N_NIVEL_JERARQUICO#34439, C_ID_DEP_UD_SUPERIOR#34440, C_DNM_UD_ORGANICA_SUPERIOR#34441, C_ID_DEP_UD_PRINCIPAL#34442, C_DNM_UD_ORGANICA_PRINCIPAL#34443, B_SW_DEP_EDP_PRINCIPAL#34444, C_ID_DEP_EDP_PRINCIPAL#34445, C_DNM_UD_ORGANICA_EDP_PRINCIPAL#34446, C_ID_ESTADO#34447, D_VIG_ALTA_OFICIAL#34448, NIF_CIF#34449, C_ID_AMB_PROVINCIA#34450, C_DESC_PROV#34451, CONTACTOS#34452, C_DNM_UD_ORGANICA_Norm#34453, aux#32090, UDF(aux#32090) AS source_names_stopwords#32117]\n                  :                                               +- Project [source_name#34432, target_name#34433, Entidad_Norm#34434, C_ID_UD_ORGANICA#34435, C_DNM_UD_ORGANICA#34436, C_ID_NIVEL_ADMON#34437, C_ID_TIPO_ENT_PUBLICA#34438, N_NIVEL_JERARQUICO#34439, C_ID_DEP_UD_SUPERIOR#34440, C_DNM_UD_ORGANICA_SUPERIOR#34441, C_ID_DEP_UD_PRINCIPAL#34442, C_DNM_UD_ORGANICA_PRINCIPAL#34443, B_SW_DEP_EDP_PRINCIPAL#34444, C_ID_DEP_EDP_PRINCIPAL#34445, C_DNM_UD_ORGANICA_EDP_PRINCIPAL#34446, C_ID_ESTADO#34447, D_VIG_ALTA_OFICIAL#34448, NIF_CIF#34449, C_ID_AMB_PROVINCIA#34450, C_DESC_PROV#34451, CONTACTOS#34452, C_DNM_UD_ORGANICA_Norm#34453, split(source_name#34432, \\s+, -1) AS aux#32090]\n                  :                                                  +- LogicalRDD [source_name#34432, target_name#34433, Entidad_Norm#34434, C_ID_UD_ORGANICA#34435, C_DNM_UD_ORGANICA#34436, C_ID_NIVEL_ADMON#34437, C_ID_TIPO_ENT_PUBLICA#34438, N_NIVEL_JERARQUICO#34439, C_ID_DEP_UD_SUPERIOR#34440, C_DNM_UD_ORGANICA_SUPERIOR#34441, C_ID_DEP_UD_PRINCIPAL#34442, C_DNM_UD_ORGANICA_PRINCIPAL#34443, B_SW_DEP_EDP_PRINCIPAL#34444, C_ID_DEP_EDP_PRINCIPAL#34445, C_DNM_UD_ORGANICA_EDP_PRINCIPAL#34446, C_ID_ESTADO#34447, D_VIG_ALTA_OFICIAL#34448, NIF_CIF#34449, C_ID_AMB_PROVINCIA#34450, C_DESC_PROV#34451, CONTACTOS#34452, C_DNM_UD_ORGANICA_Norm#34453], false\n                  :- Project [Entidad_Norm#34456 AS Entidad_Norm#33738, source_name#34454 AS source_name#33739, target_name#34455 AS target_name#33740, C_ID_UD_ORGANICA#34457 AS C_ID_UD_ORGANICA#33741, C_DNM_UD_ORGANICA#34458 AS C_DNM_UD_ORGANICA#33742, C_ID_NIVEL_ADMON#34459 AS C_ID_NIVEL_ADMON#33743, C_ID_TIPO_ENT_PUBLICA#34460 AS C_ID_TIPO_ENT_PUBLICA#33744, N_NIVEL_JERARQUICO#34461 AS N_NIVEL_JERARQUICO#33745, C_ID_DEP_UD_SUPERIOR#34462 AS C_ID_DEP_UD_SUPERIOR#33746, C_DNM_UD_ORGANICA_SUPERIOR#34463 AS C_DNM_UD_ORGANICA_SUPERIOR#33747, C_ID_DEP_UD_PRINCIPAL#34464 AS C_ID_DEP_UD_PRINCIPAL#33748, C_DNM_UD_ORGANICA_PRINCIPAL#34465 AS C_DNM_UD_ORGANICA_PRINCIPAL#33749, B_SW_DEP_EDP_PRINCIPAL#34466 AS B_SW_DEP_EDP_PRINCIPAL#33750, C_ID_DEP_EDP_PRINCIPAL#34467 AS C_ID_DEP_EDP_PRINCIPAL#33751, C_DNM_UD_ORGANICA_EDP_PRINCIPAL#34468 AS C_DNM_UD_ORGANICA_EDP_PRINCIPAL#33752, C_ID_ESTADO#34469 AS C_ID_ESTADO#33753, D_VIG_ALTA_OFICIAL#34470 AS D_VIG_ALTA_OFICIAL#33754, NIF_CIF#34471 AS NIF_CIF#33755, C_ID_AMB_PROVINCIA#34472 AS C_ID_AMB_PROVINCIA#33756, C_DESC_PROV#34473 AS C_DESC_PROV#33757, CONTACTOS#34474 AS CONTACTOS#33758, C_DNM_UD_ORGANICA_Norm#34475 AS C_DNM_UD_ORGANICA_Norm#33759, source_names_stopwords#32145 AS source_names_stopwords#33760, target_names_stopwords#32227 AS target_names_stopwords#33761, final_score#32306 AS final_score#33762]\n                  :  +- Deduplicate [Entidad_Norm#34456]\n                  :     +- Sort [N_NIVEL_JERARQUICO#34461 ASC NULLS FIRST], true\n                  :        +- Project [Entidad_Norm#34456, source_name#34454, target_name#34455, C_ID_UD_ORGANICA#34457, C_DNM_UD_ORGANICA#34458, C_ID_NIVEL_ADMON#34459, C_ID_TIPO_ENT_PUBLICA#34460, N_NIVEL_JERARQUICO#34461, C_ID_DEP_UD_SUPERIOR#34462, C_DNM_UD_ORGANICA_SUPERIOR#34463, C_ID_DEP_UD_PRINCIPAL#34464, C_DNM_UD_ORGANICA_PRINCIPAL#34465, B_SW_DEP_EDP_PRINCIPAL#34466, C_ID_DEP_EDP_PRINCIPAL#34467, C_DNM_UD_ORGANICA_EDP_PRINCIPAL#34468, C_ID_ESTADO#34469, D_VIG_ALTA_OFICIAL#34470, NIF_CIF#34471, C_ID_AMB_PROVINCIA#34472, C_DESC_PROV#34473, CONTACTOS#34474, C_DNM_UD_ORGANICA_Norm#34475, source_names_stopwords#32145, target_names_stopwords#32227, final_score#32306]\n                  :           +- Filter (cnt#33530L = cast(1 as bigint))\n                  :              +- Project [Entidad_Norm#34456, source_name#34454, target_name#34455, C_ID_UD_ORGANICA#34457, C_DNM_UD_ORGANICA#34458, C_ID_NIVEL_ADMON#34459, C_ID_TIPO_ENT_PUBLICA#34460, N_NIVEL_JERARQUICO#34461, C_ID_DEP_UD_SUPERIOR#34462, C_DNM_UD_ORGANICA_SUPERIOR#34463, C_ID_DEP_UD_PRINCIPAL#34464, C_DNM_UD_ORGANICA_PRINCIPAL#34465, B_SW_DEP_EDP_PRINCIPAL#34466, C_ID_DEP_EDP_PRINCIPAL#34467, C_DNM_UD_ORGANICA_EDP_PRINCIPAL#34468, C_ID_ESTADO#34469, D_VIG_ALTA_OFICIAL#34470, NIF_CIF#34471, C_ID_AMB_PROVINCIA#34472, C_DESC_PROV#34473, CONTACTOS#34474, C_DNM_UD_ORGANICA_Norm#34475, source_names_stopwords#32145, target_names_stopwords#32227, ... 2 more fields]\n                  :                 +- Project [Entidad_Norm#34456, source_name#34454, target_name#34455, C_ID_UD_ORGANICA#34457, C_DNM_UD_ORGANICA#34458, C_ID_NIVEL_ADMON#34459, C_ID_TIPO_ENT_PUBLICA#34460, N_NIVEL_JERARQUICO#34461, C_ID_DEP_UD_SUPERIOR#34462, C_DNM_UD_ORGANICA_SUPERIOR#34463, C_ID_DEP_UD_PRINCIPAL#34464, C_DNM_UD_ORGANICA_PRINCIPAL#34465, B_SW_DEP_EDP_PRINCIPAL#34466, C_ID_DEP_EDP_PRINCIPAL#34467, C_DNM_UD_ORGANICA_EDP_PRINCIPAL#34468, C_ID_ESTADO#34469, D_VIG_ALTA_OFICIAL#34470, NIF_CIF#34471, C_ID_AMB_PROVINCIA#34472, C_DESC_PROV#34473, CONTACTOS#34474, C_DNM_UD_ORGANICA_Norm#34475, source_names_stopwords#32145, target_names_stopwords#32227, ... 3 more fields]\n                  :                    +- Window [count(1) windowspecdefinition(Entidad_Norm#34456, N_NIVEL_JERARQUICO#34461, specifiedwindowframe(RowFrame, unboundedpreceding$(), unboundedfollowing$())) AS cnt#33530L], [Entidad_Norm#34456, N_NIVEL_JERARQUICO#34461]\n                  :                       +- Project [Entidad_Norm#34456, source_name#34454, target_name#34455, C_ID_UD_ORGANICA#34457, C_DNM_UD_ORGANICA#34458, C_ID_NIVEL_ADMON#34459, C_ID_TIPO_ENT_PUBLICA#34460, N_NIVEL_JERARQUICO#34461, C_ID_DEP_UD_SUPERIOR#34462, C_DNM_UD_ORGANICA_SUPERIOR#34463, C_ID_DEP_UD_PRINCIPAL#34464, C_DNM_UD_ORGANICA_PRINCIPAL#34465, B_SW_DEP_EDP_PRINCIPAL#34466, C_ID_DEP_EDP_PRINCIPAL#34467, C_DNM_UD_ORGANICA_EDP_PRINCIPAL#34468, C_ID_ESTADO#34469, D_VIG_ALTA_OFICIAL#34470, NIF_CIF#34471, C_ID_AMB_PROVINCIA#34472, C_DESC_PROV#34473, CONTACTOS#34474, C_DNM_UD_ORGANICA_Norm#34475, source_names_stopwords#32145, target_names_stopwords#32227, final_score#32306]\n                  :                          +- Project [Entidad_Norm#34456, source_name#34454, target_name#34455, C_ID_UD_ORGANICA#34457, C_DNM_UD_ORGANICA#34458, C_ID_NIVEL_ADMON#34459, C_ID_TIPO_ENT_PUBLICA#34460, N_NIVEL_JERARQUICO#34461, C_ID_DEP_UD_SUPERIOR#34462, C_DNM_UD_ORGANICA_SUPERIOR#34463, C_ID_DEP_UD_PRINCIPAL#34464, C_DNM_UD_ORGANICA_PRINCIPAL#34465, B_SW_DEP_EDP_PRINCIPAL#34466, C_ID_DEP_EDP_PRINCIPAL#34467, C_DNM_UD_ORGANICA_EDP_PRINCIPAL#34468, C_ID_ESTADO#34469, D_VIG_ALTA_OFICIAL#34470, NIF_CIF#34471, C_ID_AMB_PROVINCIA#34472, C_DESC_PROV#34473, CONTACTOS#34474, C_DNM_UD_ORGANICA_Norm#34475, source_names_stopwords#32145, target_names_stopwords#32227, final_score#32306]\n                  :                             +- Join LeftAnti, (Entidad_Norm#34456 = Entidad_Norm#34478)\n                  :                                :- Deduplicate [Entidad_Norm#34456, C_DNM_UD_ORGANICA_Norm#34475]\n                  :                                :  +- Filter (cast(final_score#32306 as double) >= cast(0.875 as double))\n                  :                                :     +- Project [source_name#34454, target_name#34455, Entidad_Norm#34456, C_ID_UD_ORGANICA#34457, C_DNM_UD_ORGANICA#34458, C_ID_NIVEL_ADMON#34459, C_ID_TIPO_ENT_PUBLICA#34460, N_NIVEL_JERARQUICO#34461, C_ID_DEP_UD_SUPERIOR#34462, C_DNM_UD_ORGANICA_SUPERIOR#34463, C_ID_DEP_UD_PRINCIPAL#34464, C_DNM_UD_ORGANICA_PRINCIPAL#34465, B_SW_DEP_EDP_PRINCIPAL#34466, C_ID_DEP_EDP_PRINCIPAL#34467, C_DNM_UD_ORGANICA_EDP_PRINCIPAL#34468, C_ID_ESTADO#34469, D_VIG_ALTA_OFICIAL#34470, NIF_CIF#34471, C_ID_AMB_PROVINCIA#34472, C_DESC_PROV#34473, CONTACTOS#34474, C_DNM_UD_ORGANICA_Norm#34475, source_names_stopwords#32145, target_names_stopwords#32227, CASE WHEN NOT (source_names_stopwords#32145 = target_names_stopwords#32227) THEN final_score#32254 ELSE cast(1 as float) END AS final_score#32306]\n                  :                                :        +- Project [source_name#34454, target_name#34455, Entidad_Norm#34456, C_ID_UD_ORGANICA#34457, C_DNM_UD_ORGANICA#34458, C_ID_NIVEL_ADMON#34459, C_ID_TIPO_ENT_PUBLICA#34460, N_NIVEL_JERARQUICO#34461, C_ID_DEP_UD_SUPERIOR#34462, C_DNM_UD_ORGANICA_SUPERIOR#34463, C_ID_DEP_UD_PRINCIPAL#34464, C_DNM_UD_ORGANICA_PRINCIPAL#34465, B_SW_DEP_EDP_PRINCIPAL#34466, C_ID_DEP_EDP_PRINCIPAL#34467, C_DNM_UD_ORGANICA_EDP_PRINCIPAL#34468, C_ID_ESTADO#34469, D_VIG_ALTA_OFICIAL#34470, NIF_CIF#34471, C_ID_AMB_PROVINCIA#34472, C_DESC_PROV#34473, CONTACTOS#34474, C_DNM_UD_ORGANICA_Norm#34475, source_names_stopwords#32145, target_names_stopwords#32227, final_score#32254]\n                  :                                :           +- Project [source_name#34454, target_name#34455, Entidad_Norm#34456, C_ID_UD_ORGANICA#34457, C_DNM_UD_ORGANICA#34458, C_ID_NIVEL_ADMON#34459, C_ID_TIPO_ENT_PUBLICA#34460, N_NIVEL_JERARQUICO#34461, C_ID_DEP_UD_SUPERIOR#34462, C_DNM_UD_ORGANICA_SUPERIOR#34463, C_ID_DEP_UD_PRINCIPAL#34464, C_DNM_UD_ORGANICA_PRINCIPAL#34465, B_SW_DEP_EDP_PRINCIPAL#34466, C_ID_DEP_EDP_PRINCIPAL#34467, C_DNM_UD_ORGANICA_EDP_PRINCIPAL#34468, C_ID_ESTADO#34469, D_VIG_ALTA_OFICIAL#34470, NIF_CIF#34471, C_ID_AMB_PROVINCIA#34472, C_DESC_PROV#34473, CONTACTOS#34474, C_DNM_UD_ORGANICA_Norm#34475, aux#32170, source_names_stopwords#32145, ... 2 more fields]\n                  :                                :              +- Project [source_name#34454, target_name#34455, Entidad_Norm#34456, C_ID_UD_ORGANICA#34457, C_DNM_UD_ORGANICA#34458, C_ID_NIVEL_ADMON#34459, C_ID_TIPO_ENT_PUBLICA#34460, N_NIVEL_JERARQUICO#34461, C_ID_DEP_UD_SUPERIOR#34462, C_DNM_UD_ORGANICA_SUPERIOR#34463, C_ID_DEP_UD_PRINCIPAL#34464, C_DNM_UD_ORGANICA_PRINCIPAL#34465, B_SW_DEP_EDP_PRINCIPAL#34466, C_ID_DEP_EDP_PRINCIPAL#34467, C_DNM_UD_ORGANICA_EDP_PRINCIPAL#34468, C_ID_ESTADO#34469, D_VIG_ALTA_OFICIAL#34470, NIF_CIF#34471, C_ID_AMB_PROVINCIA#34472, C_DESC_PROV#34473, CONTACTOS#34474, C_DNM_UD_ORGANICA_Norm#34475, aux#32170, source_names_stopwords#32145, array_join(target_names_stopwords#32198,  , None) AS target_names_stopwords#32227]\n                  :                                :                 +- Project [source_name#34454, target_name#34455, Entidad_Norm#34456, C_ID_UD_ORGANICA#34457, C_DNM_UD_ORGANICA#34458, C_ID_NIVEL_ADMON#34459, C_ID_TIPO_ENT_PUBLICA#34460, N_NIVEL_JERARQUICO#34461, C_ID_DEP_UD_SUPERIOR#34462, C_DNM_UD_ORGANICA_SUPERIOR#34463, C_ID_DEP_UD_PRINCIPAL#34464, C_DNM_UD_ORGANICA_PRINCIPAL#34465, B_SW_DEP_EDP_PRINCIPAL#34466, C_ID_DEP_EDP_PRINCIPAL#34467, C_DNM_UD_ORGANICA_EDP_PRINCIPAL#34468, C_ID_ESTADO#34469, D_VIG_ALTA_OFICIAL#34470, NIF_CIF#34471, C_ID_AMB_PROVINCIA#34472, C_DESC_PROV#34473, CONTACTOS#34474, C_DNM_UD_ORGANICA_Norm#34475, aux#32170, source_names_stopwords#32145, UDF(aux#32170) AS target_names_stopwords#32198]\n                  :                                :                    +- Project [source_name#34454, target_name#34455, Entidad_Norm#34456, C_ID_UD_ORGANICA#34457, C_DNM_UD_ORGANICA#34458, C_ID_NIVEL_ADMON#34459, C_ID_TIPO_ENT_PUBLICA#34460, N_NIVEL_JERARQUICO#34461, C_ID_DEP_UD_SUPERIOR#34462, C_DNM_UD_ORGANICA_SUPERIOR#34463, C_ID_DEP_UD_PRINCIPAL#34464, C_DNM_UD_ORGANICA_PRINCIPAL#34465, B_SW_DEP_EDP_PRINCIPAL#34466, C_ID_DEP_EDP_PRINCIPAL#34467, C_DNM_UD_ORGANICA_EDP_PRINCIPAL#34468, C_ID_ESTADO#34469, D_VIG_ALTA_OFICIAL#34470, NIF_CIF#34471, C_ID_AMB_PROVINCIA#34472, C_DESC_PROV#34473, CONTACTOS#34474, C_DNM_UD_ORGANICA_Norm#34475, split(target_name#34455, \\s+, -1) AS aux#32170, source_names_stopwords#32145]\n                  :                                :                       +- Project [source_name#34454, target_name#34455, Entidad_Norm#34456, C_ID_UD_ORGANICA#34457, C_DNM_UD_ORGANICA#34458, C_ID_NIVEL_ADMON#34459, C_ID_TIPO_ENT_PUBLICA#34460, N_NIVEL_JERARQUICO#34461, C_ID_DEP_UD_SUPERIOR#34462, C_DNM_UD_ORGANICA_SUPERIOR#34463, C_ID_DEP_UD_PRINCIPAL#34464, C_DNM_UD_ORGANICA_PRINCIPAL#34465, B_SW_DEP_EDP_PRINCIPAL#34466, C_ID_DEP_EDP_PRINCIPAL#34467, C_DNM_UD_ORGANICA_EDP_PRINCIPAL#34468, C_ID_ESTADO#34469, D_VIG_ALTA_OFICIAL#34470, NIF_CIF#34471, C_ID_AMB_PROVINCIA#34472, C_DESC_PROV#34473, CONTACTOS#34474, C_DNM_UD_ORGANICA_Norm#34475, aux#32090, array_join(source_names_stopwords#32117,  , None) AS source_names_stopwords#32145]\n                  :                                :                          +- Project [source_name#34454, target_name#34455, Entidad_Norm#34456, C_ID_UD_ORGANICA#34457, C_DNM_UD_ORGANICA#34458, C_ID_NIVEL_ADMON#34459, C_ID_TIPO_ENT_PUBLICA#34460, N_NIVEL_JERARQUICO#34461, C_ID_DEP_UD_SUPERIOR#34462, C_DNM_UD_ORGANICA_SUPERIOR#34463, C_ID_DEP_UD_PRINCIPAL#34464, C_DNM_UD_ORGANICA_PRINCIPAL#34465, B_SW_DEP_EDP_PRINCIPAL#34466, C_ID_DEP_EDP_PRINCIPAL#34467, C_DNM_UD_ORGANICA_EDP_PRINCIPAL#34468, C_ID_ESTADO#34469, D_VIG_ALTA_OFICIAL#34470, NIF_CIF#34471, C_ID_AMB_PROVINCIA#34472, C_DESC_PROV#34473, CONTACTOS#34474, C_DNM_UD_ORGANICA_Norm#34475, aux#32090, UDF(aux#32090) AS source_names_stopwords#32117]\n                  :                                :                             +- Project [source_name#34454, target_name#34455, Entidad_Norm#34456, C_ID_UD_ORGANICA#34457, C_DNM_UD_ORGANICA#34458, C_ID_NIVEL_ADMON#34459, C_ID_TIPO_ENT_PUBLICA#34460, N_NIVEL_JERARQUICO#34461, C_ID_DEP_UD_SUPERIOR#34462, C_DNM_UD_ORGANICA_SUPERIOR#34463, C_ID_DEP_UD_PRINCIPAL#34464, C_DNM_UD_ORGANICA_PRINCIPAL#34465, B_SW_DEP_EDP_PRINCIPAL#34466, C_ID_DEP_EDP_PRINCIPAL#34467, C_DNM_UD_ORGANICA_EDP_PRINCIPAL#34468, C_ID_ESTADO#34469, D_VIG_ALTA_OFICIAL#34470, NIF_CIF#34471, C_ID_AMB_PROVINCIA#34472, C_DESC_PROV#34473, CONTACTOS#34474, C_DNM_UD_ORGANICA_Norm#34475, split(source_name#34454, \\s+, -1) AS aux#32090]\n                  :                                :                                +- LogicalRDD [source_name#34454, target_name#34455, Entidad_Norm#34456, C_ID_UD_ORGANICA#34457, C_DNM_UD_ORGANICA#34458, C_ID_NIVEL_ADMON#34459, C_ID_TIPO_ENT_PUBLICA#34460, N_NIVEL_JERARQUICO#34461, C_ID_DEP_UD_SUPERIOR#34462, C_DNM_UD_ORGANICA_SUPERIOR#34463, C_ID_DEP_UD_PRINCIPAL#34464, C_DNM_UD_ORGANICA_PRINCIPAL#34465, B_SW_DEP_EDP_PRINCIPAL#34466, C_ID_DEP_EDP_PRINCIPAL#34467, C_DNM_UD_ORGANICA_EDP_PRINCIPAL#34468, C_ID_ESTADO#34469, D_VIG_ALTA_OFICIAL#34470, NIF_CIF#34471, C_ID_AMB_PROVINCIA#34472, C_DESC_PROV#34473, CONTACTOS#34474, C_DNM_UD_ORGANICA_Norm#34475], false\n                  :                                +- Project [Entidad_Norm#34478]\n                  :                                   +- Filter (count#33479L = cast(1 as bigint))\n                  :                                      +- Aggregate [Entidad_Norm#34478], [Entidad_Norm#34478, count(1) AS count#33479L]\n                  :                                         +- Deduplicate [Entidad_Norm#34478, C_DNM_UD_ORGANICA_Norm#34497]\n                  :                                            +- Filter (cast(final_score#32306 as double) >= cast(0.875 as double))\n                  :                                               +- Project [source_name#34476, target_name#34477, Entidad_Norm#34478, C_ID_UD_ORGANICA#34479, C_DNM_UD_ORGANICA#34480, C_ID_NIVEL_ADMON#34481, C_ID_TIPO_ENT_PUBLICA#34482, N_NIVEL_JERARQUICO#34483, C_ID_DEP_UD_SUPERIOR#34484, C_DNM_UD_ORGANICA_SUPERIOR#34485, C_ID_DEP_UD_PRINCIPAL#34486, C_DNM_UD_ORGANICA_PRINCIPAL#34487, B_SW_DEP_EDP_PRINCIPAL#34488, C_ID_DEP_EDP_PRINCIPAL#34489, C_DNM_UD_ORGANICA_EDP_PRINCIPAL#34490, C_ID_ESTADO#34491, D_VIG_ALTA_OFICIAL#34492, NIF_CIF#34493, C_ID_AMB_PROVINCIA#34494, C_DESC_PROV#34495, CONTACTOS#34496, C_DNM_UD_ORGANICA_Norm#34497, source_names_stopwords#32145, target_names_stopwords#32227, CASE WHEN NOT (source_names_stopwords#32145 = target_names_stopwords#32227) THEN final_score#32254 ELSE cast(1 as float) END AS final_score#32306]\n                  :                                                  +- Project [source_name#34476, target_name#34477, Entidad_Norm#34478, C_ID_UD_ORGANICA#34479, C_DNM_UD_ORGANICA#34480, C_ID_NIVEL_ADMON#34481, C_ID_TIPO_ENT_PUBLICA#34482, N_NIVEL_JERARQUICO#34483, C_ID_DEP_UD_SUPERIOR#34484, C_DNM_UD_ORGANICA_SUPERIOR#34485, C_ID_DEP_UD_PRINCIPAL#34486, C_DNM_UD_ORGANICA_PRINCIPAL#34487, B_SW_DEP_EDP_PRINCIPAL#34488, C_ID_DEP_EDP_PRINCIPAL#34489, C_DNM_UD_ORGANICA_EDP_PRINCIPAL#34490, C_ID_ESTADO#34491, D_VIG_ALTA_OFICIAL#34492, NIF_CIF#34493, C_ID_AMB_PROVINCIA#34494, C_DESC_PROV#34495, CONTACTOS#34496, C_DNM_UD_ORGANICA_Norm#34497, source_names_stopwords#32145, target_names_stopwords#32227, final_score#32254]\n                  :                                                     +- Project [source_name#34476, target_name#34477, Entidad_Norm#34478, C_ID_UD_ORGANICA#34479, C_DNM_UD_ORGANICA#34480, C_ID_NIVEL_ADMON#34481, C_ID_TIPO_ENT_PUBLICA#34482, N_NIVEL_JERARQUICO#34483, C_ID_DEP_UD_SUPERIOR#34484, C_DNM_UD_ORGANICA_SUPERIOR#34485, C_ID_DEP_UD_PRINCIPAL#34486, C_DNM_UD_ORGANICA_PRINCIPAL#34487, B_SW_DEP_EDP_PRINCIPAL#34488, C_ID_DEP_EDP_PRINCIPAL#34489, C_DNM_UD_ORGANICA_EDP_PRINCIPAL#34490, C_ID_ESTADO#34491, D_VIG_ALTA_OFICIAL#34492, NIF_CIF#34493, C_ID_AMB_PROVINCIA#34494, C_DESC_PROV#34495, CONTACTOS#34496, C_DNM_UD_ORGANICA_Norm#34497, aux#32170, source_names_stopwords#32145, ... 2 more fields]\n                  :                                                        +- Project [source_name#34476, target_name#34477, Entidad_Norm#34478, C_ID_UD_ORGANICA#34479, C_DNM_UD_ORGANICA#34480, C_ID_NIVEL_ADMON#34481, C_ID_TIPO_ENT_PUBLICA#34482, N_NIVEL_JERARQUICO#34483, C_ID_DEP_UD_SUPERIOR#34484, C_DNM_UD_ORGANICA_SUPERIOR#34485, C_ID_DEP_UD_PRINCIPAL#34486, C_DNM_UD_ORGANICA_PRINCIPAL#34487, B_SW_DEP_EDP_PRINCIPAL#34488, C_ID_DEP_EDP_PRINCIPAL#34489, C_DNM_UD_ORGANICA_EDP_PRINCIPAL#34490, C_ID_ESTADO#34491, D_VIG_ALTA_OFICIAL#34492, NIF_CIF#34493, C_ID_AMB_PROVINCIA#34494, C_DESC_PROV#34495, CONTACTOS#34496, C_DNM_UD_ORGANICA_Norm#34497, aux#32170, source_names_stopwords#32145, array_join(target_names_stopwords#32198,  , None) AS target_names_stopwords#32227]\n                  :                                                           +- Project [source_name#34476, target_name#34477, Entidad_Norm#34478, C_ID_UD_ORGANICA#34479, C_DNM_UD_ORGANICA#34480, C_ID_NIVEL_ADMON#34481, C_ID_TIPO_ENT_PUBLICA#34482, N_NIVEL_JERARQUICO#34483, C_ID_DEP_UD_SUPERIOR#34484, C_DNM_UD_ORGANICA_SUPERIOR#34485, C_ID_DEP_UD_PRINCIPAL#34486, C_DNM_UD_ORGANICA_PRINCIPAL#34487, B_SW_DEP_EDP_PRINCIPAL#34488, C_ID_DEP_EDP_PRINCIPAL#34489, C_DNM_UD_ORGANICA_EDP_PRINCIPAL#34490, C_ID_ESTADO#34491, D_VIG_ALTA_OFICIAL#34492, NIF_CIF#34493, C_ID_AMB_PROVINCIA#34494, C_DESC_PROV#34495, CONTACTOS#34496, C_DNM_UD_ORGANICA_Norm#34497, aux#32170, source_names_stopwords#32145, UDF(aux#32170) AS target_names_stopwords#32198]\n                  :                                                              +- Project [source_name#34476, target_name#34477, Entidad_Norm#34478, C_ID_UD_ORGANICA#34479, C_DNM_UD_ORGANICA#34480, C_ID_NIVEL_ADMON#34481, C_ID_TIPO_ENT_PUBLICA#34482, N_NIVEL_JERARQUICO#34483, C_ID_DEP_UD_SUPERIOR#34484, C_DNM_UD_ORGANICA_SUPERIOR#34485, C_ID_DEP_UD_PRINCIPAL#34486, C_DNM_UD_ORGANICA_PRINCIPAL#34487, B_SW_DEP_EDP_PRINCIPAL#34488, C_ID_DEP_EDP_PRINCIPAL#34489, C_DNM_UD_ORGANICA_EDP_PRINCIPAL#34490, C_ID_ESTADO#34491, D_VIG_ALTA_OFICIAL#34492, NIF_CIF#34493, C_ID_AMB_PROVINCIA#34494, C_DESC_PROV#34495, CONTACTOS#34496, C_DNM_UD_ORGANICA_Norm#34497, split(target_name#34477, \\s+, -1) AS aux#32170, source_names_stopwords#32145]\n                  :                                                                 +- Project [source_name#34476, target_name#34477, Entidad_Norm#34478, C_ID_UD_ORGANICA#34479, C_DNM_UD_ORGANICA#34480, C_ID_NIVEL_ADMON#34481, C_ID_TIPO_ENT_PUBLICA#34482, N_NIVEL_JERARQUICO#34483, C_ID_DEP_UD_SUPERIOR#34484, C_DNM_UD_ORGANICA_SUPERIOR#34485, C_ID_DEP_UD_PRINCIPAL#34486, C_DNM_UD_ORGANICA_PRINCIPAL#34487, B_SW_DEP_EDP_PRINCIPAL#34488, C_ID_DEP_EDP_PRINCIPAL#34489, C_DNM_UD_ORGANICA_EDP_PRINCIPAL#34490, C_ID_ESTADO#34491, D_VIG_ALTA_OFICIAL#34492, NIF_CIF#34493, C_ID_AMB_PROVINCIA#34494, C_DESC_PROV#34495, CONTACTOS#34496, C_DNM_UD_ORGANICA_Norm#34497, aux#32090, array_join(source_names_stopwords#32117,  , None) AS source_names_stopwords#32145]\n                  :                                                                    +- Project [source_name#34476, target_name#34477, Entidad_Norm#34478, C_ID_UD_ORGANICA#34479, C_DNM_UD_ORGANICA#34480, C_ID_NIVEL_ADMON#34481, C_ID_TIPO_ENT_PUBLICA#34482, N_NIVEL_JERARQUICO#34483, C_ID_DEP_UD_SUPERIOR#34484, C_DNM_UD_ORGANICA_SUPERIOR#34485, C_ID_DEP_UD_PRINCIPAL#34486, C_DNM_UD_ORGANICA_PRINCIPAL#34487, B_SW_DEP_EDP_PRINCIPAL#34488, C_ID_DEP_EDP_PRINCIPAL#34489, C_DNM_UD_ORGANICA_EDP_PRINCIPAL#34490, C_ID_ESTADO#34491, D_VIG_ALTA_OFICIAL#34492, NIF_CIF#34493, C_ID_AMB_PROVINCIA#34494, C_DESC_PROV#34495, CONTACTOS#34496, C_DNM_UD_ORGANICA_Norm#34497, aux#32090, UDF(aux#32090) AS source_names_stopwords#32117]\n                  :                                                                       +- Project [source_name#34476, target_name#34477, Entidad_Norm#34478, C_ID_UD_ORGANICA#34479, C_DNM_UD_ORGANICA#34480, C_ID_NIVEL_ADMON#34481, C_ID_TIPO_ENT_PUBLICA#34482, N_NIVEL_JERARQUICO#34483, C_ID_DEP_UD_SUPERIOR#34484, C_DNM_UD_ORGANICA_SUPERIOR#34485, C_ID_DEP_UD_PRINCIPAL#34486, C_DNM_UD_ORGANICA_PRINCIPAL#34487, B_SW_DEP_EDP_PRINCIPAL#34488, C_ID_DEP_EDP_PRINCIPAL#34489, C_DNM_UD_ORGANICA_EDP_PRINCIPAL#34490, C_ID_ESTADO#34491, D_VIG_ALTA_OFICIAL#34492, NIF_CIF#34493, C_ID_AMB_PROVINCIA#34494, C_DESC_PROV#34495, CONTACTOS#34496, C_DNM_UD_ORGANICA_Norm#34497, split(source_name#34476, \\s+, -1) AS aux#32090]\n                  :                                                                          +- LogicalRDD [source_name#34476, target_name#34477, Entidad_Norm#34478, C_ID_UD_ORGANICA#34479, C_DNM_UD_ORGANICA#34480, C_ID_NIVEL_ADMON#34481, C_ID_TIPO_ENT_PUBLICA#34482, N_NIVEL_JERARQUICO#34483, C_ID_DEP_UD_SUPERIOR#34484, C_DNM_UD_ORGANICA_SUPERIOR#34485, C_ID_DEP_UD_PRINCIPAL#34486, C_DNM_UD_ORGANICA_PRINCIPAL#34487, B_SW_DEP_EDP_PRINCIPAL#34488, C_ID_DEP_EDP_PRINCIPAL#34489, C_DNM_UD_ORGANICA_EDP_PRINCIPAL#34490, C_ID_ESTADO#34491, D_VIG_ALTA_OFICIAL#34492, NIF_CIF#34493, C_ID_AMB_PROVINCIA#34494, C_DESC_PROV#34495, CONTACTOS#34496, C_DNM_UD_ORGANICA_Norm#34497], false\n                  +- Project [Entidad_Norm#34500 AS Entidad_Norm#33810, N_NIVEL_JERARQUICO#34505 AS N_NIVEL_JERARQUICO#33811, source_name#34498 AS source_name#33812, target_name#34499 AS target_name#33813, C_ID_UD_ORGANICA#34501 AS C_ID_UD_ORGANICA#33814, C_DNM_UD_ORGANICA#34502 AS C_DNM_UD_ORGANICA#33815, C_ID_NIVEL_ADMON#34503 AS C_ID_NIVEL_ADMON#33816, C_ID_TIPO_ENT_PUBLICA#34504 AS C_ID_TIPO_ENT_PUBLICA#33817, C_ID_DEP_UD_SUPERIOR#34506 AS C_ID_DEP_UD_SUPERIOR#33818, C_DNM_UD_ORGANICA_SUPERIOR#34507 AS C_DNM_UD_ORGANICA_SUPERIOR#33819, C_ID_DEP_UD_PRINCIPAL#34508 AS C_ID_DEP_UD_PRINCIPAL#33820, C_DNM_UD_ORGANICA_PRINCIPAL#34509 AS C_DNM_UD_ORGANICA_PRINCIPAL#33821, B_SW_DEP_EDP_PRINCIPAL#34510 AS B_SW_DEP_EDP_PRINCIPAL#33822, C_ID_DEP_EDP_PRINCIPAL#34511 AS C_ID_DEP_EDP_PRINCIPAL#33823, C_DNM_UD_ORGANICA_EDP_PRINCIPAL#34512 AS C_DNM_UD_ORGANICA_EDP_PRINCIPAL#33824, C_ID_ESTADO#34513 AS C_ID_ESTADO#33825, D_VIG_ALTA_OFICIAL#34514 AS D_VIG_ALTA_OFICIAL#33826, NIF_CIF#34515 AS NIF_CIF#33827, C_ID_AMB_PROVINCIA#34516 AS C_ID_AMB_PROVINCIA#33828, C_DESC_PROV#34517 AS C_DESC_PROV#33829, CONTACTOS#34518 AS CONTACTOS#33830, C_DNM_UD_ORGANICA_Norm#34519 AS C_DNM_UD_ORGANICA_Norm#33831, source_names_stopwords#32145 AS source_names_stopwords#33832, target_names_stopwords#32227 AS target_names_stopwords#33833, final_score#32306 AS final_score#33834]\n                     +- Deduplicate [Entidad_Norm#34500]\n                        +- Sort [Similitud#33664 DESC NULLS LAST], true\n                           +- Project [Entidad_Norm#34500, N_NIVEL_JERARQUICO#34505, source_name#34498, target_name#34499, C_ID_UD_ORGANICA#34501, C_DNM_UD_ORGANICA#34502, C_ID_NIVEL_ADMON#34503, C_ID_TIPO_ENT_PUBLICA#34504, C_ID_DEP_UD_SUPERIOR#34506, C_DNM_UD_ORGANICA_SUPERIOR#34507, C_ID_DEP_UD_PRINCIPAL#34508, C_DNM_UD_ORGANICA_PRINCIPAL#34509, B_SW_DEP_EDP_PRINCIPAL#34510, C_ID_DEP_EDP_PRINCIPAL#34511, C_DNM_UD_ORGANICA_EDP_PRINCIPAL#34512, C_ID_ESTADO#34513, D_VIG_ALTA_OFICIAL#34514, NIF_CIF#34515, C_ID_AMB_PROVINCIA#34516, C_DESC_PROV#34517, CONTACTOS#34518, C_DNM_UD_ORGANICA_Norm#34519, source_names_stopwords#32145, target_names_stopwords#32227, ... 2 more fields]\n                              +- Project [Entidad_Norm#34500, N_NIVEL_JERARQUICO#34505, source_name#34498, target_name#34499, C_ID_UD_ORGANICA#34501, C_DNM_UD_ORGANICA#34502, C_ID_NIVEL_ADMON#34503, C_ID_TIPO_ENT_PUBLICA#34504, C_ID_DEP_UD_SUPERIOR#34506, C_DNM_UD_ORGANICA_SUPERIOR#34507, C_ID_DEP_UD_PRINCIPAL#34508, C_DNM_UD_ORGANICA_PRINCIPAL#34509, B_SW_DEP_EDP_PRINCIPAL#34510, C_ID_DEP_EDP_PRINCIPAL#34511, C_DNM_UD_ORGANICA_EDP_PRINCIPAL#34512, C_ID_ESTADO#34513, D_VIG_ALTA_OFICIAL#34514, NIF_CIF#34515, C_ID_AMB_PROVINCIA#34516, C_DESC_PROV#34517, CONTACTOS#34518, C_DNM_UD_ORGANICA_Norm#34519, source_names_stopwords#32145, target_names_stopwords#32227, final_score#32306]\n                                 +- Join LeftAnti, ((Entidad_Norm#34500 = Entidad_Norm#34522) AND (N_NIVEL_JERARQUICO#34505 = N_NIVEL_JERARQUICO#34527))\n                                    :- Deduplicate [Entidad_Norm#34500, C_DNM_UD_ORGANICA_Norm#34519]\n                                    :  +- Filter (cast(final_score#32306 as double) >= cast(0.875 as double))\n                                    :     +- Project [source_name#34498, target_name#34499, Entidad_Norm#34500, C_ID_UD_ORGANICA#34501, C_DNM_UD_ORGANICA#34502, C_ID_NIVEL_ADMON#34503, C_ID_TIPO_ENT_PUBLICA#34504, N_NIVEL_JERARQUICO#34505, C_ID_DEP_UD_SUPERIOR#34506, C_DNM_UD_ORGANICA_SUPERIOR#34507, C_ID_DEP_UD_PRINCIPAL#34508, C_DNM_UD_ORGANICA_PRINCIPAL#34509, B_SW_DEP_EDP_PRINCIPAL#34510, C_ID_DEP_EDP_PRINCIPAL#34511, C_DNM_UD_ORGANICA_EDP_PRINCIPAL#34512, C_ID_ESTADO#34513, D_VIG_ALTA_OFICIAL#34514, NIF_CIF#34515, C_ID_AMB_PROVINCIA#34516, C_DESC_PROV#34517, CONTACTOS#34518, C_DNM_UD_ORGANICA_Norm#34519, source_names_stopwords#32145, target_names_stopwords#32227, CASE WHEN NOT (source_names_stopwords#32145 = target_names_stopwords#32227) THEN final_score#32254 ELSE cast(1 as float) END AS final_score#32306]\n                                    :        +- Project [source_name#34498, target_name#34499, Entidad_Norm#34500, C_ID_UD_ORGANICA#34501, C_DNM_UD_ORGANICA#34502, C_ID_NIVEL_ADMON#34503, C_ID_TIPO_ENT_PUBLICA#34504, N_NIVEL_JERARQUICO#34505, C_ID_DEP_UD_SUPERIOR#34506, C_DNM_UD_ORGANICA_SUPERIOR#34507, C_ID_DEP_UD_PRINCIPAL#34508, C_DNM_UD_ORGANICA_PRINCIPAL#34509, B_SW_DEP_EDP_PRINCIPAL#34510, C_ID_DEP_EDP_PRINCIPAL#34511, C_DNM_UD_ORGANICA_EDP_PRINCIPAL#34512, C_ID_ESTADO#34513, D_VIG_ALTA_OFICIAL#34514, NIF_CIF#34515, C_ID_AMB_PROVINCIA#34516, C_DESC_PROV#34517, CONTACTOS#34518, C_DNM_UD_ORGANICA_Norm#34519, source_names_stopwords#32145, target_names_stopwords#32227, final_score#32254]\n                                    :           +- Project [source_name#34498, target_name#34499, Entidad_Norm#34500, C_ID_UD_ORGANICA#34501, C_DNM_UD_ORGANICA#34502, C_ID_NIVEL_ADMON#34503, C_ID_TIPO_ENT_PUBLICA#34504, N_NIVEL_JERARQUICO#34505, C_ID_DEP_UD_SUPERIOR#34506, C_DNM_UD_ORGANICA_SUPERIOR#34507, C_ID_DEP_UD_PRINCIPAL#34508, C_DNM_UD_ORGANICA_PRINCIPAL#34509, B_SW_DEP_EDP_PRINCIPAL#34510, C_ID_DEP_EDP_PRINCIPAL#34511, C_DNM_UD_ORGANICA_EDP_PRINCIPAL#34512, C_ID_ESTADO#34513, D_VIG_ALTA_OFICIAL#34514, NIF_CIF#34515, C_ID_AMB_PROVINCIA#34516, C_DESC_PROV#34517, CONTACTOS#34518, C_DNM_UD_ORGANICA_Norm#34519, aux#32170, source_names_stopwords#32145, ... 2 more fields]\n                                    :              +- Project [source_name#34498, target_name#34499, Entidad_Norm#34500, C_ID_UD_ORGANICA#34501, C_DNM_UD_ORGANICA#34502, C_ID_NIVEL_ADMON#34503, C_ID_TIPO_ENT_PUBLICA#34504, N_NIVEL_JERARQUICO#34505, C_ID_DEP_UD_SUPERIOR#34506, C_DNM_UD_ORGANICA_SUPERIOR#34507, C_ID_DEP_UD_PRINCIPAL#34508, C_DNM_UD_ORGANICA_PRINCIPAL#34509, B_SW_DEP_EDP_PRINCIPAL#34510, C_ID_DEP_EDP_PRINCIPAL#34511, C_DNM_UD_ORGANICA_EDP_PRINCIPAL#34512, C_ID_ESTADO#34513, D_VIG_ALTA_OFICIAL#34514, NIF_CIF#34515, C_ID_AMB_PROVINCIA#34516, C_DESC_PROV#34517, CONTACTOS#34518, C_DNM_UD_ORGANICA_Norm#34519, aux#32170, source_names_stopwords#32145, array_join(target_names_stopwords#32198,  , None) AS target_names_stopwords#32227]\n                                    :                 +- Project [source_name#34498, target_name#34499, Entidad_Norm#34500, C_ID_UD_ORGANICA#34501, C_DNM_UD_ORGANICA#34502, C_ID_NIVEL_ADMON#34503, C_ID_TIPO_ENT_PUBLICA#34504, N_NIVEL_JERARQUICO#34505, C_ID_DEP_UD_SUPERIOR#34506, C_DNM_UD_ORGANICA_SUPERIOR#34507, C_ID_DEP_UD_PRINCIPAL#34508, C_DNM_UD_ORGANICA_PRINCIPAL#34509, B_SW_DEP_EDP_PRINCIPAL#34510, C_ID_DEP_EDP_PRINCIPAL#34511, C_DNM_UD_ORGANICA_EDP_PRINCIPAL#34512, C_ID_ESTADO#34513, D_VIG_ALTA_OFICIAL#34514, NIF_CIF#34515, C_ID_AMB_PROVINCIA#34516, C_DESC_PROV#34517, CONTACTOS#34518, C_DNM_UD_ORGANICA_Norm#34519, aux#32170, source_names_stopwords#32145, UDF(aux#32170) AS target_names_stopwords#32198]\n                                    :                    +- Project [source_name#34498, target_name#34499, Entidad_Norm#34500, C_ID_UD_ORGANICA#34501, C_DNM_UD_ORGANICA#34502, C_ID_NIVEL_ADMON#34503, C_ID_TIPO_ENT_PUBLICA#34504, N_NIVEL_JERARQUICO#34505, C_ID_DEP_UD_SUPERIOR#34506, C_DNM_UD_ORGANICA_SUPERIOR#34507, C_ID_DEP_UD_PRINCIPAL#34508, C_DNM_UD_ORGANICA_PRINCIPAL#34509, B_SW_DEP_EDP_PRINCIPAL#34510, C_ID_DEP_EDP_PRINCIPAL#34511, C_DNM_UD_ORGANICA_EDP_PRINCIPAL#34512, C_ID_ESTADO#34513, D_VIG_ALTA_OFICIAL#34514, NIF_CIF#34515, C_ID_AMB_PROVINCIA#34516, C_DESC_PROV#34517, CONTACTOS#34518, C_DNM_UD_ORGANICA_Norm#34519, split(target_name#34499, \\s+, -1) AS aux#32170, source_names_stopwords#32145]\n                                    :                       +- Project [source_name#34498, target_name#34499, Entidad_Norm#34500, C_ID_UD_ORGANICA#34501, C_DNM_UD_ORGANICA#34502, C_ID_NIVEL_ADMON#34503, C_ID_TIPO_ENT_PUBLICA#34504, N_NIVEL_JERARQUICO#34505, C_ID_DEP_UD_SUPERIOR#34506, C_DNM_UD_ORGANICA_SUPERIOR#34507, C_ID_DEP_UD_PRINCIPAL#34508, C_DNM_UD_ORGANICA_PRINCIPAL#34509, B_SW_DEP_EDP_PRINCIPAL#34510, C_ID_DEP_EDP_PRINCIPAL#34511, C_DNM_UD_ORGANICA_EDP_PRINCIPAL#34512, C_ID_ESTADO#34513, D_VIG_ALTA_OFICIAL#34514, NIF_CIF#34515, C_ID_AMB_PROVINCIA#34516, C_DESC_PROV#34517, CONTACTOS#34518, C_DNM_UD_ORGANICA_Norm#34519, aux#32090, array_join(source_names_stopwords#32117,  , None) AS source_names_stopwords#32145]\n                                    :                          +- Project [source_name#34498, target_name#34499, Entidad_Norm#34500, C_ID_UD_ORGANICA#34501, C_DNM_UD_ORGANICA#34502, C_ID_NIVEL_ADMON#34503, C_ID_TIPO_ENT_PUBLICA#34504, N_NIVEL_JERARQUICO#34505, C_ID_DEP_UD_SUPERIOR#34506, C_DNM_UD_ORGANICA_SUPERIOR#34507, C_ID_DEP_UD_PRINCIPAL#34508, C_DNM_UD_ORGANICA_PRINCIPAL#34509, B_SW_DEP_EDP_PRINCIPAL#34510, C_ID_DEP_EDP_PRINCIPAL#34511, C_DNM_UD_ORGANICA_EDP_PRINCIPAL#34512, C_ID_ESTADO#34513, D_VIG_ALTA_OFICIAL#34514, NIF_CIF#34515, C_ID_AMB_PROVINCIA#34516, C_DESC_PROV#34517, CONTACTOS#34518, C_DNM_UD_ORGANICA_Norm#34519, aux#32090, UDF(aux#32090) AS source_names_stopwords#32117]\n                                    :                             +- Project [source_name#34498, target_name#34499, Entidad_Norm#34500, C_ID_UD_ORGANICA#34501, C_DNM_UD_ORGANICA#34502, C_ID_NIVEL_ADMON#34503, C_ID_TIPO_ENT_PUBLICA#34504, N_NIVEL_JERARQUICO#34505, C_ID_DEP_UD_SUPERIOR#34506, C_DNM_UD_ORGANICA_SUPERIOR#34507, C_ID_DEP_UD_PRINCIPAL#34508, C_DNM_UD_ORGANICA_PRINCIPAL#34509, B_SW_DEP_EDP_PRINCIPAL#34510, C_ID_DEP_EDP_PRINCIPAL#34511, C_DNM_UD_ORGANICA_EDP_PRINCIPAL#34512, C_ID_ESTADO#34513, D_VIG_ALTA_OFICIAL#34514, NIF_CIF#34515, C_ID_AMB_PROVINCIA#34516, C_DESC_PROV#34517, CONTACTOS#34518, C_DNM_UD_ORGANICA_Norm#34519, split(source_name#34498, \\s+, -1) AS aux#32090]\n                                    :                                +- LogicalRDD [source_name#34498, target_name#34499, Entidad_Norm#34500, C_ID_UD_ORGANICA#34501, C_DNM_UD_ORGANICA#34502, C_ID_NIVEL_ADMON#34503, C_ID_TIPO_ENT_PUBLICA#34504, N_NIVEL_JERARQUICO#34505, C_ID_DEP_UD_SUPERIOR#34506, C_DNM_UD_ORGANICA_SUPERIOR#34507, C_ID_DEP_UD_PRINCIPAL#34508, C_DNM_UD_ORGANICA_PRINCIPAL#34509, B_SW_DEP_EDP_PRINCIPAL#34510, C_ID_DEP_EDP_PRINCIPAL#34511, C_DNM_UD_ORGANICA_EDP_PRINCIPAL#34512, C_ID_ESTADO#34513, D_VIG_ALTA_OFICIAL#34514, NIF_CIF#34515, C_ID_AMB_PROVINCIA#34516, C_DESC_PROV#34517, CONTACTOS#34518, C_DNM_UD_ORGANICA_Norm#34519], false\n                                    +- Project [Entidad_Norm#34522, N_NIVEL_JERARQUICO#34527]\n                                       +- Filter (count#33609L = cast(1 as bigint))\n                                          +- Aggregate [Entidad_Norm#34522, N_NIVEL_JERARQUICO#34527], [Entidad_Norm#34522, N_NIVEL_JERARQUICO#34527, count(1) AS count#33609L]\n                                             +- Deduplicate [Entidad_Norm#34522, C_DNM_UD_ORGANICA_Norm#34541]\n                                                +- Filter (cast(final_score#32306 as double) >= cast(0.875 as double))\n                                                   +- Project [source_name#34520, target_name#34521, Entidad_Norm#34522, C_ID_UD_ORGANICA#34523, C_DNM_UD_ORGANICA#34524, C_ID_NIVEL_ADMON#34525, C_ID_TIPO_ENT_PUBLICA#34526, N_NIVEL_JERARQUICO#34527, C_ID_DEP_UD_SUPERIOR#34528, C_DNM_UD_ORGANICA_SUPERIOR#34529, C_ID_DEP_UD_PRINCIPAL#34530, C_DNM_UD_ORGANICA_PRINCIPAL#34531, B_SW_DEP_EDP_PRINCIPAL#34532, C_ID_DEP_EDP_PRINCIPAL#34533, C_DNM_UD_ORGANICA_EDP_PRINCIPAL#34534, C_ID_ESTADO#34535, D_VIG_ALTA_OFICIAL#34536, NIF_CIF#34537, C_ID_AMB_PROVINCIA#34538, C_DESC_PROV#34539, CONTACTOS#34540, C_DNM_UD_ORGANICA_Norm#34541, source_names_stopwords#32145, target_names_stopwords#32227, CASE WHEN NOT (source_names_stopwords#32145 = target_names_stopwords#32227) THEN final_score#32254 ELSE cast(1 as float) END AS final_score#32306]\n                                                      +- Project [source_name#34520, target_name#34521, Entidad_Norm#34522, C_ID_UD_ORGANICA#34523, C_DNM_UD_ORGANICA#34524, C_ID_NIVEL_ADMON#34525, C_ID_TIPO_ENT_PUBLICA#34526, N_NIVEL_JERARQUICO#34527, C_ID_DEP_UD_SUPERIOR#34528, C_DNM_UD_ORGANICA_SUPERIOR#34529, C_ID_DEP_UD_PRINCIPAL#34530, C_DNM_UD_ORGANICA_PRINCIPAL#34531, B_SW_DEP_EDP_PRINCIPAL#34532, C_ID_DEP_EDP_PRINCIPAL#34533, C_DNM_UD_ORGANICA_EDP_PRINCIPAL#34534, C_ID_ESTADO#34535, D_VIG_ALTA_OFICIAL#34536, NIF_CIF#34537, C_ID_AMB_PROVINCIA#34538, C_DESC_PROV#34539, CONTACTOS#34540, C_DNM_UD_ORGANICA_Norm#34541, source_names_stopwords#32145, target_names_stopwords#32227, final_score#32254]\n                                                         +- Project [source_name#34520, target_name#34521, Entidad_Norm#34522, C_ID_UD_ORGANICA#34523, C_DNM_UD_ORGANICA#34524, C_ID_NIVEL_ADMON#34525, C_ID_TIPO_ENT_PUBLICA#34526, N_NIVEL_JERARQUICO#34527, C_ID_DEP_UD_SUPERIOR#34528, C_DNM_UD_ORGANICA_SUPERIOR#34529, C_ID_DEP_UD_PRINCIPAL#34530, C_DNM_UD_ORGANICA_PRINCIPAL#34531, B_SW_DEP_EDP_PRINCIPAL#34532, C_ID_DEP_EDP_PRINCIPAL#34533, C_DNM_UD_ORGANICA_EDP_PRINCIPAL#34534, C_ID_ESTADO#34535, D_VIG_ALTA_OFICIAL#34536, NIF_CIF#34537, C_ID_AMB_PROVINCIA#34538, C_DESC_PROV#34539, CONTACTOS#34540, C_DNM_UD_ORGANICA_Norm#34541, aux#32170, source_names_stopwords#32145, ... 2 more fields]\n                                                            +- Project [source_name#34520, target_name#34521, Entidad_Norm#34522, C_ID_UD_ORGANICA#34523, C_DNM_UD_ORGANICA#34524, C_ID_NIVEL_ADMON#34525, C_ID_TIPO_ENT_PUBLICA#34526, N_NIVEL_JERARQUICO#34527, C_ID_DEP_UD_SUPERIOR#34528, C_DNM_UD_ORGANICA_SUPERIOR#34529, C_ID_DEP_UD_PRINCIPAL#34530, C_DNM_UD_ORGANICA_PRINCIPAL#34531, B_SW_DEP_EDP_PRINCIPAL#34532, C_ID_DEP_EDP_PRINCIPAL#34533, C_DNM_UD_ORGANICA_EDP_PRINCIPAL#34534, C_ID_ESTADO#34535, D_VIG_ALTA_OFICIAL#34536, NIF_CIF#34537, C_ID_AMB_PROVINCIA#34538, C_DESC_PROV#34539, CONTACTOS#34540, C_DNM_UD_ORGANICA_Norm#34541, aux#32170, source_names_stopwords#32145, array_join(target_names_stopwords#32198,  , None) AS target_names_stopwords#32227]\n                                                               +- Project [source_name#34520, target_name#34521, Entidad_Norm#34522, C_ID_UD_ORGANICA#34523, C_DNM_UD_ORGANICA#34524, C_ID_NIVEL_ADMON#34525, C_ID_TIPO_ENT_PUBLICA#34526, N_NIVEL_JERARQUICO#34527, C_ID_DEP_UD_SUPERIOR#34528, C_DNM_UD_ORGANICA_SUPERIOR#34529, C_ID_DEP_UD_PRINCIPAL#34530, C_DNM_UD_ORGANICA_PRINCIPAL#34531, B_SW_DEP_EDP_PRINCIPAL#34532, C_ID_DEP_EDP_PRINCIPAL#34533, C_DNM_UD_ORGANICA_EDP_PRINCIPAL#34534, C_ID_ESTADO#34535, D_VIG_ALTA_OFICIAL#34536, NIF_CIF#34537, C_ID_AMB_PROVINCIA#34538, C_DESC_PROV#34539, CONTACTOS#34540, C_DNM_UD_ORGANICA_Norm#34541, aux#32170, source_names_stopwords#32145, UDF(aux#32170) AS target_names_stopwords#32198]\n                                                                  +- Project [source_name#34520, target_name#34521, Entidad_Norm#34522, C_ID_UD_ORGANICA#34523, C_DNM_UD_ORGANICA#34524, C_ID_NIVEL_ADMON#34525, C_ID_TIPO_ENT_PUBLICA#34526, N_NIVEL_JERARQUICO#34527, C_ID_DEP_UD_SUPERIOR#34528, C_DNM_UD_ORGANICA_SUPERIOR#34529, C_ID_DEP_UD_PRINCIPAL#34530, C_DNM_UD_ORGANICA_PRINCIPAL#34531, B_SW_DEP_EDP_PRINCIPAL#34532, C_ID_DEP_EDP_PRINCIPAL#34533, C_DNM_UD_ORGANICA_EDP_PRINCIPAL#34534, C_ID_ESTADO#34535, D_VIG_ALTA_OFICIAL#34536, NIF_CIF#34537, C_ID_AMB_PROVINCIA#34538, C_DESC_PROV#34539, CONTACTOS#34540, C_DNM_UD_ORGANICA_Norm#34541, split(target_name#34521, \\s+, -1) AS aux#32170, source_names_stopwords#32145]\n                                                                     +- Project [source_name#34520, target_name#34521, Entidad_Norm#34522, C_ID_UD_ORGANICA#34523, C_DNM_UD_ORGANICA#34524, C_ID_NIVEL_ADMON#34525, C_ID_TIPO_ENT_PUBLICA#34526, N_NIVEL_JERARQUICO#34527, C_ID_DEP_UD_SUPERIOR#34528, C_DNM_UD_ORGANICA_SUPERIOR#34529, C_ID_DEP_UD_PRINCIPAL#34530, C_DNM_UD_ORGANICA_PRINCIPAL#34531, B_SW_DEP_EDP_PRINCIPAL#34532, C_ID_DEP_EDP_PRINCIPAL#34533, C_DNM_UD_ORGANICA_EDP_PRINCIPAL#34534, C_ID_ESTADO#34535, D_VIG_ALTA_OFICIAL#34536, NIF_CIF#34537, C_ID_AMB_PROVINCIA#34538, C_DESC_PROV#34539, CONTACTOS#34540, C_DNM_UD_ORGANICA_Norm#34541, aux#32090, array_join(source_names_stopwords#32117,  , None) AS source_names_stopwords#32145]\n                                                                        +- Project [source_name#34520, target_name#34521, Entidad_Norm#34522, C_ID_UD_ORGANICA#34523, C_DNM_UD_ORGANICA#34524, C_ID_NIVEL_ADMON#34525, C_ID_TIPO_ENT_PUBLICA#34526, N_NIVEL_JERARQUICO#34527, C_ID_DEP_UD_SUPERIOR#34528, C_DNM_UD_ORGANICA_SUPERIOR#34529, C_ID_DEP_UD_PRINCIPAL#34530, C_DNM_UD_ORGANICA_PRINCIPAL#34531, B_SW_DEP_EDP_PRINCIPAL#34532, C_ID_DEP_EDP_PRINCIPAL#34533, C_DNM_UD_ORGANICA_EDP_PRINCIPAL#34534, C_ID_ESTADO#34535, D_VIG_ALTA_OFICIAL#34536, NIF_CIF#34537, C_ID_AMB_PROVINCIA#34538, C_DESC_PROV#34539, CONTACTOS#34540, C_DNM_UD_ORGANICA_Norm#34541, aux#32090, UDF(aux#32090) AS source_names_stopwords#32117]\n                                                                           +- Project [source_name#34520, target_name#34521, Entidad_Norm#34522, C_ID_UD_ORGANICA#34523, C_DNM_UD_ORGANICA#34524, C_ID_NIVEL_ADMON#34525, C_ID_TIPO_ENT_PUBLICA#34526, N_NIVEL_JERARQUICO#34527, C_ID_DEP_UD_SUPERIOR#34528, C_DNM_UD_ORGANICA_SUPERIOR#34529, C_ID_DEP_UD_PRINCIPAL#34530, C_DNM_UD_ORGANICA_PRINCIPAL#34531, B_SW_DEP_EDP_PRINCIPAL#34532, C_ID_DEP_EDP_PRINCIPAL#34533, C_DNM_UD_ORGANICA_EDP_PRINCIPAL#34534, C_ID_ESTADO#34535, D_VIG_ALTA_OFICIAL#34536, NIF_CIF#34537, C_ID_AMB_PROVINCIA#34538, C_DESC_PROV#34539, CONTACTOS#34540, C_DNM_UD_ORGANICA_Norm#34541, split(source_name#34520, \\s+, -1) AS aux#32090]\n                                                                              +- LogicalRDD [source_name#34520, target_name#34521, Entidad_Norm#34522, C_ID_UD_ORGANICA#34523, C_DNM_UD_ORGANICA#34524, C_ID_NIVEL_ADMON#34525, C_ID_TIPO_ENT_PUBLICA#34526, N_NIVEL_JERARQUICO#34527, C_ID_DEP_UD_SUPERIOR#34528, C_DNM_UD_ORGANICA_SUPERIOR#34529, C_ID_DEP_UD_PRINCIPAL#34530, C_DNM_UD_ORGANICA_PRINCIPAL#34531, B_SW_DEP_EDP_PRINCIPAL#34532, C_ID_DEP_EDP_PRINCIPAL#34533, C_DNM_UD_ORGANICA_EDP_PRINCIPAL#34534, C_ID_ESTADO#34535, D_VIG_ALTA_OFICIAL#34536, NIF_CIF#34537, C_ID_AMB_PROVINCIA#34538, C_DESC_PROV#34539, CONTACTOS#34540, C_DNM_UD_ORGANICA_Norm#34541], false\n",
     "output_type": "error",
     "traceback": [
      "\u001b[0;31m---------------------------------------------------------------------------\u001b[0m",
      "\u001b[0;31mAnalysisException\u001b[0m                         Traceback (most recent call last)",
      "\u001b[0;32m/var/folders/fy/cjds5kvd3692g8__1nlvytj00000gn/T/ipykernel_70655/4004058575.py\u001b[0m in \u001b[0;36m<module>\u001b[0;34m\u001b[0m\n\u001b[0;32m----> 1\u001b[0;31m \u001b[0mNombre_Intermedio_proceso_dir3_entidades\u001b[0m \u001b[0;34m=\u001b[0m \u001b[0mNombre_Intermedio_proceso_dir3_entidades1\u001b[0m\u001b[0;31m\\\u001b[0m\u001b[0;34m\u001b[0m\u001b[0;34m\u001b[0m\u001b[0m\n\u001b[0m\u001b[1;32m      2\u001b[0m                                                         \u001b[0;34m.\u001b[0m\u001b[0munion\u001b[0m\u001b[0;34m(\u001b[0m\u001b[0mNombre_Intermedio_proceso_dir3_entidades2\u001b[0m\u001b[0;34m)\u001b[0m\u001b[0;34m\u001b[0m\u001b[0;34m\u001b[0m\u001b[0m\n\u001b[1;32m      3\u001b[0m \u001b[0;34m\u001b[0m\u001b[0m\n\u001b[1;32m      4\u001b[0m \u001b[0;34m\u001b[0m\u001b[0m\n",
      "\u001b[0;32m~/opt/anaconda3/lib/python3.9/site-packages/pyspark/sql/dataframe.py\u001b[0m in \u001b[0;36munion\u001b[0;34m(self, other)\u001b[0m\n\u001b[1;32m   2255\u001b[0m         \u001b[0mAlso\u001b[0m \u001b[0;32mas\u001b[0m \u001b[0mstandard\u001b[0m \u001b[0;32min\u001b[0m \u001b[0mSQL\u001b[0m\u001b[0;34m,\u001b[0m \u001b[0mthis\u001b[0m \u001b[0mfunction\u001b[0m \u001b[0mresolves\u001b[0m \u001b[0mcolumns\u001b[0m \u001b[0mby\u001b[0m \u001b[0mposition\u001b[0m \u001b[0;34m(\u001b[0m\u001b[0;32mnot\u001b[0m \u001b[0mby\u001b[0m \u001b[0mname\u001b[0m\u001b[0;34m)\u001b[0m\u001b[0;34m.\u001b[0m\u001b[0;34m\u001b[0m\u001b[0;34m\u001b[0m\u001b[0m\n\u001b[1;32m   2256\u001b[0m         \"\"\"\n\u001b[0;32m-> 2257\u001b[0;31m         \u001b[0;32mreturn\u001b[0m \u001b[0mDataFrame\u001b[0m\u001b[0;34m(\u001b[0m\u001b[0mself\u001b[0m\u001b[0;34m.\u001b[0m\u001b[0m_jdf\u001b[0m\u001b[0;34m.\u001b[0m\u001b[0munion\u001b[0m\u001b[0;34m(\u001b[0m\u001b[0mother\u001b[0m\u001b[0;34m.\u001b[0m\u001b[0m_jdf\u001b[0m\u001b[0;34m)\u001b[0m\u001b[0;34m,\u001b[0m \u001b[0mself\u001b[0m\u001b[0;34m.\u001b[0m\u001b[0msparkSession\u001b[0m\u001b[0;34m)\u001b[0m\u001b[0;34m\u001b[0m\u001b[0;34m\u001b[0m\u001b[0m\n\u001b[0m\u001b[1;32m   2258\u001b[0m \u001b[0;34m\u001b[0m\u001b[0m\n\u001b[1;32m   2259\u001b[0m     \u001b[0;34m@\u001b[0m\u001b[0msince\u001b[0m\u001b[0;34m(\u001b[0m\u001b[0;36m1.3\u001b[0m\u001b[0;34m)\u001b[0m\u001b[0;34m\u001b[0m\u001b[0;34m\u001b[0m\u001b[0m\n",
      "\u001b[0;32m~/opt/anaconda3/lib/python3.9/site-packages/py4j/java_gateway.py\u001b[0m in \u001b[0;36m__call__\u001b[0;34m(self, *args)\u001b[0m\n\u001b[1;32m   1319\u001b[0m \u001b[0;34m\u001b[0m\u001b[0m\n\u001b[1;32m   1320\u001b[0m         \u001b[0manswer\u001b[0m \u001b[0;34m=\u001b[0m \u001b[0mself\u001b[0m\u001b[0;34m.\u001b[0m\u001b[0mgateway_client\u001b[0m\u001b[0;34m.\u001b[0m\u001b[0msend_command\u001b[0m\u001b[0;34m(\u001b[0m\u001b[0mcommand\u001b[0m\u001b[0;34m)\u001b[0m\u001b[0;34m\u001b[0m\u001b[0;34m\u001b[0m\u001b[0m\n\u001b[0;32m-> 1321\u001b[0;31m         return_value = get_return_value(\n\u001b[0m\u001b[1;32m   1322\u001b[0m             answer, self.gateway_client, self.target_id, self.name)\n\u001b[1;32m   1323\u001b[0m \u001b[0;34m\u001b[0m\u001b[0m\n",
      "\u001b[0;32m~/opt/anaconda3/lib/python3.9/site-packages/pyspark/sql/utils.py\u001b[0m in \u001b[0;36mdeco\u001b[0;34m(*a, **kw)\u001b[0m\n\u001b[1;32m    194\u001b[0m                 \u001b[0;31m# Hide where the exception came from that shows a non-Pythonic\u001b[0m\u001b[0;34m\u001b[0m\u001b[0;34m\u001b[0m\u001b[0m\n\u001b[1;32m    195\u001b[0m                 \u001b[0;31m# JVM exception message.\u001b[0m\u001b[0;34m\u001b[0m\u001b[0;34m\u001b[0m\u001b[0m\n\u001b[0;32m--> 196\u001b[0;31m                 \u001b[0;32mraise\u001b[0m \u001b[0mconverted\u001b[0m \u001b[0;32mfrom\u001b[0m \u001b[0;32mNone\u001b[0m\u001b[0;34m\u001b[0m\u001b[0;34m\u001b[0m\u001b[0m\n\u001b[0m\u001b[1;32m    197\u001b[0m             \u001b[0;32melse\u001b[0m\u001b[0;34m:\u001b[0m\u001b[0;34m\u001b[0m\u001b[0;34m\u001b[0m\u001b[0m\n\u001b[1;32m    198\u001b[0m                 \u001b[0;32mraise\u001b[0m\u001b[0;34m\u001b[0m\u001b[0;34m\u001b[0m\u001b[0m\n",
      "\u001b[0;31mAnalysisException\u001b[0m: Union can only be performed on tables with the same number of columns, but the first table has 52 columns and the second table has 55 columns;\n'Union false, false\n:- Project [Id#10956, CIF#14393, Provincia_Entidad#14341, ID_ENTIDAD#7148, NIF_COD#7206, ACRONIMO#7265, NOMBRE_ENTIDAD#7325, Nombre_Entidad_Mostrar#7386, TIPO_ENTIDAD_N1_1#7448, TIPO_ENTIDAD_N2_1#7511, DIRECCION_POSTAL#7575, COD_POSTAL#7640, COD_PROVINCIA#7706, PROVINCIA#7773, COD_CCAA#7841, CCAA#7910, ENLACE_WEB#7980, SOMMA#8051, TIPO_ENTIDAD_REGIONAL#8123, ESTADO_x#8196, CodigoInvente#13918, DenominacionSocial#13915, FormaJuridica_Codigo#13919, FormaJuridica_Descripcion#13920, ... 28 more fields]\n:  +- Filter isnotnull(final_score#32306)\n:     +- Join LeftOuter, (Entidad_Norm#14290 = Entidad_Norm#32048)\n:        :- Project [Id#10956, CIF#14393, Entidad_Norm#14290, Provincia_Entidad#14341, ID_ENTIDAD#7148, NIF_COD#7206, ACRONIMO#7265, NOMBRE_ENTIDAD#7325, Nombre_Entidad_Mostrar#7386, TIPO_ENTIDAD_N1_1#7448, TIPO_ENTIDAD_N2_1#7511, DIRECCION_POSTAL#7575, COD_POSTAL#7640, COD_PROVINCIA#7706, PROVINCIA#7773, COD_CCAA#7841, CCAA#7910, ENLACE_WEB#7980, SOMMA#8051, TIPO_ENTIDAD_REGIONAL#8123, ESTADO_x#8196, CodigoInvente#13918, DenominacionSocial#13915, FormaJuridica_Codigo#13919, ... 9 more fields]\n:        :  +- Union false, false\n:        :     :- Project [Id#10956, NIF#13917 AS CIF#14393, DenominacionSocial_Norm#13923 AS Entidad_Norm#14290, Provincia_Codigo#13916 AS Provincia_Entidad#14341, ID_ENTIDAD#7148, NIF_COD#7206, ACRONIMO#7265, NOMBRE_ENTIDAD#7325, Nombre_Entidad_Mostrar#7386, TIPO_ENTIDAD_N1_1#7448, TIPO_ENTIDAD_N2_1#7511, DIRECCION_POSTAL#7575, COD_POSTAL#7640, COD_PROVINCIA#7706, PROVINCIA#7773, COD_CCAA#7841, CCAA#7910, ENLACE_WEB#7980, SOMMA#8051, TIPO_ENTIDAD_REGIONAL#8123, ESTADO_x#8196, CodigoInvente#13918, DenominacionSocial#13915, FormaJuridica_Codigo#13919, ... 27 more fields]\n:        :     :  +- Filter isnotnull(final_score#14072)\n:        :     :     +- Join LeftOuter, (Entidad_Norm#7034 = Entidad_Norm#13914)\n:        :     :        :- Project [Id#10956, Entidad_Norm#7034, ID_ENTIDAD#7148, NIF_COD#7206, ACRONIMO#7265, NOMBRE_ENTIDAD#7325, Nombre_Entidad_Mostrar#7386, TIPO_ENTIDAD_N1_1#7448, TIPO_ENTIDAD_N2_1#7511, DIRECCION_POSTAL#7575, COD_POSTAL#7640, COD_PROVINCIA#7706, PROVINCIA#7773, COD_CCAA#7841, CCAA#7910, ENLACE_WEB#7980, SOMMA#8051, TIPO_ENTIDAD_REGIONAL#8123, ESTADO_x#8196, C_ID_UD_ORGANICA#8898, C_DNM_UD_ORGANICA#8981, C_ID_NIVEL_ADMON#9065, C_ID_TIPO_ENT_PUBLICA#9150, N_NIVEL_JERARQUICO#9236, ... 16 more fields]\n:        :     :        :  +- Project [Id#10956, CIF#6977, Entidad_Norm#7034, Provincia_Entidad#7091, ID_ENTIDAD#7148, NIF_COD#7206, ACRONIMO#7265, NOMBRE_ENTIDAD#7325, Nombre_Entidad_Mostrar#7386, TIPO_ENTIDAD_N1_1#7448, TIPO_ENTIDAD_N2_1#7511, DIRECCION_POSTAL#7575, COD_POSTAL#7640, COD_PROVINCIA#7706, PROVINCIA#7773, COD_CCAA#7841, CCAA#7910, ENLACE_WEB#7980, SOMMA#8051, TIPO_ENTIDAD_REGIONAL#8123, ESTADO_x#8196, CodigoInvente#8270, DenominacionSocial#8345, FormaJuridica_Codigo#8421, ... 26 more fields]\n:        :     :        :     +- Project [IdOld#10851, Entidad#6717, Origen_Solicitud#6718, Identificadores_Origen#6719, Entidad_Norm#7034, CIF#6977, CIF_validacion#6722, Centro#6723, Centro_Norm#6724, Tipo#6725, Provincia_Entidad#7091, Pais_Entidad#6727, Provincia_Centro#6728, PIC#6729, Tipo_Persona#6730, Entidad_Match#6731, Provincia_Match#6732, Match#6733, Id_NIVEL_1#6625, Id_NIVEL_0#6626, ID_ENTIDAD_NIVEL_0#6627, ID_ENTIDAD_NIVEL_1#6628, Jerarquia#6629, NIF_COD_NIVEL_0#6630, ... 79 more fields]\n:        :     :        :        +- Project [coalesce(Dummy#11070, Dummy#10962) AS Dummy#11174, IdOld#10851, Entidad#6717, Origen_Solicitud#6718, Identificadores_Origen#6719, Entidad_Norm#7034, CIF#6977, CIF_validacion#6722, Centro#6723, Centro_Norm#6724, Tipo#6725, Provincia_Entidad#7091, Pais_Entidad#6727, Provincia_Centro#6728, PIC#6729, Tipo_Persona#6730, Entidad_Match#6731, Provincia_Match#6732, Match#6733, Id_NIVEL_1#6625, Id_NIVEL_0#6626, ID_ENTIDAD_NIVEL_0#6627, ID_ENTIDAD_NIVEL_1#6628, Jerarquia#6629, ... 80 more fields]\n:        :     :        :           +- Join FullOuter, (Dummy#11070 = Dummy#10962)\n:        :     :        :              :- Project [IdOld#10851, Entidad#6717, Origen_Solicitud#6718, Identificadores_Origen#6719, Entidad_Norm#7034, CIF#6977, CIF_validacion#6722, Centro#6723, Centro_Norm#6724, Tipo#6725, Provincia_Entidad#7091, Pais_Entidad#6727, Provincia_Centro#6728, PIC#6729, Tipo_Persona#6730, Entidad_Match#6731, Provincia_Match#6732, Match#6733, Id_NIVEL_1#6625, Id_NIVEL_0#6626, ID_ENTIDAD_NIVEL_0#6627, ID_ENTIDAD_NIVEL_1#6628, Jerarquia#6629, NIF_COD_NIVEL_0#6630, ... 79 more fields]\n:        :     :        :              :  +- Project [IdOld#10851, Entidad#6717, Origen_Solicitud#6718, Identificadores_Origen#6719, Entidad_Norm#7034, CIF#6977, CIF_validacion#6722, Centro#6723, Centro_Norm#6724, Tipo#6725, Provincia_Entidad#7091, Pais_Entidad#6727, Provincia_Centro#6728, PIC#6729, Tipo_Persona#6730, Entidad_Match#6731, Provincia_Match#6732, Match#6733, Id_NIVEL_1#6625, Id_NIVEL_0#6626, ID_ENTIDAD_NIVEL_0#6627, ID_ENTIDAD_NIVEL_1#6628, Jerarquia#6629, NIF_COD_NIVEL_0#6630, ... 81 more fields]\n:        :     :        :              :     +- Window [row_number() windowspecdefinition(Dummy#10965L ASC NULLS FIRST, specifiedwindowframe(RowFrame, unboundedpreceding$(), currentrow$())) AS Dummy#11070], [Dummy#10965L ASC NULLS FIRST]\n:        :     :        :              :        +- Project [IdOld#10851, Entidad#6717, Origen_Solicitud#6718, Identificadores_Origen#6719, Entidad_Norm#7034, CIF#6977, CIF_validacion#6722, Centro#6723, Centro_Norm#6724, Tipo#6725, Provincia_Entidad#7091, Pais_Entidad#6727, Provincia_Centro#6728, PIC#6729, Tipo_Persona#6730, Entidad_Match#6731, Provincia_Match#6732, Match#6733, Id_NIVEL_1#6625, Id_NIVEL_0#6626, ID_ENTIDAD_NIVEL_0#6627, ID_ENTIDAD_NIVEL_1#6628, Jerarquia#6629, NIF_COD_NIVEL_0#6630, ... 79 more fields]\n:        :     :        :              :           +- Project [IdOld#10851, Entidad#6717, Origen_Solicitud#6718, Identificadores_Origen#6719, Entidad_Norm#7034, CIF#6977, CIF_validacion#6722, Centro#6723, Centro_Norm#6724, Tipo#6725, Provincia_Entidad#7091, Pais_Entidad#6727, Provincia_Centro#6728, PIC#6729, Tipo_Persona#6730, Entidad_Match#6731, Provincia_Match#6732, Match#6733, Id_NIVEL_1#6625, Id_NIVEL_0#6626, ID_ENTIDAD_NIVEL_0#6627, ID_ENTIDAD_NIVEL_1#6628, Jerarquia#6629, NIF_COD_NIVEL_0#6630, ... 79 more fields]\n:        :     :        :              :              +- Project [Id#6716 AS IdOld#10851, Entidad#6717, Origen_Solicitud#6718, Identificadores_Origen#6719, Entidad_Norm#7034, CIF#6977, CIF_validacion#6722, Centro#6723, Centro_Norm#6724, Tipo#6725, Provincia_Entidad#7091, Pais_Entidad#6727, Provincia_Centro#6728, PIC#6729, Tipo_Persona#6730, Entidad_Match#6731, Provincia_Match#6732, Match#6733, Id_NIVEL_1#6625, Id_NIVEL_0#6626, ID_ENTIDAD_NIVEL_0#6627, ID_ENTIDAD_NIVEL_1#6628, Jerarquia#6629, NIF_COD_NIVEL_0#6630, ... 78 more fields]\n:        :     :        :              :                 +- Project [Id#6716, Entidad#6717, Origen_Solicitud#6718, Identificadores_Origen#6719, Entidad_Norm#7034, CIF#6977, CIF_validacion#6722, Centro#6723, Centro_Norm#6724, Tipo#6725, Provincia_Entidad#7091, Pais_Entidad#6727, Provincia_Centro#6728, PIC#6729, Tipo_Persona#6730, Entidad_Match#6731, Provincia_Match#6732, Match#6733, Id_NIVEL_1#6625, Id_NIVEL_0#6626, ID_ENTIDAD_NIVEL_0#6627, ID_ENTIDAD_NIVEL_1#6628, Jerarquia#6629, NIF_COD_NIVEL_0#6630, ... 78 more fields]\n:        :     :        :              :                    +- Project [Id#6716, Entidad#6717, Origen_Solicitud#6718, Identificadores_Origen#6719, Entidad_Norm#7034, CIF#6977, CIF_validacion#6722, Centro#6723, Centro_Norm#6724, Tipo#6725, Provincia_Entidad#7091, Pais_Entidad#6727, Provincia_Centro#6728, PIC#6729, Tipo_Persona#6730, Entidad_Match#6731, Provincia_Match#6732, Match#6733, Id_NIVEL_1#6625, Id_NIVEL_0#6626, ID_ENTIDAD_NIVEL_0#6627, ID_ENTIDAD_NIVEL_1#6628, Jerarquia#6629, NIF_COD_NIVEL_0#6630, ... 77 more fields]\n:        :     :        :              :                       +- Project [Id#6716, Entidad#6717, Origen_Solicitud#6718, Identificadores_Origen#6719, Entidad_Norm#7034, CIF#6977, CIF_validacion#6722, Centro#6723, Centro_Norm#6724, Tipo#6725, Provincia_Entidad#7091, Pais_Entidad#6727, Provincia_Centro#6728, PIC#6729, Tipo_Persona#6730, Entidad_Match#6731, Provincia_Match#6732, Match#6733, Id_NIVEL_1#6625, Id_NIVEL_0#6626, ID_ENTIDAD_NIVEL_0#6627, ID_ENTIDAD_NIVEL_1#6628, Jerarquia#6629, NIF_COD_NIVEL_0#6630, ... 76 more fields]\n:        :     :        :              :                          +- Project [Id#6716, Entidad#6717, Origen_Solicitud#6718, Identificadores_Origen#6719, Entidad_Norm#7034, CIF#6977, CIF_validacion#6722, Centro#6723, Centro_Norm#6724, Tipo#6725, Provincia_Entidad#7091, Pais_Entidad#6727, Provincia_Centro#6728, PIC#6729, Tipo_Persona#6730, Entidad_Match#6731, Provincia_Match#6732, Match#6733, Id_NIVEL_1#6625, Id_NIVEL_0#6626, ID_ENTIDAD_NIVEL_0#6627, ID_ENTIDAD_NIVEL_1#6628, Jerarquia#6629, NIF_COD_NIVEL_0#6630, ... 75 more fields]\n:        :     :        :              :                             +- Project [Id#6716, Entidad#6717, Origen_Solicitud#6718, Identificadores_Origen#6719, Entidad_Norm#7034, CIF#6977, CIF_validacion#6722, Centro#6723, Centro_Norm#6724, Tipo#6725, Provincia_Entidad#7091, Pais_Entidad#6727, Provincia_Centro#6728, PIC#6729, Tipo_Persona#6730, Entidad_Match#6731, Provincia_Match#6732, Match#6733, Id_NIVEL_1#6625, Id_NIVEL_0#6626, ID_ENTIDAD_NIVEL_0#6627, ID_ENTIDAD_NIVEL_1#6628, Jerarquia#6629, NIF_COD_NIVEL_0#6630, ... 74 more fields]\n:        :     :        :              :                                +- Project [Id#6716, Entidad#6717, Origen_Solicitud#6718, Identificadores_Origen#6719, Entidad_Norm#7034, CIF#6977, CIF_validacion#6722, Centro#6723, Centro_Norm#6724, Tipo#6725, Provincia_Entidad#7091, Pais_Entidad#6727, Provincia_Centro#6728, PIC#6729, Tipo_Persona#6730, Entidad_Match#6731, Provincia_Match#6732, Match#6733, Id_NIVEL_1#6625, Id_NIVEL_0#6626, ID_ENTIDAD_NIVEL_0#6627, ID_ENTIDAD_NIVEL_1#6628, Jerarquia#6629, NIF_COD_NIVEL_0#6630, ... 73 more fields]\n:        :     :        :              :                                   +- Project [Id#6716, Entidad#6717, Origen_Solicitud#6718, Identificadores_Origen#6719, Entidad_Norm#7034, CIF#6977, CIF_validacion#6722, Centro#6723, Centro_Norm#6724, Tipo#6725, Provincia_Entidad#7091, Pais_Entidad#6727, Provincia_Centro#6728, PIC#6729, Tipo_Persona#6730, Entidad_Match#6731, Provincia_Match#6732, Match#6733, Id_NIVEL_1#6625, Id_NIVEL_0#6626, ID_ENTIDAD_NIVEL_0#6627, ID_ENTIDAD_NIVEL_1#6628, Jerarquia#6629, NIF_COD_NIVEL_0#6630, ... 72 more fields]\n:        :     :        :              :                                      +- Project [Id#6716, Entidad#6717, Origen_Solicitud#6718, Identificadores_Origen#6719, Entidad_Norm#7034, CIF#6977, CIF_validacion#6722, Centro#6723, Centro_Norm#6724, Tipo#6725, Provincia_Entidad#7091, Pais_Entidad#6727, Provincia_Centro#6728, PIC#6729, Tipo_Persona#6730, Entidad_Match#6731, Provincia_Match#6732, Match#6733, Id_NIVEL_1#6625, Id_NIVEL_0#6626, ID_ENTIDAD_NIVEL_0#6627, ID_ENTIDAD_NIVEL_1#6628, Jerarquia#6629, NIF_COD_NIVEL_0#6630, ... 71 more fields]\n:        :     :        :              :                                         +- Project [Id#6716, Entidad#6717, Origen_Solicitud#6718, Identificadores_Origen#6719, Entidad_Norm#7034, CIF#6977, CIF_validacion#6722, Centro#6723, Centro_Norm#6724, Tipo#6725, Provincia_Entidad#7091, Pais_Entidad#6727, Provincia_Centro#6728, PIC#6729, Tipo_Persona#6730, Entidad_Match#6731, Provincia_Match#6732, Match#6733, Id_NIVEL_1#6625, Id_NIVEL_0#6626, ID_ENTIDAD_NIVEL_0#6627, ID_ENTIDAD_NIVEL_1#6628, Jerarquia#6629, NIF_COD_NIVEL_0#6630, ... 70 more fields]\n:        :     :        :              :                                            +- Project [Id#6716, Entidad#6717, Origen_Solicitud#6718, Identificadores_Origen#6719, Entidad_Norm#7034, CIF#6977, CIF_validacion#6722, Centro#6723, Centro_Norm#6724, Tipo#6725, Provincia_Entidad#7091, Pais_Entidad#6727, Provincia_Centro#6728, PIC#6729, Tipo_Persona#6730, Entidad_Match#6731, Provincia_Match#6732, Match#6733, Id_NIVEL_1#6625, Id_NIVEL_0#6626, ID_ENTIDAD_NIVEL_0#6627, ID_ENTIDAD_NIVEL_1#6628, Jerarquia#6629, NIF_COD_NIVEL_0#6630, ... 69 more fields]\n:        :     :        :              :                                               +- Project [Id#6716, Entidad#6717, Origen_Solicitud#6718, Identificadores_Origen#6719, Entidad_Norm#7034, CIF#6977, CIF_validacion#6722, Centro#6723, Centro_Norm#6724, Tipo#6725, Provincia_Entidad#7091, Pais_Entidad#6727, Provincia_Centro#6728, PIC#6729, Tipo_Persona#6730, Entidad_Match#6731, Provincia_Match#6732, Match#6733, Id_NIVEL_1#6625, Id_NIVEL_0#6626, ID_ENTIDAD_NIVEL_0#6627, ID_ENTIDAD_NIVEL_1#6628, Jerarquia#6629, NIF_COD_NIVEL_0#6630, ... 68 more fields]\n:        :     :        :              :                                                  +- Project [Id#6716, Entidad#6717, Origen_Solicitud#6718, Identificadores_Origen#6719, Entidad_Norm#7034, CIF#6977, CIF_validacion#6722, Centro#6723, Centro_Norm#6724, Tipo#6725, Provincia_Entidad#7091, Pais_Entidad#6727, Provincia_Centro#6728, PIC#6729, Tipo_Persona#6730, Entidad_Match#6731, Provincia_Match#6732, Match#6733, Id_NIVEL_1#6625, Id_NIVEL_0#6626, ID_ENTIDAD_NIVEL_0#6627, ID_ENTIDAD_NIVEL_1#6628, Jerarquia#6629, NIF_COD_NIVEL_0#6630, ... 67 more fields]\n:        :     :        :              :                                                     +- Project [Id#6716, Entidad#6717, Origen_Solicitud#6718, Identificadores_Origen#6719, Entidad_Norm#7034, CIF#6977, CIF_validacion#6722, Centro#6723, Centro_Norm#6724, Tipo#6725, Provincia_Entidad#7091, Pais_Entidad#6727, Provincia_Centro#6728, PIC#6729, Tipo_Persona#6730, Entidad_Match#6731, Provincia_Match#6732, Match#6733, Id_NIVEL_1#6625, Id_NIVEL_0#6626, ID_ENTIDAD_NIVEL_0#6627, ID_ENTIDAD_NIVEL_1#6628, Jerarquia#6629, NIF_COD_NIVEL_0#6630, ... 66 more fields]\n:        :     :        :              :                                                        +- Project [Id#6716, Entidad#6717, Origen_Solicitud#6718, Identificadores_Origen#6719, Entidad_Norm#7034, CIF#6977, CIF_validacion#6722, Centro#6723, Centro_Norm#6724, Tipo#6725, Provincia_Entidad#7091, Pais_Entidad#6727, Provincia_Centro#6728, PIC#6729, Tipo_Persona#6730, Entidad_Match#6731, Provincia_Match#6732, Match#6733, Id_NIVEL_1#6625, Id_NIVEL_0#6626, ID_ENTIDAD_NIVEL_0#6627, ID_ENTIDAD_NIVEL_1#6628, Jerarquia#6629, NIF_COD_NIVEL_0#6630, ... 65 more fields]\n:        :     :        :              :                                                           +- Project [Id#6716, Entidad#6717, Origen_Solicitud#6718, Identificadores_Origen#6719, Entidad_Norm#7034, CIF#6977, CIF_validacion#6722, Centro#6723, Centro_Norm#6724, Tipo#6725, Provincia_Entidad#7091, Pais_Entidad#6727, Provincia_Centro#6728, PIC#6729, Tipo_Persona#6730, Entidad_Match#6731, Provincia_Match#6732, Match#6733, Id_NIVEL_1#6625, Id_NIVEL_0#6626, ID_ENTIDAD_NIVEL_0#6627, ID_ENTIDAD_NIVEL_1#6628, Jerarquia#6629, NIF_COD_NIVEL_0#6630, ... 64 more fields]\n:        :     :        :              :                                                              +- Project [Id#6716, Entidad#6717, Origen_Solicitud#6718, Identificadores_Origen#6719, Entidad_Norm#7034, CIF#6977, CIF_validacion#6722, Centro#6723, Centro_Norm#6724, Tipo#6725, Provincia_Entidad#7091, Pais_Entidad#6727, Provincia_Centro#6728, PIC#6729, Tipo_Persona#6730, Entidad_Match#6731, Provincia_Match#6732, Match#6733, Id_NIVEL_1#6625, Id_NIVEL_0#6626, ID_ENTIDAD_NIVEL_0#6627, ID_ENTIDAD_NIVEL_1#6628, Jerarquia#6629, NIF_COD_NIVEL_0#6630, ... 63 more fields]\n:        :     :        :              :                                                                 +- Project [Id#6716, Entidad#6717, Origen_Solicitud#6718, Identificadores_Origen#6719, Entidad_Norm#7034, CIF#6977, CIF_validacion#6722, Centro#6723, Centro_Norm#6724, Tipo#6725, Provincia_Entidad#7091, Pais_Entidad#6727, Provincia_Centro#6728, PIC#6729, Tipo_Persona#6730, Entidad_Match#6731, Provincia_Match#6732, Match#6733, Id_NIVEL_1#6625, Id_NIVEL_0#6626, ID_ENTIDAD_NIVEL_0#6627, ID_ENTIDAD_NIVEL_1#6628, Jerarquia#6629, NIF_COD_NIVEL_0#6630, ... 62 more fields]\n:        :     :        :              :                                                                    +- Project [Id#6716, Entidad#6717, Origen_Solicitud#6718, Identificadores_Origen#6719, Entidad_Norm#7034, CIF#6977, CIF_validacion#6722, Centro#6723, Centro_Norm#6724, Tipo#6725, Provincia_Entidad#7091, Pais_Entidad#6727, Provincia_Centro#6728, PIC#6729, Tipo_Persona#6730, Entidad_Match#6731, Provincia_Match#6732, Match#6733, Id_NIVEL_1#6625, Id_NIVEL_0#6626, ID_ENTIDAD_NIVEL_0#6627, ID_ENTIDAD_NIVEL_1#6628, Jerarquia#6629, NIF_COD_NIVEL_0#6630, ... 61 more fields]\n:        :     :        :              :                                                                       +- Project [Id#6716, Entidad#6717, Origen_Solicitud#6718, Identificadores_Origen#6719, Entidad_Norm#7034, CIF#6977, CIF_validacion#6722, Centro#6723, Centro_Norm#6724, Tipo#6725, Provincia_Entidad#7091, Pais_Entidad#6727, Provincia_Centro#6728, PIC#6729, Tipo_Persona#6730, Entidad_Match#6731, Provincia_Match#6732, Match#6733, Id_NIVEL_1#6625, Id_NIVEL_0#6626, ID_ENTIDAD_NIVEL_0#6627, ID_ENTIDAD_NIVEL_1#6628, Jerarquia#6629, NIF_COD_NIVEL_0#6630, ... 60 more fields]\n:        :     :        :              :                                                                          +- Project [Id#6716, Entidad#6717, Origen_Solicitud#6718, Identificadores_Origen#6719, Entidad_Norm#7034, CIF#6977, CIF_validacion#6722, Centro#6723, Centro_Norm#6724, Tipo#6725, Provincia_Entidad#7091, Pais_Entidad#6727, Provincia_Centro#6728, PIC#6729, Tipo_Persona#6730, Entidad_Match#6731, Provincia_Match#6732, Match#6733, Id_NIVEL_1#6625, Id_NIVEL_0#6626, ID_ENTIDAD_NIVEL_0#6627, ID_ENTIDAD_NIVEL_1#6628, Jerarquia#6629, NIF_COD_NIVEL_0#6630, ... 59 more fields]\n:        :     :        :              :                                                                             +- Project [Id#6716, Entidad#6717, Origen_Solicitud#6718, Identificadores_Origen#6719, Entidad_Norm#7034, CIF#6977, CIF_validacion#6722, Centro#6723, Centro_Norm#6724, Tipo#6725, Provincia_Entidad#7091, Pais_Entidad#6727, Provincia_Centro#6728, PIC#6729, Tipo_Persona#6730, Entidad_Match#6731, Provincia_Match#6732, Match#6733, Id_NIVEL_1#6625, Id_NIVEL_0#6626, ID_ENTIDAD_NIVEL_0#6627, ID_ENTIDAD_NIVEL_1#6628, Jerarquia#6629, NIF_COD_NIVEL_0#6630, ... 58 more fields]\n:        :     :        :              :                                                                                +- Project [Id#6716, Entidad#6717, Origen_Solicitud#6718, Identificadores_Origen#6719, Entidad_Norm#7034, CIF#6977, CIF_validacion#6722, Centro#6723, Centro_Norm#6724, Tipo#6725, Provincia_Entidad#7091, Pais_Entidad#6727, Provincia_Centro#6728, PIC#6729, Tipo_Persona#6730, Entidad_Match#6731, Provincia_Match#6732, Match#6733, Id_NIVEL_1#6625, Id_NIVEL_0#6626, ID_ENTIDAD_NIVEL_0#6627, ID_ENTIDAD_NIVEL_1#6628, Jerarquia#6629, NIF_COD_NIVEL_0#6630, ... 57 more fields]\n:        :     :        :              :                                                                                   +- Project [Id#6716, Entidad#6717, Origen_Solicitud#6718, Identificadores_Origen#6719, Entidad_Norm#7034, CIF#6977, CIF_validacion#6722, Centro#6723, Centro_Norm#6724, Tipo#6725, Provincia_Entidad#7091, Pais_Entidad#6727, Provincia_Centro#6728, PIC#6729, Tipo_Persona#6730, Entidad_Match#6731, Provincia_Match#6732, Match#6733, Id_NIVEL_1#6625, Id_NIVEL_0#6626, ID_ENTIDAD_NIVEL_0#6627, ID_ENTIDAD_NIVEL_1#6628, Jerarquia#6629, NIF_COD_NIVEL_0#6630, ... 56 more fields]\n:        :     :        :              :                                                                                      +- Project [Id#6716, Entidad#6717, Origen_Solicitud#6718, Identificadores_Origen#6719, Entidad_Norm#7034, CIF#6977, CIF_validacion#6722, Centro#6723, Centro_Norm#6724, Tipo#6725, Provincia_Entidad#7091, Pais_Entidad#6727, Provincia_Centro#6728, PIC#6729, Tipo_Persona#6730, Entidad_Match#6731, Provincia_Match#6732, Match#6733, Id_NIVEL_1#6625, Id_NIVEL_0#6626, ID_ENTIDAD_NIVEL_0#6627, ID_ENTIDAD_NIVEL_1#6628, Jerarquia#6629, NIF_COD_NIVEL_0#6630, ... 55 more fields]\n:        :     :        :              :                                                                                         +- Project [Id#6716, Entidad#6717, Origen_Solicitud#6718, Identificadores_Origen#6719, Entidad_Norm#7034, CIF#6977, CIF_validacion#6722, Centro#6723, Centro_Norm#6724, Tipo#6725, Provincia_Entidad#7091, Pais_Entidad#6727, Provincia_Centro#6728, PIC#6729, Tipo_Persona#6730, Entidad_Match#6731, Provincia_Match#6732, Match#6733, Id_NIVEL_1#6625, Id_NIVEL_0#6626, ID_ENTIDAD_NIVEL_0#6627, ID_ENTIDAD_NIVEL_1#6628, Jerarquia#6629, NIF_COD_NIVEL_0#6630, ... 54 more fields]\n:        :     :        :              :                                                                                            +- Project [Id#6716, Entidad#6717, Origen_Solicitud#6718, Identificadores_Origen#6719, Entidad_Norm#7034, CIF#6977, CIF_validacion#6722, Centro#6723, Centro_Norm#6724, Tipo#6725, Provincia_Entidad#7091, Pais_Entidad#6727, Provincia_Centro#6728, PIC#6729, Tipo_Persona#6730, Entidad_Match#6731, Provincia_Match#6732, Match#6733, Id_NIVEL_1#6625, Id_NIVEL_0#6626, ID_ENTIDAD_NIVEL_0#6627, ID_ENTIDAD_NIVEL_1#6628, Jerarquia#6629, NIF_COD_NIVEL_0#6630, ... 53 more fields]\n:        :     :        :              :                                                                                               +- Project [Id#6716, Entidad#6717, Origen_Solicitud#6718, Identificadores_Origen#6719, Entidad_Norm#7034, CIF#6977, CIF_validacion#6722, Centro#6723, Centro_Norm#6724, Tipo#6725, Provincia_Entidad#7091, Pais_Entidad#6727, Provincia_Centro#6728, PIC#6729, Tipo_Persona#6730, Entidad_Match#6731, Provincia_Match#6732, Match#6733, Id_NIVEL_1#6625, Id_NIVEL_0#6626, ID_ENTIDAD_NIVEL_0#6627, ID_ENTIDAD_NIVEL_1#6628, Jerarquia#6629, NIF_COD_NIVEL_0#6630, ... 52 more fields]\n:        :     :        :              :                                                                                                  +- Project [Id#6716, Entidad#6717, Origen_Solicitud#6718, Identificadores_Origen#6719, Entidad_Norm#7034, CIF#6977, CIF_validacion#6722, Centro#6723, Centro_Norm#6724, Tipo#6725, Provincia_Entidad#7091, Pais_Entidad#6727, Provincia_Centro#6728, PIC#6729, Tipo_Persona#6730, Entidad_Match#6731, Provincia_Match#6732, Match#6733, Id_NIVEL_1#6625, Id_NIVEL_0#6626, ID_ENTIDAD_NIVEL_0#6627, ID_ENTIDAD_NIVEL_1#6628, Jerarquia#6629, NIF_COD_NIVEL_0#6630, ... 51 more fields]\n:        :     :        :              :                                                                                                     +- Project [Id#6716, Entidad#6717, Origen_Solicitud#6718, Identificadores_Origen#6719, Entidad_Norm#7034, CIF#6977, CIF_validacion#6722, Centro#6723, Centro_Norm#6724, Tipo#6725, Provincia_Entidad#7091, Pais_Entidad#6727, Provincia_Centro#6728, PIC#6729, Tipo_Persona#6730, Entidad_Match#6731, Provincia_Match#6732, Match#6733, Id_NIVEL_1#6625, Id_NIVEL_0#6626, ID_ENTIDAD_NIVEL_0#6627, ID_ENTIDAD_NIVEL_1#6628, Jerarquia#6629, NIF_COD_NIVEL_0#6630, ... 50 more fields]\n:        :     :        :              :                                                                                                        +- Project [Id#6716, Entidad#6717, Origen_Solicitud#6718, Identificadores_Origen#6719, Entidad_Norm#7034, CIF#6977, CIF_validacion#6722, Centro#6723, Centro_Norm#6724, Tipo#6725, Provincia_Entidad#7091, Pais_Entidad#6727, Provincia_Centro#6728, PIC#6729, Tipo_Persona#6730, Entidad_Match#6731, Provincia_Match#6732, Match#6733, Id_NIVEL_1#6625, Id_NIVEL_0#6626, ID_ENTIDAD_NIVEL_0#6627, ID_ENTIDAD_NIVEL_1#6628, Jerarquia#6629, NIF_COD_NIVEL_0#6630, ... 49 more fields]\n:        :     :        :              :                                                                                                           +- Project [Id#6716, Entidad#6717, Origen_Solicitud#6718, Identificadores_Origen#6719, Entidad_Norm#7034, CIF#6977, CIF_validacion#6722, Centro#6723, Centro_Norm#6724, Tipo#6725, Provincia_Entidad#7091, Pais_Entidad#6727, Provincia_Centro#6728, PIC#6729, Tipo_Persona#6730, Entidad_Match#6731, Provincia_Match#6732, Match#6733, Id_NIVEL_1#6625, Id_NIVEL_0#6626, ID_ENTIDAD_NIVEL_0#6627, ID_ENTIDAD_NIVEL_1#6628, Jerarquia#6629, NIF_COD_NIVEL_0#6630, ... 48 more fields]\n:        :     :        :              :                                                                                                              +- Project [Id#6716, Entidad#6717, Origen_Solicitud#6718, Identificadores_Origen#6719, Entidad_Norm#7034, CIF#6977, CIF_validacion#6722, Centro#6723, Centro_Norm#6724, Tipo#6725, Provincia_Entidad#7091, Pais_Entidad#6727, Provincia_Centro#6728, PIC#6729, Tipo_Persona#6730, Entidad_Match#6731, Provincia_Match#6732, Match#6733, Id_NIVEL_1#6625, Id_NIVEL_0#6626, ID_ENTIDAD_NIVEL_0#6627, ID_ENTIDAD_NIVEL_1#6628, Jerarquia#6629, NIF_COD_NIVEL_0#6630, ... 47 more fields]\n:        :     :        :              :                                                                                                                 +- Project [Id#6716, Entidad#6717, Origen_Solicitud#6718, Identificadores_Origen#6719, Entidad_Norm#7034, CIF#6977, CIF_validacion#6722, Centro#6723, Centro_Norm#6724, Tipo#6725, Provincia_Entidad#7091, Pais_Entidad#6727, Provincia_Centro#6728, PIC#6729, Tipo_Persona#6730, Entidad_Match#6731, Provincia_Match#6732, Match#6733, Id_NIVEL_1#6625, Id_NIVEL_0#6626, ID_ENTIDAD_NIVEL_0#6627, ID_ENTIDAD_NIVEL_1#6628, Jerarquia#6629, NIF_COD_NIVEL_0#6630, ... 46 more fields]\n:        :     :        :              :                                                                                                                    +- Project [Id#6716, Entidad#6717, Origen_Solicitud#6718, Identificadores_Origen#6719, Entidad_Norm#7034, CIF#6977, CIF_validacion#6722, Centro#6723, Centro_Norm#6724, Tipo#6725, Provincia_Entidad#7091, Pais_Entidad#6727, Provincia_Centro#6728, PIC#6729, Tipo_Persona#6730, Entidad_Match#6731, Provincia_Match#6732, Match#6733, Id_NIVEL_1#6625, Id_NIVEL_0#6626, ID_ENTIDAD_NIVEL_0#6627, ID_ENTIDAD_NIVEL_1#6628, Jerarquia#6629, NIF_COD_NIVEL_0#6630, ... 45 more fields]\n:        :     :        :              :                                                                                                                       +- Project [Id#6716, Entidad#6717, Origen_Solicitud#6718, Identificadores_Origen#6719, Entidad_Norm#7034, CIF#6977, CIF_validacion#6722, Centro#6723, Centro_Norm#6724, Tipo#6725, Provincia_Entidad#7091, Pais_Entidad#6727, Provincia_Centro#6728, PIC#6729, Tipo_Persona#6730, Entidad_Match#6731, Provincia_Match#6732, Match#6733, Id_NIVEL_1#6625, Id_NIVEL_0#6626, ID_ENTIDAD_NIVEL_0#6627, ID_ENTIDAD_NIVEL_1#6628, Jerarquia#6629, NIF_COD_NIVEL_0#6630, ... 44 more fields]\n:        :     :        :              :                                                                                                                          +- Project [Id#6716, Entidad#6717, Origen_Solicitud#6718, Identificadores_Origen#6719, Entidad_Norm#7034, CIF#6977, CIF_validacion#6722, Centro#6723, Centro_Norm#6724, Tipo#6725, Provincia_Entidad#7091, Pais_Entidad#6727, Provincia_Centro#6728, PIC#6729, Tipo_Persona#6730, Entidad_Match#6731, Provincia_Match#6732, Match#6733, Id_NIVEL_1#6625, Id_NIVEL_0#6626, ID_ENTIDAD_NIVEL_0#6627, ID_ENTIDAD_NIVEL_1#6628, Jerarquia#6629, NIF_COD_NIVEL_0#6630, ... 43 more fields]\n:        :     :        :              :                                                                                                                             +- Project [Id#6716, Entidad#6717, Origen_Solicitud#6718, Identificadores_Origen#6719, Entidad_Norm#7034, CIF#6977, CIF_validacion#6722, Centro#6723, Centro_Norm#6724, Tipo#6725, Provincia_Entidad#7091, Pais_Entidad#6727, Provincia_Centro#6728, PIC#6729, Tipo_Persona#6730, Entidad_Match#6731, Provincia_Match#6732, Match#6733, Id_NIVEL_1#6625, Id_NIVEL_0#6626, ID_ENTIDAD_NIVEL_0#6627, ID_ENTIDAD_NIVEL_1#6628, Jerarquia#6629, NIF_COD_NIVEL_0#6630, ... 42 more fields]\n:        :     :        :              :                                                                                                                                +- Project [Id#6716, Entidad#6717, Origen_Solicitud#6718, Identificadores_Origen#6719, Entidad_Norm#7034, CIF#6977, CIF_validacion#6722, Centro#6723, Centro_Norm#6724, Tipo#6725, Provincia_Entidad#7091, Pais_Entidad#6727, Provincia_Centro#6728, PIC#6729, Tipo_Persona#6730, Entidad_Match#6731, Provincia_Match#6732, Match#6733, Id_NIVEL_1#6625, Id_NIVEL_0#6626, ID_ENTIDAD_NIVEL_0#6627, ID_ENTIDAD_NIVEL_1#6628, Jerarquia#6629, NIF_COD_NIVEL_0#6630, ... 41 more fields]\n:        :     :        :              :                                                                                                                                   +- Project [Id#6716, Entidad#6717, Origen_Solicitud#6718, Identificadores_Origen#6719, Entidad_Norm#7034, CIF#6977, CIF_validacion#6722, Centro#6723, Centro_Norm#6724, Tipo#6725, Provincia_Entidad#7091, Pais_Entidad#6727, Provincia_Centro#6728, PIC#6729, Tipo_Persona#6730, Entidad_Match#6731, Provincia_Match#6732, Match#6733, Id_NIVEL_1#6625, Id_NIVEL_0#6626, ID_ENTIDAD_NIVEL_0#6627, ID_ENTIDAD_NIVEL_1#6628, Jerarquia#6629, NIF_COD_NIVEL_0#6630, ... 40 more fields]\n:        :     :        :              :                                                                                                                                      +- Project [Id#6716, Entidad#6717, Origen_Solicitud#6718, Identificadores_Origen#6719, Entidad_Norm#7034, CIF#6977, CIF_validacion#6722, Centro#6723, Centro_Norm#6724, Tipo#6725, Provincia_Entidad#7091, Pais_Entidad#6727, Provincia_Centro#6728, PIC#6729, Tipo_Persona#6730, Entidad_Match#6731, Provincia_Match#6732, Match#6733, Id_NIVEL_1#6625, Id_NIVEL_0#6626, ID_ENTIDAD_NIVEL_0#6627, ID_ENTIDAD_NIVEL_1#6628, Jerarquia#6629, NIF_COD_NIVEL_0#6630, ... 39 more fields]\n:        :     :        :              :                                                                                                                                         +- Project [Id#6716, Entidad#6717, Origen_Solicitud#6718, Identificadores_Origen#6719, Entidad_Norm#7034, CIF#6977, CIF_validacion#6722, Centro#6723, Centro_Norm#6724, Tipo#6725, Provincia_Entidad#7091, Pais_Entidad#6727, Provincia_Centro#6728, PIC#6729, Tipo_Persona#6730, Entidad_Match#6731, Provincia_Match#6732, Match#6733, Id_NIVEL_1#6625, Id_NIVEL_0#6626, ID_ENTIDAD_NIVEL_0#6627, ID_ENTIDAD_NIVEL_1#6628, Jerarquia#6629, NIF_COD_NIVEL_0#6630, ... 38 more fields]\n:        :     :        :              :                                                                                                                                            +- Project [Id#6716, Entidad#6717, Origen_Solicitud#6718, Identificadores_Origen#6719, Entidad_Norm#7034, CIF#6977, CIF_validacion#6722, Centro#6723, Centro_Norm#6724, Tipo#6725, Provincia_Entidad#7091, Pais_Entidad#6727, Provincia_Centro#6728, PIC#6729, Tipo_Persona#6730, Entidad_Match#6731, Provincia_Match#6732, Match#6733, Id_NIVEL_1#6625, Id_NIVEL_0#6626, ID_ENTIDAD_NIVEL_0#6627, ID_ENTIDAD_NIVEL_1#6628, Jerarquia#6629, NIF_COD_NIVEL_0#6630, ... 37 more fields]\n:        :     :        :              :                                                                                                                                               +- Project [Id#6716, Entidad#6717, Origen_Solicitud#6718, Identificadores_Origen#6719, Entidad_Norm#7034, CIF#6977, CIF_validacion#6722, Centro#6723, Centro_Norm#6724, Tipo#6725, Provincia_Entidad#7091, Pais_Entidad#6727, Provincia_Centro#6728, PIC#6729, Tipo_Persona#6730, Entidad_Match#6731, Provincia_Match#6732, Match#6733, Id_NIVEL_1#6625, Id_NIVEL_0#6626, ID_ENTIDAD_NIVEL_0#6627, ID_ENTIDAD_NIVEL_1#6628, Jerarquia#6629, NIF_COD_NIVEL_0#6630, ... 36 more fields]\n:        :     :        :              :                                                                                                                                                  +- Project [Id#6716, Entidad#6717, Origen_Solicitud#6718, Identificadores_Origen#6719, Entidad_Norm#7034, CIF#6977, CIF_validacion#6722, Centro#6723, Centro_Norm#6724, Tipo#6725, Provincia_Entidad#7091, Pais_Entidad#6727, Provincia_Centro#6728, PIC#6729, Tipo_Persona#6730, Entidad_Match#6731, Provincia_Match#6732, Match#6733, Id_NIVEL_1#6625, Id_NIVEL_0#6626, ID_ENTIDAD_NIVEL_0#6627, ID_ENTIDAD_NIVEL_1#6628, Jerarquia#6629, NIF_COD_NIVEL_0#6630, ... 35 more fields]\n:        :     :        :              :                                                                                                                                                     +- Project [Id#6716, Entidad#6717, Origen_Solicitud#6718, Identificadores_Origen#6719, Entidad_Norm#7034, CIF#6977, CIF_validacion#6722, Centro#6723, Centro_Norm#6724, Tipo#6725, Provincia_Entidad#7091, Pais_Entidad#6727, Provincia_Centro#6728, PIC#6729, Tipo_Persona#6730, Entidad_Match#6731, Provincia_Match#6732, Match#6733, Id_NIVEL_1#6625, Id_NIVEL_0#6626, ID_ENTIDAD_NIVEL_0#6627, ID_ENTIDAD_NIVEL_1#6628, Jerarquia#6629, NIF_COD_NIVEL_0#6630, ... 34 more fields]\n:        :     :        :              :                                                                                                                                                        +- Project [Id#6716, Entidad#6717, Origen_Solicitud#6718, Identificadores_Origen#6719, Entidad_Norm#7034, CIF#6977, CIF_validacion#6722, Centro#6723, Centro_Norm#6724, Tipo#6725, Provincia_Entidad#7091, Pais_Entidad#6727, Provincia_Centro#6728, PIC#6729, Tipo_Persona#6730, Entidad_Match#6731, Provincia_Match#6732, Match#6733, Id_NIVEL_1#6625, Id_NIVEL_0#6626, ID_ENTIDAD_NIVEL_0#6627, ID_ENTIDAD_NIVEL_1#6628, Jerarquia#6629, NIF_COD_NIVEL_0#6630, ... 33 more fields]\n:        :     :        :              :                                                                                                                                                           +- Project [Id#6716, Entidad#6717, Origen_Solicitud#6718, Identificadores_Origen#6719, Entidad_Norm#7034, CIF#6977, CIF_validacion#6722, Centro#6723, Centro_Norm#6724, Tipo#6725, Provincia_Centro#6728 AS Provincia_Entidad#7091, Pais_Entidad#6727, Provincia_Centro#6728, PIC#6729, Tipo_Persona#6730, Entidad_Match#6731, Provincia_Match#6732, Match#6733, Id_NIVEL_1#6625, Id_NIVEL_0#6626, ID_ENTIDAD_NIVEL_0#6627, ID_ENTIDAD_NIVEL_1#6628, Jerarquia#6629, NIF_COD_NIVEL_0#6630, ... 32 more fields]\n:        :     :        :              :                                                                                                                                                              +- Project [Id#6716, Entidad#6717, Origen_Solicitud#6718, Identificadores_Origen#6719, Centro_Norm#6724 AS Entidad_Norm#7034, CIF#6977, CIF_validacion#6722, Centro#6723, Centro_Norm#6724, Tipo#6725, Provincia_Entidad#6726, Pais_Entidad#6727, Provincia_Centro#6728, PIC#6729, Tipo_Persona#6730, Entidad_Match#6731, Provincia_Match#6732, Match#6733, Id_NIVEL_1#6625, Id_NIVEL_0#6626, ID_ENTIDAD_NIVEL_0#6627, ID_ENTIDAD_NIVEL_1#6628, Jerarquia#6629, NIF_COD_NIVEL_0#6630, ... 32 more fields]\n:        :     :        :              :                                                                                                                                                                 +- Project [Id#6716, Entidad#6717, Origen_Solicitud#6718, Identificadores_Origen#6719, Entidad_Norm#6720, cast(null as string) AS CIF#6977, CIF_validacion#6722, Centro#6723, Centro_Norm#6724, Tipo#6725, Provincia_Entidad#6726, Pais_Entidad#6727, Provincia_Centro#6728, PIC#6729, Tipo_Persona#6730, Entidad_Match#6731, Provincia_Match#6732, Match#6733, Id_NIVEL_1#6625, Id_NIVEL_0#6626, ID_ENTIDAD_NIVEL_0#6627, ID_ENTIDAD_NIVEL_1#6628, Jerarquia#6629, NIF_COD_NIVEL_0#6630, ... 32 more fields]\n:        :     :        :              :                                                                                                                                                                    +- Filter (cast(Similitud#6866 as double) < cast(0.875 as double))\n:        :     :        :              :                                                                                                                                                                       +- Project [Id#6716, Entidad#6717, Origen_Solicitud#6718, Identificadores_Origen#6719, Entidad_Norm#6720, CIF#6721, CIF_validacion#6722, Centro#6723, Centro_Norm#6724, Tipo#6725, Provincia_Entidad#6726, Pais_Entidad#6727, Provincia_Centro#6728, PIC#6729, Tipo_Persona#6730, Entidad_Match#6731, Provincia_Match#6732, Match#6733, Id_NIVEL_1#6625, Id_NIVEL_0#6626, ID_ENTIDAD_NIVEL_0#6627, ID_ENTIDAD_NIVEL_1#6628, Jerarquia#6629, NIF_COD_NIVEL_0#6630, ... 32 more fields]\n:        :     :        :              :                                                                                                                                                                          +- Filter isnotnull(Id_NIVEL_0#6626)\n:        :     :        :              :                                                                                                                                                                             +- Deduplicate [Pais_Entidad#6727, Id#6716, Centro_Norm#6724, Entidad_Norm#6720, Entidad_Match#6731, Centro#6723, Identificadores_Origen#6719, Tipo#6725, Origen_Solicitud#6718, Entidad#6717, CIF_validacion#6722, Tipo_Persona#6730, Provincia_Match#6732, PIC#6729, CIF#6721, Provincia_Entidad#6726, Provincia_Centro#6728, Match#6733]\n:        :     :        :              :                                                                                                                                                                                +- Join LeftOuter, (Id#6716 = Id_NIVEL_0#6626)\n:        :     :        :              :                                                                                                                                                                                   :- Relation [Id#6716,Entidad#6717,Origen_Solicitud#6718,Identificadores_Origen#6719,Entidad_Norm#6720,CIF#6721,CIF_validacion#6722,Centro#6723,Centro_Norm#6724,Tipo#6725,Provincia_Entidad#6726,Pais_Entidad#6727,Provincia_Centro#6728,PIC#6729,Tipo_Persona#6730,Entidad_Match#6731,Provincia_Match#6732,Match#6733] csv\n:        :     :        :              :                                                                                                                                                                                   +- Relation [Id_NIVEL_1#6625,Id_NIVEL_0#6626,ID_ENTIDAD_NIVEL_0#6627,ID_ENTIDAD_NIVEL_1#6628,Jerarquia#6629,NIF_COD_NIVEL_0#6630,ACRONIMO_NIVEL_0#6631,NOMBRE_ENTIDAD_NIVEL_0#6632,Nombre_Entidad_Mostrar_NIVEL_0#6633,TIPO_ENTIDAD_N1_1_NIVEL_0#6634,TIPO_ENTIDAD_N2_1_NIVEL_0#6635,DIRECCION_POSTAL_NIVEL_0#6636,COD_POSTAL_NIVEL_0#6637,COD_PROVINCIA_NIVEL_0#6638,PROVINCIA_NIVEL_0#6639,COD_CCAA_NIVEL_0#6640,CCAA_NIVEL_0#6641,ENLACE_WEB_NIVEL_0#6642,SOMMA_NIVEL_0#6643,TIPO_ENTIDAD_REGIONAL_NIVEL_0#6644,ESTADO_x_NIVEL_0#6645,NIF_COD_NIVEL_1#6646,ACRONIMO_NIVEL_1#6647,NOMBRE_ENTIDAD_NIVEL_1#6648,... 13 more fields] csv\n:        :     :        :              +- Project [Id#10956, Dummy#10962]\n:        :     :        :                 +- Project [Id#10956, Dummy#10958L, Dummy#10962, Dummy#10962]\n:        :     :        :                    +- Window [row_number() windowspecdefinition(Dummy#10958L ASC NULLS FIRST, specifiedwindowframe(RowFrame, unboundedpreceding$(), currentrow$())) AS Dummy#10962], [Dummy#10958L ASC NULLS FIRST]\n:        :     :        :                       +- Project [Id#10956, Dummy#10958L]\n:        :     :        :                          +- Project [Id#10956, monotonically_increasing_id() AS Dummy#10958L]\n:        :     :        :                             +- Project [value#10954 AS Id#10956]\n:        :     :        :                                +- LogicalRDD [value#10954], false\n:        :     :        +- Project [Entidad_Norm#13914, DenominacionSocial#13915, NIF#13917, CodigoInvente#13918, FormaJuridica_Codigo#13919, FormaJuridica_Descripcion#13920, codigoDir3#13921, codigoOrigen#13922, Provincia_Codigo#13916, final_score#14072, DenominacionSocial_Norm#13923]\n:        :     :           +- Deduplicate [Entidad_Norm#13914]\n:        :     :              +- Sort [final_score#14072 DESC NULLS LAST], true\n:        :     :                 +- Filter (cast(final_score#14072 as double) >= cast(0.875 as double))\n:        :     :                    +- Project [source_name#13912, target_name#13913, Entidad_Norm#13914, DenominacionSocial#13915, Provincia_Codigo#13916, NIF#13917, CodigoInvente#13918, FormaJuridica_Codigo#13919, FormaJuridica_Descripcion#13920, codigoDir3#13921, codigoOrigen#13922, DenominacionSocial_Norm#13923, source_names_stopwords#13971, target_names_stopwords#14023, CASE WHEN NOT (source_names_stopwords#13971 = target_names_stopwords#14023) THEN final_score#14040 ELSE cast(1 as float) END AS final_score#14072]\n:        :     :                       +- Project [source_name#13912, target_name#13913, Entidad_Norm#13914, DenominacionSocial#13915, Provincia_Codigo#13916, NIF#13917, CodigoInvente#13918, FormaJuridica_Codigo#13919, FormaJuridica_Descripcion#13920, codigoDir3#13921, codigoOrigen#13922, DenominacionSocial_Norm#13923, source_names_stopwords#13971, target_names_stopwords#14023, final_score#14040]\n:        :     :                          +- Project [source_name#13912, target_name#13913, Entidad_Norm#13914, DenominacionSocial#13915, Provincia_Codigo#13916, NIF#13917, CodigoInvente#13918, FormaJuridica_Codigo#13919, FormaJuridica_Descripcion#13920, codigoDir3#13921, codigoOrigen#13922, DenominacionSocial_Norm#13923, aux#13986, source_names_stopwords#13971, target_names_stopwords#14023, Distance_ratcliff_obershelp(source_names_stopwords#13971, target_names_stopwords#14023)#14039 AS final_score#14040]\n:        :     :                             +- Project [source_name#13912, target_name#13913, Entidad_Norm#13914, DenominacionSocial#13915, Provincia_Codigo#13916, NIF#13917, CodigoInvente#13918, FormaJuridica_Codigo#13919, FormaJuridica_Descripcion#13920, codigoDir3#13921, codigoOrigen#13922, DenominacionSocial_Norm#13923, aux#13986, source_names_stopwords#13971, array_join(target_names_stopwords#14004,  , None) AS target_names_stopwords#14023]\n:        :     :                                +- Project [source_name#13912, target_name#13913, Entidad_Norm#13914, DenominacionSocial#13915, Provincia_Codigo#13916, NIF#13917, CodigoInvente#13918, FormaJuridica_Codigo#13919, FormaJuridica_Descripcion#13920, codigoDir3#13921, codigoOrigen#13922, DenominacionSocial_Norm#13923, aux#13986, source_names_stopwords#13971, UDF(aux#13986) AS target_names_stopwords#14004]\n:        :     :                                   +- Project [source_name#13912, target_name#13913, Entidad_Norm#13914, DenominacionSocial#13915, Provincia_Codigo#13916, NIF#13917, CodigoInvente#13918, FormaJuridica_Codigo#13919, FormaJuridica_Descripcion#13920, codigoDir3#13921, codigoOrigen#13922, DenominacionSocial_Norm#13923, split(target_name#13913, \\s+, -1) AS aux#13986, source_names_stopwords#13971]\n:        :     :                                      +- Project [source_name#13912, target_name#13913, Entidad_Norm#13914, DenominacionSocial#13915, Provincia_Codigo#13916, NIF#13917, CodigoInvente#13918, FormaJuridica_Codigo#13919, FormaJuridica_Descripcion#13920, codigoDir3#13921, codigoOrigen#13922, DenominacionSocial_Norm#13923, aux#13936, array_join(source_names_stopwords#13953,  , None) AS source_names_stopwords#13971]\n:        :     :                                         +- Project [source_name#13912, target_name#13913, Entidad_Norm#13914, DenominacionSocial#13915, Provincia_Codigo#13916, NIF#13917, CodigoInvente#13918, FormaJuridica_Codigo#13919, FormaJuridica_Descripcion#13920, codigoDir3#13921, codigoOrigen#13922, DenominacionSocial_Norm#13923, aux#13936, UDF(aux#13936) AS source_names_stopwords#13953]\n:        :     :                                            +- Project [source_name#13912, target_name#13913, Entidad_Norm#13914, DenominacionSocial#13915, Provincia_Codigo#13916, NIF#13917, CodigoInvente#13918, FormaJuridica_Codigo#13919, FormaJuridica_Descripcion#13920, codigoDir3#13921, codigoOrigen#13922, DenominacionSocial_Norm#13923, split(source_name#13912, \\s+, -1) AS aux#13936]\n:        :     :                                               +- LogicalRDD [source_name#13912, target_name#13913, Entidad_Norm#13914, DenominacionSocial#13915, Provincia_Codigo#13916, NIF#13917, CodigoInvente#13918, FormaJuridica_Codigo#13919, FormaJuridica_Descripcion#13920, codigoDir3#13921, codigoOrigen#13922, DenominacionSocial_Norm#13923], false\n:        :     +- Project [Id#10956 AS Id#14619, Entidad_Norm#7034 AS Entidad_Norm#14620, ID_ENTIDAD#7148 AS ID_ENTIDAD#14621, NIF_COD#7206 AS NIF_COD#14622, ACRONIMO#7265 AS ACRONIMO#14623, NOMBRE_ENTIDAD#7325 AS NOMBRE_ENTIDAD#14624, Nombre_Entidad_Mostrar#7386 AS Nombre_Entidad_Mostrar#14625, TIPO_ENTIDAD_N1_1#7448 AS TIPO_ENTIDAD_N1_1#14626, TIPO_ENTIDAD_N2_1#7511 AS TIPO_ENTIDAD_N2_1#14627, DIRECCION_POSTAL#7575 AS DIRECCION_POSTAL#14628, COD_POSTAL#7640 AS COD_POSTAL#14629, COD_PROVINCIA#7706 AS COD_PROVINCIA#14630, PROVINCIA#7773 AS PROVINCIA#14631, COD_CCAA#7841 AS COD_CCAA#14632, CCAA#7910 AS CCAA#14633, ENLACE_WEB#7980 AS ENLACE_WEB#14634, SOMMA#8051 AS SOMMA#14635, TIPO_ENTIDAD_REGIONAL#8123 AS TIPO_ENTIDAD_REGIONAL#14636, ESTADO_x#8196 AS ESTADO_x#14637, C_ID_UD_ORGANICA#8898 AS C_ID_UD_ORGANICA#14638, C_DNM_UD_ORGANICA#8981 AS C_DNM_UD_ORGANICA#14639, C_ID_NIVEL_ADMON#9065 AS C_ID_NIVEL_ADMON#14640, C_ID_TIPO_ENT_PUBLICA#9150 AS C_ID_TIPO_ENT_PUBLICA#14641, N_NIVEL_JERARQUICO#9236 AS N_NIVEL_JERARQUICO#14642, ... 27 more fields]\n:        :        +- Filter isnull(final_score#14072)\n:        :           +- Join LeftOuter, (Entidad_Norm#7034 = Entidad_Norm#14609)\n:        :              :- Project [Id#10956, Entidad_Norm#7034, ID_ENTIDAD#7148, NIF_COD#7206, ACRONIMO#7265, NOMBRE_ENTIDAD#7325, Nombre_Entidad_Mostrar#7386, TIPO_ENTIDAD_N1_1#7448, TIPO_ENTIDAD_N2_1#7511, DIRECCION_POSTAL#7575, COD_POSTAL#7640, COD_PROVINCIA#7706, PROVINCIA#7773, COD_CCAA#7841, CCAA#7910, ENLACE_WEB#7980, SOMMA#8051, TIPO_ENTIDAD_REGIONAL#8123, ESTADO_x#8196, C_ID_UD_ORGANICA#8898, C_DNM_UD_ORGANICA#8981, C_ID_NIVEL_ADMON#9065, C_ID_TIPO_ENT_PUBLICA#9150, N_NIVEL_JERARQUICO#9236, ... 16 more fields]\n:        :              :  +- Project [Id#10956, CIF#6977, Entidad_Norm#7034, Provincia_Entidad#7091, ID_ENTIDAD#7148, NIF_COD#7206, ACRONIMO#7265, NOMBRE_ENTIDAD#7325, Nombre_Entidad_Mostrar#7386, TIPO_ENTIDAD_N1_1#7448, TIPO_ENTIDAD_N2_1#7511, DIRECCION_POSTAL#7575, COD_POSTAL#7640, COD_PROVINCIA#7706, PROVINCIA#7773, COD_CCAA#7841, CCAA#7910, ENLACE_WEB#7980, SOMMA#8051, TIPO_ENTIDAD_REGIONAL#8123, ESTADO_x#8196, CodigoInvente#8270, DenominacionSocial#8345, FormaJuridica_Codigo#8421, ... 26 more fields]\n:        :              :     +- Project [IdOld#10851, Entidad#14552, Origen_Solicitud#14553, Identificadores_Origen#14554, Entidad_Norm#7034, CIF#6977, CIF_validacion#14557, Centro#14558, Centro_Norm#14559, Tipo#14560, Provincia_Entidad#7091, Pais_Entidad#14562, Provincia_Centro#14563, PIC#14564, Tipo_Persona#14565, Entidad_Match#14566, Provincia_Match#14567, Match#14568, Id_NIVEL_1#14569, Id_NIVEL_0#14570, ID_ENTIDAD_NIVEL_0#14571, ID_ENTIDAD_NIVEL_1#14572, Jerarquia#14573, NIF_COD_NIVEL_0#14574, ... 79 more fields]\n:        :              :        +- Project [coalesce(Dummy#11070, Dummy#10962) AS Dummy#11174, IdOld#10851, Entidad#14552, Origen_Solicitud#14553, Identificadores_Origen#14554, Entidad_Norm#7034, CIF#6977, CIF_validacion#14557, Centro#14558, Centro_Norm#14559, Tipo#14560, Provincia_Entidad#7091, Pais_Entidad#14562, Provincia_Centro#14563, PIC#14564, Tipo_Persona#14565, Entidad_Match#14566, Provincia_Match#14567, Match#14568, Id_NIVEL_1#14569, Id_NIVEL_0#14570, ID_ENTIDAD_NIVEL_0#14571, ID_ENTIDAD_NIVEL_1#14572, Jerarquia#14573, ... 80 more fields]\n:        :              :           +- Join FullOuter, (Dummy#11070 = Dummy#10962)\n:        :              :              :- Project [IdOld#10851, Entidad#14552, Origen_Solicitud#14553, Identificadores_Origen#14554, Entidad_Norm#7034, CIF#6977, CIF_validacion#14557, Centro#14558, Centro_Norm#14559, Tipo#14560, Provincia_Entidad#7091, Pais_Entidad#14562, Provincia_Centro#14563, PIC#14564, Tipo_Persona#14565, Entidad_Match#14566, Provincia_Match#14567, Match#14568, Id_NIVEL_1#14569, Id_NIVEL_0#14570, ID_ENTIDAD_NIVEL_0#14571, ID_ENTIDAD_NIVEL_1#14572, Jerarquia#14573, NIF_COD_NIVEL_0#14574, ... 79 more fields]\n:        :              :              :  +- Project [IdOld#10851, Entidad#14552, Origen_Solicitud#14553, Identificadores_Origen#14554, Entidad_Norm#7034, CIF#6977, CIF_validacion#14557, Centro#14558, Centro_Norm#14559, Tipo#14560, Provincia_Entidad#7091, Pais_Entidad#14562, Provincia_Centro#14563, PIC#14564, Tipo_Persona#14565, Entidad_Match#14566, Provincia_Match#14567, Match#14568, Id_NIVEL_1#14569, Id_NIVEL_0#14570, ID_ENTIDAD_NIVEL_0#14571, ID_ENTIDAD_NIVEL_1#14572, Jerarquia#14573, NIF_COD_NIVEL_0#14574, ... 81 more fields]\n:        :              :              :     +- Window [row_number() windowspecdefinition(Dummy#10965L ASC NULLS FIRST, specifiedwindowframe(RowFrame, unboundedpreceding$(), currentrow$())) AS Dummy#11070], [Dummy#10965L ASC NULLS FIRST]\n:        :              :              :        +- Project [IdOld#10851, Entidad#14552, Origen_Solicitud#14553, Identificadores_Origen#14554, Entidad_Norm#7034, CIF#6977, CIF_validacion#14557, Centro#14558, Centro_Norm#14559, Tipo#14560, Provincia_Entidad#7091, Pais_Entidad#14562, Provincia_Centro#14563, PIC#14564, Tipo_Persona#14565, Entidad_Match#14566, Provincia_Match#14567, Match#14568, Id_NIVEL_1#14569, Id_NIVEL_0#14570, ID_ENTIDAD_NIVEL_0#14571, ID_ENTIDAD_NIVEL_1#14572, Jerarquia#14573, NIF_COD_NIVEL_0#14574, ... 79 more fields]\n:        :              :              :           +- Project [IdOld#10851, Entidad#14552, Origen_Solicitud#14553, Identificadores_Origen#14554, Entidad_Norm#7034, CIF#6977, CIF_validacion#14557, Centro#14558, Centro_Norm#14559, Tipo#14560, Provincia_Entidad#7091, Pais_Entidad#14562, Provincia_Centro#14563, PIC#14564, Tipo_Persona#14565, Entidad_Match#14566, Provincia_Match#14567, Match#14568, Id_NIVEL_1#14569, Id_NIVEL_0#14570, ID_ENTIDAD_NIVEL_0#14571, ID_ENTIDAD_NIVEL_1#14572, Jerarquia#14573, NIF_COD_NIVEL_0#14574, ... 79 more fields]\n:        :              :              :              +- Project [Id#14551 AS IdOld#10851, Entidad#14552, Origen_Solicitud#14553, Identificadores_Origen#14554, Entidad_Norm#7034, CIF#6977, CIF_validacion#14557, Centro#14558, Centro_Norm#14559, Tipo#14560, Provincia_Entidad#7091, Pais_Entidad#14562, Provincia_Centro#14563, PIC#14564, Tipo_Persona#14565, Entidad_Match#14566, Provincia_Match#14567, Match#14568, Id_NIVEL_1#14569, Id_NIVEL_0#14570, ID_ENTIDAD_NIVEL_0#14571, ID_ENTIDAD_NIVEL_1#14572, Jerarquia#14573, NIF_COD_NIVEL_0#14574, ... 78 more fields]\n:        :              :              :                 +- Project [Id#14551, Entidad#14552, Origen_Solicitud#14553, Identificadores_Origen#14554, Entidad_Norm#7034, CIF#6977, CIF_validacion#14557, Centro#14558, Centro_Norm#14559, Tipo#14560, Provincia_Entidad#7091, Pais_Entidad#14562, Provincia_Centro#14563, PIC#14564, Tipo_Persona#14565, Entidad_Match#14566, Provincia_Match#14567, Match#14568, Id_NIVEL_1#14569, Id_NIVEL_0#14570, ID_ENTIDAD_NIVEL_0#14571, ID_ENTIDAD_NIVEL_1#14572, Jerarquia#14573, NIF_COD_NIVEL_0#14574, ... 78 more fields]\n:        :              :              :                    +- Project [Id#14551, Entidad#14552, Origen_Solicitud#14553, Identificadores_Origen#14554, Entidad_Norm#7034, CIF#6977, CIF_validacion#14557, Centro#14558, Centro_Norm#14559, Tipo#14560, Provincia_Entidad#7091, Pais_Entidad#14562, Provincia_Centro#14563, PIC#14564, Tipo_Persona#14565, Entidad_Match#14566, Provincia_Match#14567, Match#14568, Id_NIVEL_1#14569, Id_NIVEL_0#14570, ID_ENTIDAD_NIVEL_0#14571, ID_ENTIDAD_NIVEL_1#14572, Jerarquia#14573, NIF_COD_NIVEL_0#14574, ... 77 more fields]\n:        :              :              :                       +- Project [Id#14551, Entidad#14552, Origen_Solicitud#14553, Identificadores_Origen#14554, Entidad_Norm#7034, CIF#6977, CIF_validacion#14557, Centro#14558, Centro_Norm#14559, Tipo#14560, Provincia_Entidad#7091, Pais_Entidad#14562, Provincia_Centro#14563, PIC#14564, Tipo_Persona#14565, Entidad_Match#14566, Provincia_Match#14567, Match#14568, Id_NIVEL_1#14569, Id_NIVEL_0#14570, ID_ENTIDAD_NIVEL_0#14571, ID_ENTIDAD_NIVEL_1#14572, Jerarquia#14573, NIF_COD_NIVEL_0#14574, ... 76 more fields]\n:        :              :              :                          +- Project [Id#14551, Entidad#14552, Origen_Solicitud#14553, Identificadores_Origen#14554, Entidad_Norm#7034, CIF#6977, CIF_validacion#14557, Centro#14558, Centro_Norm#14559, Tipo#14560, Provincia_Entidad#7091, Pais_Entidad#14562, Provincia_Centro#14563, PIC#14564, Tipo_Persona#14565, Entidad_Match#14566, Provincia_Match#14567, Match#14568, Id_NIVEL_1#14569, Id_NIVEL_0#14570, ID_ENTIDAD_NIVEL_0#14571, ID_ENTIDAD_NIVEL_1#14572, Jerarquia#14573, NIF_COD_NIVEL_0#14574, ... 75 more fields]\n:        :              :              :                             +- Project [Id#14551, Entidad#14552, Origen_Solicitud#14553, Identificadores_Origen#14554, Entidad_Norm#7034, CIF#6977, CIF_validacion#14557, Centro#14558, Centro_Norm#14559, Tipo#14560, Provincia_Entidad#7091, Pais_Entidad#14562, Provincia_Centro#14563, PIC#14564, Tipo_Persona#14565, Entidad_Match#14566, Provincia_Match#14567, Match#14568, Id_NIVEL_1#14569, Id_NIVEL_0#14570, ID_ENTIDAD_NIVEL_0#14571, ID_ENTIDAD_NIVEL_1#14572, Jerarquia#14573, NIF_COD_NIVEL_0#14574, ... 74 more fields]\n:        :              :              :                                +- Project [Id#14551, Entidad#14552, Origen_Solicitud#14553, Identificadores_Origen#14554, Entidad_Norm#7034, CIF#6977, CIF_validacion#14557, Centro#14558, Centro_Norm#14559, Tipo#14560, Provincia_Entidad#7091, Pais_Entidad#14562, Provincia_Centro#14563, PIC#14564, Tipo_Persona#14565, Entidad_Match#14566, Provincia_Match#14567, Match#14568, Id_NIVEL_1#14569, Id_NIVEL_0#14570, ID_ENTIDAD_NIVEL_0#14571, ID_ENTIDAD_NIVEL_1#14572, Jerarquia#14573, NIF_COD_NIVEL_0#14574, ... 73 more fields]\n:        :              :              :                                   +- Project [Id#14551, Entidad#14552, Origen_Solicitud#14553, Identificadores_Origen#14554, Entidad_Norm#7034, CIF#6977, CIF_validacion#14557, Centro#14558, Centro_Norm#14559, Tipo#14560, Provincia_Entidad#7091, Pais_Entidad#14562, Provincia_Centro#14563, PIC#14564, Tipo_Persona#14565, Entidad_Match#14566, Provincia_Match#14567, Match#14568, Id_NIVEL_1#14569, Id_NIVEL_0#14570, ID_ENTIDAD_NIVEL_0#14571, ID_ENTIDAD_NIVEL_1#14572, Jerarquia#14573, NIF_COD_NIVEL_0#14574, ... 72 more fields]\n:        :              :              :                                      +- Project [Id#14551, Entidad#14552, Origen_Solicitud#14553, Identificadores_Origen#14554, Entidad_Norm#7034, CIF#6977, CIF_validacion#14557, Centro#14558, Centro_Norm#14559, Tipo#14560, Provincia_Entidad#7091, Pais_Entidad#14562, Provincia_Centro#14563, PIC#14564, Tipo_Persona#14565, Entidad_Match#14566, Provincia_Match#14567, Match#14568, Id_NIVEL_1#14569, Id_NIVEL_0#14570, ID_ENTIDAD_NIVEL_0#14571, ID_ENTIDAD_NIVEL_1#14572, Jerarquia#14573, NIF_COD_NIVEL_0#14574, ... 71 more fields]\n:        :              :              :                                         +- Project [Id#14551, Entidad#14552, Origen_Solicitud#14553, Identificadores_Origen#14554, Entidad_Norm#7034, CIF#6977, CIF_validacion#14557, Centro#14558, Centro_Norm#14559, Tipo#14560, Provincia_Entidad#7091, Pais_Entidad#14562, Provincia_Centro#14563, PIC#14564, Tipo_Persona#14565, Entidad_Match#14566, Provincia_Match#14567, Match#14568, Id_NIVEL_1#14569, Id_NIVEL_0#14570, ID_ENTIDAD_NIVEL_0#14571, ID_ENTIDAD_NIVEL_1#14572, Jerarquia#14573, NIF_COD_NIVEL_0#14574, ... 70 more fields]\n:        :              :              :                                            +- Project [Id#14551, Entidad#14552, Origen_Solicitud#14553, Identificadores_Origen#14554, Entidad_Norm#7034, CIF#6977, CIF_validacion#14557, Centro#14558, Centro_Norm#14559, Tipo#14560, Provincia_Entidad#7091, Pais_Entidad#14562, Provincia_Centro#14563, PIC#14564, Tipo_Persona#14565, Entidad_Match#14566, Provincia_Match#14567, Match#14568, Id_NIVEL_1#14569, Id_NIVEL_0#14570, ID_ENTIDAD_NIVEL_0#14571, ID_ENTIDAD_NIVEL_1#14572, Jerarquia#14573, NIF_COD_NIVEL_0#14574, ... 69 more fields]\n:        :              :              :                                               +- Project [Id#14551, Entidad#14552, Origen_Solicitud#14553, Identificadores_Origen#14554, Entidad_Norm#7034, CIF#6977, CIF_validacion#14557, Centro#14558, Centro_Norm#14559, Tipo#14560, Provincia_Entidad#7091, Pais_Entidad#14562, Provincia_Centro#14563, PIC#14564, Tipo_Persona#14565, Entidad_Match#14566, Provincia_Match#14567, Match#14568, Id_NIVEL_1#14569, Id_NIVEL_0#14570, ID_ENTIDAD_NIVEL_0#14571, ID_ENTIDAD_NIVEL_1#14572, Jerarquia#14573, NIF_COD_NIVEL_0#14574, ... 68 more fields]\n:        :              :              :                                                  +- Project [Id#14551, Entidad#14552, Origen_Solicitud#14553, Identificadores_Origen#14554, Entidad_Norm#7034, CIF#6977, CIF_validacion#14557, Centro#14558, Centro_Norm#14559, Tipo#14560, Provincia_Entidad#7091, Pais_Entidad#14562, Provincia_Centro#14563, PIC#14564, Tipo_Persona#14565, Entidad_Match#14566, Provincia_Match#14567, Match#14568, Id_NIVEL_1#14569, Id_NIVEL_0#14570, ID_ENTIDAD_NIVEL_0#14571, ID_ENTIDAD_NIVEL_1#14572, Jerarquia#14573, NIF_COD_NIVEL_0#14574, ... 67 more fields]\n:        :              :              :                                                     +- Project [Id#14551, Entidad#14552, Origen_Solicitud#14553, Identificadores_Origen#14554, Entidad_Norm#7034, CIF#6977, CIF_validacion#14557, Centro#14558, Centro_Norm#14559, Tipo#14560, Provincia_Entidad#7091, Pais_Entidad#14562, Provincia_Centro#14563, PIC#14564, Tipo_Persona#14565, Entidad_Match#14566, Provincia_Match#14567, Match#14568, Id_NIVEL_1#14569, Id_NIVEL_0#14570, ID_ENTIDAD_NIVEL_0#14571, ID_ENTIDAD_NIVEL_1#14572, Jerarquia#14573, NIF_COD_NIVEL_0#14574, ... 66 more fields]\n:        :              :              :                                                        +- Project [Id#14551, Entidad#14552, Origen_Solicitud#14553, Identificadores_Origen#14554, Entidad_Norm#7034, CIF#6977, CIF_validacion#14557, Centro#14558, Centro_Norm#14559, Tipo#14560, Provincia_Entidad#7091, Pais_Entidad#14562, Provincia_Centro#14563, PIC#14564, Tipo_Persona#14565, Entidad_Match#14566, Provincia_Match#14567, Match#14568, Id_NIVEL_1#14569, Id_NIVEL_0#14570, ID_ENTIDAD_NIVEL_0#14571, ID_ENTIDAD_NIVEL_1#14572, Jerarquia#14573, NIF_COD_NIVEL_0#14574, ... 65 more fields]\n:        :              :              :                                                           +- Project [Id#14551, Entidad#14552, Origen_Solicitud#14553, Identificadores_Origen#14554, Entidad_Norm#7034, CIF#6977, CIF_validacion#14557, Centro#14558, Centro_Norm#14559, Tipo#14560, Provincia_Entidad#7091, Pais_Entidad#14562, Provincia_Centro#14563, PIC#14564, Tipo_Persona#14565, Entidad_Match#14566, Provincia_Match#14567, Match#14568, Id_NIVEL_1#14569, Id_NIVEL_0#14570, ID_ENTIDAD_NIVEL_0#14571, ID_ENTIDAD_NIVEL_1#14572, Jerarquia#14573, NIF_COD_NIVEL_0#14574, ... 64 more fields]\n:        :              :              :                                                              +- Project [Id#14551, Entidad#14552, Origen_Solicitud#14553, Identificadores_Origen#14554, Entidad_Norm#7034, CIF#6977, CIF_validacion#14557, Centro#14558, Centro_Norm#14559, Tipo#14560, Provincia_Entidad#7091, Pais_Entidad#14562, Provincia_Centro#14563, PIC#14564, Tipo_Persona#14565, Entidad_Match#14566, Provincia_Match#14567, Match#14568, Id_NIVEL_1#14569, Id_NIVEL_0#14570, ID_ENTIDAD_NIVEL_0#14571, ID_ENTIDAD_NIVEL_1#14572, Jerarquia#14573, NIF_COD_NIVEL_0#14574, ... 63 more fields]\n:        :              :              :                                                                 +- Project [Id#14551, Entidad#14552, Origen_Solicitud#14553, Identificadores_Origen#14554, Entidad_Norm#7034, CIF#6977, CIF_validacion#14557, Centro#14558, Centro_Norm#14559, Tipo#14560, Provincia_Entidad#7091, Pais_Entidad#14562, Provincia_Centro#14563, PIC#14564, Tipo_Persona#14565, Entidad_Match#14566, Provincia_Match#14567, Match#14568, Id_NIVEL_1#14569, Id_NIVEL_0#14570, ID_ENTIDAD_NIVEL_0#14571, ID_ENTIDAD_NIVEL_1#14572, Jerarquia#14573, NIF_COD_NIVEL_0#14574, ... 62 more fields]\n:        :              :              :                                                                    +- Project [Id#14551, Entidad#14552, Origen_Solicitud#14553, Identificadores_Origen#14554, Entidad_Norm#7034, CIF#6977, CIF_validacion#14557, Centro#14558, Centro_Norm#14559, Tipo#14560, Provincia_Entidad#7091, Pais_Entidad#14562, Provincia_Centro#14563, PIC#14564, Tipo_Persona#14565, Entidad_Match#14566, Provincia_Match#14567, Match#14568, Id_NIVEL_1#14569, Id_NIVEL_0#14570, ID_ENTIDAD_NIVEL_0#14571, ID_ENTIDAD_NIVEL_1#14572, Jerarquia#14573, NIF_COD_NIVEL_0#14574, ... 61 more fields]\n:        :              :              :                                                                       +- Project [Id#14551, Entidad#14552, Origen_Solicitud#14553, Identificadores_Origen#14554, Entidad_Norm#7034, CIF#6977, CIF_validacion#14557, Centro#14558, Centro_Norm#14559, Tipo#14560, Provincia_Entidad#7091, Pais_Entidad#14562, Provincia_Centro#14563, PIC#14564, Tipo_Persona#14565, Entidad_Match#14566, Provincia_Match#14567, Match#14568, Id_NIVEL_1#14569, Id_NIVEL_0#14570, ID_ENTIDAD_NIVEL_0#14571, ID_ENTIDAD_NIVEL_1#14572, Jerarquia#14573, NIF_COD_NIVEL_0#14574, ... 60 more fields]\n:        :              :              :                                                                          +- Project [Id#14551, Entidad#14552, Origen_Solicitud#14553, Identificadores_Origen#14554, Entidad_Norm#7034, CIF#6977, CIF_validacion#14557, Centro#14558, Centro_Norm#14559, Tipo#14560, Provincia_Entidad#7091, Pais_Entidad#14562, Provincia_Centro#14563, PIC#14564, Tipo_Persona#14565, Entidad_Match#14566, Provincia_Match#14567, Match#14568, Id_NIVEL_1#14569, Id_NIVEL_0#14570, ID_ENTIDAD_NIVEL_0#14571, ID_ENTIDAD_NIVEL_1#14572, Jerarquia#14573, NIF_COD_NIVEL_0#14574, ... 59 more fields]\n:        :              :              :                                                                             +- Project [Id#14551, Entidad#14552, Origen_Solicitud#14553, Identificadores_Origen#14554, Entidad_Norm#7034, CIF#6977, CIF_validacion#14557, Centro#14558, Centro_Norm#14559, Tipo#14560, Provincia_Entidad#7091, Pais_Entidad#14562, Provincia_Centro#14563, PIC#14564, Tipo_Persona#14565, Entidad_Match#14566, Provincia_Match#14567, Match#14568, Id_NIVEL_1#14569, Id_NIVEL_0#14570, ID_ENTIDAD_NIVEL_0#14571, ID_ENTIDAD_NIVEL_1#14572, Jerarquia#14573, NIF_COD_NIVEL_0#14574, ... 58 more fields]\n:        :              :              :                                                                                +- Project [Id#14551, Entidad#14552, Origen_Solicitud#14553, Identificadores_Origen#14554, Entidad_Norm#7034, CIF#6977, CIF_validacion#14557, Centro#14558, Centro_Norm#14559, Tipo#14560, Provincia_Entidad#7091, Pais_Entidad#14562, Provincia_Centro#14563, PIC#14564, Tipo_Persona#14565, Entidad_Match#14566, Provincia_Match#14567, Match#14568, Id_NIVEL_1#14569, Id_NIVEL_0#14570, ID_ENTIDAD_NIVEL_0#14571, ID_ENTIDAD_NIVEL_1#14572, Jerarquia#14573, NIF_COD_NIVEL_0#14574, ... 57 more fields]\n:        :              :              :                                                                                   +- Project [Id#14551, Entidad#14552, Origen_Solicitud#14553, Identificadores_Origen#14554, Entidad_Norm#7034, CIF#6977, CIF_validacion#14557, Centro#14558, Centro_Norm#14559, Tipo#14560, Provincia_Entidad#7091, Pais_Entidad#14562, Provincia_Centro#14563, PIC#14564, Tipo_Persona#14565, Entidad_Match#14566, Provincia_Match#14567, Match#14568, Id_NIVEL_1#14569, Id_NIVEL_0#14570, ID_ENTIDAD_NIVEL_0#14571, ID_ENTIDAD_NIVEL_1#14572, Jerarquia#14573, NIF_COD_NIVEL_0#14574, ... 56 more fields]\n:        :              :              :                                                                                      +- Project [Id#14551, Entidad#14552, Origen_Solicitud#14553, Identificadores_Origen#14554, Entidad_Norm#7034, CIF#6977, CIF_validacion#14557, Centro#14558, Centro_Norm#14559, Tipo#14560, Provincia_Entidad#7091, Pais_Entidad#14562, Provincia_Centro#14563, PIC#14564, Tipo_Persona#14565, Entidad_Match#14566, Provincia_Match#14567, Match#14568, Id_NIVEL_1#14569, Id_NIVEL_0#14570, ID_ENTIDAD_NIVEL_0#14571, ID_ENTIDAD_NIVEL_1#14572, Jerarquia#14573, NIF_COD_NIVEL_0#14574, ... 55 more fields]\n:        :              :              :                                                                                         +- Project [Id#14551, Entidad#14552, Origen_Solicitud#14553, Identificadores_Origen#14554, Entidad_Norm#7034, CIF#6977, CIF_validacion#14557, Centro#14558, Centro_Norm#14559, Tipo#14560, Provincia_Entidad#7091, Pais_Entidad#14562, Provincia_Centro#14563, PIC#14564, Tipo_Persona#14565, Entidad_Match#14566, Provincia_Match#14567, Match#14568, Id_NIVEL_1#14569, Id_NIVEL_0#14570, ID_ENTIDAD_NIVEL_0#14571, ID_ENTIDAD_NIVEL_1#14572, Jerarquia#14573, NIF_COD_NIVEL_0#14574, ... 54 more fields]\n:        :              :              :                                                                                            +- Project [Id#14551, Entidad#14552, Origen_Solicitud#14553, Identificadores_Origen#14554, Entidad_Norm#7034, CIF#6977, CIF_validacion#14557, Centro#14558, Centro_Norm#14559, Tipo#14560, Provincia_Entidad#7091, Pais_Entidad#14562, Provincia_Centro#14563, PIC#14564, Tipo_Persona#14565, Entidad_Match#14566, Provincia_Match#14567, Match#14568, Id_NIVEL_1#14569, Id_NIVEL_0#14570, ID_ENTIDAD_NIVEL_0#14571, ID_ENTIDAD_NIVEL_1#14572, Jerarquia#14573, NIF_COD_NIVEL_0#14574, ... 53 more fields]\n:        :              :              :                                                                                               +- Project [Id#14551, Entidad#14552, Origen_Solicitud#14553, Identificadores_Origen#14554, Entidad_Norm#7034, CIF#6977, CIF_validacion#14557, Centro#14558, Centro_Norm#14559, Tipo#14560, Provincia_Entidad#7091, Pais_Entidad#14562, Provincia_Centro#14563, PIC#14564, Tipo_Persona#14565, Entidad_Match#14566, Provincia_Match#14567, Match#14568, Id_NIVEL_1#14569, Id_NIVEL_0#14570, ID_ENTIDAD_NIVEL_0#14571, ID_ENTIDAD_NIVEL_1#14572, Jerarquia#14573, NIF_COD_NIVEL_0#14574, ... 52 more fields]\n:        :              :              :                                                                                                  +- Project [Id#14551, Entidad#14552, Origen_Solicitud#14553, Identificadores_Origen#14554, Entidad_Norm#7034, CIF#6977, CIF_validacion#14557, Centro#14558, Centro_Norm#14559, Tipo#14560, Provincia_Entidad#7091, Pais_Entidad#14562, Provincia_Centro#14563, PIC#14564, Tipo_Persona#14565, Entidad_Match#14566, Provincia_Match#14567, Match#14568, Id_NIVEL_1#14569, Id_NIVEL_0#14570, ID_ENTIDAD_NIVEL_0#14571, ID_ENTIDAD_NIVEL_1#14572, Jerarquia#14573, NIF_COD_NIVEL_0#14574, ... 51 more fields]\n:        :              :              :                                                                                                     +- Project [Id#14551, Entidad#14552, Origen_Solicitud#14553, Identificadores_Origen#14554, Entidad_Norm#7034, CIF#6977, CIF_validacion#14557, Centro#14558, Centro_Norm#14559, Tipo#14560, Provincia_Entidad#7091, Pais_Entidad#14562, Provincia_Centro#14563, PIC#14564, Tipo_Persona#14565, Entidad_Match#14566, Provincia_Match#14567, Match#14568, Id_NIVEL_1#14569, Id_NIVEL_0#14570, ID_ENTIDAD_NIVEL_0#14571, ID_ENTIDAD_NIVEL_1#14572, Jerarquia#14573, NIF_COD_NIVEL_0#14574, ... 50 more fields]\n:        :              :              :                                                                                                        +- Project [Id#14551, Entidad#14552, Origen_Solicitud#14553, Identificadores_Origen#14554, Entidad_Norm#7034, CIF#6977, CIF_validacion#14557, Centro#14558, Centro_Norm#14559, Tipo#14560, Provincia_Entidad#7091, Pais_Entidad#14562, Provincia_Centro#14563, PIC#14564, Tipo_Persona#14565, Entidad_Match#14566, Provincia_Match#14567, Match#14568, Id_NIVEL_1#14569, Id_NIVEL_0#14570, ID_ENTIDAD_NIVEL_0#14571, ID_ENTIDAD_NIVEL_1#14572, Jerarquia#14573, NIF_COD_NIVEL_0#14574, ... 49 more fields]\n:        :              :              :                                                                                                           +- Project [Id#14551, Entidad#14552, Origen_Solicitud#14553, Identificadores_Origen#14554, Entidad_Norm#7034, CIF#6977, CIF_validacion#14557, Centro#14558, Centro_Norm#14559, Tipo#14560, Provincia_Entidad#7091, Pais_Entidad#14562, Provincia_Centro#14563, PIC#14564, Tipo_Persona#14565, Entidad_Match#14566, Provincia_Match#14567, Match#14568, Id_NIVEL_1#14569, Id_NIVEL_0#14570, ID_ENTIDAD_NIVEL_0#14571, ID_ENTIDAD_NIVEL_1#14572, Jerarquia#14573, NIF_COD_NIVEL_0#14574, ... 48 more fields]\n:        :              :              :                                                                                                              +- Project [Id#14551, Entidad#14552, Origen_Solicitud#14553, Identificadores_Origen#14554, Entidad_Norm#7034, CIF#6977, CIF_validacion#14557, Centro#14558, Centro_Norm#14559, Tipo#14560, Provincia_Entidad#7091, Pais_Entidad#14562, Provincia_Centro#14563, PIC#14564, Tipo_Persona#14565, Entidad_Match#14566, Provincia_Match#14567, Match#14568, Id_NIVEL_1#14569, Id_NIVEL_0#14570, ID_ENTIDAD_NIVEL_0#14571, ID_ENTIDAD_NIVEL_1#14572, Jerarquia#14573, NIF_COD_NIVEL_0#14574, ... 47 more fields]\n:        :              :              :                                                                                                                 +- Project [Id#14551, Entidad#14552, Origen_Solicitud#14553, Identificadores_Origen#14554, Entidad_Norm#7034, CIF#6977, CIF_validacion#14557, Centro#14558, Centro_Norm#14559, Tipo#14560, Provincia_Entidad#7091, Pais_Entidad#14562, Provincia_Centro#14563, PIC#14564, Tipo_Persona#14565, Entidad_Match#14566, Provincia_Match#14567, Match#14568, Id_NIVEL_1#14569, Id_NIVEL_0#14570, ID_ENTIDAD_NIVEL_0#14571, ID_ENTIDAD_NIVEL_1#14572, Jerarquia#14573, NIF_COD_NIVEL_0#14574, ... 46 more fields]\n:        :              :              :                                                                                                                    +- Project [Id#14551, Entidad#14552, Origen_Solicitud#14553, Identificadores_Origen#14554, Entidad_Norm#7034, CIF#6977, CIF_validacion#14557, Centro#14558, Centro_Norm#14559, Tipo#14560, Provincia_Entidad#7091, Pais_Entidad#14562, Provincia_Centro#14563, PIC#14564, Tipo_Persona#14565, Entidad_Match#14566, Provincia_Match#14567, Match#14568, Id_NIVEL_1#14569, Id_NIVEL_0#14570, ID_ENTIDAD_NIVEL_0#14571, ID_ENTIDAD_NIVEL_1#14572, Jerarquia#14573, NIF_COD_NIVEL_0#14574, ... 45 more fields]\n:        :              :              :                                                                                                                       +- Project [Id#14551, Entidad#14552, Origen_Solicitud#14553, Identificadores_Origen#14554, Entidad_Norm#7034, CIF#6977, CIF_validacion#14557, Centro#14558, Centro_Norm#14559, Tipo#14560, Provincia_Entidad#7091, Pais_Entidad#14562, Provincia_Centro#14563, PIC#14564, Tipo_Persona#14565, Entidad_Match#14566, Provincia_Match#14567, Match#14568, Id_NIVEL_1#14569, Id_NIVEL_0#14570, ID_ENTIDAD_NIVEL_0#14571, ID_ENTIDAD_NIVEL_1#14572, Jerarquia#14573, NIF_COD_NIVEL_0#14574, ... 44 more fields]\n:        :              :              :                                                                                                                          +- Project [Id#14551, Entidad#14552, Origen_Solicitud#14553, Identificadores_Origen#14554, Entidad_Norm#7034, CIF#6977, CIF_validacion#14557, Centro#14558, Centro_Norm#14559, Tipo#14560, Provincia_Entidad#7091, Pais_Entidad#14562, Provincia_Centro#14563, PIC#14564, Tipo_Persona#14565, Entidad_Match#14566, Provincia_Match#14567, Match#14568, Id_NIVEL_1#14569, Id_NIVEL_0#14570, ID_ENTIDAD_NIVEL_0#14571, ID_ENTIDAD_NIVEL_1#14572, Jerarquia#14573, NIF_COD_NIVEL_0#14574, ... 43 more fields]\n:        :              :              :                                                                                                                             +- Project [Id#14551, Entidad#14552, Origen_Solicitud#14553, Identificadores_Origen#14554, Entidad_Norm#7034, CIF#6977, CIF_validacion#14557, Centro#14558, Centro_Norm#14559, Tipo#14560, Provincia_Entidad#7091, Pais_Entidad#14562, Provincia_Centro#14563, PIC#14564, Tipo_Persona#14565, Entidad_Match#14566, Provincia_Match#14567, Match#14568, Id_NIVEL_1#14569, Id_NIVEL_0#14570, ID_ENTIDAD_NIVEL_0#14571, ID_ENTIDAD_NIVEL_1#14572, Jerarquia#14573, NIF_COD_NIVEL_0#14574, ... 42 more fields]\n:        :              :              :                                                                                                                                +- Project [Id#14551, Entidad#14552, Origen_Solicitud#14553, Identificadores_Origen#14554, Entidad_Norm#7034, CIF#6977, CIF_validacion#14557, Centro#14558, Centro_Norm#14559, Tipo#14560, Provincia_Entidad#7091, Pais_Entidad#14562, Provincia_Centro#14563, PIC#14564, Tipo_Persona#14565, Entidad_Match#14566, Provincia_Match#14567, Match#14568, Id_NIVEL_1#14569, Id_NIVEL_0#14570, ID_ENTIDAD_NIVEL_0#14571, ID_ENTIDAD_NIVEL_1#14572, Jerarquia#14573, NIF_COD_NIVEL_0#14574, ... 41 more fields]\n:        :              :              :                                                                                                                                   +- Project [Id#14551, Entidad#14552, Origen_Solicitud#14553, Identificadores_Origen#14554, Entidad_Norm#7034, CIF#6977, CIF_validacion#14557, Centro#14558, Centro_Norm#14559, Tipo#14560, Provincia_Entidad#7091, Pais_Entidad#14562, Provincia_Centro#14563, PIC#14564, Tipo_Persona#14565, Entidad_Match#14566, Provincia_Match#14567, Match#14568, Id_NIVEL_1#14569, Id_NIVEL_0#14570, ID_ENTIDAD_NIVEL_0#14571, ID_ENTIDAD_NIVEL_1#14572, Jerarquia#14573, NIF_COD_NIVEL_0#14574, ... 40 more fields]\n:        :              :              :                                                                                                                                      +- Project [Id#14551, Entidad#14552, Origen_Solicitud#14553, Identificadores_Origen#14554, Entidad_Norm#7034, CIF#6977, CIF_validacion#14557, Centro#14558, Centro_Norm#14559, Tipo#14560, Provincia_Entidad#7091, Pais_Entidad#14562, Provincia_Centro#14563, PIC#14564, Tipo_Persona#14565, Entidad_Match#14566, Provincia_Match#14567, Match#14568, Id_NIVEL_1#14569, Id_NIVEL_0#14570, ID_ENTIDAD_NIVEL_0#14571, ID_ENTIDAD_NIVEL_1#14572, Jerarquia#14573, NIF_COD_NIVEL_0#14574, ... 39 more fields]\n:        :              :              :                                                                                                                                         +- Project [Id#14551, Entidad#14552, Origen_Solicitud#14553, Identificadores_Origen#14554, Entidad_Norm#7034, CIF#6977, CIF_validacion#14557, Centro#14558, Centro_Norm#14559, Tipo#14560, Provincia_Entidad#7091, Pais_Entidad#14562, Provincia_Centro#14563, PIC#14564, Tipo_Persona#14565, Entidad_Match#14566, Provincia_Match#14567, Match#14568, Id_NIVEL_1#14569, Id_NIVEL_0#14570, ID_ENTIDAD_NIVEL_0#14571, ID_ENTIDAD_NIVEL_1#14572, Jerarquia#14573, NIF_COD_NIVEL_0#14574, ... 38 more fields]\n:        :              :              :                                                                                                                                            +- Project [Id#14551, Entidad#14552, Origen_Solicitud#14553, Identificadores_Origen#14554, Entidad_Norm#7034, CIF#6977, CIF_validacion#14557, Centro#14558, Centro_Norm#14559, Tipo#14560, Provincia_Entidad#7091, Pais_Entidad#14562, Provincia_Centro#14563, PIC#14564, Tipo_Persona#14565, Entidad_Match#14566, Provincia_Match#14567, Match#14568, Id_NIVEL_1#14569, Id_NIVEL_0#14570, ID_ENTIDAD_NIVEL_0#14571, ID_ENTIDAD_NIVEL_1#14572, Jerarquia#14573, NIF_COD_NIVEL_0#14574, ... 37 more fields]\n:        :              :              :                                                                                                                                               +- Project [Id#14551, Entidad#14552, Origen_Solicitud#14553, Identificadores_Origen#14554, Entidad_Norm#7034, CIF#6977, CIF_validacion#14557, Centro#14558, Centro_Norm#14559, Tipo#14560, Provincia_Entidad#7091, Pais_Entidad#14562, Provincia_Centro#14563, PIC#14564, Tipo_Persona#14565, Entidad_Match#14566, Provincia_Match#14567, Match#14568, Id_NIVEL_1#14569, Id_NIVEL_0#14570, ID_ENTIDAD_NIVEL_0#14571, ID_ENTIDAD_NIVEL_1#14572, Jerarquia#14573, NIF_COD_NIVEL_0#14574, ... 36 more fields]\n:        :              :              :                                                                                                                                                  +- Project [Id#14551, Entidad#14552, Origen_Solicitud#14553, Identificadores_Origen#14554, Entidad_Norm#7034, CIF#6977, CIF_validacion#14557, Centro#14558, Centro_Norm#14559, Tipo#14560, Provincia_Entidad#7091, Pais_Entidad#14562, Provincia_Centro#14563, PIC#14564, Tipo_Persona#14565, Entidad_Match#14566, Provincia_Match#14567, Match#14568, Id_NIVEL_1#14569, Id_NIVEL_0#14570, ID_ENTIDAD_NIVEL_0#14571, ID_ENTIDAD_NIVEL_1#14572, Jerarquia#14573, NIF_COD_NIVEL_0#14574, ... 35 more fields]\n:        :              :              :                                                                                                                                                     +- Project [Id#14551, Entidad#14552, Origen_Solicitud#14553, Identificadores_Origen#14554, Entidad_Norm#7034, CIF#6977, CIF_validacion#14557, Centro#14558, Centro_Norm#14559, Tipo#14560, Provincia_Entidad#7091, Pais_Entidad#14562, Provincia_Centro#14563, PIC#14564, Tipo_Persona#14565, Entidad_Match#14566, Provincia_Match#14567, Match#14568, Id_NIVEL_1#14569, Id_NIVEL_0#14570, ID_ENTIDAD_NIVEL_0#14571, ID_ENTIDAD_NIVEL_1#14572, Jerarquia#14573, NIF_COD_NIVEL_0#14574, ... 34 more fields]\n:        :              :              :                                                                                                                                                        +- Project [Id#14551, Entidad#14552, Origen_Solicitud#14553, Identificadores_Origen#14554, Entidad_Norm#7034, CIF#6977, CIF_validacion#14557, Centro#14558, Centro_Norm#14559, Tipo#14560, Provincia_Entidad#7091, Pais_Entidad#14562, Provincia_Centro#14563, PIC#14564, Tipo_Persona#14565, Entidad_Match#14566, Provincia_Match#14567, Match#14568, Id_NIVEL_1#14569, Id_NIVEL_0#14570, ID_ENTIDAD_NIVEL_0#14571, ID_ENTIDAD_NIVEL_1#14572, Jerarquia#14573, NIF_COD_NIVEL_0#14574, ... 33 more fields]\n:        :              :              :                                                                                                                                                           +- Project [Id#14551, Entidad#14552, Origen_Solicitud#14553, Identificadores_Origen#14554, Entidad_Norm#7034, CIF#6977, CIF_validacion#14557, Centro#14558, Centro_Norm#14559, Tipo#14560, Provincia_Centro#14563 AS Provincia_Entidad#7091, Pais_Entidad#14562, Provincia_Centro#14563, PIC#14564, Tipo_Persona#14565, Entidad_Match#14566, Provincia_Match#14567, Match#14568, Id_NIVEL_1#14569, Id_NIVEL_0#14570, ID_ENTIDAD_NIVEL_0#14571, ID_ENTIDAD_NIVEL_1#14572, Jerarquia#14573, NIF_COD_NIVEL_0#14574, ... 32 more fields]\n:        :              :              :                                                                                                                                                              +- Project [Id#14551, Entidad#14552, Origen_Solicitud#14553, Identificadores_Origen#14554, Centro_Norm#14559 AS Entidad_Norm#7034, CIF#6977, CIF_validacion#14557, Centro#14558, Centro_Norm#14559, Tipo#14560, Provincia_Entidad#14561, Pais_Entidad#14562, Provincia_Centro#14563, PIC#14564, Tipo_Persona#14565, Entidad_Match#14566, Provincia_Match#14567, Match#14568, Id_NIVEL_1#14569, Id_NIVEL_0#14570, ID_ENTIDAD_NIVEL_0#14571, ID_ENTIDAD_NIVEL_1#14572, Jerarquia#14573, NIF_COD_NIVEL_0#14574, ... 32 more fields]\n:        :              :              :                                                                                                                                                                 +- Project [Id#14551, Entidad#14552, Origen_Solicitud#14553, Identificadores_Origen#14554, Entidad_Norm#14555, cast(null as string) AS CIF#6977, CIF_validacion#14557, Centro#14558, Centro_Norm#14559, Tipo#14560, Provincia_Entidad#14561, Pais_Entidad#14562, Provincia_Centro#14563, PIC#14564, Tipo_Persona#14565, Entidad_Match#14566, Provincia_Match#14567, Match#14568, Id_NIVEL_1#14569, Id_NIVEL_0#14570, ID_ENTIDAD_NIVEL_0#14571, ID_ENTIDAD_NIVEL_1#14572, Jerarquia#14573, NIF_COD_NIVEL_0#14574, ... 32 more fields]\n:        :              :              :                                                                                                                                                                    +- Filter (cast(Similitud#6866 as double) < cast(0.875 as double))\n:        :              :              :                                                                                                                                                                       +- Project [Id#14551, Entidad#14552, Origen_Solicitud#14553, Identificadores_Origen#14554, Entidad_Norm#14555, CIF#14556, CIF_validacion#14557, Centro#14558, Centro_Norm#14559, Tipo#14560, Provincia_Entidad#14561, Pais_Entidad#14562, Provincia_Centro#14563, PIC#14564, Tipo_Persona#14565, Entidad_Match#14566, Provincia_Match#14567, Match#14568, Id_NIVEL_1#14569, Id_NIVEL_0#14570, ID_ENTIDAD_NIVEL_0#14571, ID_ENTIDAD_NIVEL_1#14572, Jerarquia#14573, NIF_COD_NIVEL_0#14574, ... 32 more fields]\n:        :              :              :                                                                                                                                                                          +- Filter isnotnull(Id_NIVEL_0#14570)\n:        :              :              :                                                                                                                                                                             +- Deduplicate [Pais_Entidad#14562, Id#14551, Centro_Norm#14559, Entidad_Norm#14555, Entidad_Match#14566, Centro#14558, Identificadores_Origen#14554, Tipo#14560, Origen_Solicitud#14553, Entidad#14552, CIF_validacion#14557, Tipo_Persona#14565, Provincia_Match#14567, PIC#14564, CIF#14556, Provincia_Entidad#14561, Provincia_Centro#14563, Match#14568]\n:        :              :              :                                                                                                                                                                                +- Join LeftOuter, (Id#14551 = Id_NIVEL_0#14570)\n:        :              :              :                                                                                                                                                                                   :- Relation [Id#14551,Entidad#14552,Origen_Solicitud#14553,Identificadores_Origen#14554,Entidad_Norm#14555,CIF#14556,CIF_validacion#14557,Centro#14558,Centro_Norm#14559,Tipo#14560,Provincia_Entidad#14561,Pais_Entidad#14562,Provincia_Centro#14563,PIC#14564,Tipo_Persona#14565,Entidad_Match#14566,Provincia_Match#14567,Match#14568] csv\n:        :              :              :                                                                                                                                                                                   +- Relation [Id_NIVEL_1#14569,Id_NIVEL_0#14570,ID_ENTIDAD_NIVEL_0#14571,ID_ENTIDAD_NIVEL_1#14572,Jerarquia#14573,NIF_COD_NIVEL_0#14574,ACRONIMO_NIVEL_0#14575,NOMBRE_ENTIDAD_NIVEL_0#14576,Nombre_Entidad_Mostrar_NIVEL_0#14577,TIPO_ENTIDAD_N1_1_NIVEL_0#14578,TIPO_ENTIDAD_N2_1_NIVEL_0#14579,DIRECCION_POSTAL_NIVEL_0#14580,COD_POSTAL_NIVEL_0#14581,COD_PROVINCIA_NIVEL_0#14582,PROVINCIA_NIVEL_0#14583,COD_CCAA_NIVEL_0#14584,CCAA_NIVEL_0#14585,ENLACE_WEB_NIVEL_0#14586,SOMMA_NIVEL_0#14587,TIPO_ENTIDAD_REGIONAL_NIVEL_0#14588,ESTADO_x_NIVEL_0#14589,NIF_COD_NIVEL_1#14590,ACRONIMO_NIVEL_1#14591,NOMBRE_ENTIDAD_NIVEL_1#14592,... 13 more fields] csv\n:        :              :              +- Project [Id#10956, Dummy#10962]\n:        :              :                 +- Project [Id#10956, Dummy#10958L, Dummy#10962, Dummy#10962]\n:        :              :                    +- Window [row_number() windowspecdefinition(Dummy#10958L ASC NULLS FIRST, specifiedwindowframe(RowFrame, unboundedpreceding$(), currentrow$())) AS Dummy#10962], [Dummy#10958L ASC NULLS FIRST]\n:        :              :                       +- Project [Id#10956, Dummy#10958L]\n:        :              :                          +- Project [Id#10956, monotonically_increasing_id() AS Dummy#10958L]\n:        :              :                             +- Project [value#14606 AS Id#10956]\n:        :              :                                +- LogicalRDD [value#14606], false\n:        :              +- Project [Entidad_Norm#14609, DenominacionSocial#14610, NIF#14612, CodigoInvente#14613, FormaJuridica_Codigo#14614, FormaJuridica_Descripcion#14615, codigoDir3#14616, codigoOrigen#14617, Provincia_Codigo#14611, final_score#14072, DenominacionSocial_Norm#14618]\n:        :                 +- Deduplicate [Entidad_Norm#14609]\n:        :                    +- Sort [final_score#14072 DESC NULLS LAST], true\n:        :                       +- Filter (cast(final_score#14072 as double) >= cast(0.875 as double))\n:        :                          +- Project [source_name#14607, target_name#14608, Entidad_Norm#14609, DenominacionSocial#14610, Provincia_Codigo#14611, NIF#14612, CodigoInvente#14613, FormaJuridica_Codigo#14614, FormaJuridica_Descripcion#14615, codigoDir3#14616, codigoOrigen#14617, DenominacionSocial_Norm#14618, source_names_stopwords#13971, target_names_stopwords#14023, CASE WHEN NOT (source_names_stopwords#13971 = target_names_stopwords#14023) THEN final_score#14040 ELSE cast(1 as float) END AS final_score#14072]\n:        :                             +- Project [source_name#14607, target_name#14608, Entidad_Norm#14609, DenominacionSocial#14610, Provincia_Codigo#14611, NIF#14612, CodigoInvente#14613, FormaJuridica_Codigo#14614, FormaJuridica_Descripcion#14615, codigoDir3#14616, codigoOrigen#14617, DenominacionSocial_Norm#14618, source_names_stopwords#13971, target_names_stopwords#14023, final_score#14040]\n:        :                                +- Project [source_name#14607, target_name#14608, Entidad_Norm#14609, DenominacionSocial#14610, Provincia_Codigo#14611, NIF#14612, CodigoInvente#14613, FormaJuridica_Codigo#14614, FormaJuridica_Descripcion#14615, codigoDir3#14616, codigoOrigen#14617, DenominacionSocial_Norm#14618, aux#13986, source_names_stopwords#13971, target_names_stopwords#14023, Distance_ratcliff_obershelp(source_names_stopwords#13971, target_names_stopwords#14023)#14039 AS final_score#14040]\n:        :                                   +- Project [source_name#14607, target_name#14608, Entidad_Norm#14609, DenominacionSocial#14610, Provincia_Codigo#14611, NIF#14612, CodigoInvente#14613, FormaJuridica_Codigo#14614, FormaJuridica_Descripcion#14615, codigoDir3#14616, codigoOrigen#14617, DenominacionSocial_Norm#14618, aux#13986, source_names_stopwords#13971, array_join(target_names_stopwords#14004,  , None) AS target_names_stopwords#14023]\n:        :                                      +- Project [source_name#14607, target_name#14608, Entidad_Norm#14609, DenominacionSocial#14610, Provincia_Codigo#14611, NIF#14612, CodigoInvente#14613, FormaJuridica_Codigo#14614, FormaJuridica_Descripcion#14615, codigoDir3#14616, codigoOrigen#14617, DenominacionSocial_Norm#14618, aux#13986, source_names_stopwords#13971, UDF(aux#13986) AS target_names_stopwords#14004]\n:        :                                         +- Project [source_name#14607, target_name#14608, Entidad_Norm#14609, DenominacionSocial#14610, Provincia_Codigo#14611, NIF#14612, CodigoInvente#14613, FormaJuridica_Codigo#14614, FormaJuridica_Descripcion#14615, codigoDir3#14616, codigoOrigen#14617, DenominacionSocial_Norm#14618, split(target_name#14608, \\s+, -1) AS aux#13986, source_names_stopwords#13971]\n:        :                                            +- Project [source_name#14607, target_name#14608, Entidad_Norm#14609, DenominacionSocial#14610, Provincia_Codigo#14611, NIF#14612, CodigoInvente#14613, FormaJuridica_Codigo#14614, FormaJuridica_Descripcion#14615, codigoDir3#14616, codigoOrigen#14617, DenominacionSocial_Norm#14618, aux#13936, array_join(source_names_stopwords#13953,  , None) AS source_names_stopwords#13971]\n:        :                                               +- Project [source_name#14607, target_name#14608, Entidad_Norm#14609, DenominacionSocial#14610, Provincia_Codigo#14611, NIF#14612, CodigoInvente#14613, FormaJuridica_Codigo#14614, FormaJuridica_Descripcion#14615, codigoDir3#14616, codigoOrigen#14617, DenominacionSocial_Norm#14618, aux#13936, UDF(aux#13936) AS source_names_stopwords#13953]\n:        :                                                  +- Project [source_name#14607, target_name#14608, Entidad_Norm#14609, DenominacionSocial#14610, Provincia_Codigo#14611, NIF#14612, CodigoInvente#14613, FormaJuridica_Codigo#14614, FormaJuridica_Descripcion#14615, codigoDir3#14616, codigoOrigen#14617, DenominacionSocial_Norm#14618, split(source_name#14607, \\s+, -1) AS aux#13936]\n:        :                                                     +- LogicalRDD [source_name#14607, target_name#14608, Entidad_Norm#14609, DenominacionSocial#14610, Provincia_Codigo#14611, NIF#14612, CodigoInvente#14613, FormaJuridica_Codigo#14614, FormaJuridica_Descripcion#14615, codigoDir3#14616, codigoOrigen#14617, DenominacionSocial_Norm#14618], false\n:        +- Project [Entidad_Norm#32048, final_score#32306, C_ID_UD_ORGANICA#32049, C_DNM_UD_ORGANICA#32050, C_ID_NIVEL_ADMON#32051, C_ID_TIPO_ENT_PUBLICA#32052, N_NIVEL_JERARQUICO#32053, C_ID_DEP_UD_SUPERIOR#32054, C_DNM_UD_ORGANICA_SUPERIOR#32055, C_ID_DEP_UD_PRINCIPAL#32056, C_DNM_UD_ORGANICA_PRINCIPAL#32057, B_SW_DEP_EDP_PRINCIPAL#32058, C_ID_DEP_EDP_PRINCIPAL#32059, C_DNM_UD_ORGANICA_EDP_PRINCIPAL#32060, C_ID_ESTADO#32061, D_VIG_ALTA_OFICIAL#32062, NIF_CIF#32063, C_ID_AMB_PROVINCIA#32064, C_DESC_PROV#32065, CONTACTOS#32066, C_DNM_UD_ORGANICA_Norm#32067]\n:           +- Union false, false\n:              :- Project [source_name#32046, target_name#32047, Entidad_Norm#32048, C_ID_UD_ORGANICA#32049, C_DNM_UD_ORGANICA#32050, C_ID_NIVEL_ADMON#32051, C_ID_TIPO_ENT_PUBLICA#32052, N_NIVEL_JERARQUICO#32053, C_ID_DEP_UD_SUPERIOR#32054, C_DNM_UD_ORGANICA_SUPERIOR#32055, C_ID_DEP_UD_PRINCIPAL#32056, C_DNM_UD_ORGANICA_PRINCIPAL#32057, B_SW_DEP_EDP_PRINCIPAL#32058, C_ID_DEP_EDP_PRINCIPAL#32059, C_DNM_UD_ORGANICA_EDP_PRINCIPAL#32060, C_ID_ESTADO#32061, D_VIG_ALTA_OFICIAL#32062, NIF_CIF#32063, C_ID_AMB_PROVINCIA#32064, C_DESC_PROV#32065, CONTACTOS#32066, C_DNM_UD_ORGANICA_Norm#32067, source_names_stopwords#32145, target_names_stopwords#32227, final_score#32306]\n:              :  +- Filter (cnt#33400L = cast(1 as bigint))\n:              :     +- Project [source_name#32046, target_name#32047, Entidad_Norm#32048, C_ID_UD_ORGANICA#32049, C_DNM_UD_ORGANICA#32050, C_ID_NIVEL_ADMON#32051, C_ID_TIPO_ENT_PUBLICA#32052, N_NIVEL_JERARQUICO#32053, C_ID_DEP_UD_SUPERIOR#32054, C_DNM_UD_ORGANICA_SUPERIOR#32055, C_ID_DEP_UD_PRINCIPAL#32056, C_DNM_UD_ORGANICA_PRINCIPAL#32057, B_SW_DEP_EDP_PRINCIPAL#32058, C_ID_DEP_EDP_PRINCIPAL#32059, C_DNM_UD_ORGANICA_EDP_PRINCIPAL#32060, C_ID_ESTADO#32061, D_VIG_ALTA_OFICIAL#32062, NIF_CIF#32063, C_ID_AMB_PROVINCIA#32064, C_DESC_PROV#32065, CONTACTOS#32066, C_DNM_UD_ORGANICA_Norm#32067, source_names_stopwords#32145, target_names_stopwords#32227, ... 2 more fields]\n:              :        +- Project [source_name#32046, target_name#32047, Entidad_Norm#32048, C_ID_UD_ORGANICA#32049, C_DNM_UD_ORGANICA#32050, C_ID_NIVEL_ADMON#32051, C_ID_TIPO_ENT_PUBLICA#32052, N_NIVEL_JERARQUICO#32053, C_ID_DEP_UD_SUPERIOR#32054, C_DNM_UD_ORGANICA_SUPERIOR#32055, C_ID_DEP_UD_PRINCIPAL#32056, C_DNM_UD_ORGANICA_PRINCIPAL#32057, B_SW_DEP_EDP_PRINCIPAL#32058, C_ID_DEP_EDP_PRINCIPAL#32059, C_DNM_UD_ORGANICA_EDP_PRINCIPAL#32060, C_ID_ESTADO#32061, D_VIG_ALTA_OFICIAL#32062, NIF_CIF#32063, C_ID_AMB_PROVINCIA#32064, C_DESC_PROV#32065, CONTACTOS#32066, C_DNM_UD_ORGANICA_Norm#32067, source_names_stopwords#32145, target_names_stopwords#32227, ... 3 more fields]\n:              :           +- Window [count(1) windowspecdefinition(Entidad_Norm#32048, specifiedwindowframe(RowFrame, unboundedpreceding$(), unboundedfollowing$())) AS cnt#33400L], [Entidad_Norm#32048]\n:              :              +- Project [source_name#32046, target_name#32047, Entidad_Norm#32048, C_ID_UD_ORGANICA#32049, C_DNM_UD_ORGANICA#32050, C_ID_NIVEL_ADMON#32051, C_ID_TIPO_ENT_PUBLICA#32052, N_NIVEL_JERARQUICO#32053, C_ID_DEP_UD_SUPERIOR#32054, C_DNM_UD_ORGANICA_SUPERIOR#32055, C_ID_DEP_UD_PRINCIPAL#32056, C_DNM_UD_ORGANICA_PRINCIPAL#32057, B_SW_DEP_EDP_PRINCIPAL#32058, C_ID_DEP_EDP_PRINCIPAL#32059, C_DNM_UD_ORGANICA_EDP_PRINCIPAL#32060, C_ID_ESTADO#32061, D_VIG_ALTA_OFICIAL#32062, NIF_CIF#32063, C_ID_AMB_PROVINCIA#32064, C_DESC_PROV#32065, CONTACTOS#32066, C_DNM_UD_ORGANICA_Norm#32067, source_names_stopwords#32145, target_names_stopwords#32227, final_score#32306]\n:              :                 +- Deduplicate [Entidad_Norm#32048, C_DNM_UD_ORGANICA_Norm#32067]\n:              :                    +- Filter (cast(final_score#32306 as double) >= cast(0.875 as double))\n:              :                       +- Project [source_name#32046, target_name#32047, Entidad_Norm#32048, C_ID_UD_ORGANICA#32049, C_DNM_UD_ORGANICA#32050, C_ID_NIVEL_ADMON#32051, C_ID_TIPO_ENT_PUBLICA#32052, N_NIVEL_JERARQUICO#32053, C_ID_DEP_UD_SUPERIOR#32054, C_DNM_UD_ORGANICA_SUPERIOR#32055, C_ID_DEP_UD_PRINCIPAL#32056, C_DNM_UD_ORGANICA_PRINCIPAL#32057, B_SW_DEP_EDP_PRINCIPAL#32058, C_ID_DEP_EDP_PRINCIPAL#32059, C_DNM_UD_ORGANICA_EDP_PRINCIPAL#32060, C_ID_ESTADO#32061, D_VIG_ALTA_OFICIAL#32062, NIF_CIF#32063, C_ID_AMB_PROVINCIA#32064, C_DESC_PROV#32065, CONTACTOS#32066, C_DNM_UD_ORGANICA_Norm#32067, source_names_stopwords#32145, target_names_stopwords#32227, CASE WHEN NOT (source_names_stopwords#32145 = target_names_stopwords#32227) THEN final_score#32254 ELSE cast(1 as float) END AS final_score#32306]\n:              :                          +- Project [source_name#32046, target_name#32047, Entidad_Norm#32048, C_ID_UD_ORGANICA#32049, C_DNM_UD_ORGANICA#32050, C_ID_NIVEL_ADMON#32051, C_ID_TIPO_ENT_PUBLICA#32052, N_NIVEL_JERARQUICO#32053, C_ID_DEP_UD_SUPERIOR#32054, C_DNM_UD_ORGANICA_SUPERIOR#32055, C_ID_DEP_UD_PRINCIPAL#32056, C_DNM_UD_ORGANICA_PRINCIPAL#32057, B_SW_DEP_EDP_PRINCIPAL#32058, C_ID_DEP_EDP_PRINCIPAL#32059, C_DNM_UD_ORGANICA_EDP_PRINCIPAL#32060, C_ID_ESTADO#32061, D_VIG_ALTA_OFICIAL#32062, NIF_CIF#32063, C_ID_AMB_PROVINCIA#32064, C_DESC_PROV#32065, CONTACTOS#32066, C_DNM_UD_ORGANICA_Norm#32067, source_names_stopwords#32145, target_names_stopwords#32227, final_score#32254]\n:              :                             +- Project [source_name#32046, target_name#32047, Entidad_Norm#32048, C_ID_UD_ORGANICA#32049, C_DNM_UD_ORGANICA#32050, C_ID_NIVEL_ADMON#32051, C_ID_TIPO_ENT_PUBLICA#32052, N_NIVEL_JERARQUICO#32053, C_ID_DEP_UD_SUPERIOR#32054, C_DNM_UD_ORGANICA_SUPERIOR#32055, C_ID_DEP_UD_PRINCIPAL#32056, C_DNM_UD_ORGANICA_PRINCIPAL#32057, B_SW_DEP_EDP_PRINCIPAL#32058, C_ID_DEP_EDP_PRINCIPAL#32059, C_DNM_UD_ORGANICA_EDP_PRINCIPAL#32060, C_ID_ESTADO#32061, D_VIG_ALTA_OFICIAL#32062, NIF_CIF#32063, C_ID_AMB_PROVINCIA#32064, C_DESC_PROV#32065, CONTACTOS#32066, C_DNM_UD_ORGANICA_Norm#32067, aux#32170, source_names_stopwords#32145, ... 2 more fields]\n:              :                                +- Project [source_name#32046, target_name#32047, Entidad_Norm#32048, C_ID_UD_ORGANICA#32049, C_DNM_UD_ORGANICA#32050, C_ID_NIVEL_ADMON#32051, C_ID_TIPO_ENT_PUBLICA#32052, N_NIVEL_JERARQUICO#32053, C_ID_DEP_UD_SUPERIOR#32054, C_DNM_UD_ORGANICA_SUPERIOR#32055, C_ID_DEP_UD_PRINCIPAL#32056, C_DNM_UD_ORGANICA_PRINCIPAL#32057, B_SW_DEP_EDP_PRINCIPAL#32058, C_ID_DEP_EDP_PRINCIPAL#32059, C_DNM_UD_ORGANICA_EDP_PRINCIPAL#32060, C_ID_ESTADO#32061, D_VIG_ALTA_OFICIAL#32062, NIF_CIF#32063, C_ID_AMB_PROVINCIA#32064, C_DESC_PROV#32065, CONTACTOS#32066, C_DNM_UD_ORGANICA_Norm#32067, aux#32170, source_names_stopwords#32145, array_join(target_names_stopwords#32198,  , None) AS target_names_stopwords#32227]\n:              :                                   +- Project [source_name#32046, target_name#32047, Entidad_Norm#32048, C_ID_UD_ORGANICA#32049, C_DNM_UD_ORGANICA#32050, C_ID_NIVEL_ADMON#32051, C_ID_TIPO_ENT_PUBLICA#32052, N_NIVEL_JERARQUICO#32053, C_ID_DEP_UD_SUPERIOR#32054, C_DNM_UD_ORGANICA_SUPERIOR#32055, C_ID_DEP_UD_PRINCIPAL#32056, C_DNM_UD_ORGANICA_PRINCIPAL#32057, B_SW_DEP_EDP_PRINCIPAL#32058, C_ID_DEP_EDP_PRINCIPAL#32059, C_DNM_UD_ORGANICA_EDP_PRINCIPAL#32060, C_ID_ESTADO#32061, D_VIG_ALTA_OFICIAL#32062, NIF_CIF#32063, C_ID_AMB_PROVINCIA#32064, C_DESC_PROV#32065, CONTACTOS#32066, C_DNM_UD_ORGANICA_Norm#32067, aux#32170, source_names_stopwords#32145, UDF(aux#32170) AS target_names_stopwords#32198]\n:              :                                      +- Project [source_name#32046, target_name#32047, Entidad_Norm#32048, C_ID_UD_ORGANICA#32049, C_DNM_UD_ORGANICA#32050, C_ID_NIVEL_ADMON#32051, C_ID_TIPO_ENT_PUBLICA#32052, N_NIVEL_JERARQUICO#32053, C_ID_DEP_UD_SUPERIOR#32054, C_DNM_UD_ORGANICA_SUPERIOR#32055, C_ID_DEP_UD_PRINCIPAL#32056, C_DNM_UD_ORGANICA_PRINCIPAL#32057, B_SW_DEP_EDP_PRINCIPAL#32058, C_ID_DEP_EDP_PRINCIPAL#32059, C_DNM_UD_ORGANICA_EDP_PRINCIPAL#32060, C_ID_ESTADO#32061, D_VIG_ALTA_OFICIAL#32062, NIF_CIF#32063, C_ID_AMB_PROVINCIA#32064, C_DESC_PROV#32065, CONTACTOS#32066, C_DNM_UD_ORGANICA_Norm#32067, split(target_name#32047, \\s+, -1) AS aux#32170, source_names_stopwords#32145]\n:              :                                         +- Project [source_name#32046, target_name#32047, Entidad_Norm#32048, C_ID_UD_ORGANICA#32049, C_DNM_UD_ORGANICA#32050, C_ID_NIVEL_ADMON#32051, C_ID_TIPO_ENT_PUBLICA#32052, N_NIVEL_JERARQUICO#32053, C_ID_DEP_UD_SUPERIOR#32054, C_DNM_UD_ORGANICA_SUPERIOR#32055, C_ID_DEP_UD_PRINCIPAL#32056, C_DNM_UD_ORGANICA_PRINCIPAL#32057, B_SW_DEP_EDP_PRINCIPAL#32058, C_ID_DEP_EDP_PRINCIPAL#32059, C_DNM_UD_ORGANICA_EDP_PRINCIPAL#32060, C_ID_ESTADO#32061, D_VIG_ALTA_OFICIAL#32062, NIF_CIF#32063, C_ID_AMB_PROVINCIA#32064, C_DESC_PROV#32065, CONTACTOS#32066, C_DNM_UD_ORGANICA_Norm#32067, aux#32090, array_join(source_names_stopwords#32117,  , None) AS source_names_stopwords#32145]\n:              :                                            +- Project [source_name#32046, target_name#32047, Entidad_Norm#32048, C_ID_UD_ORGANICA#32049, C_DNM_UD_ORGANICA#32050, C_ID_NIVEL_ADMON#32051, C_ID_TIPO_ENT_PUBLICA#32052, N_NIVEL_JERARQUICO#32053, C_ID_DEP_UD_SUPERIOR#32054, C_DNM_UD_ORGANICA_SUPERIOR#32055, C_ID_DEP_UD_PRINCIPAL#32056, C_DNM_UD_ORGANICA_PRINCIPAL#32057, B_SW_DEP_EDP_PRINCIPAL#32058, C_ID_DEP_EDP_PRINCIPAL#32059, C_DNM_UD_ORGANICA_EDP_PRINCIPAL#32060, C_ID_ESTADO#32061, D_VIG_ALTA_OFICIAL#32062, NIF_CIF#32063, C_ID_AMB_PROVINCIA#32064, C_DESC_PROV#32065, CONTACTOS#32066, C_DNM_UD_ORGANICA_Norm#32067, aux#32090, UDF(aux#32090) AS source_names_stopwords#32117]\n:              :                                               +- Project [source_name#32046, target_name#32047, Entidad_Norm#32048, C_ID_UD_ORGANICA#32049, C_DNM_UD_ORGANICA#32050, C_ID_NIVEL_ADMON#32051, C_ID_TIPO_ENT_PUBLICA#32052, N_NIVEL_JERARQUICO#32053, C_ID_DEP_UD_SUPERIOR#32054, C_DNM_UD_ORGANICA_SUPERIOR#32055, C_ID_DEP_UD_PRINCIPAL#32056, C_DNM_UD_ORGANICA_PRINCIPAL#32057, B_SW_DEP_EDP_PRINCIPAL#32058, C_ID_DEP_EDP_PRINCIPAL#32059, C_DNM_UD_ORGANICA_EDP_PRINCIPAL#32060, C_ID_ESTADO#32061, D_VIG_ALTA_OFICIAL#32062, NIF_CIF#32063, C_ID_AMB_PROVINCIA#32064, C_DESC_PROV#32065, CONTACTOS#32066, C_DNM_UD_ORGANICA_Norm#32067, split(source_name#32046, \\s+, -1) AS aux#32090]\n:              :                                                  +- LogicalRDD [source_name#32046, target_name#32047, Entidad_Norm#32048, C_ID_UD_ORGANICA#32049, C_DNM_UD_ORGANICA#32050, C_ID_NIVEL_ADMON#32051, C_ID_TIPO_ENT_PUBLICA#32052, N_NIVEL_JERARQUICO#32053, C_ID_DEP_UD_SUPERIOR#32054, C_DNM_UD_ORGANICA_SUPERIOR#32055, C_ID_DEP_UD_PRINCIPAL#32056, C_DNM_UD_ORGANICA_PRINCIPAL#32057, B_SW_DEP_EDP_PRINCIPAL#32058, C_ID_DEP_EDP_PRINCIPAL#32059, C_DNM_UD_ORGANICA_EDP_PRINCIPAL#32060, C_ID_ESTADO#32061, D_VIG_ALTA_OFICIAL#32062, NIF_CIF#32063, C_ID_AMB_PROVINCIA#32064, C_DESC_PROV#32065, CONTACTOS#32066, C_DNM_UD_ORGANICA_Norm#32067], false\n:              :- Project [Entidad_Norm#33718 AS Entidad_Norm#33738, source_name#33716 AS source_name#33739, target_name#33717 AS target_name#33740, C_ID_UD_ORGANICA#33719 AS C_ID_UD_ORGANICA#33741, C_DNM_UD_ORGANICA#33720 AS C_DNM_UD_ORGANICA#33742, C_ID_NIVEL_ADMON#33721 AS C_ID_NIVEL_ADMON#33743, C_ID_TIPO_ENT_PUBLICA#33722 AS C_ID_TIPO_ENT_PUBLICA#33744, N_NIVEL_JERARQUICO#33723 AS N_NIVEL_JERARQUICO#33745, C_ID_DEP_UD_SUPERIOR#33724 AS C_ID_DEP_UD_SUPERIOR#33746, C_DNM_UD_ORGANICA_SUPERIOR#33725 AS C_DNM_UD_ORGANICA_SUPERIOR#33747, C_ID_DEP_UD_PRINCIPAL#33726 AS C_ID_DEP_UD_PRINCIPAL#33748, C_DNM_UD_ORGANICA_PRINCIPAL#33727 AS C_DNM_UD_ORGANICA_PRINCIPAL#33749, B_SW_DEP_EDP_PRINCIPAL#33728 AS B_SW_DEP_EDP_PRINCIPAL#33750, C_ID_DEP_EDP_PRINCIPAL#33729 AS C_ID_DEP_EDP_PRINCIPAL#33751, C_DNM_UD_ORGANICA_EDP_PRINCIPAL#33730 AS C_DNM_UD_ORGANICA_EDP_PRINCIPAL#33752, C_ID_ESTADO#33731 AS C_ID_ESTADO#33753, D_VIG_ALTA_OFICIAL#33732 AS D_VIG_ALTA_OFICIAL#33754, NIF_CIF#33733 AS NIF_CIF#33755, C_ID_AMB_PROVINCIA#33734 AS C_ID_AMB_PROVINCIA#33756, C_DESC_PROV#33735 AS C_DESC_PROV#33757, CONTACTOS#33736 AS CONTACTOS#33758, C_DNM_UD_ORGANICA_Norm#33737 AS C_DNM_UD_ORGANICA_Norm#33759, source_names_stopwords#32145 AS source_names_stopwords#33760, target_names_stopwords#32227 AS target_names_stopwords#33761, final_score#32306 AS final_score#33762]\n:              :  +- Deduplicate [Entidad_Norm#33718]\n:              :     +- Sort [N_NIVEL_JERARQUICO#33723 ASC NULLS FIRST], true\n:              :        +- Project [Entidad_Norm#33718, source_name#33716, target_name#33717, C_ID_UD_ORGANICA#33719, C_DNM_UD_ORGANICA#33720, C_ID_NIVEL_ADMON#33721, C_ID_TIPO_ENT_PUBLICA#33722, N_NIVEL_JERARQUICO#33723, C_ID_DEP_UD_SUPERIOR#33724, C_DNM_UD_ORGANICA_SUPERIOR#33725, C_ID_DEP_UD_PRINCIPAL#33726, C_DNM_UD_ORGANICA_PRINCIPAL#33727, B_SW_DEP_EDP_PRINCIPAL#33728, C_ID_DEP_EDP_PRINCIPAL#33729, C_DNM_UD_ORGANICA_EDP_PRINCIPAL#33730, C_ID_ESTADO#33731, D_VIG_ALTA_OFICIAL#33732, NIF_CIF#33733, C_ID_AMB_PROVINCIA#33734, C_DESC_PROV#33735, CONTACTOS#33736, C_DNM_UD_ORGANICA_Norm#33737, source_names_stopwords#32145, target_names_stopwords#32227, final_score#32306]\n:              :           +- Filter (cnt#33530L = cast(1 as bigint))\n:              :              +- Project [Entidad_Norm#33718, source_name#33716, target_name#33717, C_ID_UD_ORGANICA#33719, C_DNM_UD_ORGANICA#33720, C_ID_NIVEL_ADMON#33721, C_ID_TIPO_ENT_PUBLICA#33722, N_NIVEL_JERARQUICO#33723, C_ID_DEP_UD_SUPERIOR#33724, C_DNM_UD_ORGANICA_SUPERIOR#33725, C_ID_DEP_UD_PRINCIPAL#33726, C_DNM_UD_ORGANICA_PRINCIPAL#33727, B_SW_DEP_EDP_PRINCIPAL#33728, C_ID_DEP_EDP_PRINCIPAL#33729, C_DNM_UD_ORGANICA_EDP_PRINCIPAL#33730, C_ID_ESTADO#33731, D_VIG_ALTA_OFICIAL#33732, NIF_CIF#33733, C_ID_AMB_PROVINCIA#33734, C_DESC_PROV#33735, CONTACTOS#33736, C_DNM_UD_ORGANICA_Norm#33737, source_names_stopwords#32145, target_names_stopwords#32227, ... 2 more fields]\n:              :                 +- Project [Entidad_Norm#33718, source_name#33716, target_name#33717, C_ID_UD_ORGANICA#33719, C_DNM_UD_ORGANICA#33720, C_ID_NIVEL_ADMON#33721, C_ID_TIPO_ENT_PUBLICA#33722, N_NIVEL_JERARQUICO#33723, C_ID_DEP_UD_SUPERIOR#33724, C_DNM_UD_ORGANICA_SUPERIOR#33725, C_ID_DEP_UD_PRINCIPAL#33726, C_DNM_UD_ORGANICA_PRINCIPAL#33727, B_SW_DEP_EDP_PRINCIPAL#33728, C_ID_DEP_EDP_PRINCIPAL#33729, C_DNM_UD_ORGANICA_EDP_PRINCIPAL#33730, C_ID_ESTADO#33731, D_VIG_ALTA_OFICIAL#33732, NIF_CIF#33733, C_ID_AMB_PROVINCIA#33734, C_DESC_PROV#33735, CONTACTOS#33736, C_DNM_UD_ORGANICA_Norm#33737, source_names_stopwords#32145, target_names_stopwords#32227, ... 3 more fields]\n:              :                    +- Window [count(1) windowspecdefinition(Entidad_Norm#33718, N_NIVEL_JERARQUICO#33723, specifiedwindowframe(RowFrame, unboundedpreceding$(), unboundedfollowing$())) AS cnt#33530L], [Entidad_Norm#33718, N_NIVEL_JERARQUICO#33723]\n:              :                       +- Project [Entidad_Norm#33718, source_name#33716, target_name#33717, C_ID_UD_ORGANICA#33719, C_DNM_UD_ORGANICA#33720, C_ID_NIVEL_ADMON#33721, C_ID_TIPO_ENT_PUBLICA#33722, N_NIVEL_JERARQUICO#33723, C_ID_DEP_UD_SUPERIOR#33724, C_DNM_UD_ORGANICA_SUPERIOR#33725, C_ID_DEP_UD_PRINCIPAL#33726, C_DNM_UD_ORGANICA_PRINCIPAL#33727, B_SW_DEP_EDP_PRINCIPAL#33728, C_ID_DEP_EDP_PRINCIPAL#33729, C_DNM_UD_ORGANICA_EDP_PRINCIPAL#33730, C_ID_ESTADO#33731, D_VIG_ALTA_OFICIAL#33732, NIF_CIF#33733, C_ID_AMB_PROVINCIA#33734, C_DESC_PROV#33735, CONTACTOS#33736, C_DNM_UD_ORGANICA_Norm#33737, source_names_stopwords#32145, target_names_stopwords#32227, final_score#32306]\n:              :                          +- Project [Entidad_Norm#33718, source_name#33716, target_name#33717, C_ID_UD_ORGANICA#33719, C_DNM_UD_ORGANICA#33720, C_ID_NIVEL_ADMON#33721, C_ID_TIPO_ENT_PUBLICA#33722, N_NIVEL_JERARQUICO#33723, C_ID_DEP_UD_SUPERIOR#33724, C_DNM_UD_ORGANICA_SUPERIOR#33725, C_ID_DEP_UD_PRINCIPAL#33726, C_DNM_UD_ORGANICA_PRINCIPAL#33727, B_SW_DEP_EDP_PRINCIPAL#33728, C_ID_DEP_EDP_PRINCIPAL#33729, C_DNM_UD_ORGANICA_EDP_PRINCIPAL#33730, C_ID_ESTADO#33731, D_VIG_ALTA_OFICIAL#33732, NIF_CIF#33733, C_ID_AMB_PROVINCIA#33734, C_DESC_PROV#33735, CONTACTOS#33736, C_DNM_UD_ORGANICA_Norm#33737, source_names_stopwords#32145, target_names_stopwords#32227, final_score#32306]\n:              :                             +- Join LeftAnti, (Entidad_Norm#33718 = Entidad_Norm#33485)\n:              :                                :- Deduplicate [Entidad_Norm#33718, C_DNM_UD_ORGANICA_Norm#33737]\n:              :                                :  +- Filter (cast(final_score#32306 as double) >= cast(0.875 as double))\n:              :                                :     +- Project [source_name#33716, target_name#33717, Entidad_Norm#33718, C_ID_UD_ORGANICA#33719, C_DNM_UD_ORGANICA#33720, C_ID_NIVEL_ADMON#33721, C_ID_TIPO_ENT_PUBLICA#33722, N_NIVEL_JERARQUICO#33723, C_ID_DEP_UD_SUPERIOR#33724, C_DNM_UD_ORGANICA_SUPERIOR#33725, C_ID_DEP_UD_PRINCIPAL#33726, C_DNM_UD_ORGANICA_PRINCIPAL#33727, B_SW_DEP_EDP_PRINCIPAL#33728, C_ID_DEP_EDP_PRINCIPAL#33729, C_DNM_UD_ORGANICA_EDP_PRINCIPAL#33730, C_ID_ESTADO#33731, D_VIG_ALTA_OFICIAL#33732, NIF_CIF#33733, C_ID_AMB_PROVINCIA#33734, C_DESC_PROV#33735, CONTACTOS#33736, C_DNM_UD_ORGANICA_Norm#33737, source_names_stopwords#32145, target_names_stopwords#32227, CASE WHEN NOT (source_names_stopwords#32145 = target_names_stopwords#32227) THEN final_score#32254 ELSE cast(1 as float) END AS final_score#32306]\n:              :                                :        +- Project [source_name#33716, target_name#33717, Entidad_Norm#33718, C_ID_UD_ORGANICA#33719, C_DNM_UD_ORGANICA#33720, C_ID_NIVEL_ADMON#33721, C_ID_TIPO_ENT_PUBLICA#33722, N_NIVEL_JERARQUICO#33723, C_ID_DEP_UD_SUPERIOR#33724, C_DNM_UD_ORGANICA_SUPERIOR#33725, C_ID_DEP_UD_PRINCIPAL#33726, C_DNM_UD_ORGANICA_PRINCIPAL#33727, B_SW_DEP_EDP_PRINCIPAL#33728, C_ID_DEP_EDP_PRINCIPAL#33729, C_DNM_UD_ORGANICA_EDP_PRINCIPAL#33730, C_ID_ESTADO#33731, D_VIG_ALTA_OFICIAL#33732, NIF_CIF#33733, C_ID_AMB_PROVINCIA#33734, C_DESC_PROV#33735, CONTACTOS#33736, C_DNM_UD_ORGANICA_Norm#33737, source_names_stopwords#32145, target_names_stopwords#32227, final_score#32254]\n:              :                                :           +- Project [source_name#33716, target_name#33717, Entidad_Norm#33718, C_ID_UD_ORGANICA#33719, C_DNM_UD_ORGANICA#33720, C_ID_NIVEL_ADMON#33721, C_ID_TIPO_ENT_PUBLICA#33722, N_NIVEL_JERARQUICO#33723, C_ID_DEP_UD_SUPERIOR#33724, C_DNM_UD_ORGANICA_SUPERIOR#33725, C_ID_DEP_UD_PRINCIPAL#33726, C_DNM_UD_ORGANICA_PRINCIPAL#33727, B_SW_DEP_EDP_PRINCIPAL#33728, C_ID_DEP_EDP_PRINCIPAL#33729, C_DNM_UD_ORGANICA_EDP_PRINCIPAL#33730, C_ID_ESTADO#33731, D_VIG_ALTA_OFICIAL#33732, NIF_CIF#33733, C_ID_AMB_PROVINCIA#33734, C_DESC_PROV#33735, CONTACTOS#33736, C_DNM_UD_ORGANICA_Norm#33737, aux#32170, source_names_stopwords#32145, ... 2 more fields]\n:              :                                :              +- Project [source_name#33716, target_name#33717, Entidad_Norm#33718, C_ID_UD_ORGANICA#33719, C_DNM_UD_ORGANICA#33720, C_ID_NIVEL_ADMON#33721, C_ID_TIPO_ENT_PUBLICA#33722, N_NIVEL_JERARQUICO#33723, C_ID_DEP_UD_SUPERIOR#33724, C_DNM_UD_ORGANICA_SUPERIOR#33725, C_ID_DEP_UD_PRINCIPAL#33726, C_DNM_UD_ORGANICA_PRINCIPAL#33727, B_SW_DEP_EDP_PRINCIPAL#33728, C_ID_DEP_EDP_PRINCIPAL#33729, C_DNM_UD_ORGANICA_EDP_PRINCIPAL#33730, C_ID_ESTADO#33731, D_VIG_ALTA_OFICIAL#33732, NIF_CIF#33733, C_ID_AMB_PROVINCIA#33734, C_DESC_PROV#33735, CONTACTOS#33736, C_DNM_UD_ORGANICA_Norm#33737, aux#32170, source_names_stopwords#32145, array_join(target_names_stopwords#32198,  , None) AS target_names_stopwords#32227]\n:              :                                :                 +- Project [source_name#33716, target_name#33717, Entidad_Norm#33718, C_ID_UD_ORGANICA#33719, C_DNM_UD_ORGANICA#33720, C_ID_NIVEL_ADMON#33721, C_ID_TIPO_ENT_PUBLICA#33722, N_NIVEL_JERARQUICO#33723, C_ID_DEP_UD_SUPERIOR#33724, C_DNM_UD_ORGANICA_SUPERIOR#33725, C_ID_DEP_UD_PRINCIPAL#33726, C_DNM_UD_ORGANICA_PRINCIPAL#33727, B_SW_DEP_EDP_PRINCIPAL#33728, C_ID_DEP_EDP_PRINCIPAL#33729, C_DNM_UD_ORGANICA_EDP_PRINCIPAL#33730, C_ID_ESTADO#33731, D_VIG_ALTA_OFICIAL#33732, NIF_CIF#33733, C_ID_AMB_PROVINCIA#33734, C_DESC_PROV#33735, CONTACTOS#33736, C_DNM_UD_ORGANICA_Norm#33737, aux#32170, source_names_stopwords#32145, UDF(aux#32170) AS target_names_stopwords#32198]\n:              :                                :                    +- Project [source_name#33716, target_name#33717, Entidad_Norm#33718, C_ID_UD_ORGANICA#33719, C_DNM_UD_ORGANICA#33720, C_ID_NIVEL_ADMON#33721, C_ID_TIPO_ENT_PUBLICA#33722, N_NIVEL_JERARQUICO#33723, C_ID_DEP_UD_SUPERIOR#33724, C_DNM_UD_ORGANICA_SUPERIOR#33725, C_ID_DEP_UD_PRINCIPAL#33726, C_DNM_UD_ORGANICA_PRINCIPAL#33727, B_SW_DEP_EDP_PRINCIPAL#33728, C_ID_DEP_EDP_PRINCIPAL#33729, C_DNM_UD_ORGANICA_EDP_PRINCIPAL#33730, C_ID_ESTADO#33731, D_VIG_ALTA_OFICIAL#33732, NIF_CIF#33733, C_ID_AMB_PROVINCIA#33734, C_DESC_PROV#33735, CONTACTOS#33736, C_DNM_UD_ORGANICA_Norm#33737, split(target_name#33717, \\s+, -1) AS aux#32170, source_names_stopwords#32145]\n:              :                                :                       +- Project [source_name#33716, target_name#33717, Entidad_Norm#33718, C_ID_UD_ORGANICA#33719, C_DNM_UD_ORGANICA#33720, C_ID_NIVEL_ADMON#33721, C_ID_TIPO_ENT_PUBLICA#33722, N_NIVEL_JERARQUICO#33723, C_ID_DEP_UD_SUPERIOR#33724, C_DNM_UD_ORGANICA_SUPERIOR#33725, C_ID_DEP_UD_PRINCIPAL#33726, C_DNM_UD_ORGANICA_PRINCIPAL#33727, B_SW_DEP_EDP_PRINCIPAL#33728, C_ID_DEP_EDP_PRINCIPAL#33729, C_DNM_UD_ORGANICA_EDP_PRINCIPAL#33730, C_ID_ESTADO#33731, D_VIG_ALTA_OFICIAL#33732, NIF_CIF#33733, C_ID_AMB_PROVINCIA#33734, C_DESC_PROV#33735, CONTACTOS#33736, C_DNM_UD_ORGANICA_Norm#33737, aux#32090, array_join(source_names_stopwords#32117,  , None) AS source_names_stopwords#32145]\n:              :                                :                          +- Project [source_name#33716, target_name#33717, Entidad_Norm#33718, C_ID_UD_ORGANICA#33719, C_DNM_UD_ORGANICA#33720, C_ID_NIVEL_ADMON#33721, C_ID_TIPO_ENT_PUBLICA#33722, N_NIVEL_JERARQUICO#33723, C_ID_DEP_UD_SUPERIOR#33724, C_DNM_UD_ORGANICA_SUPERIOR#33725, C_ID_DEP_UD_PRINCIPAL#33726, C_DNM_UD_ORGANICA_PRINCIPAL#33727, B_SW_DEP_EDP_PRINCIPAL#33728, C_ID_DEP_EDP_PRINCIPAL#33729, C_DNM_UD_ORGANICA_EDP_PRINCIPAL#33730, C_ID_ESTADO#33731, D_VIG_ALTA_OFICIAL#33732, NIF_CIF#33733, C_ID_AMB_PROVINCIA#33734, C_DESC_PROV#33735, CONTACTOS#33736, C_DNM_UD_ORGANICA_Norm#33737, aux#32090, UDF(aux#32090) AS source_names_stopwords#32117]\n:              :                                :                             +- Project [source_name#33716, target_name#33717, Entidad_Norm#33718, C_ID_UD_ORGANICA#33719, C_DNM_UD_ORGANICA#33720, C_ID_NIVEL_ADMON#33721, C_ID_TIPO_ENT_PUBLICA#33722, N_NIVEL_JERARQUICO#33723, C_ID_DEP_UD_SUPERIOR#33724, C_DNM_UD_ORGANICA_SUPERIOR#33725, C_ID_DEP_UD_PRINCIPAL#33726, C_DNM_UD_ORGANICA_PRINCIPAL#33727, B_SW_DEP_EDP_PRINCIPAL#33728, C_ID_DEP_EDP_PRINCIPAL#33729, C_DNM_UD_ORGANICA_EDP_PRINCIPAL#33730, C_ID_ESTADO#33731, D_VIG_ALTA_OFICIAL#33732, NIF_CIF#33733, C_ID_AMB_PROVINCIA#33734, C_DESC_PROV#33735, CONTACTOS#33736, C_DNM_UD_ORGANICA_Norm#33737, split(source_name#33716, \\s+, -1) AS aux#32090]\n:              :                                :                                +- LogicalRDD [source_name#33716, target_name#33717, Entidad_Norm#33718, C_ID_UD_ORGANICA#33719, C_DNM_UD_ORGANICA#33720, C_ID_NIVEL_ADMON#33721, C_ID_TIPO_ENT_PUBLICA#33722, N_NIVEL_JERARQUICO#33723, C_ID_DEP_UD_SUPERIOR#33724, C_DNM_UD_ORGANICA_SUPERIOR#33725, C_ID_DEP_UD_PRINCIPAL#33726, C_DNM_UD_ORGANICA_PRINCIPAL#33727, B_SW_DEP_EDP_PRINCIPAL#33728, C_ID_DEP_EDP_PRINCIPAL#33729, C_DNM_UD_ORGANICA_EDP_PRINCIPAL#33730, C_ID_ESTADO#33731, D_VIG_ALTA_OFICIAL#33732, NIF_CIF#33733, C_ID_AMB_PROVINCIA#33734, C_DESC_PROV#33735, CONTACTOS#33736, C_DNM_UD_ORGANICA_Norm#33737], false\n:              :                                +- Project [Entidad_Norm#33485]\n:              :                                   +- Filter (count#33479L = cast(1 as bigint))\n:              :                                      +- Aggregate [Entidad_Norm#33485], [Entidad_Norm#33485, count(1) AS count#33479L]\n:              :                                         +- Deduplicate [Entidad_Norm#33485, C_DNM_UD_ORGANICA_Norm#33504]\n:              :                                            +- Filter (cast(final_score#32306 as double) >= cast(0.875 as double))\n:              :                                               +- Project [source_name#33483, target_name#33484, Entidad_Norm#33485, C_ID_UD_ORGANICA#33486, C_DNM_UD_ORGANICA#33487, C_ID_NIVEL_ADMON#33488, C_ID_TIPO_ENT_PUBLICA#33489, N_NIVEL_JERARQUICO#33490, C_ID_DEP_UD_SUPERIOR#33491, C_DNM_UD_ORGANICA_SUPERIOR#33492, C_ID_DEP_UD_PRINCIPAL#33493, C_DNM_UD_ORGANICA_PRINCIPAL#33494, B_SW_DEP_EDP_PRINCIPAL#33495, C_ID_DEP_EDP_PRINCIPAL#33496, C_DNM_UD_ORGANICA_EDP_PRINCIPAL#33497, C_ID_ESTADO#33498, D_VIG_ALTA_OFICIAL#33499, NIF_CIF#33500, C_ID_AMB_PROVINCIA#33501, C_DESC_PROV#33502, CONTACTOS#33503, C_DNM_UD_ORGANICA_Norm#33504, source_names_stopwords#32145, target_names_stopwords#32227, CASE WHEN NOT (source_names_stopwords#32145 = target_names_stopwords#32227) THEN final_score#32254 ELSE cast(1 as float) END AS final_score#32306]\n:              :                                                  +- Project [source_name#33483, target_name#33484, Entidad_Norm#33485, C_ID_UD_ORGANICA#33486, C_DNM_UD_ORGANICA#33487, C_ID_NIVEL_ADMON#33488, C_ID_TIPO_ENT_PUBLICA#33489, N_NIVEL_JERARQUICO#33490, C_ID_DEP_UD_SUPERIOR#33491, C_DNM_UD_ORGANICA_SUPERIOR#33492, C_ID_DEP_UD_PRINCIPAL#33493, C_DNM_UD_ORGANICA_PRINCIPAL#33494, B_SW_DEP_EDP_PRINCIPAL#33495, C_ID_DEP_EDP_PRINCIPAL#33496, C_DNM_UD_ORGANICA_EDP_PRINCIPAL#33497, C_ID_ESTADO#33498, D_VIG_ALTA_OFICIAL#33499, NIF_CIF#33500, C_ID_AMB_PROVINCIA#33501, C_DESC_PROV#33502, CONTACTOS#33503, C_DNM_UD_ORGANICA_Norm#33504, source_names_stopwords#32145, target_names_stopwords#32227, final_score#32254]\n:              :                                                     +- Project [source_name#33483, target_name#33484, Entidad_Norm#33485, C_ID_UD_ORGANICA#33486, C_DNM_UD_ORGANICA#33487, C_ID_NIVEL_ADMON#33488, C_ID_TIPO_ENT_PUBLICA#33489, N_NIVEL_JERARQUICO#33490, C_ID_DEP_UD_SUPERIOR#33491, C_DNM_UD_ORGANICA_SUPERIOR#33492, C_ID_DEP_UD_PRINCIPAL#33493, C_DNM_UD_ORGANICA_PRINCIPAL#33494, B_SW_DEP_EDP_PRINCIPAL#33495, C_ID_DEP_EDP_PRINCIPAL#33496, C_DNM_UD_ORGANICA_EDP_PRINCIPAL#33497, C_ID_ESTADO#33498, D_VIG_ALTA_OFICIAL#33499, NIF_CIF#33500, C_ID_AMB_PROVINCIA#33501, C_DESC_PROV#33502, CONTACTOS#33503, C_DNM_UD_ORGANICA_Norm#33504, aux#32170, source_names_stopwords#32145, ... 2 more fields]\n:              :                                                        +- Project [source_name#33483, target_name#33484, Entidad_Norm#33485, C_ID_UD_ORGANICA#33486, C_DNM_UD_ORGANICA#33487, C_ID_NIVEL_ADMON#33488, C_ID_TIPO_ENT_PUBLICA#33489, N_NIVEL_JERARQUICO#33490, C_ID_DEP_UD_SUPERIOR#33491, C_DNM_UD_ORGANICA_SUPERIOR#33492, C_ID_DEP_UD_PRINCIPAL#33493, C_DNM_UD_ORGANICA_PRINCIPAL#33494, B_SW_DEP_EDP_PRINCIPAL#33495, C_ID_DEP_EDP_PRINCIPAL#33496, C_DNM_UD_ORGANICA_EDP_PRINCIPAL#33497, C_ID_ESTADO#33498, D_VIG_ALTA_OFICIAL#33499, NIF_CIF#33500, C_ID_AMB_PROVINCIA#33501, C_DESC_PROV#33502, CONTACTOS#33503, C_DNM_UD_ORGANICA_Norm#33504, aux#32170, source_names_stopwords#32145, array_join(target_names_stopwords#32198,  , None) AS target_names_stopwords#32227]\n:              :                                                           +- Project [source_name#33483, target_name#33484, Entidad_Norm#33485, C_ID_UD_ORGANICA#33486, C_DNM_UD_ORGANICA#33487, C_ID_NIVEL_ADMON#33488, C_ID_TIPO_ENT_PUBLICA#33489, N_NIVEL_JERARQUICO#33490, C_ID_DEP_UD_SUPERIOR#33491, C_DNM_UD_ORGANICA_SUPERIOR#33492, C_ID_DEP_UD_PRINCIPAL#33493, C_DNM_UD_ORGANICA_PRINCIPAL#33494, B_SW_DEP_EDP_PRINCIPAL#33495, C_ID_DEP_EDP_PRINCIPAL#33496, C_DNM_UD_ORGANICA_EDP_PRINCIPAL#33497, C_ID_ESTADO#33498, D_VIG_ALTA_OFICIAL#33499, NIF_CIF#33500, C_ID_AMB_PROVINCIA#33501, C_DESC_PROV#33502, CONTACTOS#33503, C_DNM_UD_ORGANICA_Norm#33504, aux#32170, source_names_stopwords#32145, UDF(aux#32170) AS target_names_stopwords#32198]\n:              :                                                              +- Project [source_name#33483, target_name#33484, Entidad_Norm#33485, C_ID_UD_ORGANICA#33486, C_DNM_UD_ORGANICA#33487, C_ID_NIVEL_ADMON#33488, C_ID_TIPO_ENT_PUBLICA#33489, N_NIVEL_JERARQUICO#33490, C_ID_DEP_UD_SUPERIOR#33491, C_DNM_UD_ORGANICA_SUPERIOR#33492, C_ID_DEP_UD_PRINCIPAL#33493, C_DNM_UD_ORGANICA_PRINCIPAL#33494, B_SW_DEP_EDP_PRINCIPAL#33495, C_ID_DEP_EDP_PRINCIPAL#33496, C_DNM_UD_ORGANICA_EDP_PRINCIPAL#33497, C_ID_ESTADO#33498, D_VIG_ALTA_OFICIAL#33499, NIF_CIF#33500, C_ID_AMB_PROVINCIA#33501, C_DESC_PROV#33502, CONTACTOS#33503, C_DNM_UD_ORGANICA_Norm#33504, split(target_name#33484, \\s+, -1) AS aux#32170, source_names_stopwords#32145]\n:              :                                                                 +- Project [source_name#33483, target_name#33484, Entidad_Norm#33485, C_ID_UD_ORGANICA#33486, C_DNM_UD_ORGANICA#33487, C_ID_NIVEL_ADMON#33488, C_ID_TIPO_ENT_PUBLICA#33489, N_NIVEL_JERARQUICO#33490, C_ID_DEP_UD_SUPERIOR#33491, C_DNM_UD_ORGANICA_SUPERIOR#33492, C_ID_DEP_UD_PRINCIPAL#33493, C_DNM_UD_ORGANICA_PRINCIPAL#33494, B_SW_DEP_EDP_PRINCIPAL#33495, C_ID_DEP_EDP_PRINCIPAL#33496, C_DNM_UD_ORGANICA_EDP_PRINCIPAL#33497, C_ID_ESTADO#33498, D_VIG_ALTA_OFICIAL#33499, NIF_CIF#33500, C_ID_AMB_PROVINCIA#33501, C_DESC_PROV#33502, CONTACTOS#33503, C_DNM_UD_ORGANICA_Norm#33504, aux#32090, array_join(source_names_stopwords#32117,  , None) AS source_names_stopwords#32145]\n:              :                                                                    +- Project [source_name#33483, target_name#33484, Entidad_Norm#33485, C_ID_UD_ORGANICA#33486, C_DNM_UD_ORGANICA#33487, C_ID_NIVEL_ADMON#33488, C_ID_TIPO_ENT_PUBLICA#33489, N_NIVEL_JERARQUICO#33490, C_ID_DEP_UD_SUPERIOR#33491, C_DNM_UD_ORGANICA_SUPERIOR#33492, C_ID_DEP_UD_PRINCIPAL#33493, C_DNM_UD_ORGANICA_PRINCIPAL#33494, B_SW_DEP_EDP_PRINCIPAL#33495, C_ID_DEP_EDP_PRINCIPAL#33496, C_DNM_UD_ORGANICA_EDP_PRINCIPAL#33497, C_ID_ESTADO#33498, D_VIG_ALTA_OFICIAL#33499, NIF_CIF#33500, C_ID_AMB_PROVINCIA#33501, C_DESC_PROV#33502, CONTACTOS#33503, C_DNM_UD_ORGANICA_Norm#33504, aux#32090, UDF(aux#32090) AS source_names_stopwords#32117]\n:              :                                                                       +- Project [source_name#33483, target_name#33484, Entidad_Norm#33485, C_ID_UD_ORGANICA#33486, C_DNM_UD_ORGANICA#33487, C_ID_NIVEL_ADMON#33488, C_ID_TIPO_ENT_PUBLICA#33489, N_NIVEL_JERARQUICO#33490, C_ID_DEP_UD_SUPERIOR#33491, C_DNM_UD_ORGANICA_SUPERIOR#33492, C_ID_DEP_UD_PRINCIPAL#33493, C_DNM_UD_ORGANICA_PRINCIPAL#33494, B_SW_DEP_EDP_PRINCIPAL#33495, C_ID_DEP_EDP_PRINCIPAL#33496, C_DNM_UD_ORGANICA_EDP_PRINCIPAL#33497, C_ID_ESTADO#33498, D_VIG_ALTA_OFICIAL#33499, NIF_CIF#33500, C_ID_AMB_PROVINCIA#33501, C_DESC_PROV#33502, CONTACTOS#33503, C_DNM_UD_ORGANICA_Norm#33504, split(source_name#33483, \\s+, -1) AS aux#32090]\n:              :                                                                          +- LogicalRDD [source_name#33483, target_name#33484, Entidad_Norm#33485, C_ID_UD_ORGANICA#33486, C_DNM_UD_ORGANICA#33487, C_ID_NIVEL_ADMON#33488, C_ID_TIPO_ENT_PUBLICA#33489, N_NIVEL_JERARQUICO#33490, C_ID_DEP_UD_SUPERIOR#33491, C_DNM_UD_ORGANICA_SUPERIOR#33492, C_ID_DEP_UD_PRINCIPAL#33493, C_DNM_UD_ORGANICA_PRINCIPAL#33494, B_SW_DEP_EDP_PRINCIPAL#33495, C_ID_DEP_EDP_PRINCIPAL#33496, C_DNM_UD_ORGANICA_EDP_PRINCIPAL#33497, C_ID_ESTADO#33498, D_VIG_ALTA_OFICIAL#33499, NIF_CIF#33500, C_ID_AMB_PROVINCIA#33501, C_DESC_PROV#33502, CONTACTOS#33503, C_DNM_UD_ORGANICA_Norm#33504], false\n:              +- Project [Entidad_Norm#33790 AS Entidad_Norm#33810, N_NIVEL_JERARQUICO#33795 AS N_NIVEL_JERARQUICO#33811, source_name#33788 AS source_name#33812, target_name#33789 AS target_name#33813, C_ID_UD_ORGANICA#33791 AS C_ID_UD_ORGANICA#33814, C_DNM_UD_ORGANICA#33792 AS C_DNM_UD_ORGANICA#33815, C_ID_NIVEL_ADMON#33793 AS C_ID_NIVEL_ADMON#33816, C_ID_TIPO_ENT_PUBLICA#33794 AS C_ID_TIPO_ENT_PUBLICA#33817, C_ID_DEP_UD_SUPERIOR#33796 AS C_ID_DEP_UD_SUPERIOR#33818, C_DNM_UD_ORGANICA_SUPERIOR#33797 AS C_DNM_UD_ORGANICA_SUPERIOR#33819, C_ID_DEP_UD_PRINCIPAL#33798 AS C_ID_DEP_UD_PRINCIPAL#33820, C_DNM_UD_ORGANICA_PRINCIPAL#33799 AS C_DNM_UD_ORGANICA_PRINCIPAL#33821, B_SW_DEP_EDP_PRINCIPAL#33800 AS B_SW_DEP_EDP_PRINCIPAL#33822, C_ID_DEP_EDP_PRINCIPAL#33801 AS C_ID_DEP_EDP_PRINCIPAL#33823, C_DNM_UD_ORGANICA_EDP_PRINCIPAL#33802 AS C_DNM_UD_ORGANICA_EDP_PRINCIPAL#33824, C_ID_ESTADO#33803 AS C_ID_ESTADO#33825, D_VIG_ALTA_OFICIAL#33804 AS D_VIG_ALTA_OFICIAL#33826, NIF_CIF#33805 AS NIF_CIF#33827, C_ID_AMB_PROVINCIA#33806 AS C_ID_AMB_PROVINCIA#33828, C_DESC_PROV#33807 AS C_DESC_PROV#33829, CONTACTOS#33808 AS CONTACTOS#33830, C_DNM_UD_ORGANICA_Norm#33809 AS C_DNM_UD_ORGANICA_Norm#33831, source_names_stopwords#32145 AS source_names_stopwords#33832, target_names_stopwords#32227 AS target_names_stopwords#33833, final_score#32306 AS final_score#33834]\n:                 +- Deduplicate [Entidad_Norm#33790]\n:                    +- Sort [Similitud#33664 DESC NULLS LAST], true\n:                       +- Project [Entidad_Norm#33790, N_NIVEL_JERARQUICO#33795, source_name#33788, target_name#33789, C_ID_UD_ORGANICA#33791, C_DNM_UD_ORGANICA#33792, C_ID_NIVEL_ADMON#33793, C_ID_TIPO_ENT_PUBLICA#33794, C_ID_DEP_UD_SUPERIOR#33796, C_DNM_UD_ORGANICA_SUPERIOR#33797, C_ID_DEP_UD_PRINCIPAL#33798, C_DNM_UD_ORGANICA_PRINCIPAL#33799, B_SW_DEP_EDP_PRINCIPAL#33800, C_ID_DEP_EDP_PRINCIPAL#33801, C_DNM_UD_ORGANICA_EDP_PRINCIPAL#33802, C_ID_ESTADO#33803, D_VIG_ALTA_OFICIAL#33804, NIF_CIF#33805, C_ID_AMB_PROVINCIA#33806, C_DESC_PROV#33807, CONTACTOS#33808, C_DNM_UD_ORGANICA_Norm#33809, source_names_stopwords#32145, target_names_stopwords#32227, ... 2 more fields]\n:                          +- Project [Entidad_Norm#33790, N_NIVEL_JERARQUICO#33795, source_name#33788, target_name#33789, C_ID_UD_ORGANICA#33791, C_DNM_UD_ORGANICA#33792, C_ID_NIVEL_ADMON#33793, C_ID_TIPO_ENT_PUBLICA#33794, C_ID_DEP_UD_SUPERIOR#33796, C_DNM_UD_ORGANICA_SUPERIOR#33797, C_ID_DEP_UD_PRINCIPAL#33798, C_DNM_UD_ORGANICA_PRINCIPAL#33799, B_SW_DEP_EDP_PRINCIPAL#33800, C_ID_DEP_EDP_PRINCIPAL#33801, C_DNM_UD_ORGANICA_EDP_PRINCIPAL#33802, C_ID_ESTADO#33803, D_VIG_ALTA_OFICIAL#33804, NIF_CIF#33805, C_ID_AMB_PROVINCIA#33806, C_DESC_PROV#33807, CONTACTOS#33808, C_DNM_UD_ORGANICA_Norm#33809, source_names_stopwords#32145, target_names_stopwords#32227, final_score#32306]\n:                             +- Join LeftAnti, ((Entidad_Norm#33790 = Entidad_Norm#33617) AND (N_NIVEL_JERARQUICO#33795 = N_NIVEL_JERARQUICO#33622))\n:                                :- Deduplicate [Entidad_Norm#33790, C_DNM_UD_ORGANICA_Norm#33809]\n:                                :  +- Filter (cast(final_score#32306 as double) >= cast(0.875 as double))\n:                                :     +- Project [source_name#33788, target_name#33789, Entidad_Norm#33790, C_ID_UD_ORGANICA#33791, C_DNM_UD_ORGANICA#33792, C_ID_NIVEL_ADMON#33793, C_ID_TIPO_ENT_PUBLICA#33794, N_NIVEL_JERARQUICO#33795, C_ID_DEP_UD_SUPERIOR#33796, C_DNM_UD_ORGANICA_SUPERIOR#33797, C_ID_DEP_UD_PRINCIPAL#33798, C_DNM_UD_ORGANICA_PRINCIPAL#33799, B_SW_DEP_EDP_PRINCIPAL#33800, C_ID_DEP_EDP_PRINCIPAL#33801, C_DNM_UD_ORGANICA_EDP_PRINCIPAL#33802, C_ID_ESTADO#33803, D_VIG_ALTA_OFICIAL#33804, NIF_CIF#33805, C_ID_AMB_PROVINCIA#33806, C_DESC_PROV#33807, CONTACTOS#33808, C_DNM_UD_ORGANICA_Norm#33809, source_names_stopwords#32145, target_names_stopwords#32227, CASE WHEN NOT (source_names_stopwords#32145 = target_names_stopwords#32227) THEN final_score#32254 ELSE cast(1 as float) END AS final_score#32306]\n:                                :        +- Project [source_name#33788, target_name#33789, Entidad_Norm#33790, C_ID_UD_ORGANICA#33791, C_DNM_UD_ORGANICA#33792, C_ID_NIVEL_ADMON#33793, C_ID_TIPO_ENT_PUBLICA#33794, N_NIVEL_JERARQUICO#33795, C_ID_DEP_UD_SUPERIOR#33796, C_DNM_UD_ORGANICA_SUPERIOR#33797, C_ID_DEP_UD_PRINCIPAL#33798, C_DNM_UD_ORGANICA_PRINCIPAL#33799, B_SW_DEP_EDP_PRINCIPAL#33800, C_ID_DEP_EDP_PRINCIPAL#33801, C_DNM_UD_ORGANICA_EDP_PRINCIPAL#33802, C_ID_ESTADO#33803, D_VIG_ALTA_OFICIAL#33804, NIF_CIF#33805, C_ID_AMB_PROVINCIA#33806, C_DESC_PROV#33807, CONTACTOS#33808, C_DNM_UD_ORGANICA_Norm#33809, source_names_stopwords#32145, target_names_stopwords#32227, final_score#32254]\n:                                :           +- Project [source_name#33788, target_name#33789, Entidad_Norm#33790, C_ID_UD_ORGANICA#33791, C_DNM_UD_ORGANICA#33792, C_ID_NIVEL_ADMON#33793, C_ID_TIPO_ENT_PUBLICA#33794, N_NIVEL_JERARQUICO#33795, C_ID_DEP_UD_SUPERIOR#33796, C_DNM_UD_ORGANICA_SUPERIOR#33797, C_ID_DEP_UD_PRINCIPAL#33798, C_DNM_UD_ORGANICA_PRINCIPAL#33799, B_SW_DEP_EDP_PRINCIPAL#33800, C_ID_DEP_EDP_PRINCIPAL#33801, C_DNM_UD_ORGANICA_EDP_PRINCIPAL#33802, C_ID_ESTADO#33803, D_VIG_ALTA_OFICIAL#33804, NIF_CIF#33805, C_ID_AMB_PROVINCIA#33806, C_DESC_PROV#33807, CONTACTOS#33808, C_DNM_UD_ORGANICA_Norm#33809, aux#32170, source_names_stopwords#32145, ... 2 more fields]\n:                                :              +- Project [source_name#33788, target_name#33789, Entidad_Norm#33790, C_ID_UD_ORGANICA#33791, C_DNM_UD_ORGANICA#33792, C_ID_NIVEL_ADMON#33793, C_ID_TIPO_ENT_PUBLICA#33794, N_NIVEL_JERARQUICO#33795, C_ID_DEP_UD_SUPERIOR#33796, C_DNM_UD_ORGANICA_SUPERIOR#33797, C_ID_DEP_UD_PRINCIPAL#33798, C_DNM_UD_ORGANICA_PRINCIPAL#33799, B_SW_DEP_EDP_PRINCIPAL#33800, C_ID_DEP_EDP_PRINCIPAL#33801, C_DNM_UD_ORGANICA_EDP_PRINCIPAL#33802, C_ID_ESTADO#33803, D_VIG_ALTA_OFICIAL#33804, NIF_CIF#33805, C_ID_AMB_PROVINCIA#33806, C_DESC_PROV#33807, CONTACTOS#33808, C_DNM_UD_ORGANICA_Norm#33809, aux#32170, source_names_stopwords#32145, array_join(target_names_stopwords#32198,  , None) AS target_names_stopwords#32227]\n:                                :                 +- Project [source_name#33788, target_name#33789, Entidad_Norm#33790, C_ID_UD_ORGANICA#33791, C_DNM_UD_ORGANICA#33792, C_ID_NIVEL_ADMON#33793, C_ID_TIPO_ENT_PUBLICA#33794, N_NIVEL_JERARQUICO#33795, C_ID_DEP_UD_SUPERIOR#33796, C_DNM_UD_ORGANICA_SUPERIOR#33797, C_ID_DEP_UD_PRINCIPAL#33798, C_DNM_UD_ORGANICA_PRINCIPAL#33799, B_SW_DEP_EDP_PRINCIPAL#33800, C_ID_DEP_EDP_PRINCIPAL#33801, C_DNM_UD_ORGANICA_EDP_PRINCIPAL#33802, C_ID_ESTADO#33803, D_VIG_ALTA_OFICIAL#33804, NIF_CIF#33805, C_ID_AMB_PROVINCIA#33806, C_DESC_PROV#33807, CONTACTOS#33808, C_DNM_UD_ORGANICA_Norm#33809, aux#32170, source_names_stopwords#32145, UDF(aux#32170) AS target_names_stopwords#32198]\n:                                :                    +- Project [source_name#33788, target_name#33789, Entidad_Norm#33790, C_ID_UD_ORGANICA#33791, C_DNM_UD_ORGANICA#33792, C_ID_NIVEL_ADMON#33793, C_ID_TIPO_ENT_PUBLICA#33794, N_NIVEL_JERARQUICO#33795, C_ID_DEP_UD_SUPERIOR#33796, C_DNM_UD_ORGANICA_SUPERIOR#33797, C_ID_DEP_UD_PRINCIPAL#33798, C_DNM_UD_ORGANICA_PRINCIPAL#33799, B_SW_DEP_EDP_PRINCIPAL#33800, C_ID_DEP_EDP_PRINCIPAL#33801, C_DNM_UD_ORGANICA_EDP_PRINCIPAL#33802, C_ID_ESTADO#33803, D_VIG_ALTA_OFICIAL#33804, NIF_CIF#33805, C_ID_AMB_PROVINCIA#33806, C_DESC_PROV#33807, CONTACTOS#33808, C_DNM_UD_ORGANICA_Norm#33809, split(target_name#33789, \\s+, -1) AS aux#32170, source_names_stopwords#32145]\n:                                :                       +- Project [source_name#33788, target_name#33789, Entidad_Norm#33790, C_ID_UD_ORGANICA#33791, C_DNM_UD_ORGANICA#33792, C_ID_NIVEL_ADMON#33793, C_ID_TIPO_ENT_PUBLICA#33794, N_NIVEL_JERARQUICO#33795, C_ID_DEP_UD_SUPERIOR#33796, C_DNM_UD_ORGANICA_SUPERIOR#33797, C_ID_DEP_UD_PRINCIPAL#33798, C_DNM_UD_ORGANICA_PRINCIPAL#33799, B_SW_DEP_EDP_PRINCIPAL#33800, C_ID_DEP_EDP_PRINCIPAL#33801, C_DNM_UD_ORGANICA_EDP_PRINCIPAL#33802, C_ID_ESTADO#33803, D_VIG_ALTA_OFICIAL#33804, NIF_CIF#33805, C_ID_AMB_PROVINCIA#33806, C_DESC_PROV#33807, CONTACTOS#33808, C_DNM_UD_ORGANICA_Norm#33809, aux#32090, array_join(source_names_stopwords#32117,  , None) AS source_names_stopwords#32145]\n:                                :                          +- Project [source_name#33788, target_name#33789, Entidad_Norm#33790, C_ID_UD_ORGANICA#33791, C_DNM_UD_ORGANICA#33792, C_ID_NIVEL_ADMON#33793, C_ID_TIPO_ENT_PUBLICA#33794, N_NIVEL_JERARQUICO#33795, C_ID_DEP_UD_SUPERIOR#33796, C_DNM_UD_ORGANICA_SUPERIOR#33797, C_ID_DEP_UD_PRINCIPAL#33798, C_DNM_UD_ORGANICA_PRINCIPAL#33799, B_SW_DEP_EDP_PRINCIPAL#33800, C_ID_DEP_EDP_PRINCIPAL#33801, C_DNM_UD_ORGANICA_EDP_PRINCIPAL#33802, C_ID_ESTADO#33803, D_VIG_ALTA_OFICIAL#33804, NIF_CIF#33805, C_ID_AMB_PROVINCIA#33806, C_DESC_PROV#33807, CONTACTOS#33808, C_DNM_UD_ORGANICA_Norm#33809, aux#32090, UDF(aux#32090) AS source_names_stopwords#32117]\n:                                :                             +- Project [source_name#33788, target_name#33789, Entidad_Norm#33790, C_ID_UD_ORGANICA#33791, C_DNM_UD_ORGANICA#33792, C_ID_NIVEL_ADMON#33793, C_ID_TIPO_ENT_PUBLICA#33794, N_NIVEL_JERARQUICO#33795, C_ID_DEP_UD_SUPERIOR#33796, C_DNM_UD_ORGANICA_SUPERIOR#33797, C_ID_DEP_UD_PRINCIPAL#33798, C_DNM_UD_ORGANICA_PRINCIPAL#33799, B_SW_DEP_EDP_PRINCIPAL#33800, C_ID_DEP_EDP_PRINCIPAL#33801, C_DNM_UD_ORGANICA_EDP_PRINCIPAL#33802, C_ID_ESTADO#33803, D_VIG_ALTA_OFICIAL#33804, NIF_CIF#33805, C_ID_AMB_PROVINCIA#33806, C_DESC_PROV#33807, CONTACTOS#33808, C_DNM_UD_ORGANICA_Norm#33809, split(source_name#33788, \\s+, -1) AS aux#32090]\n:                                :                                +- LogicalRDD [source_name#33788, target_name#33789, Entidad_Norm#33790, C_ID_UD_ORGANICA#33791, C_DNM_UD_ORGANICA#33792, C_ID_NIVEL_ADMON#33793, C_ID_TIPO_ENT_PUBLICA#33794, N_NIVEL_JERARQUICO#33795, C_ID_DEP_UD_SUPERIOR#33796, C_DNM_UD_ORGANICA_SUPERIOR#33797, C_ID_DEP_UD_PRINCIPAL#33798, C_DNM_UD_ORGANICA_PRINCIPAL#33799, B_SW_DEP_EDP_PRINCIPAL#33800, C_ID_DEP_EDP_PRINCIPAL#33801, C_DNM_UD_ORGANICA_EDP_PRINCIPAL#33802, C_ID_ESTADO#33803, D_VIG_ALTA_OFICIAL#33804, NIF_CIF#33805, C_ID_AMB_PROVINCIA#33806, C_DESC_PROV#33807, CONTACTOS#33808, C_DNM_UD_ORGANICA_Norm#33809], false\n:                                +- Project [Entidad_Norm#33617, N_NIVEL_JERARQUICO#33622]\n:                                   +- Filter (count#33609L = cast(1 as bigint))\n:                                      +- Aggregate [Entidad_Norm#33617, N_NIVEL_JERARQUICO#33622], [Entidad_Norm#33617, N_NIVEL_JERARQUICO#33622, count(1) AS count#33609L]\n:                                         +- Deduplicate [Entidad_Norm#33617, C_DNM_UD_ORGANICA_Norm#33636]\n:                                            +- Filter (cast(final_score#32306 as double) >= cast(0.875 as double))\n:                                               +- Project [source_name#33615, target_name#33616, Entidad_Norm#33617, C_ID_UD_ORGANICA#33618, C_DNM_UD_ORGANICA#33619, C_ID_NIVEL_ADMON#33620, C_ID_TIPO_ENT_PUBLICA#33621, N_NIVEL_JERARQUICO#33622, C_ID_DEP_UD_SUPERIOR#33623, C_DNM_UD_ORGANICA_SUPERIOR#33624, C_ID_DEP_UD_PRINCIPAL#33625, C_DNM_UD_ORGANICA_PRINCIPAL#33626, B_SW_DEP_EDP_PRINCIPAL#33627, C_ID_DEP_EDP_PRINCIPAL#33628, C_DNM_UD_ORGANICA_EDP_PRINCIPAL#33629, C_ID_ESTADO#33630, D_VIG_ALTA_OFICIAL#33631, NIF_CIF#33632, C_ID_AMB_PROVINCIA#33633, C_DESC_PROV#33634, CONTACTOS#33635, C_DNM_UD_ORGANICA_Norm#33636, source_names_stopwords#32145, target_names_stopwords#32227, CASE WHEN NOT (source_names_stopwords#32145 = target_names_stopwords#32227) THEN final_score#32254 ELSE cast(1 as float) END AS final_score#32306]\n:                                                  +- Project [source_name#33615, target_name#33616, Entidad_Norm#33617, C_ID_UD_ORGANICA#33618, C_DNM_UD_ORGANICA#33619, C_ID_NIVEL_ADMON#33620, C_ID_TIPO_ENT_PUBLICA#33621, N_NIVEL_JERARQUICO#33622, C_ID_DEP_UD_SUPERIOR#33623, C_DNM_UD_ORGANICA_SUPERIOR#33624, C_ID_DEP_UD_PRINCIPAL#33625, C_DNM_UD_ORGANICA_PRINCIPAL#33626, B_SW_DEP_EDP_PRINCIPAL#33627, C_ID_DEP_EDP_PRINCIPAL#33628, C_DNM_UD_ORGANICA_EDP_PRINCIPAL#33629, C_ID_ESTADO#33630, D_VIG_ALTA_OFICIAL#33631, NIF_CIF#33632, C_ID_AMB_PROVINCIA#33633, C_DESC_PROV#33634, CONTACTOS#33635, C_DNM_UD_ORGANICA_Norm#33636, source_names_stopwords#32145, target_names_stopwords#32227, final_score#32254]\n:                                                     +- Project [source_name#33615, target_name#33616, Entidad_Norm#33617, C_ID_UD_ORGANICA#33618, C_DNM_UD_ORGANICA#33619, C_ID_NIVEL_ADMON#33620, C_ID_TIPO_ENT_PUBLICA#33621, N_NIVEL_JERARQUICO#33622, C_ID_DEP_UD_SUPERIOR#33623, C_DNM_UD_ORGANICA_SUPERIOR#33624, C_ID_DEP_UD_PRINCIPAL#33625, C_DNM_UD_ORGANICA_PRINCIPAL#33626, B_SW_DEP_EDP_PRINCIPAL#33627, C_ID_DEP_EDP_PRINCIPAL#33628, C_DNM_UD_ORGANICA_EDP_PRINCIPAL#33629, C_ID_ESTADO#33630, D_VIG_ALTA_OFICIAL#33631, NIF_CIF#33632, C_ID_AMB_PROVINCIA#33633, C_DESC_PROV#33634, CONTACTOS#33635, C_DNM_UD_ORGANICA_Norm#33636, aux#32170, source_names_stopwords#32145, ... 2 more fields]\n:                                                        +- Project [source_name#33615, target_name#33616, Entidad_Norm#33617, C_ID_UD_ORGANICA#33618, C_DNM_UD_ORGANICA#33619, C_ID_NIVEL_ADMON#33620, C_ID_TIPO_ENT_PUBLICA#33621, N_NIVEL_JERARQUICO#33622, C_ID_DEP_UD_SUPERIOR#33623, C_DNM_UD_ORGANICA_SUPERIOR#33624, C_ID_DEP_UD_PRINCIPAL#33625, C_DNM_UD_ORGANICA_PRINCIPAL#33626, B_SW_DEP_EDP_PRINCIPAL#33627, C_ID_DEP_EDP_PRINCIPAL#33628, C_DNM_UD_ORGANICA_EDP_PRINCIPAL#33629, C_ID_ESTADO#33630, D_VIG_ALTA_OFICIAL#33631, NIF_CIF#33632, C_ID_AMB_PROVINCIA#33633, C_DESC_PROV#33634, CONTACTOS#33635, C_DNM_UD_ORGANICA_Norm#33636, aux#32170, source_names_stopwords#32145, array_join(target_names_stopwords#32198,  , None) AS target_names_stopwords#32227]\n:                                                           +- Project [source_name#33615, target_name#33616, Entidad_Norm#33617, C_ID_UD_ORGANICA#33618, C_DNM_UD_ORGANICA#33619, C_ID_NIVEL_ADMON#33620, C_ID_TIPO_ENT_PUBLICA#33621, N_NIVEL_JERARQUICO#33622, C_ID_DEP_UD_SUPERIOR#33623, C_DNM_UD_ORGANICA_SUPERIOR#33624, C_ID_DEP_UD_PRINCIPAL#33625, C_DNM_UD_ORGANICA_PRINCIPAL#33626, B_SW_DEP_EDP_PRINCIPAL#33627, C_ID_DEP_EDP_PRINCIPAL#33628, C_DNM_UD_ORGANICA_EDP_PRINCIPAL#33629, C_ID_ESTADO#33630, D_VIG_ALTA_OFICIAL#33631, NIF_CIF#33632, C_ID_AMB_PROVINCIA#33633, C_DESC_PROV#33634, CONTACTOS#33635, C_DNM_UD_ORGANICA_Norm#33636, aux#32170, source_names_stopwords#32145, UDF(aux#32170) AS target_names_stopwords#32198]\n:                                                              +- Project [source_name#33615, target_name#33616, Entidad_Norm#33617, C_ID_UD_ORGANICA#33618, C_DNM_UD_ORGANICA#33619, C_ID_NIVEL_ADMON#33620, C_ID_TIPO_ENT_PUBLICA#33621, N_NIVEL_JERARQUICO#33622, C_ID_DEP_UD_SUPERIOR#33623, C_DNM_UD_ORGANICA_SUPERIOR#33624, C_ID_DEP_UD_PRINCIPAL#33625, C_DNM_UD_ORGANICA_PRINCIPAL#33626, B_SW_DEP_EDP_PRINCIPAL#33627, C_ID_DEP_EDP_PRINCIPAL#33628, C_DNM_UD_ORGANICA_EDP_PRINCIPAL#33629, C_ID_ESTADO#33630, D_VIG_ALTA_OFICIAL#33631, NIF_CIF#33632, C_ID_AMB_PROVINCIA#33633, C_DESC_PROV#33634, CONTACTOS#33635, C_DNM_UD_ORGANICA_Norm#33636, split(target_name#33616, \\s+, -1) AS aux#32170, source_names_stopwords#32145]\n:                                                                 +- Project [source_name#33615, target_name#33616, Entidad_Norm#33617, C_ID_UD_ORGANICA#33618, C_DNM_UD_ORGANICA#33619, C_ID_NIVEL_ADMON#33620, C_ID_TIPO_ENT_PUBLICA#33621, N_NIVEL_JERARQUICO#33622, C_ID_DEP_UD_SUPERIOR#33623, C_DNM_UD_ORGANICA_SUPERIOR#33624, C_ID_DEP_UD_PRINCIPAL#33625, C_DNM_UD_ORGANICA_PRINCIPAL#33626, B_SW_DEP_EDP_PRINCIPAL#33627, C_ID_DEP_EDP_PRINCIPAL#33628, C_DNM_UD_ORGANICA_EDP_PRINCIPAL#33629, C_ID_ESTADO#33630, D_VIG_ALTA_OFICIAL#33631, NIF_CIF#33632, C_ID_AMB_PROVINCIA#33633, C_DESC_PROV#33634, CONTACTOS#33635, C_DNM_UD_ORGANICA_Norm#33636, aux#32090, array_join(source_names_stopwords#32117,  , None) AS source_names_stopwords#32145]\n:                                                                    +- Project [source_name#33615, target_name#33616, Entidad_Norm#33617, C_ID_UD_ORGANICA#33618, C_DNM_UD_ORGANICA#33619, C_ID_NIVEL_ADMON#33620, C_ID_TIPO_ENT_PUBLICA#33621, N_NIVEL_JERARQUICO#33622, C_ID_DEP_UD_SUPERIOR#33623, C_DNM_UD_ORGANICA_SUPERIOR#33624, C_ID_DEP_UD_PRINCIPAL#33625, C_DNM_UD_ORGANICA_PRINCIPAL#33626, B_SW_DEP_EDP_PRINCIPAL#33627, C_ID_DEP_EDP_PRINCIPAL#33628, C_DNM_UD_ORGANICA_EDP_PRINCIPAL#33629, C_ID_ESTADO#33630, D_VIG_ALTA_OFICIAL#33631, NIF_CIF#33632, C_ID_AMB_PROVINCIA#33633, C_DESC_PROV#33634, CONTACTOS#33635, C_DNM_UD_ORGANICA_Norm#33636, aux#32090, UDF(aux#32090) AS source_names_stopwords#32117]\n:                                                                       +- Project [source_name#33615, target_name#33616, Entidad_Norm#33617, C_ID_UD_ORGANICA#33618, C_DNM_UD_ORGANICA#33619, C_ID_NIVEL_ADMON#33620, C_ID_TIPO_ENT_PUBLICA#33621, N_NIVEL_JERARQUICO#33622, C_ID_DEP_UD_SUPERIOR#33623, C_DNM_UD_ORGANICA_SUPERIOR#33624, C_ID_DEP_UD_PRINCIPAL#33625, C_DNM_UD_ORGANICA_PRINCIPAL#33626, B_SW_DEP_EDP_PRINCIPAL#33627, C_ID_DEP_EDP_PRINCIPAL#33628, C_DNM_UD_ORGANICA_EDP_PRINCIPAL#33629, C_ID_ESTADO#33630, D_VIG_ALTA_OFICIAL#33631, NIF_CIF#33632, C_ID_AMB_PROVINCIA#33633, C_DESC_PROV#33634, CONTACTOS#33635, C_DNM_UD_ORGANICA_Norm#33636, split(source_name#33615, \\s+, -1) AS aux#32090]\n:                                                                          +- LogicalRDD [source_name#33615, target_name#33616, Entidad_Norm#33617, C_ID_UD_ORGANICA#33618, C_DNM_UD_ORGANICA#33619, C_ID_NIVEL_ADMON#33620, C_ID_TIPO_ENT_PUBLICA#33621, N_NIVEL_JERARQUICO#33622, C_ID_DEP_UD_SUPERIOR#33623, C_DNM_UD_ORGANICA_SUPERIOR#33624, C_ID_DEP_UD_PRINCIPAL#33625, C_DNM_UD_ORGANICA_PRINCIPAL#33626, B_SW_DEP_EDP_PRINCIPAL#33627, C_ID_DEP_EDP_PRINCIPAL#33628, C_DNM_UD_ORGANICA_EDP_PRINCIPAL#33629, C_ID_ESTADO#33630, D_VIG_ALTA_OFICIAL#33631, NIF_CIF#33632, C_ID_AMB_PROVINCIA#33633, C_DESC_PROV#33634, CONTACTOS#33635, C_DNM_UD_ORGANICA_Norm#33636], false\n+- Project [Id#10956 AS Id#34542, CIF#34185 AS CIF#34543, Entidad_Norm#34074 AS Entidad_Norm#34544, Provincia_Entidad#34130 AS Provincia_Entidad#34545, ID_ENTIDAD#7148 AS ID_ENTIDAD#34546, NIF_COD#7206 AS NIF_COD#34547, ACRONIMO#7265 AS ACRONIMO#34548, NOMBRE_ENTIDAD#7325 AS NOMBRE_ENTIDAD#34549, Nombre_Entidad_Mostrar#7386 AS Nombre_Entidad_Mostrar#34550, TIPO_ENTIDAD_N1_1#7448 AS TIPO_ENTIDAD_N1_1#34551, TIPO_ENTIDAD_N2_1#7511 AS TIPO_ENTIDAD_N2_1#34552, DIRECCION_POSTAL#7575 AS DIRECCION_POSTAL#34553, COD_POSTAL#7640 AS COD_POSTAL#34554, COD_PROVINCIA#7706 AS COD_PROVINCIA#34555, PROVINCIA#7773 AS PROVINCIA#34556, COD_CCAA#7841 AS COD_CCAA#34557, CCAA#7910 AS CCAA#34558, ENLACE_WEB#7980 AS ENLACE_WEB#34559, SOMMA#8051 AS SOMMA#34560, TIPO_ENTIDAD_REGIONAL#8123 AS TIPO_ENTIDAD_REGIONAL#34561, ESTADO_x#8196 AS ESTADO_x#34562, CodigoInvente#34358 AS CodigoInvente#34563, DenominacionSocial#34355 AS DenominacionSocial#34564, FormaJuridica_Codigo#34359 AS FormaJuridica_Codigo#34565, ... 31 more fields]\n   +- Project [Id#10956, NIF_CIF#34449 AS CIF#34185, C_DNM_UD_ORGANICA#34436 AS Entidad_Norm#34074, C_DESC_PROV#34451 AS Provincia_Entidad#34130, ID_ENTIDAD#7148, NIF_COD#7206, ACRONIMO#7265, NOMBRE_ENTIDAD#7325, Nombre_Entidad_Mostrar#7386, TIPO_ENTIDAD_N1_1#7448, TIPO_ENTIDAD_N2_1#7511, DIRECCION_POSTAL#7575, COD_POSTAL#7640, COD_PROVINCIA#7706, PROVINCIA#7773, COD_CCAA#7841, CCAA#7910, ENLACE_WEB#7980, SOMMA#8051, TIPO_ENTIDAD_REGIONAL#8123, ESTADO_x#8196, CodigoInvente#34358, DenominacionSocial#34355, FormaJuridica_Codigo#34359, ... 31 more fields]\n      +- Filter isnull(final_score#32306)\n         +- Join LeftOuter, (Entidad_Norm#14290 = Entidad_Norm#34434)\n            :- Project [Id#10956, CIF#14393, Entidad_Norm#14290, Provincia_Entidad#14341, ID_ENTIDAD#7148, NIF_COD#7206, ACRONIMO#7265, NOMBRE_ENTIDAD#7325, Nombre_Entidad_Mostrar#7386, TIPO_ENTIDAD_N1_1#7448, TIPO_ENTIDAD_N2_1#7511, DIRECCION_POSTAL#7575, COD_POSTAL#7640, COD_PROVINCIA#7706, PROVINCIA#7773, COD_CCAA#7841, CCAA#7910, ENLACE_WEB#7980, SOMMA#8051, TIPO_ENTIDAD_REGIONAL#8123, ESTADO_x#8196, CodigoInvente#34358, DenominacionSocial#34355, FormaJuridica_Codigo#34359, ... 9 more fields]\n            :  +- Union false, false\n            :     :- Project [Id#10956, NIF#34357 AS CIF#14393, DenominacionSocial_Norm#34363 AS Entidad_Norm#14290, Provincia_Codigo#34356 AS Provincia_Entidad#14341, ID_ENTIDAD#7148, NIF_COD#7206, ACRONIMO#7265, NOMBRE_ENTIDAD#7325, Nombre_Entidad_Mostrar#7386, TIPO_ENTIDAD_N1_1#7448, TIPO_ENTIDAD_N2_1#7511, DIRECCION_POSTAL#7575, COD_POSTAL#7640, COD_PROVINCIA#7706, PROVINCIA#7773, COD_CCAA#7841, CCAA#7910, ENLACE_WEB#7980, SOMMA#8051, TIPO_ENTIDAD_REGIONAL#8123, ESTADO_x#8196, CodigoInvente#34358, DenominacionSocial#34355, FormaJuridica_Codigo#34359, ... 27 more fields]\n            :     :  +- Filter isnotnull(final_score#14072)\n            :     :     +- Join LeftOuter, (Entidad_Norm#7034 = Entidad_Norm#34354)\n            :     :        :- Project [Id#10956, Entidad_Norm#7034, ID_ENTIDAD#7148, NIF_COD#7206, ACRONIMO#7265, NOMBRE_ENTIDAD#7325, Nombre_Entidad_Mostrar#7386, TIPO_ENTIDAD_N1_1#7448, TIPO_ENTIDAD_N2_1#7511, DIRECCION_POSTAL#7575, COD_POSTAL#7640, COD_PROVINCIA#7706, PROVINCIA#7773, COD_CCAA#7841, CCAA#7910, ENLACE_WEB#7980, SOMMA#8051, TIPO_ENTIDAD_REGIONAL#8123, ESTADO_x#8196, C_ID_UD_ORGANICA#8898, C_DNM_UD_ORGANICA#8981, C_ID_NIVEL_ADMON#9065, C_ID_TIPO_ENT_PUBLICA#9150, N_NIVEL_JERARQUICO#9236, ... 16 more fields]\n            :     :        :  +- Project [Id#10956, CIF#6977, Entidad_Norm#7034, Provincia_Entidad#7091, ID_ENTIDAD#7148, NIF_COD#7206, ACRONIMO#7265, NOMBRE_ENTIDAD#7325, Nombre_Entidad_Mostrar#7386, TIPO_ENTIDAD_N1_1#7448, TIPO_ENTIDAD_N2_1#7511, DIRECCION_POSTAL#7575, COD_POSTAL#7640, COD_PROVINCIA#7706, PROVINCIA#7773, COD_CCAA#7841, CCAA#7910, ENLACE_WEB#7980, SOMMA#8051, TIPO_ENTIDAD_REGIONAL#8123, ESTADO_x#8196, CodigoInvente#8270, DenominacionSocial#8345, FormaJuridica_Codigo#8421, ... 26 more fields]\n            :     :        :     +- Project [IdOld#10851, Entidad#34297, Origen_Solicitud#34298, Identificadores_Origen#34299, Entidad_Norm#7034, CIF#6977, CIF_validacion#34302, Centro#34303, Centro_Norm#34304, Tipo#34305, Provincia_Entidad#7091, Pais_Entidad#34307, Provincia_Centro#34308, PIC#34309, Tipo_Persona#34310, Entidad_Match#34311, Provincia_Match#34312, Match#34313, Id_NIVEL_1#34314, Id_NIVEL_0#34315, ID_ENTIDAD_NIVEL_0#34316, ID_ENTIDAD_NIVEL_1#34317, Jerarquia#34318, NIF_COD_NIVEL_0#34319, ... 79 more fields]\n            :     :        :        +- Project [coalesce(Dummy#11070, Dummy#10962) AS Dummy#11174, IdOld#10851, Entidad#34297, Origen_Solicitud#34298, Identificadores_Origen#34299, Entidad_Norm#7034, CIF#6977, CIF_validacion#34302, Centro#34303, Centro_Norm#34304, Tipo#34305, Provincia_Entidad#7091, Pais_Entidad#34307, Provincia_Centro#34308, PIC#34309, Tipo_Persona#34310, Entidad_Match#34311, Provincia_Match#34312, Match#34313, Id_NIVEL_1#34314, Id_NIVEL_0#34315, ID_ENTIDAD_NIVEL_0#34316, ID_ENTIDAD_NIVEL_1#34317, Jerarquia#34318, ... 80 more fields]\n            :     :        :           +- Join FullOuter, (Dummy#11070 = Dummy#10962)\n            :     :        :              :- Project [IdOld#10851, Entidad#34297, Origen_Solicitud#34298, Identificadores_Origen#34299, Entidad_Norm#7034, CIF#6977, CIF_validacion#34302, Centro#34303, Centro_Norm#34304, Tipo#34305, Provincia_Entidad#7091, Pais_Entidad#34307, Provincia_Centro#34308, PIC#34309, Tipo_Persona#34310, Entidad_Match#34311, Provincia_Match#34312, Match#34313, Id_NIVEL_1#34314, Id_NIVEL_0#34315, ID_ENTIDAD_NIVEL_0#34316, ID_ENTIDAD_NIVEL_1#34317, Jerarquia#34318, NIF_COD_NIVEL_0#34319, ... 79 more fields]\n            :     :        :              :  +- Project [IdOld#10851, Entidad#34297, Origen_Solicitud#34298, Identificadores_Origen#34299, Entidad_Norm#7034, CIF#6977, CIF_validacion#34302, Centro#34303, Centro_Norm#34304, Tipo#34305, Provincia_Entidad#7091, Pais_Entidad#34307, Provincia_Centro#34308, PIC#34309, Tipo_Persona#34310, Entidad_Match#34311, Provincia_Match#34312, Match#34313, Id_NIVEL_1#34314, Id_NIVEL_0#34315, ID_ENTIDAD_NIVEL_0#34316, ID_ENTIDAD_NIVEL_1#34317, Jerarquia#34318, NIF_COD_NIVEL_0#34319, ... 81 more fields]\n            :     :        :              :     +- Window [row_number() windowspecdefinition(Dummy#10965L ASC NULLS FIRST, specifiedwindowframe(RowFrame, unboundedpreceding$(), currentrow$())) AS Dummy#11070], [Dummy#10965L ASC NULLS FIRST]\n            :     :        :              :        +- Project [IdOld#10851, Entidad#34297, Origen_Solicitud#34298, Identificadores_Origen#34299, Entidad_Norm#7034, CIF#6977, CIF_validacion#34302, Centro#34303, Centro_Norm#34304, Tipo#34305, Provincia_Entidad#7091, Pais_Entidad#34307, Provincia_Centro#34308, PIC#34309, Tipo_Persona#34310, Entidad_Match#34311, Provincia_Match#34312, Match#34313, Id_NIVEL_1#34314, Id_NIVEL_0#34315, ID_ENTIDAD_NIVEL_0#34316, ID_ENTIDAD_NIVEL_1#34317, Jerarquia#34318, NIF_COD_NIVEL_0#34319, ... 79 more fields]\n            :     :        :              :           +- Project [IdOld#10851, Entidad#34297, Origen_Solicitud#34298, Identificadores_Origen#34299, Entidad_Norm#7034, CIF#6977, CIF_validacion#34302, Centro#34303, Centro_Norm#34304, Tipo#34305, Provincia_Entidad#7091, Pais_Entidad#34307, Provincia_Centro#34308, PIC#34309, Tipo_Persona#34310, Entidad_Match#34311, Provincia_Match#34312, Match#34313, Id_NIVEL_1#34314, Id_NIVEL_0#34315, ID_ENTIDAD_NIVEL_0#34316, ID_ENTIDAD_NIVEL_1#34317, Jerarquia#34318, NIF_COD_NIVEL_0#34319, ... 79 more fields]\n            :     :        :              :              +- Project [Id#34296 AS IdOld#10851, Entidad#34297, Origen_Solicitud#34298, Identificadores_Origen#34299, Entidad_Norm#7034, CIF#6977, CIF_validacion#34302, Centro#34303, Centro_Norm#34304, Tipo#34305, Provincia_Entidad#7091, Pais_Entidad#34307, Provincia_Centro#34308, PIC#34309, Tipo_Persona#34310, Entidad_Match#34311, Provincia_Match#34312, Match#34313, Id_NIVEL_1#34314, Id_NIVEL_0#34315, ID_ENTIDAD_NIVEL_0#34316, ID_ENTIDAD_NIVEL_1#34317, Jerarquia#34318, NIF_COD_NIVEL_0#34319, ... 78 more fields]\n            :     :        :              :                 +- Project [Id#34296, Entidad#34297, Origen_Solicitud#34298, Identificadores_Origen#34299, Entidad_Norm#7034, CIF#6977, CIF_validacion#34302, Centro#34303, Centro_Norm#34304, Tipo#34305, Provincia_Entidad#7091, Pais_Entidad#34307, Provincia_Centro#34308, PIC#34309, Tipo_Persona#34310, Entidad_Match#34311, Provincia_Match#34312, Match#34313, Id_NIVEL_1#34314, Id_NIVEL_0#34315, ID_ENTIDAD_NIVEL_0#34316, ID_ENTIDAD_NIVEL_1#34317, Jerarquia#34318, NIF_COD_NIVEL_0#34319, ... 78 more fields]\n            :     :        :              :                    +- Project [Id#34296, Entidad#34297, Origen_Solicitud#34298, Identificadores_Origen#34299, Entidad_Norm#7034, CIF#6977, CIF_validacion#34302, Centro#34303, Centro_Norm#34304, Tipo#34305, Provincia_Entidad#7091, Pais_Entidad#34307, Provincia_Centro#34308, PIC#34309, Tipo_Persona#34310, Entidad_Match#34311, Provincia_Match#34312, Match#34313, Id_NIVEL_1#34314, Id_NIVEL_0#34315, ID_ENTIDAD_NIVEL_0#34316, ID_ENTIDAD_NIVEL_1#34317, Jerarquia#34318, NIF_COD_NIVEL_0#34319, ... 77 more fields]\n            :     :        :              :                       +- Project [Id#34296, Entidad#34297, Origen_Solicitud#34298, Identificadores_Origen#34299, Entidad_Norm#7034, CIF#6977, CIF_validacion#34302, Centro#34303, Centro_Norm#34304, Tipo#34305, Provincia_Entidad#7091, Pais_Entidad#34307, Provincia_Centro#34308, PIC#34309, Tipo_Persona#34310, Entidad_Match#34311, Provincia_Match#34312, Match#34313, Id_NIVEL_1#34314, Id_NIVEL_0#34315, ID_ENTIDAD_NIVEL_0#34316, ID_ENTIDAD_NIVEL_1#34317, Jerarquia#34318, NIF_COD_NIVEL_0#34319, ... 76 more fields]\n            :     :        :              :                          +- Project [Id#34296, Entidad#34297, Origen_Solicitud#34298, Identificadores_Origen#34299, Entidad_Norm#7034, CIF#6977, CIF_validacion#34302, Centro#34303, Centro_Norm#34304, Tipo#34305, Provincia_Entidad#7091, Pais_Entidad#34307, Provincia_Centro#34308, PIC#34309, Tipo_Persona#34310, Entidad_Match#34311, Provincia_Match#34312, Match#34313, Id_NIVEL_1#34314, Id_NIVEL_0#34315, ID_ENTIDAD_NIVEL_0#34316, ID_ENTIDAD_NIVEL_1#34317, Jerarquia#34318, NIF_COD_NIVEL_0#34319, ... 75 more fields]\n            :     :        :              :                             +- Project [Id#34296, Entidad#34297, Origen_Solicitud#34298, Identificadores_Origen#34299, Entidad_Norm#7034, CIF#6977, CIF_validacion#34302, Centro#34303, Centro_Norm#34304, Tipo#34305, Provincia_Entidad#7091, Pais_Entidad#34307, Provincia_Centro#34308, PIC#34309, Tipo_Persona#34310, Entidad_Match#34311, Provincia_Match#34312, Match#34313, Id_NIVEL_1#34314, Id_NIVEL_0#34315, ID_ENTIDAD_NIVEL_0#34316, ID_ENTIDAD_NIVEL_1#34317, Jerarquia#34318, NIF_COD_NIVEL_0#34319, ... 74 more fields]\n            :     :        :              :                                +- Project [Id#34296, Entidad#34297, Origen_Solicitud#34298, Identificadores_Origen#34299, Entidad_Norm#7034, CIF#6977, CIF_validacion#34302, Centro#34303, Centro_Norm#34304, Tipo#34305, Provincia_Entidad#7091, Pais_Entidad#34307, Provincia_Centro#34308, PIC#34309, Tipo_Persona#34310, Entidad_Match#34311, Provincia_Match#34312, Match#34313, Id_NIVEL_1#34314, Id_NIVEL_0#34315, ID_ENTIDAD_NIVEL_0#34316, ID_ENTIDAD_NIVEL_1#34317, Jerarquia#34318, NIF_COD_NIVEL_0#34319, ... 73 more fields]\n            :     :        :              :                                   +- Project [Id#34296, Entidad#34297, Origen_Solicitud#34298, Identificadores_Origen#34299, Entidad_Norm#7034, CIF#6977, CIF_validacion#34302, Centro#34303, Centro_Norm#34304, Tipo#34305, Provincia_Entidad#7091, Pais_Entidad#34307, Provincia_Centro#34308, PIC#34309, Tipo_Persona#34310, Entidad_Match#34311, Provincia_Match#34312, Match#34313, Id_NIVEL_1#34314, Id_NIVEL_0#34315, ID_ENTIDAD_NIVEL_0#34316, ID_ENTIDAD_NIVEL_1#34317, Jerarquia#34318, NIF_COD_NIVEL_0#34319, ... 72 more fields]\n            :     :        :              :                                      +- Project [Id#34296, Entidad#34297, Origen_Solicitud#34298, Identificadores_Origen#34299, Entidad_Norm#7034, CIF#6977, CIF_validacion#34302, Centro#34303, Centro_Norm#34304, Tipo#34305, Provincia_Entidad#7091, Pais_Entidad#34307, Provincia_Centro#34308, PIC#34309, Tipo_Persona#34310, Entidad_Match#34311, Provincia_Match#34312, Match#34313, Id_NIVEL_1#34314, Id_NIVEL_0#34315, ID_ENTIDAD_NIVEL_0#34316, ID_ENTIDAD_NIVEL_1#34317, Jerarquia#34318, NIF_COD_NIVEL_0#34319, ... 71 more fields]\n            :     :        :              :                                         +- Project [Id#34296, Entidad#34297, Origen_Solicitud#34298, Identificadores_Origen#34299, Entidad_Norm#7034, CIF#6977, CIF_validacion#34302, Centro#34303, Centro_Norm#34304, Tipo#34305, Provincia_Entidad#7091, Pais_Entidad#34307, Provincia_Centro#34308, PIC#34309, Tipo_Persona#34310, Entidad_Match#34311, Provincia_Match#34312, Match#34313, Id_NIVEL_1#34314, Id_NIVEL_0#34315, ID_ENTIDAD_NIVEL_0#34316, ID_ENTIDAD_NIVEL_1#34317, Jerarquia#34318, NIF_COD_NIVEL_0#34319, ... 70 more fields]\n            :     :        :              :                                            +- Project [Id#34296, Entidad#34297, Origen_Solicitud#34298, Identificadores_Origen#34299, Entidad_Norm#7034, CIF#6977, CIF_validacion#34302, Centro#34303, Centro_Norm#34304, Tipo#34305, Provincia_Entidad#7091, Pais_Entidad#34307, Provincia_Centro#34308, PIC#34309, Tipo_Persona#34310, Entidad_Match#34311, Provincia_Match#34312, Match#34313, Id_NIVEL_1#34314, Id_NIVEL_0#34315, ID_ENTIDAD_NIVEL_0#34316, ID_ENTIDAD_NIVEL_1#34317, Jerarquia#34318, NIF_COD_NIVEL_0#34319, ... 69 more fields]\n            :     :        :              :                                               +- Project [Id#34296, Entidad#34297, Origen_Solicitud#34298, Identificadores_Origen#34299, Entidad_Norm#7034, CIF#6977, CIF_validacion#34302, Centro#34303, Centro_Norm#34304, Tipo#34305, Provincia_Entidad#7091, Pais_Entidad#34307, Provincia_Centro#34308, PIC#34309, Tipo_Persona#34310, Entidad_Match#34311, Provincia_Match#34312, Match#34313, Id_NIVEL_1#34314, Id_NIVEL_0#34315, ID_ENTIDAD_NIVEL_0#34316, ID_ENTIDAD_NIVEL_1#34317, Jerarquia#34318, NIF_COD_NIVEL_0#34319, ... 68 more fields]\n            :     :        :              :                                                  +- Project [Id#34296, Entidad#34297, Origen_Solicitud#34298, Identificadores_Origen#34299, Entidad_Norm#7034, CIF#6977, CIF_validacion#34302, Centro#34303, Centro_Norm#34304, Tipo#34305, Provincia_Entidad#7091, Pais_Entidad#34307, Provincia_Centro#34308, PIC#34309, Tipo_Persona#34310, Entidad_Match#34311, Provincia_Match#34312, Match#34313, Id_NIVEL_1#34314, Id_NIVEL_0#34315, ID_ENTIDAD_NIVEL_0#34316, ID_ENTIDAD_NIVEL_1#34317, Jerarquia#34318, NIF_COD_NIVEL_0#34319, ... 67 more fields]\n            :     :        :              :                                                     +- Project [Id#34296, Entidad#34297, Origen_Solicitud#34298, Identificadores_Origen#34299, Entidad_Norm#7034, CIF#6977, CIF_validacion#34302, Centro#34303, Centro_Norm#34304, Tipo#34305, Provincia_Entidad#7091, Pais_Entidad#34307, Provincia_Centro#34308, PIC#34309, Tipo_Persona#34310, Entidad_Match#34311, Provincia_Match#34312, Match#34313, Id_NIVEL_1#34314, Id_NIVEL_0#34315, ID_ENTIDAD_NIVEL_0#34316, ID_ENTIDAD_NIVEL_1#34317, Jerarquia#34318, NIF_COD_NIVEL_0#34319, ... 66 more fields]\n            :     :        :              :                                                        +- Project [Id#34296, Entidad#34297, Origen_Solicitud#34298, Identificadores_Origen#34299, Entidad_Norm#7034, CIF#6977, CIF_validacion#34302, Centro#34303, Centro_Norm#34304, Tipo#34305, Provincia_Entidad#7091, Pais_Entidad#34307, Provincia_Centro#34308, PIC#34309, Tipo_Persona#34310, Entidad_Match#34311, Provincia_Match#34312, Match#34313, Id_NIVEL_1#34314, Id_NIVEL_0#34315, ID_ENTIDAD_NIVEL_0#34316, ID_ENTIDAD_NIVEL_1#34317, Jerarquia#34318, NIF_COD_NIVEL_0#34319, ... 65 more fields]\n            :     :        :              :                                                           +- Project [Id#34296, Entidad#34297, Origen_Solicitud#34298, Identificadores_Origen#34299, Entidad_Norm#7034, CIF#6977, CIF_validacion#34302, Centro#34303, Centro_Norm#34304, Tipo#34305, Provincia_Entidad#7091, Pais_Entidad#34307, Provincia_Centro#34308, PIC#34309, Tipo_Persona#34310, Entidad_Match#34311, Provincia_Match#34312, Match#34313, Id_NIVEL_1#34314, Id_NIVEL_0#34315, ID_ENTIDAD_NIVEL_0#34316, ID_ENTIDAD_NIVEL_1#34317, Jerarquia#34318, NIF_COD_NIVEL_0#34319, ... 64 more fields]\n            :     :        :              :                                                              +- Project [Id#34296, Entidad#34297, Origen_Solicitud#34298, Identificadores_Origen#34299, Entidad_Norm#7034, CIF#6977, CIF_validacion#34302, Centro#34303, Centro_Norm#34304, Tipo#34305, Provincia_Entidad#7091, Pais_Entidad#34307, Provincia_Centro#34308, PIC#34309, Tipo_Persona#34310, Entidad_Match#34311, Provincia_Match#34312, Match#34313, Id_NIVEL_1#34314, Id_NIVEL_0#34315, ID_ENTIDAD_NIVEL_0#34316, ID_ENTIDAD_NIVEL_1#34317, Jerarquia#34318, NIF_COD_NIVEL_0#34319, ... 63 more fields]\n            :     :        :              :                                                                 +- Project [Id#34296, Entidad#34297, Origen_Solicitud#34298, Identificadores_Origen#34299, Entidad_Norm#7034, CIF#6977, CIF_validacion#34302, Centro#34303, Centro_Norm#34304, Tipo#34305, Provincia_Entidad#7091, Pais_Entidad#34307, Provincia_Centro#34308, PIC#34309, Tipo_Persona#34310, Entidad_Match#34311, Provincia_Match#34312, Match#34313, Id_NIVEL_1#34314, Id_NIVEL_0#34315, ID_ENTIDAD_NIVEL_0#34316, ID_ENTIDAD_NIVEL_1#34317, Jerarquia#34318, NIF_COD_NIVEL_0#34319, ... 62 more fields]\n            :     :        :              :                                                                    +- Project [Id#34296, Entidad#34297, Origen_Solicitud#34298, Identificadores_Origen#34299, Entidad_Norm#7034, CIF#6977, CIF_validacion#34302, Centro#34303, Centro_Norm#34304, Tipo#34305, Provincia_Entidad#7091, Pais_Entidad#34307, Provincia_Centro#34308, PIC#34309, Tipo_Persona#34310, Entidad_Match#34311, Provincia_Match#34312, Match#34313, Id_NIVEL_1#34314, Id_NIVEL_0#34315, ID_ENTIDAD_NIVEL_0#34316, ID_ENTIDAD_NIVEL_1#34317, Jerarquia#34318, NIF_COD_NIVEL_0#34319, ... 61 more fields]\n            :     :        :              :                                                                       +- Project [Id#34296, Entidad#34297, Origen_Solicitud#34298, Identificadores_Origen#34299, Entidad_Norm#7034, CIF#6977, CIF_validacion#34302, Centro#34303, Centro_Norm#34304, Tipo#34305, Provincia_Entidad#7091, Pais_Entidad#34307, Provincia_Centro#34308, PIC#34309, Tipo_Persona#34310, Entidad_Match#34311, Provincia_Match#34312, Match#34313, Id_NIVEL_1#34314, Id_NIVEL_0#34315, ID_ENTIDAD_NIVEL_0#34316, ID_ENTIDAD_NIVEL_1#34317, Jerarquia#34318, NIF_COD_NIVEL_0#34319, ... 60 more fields]\n            :     :        :              :                                                                          +- Project [Id#34296, Entidad#34297, Origen_Solicitud#34298, Identificadores_Origen#34299, Entidad_Norm#7034, CIF#6977, CIF_validacion#34302, Centro#34303, Centro_Norm#34304, Tipo#34305, Provincia_Entidad#7091, Pais_Entidad#34307, Provincia_Centro#34308, PIC#34309, Tipo_Persona#34310, Entidad_Match#34311, Provincia_Match#34312, Match#34313, Id_NIVEL_1#34314, Id_NIVEL_0#34315, ID_ENTIDAD_NIVEL_0#34316, ID_ENTIDAD_NIVEL_1#34317, Jerarquia#34318, NIF_COD_NIVEL_0#34319, ... 59 more fields]\n            :     :        :              :                                                                             +- Project [Id#34296, Entidad#34297, Origen_Solicitud#34298, Identificadores_Origen#34299, Entidad_Norm#7034, CIF#6977, CIF_validacion#34302, Centro#34303, Centro_Norm#34304, Tipo#34305, Provincia_Entidad#7091, Pais_Entidad#34307, Provincia_Centro#34308, PIC#34309, Tipo_Persona#34310, Entidad_Match#34311, Provincia_Match#34312, Match#34313, Id_NIVEL_1#34314, Id_NIVEL_0#34315, ID_ENTIDAD_NIVEL_0#34316, ID_ENTIDAD_NIVEL_1#34317, Jerarquia#34318, NIF_COD_NIVEL_0#34319, ... 58 more fields]\n            :     :        :              :                                                                                +- Project [Id#34296, Entidad#34297, Origen_Solicitud#34298, Identificadores_Origen#34299, Entidad_Norm#7034, CIF#6977, CIF_validacion#34302, Centro#34303, Centro_Norm#34304, Tipo#34305, Provincia_Entidad#7091, Pais_Entidad#34307, Provincia_Centro#34308, PIC#34309, Tipo_Persona#34310, Entidad_Match#34311, Provincia_Match#34312, Match#34313, Id_NIVEL_1#34314, Id_NIVEL_0#34315, ID_ENTIDAD_NIVEL_0#34316, ID_ENTIDAD_NIVEL_1#34317, Jerarquia#34318, NIF_COD_NIVEL_0#34319, ... 57 more fields]\n            :     :        :              :                                                                                   +- Project [Id#34296, Entidad#34297, Origen_Solicitud#34298, Identificadores_Origen#34299, Entidad_Norm#7034, CIF#6977, CIF_validacion#34302, Centro#34303, Centro_Norm#34304, Tipo#34305, Provincia_Entidad#7091, Pais_Entidad#34307, Provincia_Centro#34308, PIC#34309, Tipo_Persona#34310, Entidad_Match#34311, Provincia_Match#34312, Match#34313, Id_NIVEL_1#34314, Id_NIVEL_0#34315, ID_ENTIDAD_NIVEL_0#34316, ID_ENTIDAD_NIVEL_1#34317, Jerarquia#34318, NIF_COD_NIVEL_0#34319, ... 56 more fields]\n            :     :        :              :                                                                                      +- Project [Id#34296, Entidad#34297, Origen_Solicitud#34298, Identificadores_Origen#34299, Entidad_Norm#7034, CIF#6977, CIF_validacion#34302, Centro#34303, Centro_Norm#34304, Tipo#34305, Provincia_Entidad#7091, Pais_Entidad#34307, Provincia_Centro#34308, PIC#34309, Tipo_Persona#34310, Entidad_Match#34311, Provincia_Match#34312, Match#34313, Id_NIVEL_1#34314, Id_NIVEL_0#34315, ID_ENTIDAD_NIVEL_0#34316, ID_ENTIDAD_NIVEL_1#34317, Jerarquia#34318, NIF_COD_NIVEL_0#34319, ... 55 more fields]\n            :     :        :              :                                                                                         +- Project [Id#34296, Entidad#34297, Origen_Solicitud#34298, Identificadores_Origen#34299, Entidad_Norm#7034, CIF#6977, CIF_validacion#34302, Centro#34303, Centro_Norm#34304, Tipo#34305, Provincia_Entidad#7091, Pais_Entidad#34307, Provincia_Centro#34308, PIC#34309, Tipo_Persona#34310, Entidad_Match#34311, Provincia_Match#34312, Match#34313, Id_NIVEL_1#34314, Id_NIVEL_0#34315, ID_ENTIDAD_NIVEL_0#34316, ID_ENTIDAD_NIVEL_1#34317, Jerarquia#34318, NIF_COD_NIVEL_0#34319, ... 54 more fields]\n            :     :        :              :                                                                                            +- Project [Id#34296, Entidad#34297, Origen_Solicitud#34298, Identificadores_Origen#34299, Entidad_Norm#7034, CIF#6977, CIF_validacion#34302, Centro#34303, Centro_Norm#34304, Tipo#34305, Provincia_Entidad#7091, Pais_Entidad#34307, Provincia_Centro#34308, PIC#34309, Tipo_Persona#34310, Entidad_Match#34311, Provincia_Match#34312, Match#34313, Id_NIVEL_1#34314, Id_NIVEL_0#34315, ID_ENTIDAD_NIVEL_0#34316, ID_ENTIDAD_NIVEL_1#34317, Jerarquia#34318, NIF_COD_NIVEL_0#34319, ... 53 more fields]\n            :     :        :              :                                                                                               +- Project [Id#34296, Entidad#34297, Origen_Solicitud#34298, Identificadores_Origen#34299, Entidad_Norm#7034, CIF#6977, CIF_validacion#34302, Centro#34303, Centro_Norm#34304, Tipo#34305, Provincia_Entidad#7091, Pais_Entidad#34307, Provincia_Centro#34308, PIC#34309, Tipo_Persona#34310, Entidad_Match#34311, Provincia_Match#34312, Match#34313, Id_NIVEL_1#34314, Id_NIVEL_0#34315, ID_ENTIDAD_NIVEL_0#34316, ID_ENTIDAD_NIVEL_1#34317, Jerarquia#34318, NIF_COD_NIVEL_0#34319, ... 52 more fields]\n            :     :        :              :                                                                                                  +- Project [Id#34296, Entidad#34297, Origen_Solicitud#34298, Identificadores_Origen#34299, Entidad_Norm#7034, CIF#6977, CIF_validacion#34302, Centro#34303, Centro_Norm#34304, Tipo#34305, Provincia_Entidad#7091, Pais_Entidad#34307, Provincia_Centro#34308, PIC#34309, Tipo_Persona#34310, Entidad_Match#34311, Provincia_Match#34312, Match#34313, Id_NIVEL_1#34314, Id_NIVEL_0#34315, ID_ENTIDAD_NIVEL_0#34316, ID_ENTIDAD_NIVEL_1#34317, Jerarquia#34318, NIF_COD_NIVEL_0#34319, ... 51 more fields]\n            :     :        :              :                                                                                                     +- Project [Id#34296, Entidad#34297, Origen_Solicitud#34298, Identificadores_Origen#34299, Entidad_Norm#7034, CIF#6977, CIF_validacion#34302, Centro#34303, Centro_Norm#34304, Tipo#34305, Provincia_Entidad#7091, Pais_Entidad#34307, Provincia_Centro#34308, PIC#34309, Tipo_Persona#34310, Entidad_Match#34311, Provincia_Match#34312, Match#34313, Id_NIVEL_1#34314, Id_NIVEL_0#34315, ID_ENTIDAD_NIVEL_0#34316, ID_ENTIDAD_NIVEL_1#34317, Jerarquia#34318, NIF_COD_NIVEL_0#34319, ... 50 more fields]\n            :     :        :              :                                                                                                        +- Project [Id#34296, Entidad#34297, Origen_Solicitud#34298, Identificadores_Origen#34299, Entidad_Norm#7034, CIF#6977, CIF_validacion#34302, Centro#34303, Centro_Norm#34304, Tipo#34305, Provincia_Entidad#7091, Pais_Entidad#34307, Provincia_Centro#34308, PIC#34309, Tipo_Persona#34310, Entidad_Match#34311, Provincia_Match#34312, Match#34313, Id_NIVEL_1#34314, Id_NIVEL_0#34315, ID_ENTIDAD_NIVEL_0#34316, ID_ENTIDAD_NIVEL_1#34317, Jerarquia#34318, NIF_COD_NIVEL_0#34319, ... 49 more fields]\n            :     :        :              :                                                                                                           +- Project [Id#34296, Entidad#34297, Origen_Solicitud#34298, Identificadores_Origen#34299, Entidad_Norm#7034, CIF#6977, CIF_validacion#34302, Centro#34303, Centro_Norm#34304, Tipo#34305, Provincia_Entidad#7091, Pais_Entidad#34307, Provincia_Centro#34308, PIC#34309, Tipo_Persona#34310, Entidad_Match#34311, Provincia_Match#34312, Match#34313, Id_NIVEL_1#34314, Id_NIVEL_0#34315, ID_ENTIDAD_NIVEL_0#34316, ID_ENTIDAD_NIVEL_1#34317, Jerarquia#34318, NIF_COD_NIVEL_0#34319, ... 48 more fields]\n            :     :        :              :                                                                                                              +- Project [Id#34296, Entidad#34297, Origen_Solicitud#34298, Identificadores_Origen#34299, Entidad_Norm#7034, CIF#6977, CIF_validacion#34302, Centro#34303, Centro_Norm#34304, Tipo#34305, Provincia_Entidad#7091, Pais_Entidad#34307, Provincia_Centro#34308, PIC#34309, Tipo_Persona#34310, Entidad_Match#34311, Provincia_Match#34312, Match#34313, Id_NIVEL_1#34314, Id_NIVEL_0#34315, ID_ENTIDAD_NIVEL_0#34316, ID_ENTIDAD_NIVEL_1#34317, Jerarquia#34318, NIF_COD_NIVEL_0#34319, ... 47 more fields]\n            :     :        :              :                                                                                                                 +- Project [Id#34296, Entidad#34297, Origen_Solicitud#34298, Identificadores_Origen#34299, Entidad_Norm#7034, CIF#6977, CIF_validacion#34302, Centro#34303, Centro_Norm#34304, Tipo#34305, Provincia_Entidad#7091, Pais_Entidad#34307, Provincia_Centro#34308, PIC#34309, Tipo_Persona#34310, Entidad_Match#34311, Provincia_Match#34312, Match#34313, Id_NIVEL_1#34314, Id_NIVEL_0#34315, ID_ENTIDAD_NIVEL_0#34316, ID_ENTIDAD_NIVEL_1#34317, Jerarquia#34318, NIF_COD_NIVEL_0#34319, ... 46 more fields]\n            :     :        :              :                                                                                                                    +- Project [Id#34296, Entidad#34297, Origen_Solicitud#34298, Identificadores_Origen#34299, Entidad_Norm#7034, CIF#6977, CIF_validacion#34302, Centro#34303, Centro_Norm#34304, Tipo#34305, Provincia_Entidad#7091, Pais_Entidad#34307, Provincia_Centro#34308, PIC#34309, Tipo_Persona#34310, Entidad_Match#34311, Provincia_Match#34312, Match#34313, Id_NIVEL_1#34314, Id_NIVEL_0#34315, ID_ENTIDAD_NIVEL_0#34316, ID_ENTIDAD_NIVEL_1#34317, Jerarquia#34318, NIF_COD_NIVEL_0#34319, ... 45 more fields]\n            :     :        :              :                                                                                                                       +- Project [Id#34296, Entidad#34297, Origen_Solicitud#34298, Identificadores_Origen#34299, Entidad_Norm#7034, CIF#6977, CIF_validacion#34302, Centro#34303, Centro_Norm#34304, Tipo#34305, Provincia_Entidad#7091, Pais_Entidad#34307, Provincia_Centro#34308, PIC#34309, Tipo_Persona#34310, Entidad_Match#34311, Provincia_Match#34312, Match#34313, Id_NIVEL_1#34314, Id_NIVEL_0#34315, ID_ENTIDAD_NIVEL_0#34316, ID_ENTIDAD_NIVEL_1#34317, Jerarquia#34318, NIF_COD_NIVEL_0#34319, ... 44 more fields]\n            :     :        :              :                                                                                                                          +- Project [Id#34296, Entidad#34297, Origen_Solicitud#34298, Identificadores_Origen#34299, Entidad_Norm#7034, CIF#6977, CIF_validacion#34302, Centro#34303, Centro_Norm#34304, Tipo#34305, Provincia_Entidad#7091, Pais_Entidad#34307, Provincia_Centro#34308, PIC#34309, Tipo_Persona#34310, Entidad_Match#34311, Provincia_Match#34312, Match#34313, Id_NIVEL_1#34314, Id_NIVEL_0#34315, ID_ENTIDAD_NIVEL_0#34316, ID_ENTIDAD_NIVEL_1#34317, Jerarquia#34318, NIF_COD_NIVEL_0#34319, ... 43 more fields]\n            :     :        :              :                                                                                                                             +- Project [Id#34296, Entidad#34297, Origen_Solicitud#34298, Identificadores_Origen#34299, Entidad_Norm#7034, CIF#6977, CIF_validacion#34302, Centro#34303, Centro_Norm#34304, Tipo#34305, Provincia_Entidad#7091, Pais_Entidad#34307, Provincia_Centro#34308, PIC#34309, Tipo_Persona#34310, Entidad_Match#34311, Provincia_Match#34312, Match#34313, Id_NIVEL_1#34314, Id_NIVEL_0#34315, ID_ENTIDAD_NIVEL_0#34316, ID_ENTIDAD_NIVEL_1#34317, Jerarquia#34318, NIF_COD_NIVEL_0#34319, ... 42 more fields]\n            :     :        :              :                                                                                                                                +- Project [Id#34296, Entidad#34297, Origen_Solicitud#34298, Identificadores_Origen#34299, Entidad_Norm#7034, CIF#6977, CIF_validacion#34302, Centro#34303, Centro_Norm#34304, Tipo#34305, Provincia_Entidad#7091, Pais_Entidad#34307, Provincia_Centro#34308, PIC#34309, Tipo_Persona#34310, Entidad_Match#34311, Provincia_Match#34312, Match#34313, Id_NIVEL_1#34314, Id_NIVEL_0#34315, ID_ENTIDAD_NIVEL_0#34316, ID_ENTIDAD_NIVEL_1#34317, Jerarquia#34318, NIF_COD_NIVEL_0#34319, ... 41 more fields]\n            :     :        :              :                                                                                                                                   +- Project [Id#34296, Entidad#34297, Origen_Solicitud#34298, Identificadores_Origen#34299, Entidad_Norm#7034, CIF#6977, CIF_validacion#34302, Centro#34303, Centro_Norm#34304, Tipo#34305, Provincia_Entidad#7091, Pais_Entidad#34307, Provincia_Centro#34308, PIC#34309, Tipo_Persona#34310, Entidad_Match#34311, Provincia_Match#34312, Match#34313, Id_NIVEL_1#34314, Id_NIVEL_0#34315, ID_ENTIDAD_NIVEL_0#34316, ID_ENTIDAD_NIVEL_1#34317, Jerarquia#34318, NIF_COD_NIVEL_0#34319, ... 40 more fields]\n            :     :        :              :                                                                                                                                      +- Project [Id#34296, Entidad#34297, Origen_Solicitud#34298, Identificadores_Origen#34299, Entidad_Norm#7034, CIF#6977, CIF_validacion#34302, Centro#34303, Centro_Norm#34304, Tipo#34305, Provincia_Entidad#7091, Pais_Entidad#34307, Provincia_Centro#34308, PIC#34309, Tipo_Persona#34310, Entidad_Match#34311, Provincia_Match#34312, Match#34313, Id_NIVEL_1#34314, Id_NIVEL_0#34315, ID_ENTIDAD_NIVEL_0#34316, ID_ENTIDAD_NIVEL_1#34317, Jerarquia#34318, NIF_COD_NIVEL_0#34319, ... 39 more fields]\n            :     :        :              :                                                                                                                                         +- Project [Id#34296, Entidad#34297, Origen_Solicitud#34298, Identificadores_Origen#34299, Entidad_Norm#7034, CIF#6977, CIF_validacion#34302, Centro#34303, Centro_Norm#34304, Tipo#34305, Provincia_Entidad#7091, Pais_Entidad#34307, Provincia_Centro#34308, PIC#34309, Tipo_Persona#34310, Entidad_Match#34311, Provincia_Match#34312, Match#34313, Id_NIVEL_1#34314, Id_NIVEL_0#34315, ID_ENTIDAD_NIVEL_0#34316, ID_ENTIDAD_NIVEL_1#34317, Jerarquia#34318, NIF_COD_NIVEL_0#34319, ... 38 more fields]\n            :     :        :              :                                                                                                                                            +- Project [Id#34296, Entidad#34297, Origen_Solicitud#34298, Identificadores_Origen#34299, Entidad_Norm#7034, CIF#6977, CIF_validacion#34302, Centro#34303, Centro_Norm#34304, Tipo#34305, Provincia_Entidad#7091, Pais_Entidad#34307, Provincia_Centro#34308, PIC#34309, Tipo_Persona#34310, Entidad_Match#34311, Provincia_Match#34312, Match#34313, Id_NIVEL_1#34314, Id_NIVEL_0#34315, ID_ENTIDAD_NIVEL_0#34316, ID_ENTIDAD_NIVEL_1#34317, Jerarquia#34318, NIF_COD_NIVEL_0#34319, ... 37 more fields]\n            :     :        :              :                                                                                                                                               +- Project [Id#34296, Entidad#34297, Origen_Solicitud#34298, Identificadores_Origen#34299, Entidad_Norm#7034, CIF#6977, CIF_validacion#34302, Centro#34303, Centro_Norm#34304, Tipo#34305, Provincia_Entidad#7091, Pais_Entidad#34307, Provincia_Centro#34308, PIC#34309, Tipo_Persona#34310, Entidad_Match#34311, Provincia_Match#34312, Match#34313, Id_NIVEL_1#34314, Id_NIVEL_0#34315, ID_ENTIDAD_NIVEL_0#34316, ID_ENTIDAD_NIVEL_1#34317, Jerarquia#34318, NIF_COD_NIVEL_0#34319, ... 36 more fields]\n            :     :        :              :                                                                                                                                                  +- Project [Id#34296, Entidad#34297, Origen_Solicitud#34298, Identificadores_Origen#34299, Entidad_Norm#7034, CIF#6977, CIF_validacion#34302, Centro#34303, Centro_Norm#34304, Tipo#34305, Provincia_Entidad#7091, Pais_Entidad#34307, Provincia_Centro#34308, PIC#34309, Tipo_Persona#34310, Entidad_Match#34311, Provincia_Match#34312, Match#34313, Id_NIVEL_1#34314, Id_NIVEL_0#34315, ID_ENTIDAD_NIVEL_0#34316, ID_ENTIDAD_NIVEL_1#34317, Jerarquia#34318, NIF_COD_NIVEL_0#34319, ... 35 more fields]\n            :     :        :              :                                                                                                                                                     +- Project [Id#34296, Entidad#34297, Origen_Solicitud#34298, Identificadores_Origen#34299, Entidad_Norm#7034, CIF#6977, CIF_validacion#34302, Centro#34303, Centro_Norm#34304, Tipo#34305, Provincia_Entidad#7091, Pais_Entidad#34307, Provincia_Centro#34308, PIC#34309, Tipo_Persona#34310, Entidad_Match#34311, Provincia_Match#34312, Match#34313, Id_NIVEL_1#34314, Id_NIVEL_0#34315, ID_ENTIDAD_NIVEL_0#34316, ID_ENTIDAD_NIVEL_1#34317, Jerarquia#34318, NIF_COD_NIVEL_0#34319, ... 34 more fields]\n            :     :        :              :                                                                                                                                                        +- Project [Id#34296, Entidad#34297, Origen_Solicitud#34298, Identificadores_Origen#34299, Entidad_Norm#7034, CIF#6977, CIF_validacion#34302, Centro#34303, Centro_Norm#34304, Tipo#34305, Provincia_Entidad#7091, Pais_Entidad#34307, Provincia_Centro#34308, PIC#34309, Tipo_Persona#34310, Entidad_Match#34311, Provincia_Match#34312, Match#34313, Id_NIVEL_1#34314, Id_NIVEL_0#34315, ID_ENTIDAD_NIVEL_0#34316, ID_ENTIDAD_NIVEL_1#34317, Jerarquia#34318, NIF_COD_NIVEL_0#34319, ... 33 more fields]\n            :     :        :              :                                                                                                                                                           +- Project [Id#34296, Entidad#34297, Origen_Solicitud#34298, Identificadores_Origen#34299, Entidad_Norm#7034, CIF#6977, CIF_validacion#34302, Centro#34303, Centro_Norm#34304, Tipo#34305, Provincia_Centro#34308 AS Provincia_Entidad#7091, Pais_Entidad#34307, Provincia_Centro#34308, PIC#34309, Tipo_Persona#34310, Entidad_Match#34311, Provincia_Match#34312, Match#34313, Id_NIVEL_1#34314, Id_NIVEL_0#34315, ID_ENTIDAD_NIVEL_0#34316, ID_ENTIDAD_NIVEL_1#34317, Jerarquia#34318, NIF_COD_NIVEL_0#34319, ... 32 more fields]\n            :     :        :              :                                                                                                                                                              +- Project [Id#34296, Entidad#34297, Origen_Solicitud#34298, Identificadores_Origen#34299, Centro_Norm#34304 AS Entidad_Norm#7034, CIF#6977, CIF_validacion#34302, Centro#34303, Centro_Norm#34304, Tipo#34305, Provincia_Entidad#34306, Pais_Entidad#34307, Provincia_Centro#34308, PIC#34309, Tipo_Persona#34310, Entidad_Match#34311, Provincia_Match#34312, Match#34313, Id_NIVEL_1#34314, Id_NIVEL_0#34315, ID_ENTIDAD_NIVEL_0#34316, ID_ENTIDAD_NIVEL_1#34317, Jerarquia#34318, NIF_COD_NIVEL_0#34319, ... 32 more fields]\n            :     :        :              :                                                                                                                                                                 +- Project [Id#34296, Entidad#34297, Origen_Solicitud#34298, Identificadores_Origen#34299, Entidad_Norm#34300, cast(null as string) AS CIF#6977, CIF_validacion#34302, Centro#34303, Centro_Norm#34304, Tipo#34305, Provincia_Entidad#34306, Pais_Entidad#34307, Provincia_Centro#34308, PIC#34309, Tipo_Persona#34310, Entidad_Match#34311, Provincia_Match#34312, Match#34313, Id_NIVEL_1#34314, Id_NIVEL_0#34315, ID_ENTIDAD_NIVEL_0#34316, ID_ENTIDAD_NIVEL_1#34317, Jerarquia#34318, NIF_COD_NIVEL_0#34319, ... 32 more fields]\n            :     :        :              :                                                                                                                                                                    +- Filter (cast(Similitud#6866 as double) < cast(0.875 as double))\n            :     :        :              :                                                                                                                                                                       +- Project [Id#34296, Entidad#34297, Origen_Solicitud#34298, Identificadores_Origen#34299, Entidad_Norm#34300, CIF#34301, CIF_validacion#34302, Centro#34303, Centro_Norm#34304, Tipo#34305, Provincia_Entidad#34306, Pais_Entidad#34307, Provincia_Centro#34308, PIC#34309, Tipo_Persona#34310, Entidad_Match#34311, Provincia_Match#34312, Match#34313, Id_NIVEL_1#34314, Id_NIVEL_0#34315, ID_ENTIDAD_NIVEL_0#34316, ID_ENTIDAD_NIVEL_1#34317, Jerarquia#34318, NIF_COD_NIVEL_0#34319, ... 32 more fields]\n            :     :        :              :                                                                                                                                                                          +- Filter isnotnull(Id_NIVEL_0#34315)\n            :     :        :              :                                                                                                                                                                             +- Deduplicate [Pais_Entidad#34307, Id#34296, Centro_Norm#34304, Entidad_Norm#34300, Entidad_Match#34311, Centro#34303, Identificadores_Origen#34299, Tipo#34305, Origen_Solicitud#34298, Entidad#34297, CIF_validacion#34302, Tipo_Persona#34310, Provincia_Match#34312, PIC#34309, CIF#34301, Provincia_Entidad#34306, Provincia_Centro#34308, Match#34313]\n            :     :        :              :                                                                                                                                                                                +- Join LeftOuter, (Id#34296 = Id_NIVEL_0#34315)\n            :     :        :              :                                                                                                                                                                                   :- Relation [Id#34296,Entidad#34297,Origen_Solicitud#34298,Identificadores_Origen#34299,Entidad_Norm#34300,CIF#34301,CIF_validacion#34302,Centro#34303,Centro_Norm#34304,Tipo#34305,Provincia_Entidad#34306,Pais_Entidad#34307,Provincia_Centro#34308,PIC#34309,Tipo_Persona#34310,Entidad_Match#34311,Provincia_Match#34312,Match#34313] csv\n            :     :        :              :                                                                                                                                                                                   +- Relation [Id_NIVEL_1#34314,Id_NIVEL_0#34315,ID_ENTIDAD_NIVEL_0#34316,ID_ENTIDAD_NIVEL_1#34317,Jerarquia#34318,NIF_COD_NIVEL_0#34319,ACRONIMO_NIVEL_0#34320,NOMBRE_ENTIDAD_NIVEL_0#34321,Nombre_Entidad_Mostrar_NIVEL_0#34322,TIPO_ENTIDAD_N1_1_NIVEL_0#34323,TIPO_ENTIDAD_N2_1_NIVEL_0#34324,DIRECCION_POSTAL_NIVEL_0#34325,COD_POSTAL_NIVEL_0#34326,COD_PROVINCIA_NIVEL_0#34327,PROVINCIA_NIVEL_0#34328,COD_CCAA_NIVEL_0#34329,CCAA_NIVEL_0#34330,ENLACE_WEB_NIVEL_0#34331,SOMMA_NIVEL_0#34332,TIPO_ENTIDAD_REGIONAL_NIVEL_0#34333,ESTADO_x_NIVEL_0#34334,NIF_COD_NIVEL_1#34335,ACRONIMO_NIVEL_1#34336,NOMBRE_ENTIDAD_NIVEL_1#34337,... 13 more fields] csv\n            :     :        :              +- Project [Id#10956, Dummy#10962]\n            :     :        :                 +- Project [Id#10956, Dummy#10958L, Dummy#10962, Dummy#10962]\n            :     :        :                    +- Window [row_number() windowspecdefinition(Dummy#10958L ASC NULLS FIRST, specifiedwindowframe(RowFrame, unboundedpreceding$(), currentrow$())) AS Dummy#10962], [Dummy#10958L ASC NULLS FIRST]\n            :     :        :                       +- Project [Id#10956, Dummy#10958L]\n            :     :        :                          +- Project [Id#10956, monotonically_increasing_id() AS Dummy#10958L]\n            :     :        :                             +- Project [value#34351 AS Id#10956]\n            :     :        :                                +- LogicalRDD [value#34351], false\n            :     :        +- Project [Entidad_Norm#34354, DenominacionSocial#34355, NIF#34357, CodigoInvente#34358, FormaJuridica_Codigo#34359, FormaJuridica_Descripcion#34360, codigoDir3#34361, codigoOrigen#34362, Provincia_Codigo#34356, final_score#14072, DenominacionSocial_Norm#34363]\n            :     :           +- Deduplicate [Entidad_Norm#34354]\n            :     :              +- Sort [final_score#14072 DESC NULLS LAST], true\n            :     :                 +- Filter (cast(final_score#14072 as double) >= cast(0.875 as double))\n            :     :                    +- Project [source_name#34352, target_name#34353, Entidad_Norm#34354, DenominacionSocial#34355, Provincia_Codigo#34356, NIF#34357, CodigoInvente#34358, FormaJuridica_Codigo#34359, FormaJuridica_Descripcion#34360, codigoDir3#34361, codigoOrigen#34362, DenominacionSocial_Norm#34363, source_names_stopwords#13971, target_names_stopwords#14023, CASE WHEN NOT (source_names_stopwords#13971 = target_names_stopwords#14023) THEN final_score#14040 ELSE cast(1 as float) END AS final_score#14072]\n            :     :                       +- Project [source_name#34352, target_name#34353, Entidad_Norm#34354, DenominacionSocial#34355, Provincia_Codigo#34356, NIF#34357, CodigoInvente#34358, FormaJuridica_Codigo#34359, FormaJuridica_Descripcion#34360, codigoDir3#34361, codigoOrigen#34362, DenominacionSocial_Norm#34363, source_names_stopwords#13971, target_names_stopwords#14023, final_score#14040]\n            :     :                          +- Project [source_name#34352, target_name#34353, Entidad_Norm#34354, DenominacionSocial#34355, Provincia_Codigo#34356, NIF#34357, CodigoInvente#34358, FormaJuridica_Codigo#34359, FormaJuridica_Descripcion#34360, codigoDir3#34361, codigoOrigen#34362, DenominacionSocial_Norm#34363, aux#13986, source_names_stopwords#13971, target_names_stopwords#14023, Distance_ratcliff_obershelp(source_names_stopwords#13971, target_names_stopwords#14023)#14039 AS final_score#14040]\n            :     :                             +- Project [source_name#34352, target_name#34353, Entidad_Norm#34354, DenominacionSocial#34355, Provincia_Codigo#34356, NIF#34357, CodigoInvente#34358, FormaJuridica_Codigo#34359, FormaJuridica_Descripcion#34360, codigoDir3#34361, codigoOrigen#34362, DenominacionSocial_Norm#34363, aux#13986, source_names_stopwords#13971, array_join(target_names_stopwords#14004,  , None) AS target_names_stopwords#14023]\n            :     :                                +- Project [source_name#34352, target_name#34353, Entidad_Norm#34354, DenominacionSocial#34355, Provincia_Codigo#34356, NIF#34357, CodigoInvente#34358, FormaJuridica_Codigo#34359, FormaJuridica_Descripcion#34360, codigoDir3#34361, codigoOrigen#34362, DenominacionSocial_Norm#34363, aux#13986, source_names_stopwords#13971, UDF(aux#13986) AS target_names_stopwords#14004]\n            :     :                                   +- Project [source_name#34352, target_name#34353, Entidad_Norm#34354, DenominacionSocial#34355, Provincia_Codigo#34356, NIF#34357, CodigoInvente#34358, FormaJuridica_Codigo#34359, FormaJuridica_Descripcion#34360, codigoDir3#34361, codigoOrigen#34362, DenominacionSocial_Norm#34363, split(target_name#34353, \\s+, -1) AS aux#13986, source_names_stopwords#13971]\n            :     :                                      +- Project [source_name#34352, target_name#34353, Entidad_Norm#34354, DenominacionSocial#34355, Provincia_Codigo#34356, NIF#34357, CodigoInvente#34358, FormaJuridica_Codigo#34359, FormaJuridica_Descripcion#34360, codigoDir3#34361, codigoOrigen#34362, DenominacionSocial_Norm#34363, aux#13936, array_join(source_names_stopwords#13953,  , None) AS source_names_stopwords#13971]\n            :     :                                         +- Project [source_name#34352, target_name#34353, Entidad_Norm#34354, DenominacionSocial#34355, Provincia_Codigo#34356, NIF#34357, CodigoInvente#34358, FormaJuridica_Codigo#34359, FormaJuridica_Descripcion#34360, codigoDir3#34361, codigoOrigen#34362, DenominacionSocial_Norm#34363, aux#13936, UDF(aux#13936) AS source_names_stopwords#13953]\n            :     :                                            +- Project [source_name#34352, target_name#34353, Entidad_Norm#34354, DenominacionSocial#34355, Provincia_Codigo#34356, NIF#34357, CodigoInvente#34358, FormaJuridica_Codigo#34359, FormaJuridica_Descripcion#34360, codigoDir3#34361, codigoOrigen#34362, DenominacionSocial_Norm#34363, split(source_name#34352, \\s+, -1) AS aux#13936]\n            :     :                                               +- LogicalRDD [source_name#34352, target_name#34353, Entidad_Norm#34354, DenominacionSocial#34355, Provincia_Codigo#34356, NIF#34357, CodigoInvente#34358, FormaJuridica_Codigo#34359, FormaJuridica_Descripcion#34360, codigoDir3#34361, codigoOrigen#34362, DenominacionSocial_Norm#34363], false\n            :     +- Project [Id#10956 AS Id#14619, Entidad_Norm#7034 AS Entidad_Norm#14620, ID_ENTIDAD#7148 AS ID_ENTIDAD#14621, NIF_COD#7206 AS NIF_COD#14622, ACRONIMO#7265 AS ACRONIMO#14623, NOMBRE_ENTIDAD#7325 AS NOMBRE_ENTIDAD#14624, Nombre_Entidad_Mostrar#7386 AS Nombre_Entidad_Mostrar#14625, TIPO_ENTIDAD_N1_1#7448 AS TIPO_ENTIDAD_N1_1#14626, TIPO_ENTIDAD_N2_1#7511 AS TIPO_ENTIDAD_N2_1#14627, DIRECCION_POSTAL#7575 AS DIRECCION_POSTAL#14628, COD_POSTAL#7640 AS COD_POSTAL#14629, COD_PROVINCIA#7706 AS COD_PROVINCIA#14630, PROVINCIA#7773 AS PROVINCIA#14631, COD_CCAA#7841 AS COD_CCAA#14632, CCAA#7910 AS CCAA#14633, ENLACE_WEB#7980 AS ENLACE_WEB#14634, SOMMA#8051 AS SOMMA#14635, TIPO_ENTIDAD_REGIONAL#8123 AS TIPO_ENTIDAD_REGIONAL#14636, ESTADO_x#8196 AS ESTADO_x#14637, C_ID_UD_ORGANICA#8898 AS C_ID_UD_ORGANICA#14638, C_DNM_UD_ORGANICA#8981 AS C_DNM_UD_ORGANICA#14639, C_ID_NIVEL_ADMON#9065 AS C_ID_NIVEL_ADMON#14640, C_ID_TIPO_ENT_PUBLICA#9150 AS C_ID_TIPO_ENT_PUBLICA#14641, N_NIVEL_JERARQUICO#9236 AS N_NIVEL_JERARQUICO#14642, ... 27 more fields]\n            :        +- Filter isnull(final_score#14072)\n            :           +- Join LeftOuter, (Entidad_Norm#7034 = Entidad_Norm#34422)\n            :              :- Project [Id#10956, Entidad_Norm#7034, ID_ENTIDAD#7148, NIF_COD#7206, ACRONIMO#7265, NOMBRE_ENTIDAD#7325, Nombre_Entidad_Mostrar#7386, TIPO_ENTIDAD_N1_1#7448, TIPO_ENTIDAD_N2_1#7511, DIRECCION_POSTAL#7575, COD_POSTAL#7640, COD_PROVINCIA#7706, PROVINCIA#7773, COD_CCAA#7841, CCAA#7910, ENLACE_WEB#7980, SOMMA#8051, TIPO_ENTIDAD_REGIONAL#8123, ESTADO_x#8196, C_ID_UD_ORGANICA#8898, C_DNM_UD_ORGANICA#8981, C_ID_NIVEL_ADMON#9065, C_ID_TIPO_ENT_PUBLICA#9150, N_NIVEL_JERARQUICO#9236, ... 16 more fields]\n            :              :  +- Project [Id#10956, CIF#6977, Entidad_Norm#7034, Provincia_Entidad#7091, ID_ENTIDAD#7148, NIF_COD#7206, ACRONIMO#7265, NOMBRE_ENTIDAD#7325, Nombre_Entidad_Mostrar#7386, TIPO_ENTIDAD_N1_1#7448, TIPO_ENTIDAD_N2_1#7511, DIRECCION_POSTAL#7575, COD_POSTAL#7640, COD_PROVINCIA#7706, PROVINCIA#7773, COD_CCAA#7841, CCAA#7910, ENLACE_WEB#7980, SOMMA#8051, TIPO_ENTIDAD_REGIONAL#8123, ESTADO_x#8196, CodigoInvente#8270, DenominacionSocial#8345, FormaJuridica_Codigo#8421, ... 26 more fields]\n            :              :     +- Project [IdOld#10851, Entidad#34365, Origen_Solicitud#34366, Identificadores_Origen#34367, Entidad_Norm#7034, CIF#6977, CIF_validacion#34370, Centro#34371, Centro_Norm#34372, Tipo#34373, Provincia_Entidad#7091, Pais_Entidad#34375, Provincia_Centro#34376, PIC#34377, Tipo_Persona#34378, Entidad_Match#34379, Provincia_Match#34380, Match#34381, Id_NIVEL_1#34382, Id_NIVEL_0#34383, ID_ENTIDAD_NIVEL_0#34384, ID_ENTIDAD_NIVEL_1#34385, Jerarquia#34386, NIF_COD_NIVEL_0#34387, ... 79 more fields]\n            :              :        +- Project [coalesce(Dummy#11070, Dummy#10962) AS Dummy#11174, IdOld#10851, Entidad#34365, Origen_Solicitud#34366, Identificadores_Origen#34367, Entidad_Norm#7034, CIF#6977, CIF_validacion#34370, Centro#34371, Centro_Norm#34372, Tipo#34373, Provincia_Entidad#7091, Pais_Entidad#34375, Provincia_Centro#34376, PIC#34377, Tipo_Persona#34378, Entidad_Match#34379, Provincia_Match#34380, Match#34381, Id_NIVEL_1#34382, Id_NIVEL_0#34383, ID_ENTIDAD_NIVEL_0#34384, ID_ENTIDAD_NIVEL_1#34385, Jerarquia#34386, ... 80 more fields]\n            :              :           +- Join FullOuter, (Dummy#11070 = Dummy#10962)\n            :              :              :- Project [IdOld#10851, Entidad#34365, Origen_Solicitud#34366, Identificadores_Origen#34367, Entidad_Norm#7034, CIF#6977, CIF_validacion#34370, Centro#34371, Centro_Norm#34372, Tipo#34373, Provincia_Entidad#7091, Pais_Entidad#34375, Provincia_Centro#34376, PIC#34377, Tipo_Persona#34378, Entidad_Match#34379, Provincia_Match#34380, Match#34381, Id_NIVEL_1#34382, Id_NIVEL_0#34383, ID_ENTIDAD_NIVEL_0#34384, ID_ENTIDAD_NIVEL_1#34385, Jerarquia#34386, NIF_COD_NIVEL_0#34387, ... 79 more fields]\n            :              :              :  +- Project [IdOld#10851, Entidad#34365, Origen_Solicitud#34366, Identificadores_Origen#34367, Entidad_Norm#7034, CIF#6977, CIF_validacion#34370, Centro#34371, Centro_Norm#34372, Tipo#34373, Provincia_Entidad#7091, Pais_Entidad#34375, Provincia_Centro#34376, PIC#34377, Tipo_Persona#34378, Entidad_Match#34379, Provincia_Match#34380, Match#34381, Id_NIVEL_1#34382, Id_NIVEL_0#34383, ID_ENTIDAD_NIVEL_0#34384, ID_ENTIDAD_NIVEL_1#34385, Jerarquia#34386, NIF_COD_NIVEL_0#34387, ... 81 more fields]\n            :              :              :     +- Window [row_number() windowspecdefinition(Dummy#10965L ASC NULLS FIRST, specifiedwindowframe(RowFrame, unboundedpreceding$(), currentrow$())) AS Dummy#11070], [Dummy#10965L ASC NULLS FIRST]\n            :              :              :        +- Project [IdOld#10851, Entidad#34365, Origen_Solicitud#34366, Identificadores_Origen#34367, Entidad_Norm#7034, CIF#6977, CIF_validacion#34370, Centro#34371, Centro_Norm#34372, Tipo#34373, Provincia_Entidad#7091, Pais_Entidad#34375, Provincia_Centro#34376, PIC#34377, Tipo_Persona#34378, Entidad_Match#34379, Provincia_Match#34380, Match#34381, Id_NIVEL_1#34382, Id_NIVEL_0#34383, ID_ENTIDAD_NIVEL_0#34384, ID_ENTIDAD_NIVEL_1#34385, Jerarquia#34386, NIF_COD_NIVEL_0#34387, ... 79 more fields]\n            :              :              :           +- Project [IdOld#10851, Entidad#34365, Origen_Solicitud#34366, Identificadores_Origen#34367, Entidad_Norm#7034, CIF#6977, CIF_validacion#34370, Centro#34371, Centro_Norm#34372, Tipo#34373, Provincia_Entidad#7091, Pais_Entidad#34375, Provincia_Centro#34376, PIC#34377, Tipo_Persona#34378, Entidad_Match#34379, Provincia_Match#34380, Match#34381, Id_NIVEL_1#34382, Id_NIVEL_0#34383, ID_ENTIDAD_NIVEL_0#34384, ID_ENTIDAD_NIVEL_1#34385, Jerarquia#34386, NIF_COD_NIVEL_0#34387, ... 79 more fields]\n            :              :              :              +- Project [Id#34364 AS IdOld#10851, Entidad#34365, Origen_Solicitud#34366, Identificadores_Origen#34367, Entidad_Norm#7034, CIF#6977, CIF_validacion#34370, Centro#34371, Centro_Norm#34372, Tipo#34373, Provincia_Entidad#7091, Pais_Entidad#34375, Provincia_Centro#34376, PIC#34377, Tipo_Persona#34378, Entidad_Match#34379, Provincia_Match#34380, Match#34381, Id_NIVEL_1#34382, Id_NIVEL_0#34383, ID_ENTIDAD_NIVEL_0#34384, ID_ENTIDAD_NIVEL_1#34385, Jerarquia#34386, NIF_COD_NIVEL_0#34387, ... 78 more fields]\n            :              :              :                 +- Project [Id#34364, Entidad#34365, Origen_Solicitud#34366, Identificadores_Origen#34367, Entidad_Norm#7034, CIF#6977, CIF_validacion#34370, Centro#34371, Centro_Norm#34372, Tipo#34373, Provincia_Entidad#7091, Pais_Entidad#34375, Provincia_Centro#34376, PIC#34377, Tipo_Persona#34378, Entidad_Match#34379, Provincia_Match#34380, Match#34381, Id_NIVEL_1#34382, Id_NIVEL_0#34383, ID_ENTIDAD_NIVEL_0#34384, ID_ENTIDAD_NIVEL_1#34385, Jerarquia#34386, NIF_COD_NIVEL_0#34387, ... 78 more fields]\n            :              :              :                    +- Project [Id#34364, Entidad#34365, Origen_Solicitud#34366, Identificadores_Origen#34367, Entidad_Norm#7034, CIF#6977, CIF_validacion#34370, Centro#34371, Centro_Norm#34372, Tipo#34373, Provincia_Entidad#7091, Pais_Entidad#34375, Provincia_Centro#34376, PIC#34377, Tipo_Persona#34378, Entidad_Match#34379, Provincia_Match#34380, Match#34381, Id_NIVEL_1#34382, Id_NIVEL_0#34383, ID_ENTIDAD_NIVEL_0#34384, ID_ENTIDAD_NIVEL_1#34385, Jerarquia#34386, NIF_COD_NIVEL_0#34387, ... 77 more fields]\n            :              :              :                       +- Project [Id#34364, Entidad#34365, Origen_Solicitud#34366, Identificadores_Origen#34367, Entidad_Norm#7034, CIF#6977, CIF_validacion#34370, Centro#34371, Centro_Norm#34372, Tipo#34373, Provincia_Entidad#7091, Pais_Entidad#34375, Provincia_Centro#34376, PIC#34377, Tipo_Persona#34378, Entidad_Match#34379, Provincia_Match#34380, Match#34381, Id_NIVEL_1#34382, Id_NIVEL_0#34383, ID_ENTIDAD_NIVEL_0#34384, ID_ENTIDAD_NIVEL_1#34385, Jerarquia#34386, NIF_COD_NIVEL_0#34387, ... 76 more fields]\n            :              :              :                          +- Project [Id#34364, Entidad#34365, Origen_Solicitud#34366, Identificadores_Origen#34367, Entidad_Norm#7034, CIF#6977, CIF_validacion#34370, Centro#34371, Centro_Norm#34372, Tipo#34373, Provincia_Entidad#7091, Pais_Entidad#34375, Provincia_Centro#34376, PIC#34377, Tipo_Persona#34378, Entidad_Match#34379, Provincia_Match#34380, Match#34381, Id_NIVEL_1#34382, Id_NIVEL_0#34383, ID_ENTIDAD_NIVEL_0#34384, ID_ENTIDAD_NIVEL_1#34385, Jerarquia#34386, NIF_COD_NIVEL_0#34387, ... 75 more fields]\n            :              :              :                             +- Project [Id#34364, Entidad#34365, Origen_Solicitud#34366, Identificadores_Origen#34367, Entidad_Norm#7034, CIF#6977, CIF_validacion#34370, Centro#34371, Centro_Norm#34372, Tipo#34373, Provincia_Entidad#7091, Pais_Entidad#34375, Provincia_Centro#34376, PIC#34377, Tipo_Persona#34378, Entidad_Match#34379, Provincia_Match#34380, Match#34381, Id_NIVEL_1#34382, Id_NIVEL_0#34383, ID_ENTIDAD_NIVEL_0#34384, ID_ENTIDAD_NIVEL_1#34385, Jerarquia#34386, NIF_COD_NIVEL_0#34387, ... 74 more fields]\n            :              :              :                                +- Project [Id#34364, Entidad#34365, Origen_Solicitud#34366, Identificadores_Origen#34367, Entidad_Norm#7034, CIF#6977, CIF_validacion#34370, Centro#34371, Centro_Norm#34372, Tipo#34373, Provincia_Entidad#7091, Pais_Entidad#34375, Provincia_Centro#34376, PIC#34377, Tipo_Persona#34378, Entidad_Match#34379, Provincia_Match#34380, Match#34381, Id_NIVEL_1#34382, Id_NIVEL_0#34383, ID_ENTIDAD_NIVEL_0#34384, ID_ENTIDAD_NIVEL_1#34385, Jerarquia#34386, NIF_COD_NIVEL_0#34387, ... 73 more fields]\n            :              :              :                                   +- Project [Id#34364, Entidad#34365, Origen_Solicitud#34366, Identificadores_Origen#34367, Entidad_Norm#7034, CIF#6977, CIF_validacion#34370, Centro#34371, Centro_Norm#34372, Tipo#34373, Provincia_Entidad#7091, Pais_Entidad#34375, Provincia_Centro#34376, PIC#34377, Tipo_Persona#34378, Entidad_Match#34379, Provincia_Match#34380, Match#34381, Id_NIVEL_1#34382, Id_NIVEL_0#34383, ID_ENTIDAD_NIVEL_0#34384, ID_ENTIDAD_NIVEL_1#34385, Jerarquia#34386, NIF_COD_NIVEL_0#34387, ... 72 more fields]\n            :              :              :                                      +- Project [Id#34364, Entidad#34365, Origen_Solicitud#34366, Identificadores_Origen#34367, Entidad_Norm#7034, CIF#6977, CIF_validacion#34370, Centro#34371, Centro_Norm#34372, Tipo#34373, Provincia_Entidad#7091, Pais_Entidad#34375, Provincia_Centro#34376, PIC#34377, Tipo_Persona#34378, Entidad_Match#34379, Provincia_Match#34380, Match#34381, Id_NIVEL_1#34382, Id_NIVEL_0#34383, ID_ENTIDAD_NIVEL_0#34384, ID_ENTIDAD_NIVEL_1#34385, Jerarquia#34386, NIF_COD_NIVEL_0#34387, ... 71 more fields]\n            :              :              :                                         +- Project [Id#34364, Entidad#34365, Origen_Solicitud#34366, Identificadores_Origen#34367, Entidad_Norm#7034, CIF#6977, CIF_validacion#34370, Centro#34371, Centro_Norm#34372, Tipo#34373, Provincia_Entidad#7091, Pais_Entidad#34375, Provincia_Centro#34376, PIC#34377, Tipo_Persona#34378, Entidad_Match#34379, Provincia_Match#34380, Match#34381, Id_NIVEL_1#34382, Id_NIVEL_0#34383, ID_ENTIDAD_NIVEL_0#34384, ID_ENTIDAD_NIVEL_1#34385, Jerarquia#34386, NIF_COD_NIVEL_0#34387, ... 70 more fields]\n            :              :              :                                            +- Project [Id#34364, Entidad#34365, Origen_Solicitud#34366, Identificadores_Origen#34367, Entidad_Norm#7034, CIF#6977, CIF_validacion#34370, Centro#34371, Centro_Norm#34372, Tipo#34373, Provincia_Entidad#7091, Pais_Entidad#34375, Provincia_Centro#34376, PIC#34377, Tipo_Persona#34378, Entidad_Match#34379, Provincia_Match#34380, Match#34381, Id_NIVEL_1#34382, Id_NIVEL_0#34383, ID_ENTIDAD_NIVEL_0#34384, ID_ENTIDAD_NIVEL_1#34385, Jerarquia#34386, NIF_COD_NIVEL_0#34387, ... 69 more fields]\n            :              :              :                                               +- Project [Id#34364, Entidad#34365, Origen_Solicitud#34366, Identificadores_Origen#34367, Entidad_Norm#7034, CIF#6977, CIF_validacion#34370, Centro#34371, Centro_Norm#34372, Tipo#34373, Provincia_Entidad#7091, Pais_Entidad#34375, Provincia_Centro#34376, PIC#34377, Tipo_Persona#34378, Entidad_Match#34379, Provincia_Match#34380, Match#34381, Id_NIVEL_1#34382, Id_NIVEL_0#34383, ID_ENTIDAD_NIVEL_0#34384, ID_ENTIDAD_NIVEL_1#34385, Jerarquia#34386, NIF_COD_NIVEL_0#34387, ... 68 more fields]\n            :              :              :                                                  +- Project [Id#34364, Entidad#34365, Origen_Solicitud#34366, Identificadores_Origen#34367, Entidad_Norm#7034, CIF#6977, CIF_validacion#34370, Centro#34371, Centro_Norm#34372, Tipo#34373, Provincia_Entidad#7091, Pais_Entidad#34375, Provincia_Centro#34376, PIC#34377, Tipo_Persona#34378, Entidad_Match#34379, Provincia_Match#34380, Match#34381, Id_NIVEL_1#34382, Id_NIVEL_0#34383, ID_ENTIDAD_NIVEL_0#34384, ID_ENTIDAD_NIVEL_1#34385, Jerarquia#34386, NIF_COD_NIVEL_0#34387, ... 67 more fields]\n            :              :              :                                                     +- Project [Id#34364, Entidad#34365, Origen_Solicitud#34366, Identificadores_Origen#34367, Entidad_Norm#7034, CIF#6977, CIF_validacion#34370, Centro#34371, Centro_Norm#34372, Tipo#34373, Provincia_Entidad#7091, Pais_Entidad#34375, Provincia_Centro#34376, PIC#34377, Tipo_Persona#34378, Entidad_Match#34379, Provincia_Match#34380, Match#34381, Id_NIVEL_1#34382, Id_NIVEL_0#34383, ID_ENTIDAD_NIVEL_0#34384, ID_ENTIDAD_NIVEL_1#34385, Jerarquia#34386, NIF_COD_NIVEL_0#34387, ... 66 more fields]\n            :              :              :                                                        +- Project [Id#34364, Entidad#34365, Origen_Solicitud#34366, Identificadores_Origen#34367, Entidad_Norm#7034, CIF#6977, CIF_validacion#34370, Centro#34371, Centro_Norm#34372, Tipo#34373, Provincia_Entidad#7091, Pais_Entidad#34375, Provincia_Centro#34376, PIC#34377, Tipo_Persona#34378, Entidad_Match#34379, Provincia_Match#34380, Match#34381, Id_NIVEL_1#34382, Id_NIVEL_0#34383, ID_ENTIDAD_NIVEL_0#34384, ID_ENTIDAD_NIVEL_1#34385, Jerarquia#34386, NIF_COD_NIVEL_0#34387, ... 65 more fields]\n            :              :              :                                                           +- Project [Id#34364, Entidad#34365, Origen_Solicitud#34366, Identificadores_Origen#34367, Entidad_Norm#7034, CIF#6977, CIF_validacion#34370, Centro#34371, Centro_Norm#34372, Tipo#34373, Provincia_Entidad#7091, Pais_Entidad#34375, Provincia_Centro#34376, PIC#34377, Tipo_Persona#34378, Entidad_Match#34379, Provincia_Match#34380, Match#34381, Id_NIVEL_1#34382, Id_NIVEL_0#34383, ID_ENTIDAD_NIVEL_0#34384, ID_ENTIDAD_NIVEL_1#34385, Jerarquia#34386, NIF_COD_NIVEL_0#34387, ... 64 more fields]\n            :              :              :                                                              +- Project [Id#34364, Entidad#34365, Origen_Solicitud#34366, Identificadores_Origen#34367, Entidad_Norm#7034, CIF#6977, CIF_validacion#34370, Centro#34371, Centro_Norm#34372, Tipo#34373, Provincia_Entidad#7091, Pais_Entidad#34375, Provincia_Centro#34376, PIC#34377, Tipo_Persona#34378, Entidad_Match#34379, Provincia_Match#34380, Match#34381, Id_NIVEL_1#34382, Id_NIVEL_0#34383, ID_ENTIDAD_NIVEL_0#34384, ID_ENTIDAD_NIVEL_1#34385, Jerarquia#34386, NIF_COD_NIVEL_0#34387, ... 63 more fields]\n            :              :              :                                                                 +- Project [Id#34364, Entidad#34365, Origen_Solicitud#34366, Identificadores_Origen#34367, Entidad_Norm#7034, CIF#6977, CIF_validacion#34370, Centro#34371, Centro_Norm#34372, Tipo#34373, Provincia_Entidad#7091, Pais_Entidad#34375, Provincia_Centro#34376, PIC#34377, Tipo_Persona#34378, Entidad_Match#34379, Provincia_Match#34380, Match#34381, Id_NIVEL_1#34382, Id_NIVEL_0#34383, ID_ENTIDAD_NIVEL_0#34384, ID_ENTIDAD_NIVEL_1#34385, Jerarquia#34386, NIF_COD_NIVEL_0#34387, ... 62 more fields]\n            :              :              :                                                                    +- Project [Id#34364, Entidad#34365, Origen_Solicitud#34366, Identificadores_Origen#34367, Entidad_Norm#7034, CIF#6977, CIF_validacion#34370, Centro#34371, Centro_Norm#34372, Tipo#34373, Provincia_Entidad#7091, Pais_Entidad#34375, Provincia_Centro#34376, PIC#34377, Tipo_Persona#34378, Entidad_Match#34379, Provincia_Match#34380, Match#34381, Id_NIVEL_1#34382, Id_NIVEL_0#34383, ID_ENTIDAD_NIVEL_0#34384, ID_ENTIDAD_NIVEL_1#34385, Jerarquia#34386, NIF_COD_NIVEL_0#34387, ... 61 more fields]\n            :              :              :                                                                       +- Project [Id#34364, Entidad#34365, Origen_Solicitud#34366, Identificadores_Origen#34367, Entidad_Norm#7034, CIF#6977, CIF_validacion#34370, Centro#34371, Centro_Norm#34372, Tipo#34373, Provincia_Entidad#7091, Pais_Entidad#34375, Provincia_Centro#34376, PIC#34377, Tipo_Persona#34378, Entidad_Match#34379, Provincia_Match#34380, Match#34381, Id_NIVEL_1#34382, Id_NIVEL_0#34383, ID_ENTIDAD_NIVEL_0#34384, ID_ENTIDAD_NIVEL_1#34385, Jerarquia#34386, NIF_COD_NIVEL_0#34387, ... 60 more fields]\n            :              :              :                                                                          +- Project [Id#34364, Entidad#34365, Origen_Solicitud#34366, Identificadores_Origen#34367, Entidad_Norm#7034, CIF#6977, CIF_validacion#34370, Centro#34371, Centro_Norm#34372, Tipo#34373, Provincia_Entidad#7091, Pais_Entidad#34375, Provincia_Centro#34376, PIC#34377, Tipo_Persona#34378, Entidad_Match#34379, Provincia_Match#34380, Match#34381, Id_NIVEL_1#34382, Id_NIVEL_0#34383, ID_ENTIDAD_NIVEL_0#34384, ID_ENTIDAD_NIVEL_1#34385, Jerarquia#34386, NIF_COD_NIVEL_0#34387, ... 59 more fields]\n            :              :              :                                                                             +- Project [Id#34364, Entidad#34365, Origen_Solicitud#34366, Identificadores_Origen#34367, Entidad_Norm#7034, CIF#6977, CIF_validacion#34370, Centro#34371, Centro_Norm#34372, Tipo#34373, Provincia_Entidad#7091, Pais_Entidad#34375, Provincia_Centro#34376, PIC#34377, Tipo_Persona#34378, Entidad_Match#34379, Provincia_Match#34380, Match#34381, Id_NIVEL_1#34382, Id_NIVEL_0#34383, ID_ENTIDAD_NIVEL_0#34384, ID_ENTIDAD_NIVEL_1#34385, Jerarquia#34386, NIF_COD_NIVEL_0#34387, ... 58 more fields]\n            :              :              :                                                                                +- Project [Id#34364, Entidad#34365, Origen_Solicitud#34366, Identificadores_Origen#34367, Entidad_Norm#7034, CIF#6977, CIF_validacion#34370, Centro#34371, Centro_Norm#34372, Tipo#34373, Provincia_Entidad#7091, Pais_Entidad#34375, Provincia_Centro#34376, PIC#34377, Tipo_Persona#34378, Entidad_Match#34379, Provincia_Match#34380, Match#34381, Id_NIVEL_1#34382, Id_NIVEL_0#34383, ID_ENTIDAD_NIVEL_0#34384, ID_ENTIDAD_NIVEL_1#34385, Jerarquia#34386, NIF_COD_NIVEL_0#34387, ... 57 more fields]\n            :              :              :                                                                                   +- Project [Id#34364, Entidad#34365, Origen_Solicitud#34366, Identificadores_Origen#34367, Entidad_Norm#7034, CIF#6977, CIF_validacion#34370, Centro#34371, Centro_Norm#34372, Tipo#34373, Provincia_Entidad#7091, Pais_Entidad#34375, Provincia_Centro#34376, PIC#34377, Tipo_Persona#34378, Entidad_Match#34379, Provincia_Match#34380, Match#34381, Id_NIVEL_1#34382, Id_NIVEL_0#34383, ID_ENTIDAD_NIVEL_0#34384, ID_ENTIDAD_NIVEL_1#34385, Jerarquia#34386, NIF_COD_NIVEL_0#34387, ... 56 more fields]\n            :              :              :                                                                                      +- Project [Id#34364, Entidad#34365, Origen_Solicitud#34366, Identificadores_Origen#34367, Entidad_Norm#7034, CIF#6977, CIF_validacion#34370, Centro#34371, Centro_Norm#34372, Tipo#34373, Provincia_Entidad#7091, Pais_Entidad#34375, Provincia_Centro#34376, PIC#34377, Tipo_Persona#34378, Entidad_Match#34379, Provincia_Match#34380, Match#34381, Id_NIVEL_1#34382, Id_NIVEL_0#34383, ID_ENTIDAD_NIVEL_0#34384, ID_ENTIDAD_NIVEL_1#34385, Jerarquia#34386, NIF_COD_NIVEL_0#34387, ... 55 more fields]\n            :              :              :                                                                                         +- Project [Id#34364, Entidad#34365, Origen_Solicitud#34366, Identificadores_Origen#34367, Entidad_Norm#7034, CIF#6977, CIF_validacion#34370, Centro#34371, Centro_Norm#34372, Tipo#34373, Provincia_Entidad#7091, Pais_Entidad#34375, Provincia_Centro#34376, PIC#34377, Tipo_Persona#34378, Entidad_Match#34379, Provincia_Match#34380, Match#34381, Id_NIVEL_1#34382, Id_NIVEL_0#34383, ID_ENTIDAD_NIVEL_0#34384, ID_ENTIDAD_NIVEL_1#34385, Jerarquia#34386, NIF_COD_NIVEL_0#34387, ... 54 more fields]\n            :              :              :                                                                                            +- Project [Id#34364, Entidad#34365, Origen_Solicitud#34366, Identificadores_Origen#34367, Entidad_Norm#7034, CIF#6977, CIF_validacion#34370, Centro#34371, Centro_Norm#34372, Tipo#34373, Provincia_Entidad#7091, Pais_Entidad#34375, Provincia_Centro#34376, PIC#34377, Tipo_Persona#34378, Entidad_Match#34379, Provincia_Match#34380, Match#34381, Id_NIVEL_1#34382, Id_NIVEL_0#34383, ID_ENTIDAD_NIVEL_0#34384, ID_ENTIDAD_NIVEL_1#34385, Jerarquia#34386, NIF_COD_NIVEL_0#34387, ... 53 more fields]\n            :              :              :                                                                                               +- Project [Id#34364, Entidad#34365, Origen_Solicitud#34366, Identificadores_Origen#34367, Entidad_Norm#7034, CIF#6977, CIF_validacion#34370, Centro#34371, Centro_Norm#34372, Tipo#34373, Provincia_Entidad#7091, Pais_Entidad#34375, Provincia_Centro#34376, PIC#34377, Tipo_Persona#34378, Entidad_Match#34379, Provincia_Match#34380, Match#34381, Id_NIVEL_1#34382, Id_NIVEL_0#34383, ID_ENTIDAD_NIVEL_0#34384, ID_ENTIDAD_NIVEL_1#34385, Jerarquia#34386, NIF_COD_NIVEL_0#34387, ... 52 more fields]\n            :              :              :                                                                                                  +- Project [Id#34364, Entidad#34365, Origen_Solicitud#34366, Identificadores_Origen#34367, Entidad_Norm#7034, CIF#6977, CIF_validacion#34370, Centro#34371, Centro_Norm#34372, Tipo#34373, Provincia_Entidad#7091, Pais_Entidad#34375, Provincia_Centro#34376, PIC#34377, Tipo_Persona#34378, Entidad_Match#34379, Provincia_Match#34380, Match#34381, Id_NIVEL_1#34382, Id_NIVEL_0#34383, ID_ENTIDAD_NIVEL_0#34384, ID_ENTIDAD_NIVEL_1#34385, Jerarquia#34386, NIF_COD_NIVEL_0#34387, ... 51 more fields]\n            :              :              :                                                                                                     +- Project [Id#34364, Entidad#34365, Origen_Solicitud#34366, Identificadores_Origen#34367, Entidad_Norm#7034, CIF#6977, CIF_validacion#34370, Centro#34371, Centro_Norm#34372, Tipo#34373, Provincia_Entidad#7091, Pais_Entidad#34375, Provincia_Centro#34376, PIC#34377, Tipo_Persona#34378, Entidad_Match#34379, Provincia_Match#34380, Match#34381, Id_NIVEL_1#34382, Id_NIVEL_0#34383, ID_ENTIDAD_NIVEL_0#34384, ID_ENTIDAD_NIVEL_1#34385, Jerarquia#34386, NIF_COD_NIVEL_0#34387, ... 50 more fields]\n            :              :              :                                                                                                        +- Project [Id#34364, Entidad#34365, Origen_Solicitud#34366, Identificadores_Origen#34367, Entidad_Norm#7034, CIF#6977, CIF_validacion#34370, Centro#34371, Centro_Norm#34372, Tipo#34373, Provincia_Entidad#7091, Pais_Entidad#34375, Provincia_Centro#34376, PIC#34377, Tipo_Persona#34378, Entidad_Match#34379, Provincia_Match#34380, Match#34381, Id_NIVEL_1#34382, Id_NIVEL_0#34383, ID_ENTIDAD_NIVEL_0#34384, ID_ENTIDAD_NIVEL_1#34385, Jerarquia#34386, NIF_COD_NIVEL_0#34387, ... 49 more fields]\n            :              :              :                                                                                                           +- Project [Id#34364, Entidad#34365, Origen_Solicitud#34366, Identificadores_Origen#34367, Entidad_Norm#7034, CIF#6977, CIF_validacion#34370, Centro#34371, Centro_Norm#34372, Tipo#34373, Provincia_Entidad#7091, Pais_Entidad#34375, Provincia_Centro#34376, PIC#34377, Tipo_Persona#34378, Entidad_Match#34379, Provincia_Match#34380, Match#34381, Id_NIVEL_1#34382, Id_NIVEL_0#34383, ID_ENTIDAD_NIVEL_0#34384, ID_ENTIDAD_NIVEL_1#34385, Jerarquia#34386, NIF_COD_NIVEL_0#34387, ... 48 more fields]\n            :              :              :                                                                                                              +- Project [Id#34364, Entidad#34365, Origen_Solicitud#34366, Identificadores_Origen#34367, Entidad_Norm#7034, CIF#6977, CIF_validacion#34370, Centro#34371, Centro_Norm#34372, Tipo#34373, Provincia_Entidad#7091, Pais_Entidad#34375, Provincia_Centro#34376, PIC#34377, Tipo_Persona#34378, Entidad_Match#34379, Provincia_Match#34380, Match#34381, Id_NIVEL_1#34382, Id_NIVEL_0#34383, ID_ENTIDAD_NIVEL_0#34384, ID_ENTIDAD_NIVEL_1#34385, Jerarquia#34386, NIF_COD_NIVEL_0#34387, ... 47 more fields]\n            :              :              :                                                                                                                 +- Project [Id#34364, Entidad#34365, Origen_Solicitud#34366, Identificadores_Origen#34367, Entidad_Norm#7034, CIF#6977, CIF_validacion#34370, Centro#34371, Centro_Norm#34372, Tipo#34373, Provincia_Entidad#7091, Pais_Entidad#34375, Provincia_Centro#34376, PIC#34377, Tipo_Persona#34378, Entidad_Match#34379, Provincia_Match#34380, Match#34381, Id_NIVEL_1#34382, Id_NIVEL_0#34383, ID_ENTIDAD_NIVEL_0#34384, ID_ENTIDAD_NIVEL_1#34385, Jerarquia#34386, NIF_COD_NIVEL_0#34387, ... 46 more fields]\n            :              :              :                                                                                                                    +- Project [Id#34364, Entidad#34365, Origen_Solicitud#34366, Identificadores_Origen#34367, Entidad_Norm#7034, CIF#6977, CIF_validacion#34370, Centro#34371, Centro_Norm#34372, Tipo#34373, Provincia_Entidad#7091, Pais_Entidad#34375, Provincia_Centro#34376, PIC#34377, Tipo_Persona#34378, Entidad_Match#34379, Provincia_Match#34380, Match#34381, Id_NIVEL_1#34382, Id_NIVEL_0#34383, ID_ENTIDAD_NIVEL_0#34384, ID_ENTIDAD_NIVEL_1#34385, Jerarquia#34386, NIF_COD_NIVEL_0#34387, ... 45 more fields]\n            :              :              :                                                                                                                       +- Project [Id#34364, Entidad#34365, Origen_Solicitud#34366, Identificadores_Origen#34367, Entidad_Norm#7034, CIF#6977, CIF_validacion#34370, Centro#34371, Centro_Norm#34372, Tipo#34373, Provincia_Entidad#7091, Pais_Entidad#34375, Provincia_Centro#34376, PIC#34377, Tipo_Persona#34378, Entidad_Match#34379, Provincia_Match#34380, Match#34381, Id_NIVEL_1#34382, Id_NIVEL_0#34383, ID_ENTIDAD_NIVEL_0#34384, ID_ENTIDAD_NIVEL_1#34385, Jerarquia#34386, NIF_COD_NIVEL_0#34387, ... 44 more fields]\n            :              :              :                                                                                                                          +- Project [Id#34364, Entidad#34365, Origen_Solicitud#34366, Identificadores_Origen#34367, Entidad_Norm#7034, CIF#6977, CIF_validacion#34370, Centro#34371, Centro_Norm#34372, Tipo#34373, Provincia_Entidad#7091, Pais_Entidad#34375, Provincia_Centro#34376, PIC#34377, Tipo_Persona#34378, Entidad_Match#34379, Provincia_Match#34380, Match#34381, Id_NIVEL_1#34382, Id_NIVEL_0#34383, ID_ENTIDAD_NIVEL_0#34384, ID_ENTIDAD_NIVEL_1#34385, Jerarquia#34386, NIF_COD_NIVEL_0#34387, ... 43 more fields]\n            :              :              :                                                                                                                             +- Project [Id#34364, Entidad#34365, Origen_Solicitud#34366, Identificadores_Origen#34367, Entidad_Norm#7034, CIF#6977, CIF_validacion#34370, Centro#34371, Centro_Norm#34372, Tipo#34373, Provincia_Entidad#7091, Pais_Entidad#34375, Provincia_Centro#34376, PIC#34377, Tipo_Persona#34378, Entidad_Match#34379, Provincia_Match#34380, Match#34381, Id_NIVEL_1#34382, Id_NIVEL_0#34383, ID_ENTIDAD_NIVEL_0#34384, ID_ENTIDAD_NIVEL_1#34385, Jerarquia#34386, NIF_COD_NIVEL_0#34387, ... 42 more fields]\n            :              :              :                                                                                                                                +- Project [Id#34364, Entidad#34365, Origen_Solicitud#34366, Identificadores_Origen#34367, Entidad_Norm#7034, CIF#6977, CIF_validacion#34370, Centro#34371, Centro_Norm#34372, Tipo#34373, Provincia_Entidad#7091, Pais_Entidad#34375, Provincia_Centro#34376, PIC#34377, Tipo_Persona#34378, Entidad_Match#34379, Provincia_Match#34380, Match#34381, Id_NIVEL_1#34382, Id_NIVEL_0#34383, ID_ENTIDAD_NIVEL_0#34384, ID_ENTIDAD_NIVEL_1#34385, Jerarquia#34386, NIF_COD_NIVEL_0#34387, ... 41 more fields]\n            :              :              :                                                                                                                                   +- Project [Id#34364, Entidad#34365, Origen_Solicitud#34366, Identificadores_Origen#34367, Entidad_Norm#7034, CIF#6977, CIF_validacion#34370, Centro#34371, Centro_Norm#34372, Tipo#34373, Provincia_Entidad#7091, Pais_Entidad#34375, Provincia_Centro#34376, PIC#34377, Tipo_Persona#34378, Entidad_Match#34379, Provincia_Match#34380, Match#34381, Id_NIVEL_1#34382, Id_NIVEL_0#34383, ID_ENTIDAD_NIVEL_0#34384, ID_ENTIDAD_NIVEL_1#34385, Jerarquia#34386, NIF_COD_NIVEL_0#34387, ... 40 more fields]\n            :              :              :                                                                                                                                      +- Project [Id#34364, Entidad#34365, Origen_Solicitud#34366, Identificadores_Origen#34367, Entidad_Norm#7034, CIF#6977, CIF_validacion#34370, Centro#34371, Centro_Norm#34372, Tipo#34373, Provincia_Entidad#7091, Pais_Entidad#34375, Provincia_Centro#34376, PIC#34377, Tipo_Persona#34378, Entidad_Match#34379, Provincia_Match#34380, Match#34381, Id_NIVEL_1#34382, Id_NIVEL_0#34383, ID_ENTIDAD_NIVEL_0#34384, ID_ENTIDAD_NIVEL_1#34385, Jerarquia#34386, NIF_COD_NIVEL_0#34387, ... 39 more fields]\n            :              :              :                                                                                                                                         +- Project [Id#34364, Entidad#34365, Origen_Solicitud#34366, Identificadores_Origen#34367, Entidad_Norm#7034, CIF#6977, CIF_validacion#34370, Centro#34371, Centro_Norm#34372, Tipo#34373, Provincia_Entidad#7091, Pais_Entidad#34375, Provincia_Centro#34376, PIC#34377, Tipo_Persona#34378, Entidad_Match#34379, Provincia_Match#34380, Match#34381, Id_NIVEL_1#34382, Id_NIVEL_0#34383, ID_ENTIDAD_NIVEL_0#34384, ID_ENTIDAD_NIVEL_1#34385, Jerarquia#34386, NIF_COD_NIVEL_0#34387, ... 38 more fields]\n            :              :              :                                                                                                                                            +- Project [Id#34364, Entidad#34365, Origen_Solicitud#34366, Identificadores_Origen#34367, Entidad_Norm#7034, CIF#6977, CIF_validacion#34370, Centro#34371, Centro_Norm#34372, Tipo#34373, Provincia_Entidad#7091, Pais_Entidad#34375, Provincia_Centro#34376, PIC#34377, Tipo_Persona#34378, Entidad_Match#34379, Provincia_Match#34380, Match#34381, Id_NIVEL_1#34382, Id_NIVEL_0#34383, ID_ENTIDAD_NIVEL_0#34384, ID_ENTIDAD_NIVEL_1#34385, Jerarquia#34386, NIF_COD_NIVEL_0#34387, ... 37 more fields]\n            :              :              :                                                                                                                                               +- Project [Id#34364, Entidad#34365, Origen_Solicitud#34366, Identificadores_Origen#34367, Entidad_Norm#7034, CIF#6977, CIF_validacion#34370, Centro#34371, Centro_Norm#34372, Tipo#34373, Provincia_Entidad#7091, Pais_Entidad#34375, Provincia_Centro#34376, PIC#34377, Tipo_Persona#34378, Entidad_Match#34379, Provincia_Match#34380, Match#34381, Id_NIVEL_1#34382, Id_NIVEL_0#34383, ID_ENTIDAD_NIVEL_0#34384, ID_ENTIDAD_NIVEL_1#34385, Jerarquia#34386, NIF_COD_NIVEL_0#34387, ... 36 more fields]\n            :              :              :                                                                                                                                                  +- Project [Id#34364, Entidad#34365, Origen_Solicitud#34366, Identificadores_Origen#34367, Entidad_Norm#7034, CIF#6977, CIF_validacion#34370, Centro#34371, Centro_Norm#34372, Tipo#34373, Provincia_Entidad#7091, Pais_Entidad#34375, Provincia_Centro#34376, PIC#34377, Tipo_Persona#34378, Entidad_Match#34379, Provincia_Match#34380, Match#34381, Id_NIVEL_1#34382, Id_NIVEL_0#34383, ID_ENTIDAD_NIVEL_0#34384, ID_ENTIDAD_NIVEL_1#34385, Jerarquia#34386, NIF_COD_NIVEL_0#34387, ... 35 more fields]\n            :              :              :                                                                                                                                                     +- Project [Id#34364, Entidad#34365, Origen_Solicitud#34366, Identificadores_Origen#34367, Entidad_Norm#7034, CIF#6977, CIF_validacion#34370, Centro#34371, Centro_Norm#34372, Tipo#34373, Provincia_Entidad#7091, Pais_Entidad#34375, Provincia_Centro#34376, PIC#34377, Tipo_Persona#34378, Entidad_Match#34379, Provincia_Match#34380, Match#34381, Id_NIVEL_1#34382, Id_NIVEL_0#34383, ID_ENTIDAD_NIVEL_0#34384, ID_ENTIDAD_NIVEL_1#34385, Jerarquia#34386, NIF_COD_NIVEL_0#34387, ... 34 more fields]\n            :              :              :                                                                                                                                                        +- Project [Id#34364, Entidad#34365, Origen_Solicitud#34366, Identificadores_Origen#34367, Entidad_Norm#7034, CIF#6977, CIF_validacion#34370, Centro#34371, Centro_Norm#34372, Tipo#34373, Provincia_Entidad#7091, Pais_Entidad#34375, Provincia_Centro#34376, PIC#34377, Tipo_Persona#34378, Entidad_Match#34379, Provincia_Match#34380, Match#34381, Id_NIVEL_1#34382, Id_NIVEL_0#34383, ID_ENTIDAD_NIVEL_0#34384, ID_ENTIDAD_NIVEL_1#34385, Jerarquia#34386, NIF_COD_NIVEL_0#34387, ... 33 more fields]\n            :              :              :                                                                                                                                                           +- Project [Id#34364, Entidad#34365, Origen_Solicitud#34366, Identificadores_Origen#34367, Entidad_Norm#7034, CIF#6977, CIF_validacion#34370, Centro#34371, Centro_Norm#34372, Tipo#34373, Provincia_Centro#34376 AS Provincia_Entidad#7091, Pais_Entidad#34375, Provincia_Centro#34376, PIC#34377, Tipo_Persona#34378, Entidad_Match#34379, Provincia_Match#34380, Match#34381, Id_NIVEL_1#34382, Id_NIVEL_0#34383, ID_ENTIDAD_NIVEL_0#34384, ID_ENTIDAD_NIVEL_1#34385, Jerarquia#34386, NIF_COD_NIVEL_0#34387, ... 32 more fields]\n            :              :              :                                                                                                                                                              +- Project [Id#34364, Entidad#34365, Origen_Solicitud#34366, Identificadores_Origen#34367, Centro_Norm#34372 AS Entidad_Norm#7034, CIF#6977, CIF_validacion#34370, Centro#34371, Centro_Norm#34372, Tipo#34373, Provincia_Entidad#34374, Pais_Entidad#34375, Provincia_Centro#34376, PIC#34377, Tipo_Persona#34378, Entidad_Match#34379, Provincia_Match#34380, Match#34381, Id_NIVEL_1#34382, Id_NIVEL_0#34383, ID_ENTIDAD_NIVEL_0#34384, ID_ENTIDAD_NIVEL_1#34385, Jerarquia#34386, NIF_COD_NIVEL_0#34387, ... 32 more fields]\n            :              :              :                                                                                                                                                                 +- Project [Id#34364, Entidad#34365, Origen_Solicitud#34366, Identificadores_Origen#34367, Entidad_Norm#34368, cast(null as string) AS CIF#6977, CIF_validacion#34370, Centro#34371, Centro_Norm#34372, Tipo#34373, Provincia_Entidad#34374, Pais_Entidad#34375, Provincia_Centro#34376, PIC#34377, Tipo_Persona#34378, Entidad_Match#34379, Provincia_Match#34380, Match#34381, Id_NIVEL_1#34382, Id_NIVEL_0#34383, ID_ENTIDAD_NIVEL_0#34384, ID_ENTIDAD_NIVEL_1#34385, Jerarquia#34386, NIF_COD_NIVEL_0#34387, ... 32 more fields]\n            :              :              :                                                                                                                                                                    +- Filter (cast(Similitud#6866 as double) < cast(0.875 as double))\n            :              :              :                                                                                                                                                                       +- Project [Id#34364, Entidad#34365, Origen_Solicitud#34366, Identificadores_Origen#34367, Entidad_Norm#34368, CIF#34369, CIF_validacion#34370, Centro#34371, Centro_Norm#34372, Tipo#34373, Provincia_Entidad#34374, Pais_Entidad#34375, Provincia_Centro#34376, PIC#34377, Tipo_Persona#34378, Entidad_Match#34379, Provincia_Match#34380, Match#34381, Id_NIVEL_1#34382, Id_NIVEL_0#34383, ID_ENTIDAD_NIVEL_0#34384, ID_ENTIDAD_NIVEL_1#34385, Jerarquia#34386, NIF_COD_NIVEL_0#34387, ... 32 more fields]\n            :              :              :                                                                                                                                                                          +- Filter isnotnull(Id_NIVEL_0#34383)\n            :              :              :                                                                                                                                                                             +- Deduplicate [Pais_Entidad#34375, Id#34364, Centro_Norm#34372, Entidad_Norm#34368, Entidad_Match#34379, Centro#34371, Identificadores_Origen#34367, Tipo#34373, Origen_Solicitud#34366, Entidad#34365, CIF_validacion#34370, Tipo_Persona#34378, Provincia_Match#34380, PIC#34377, CIF#34369, Provincia_Entidad#34374, Provincia_Centro#34376, Match#34381]\n            :              :              :                                                                                                                                                                                +- Join LeftOuter, (Id#34364 = Id_NIVEL_0#34383)\n            :              :              :                                                                                                                                                                                   :- Relation [Id#34364,Entidad#34365,Origen_Solicitud#34366,Identificadores_Origen#34367,Entidad_Norm#34368,CIF#34369,CIF_validacion#34370,Centro#34371,Centro_Norm#34372,Tipo#34373,Provincia_Entidad#34374,Pais_Entidad#34375,Provincia_Centro#34376,PIC#34377,Tipo_Persona#34378,Entidad_Match#34379,Provincia_Match#34380,Match#34381] csv\n            :              :              :                                                                                                                                                                                   +- Relation [Id_NIVEL_1#34382,Id_NIVEL_0#34383,ID_ENTIDAD_NIVEL_0#34384,ID_ENTIDAD_NIVEL_1#34385,Jerarquia#34386,NIF_COD_NIVEL_0#34387,ACRONIMO_NIVEL_0#34388,NOMBRE_ENTIDAD_NIVEL_0#34389,Nombre_Entidad_Mostrar_NIVEL_0#34390,TIPO_ENTIDAD_N1_1_NIVEL_0#34391,TIPO_ENTIDAD_N2_1_NIVEL_0#34392,DIRECCION_POSTAL_NIVEL_0#34393,COD_POSTAL_NIVEL_0#34394,COD_PROVINCIA_NIVEL_0#34395,PROVINCIA_NIVEL_0#34396,COD_CCAA_NIVEL_0#34397,CCAA_NIVEL_0#34398,ENLACE_WEB_NIVEL_0#34399,SOMMA_NIVEL_0#34400,TIPO_ENTIDAD_REGIONAL_NIVEL_0#34401,ESTADO_x_NIVEL_0#34402,NIF_COD_NIVEL_1#34403,ACRONIMO_NIVEL_1#34404,NOMBRE_ENTIDAD_NIVEL_1#34405,... 13 more fields] csv\n            :              :              +- Project [Id#10956, Dummy#10962]\n            :              :                 +- Project [Id#10956, Dummy#10958L, Dummy#10962, Dummy#10962]\n            :              :                    +- Window [row_number() windowspecdefinition(Dummy#10958L ASC NULLS FIRST, specifiedwindowframe(RowFrame, unboundedpreceding$(), currentrow$())) AS Dummy#10962], [Dummy#10958L ASC NULLS FIRST]\n            :              :                       +- Project [Id#10956, Dummy#10958L]\n            :              :                          +- Project [Id#10956, monotonically_increasing_id() AS Dummy#10958L]\n            :              :                             +- Project [value#34419 AS Id#10956]\n            :              :                                +- LogicalRDD [value#34419], false\n            :              +- Project [Entidad_Norm#34422, DenominacionSocial#34423, NIF#34425, CodigoInvente#34426, FormaJuridica_Codigo#34427, FormaJuridica_Descripcion#34428, codigoDir3#34429, codigoOrigen#34430, Provincia_Codigo#34424, final_score#14072, DenominacionSocial_Norm#34431]\n            :                 +- Deduplicate [Entidad_Norm#34422]\n            :                    +- Sort [final_score#14072 DESC NULLS LAST], true\n            :                       +- Filter (cast(final_score#14072 as double) >= cast(0.875 as double))\n            :                          +- Project [source_name#34420, target_name#34421, Entidad_Norm#34422, DenominacionSocial#34423, Provincia_Codigo#34424, NIF#34425, CodigoInvente#34426, FormaJuridica_Codigo#34427, FormaJuridica_Descripcion#34428, codigoDir3#34429, codigoOrigen#34430, DenominacionSocial_Norm#34431, source_names_stopwords#13971, target_names_stopwords#14023, CASE WHEN NOT (source_names_stopwords#13971 = target_names_stopwords#14023) THEN final_score#14040 ELSE cast(1 as float) END AS final_score#14072]\n            :                             +- Project [source_name#34420, target_name#34421, Entidad_Norm#34422, DenominacionSocial#34423, Provincia_Codigo#34424, NIF#34425, CodigoInvente#34426, FormaJuridica_Codigo#34427, FormaJuridica_Descripcion#34428, codigoDir3#34429, codigoOrigen#34430, DenominacionSocial_Norm#34431, source_names_stopwords#13971, target_names_stopwords#14023, final_score#14040]\n            :                                +- Project [source_name#34420, target_name#34421, Entidad_Norm#34422, DenominacionSocial#34423, Provincia_Codigo#34424, NIF#34425, CodigoInvente#34426, FormaJuridica_Codigo#34427, FormaJuridica_Descripcion#34428, codigoDir3#34429, codigoOrigen#34430, DenominacionSocial_Norm#34431, aux#13986, source_names_stopwords#13971, target_names_stopwords#14023, Distance_ratcliff_obershelp(source_names_stopwords#13971, target_names_stopwords#14023)#14039 AS final_score#14040]\n            :                                   +- Project [source_name#34420, target_name#34421, Entidad_Norm#34422, DenominacionSocial#34423, Provincia_Codigo#34424, NIF#34425, CodigoInvente#34426, FormaJuridica_Codigo#34427, FormaJuridica_Descripcion#34428, codigoDir3#34429, codigoOrigen#34430, DenominacionSocial_Norm#34431, aux#13986, source_names_stopwords#13971, array_join(target_names_stopwords#14004,  , None) AS target_names_stopwords#14023]\n            :                                      +- Project [source_name#34420, target_name#34421, Entidad_Norm#34422, DenominacionSocial#34423, Provincia_Codigo#34424, NIF#34425, CodigoInvente#34426, FormaJuridica_Codigo#34427, FormaJuridica_Descripcion#34428, codigoDir3#34429, codigoOrigen#34430, DenominacionSocial_Norm#34431, aux#13986, source_names_stopwords#13971, UDF(aux#13986) AS target_names_stopwords#14004]\n            :                                         +- Project [source_name#34420, target_name#34421, Entidad_Norm#34422, DenominacionSocial#34423, Provincia_Codigo#34424, NIF#34425, CodigoInvente#34426, FormaJuridica_Codigo#34427, FormaJuridica_Descripcion#34428, codigoDir3#34429, codigoOrigen#34430, DenominacionSocial_Norm#34431, split(target_name#34421, \\s+, -1) AS aux#13986, source_names_stopwords#13971]\n            :                                            +- Project [source_name#34420, target_name#34421, Entidad_Norm#34422, DenominacionSocial#34423, Provincia_Codigo#34424, NIF#34425, CodigoInvente#34426, FormaJuridica_Codigo#34427, FormaJuridica_Descripcion#34428, codigoDir3#34429, codigoOrigen#34430, DenominacionSocial_Norm#34431, aux#13936, array_join(source_names_stopwords#13953,  , None) AS source_names_stopwords#13971]\n            :                                               +- Project [source_name#34420, target_name#34421, Entidad_Norm#34422, DenominacionSocial#34423, Provincia_Codigo#34424, NIF#34425, CodigoInvente#34426, FormaJuridica_Codigo#34427, FormaJuridica_Descripcion#34428, codigoDir3#34429, codigoOrigen#34430, DenominacionSocial_Norm#34431, aux#13936, UDF(aux#13936) AS source_names_stopwords#13953]\n            :                                                  +- Project [source_name#34420, target_name#34421, Entidad_Norm#34422, DenominacionSocial#34423, Provincia_Codigo#34424, NIF#34425, CodigoInvente#34426, FormaJuridica_Codigo#34427, FormaJuridica_Descripcion#34428, codigoDir3#34429, codigoOrigen#34430, DenominacionSocial_Norm#34431, split(source_name#34420, \\s+, -1) AS aux#13936]\n            :                                                     +- LogicalRDD [source_name#34420, target_name#34421, Entidad_Norm#34422, DenominacionSocial#34423, Provincia_Codigo#34424, NIF#34425, CodigoInvente#34426, FormaJuridica_Codigo#34427, FormaJuridica_Descripcion#34428, codigoDir3#34429, codigoOrigen#34430, DenominacionSocial_Norm#34431], false\n            +- Project [Entidad_Norm#34434, final_score#32306, C_ID_UD_ORGANICA#34435, C_DNM_UD_ORGANICA#34436, C_ID_NIVEL_ADMON#34437, C_ID_TIPO_ENT_PUBLICA#34438, N_NIVEL_JERARQUICO#34439, C_ID_DEP_UD_SUPERIOR#34440, C_DNM_UD_ORGANICA_SUPERIOR#34441, C_ID_DEP_UD_PRINCIPAL#34442, C_DNM_UD_ORGANICA_PRINCIPAL#34443, B_SW_DEP_EDP_PRINCIPAL#34444, C_ID_DEP_EDP_PRINCIPAL#34445, C_DNM_UD_ORGANICA_EDP_PRINCIPAL#34446, C_ID_ESTADO#34447, D_VIG_ALTA_OFICIAL#34448, NIF_CIF#34449, C_ID_AMB_PROVINCIA#34450, C_DESC_PROV#34451, CONTACTOS#34452, C_DNM_UD_ORGANICA_Norm#34453]\n               +- Union false, false\n                  :- Project [source_name#34432, target_name#34433, Entidad_Norm#34434, C_ID_UD_ORGANICA#34435, C_DNM_UD_ORGANICA#34436, C_ID_NIVEL_ADMON#34437, C_ID_TIPO_ENT_PUBLICA#34438, N_NIVEL_JERARQUICO#34439, C_ID_DEP_UD_SUPERIOR#34440, C_DNM_UD_ORGANICA_SUPERIOR#34441, C_ID_DEP_UD_PRINCIPAL#34442, C_DNM_UD_ORGANICA_PRINCIPAL#34443, B_SW_DEP_EDP_PRINCIPAL#34444, C_ID_DEP_EDP_PRINCIPAL#34445, C_DNM_UD_ORGANICA_EDP_PRINCIPAL#34446, C_ID_ESTADO#34447, D_VIG_ALTA_OFICIAL#34448, NIF_CIF#34449, C_ID_AMB_PROVINCIA#34450, C_DESC_PROV#34451, CONTACTOS#34452, C_DNM_UD_ORGANICA_Norm#34453, source_names_stopwords#32145, target_names_stopwords#32227, final_score#32306]\n                  :  +- Filter (cnt#33400L = cast(1 as bigint))\n                  :     +- Project [source_name#34432, target_name#34433, Entidad_Norm#34434, C_ID_UD_ORGANICA#34435, C_DNM_UD_ORGANICA#34436, C_ID_NIVEL_ADMON#34437, C_ID_TIPO_ENT_PUBLICA#34438, N_NIVEL_JERARQUICO#34439, C_ID_DEP_UD_SUPERIOR#34440, C_DNM_UD_ORGANICA_SUPERIOR#34441, C_ID_DEP_UD_PRINCIPAL#34442, C_DNM_UD_ORGANICA_PRINCIPAL#34443, B_SW_DEP_EDP_PRINCIPAL#34444, C_ID_DEP_EDP_PRINCIPAL#34445, C_DNM_UD_ORGANICA_EDP_PRINCIPAL#34446, C_ID_ESTADO#34447, D_VIG_ALTA_OFICIAL#34448, NIF_CIF#34449, C_ID_AMB_PROVINCIA#34450, C_DESC_PROV#34451, CONTACTOS#34452, C_DNM_UD_ORGANICA_Norm#34453, source_names_stopwords#32145, target_names_stopwords#32227, ... 2 more fields]\n                  :        +- Project [source_name#34432, target_name#34433, Entidad_Norm#34434, C_ID_UD_ORGANICA#34435, C_DNM_UD_ORGANICA#34436, C_ID_NIVEL_ADMON#34437, C_ID_TIPO_ENT_PUBLICA#34438, N_NIVEL_JERARQUICO#34439, C_ID_DEP_UD_SUPERIOR#34440, C_DNM_UD_ORGANICA_SUPERIOR#34441, C_ID_DEP_UD_PRINCIPAL#34442, C_DNM_UD_ORGANICA_PRINCIPAL#34443, B_SW_DEP_EDP_PRINCIPAL#34444, C_ID_DEP_EDP_PRINCIPAL#34445, C_DNM_UD_ORGANICA_EDP_PRINCIPAL#34446, C_ID_ESTADO#34447, D_VIG_ALTA_OFICIAL#34448, NIF_CIF#34449, C_ID_AMB_PROVINCIA#34450, C_DESC_PROV#34451, CONTACTOS#34452, C_DNM_UD_ORGANICA_Norm#34453, source_names_stopwords#32145, target_names_stopwords#32227, ... 3 more fields]\n                  :           +- Window [count(1) windowspecdefinition(Entidad_Norm#34434, specifiedwindowframe(RowFrame, unboundedpreceding$(), unboundedfollowing$())) AS cnt#33400L], [Entidad_Norm#34434]\n                  :              +- Project [source_name#34432, target_name#34433, Entidad_Norm#34434, C_ID_UD_ORGANICA#34435, C_DNM_UD_ORGANICA#34436, C_ID_NIVEL_ADMON#34437, C_ID_TIPO_ENT_PUBLICA#34438, N_NIVEL_JERARQUICO#34439, C_ID_DEP_UD_SUPERIOR#34440, C_DNM_UD_ORGANICA_SUPERIOR#34441, C_ID_DEP_UD_PRINCIPAL#34442, C_DNM_UD_ORGANICA_PRINCIPAL#34443, B_SW_DEP_EDP_PRINCIPAL#34444, C_ID_DEP_EDP_PRINCIPAL#34445, C_DNM_UD_ORGANICA_EDP_PRINCIPAL#34446, C_ID_ESTADO#34447, D_VIG_ALTA_OFICIAL#34448, NIF_CIF#34449, C_ID_AMB_PROVINCIA#34450, C_DESC_PROV#34451, CONTACTOS#34452, C_DNM_UD_ORGANICA_Norm#34453, source_names_stopwords#32145, target_names_stopwords#32227, final_score#32306]\n                  :                 +- Deduplicate [Entidad_Norm#34434, C_DNM_UD_ORGANICA_Norm#34453]\n                  :                    +- Filter (cast(final_score#32306 as double) >= cast(0.875 as double))\n                  :                       +- Project [source_name#34432, target_name#34433, Entidad_Norm#34434, C_ID_UD_ORGANICA#34435, C_DNM_UD_ORGANICA#34436, C_ID_NIVEL_ADMON#34437, C_ID_TIPO_ENT_PUBLICA#34438, N_NIVEL_JERARQUICO#34439, C_ID_DEP_UD_SUPERIOR#34440, C_DNM_UD_ORGANICA_SUPERIOR#34441, C_ID_DEP_UD_PRINCIPAL#34442, C_DNM_UD_ORGANICA_PRINCIPAL#34443, B_SW_DEP_EDP_PRINCIPAL#34444, C_ID_DEP_EDP_PRINCIPAL#34445, C_DNM_UD_ORGANICA_EDP_PRINCIPAL#34446, C_ID_ESTADO#34447, D_VIG_ALTA_OFICIAL#34448, NIF_CIF#34449, C_ID_AMB_PROVINCIA#34450, C_DESC_PROV#34451, CONTACTOS#34452, C_DNM_UD_ORGANICA_Norm#34453, source_names_stopwords#32145, target_names_stopwords#32227, CASE WHEN NOT (source_names_stopwords#32145 = target_names_stopwords#32227) THEN final_score#32254 ELSE cast(1 as float) END AS final_score#32306]\n                  :                          +- Project [source_name#34432, target_name#34433, Entidad_Norm#34434, C_ID_UD_ORGANICA#34435, C_DNM_UD_ORGANICA#34436, C_ID_NIVEL_ADMON#34437, C_ID_TIPO_ENT_PUBLICA#34438, N_NIVEL_JERARQUICO#34439, C_ID_DEP_UD_SUPERIOR#34440, C_DNM_UD_ORGANICA_SUPERIOR#34441, C_ID_DEP_UD_PRINCIPAL#34442, C_DNM_UD_ORGANICA_PRINCIPAL#34443, B_SW_DEP_EDP_PRINCIPAL#34444, C_ID_DEP_EDP_PRINCIPAL#34445, C_DNM_UD_ORGANICA_EDP_PRINCIPAL#34446, C_ID_ESTADO#34447, D_VIG_ALTA_OFICIAL#34448, NIF_CIF#34449, C_ID_AMB_PROVINCIA#34450, C_DESC_PROV#34451, CONTACTOS#34452, C_DNM_UD_ORGANICA_Norm#34453, source_names_stopwords#32145, target_names_stopwords#32227, final_score#32254]\n                  :                             +- Project [source_name#34432, target_name#34433, Entidad_Norm#34434, C_ID_UD_ORGANICA#34435, C_DNM_UD_ORGANICA#34436, C_ID_NIVEL_ADMON#34437, C_ID_TIPO_ENT_PUBLICA#34438, N_NIVEL_JERARQUICO#34439, C_ID_DEP_UD_SUPERIOR#34440, C_DNM_UD_ORGANICA_SUPERIOR#34441, C_ID_DEP_UD_PRINCIPAL#34442, C_DNM_UD_ORGANICA_PRINCIPAL#34443, B_SW_DEP_EDP_PRINCIPAL#34444, C_ID_DEP_EDP_PRINCIPAL#34445, C_DNM_UD_ORGANICA_EDP_PRINCIPAL#34446, C_ID_ESTADO#34447, D_VIG_ALTA_OFICIAL#34448, NIF_CIF#34449, C_ID_AMB_PROVINCIA#34450, C_DESC_PROV#34451, CONTACTOS#34452, C_DNM_UD_ORGANICA_Norm#34453, aux#32170, source_names_stopwords#32145, ... 2 more fields]\n                  :                                +- Project [source_name#34432, target_name#34433, Entidad_Norm#34434, C_ID_UD_ORGANICA#34435, C_DNM_UD_ORGANICA#34436, C_ID_NIVEL_ADMON#34437, C_ID_TIPO_ENT_PUBLICA#34438, N_NIVEL_JERARQUICO#34439, C_ID_DEP_UD_SUPERIOR#34440, C_DNM_UD_ORGANICA_SUPERIOR#34441, C_ID_DEP_UD_PRINCIPAL#34442, C_DNM_UD_ORGANICA_PRINCIPAL#34443, B_SW_DEP_EDP_PRINCIPAL#34444, C_ID_DEP_EDP_PRINCIPAL#34445, C_DNM_UD_ORGANICA_EDP_PRINCIPAL#34446, C_ID_ESTADO#34447, D_VIG_ALTA_OFICIAL#34448, NIF_CIF#34449, C_ID_AMB_PROVINCIA#34450, C_DESC_PROV#34451, CONTACTOS#34452, C_DNM_UD_ORGANICA_Norm#34453, aux#32170, source_names_stopwords#32145, array_join(target_names_stopwords#32198,  , None) AS target_names_stopwords#32227]\n                  :                                   +- Project [source_name#34432, target_name#34433, Entidad_Norm#34434, C_ID_UD_ORGANICA#34435, C_DNM_UD_ORGANICA#34436, C_ID_NIVEL_ADMON#34437, C_ID_TIPO_ENT_PUBLICA#34438, N_NIVEL_JERARQUICO#34439, C_ID_DEP_UD_SUPERIOR#34440, C_DNM_UD_ORGANICA_SUPERIOR#34441, C_ID_DEP_UD_PRINCIPAL#34442, C_DNM_UD_ORGANICA_PRINCIPAL#34443, B_SW_DEP_EDP_PRINCIPAL#34444, C_ID_DEP_EDP_PRINCIPAL#34445, C_DNM_UD_ORGANICA_EDP_PRINCIPAL#34446, C_ID_ESTADO#34447, D_VIG_ALTA_OFICIAL#34448, NIF_CIF#34449, C_ID_AMB_PROVINCIA#34450, C_DESC_PROV#34451, CONTACTOS#34452, C_DNM_UD_ORGANICA_Norm#34453, aux#32170, source_names_stopwords#32145, UDF(aux#32170) AS target_names_stopwords#32198]\n                  :                                      +- Project [source_name#34432, target_name#34433, Entidad_Norm#34434, C_ID_UD_ORGANICA#34435, C_DNM_UD_ORGANICA#34436, C_ID_NIVEL_ADMON#34437, C_ID_TIPO_ENT_PUBLICA#34438, N_NIVEL_JERARQUICO#34439, C_ID_DEP_UD_SUPERIOR#34440, C_DNM_UD_ORGANICA_SUPERIOR#34441, C_ID_DEP_UD_PRINCIPAL#34442, C_DNM_UD_ORGANICA_PRINCIPAL#34443, B_SW_DEP_EDP_PRINCIPAL#34444, C_ID_DEP_EDP_PRINCIPAL#34445, C_DNM_UD_ORGANICA_EDP_PRINCIPAL#34446, C_ID_ESTADO#34447, D_VIG_ALTA_OFICIAL#34448, NIF_CIF#34449, C_ID_AMB_PROVINCIA#34450, C_DESC_PROV#34451, CONTACTOS#34452, C_DNM_UD_ORGANICA_Norm#34453, split(target_name#34433, \\s+, -1) AS aux#32170, source_names_stopwords#32145]\n                  :                                         +- Project [source_name#34432, target_name#34433, Entidad_Norm#34434, C_ID_UD_ORGANICA#34435, C_DNM_UD_ORGANICA#34436, C_ID_NIVEL_ADMON#34437, C_ID_TIPO_ENT_PUBLICA#34438, N_NIVEL_JERARQUICO#34439, C_ID_DEP_UD_SUPERIOR#34440, C_DNM_UD_ORGANICA_SUPERIOR#34441, C_ID_DEP_UD_PRINCIPAL#34442, C_DNM_UD_ORGANICA_PRINCIPAL#34443, B_SW_DEP_EDP_PRINCIPAL#34444, C_ID_DEP_EDP_PRINCIPAL#34445, C_DNM_UD_ORGANICA_EDP_PRINCIPAL#34446, C_ID_ESTADO#34447, D_VIG_ALTA_OFICIAL#34448, NIF_CIF#34449, C_ID_AMB_PROVINCIA#34450, C_DESC_PROV#34451, CONTACTOS#34452, C_DNM_UD_ORGANICA_Norm#34453, aux#32090, array_join(source_names_stopwords#32117,  , None) AS source_names_stopwords#32145]\n                  :                                            +- Project [source_name#34432, target_name#34433, Entidad_Norm#34434, C_ID_UD_ORGANICA#34435, C_DNM_UD_ORGANICA#34436, C_ID_NIVEL_ADMON#34437, C_ID_TIPO_ENT_PUBLICA#34438, N_NIVEL_JERARQUICO#34439, C_ID_DEP_UD_SUPERIOR#34440, C_DNM_UD_ORGANICA_SUPERIOR#34441, C_ID_DEP_UD_PRINCIPAL#34442, C_DNM_UD_ORGANICA_PRINCIPAL#34443, B_SW_DEP_EDP_PRINCIPAL#34444, C_ID_DEP_EDP_PRINCIPAL#34445, C_DNM_UD_ORGANICA_EDP_PRINCIPAL#34446, C_ID_ESTADO#34447, D_VIG_ALTA_OFICIAL#34448, NIF_CIF#34449, C_ID_AMB_PROVINCIA#34450, C_DESC_PROV#34451, CONTACTOS#34452, C_DNM_UD_ORGANICA_Norm#34453, aux#32090, UDF(aux#32090) AS source_names_stopwords#32117]\n                  :                                               +- Project [source_name#34432, target_name#34433, Entidad_Norm#34434, C_ID_UD_ORGANICA#34435, C_DNM_UD_ORGANICA#34436, C_ID_NIVEL_ADMON#34437, C_ID_TIPO_ENT_PUBLICA#34438, N_NIVEL_JERARQUICO#34439, C_ID_DEP_UD_SUPERIOR#34440, C_DNM_UD_ORGANICA_SUPERIOR#34441, C_ID_DEP_UD_PRINCIPAL#34442, C_DNM_UD_ORGANICA_PRINCIPAL#34443, B_SW_DEP_EDP_PRINCIPAL#34444, C_ID_DEP_EDP_PRINCIPAL#34445, C_DNM_UD_ORGANICA_EDP_PRINCIPAL#34446, C_ID_ESTADO#34447, D_VIG_ALTA_OFICIAL#34448, NIF_CIF#34449, C_ID_AMB_PROVINCIA#34450, C_DESC_PROV#34451, CONTACTOS#34452, C_DNM_UD_ORGANICA_Norm#34453, split(source_name#34432, \\s+, -1) AS aux#32090]\n                  :                                                  +- LogicalRDD [source_name#34432, target_name#34433, Entidad_Norm#34434, C_ID_UD_ORGANICA#34435, C_DNM_UD_ORGANICA#34436, C_ID_NIVEL_ADMON#34437, C_ID_TIPO_ENT_PUBLICA#34438, N_NIVEL_JERARQUICO#34439, C_ID_DEP_UD_SUPERIOR#34440, C_DNM_UD_ORGANICA_SUPERIOR#34441, C_ID_DEP_UD_PRINCIPAL#34442, C_DNM_UD_ORGANICA_PRINCIPAL#34443, B_SW_DEP_EDP_PRINCIPAL#34444, C_ID_DEP_EDP_PRINCIPAL#34445, C_DNM_UD_ORGANICA_EDP_PRINCIPAL#34446, C_ID_ESTADO#34447, D_VIG_ALTA_OFICIAL#34448, NIF_CIF#34449, C_ID_AMB_PROVINCIA#34450, C_DESC_PROV#34451, CONTACTOS#34452, C_DNM_UD_ORGANICA_Norm#34453], false\n                  :- Project [Entidad_Norm#34456 AS Entidad_Norm#33738, source_name#34454 AS source_name#33739, target_name#34455 AS target_name#33740, C_ID_UD_ORGANICA#34457 AS C_ID_UD_ORGANICA#33741, C_DNM_UD_ORGANICA#34458 AS C_DNM_UD_ORGANICA#33742, C_ID_NIVEL_ADMON#34459 AS C_ID_NIVEL_ADMON#33743, C_ID_TIPO_ENT_PUBLICA#34460 AS C_ID_TIPO_ENT_PUBLICA#33744, N_NIVEL_JERARQUICO#34461 AS N_NIVEL_JERARQUICO#33745, C_ID_DEP_UD_SUPERIOR#34462 AS C_ID_DEP_UD_SUPERIOR#33746, C_DNM_UD_ORGANICA_SUPERIOR#34463 AS C_DNM_UD_ORGANICA_SUPERIOR#33747, C_ID_DEP_UD_PRINCIPAL#34464 AS C_ID_DEP_UD_PRINCIPAL#33748, C_DNM_UD_ORGANICA_PRINCIPAL#34465 AS C_DNM_UD_ORGANICA_PRINCIPAL#33749, B_SW_DEP_EDP_PRINCIPAL#34466 AS B_SW_DEP_EDP_PRINCIPAL#33750, C_ID_DEP_EDP_PRINCIPAL#34467 AS C_ID_DEP_EDP_PRINCIPAL#33751, C_DNM_UD_ORGANICA_EDP_PRINCIPAL#34468 AS C_DNM_UD_ORGANICA_EDP_PRINCIPAL#33752, C_ID_ESTADO#34469 AS C_ID_ESTADO#33753, D_VIG_ALTA_OFICIAL#34470 AS D_VIG_ALTA_OFICIAL#33754, NIF_CIF#34471 AS NIF_CIF#33755, C_ID_AMB_PROVINCIA#34472 AS C_ID_AMB_PROVINCIA#33756, C_DESC_PROV#34473 AS C_DESC_PROV#33757, CONTACTOS#34474 AS CONTACTOS#33758, C_DNM_UD_ORGANICA_Norm#34475 AS C_DNM_UD_ORGANICA_Norm#33759, source_names_stopwords#32145 AS source_names_stopwords#33760, target_names_stopwords#32227 AS target_names_stopwords#33761, final_score#32306 AS final_score#33762]\n                  :  +- Deduplicate [Entidad_Norm#34456]\n                  :     +- Sort [N_NIVEL_JERARQUICO#34461 ASC NULLS FIRST], true\n                  :        +- Project [Entidad_Norm#34456, source_name#34454, target_name#34455, C_ID_UD_ORGANICA#34457, C_DNM_UD_ORGANICA#34458, C_ID_NIVEL_ADMON#34459, C_ID_TIPO_ENT_PUBLICA#34460, N_NIVEL_JERARQUICO#34461, C_ID_DEP_UD_SUPERIOR#34462, C_DNM_UD_ORGANICA_SUPERIOR#34463, C_ID_DEP_UD_PRINCIPAL#34464, C_DNM_UD_ORGANICA_PRINCIPAL#34465, B_SW_DEP_EDP_PRINCIPAL#34466, C_ID_DEP_EDP_PRINCIPAL#34467, C_DNM_UD_ORGANICA_EDP_PRINCIPAL#34468, C_ID_ESTADO#34469, D_VIG_ALTA_OFICIAL#34470, NIF_CIF#34471, C_ID_AMB_PROVINCIA#34472, C_DESC_PROV#34473, CONTACTOS#34474, C_DNM_UD_ORGANICA_Norm#34475, source_names_stopwords#32145, target_names_stopwords#32227, final_score#32306]\n                  :           +- Filter (cnt#33530L = cast(1 as bigint))\n                  :              +- Project [Entidad_Norm#34456, source_name#34454, target_name#34455, C_ID_UD_ORGANICA#34457, C_DNM_UD_ORGANICA#34458, C_ID_NIVEL_ADMON#34459, C_ID_TIPO_ENT_PUBLICA#34460, N_NIVEL_JERARQUICO#34461, C_ID_DEP_UD_SUPERIOR#34462, C_DNM_UD_ORGANICA_SUPERIOR#34463, C_ID_DEP_UD_PRINCIPAL#34464, C_DNM_UD_ORGANICA_PRINCIPAL#34465, B_SW_DEP_EDP_PRINCIPAL#34466, C_ID_DEP_EDP_PRINCIPAL#34467, C_DNM_UD_ORGANICA_EDP_PRINCIPAL#34468, C_ID_ESTADO#34469, D_VIG_ALTA_OFICIAL#34470, NIF_CIF#34471, C_ID_AMB_PROVINCIA#34472, C_DESC_PROV#34473, CONTACTOS#34474, C_DNM_UD_ORGANICA_Norm#34475, source_names_stopwords#32145, target_names_stopwords#32227, ... 2 more fields]\n                  :                 +- Project [Entidad_Norm#34456, source_name#34454, target_name#34455, C_ID_UD_ORGANICA#34457, C_DNM_UD_ORGANICA#34458, C_ID_NIVEL_ADMON#34459, C_ID_TIPO_ENT_PUBLICA#34460, N_NIVEL_JERARQUICO#34461, C_ID_DEP_UD_SUPERIOR#34462, C_DNM_UD_ORGANICA_SUPERIOR#34463, C_ID_DEP_UD_PRINCIPAL#34464, C_DNM_UD_ORGANICA_PRINCIPAL#34465, B_SW_DEP_EDP_PRINCIPAL#34466, C_ID_DEP_EDP_PRINCIPAL#34467, C_DNM_UD_ORGANICA_EDP_PRINCIPAL#34468, C_ID_ESTADO#34469, D_VIG_ALTA_OFICIAL#34470, NIF_CIF#34471, C_ID_AMB_PROVINCIA#34472, C_DESC_PROV#34473, CONTACTOS#34474, C_DNM_UD_ORGANICA_Norm#34475, source_names_stopwords#32145, target_names_stopwords#32227, ... 3 more fields]\n                  :                    +- Window [count(1) windowspecdefinition(Entidad_Norm#34456, N_NIVEL_JERARQUICO#34461, specifiedwindowframe(RowFrame, unboundedpreceding$(), unboundedfollowing$())) AS cnt#33530L], [Entidad_Norm#34456, N_NIVEL_JERARQUICO#34461]\n                  :                       +- Project [Entidad_Norm#34456, source_name#34454, target_name#34455, C_ID_UD_ORGANICA#34457, C_DNM_UD_ORGANICA#34458, C_ID_NIVEL_ADMON#34459, C_ID_TIPO_ENT_PUBLICA#34460, N_NIVEL_JERARQUICO#34461, C_ID_DEP_UD_SUPERIOR#34462, C_DNM_UD_ORGANICA_SUPERIOR#34463, C_ID_DEP_UD_PRINCIPAL#34464, C_DNM_UD_ORGANICA_PRINCIPAL#34465, B_SW_DEP_EDP_PRINCIPAL#34466, C_ID_DEP_EDP_PRINCIPAL#34467, C_DNM_UD_ORGANICA_EDP_PRINCIPAL#34468, C_ID_ESTADO#34469, D_VIG_ALTA_OFICIAL#34470, NIF_CIF#34471, C_ID_AMB_PROVINCIA#34472, C_DESC_PROV#34473, CONTACTOS#34474, C_DNM_UD_ORGANICA_Norm#34475, source_names_stopwords#32145, target_names_stopwords#32227, final_score#32306]\n                  :                          +- Project [Entidad_Norm#34456, source_name#34454, target_name#34455, C_ID_UD_ORGANICA#34457, C_DNM_UD_ORGANICA#34458, C_ID_NIVEL_ADMON#34459, C_ID_TIPO_ENT_PUBLICA#34460, N_NIVEL_JERARQUICO#34461, C_ID_DEP_UD_SUPERIOR#34462, C_DNM_UD_ORGANICA_SUPERIOR#34463, C_ID_DEP_UD_PRINCIPAL#34464, C_DNM_UD_ORGANICA_PRINCIPAL#34465, B_SW_DEP_EDP_PRINCIPAL#34466, C_ID_DEP_EDP_PRINCIPAL#34467, C_DNM_UD_ORGANICA_EDP_PRINCIPAL#34468, C_ID_ESTADO#34469, D_VIG_ALTA_OFICIAL#34470, NIF_CIF#34471, C_ID_AMB_PROVINCIA#34472, C_DESC_PROV#34473, CONTACTOS#34474, C_DNM_UD_ORGANICA_Norm#34475, source_names_stopwords#32145, target_names_stopwords#32227, final_score#32306]\n                  :                             +- Join LeftAnti, (Entidad_Norm#34456 = Entidad_Norm#34478)\n                  :                                :- Deduplicate [Entidad_Norm#34456, C_DNM_UD_ORGANICA_Norm#34475]\n                  :                                :  +- Filter (cast(final_score#32306 as double) >= cast(0.875 as double))\n                  :                                :     +- Project [source_name#34454, target_name#34455, Entidad_Norm#34456, C_ID_UD_ORGANICA#34457, C_DNM_UD_ORGANICA#34458, C_ID_NIVEL_ADMON#34459, C_ID_TIPO_ENT_PUBLICA#34460, N_NIVEL_JERARQUICO#34461, C_ID_DEP_UD_SUPERIOR#34462, C_DNM_UD_ORGANICA_SUPERIOR#34463, C_ID_DEP_UD_PRINCIPAL#34464, C_DNM_UD_ORGANICA_PRINCIPAL#34465, B_SW_DEP_EDP_PRINCIPAL#34466, C_ID_DEP_EDP_PRINCIPAL#34467, C_DNM_UD_ORGANICA_EDP_PRINCIPAL#34468, C_ID_ESTADO#34469, D_VIG_ALTA_OFICIAL#34470, NIF_CIF#34471, C_ID_AMB_PROVINCIA#34472, C_DESC_PROV#34473, CONTACTOS#34474, C_DNM_UD_ORGANICA_Norm#34475, source_names_stopwords#32145, target_names_stopwords#32227, CASE WHEN NOT (source_names_stopwords#32145 = target_names_stopwords#32227) THEN final_score#32254 ELSE cast(1 as float) END AS final_score#32306]\n                  :                                :        +- Project [source_name#34454, target_name#34455, Entidad_Norm#34456, C_ID_UD_ORGANICA#34457, C_DNM_UD_ORGANICA#34458, C_ID_NIVEL_ADMON#34459, C_ID_TIPO_ENT_PUBLICA#34460, N_NIVEL_JERARQUICO#34461, C_ID_DEP_UD_SUPERIOR#34462, C_DNM_UD_ORGANICA_SUPERIOR#34463, C_ID_DEP_UD_PRINCIPAL#34464, C_DNM_UD_ORGANICA_PRINCIPAL#34465, B_SW_DEP_EDP_PRINCIPAL#34466, C_ID_DEP_EDP_PRINCIPAL#34467, C_DNM_UD_ORGANICA_EDP_PRINCIPAL#34468, C_ID_ESTADO#34469, D_VIG_ALTA_OFICIAL#34470, NIF_CIF#34471, C_ID_AMB_PROVINCIA#34472, C_DESC_PROV#34473, CONTACTOS#34474, C_DNM_UD_ORGANICA_Norm#34475, source_names_stopwords#32145, target_names_stopwords#32227, final_score#32254]\n                  :                                :           +- Project [source_name#34454, target_name#34455, Entidad_Norm#34456, C_ID_UD_ORGANICA#34457, C_DNM_UD_ORGANICA#34458, C_ID_NIVEL_ADMON#34459, C_ID_TIPO_ENT_PUBLICA#34460, N_NIVEL_JERARQUICO#34461, C_ID_DEP_UD_SUPERIOR#34462, C_DNM_UD_ORGANICA_SUPERIOR#34463, C_ID_DEP_UD_PRINCIPAL#34464, C_DNM_UD_ORGANICA_PRINCIPAL#34465, B_SW_DEP_EDP_PRINCIPAL#34466, C_ID_DEP_EDP_PRINCIPAL#34467, C_DNM_UD_ORGANICA_EDP_PRINCIPAL#34468, C_ID_ESTADO#34469, D_VIG_ALTA_OFICIAL#34470, NIF_CIF#34471, C_ID_AMB_PROVINCIA#34472, C_DESC_PROV#34473, CONTACTOS#34474, C_DNM_UD_ORGANICA_Norm#34475, aux#32170, source_names_stopwords#32145, ... 2 more fields]\n                  :                                :              +- Project [source_name#34454, target_name#34455, Entidad_Norm#34456, C_ID_UD_ORGANICA#34457, C_DNM_UD_ORGANICA#34458, C_ID_NIVEL_ADMON#34459, C_ID_TIPO_ENT_PUBLICA#34460, N_NIVEL_JERARQUICO#34461, C_ID_DEP_UD_SUPERIOR#34462, C_DNM_UD_ORGANICA_SUPERIOR#34463, C_ID_DEP_UD_PRINCIPAL#34464, C_DNM_UD_ORGANICA_PRINCIPAL#34465, B_SW_DEP_EDP_PRINCIPAL#34466, C_ID_DEP_EDP_PRINCIPAL#34467, C_DNM_UD_ORGANICA_EDP_PRINCIPAL#34468, C_ID_ESTADO#34469, D_VIG_ALTA_OFICIAL#34470, NIF_CIF#34471, C_ID_AMB_PROVINCIA#34472, C_DESC_PROV#34473, CONTACTOS#34474, C_DNM_UD_ORGANICA_Norm#34475, aux#32170, source_names_stopwords#32145, array_join(target_names_stopwords#32198,  , None) AS target_names_stopwords#32227]\n                  :                                :                 +- Project [source_name#34454, target_name#34455, Entidad_Norm#34456, C_ID_UD_ORGANICA#34457, C_DNM_UD_ORGANICA#34458, C_ID_NIVEL_ADMON#34459, C_ID_TIPO_ENT_PUBLICA#34460, N_NIVEL_JERARQUICO#34461, C_ID_DEP_UD_SUPERIOR#34462, C_DNM_UD_ORGANICA_SUPERIOR#34463, C_ID_DEP_UD_PRINCIPAL#34464, C_DNM_UD_ORGANICA_PRINCIPAL#34465, B_SW_DEP_EDP_PRINCIPAL#34466, C_ID_DEP_EDP_PRINCIPAL#34467, C_DNM_UD_ORGANICA_EDP_PRINCIPAL#34468, C_ID_ESTADO#34469, D_VIG_ALTA_OFICIAL#34470, NIF_CIF#34471, C_ID_AMB_PROVINCIA#34472, C_DESC_PROV#34473, CONTACTOS#34474, C_DNM_UD_ORGANICA_Norm#34475, aux#32170, source_names_stopwords#32145, UDF(aux#32170) AS target_names_stopwords#32198]\n                  :                                :                    +- Project [source_name#34454, target_name#34455, Entidad_Norm#34456, C_ID_UD_ORGANICA#34457, C_DNM_UD_ORGANICA#34458, C_ID_NIVEL_ADMON#34459, C_ID_TIPO_ENT_PUBLICA#34460, N_NIVEL_JERARQUICO#34461, C_ID_DEP_UD_SUPERIOR#34462, C_DNM_UD_ORGANICA_SUPERIOR#34463, C_ID_DEP_UD_PRINCIPAL#34464, C_DNM_UD_ORGANICA_PRINCIPAL#34465, B_SW_DEP_EDP_PRINCIPAL#34466, C_ID_DEP_EDP_PRINCIPAL#34467, C_DNM_UD_ORGANICA_EDP_PRINCIPAL#34468, C_ID_ESTADO#34469, D_VIG_ALTA_OFICIAL#34470, NIF_CIF#34471, C_ID_AMB_PROVINCIA#34472, C_DESC_PROV#34473, CONTACTOS#34474, C_DNM_UD_ORGANICA_Norm#34475, split(target_name#34455, \\s+, -1) AS aux#32170, source_names_stopwords#32145]\n                  :                                :                       +- Project [source_name#34454, target_name#34455, Entidad_Norm#34456, C_ID_UD_ORGANICA#34457, C_DNM_UD_ORGANICA#34458, C_ID_NIVEL_ADMON#34459, C_ID_TIPO_ENT_PUBLICA#34460, N_NIVEL_JERARQUICO#34461, C_ID_DEP_UD_SUPERIOR#34462, C_DNM_UD_ORGANICA_SUPERIOR#34463, C_ID_DEP_UD_PRINCIPAL#34464, C_DNM_UD_ORGANICA_PRINCIPAL#34465, B_SW_DEP_EDP_PRINCIPAL#34466, C_ID_DEP_EDP_PRINCIPAL#34467, C_DNM_UD_ORGANICA_EDP_PRINCIPAL#34468, C_ID_ESTADO#34469, D_VIG_ALTA_OFICIAL#34470, NIF_CIF#34471, C_ID_AMB_PROVINCIA#34472, C_DESC_PROV#34473, CONTACTOS#34474, C_DNM_UD_ORGANICA_Norm#34475, aux#32090, array_join(source_names_stopwords#32117,  , None) AS source_names_stopwords#32145]\n                  :                                :                          +- Project [source_name#34454, target_name#34455, Entidad_Norm#34456, C_ID_UD_ORGANICA#34457, C_DNM_UD_ORGANICA#34458, C_ID_NIVEL_ADMON#34459, C_ID_TIPO_ENT_PUBLICA#34460, N_NIVEL_JERARQUICO#34461, C_ID_DEP_UD_SUPERIOR#34462, C_DNM_UD_ORGANICA_SUPERIOR#34463, C_ID_DEP_UD_PRINCIPAL#34464, C_DNM_UD_ORGANICA_PRINCIPAL#34465, B_SW_DEP_EDP_PRINCIPAL#34466, C_ID_DEP_EDP_PRINCIPAL#34467, C_DNM_UD_ORGANICA_EDP_PRINCIPAL#34468, C_ID_ESTADO#34469, D_VIG_ALTA_OFICIAL#34470, NIF_CIF#34471, C_ID_AMB_PROVINCIA#34472, C_DESC_PROV#34473, CONTACTOS#34474, C_DNM_UD_ORGANICA_Norm#34475, aux#32090, UDF(aux#32090) AS source_names_stopwords#32117]\n                  :                                :                             +- Project [source_name#34454, target_name#34455, Entidad_Norm#34456, C_ID_UD_ORGANICA#34457, C_DNM_UD_ORGANICA#34458, C_ID_NIVEL_ADMON#34459, C_ID_TIPO_ENT_PUBLICA#34460, N_NIVEL_JERARQUICO#34461, C_ID_DEP_UD_SUPERIOR#34462, C_DNM_UD_ORGANICA_SUPERIOR#34463, C_ID_DEP_UD_PRINCIPAL#34464, C_DNM_UD_ORGANICA_PRINCIPAL#34465, B_SW_DEP_EDP_PRINCIPAL#34466, C_ID_DEP_EDP_PRINCIPAL#34467, C_DNM_UD_ORGANICA_EDP_PRINCIPAL#34468, C_ID_ESTADO#34469, D_VIG_ALTA_OFICIAL#34470, NIF_CIF#34471, C_ID_AMB_PROVINCIA#34472, C_DESC_PROV#34473, CONTACTOS#34474, C_DNM_UD_ORGANICA_Norm#34475, split(source_name#34454, \\s+, -1) AS aux#32090]\n                  :                                :                                +- LogicalRDD [source_name#34454, target_name#34455, Entidad_Norm#34456, C_ID_UD_ORGANICA#34457, C_DNM_UD_ORGANICA#34458, C_ID_NIVEL_ADMON#34459, C_ID_TIPO_ENT_PUBLICA#34460, N_NIVEL_JERARQUICO#34461, C_ID_DEP_UD_SUPERIOR#34462, C_DNM_UD_ORGANICA_SUPERIOR#34463, C_ID_DEP_UD_PRINCIPAL#34464, C_DNM_UD_ORGANICA_PRINCIPAL#34465, B_SW_DEP_EDP_PRINCIPAL#34466, C_ID_DEP_EDP_PRINCIPAL#34467, C_DNM_UD_ORGANICA_EDP_PRINCIPAL#34468, C_ID_ESTADO#34469, D_VIG_ALTA_OFICIAL#34470, NIF_CIF#34471, C_ID_AMB_PROVINCIA#34472, C_DESC_PROV#34473, CONTACTOS#34474, C_DNM_UD_ORGANICA_Norm#34475], false\n                  :                                +- Project [Entidad_Norm#34478]\n                  :                                   +- Filter (count#33479L = cast(1 as bigint))\n                  :                                      +- Aggregate [Entidad_Norm#34478], [Entidad_Norm#34478, count(1) AS count#33479L]\n                  :                                         +- Deduplicate [Entidad_Norm#34478, C_DNM_UD_ORGANICA_Norm#34497]\n                  :                                            +- Filter (cast(final_score#32306 as double) >= cast(0.875 as double))\n                  :                                               +- Project [source_name#34476, target_name#34477, Entidad_Norm#34478, C_ID_UD_ORGANICA#34479, C_DNM_UD_ORGANICA#34480, C_ID_NIVEL_ADMON#34481, C_ID_TIPO_ENT_PUBLICA#34482, N_NIVEL_JERARQUICO#34483, C_ID_DEP_UD_SUPERIOR#34484, C_DNM_UD_ORGANICA_SUPERIOR#34485, C_ID_DEP_UD_PRINCIPAL#34486, C_DNM_UD_ORGANICA_PRINCIPAL#34487, B_SW_DEP_EDP_PRINCIPAL#34488, C_ID_DEP_EDP_PRINCIPAL#34489, C_DNM_UD_ORGANICA_EDP_PRINCIPAL#34490, C_ID_ESTADO#34491, D_VIG_ALTA_OFICIAL#34492, NIF_CIF#34493, C_ID_AMB_PROVINCIA#34494, C_DESC_PROV#34495, CONTACTOS#34496, C_DNM_UD_ORGANICA_Norm#34497, source_names_stopwords#32145, target_names_stopwords#32227, CASE WHEN NOT (source_names_stopwords#32145 = target_names_stopwords#32227) THEN final_score#32254 ELSE cast(1 as float) END AS final_score#32306]\n                  :                                                  +- Project [source_name#34476, target_name#34477, Entidad_Norm#34478, C_ID_UD_ORGANICA#34479, C_DNM_UD_ORGANICA#34480, C_ID_NIVEL_ADMON#34481, C_ID_TIPO_ENT_PUBLICA#34482, N_NIVEL_JERARQUICO#34483, C_ID_DEP_UD_SUPERIOR#34484, C_DNM_UD_ORGANICA_SUPERIOR#34485, C_ID_DEP_UD_PRINCIPAL#34486, C_DNM_UD_ORGANICA_PRINCIPAL#34487, B_SW_DEP_EDP_PRINCIPAL#34488, C_ID_DEP_EDP_PRINCIPAL#34489, C_DNM_UD_ORGANICA_EDP_PRINCIPAL#34490, C_ID_ESTADO#34491, D_VIG_ALTA_OFICIAL#34492, NIF_CIF#34493, C_ID_AMB_PROVINCIA#34494, C_DESC_PROV#34495, CONTACTOS#34496, C_DNM_UD_ORGANICA_Norm#34497, source_names_stopwords#32145, target_names_stopwords#32227, final_score#32254]\n                  :                                                     +- Project [source_name#34476, target_name#34477, Entidad_Norm#34478, C_ID_UD_ORGANICA#34479, C_DNM_UD_ORGANICA#34480, C_ID_NIVEL_ADMON#34481, C_ID_TIPO_ENT_PUBLICA#34482, N_NIVEL_JERARQUICO#34483, C_ID_DEP_UD_SUPERIOR#34484, C_DNM_UD_ORGANICA_SUPERIOR#34485, C_ID_DEP_UD_PRINCIPAL#34486, C_DNM_UD_ORGANICA_PRINCIPAL#34487, B_SW_DEP_EDP_PRINCIPAL#34488, C_ID_DEP_EDP_PRINCIPAL#34489, C_DNM_UD_ORGANICA_EDP_PRINCIPAL#34490, C_ID_ESTADO#34491, D_VIG_ALTA_OFICIAL#34492, NIF_CIF#34493, C_ID_AMB_PROVINCIA#34494, C_DESC_PROV#34495, CONTACTOS#34496, C_DNM_UD_ORGANICA_Norm#34497, aux#32170, source_names_stopwords#32145, ... 2 more fields]\n                  :                                                        +- Project [source_name#34476, target_name#34477, Entidad_Norm#34478, C_ID_UD_ORGANICA#34479, C_DNM_UD_ORGANICA#34480, C_ID_NIVEL_ADMON#34481, C_ID_TIPO_ENT_PUBLICA#34482, N_NIVEL_JERARQUICO#34483, C_ID_DEP_UD_SUPERIOR#34484, C_DNM_UD_ORGANICA_SUPERIOR#34485, C_ID_DEP_UD_PRINCIPAL#34486, C_DNM_UD_ORGANICA_PRINCIPAL#34487, B_SW_DEP_EDP_PRINCIPAL#34488, C_ID_DEP_EDP_PRINCIPAL#34489, C_DNM_UD_ORGANICA_EDP_PRINCIPAL#34490, C_ID_ESTADO#34491, D_VIG_ALTA_OFICIAL#34492, NIF_CIF#34493, C_ID_AMB_PROVINCIA#34494, C_DESC_PROV#34495, CONTACTOS#34496, C_DNM_UD_ORGANICA_Norm#34497, aux#32170, source_names_stopwords#32145, array_join(target_names_stopwords#32198,  , None) AS target_names_stopwords#32227]\n                  :                                                           +- Project [source_name#34476, target_name#34477, Entidad_Norm#34478, C_ID_UD_ORGANICA#34479, C_DNM_UD_ORGANICA#34480, C_ID_NIVEL_ADMON#34481, C_ID_TIPO_ENT_PUBLICA#34482, N_NIVEL_JERARQUICO#34483, C_ID_DEP_UD_SUPERIOR#34484, C_DNM_UD_ORGANICA_SUPERIOR#34485, C_ID_DEP_UD_PRINCIPAL#34486, C_DNM_UD_ORGANICA_PRINCIPAL#34487, B_SW_DEP_EDP_PRINCIPAL#34488, C_ID_DEP_EDP_PRINCIPAL#34489, C_DNM_UD_ORGANICA_EDP_PRINCIPAL#34490, C_ID_ESTADO#34491, D_VIG_ALTA_OFICIAL#34492, NIF_CIF#34493, C_ID_AMB_PROVINCIA#34494, C_DESC_PROV#34495, CONTACTOS#34496, C_DNM_UD_ORGANICA_Norm#34497, aux#32170, source_names_stopwords#32145, UDF(aux#32170) AS target_names_stopwords#32198]\n                  :                                                              +- Project [source_name#34476, target_name#34477, Entidad_Norm#34478, C_ID_UD_ORGANICA#34479, C_DNM_UD_ORGANICA#34480, C_ID_NIVEL_ADMON#34481, C_ID_TIPO_ENT_PUBLICA#34482, N_NIVEL_JERARQUICO#34483, C_ID_DEP_UD_SUPERIOR#34484, C_DNM_UD_ORGANICA_SUPERIOR#34485, C_ID_DEP_UD_PRINCIPAL#34486, C_DNM_UD_ORGANICA_PRINCIPAL#34487, B_SW_DEP_EDP_PRINCIPAL#34488, C_ID_DEP_EDP_PRINCIPAL#34489, C_DNM_UD_ORGANICA_EDP_PRINCIPAL#34490, C_ID_ESTADO#34491, D_VIG_ALTA_OFICIAL#34492, NIF_CIF#34493, C_ID_AMB_PROVINCIA#34494, C_DESC_PROV#34495, CONTACTOS#34496, C_DNM_UD_ORGANICA_Norm#34497, split(target_name#34477, \\s+, -1) AS aux#32170, source_names_stopwords#32145]\n                  :                                                                 +- Project [source_name#34476, target_name#34477, Entidad_Norm#34478, C_ID_UD_ORGANICA#34479, C_DNM_UD_ORGANICA#34480, C_ID_NIVEL_ADMON#34481, C_ID_TIPO_ENT_PUBLICA#34482, N_NIVEL_JERARQUICO#34483, C_ID_DEP_UD_SUPERIOR#34484, C_DNM_UD_ORGANICA_SUPERIOR#34485, C_ID_DEP_UD_PRINCIPAL#34486, C_DNM_UD_ORGANICA_PRINCIPAL#34487, B_SW_DEP_EDP_PRINCIPAL#34488, C_ID_DEP_EDP_PRINCIPAL#34489, C_DNM_UD_ORGANICA_EDP_PRINCIPAL#34490, C_ID_ESTADO#34491, D_VIG_ALTA_OFICIAL#34492, NIF_CIF#34493, C_ID_AMB_PROVINCIA#34494, C_DESC_PROV#34495, CONTACTOS#34496, C_DNM_UD_ORGANICA_Norm#34497, aux#32090, array_join(source_names_stopwords#32117,  , None) AS source_names_stopwords#32145]\n                  :                                                                    +- Project [source_name#34476, target_name#34477, Entidad_Norm#34478, C_ID_UD_ORGANICA#34479, C_DNM_UD_ORGANICA#34480, C_ID_NIVEL_ADMON#34481, C_ID_TIPO_ENT_PUBLICA#34482, N_NIVEL_JERARQUICO#34483, C_ID_DEP_UD_SUPERIOR#34484, C_DNM_UD_ORGANICA_SUPERIOR#34485, C_ID_DEP_UD_PRINCIPAL#34486, C_DNM_UD_ORGANICA_PRINCIPAL#34487, B_SW_DEP_EDP_PRINCIPAL#34488, C_ID_DEP_EDP_PRINCIPAL#34489, C_DNM_UD_ORGANICA_EDP_PRINCIPAL#34490, C_ID_ESTADO#34491, D_VIG_ALTA_OFICIAL#34492, NIF_CIF#34493, C_ID_AMB_PROVINCIA#34494, C_DESC_PROV#34495, CONTACTOS#34496, C_DNM_UD_ORGANICA_Norm#34497, aux#32090, UDF(aux#32090) AS source_names_stopwords#32117]\n                  :                                                                       +- Project [source_name#34476, target_name#34477, Entidad_Norm#34478, C_ID_UD_ORGANICA#34479, C_DNM_UD_ORGANICA#34480, C_ID_NIVEL_ADMON#34481, C_ID_TIPO_ENT_PUBLICA#34482, N_NIVEL_JERARQUICO#34483, C_ID_DEP_UD_SUPERIOR#34484, C_DNM_UD_ORGANICA_SUPERIOR#34485, C_ID_DEP_UD_PRINCIPAL#34486, C_DNM_UD_ORGANICA_PRINCIPAL#34487, B_SW_DEP_EDP_PRINCIPAL#34488, C_ID_DEP_EDP_PRINCIPAL#34489, C_DNM_UD_ORGANICA_EDP_PRINCIPAL#34490, C_ID_ESTADO#34491, D_VIG_ALTA_OFICIAL#34492, NIF_CIF#34493, C_ID_AMB_PROVINCIA#34494, C_DESC_PROV#34495, CONTACTOS#34496, C_DNM_UD_ORGANICA_Norm#34497, split(source_name#34476, \\s+, -1) AS aux#32090]\n                  :                                                                          +- LogicalRDD [source_name#34476, target_name#34477, Entidad_Norm#34478, C_ID_UD_ORGANICA#34479, C_DNM_UD_ORGANICA#34480, C_ID_NIVEL_ADMON#34481, C_ID_TIPO_ENT_PUBLICA#34482, N_NIVEL_JERARQUICO#34483, C_ID_DEP_UD_SUPERIOR#34484, C_DNM_UD_ORGANICA_SUPERIOR#34485, C_ID_DEP_UD_PRINCIPAL#34486, C_DNM_UD_ORGANICA_PRINCIPAL#34487, B_SW_DEP_EDP_PRINCIPAL#34488, C_ID_DEP_EDP_PRINCIPAL#34489, C_DNM_UD_ORGANICA_EDP_PRINCIPAL#34490, C_ID_ESTADO#34491, D_VIG_ALTA_OFICIAL#34492, NIF_CIF#34493, C_ID_AMB_PROVINCIA#34494, C_DESC_PROV#34495, CONTACTOS#34496, C_DNM_UD_ORGANICA_Norm#34497], false\n                  +- Project [Entidad_Norm#34500 AS Entidad_Norm#33810, N_NIVEL_JERARQUICO#34505 AS N_NIVEL_JERARQUICO#33811, source_name#34498 AS source_name#33812, target_name#34499 AS target_name#33813, C_ID_UD_ORGANICA#34501 AS C_ID_UD_ORGANICA#33814, C_DNM_UD_ORGANICA#34502 AS C_DNM_UD_ORGANICA#33815, C_ID_NIVEL_ADMON#34503 AS C_ID_NIVEL_ADMON#33816, C_ID_TIPO_ENT_PUBLICA#34504 AS C_ID_TIPO_ENT_PUBLICA#33817, C_ID_DEP_UD_SUPERIOR#34506 AS C_ID_DEP_UD_SUPERIOR#33818, C_DNM_UD_ORGANICA_SUPERIOR#34507 AS C_DNM_UD_ORGANICA_SUPERIOR#33819, C_ID_DEP_UD_PRINCIPAL#34508 AS C_ID_DEP_UD_PRINCIPAL#33820, C_DNM_UD_ORGANICA_PRINCIPAL#34509 AS C_DNM_UD_ORGANICA_PRINCIPAL#33821, B_SW_DEP_EDP_PRINCIPAL#34510 AS B_SW_DEP_EDP_PRINCIPAL#33822, C_ID_DEP_EDP_PRINCIPAL#34511 AS C_ID_DEP_EDP_PRINCIPAL#33823, C_DNM_UD_ORGANICA_EDP_PRINCIPAL#34512 AS C_DNM_UD_ORGANICA_EDP_PRINCIPAL#33824, C_ID_ESTADO#34513 AS C_ID_ESTADO#33825, D_VIG_ALTA_OFICIAL#34514 AS D_VIG_ALTA_OFICIAL#33826, NIF_CIF#34515 AS NIF_CIF#33827, C_ID_AMB_PROVINCIA#34516 AS C_ID_AMB_PROVINCIA#33828, C_DESC_PROV#34517 AS C_DESC_PROV#33829, CONTACTOS#34518 AS CONTACTOS#33830, C_DNM_UD_ORGANICA_Norm#34519 AS C_DNM_UD_ORGANICA_Norm#33831, source_names_stopwords#32145 AS source_names_stopwords#33832, target_names_stopwords#32227 AS target_names_stopwords#33833, final_score#32306 AS final_score#33834]\n                     +- Deduplicate [Entidad_Norm#34500]\n                        +- Sort [Similitud#33664 DESC NULLS LAST], true\n                           +- Project [Entidad_Norm#34500, N_NIVEL_JERARQUICO#34505, source_name#34498, target_name#34499, C_ID_UD_ORGANICA#34501, C_DNM_UD_ORGANICA#34502, C_ID_NIVEL_ADMON#34503, C_ID_TIPO_ENT_PUBLICA#34504, C_ID_DEP_UD_SUPERIOR#34506, C_DNM_UD_ORGANICA_SUPERIOR#34507, C_ID_DEP_UD_PRINCIPAL#34508, C_DNM_UD_ORGANICA_PRINCIPAL#34509, B_SW_DEP_EDP_PRINCIPAL#34510, C_ID_DEP_EDP_PRINCIPAL#34511, C_DNM_UD_ORGANICA_EDP_PRINCIPAL#34512, C_ID_ESTADO#34513, D_VIG_ALTA_OFICIAL#34514, NIF_CIF#34515, C_ID_AMB_PROVINCIA#34516, C_DESC_PROV#34517, CONTACTOS#34518, C_DNM_UD_ORGANICA_Norm#34519, source_names_stopwords#32145, target_names_stopwords#32227, ... 2 more fields]\n                              +- Project [Entidad_Norm#34500, N_NIVEL_JERARQUICO#34505, source_name#34498, target_name#34499, C_ID_UD_ORGANICA#34501, C_DNM_UD_ORGANICA#34502, C_ID_NIVEL_ADMON#34503, C_ID_TIPO_ENT_PUBLICA#34504, C_ID_DEP_UD_SUPERIOR#34506, C_DNM_UD_ORGANICA_SUPERIOR#34507, C_ID_DEP_UD_PRINCIPAL#34508, C_DNM_UD_ORGANICA_PRINCIPAL#34509, B_SW_DEP_EDP_PRINCIPAL#34510, C_ID_DEP_EDP_PRINCIPAL#34511, C_DNM_UD_ORGANICA_EDP_PRINCIPAL#34512, C_ID_ESTADO#34513, D_VIG_ALTA_OFICIAL#34514, NIF_CIF#34515, C_ID_AMB_PROVINCIA#34516, C_DESC_PROV#34517, CONTACTOS#34518, C_DNM_UD_ORGANICA_Norm#34519, source_names_stopwords#32145, target_names_stopwords#32227, final_score#32306]\n                                 +- Join LeftAnti, ((Entidad_Norm#34500 = Entidad_Norm#34522) AND (N_NIVEL_JERARQUICO#34505 = N_NIVEL_JERARQUICO#34527))\n                                    :- Deduplicate [Entidad_Norm#34500, C_DNM_UD_ORGANICA_Norm#34519]\n                                    :  +- Filter (cast(final_score#32306 as double) >= cast(0.875 as double))\n                                    :     +- Project [source_name#34498, target_name#34499, Entidad_Norm#34500, C_ID_UD_ORGANICA#34501, C_DNM_UD_ORGANICA#34502, C_ID_NIVEL_ADMON#34503, C_ID_TIPO_ENT_PUBLICA#34504, N_NIVEL_JERARQUICO#34505, C_ID_DEP_UD_SUPERIOR#34506, C_DNM_UD_ORGANICA_SUPERIOR#34507, C_ID_DEP_UD_PRINCIPAL#34508, C_DNM_UD_ORGANICA_PRINCIPAL#34509, B_SW_DEP_EDP_PRINCIPAL#34510, C_ID_DEP_EDP_PRINCIPAL#34511, C_DNM_UD_ORGANICA_EDP_PRINCIPAL#34512, C_ID_ESTADO#34513, D_VIG_ALTA_OFICIAL#34514, NIF_CIF#34515, C_ID_AMB_PROVINCIA#34516, C_DESC_PROV#34517, CONTACTOS#34518, C_DNM_UD_ORGANICA_Norm#34519, source_names_stopwords#32145, target_names_stopwords#32227, CASE WHEN NOT (source_names_stopwords#32145 = target_names_stopwords#32227) THEN final_score#32254 ELSE cast(1 as float) END AS final_score#32306]\n                                    :        +- Project [source_name#34498, target_name#34499, Entidad_Norm#34500, C_ID_UD_ORGANICA#34501, C_DNM_UD_ORGANICA#34502, C_ID_NIVEL_ADMON#34503, C_ID_TIPO_ENT_PUBLICA#34504, N_NIVEL_JERARQUICO#34505, C_ID_DEP_UD_SUPERIOR#34506, C_DNM_UD_ORGANICA_SUPERIOR#34507, C_ID_DEP_UD_PRINCIPAL#34508, C_DNM_UD_ORGANICA_PRINCIPAL#34509, B_SW_DEP_EDP_PRINCIPAL#34510, C_ID_DEP_EDP_PRINCIPAL#34511, C_DNM_UD_ORGANICA_EDP_PRINCIPAL#34512, C_ID_ESTADO#34513, D_VIG_ALTA_OFICIAL#34514, NIF_CIF#34515, C_ID_AMB_PROVINCIA#34516, C_DESC_PROV#34517, CONTACTOS#34518, C_DNM_UD_ORGANICA_Norm#34519, source_names_stopwords#32145, target_names_stopwords#32227, final_score#32254]\n                                    :           +- Project [source_name#34498, target_name#34499, Entidad_Norm#34500, C_ID_UD_ORGANICA#34501, C_DNM_UD_ORGANICA#34502, C_ID_NIVEL_ADMON#34503, C_ID_TIPO_ENT_PUBLICA#34504, N_NIVEL_JERARQUICO#34505, C_ID_DEP_UD_SUPERIOR#34506, C_DNM_UD_ORGANICA_SUPERIOR#34507, C_ID_DEP_UD_PRINCIPAL#34508, C_DNM_UD_ORGANICA_PRINCIPAL#34509, B_SW_DEP_EDP_PRINCIPAL#34510, C_ID_DEP_EDP_PRINCIPAL#34511, C_DNM_UD_ORGANICA_EDP_PRINCIPAL#34512, C_ID_ESTADO#34513, D_VIG_ALTA_OFICIAL#34514, NIF_CIF#34515, C_ID_AMB_PROVINCIA#34516, C_DESC_PROV#34517, CONTACTOS#34518, C_DNM_UD_ORGANICA_Norm#34519, aux#32170, source_names_stopwords#32145, ... 2 more fields]\n                                    :              +- Project [source_name#34498, target_name#34499, Entidad_Norm#34500, C_ID_UD_ORGANICA#34501, C_DNM_UD_ORGANICA#34502, C_ID_NIVEL_ADMON#34503, C_ID_TIPO_ENT_PUBLICA#34504, N_NIVEL_JERARQUICO#34505, C_ID_DEP_UD_SUPERIOR#34506, C_DNM_UD_ORGANICA_SUPERIOR#34507, C_ID_DEP_UD_PRINCIPAL#34508, C_DNM_UD_ORGANICA_PRINCIPAL#34509, B_SW_DEP_EDP_PRINCIPAL#34510, C_ID_DEP_EDP_PRINCIPAL#34511, C_DNM_UD_ORGANICA_EDP_PRINCIPAL#34512, C_ID_ESTADO#34513, D_VIG_ALTA_OFICIAL#34514, NIF_CIF#34515, C_ID_AMB_PROVINCIA#34516, C_DESC_PROV#34517, CONTACTOS#34518, C_DNM_UD_ORGANICA_Norm#34519, aux#32170, source_names_stopwords#32145, array_join(target_names_stopwords#32198,  , None) AS target_names_stopwords#32227]\n                                    :                 +- Project [source_name#34498, target_name#34499, Entidad_Norm#34500, C_ID_UD_ORGANICA#34501, C_DNM_UD_ORGANICA#34502, C_ID_NIVEL_ADMON#34503, C_ID_TIPO_ENT_PUBLICA#34504, N_NIVEL_JERARQUICO#34505, C_ID_DEP_UD_SUPERIOR#34506, C_DNM_UD_ORGANICA_SUPERIOR#34507, C_ID_DEP_UD_PRINCIPAL#34508, C_DNM_UD_ORGANICA_PRINCIPAL#34509, B_SW_DEP_EDP_PRINCIPAL#34510, C_ID_DEP_EDP_PRINCIPAL#34511, C_DNM_UD_ORGANICA_EDP_PRINCIPAL#34512, C_ID_ESTADO#34513, D_VIG_ALTA_OFICIAL#34514, NIF_CIF#34515, C_ID_AMB_PROVINCIA#34516, C_DESC_PROV#34517, CONTACTOS#34518, C_DNM_UD_ORGANICA_Norm#34519, aux#32170, source_names_stopwords#32145, UDF(aux#32170) AS target_names_stopwords#32198]\n                                    :                    +- Project [source_name#34498, target_name#34499, Entidad_Norm#34500, C_ID_UD_ORGANICA#34501, C_DNM_UD_ORGANICA#34502, C_ID_NIVEL_ADMON#34503, C_ID_TIPO_ENT_PUBLICA#34504, N_NIVEL_JERARQUICO#34505, C_ID_DEP_UD_SUPERIOR#34506, C_DNM_UD_ORGANICA_SUPERIOR#34507, C_ID_DEP_UD_PRINCIPAL#34508, C_DNM_UD_ORGANICA_PRINCIPAL#34509, B_SW_DEP_EDP_PRINCIPAL#34510, C_ID_DEP_EDP_PRINCIPAL#34511, C_DNM_UD_ORGANICA_EDP_PRINCIPAL#34512, C_ID_ESTADO#34513, D_VIG_ALTA_OFICIAL#34514, NIF_CIF#34515, C_ID_AMB_PROVINCIA#34516, C_DESC_PROV#34517, CONTACTOS#34518, C_DNM_UD_ORGANICA_Norm#34519, split(target_name#34499, \\s+, -1) AS aux#32170, source_names_stopwords#32145]\n                                    :                       +- Project [source_name#34498, target_name#34499, Entidad_Norm#34500, C_ID_UD_ORGANICA#34501, C_DNM_UD_ORGANICA#34502, C_ID_NIVEL_ADMON#34503, C_ID_TIPO_ENT_PUBLICA#34504, N_NIVEL_JERARQUICO#34505, C_ID_DEP_UD_SUPERIOR#34506, C_DNM_UD_ORGANICA_SUPERIOR#34507, C_ID_DEP_UD_PRINCIPAL#34508, C_DNM_UD_ORGANICA_PRINCIPAL#34509, B_SW_DEP_EDP_PRINCIPAL#34510, C_ID_DEP_EDP_PRINCIPAL#34511, C_DNM_UD_ORGANICA_EDP_PRINCIPAL#34512, C_ID_ESTADO#34513, D_VIG_ALTA_OFICIAL#34514, NIF_CIF#34515, C_ID_AMB_PROVINCIA#34516, C_DESC_PROV#34517, CONTACTOS#34518, C_DNM_UD_ORGANICA_Norm#34519, aux#32090, array_join(source_names_stopwords#32117,  , None) AS source_names_stopwords#32145]\n                                    :                          +- Project [source_name#34498, target_name#34499, Entidad_Norm#34500, C_ID_UD_ORGANICA#34501, C_DNM_UD_ORGANICA#34502, C_ID_NIVEL_ADMON#34503, C_ID_TIPO_ENT_PUBLICA#34504, N_NIVEL_JERARQUICO#34505, C_ID_DEP_UD_SUPERIOR#34506, C_DNM_UD_ORGANICA_SUPERIOR#34507, C_ID_DEP_UD_PRINCIPAL#34508, C_DNM_UD_ORGANICA_PRINCIPAL#34509, B_SW_DEP_EDP_PRINCIPAL#34510, C_ID_DEP_EDP_PRINCIPAL#34511, C_DNM_UD_ORGANICA_EDP_PRINCIPAL#34512, C_ID_ESTADO#34513, D_VIG_ALTA_OFICIAL#34514, NIF_CIF#34515, C_ID_AMB_PROVINCIA#34516, C_DESC_PROV#34517, CONTACTOS#34518, C_DNM_UD_ORGANICA_Norm#34519, aux#32090, UDF(aux#32090) AS source_names_stopwords#32117]\n                                    :                             +- Project [source_name#34498, target_name#34499, Entidad_Norm#34500, C_ID_UD_ORGANICA#34501, C_DNM_UD_ORGANICA#34502, C_ID_NIVEL_ADMON#34503, C_ID_TIPO_ENT_PUBLICA#34504, N_NIVEL_JERARQUICO#34505, C_ID_DEP_UD_SUPERIOR#34506, C_DNM_UD_ORGANICA_SUPERIOR#34507, C_ID_DEP_UD_PRINCIPAL#34508, C_DNM_UD_ORGANICA_PRINCIPAL#34509, B_SW_DEP_EDP_PRINCIPAL#34510, C_ID_DEP_EDP_PRINCIPAL#34511, C_DNM_UD_ORGANICA_EDP_PRINCIPAL#34512, C_ID_ESTADO#34513, D_VIG_ALTA_OFICIAL#34514, NIF_CIF#34515, C_ID_AMB_PROVINCIA#34516, C_DESC_PROV#34517, CONTACTOS#34518, C_DNM_UD_ORGANICA_Norm#34519, split(source_name#34498, \\s+, -1) AS aux#32090]\n                                    :                                +- LogicalRDD [source_name#34498, target_name#34499, Entidad_Norm#34500, C_ID_UD_ORGANICA#34501, C_DNM_UD_ORGANICA#34502, C_ID_NIVEL_ADMON#34503, C_ID_TIPO_ENT_PUBLICA#34504, N_NIVEL_JERARQUICO#34505, C_ID_DEP_UD_SUPERIOR#34506, C_DNM_UD_ORGANICA_SUPERIOR#34507, C_ID_DEP_UD_PRINCIPAL#34508, C_DNM_UD_ORGANICA_PRINCIPAL#34509, B_SW_DEP_EDP_PRINCIPAL#34510, C_ID_DEP_EDP_PRINCIPAL#34511, C_DNM_UD_ORGANICA_EDP_PRINCIPAL#34512, C_ID_ESTADO#34513, D_VIG_ALTA_OFICIAL#34514, NIF_CIF#34515, C_ID_AMB_PROVINCIA#34516, C_DESC_PROV#34517, CONTACTOS#34518, C_DNM_UD_ORGANICA_Norm#34519], false\n                                    +- Project [Entidad_Norm#34522, N_NIVEL_JERARQUICO#34527]\n                                       +- Filter (count#33609L = cast(1 as bigint))\n                                          +- Aggregate [Entidad_Norm#34522, N_NIVEL_JERARQUICO#34527], [Entidad_Norm#34522, N_NIVEL_JERARQUICO#34527, count(1) AS count#33609L]\n                                             +- Deduplicate [Entidad_Norm#34522, C_DNM_UD_ORGANICA_Norm#34541]\n                                                +- Filter (cast(final_score#32306 as double) >= cast(0.875 as double))\n                                                   +- Project [source_name#34520, target_name#34521, Entidad_Norm#34522, C_ID_UD_ORGANICA#34523, C_DNM_UD_ORGANICA#34524, C_ID_NIVEL_ADMON#34525, C_ID_TIPO_ENT_PUBLICA#34526, N_NIVEL_JERARQUICO#34527, C_ID_DEP_UD_SUPERIOR#34528, C_DNM_UD_ORGANICA_SUPERIOR#34529, C_ID_DEP_UD_PRINCIPAL#34530, C_DNM_UD_ORGANICA_PRINCIPAL#34531, B_SW_DEP_EDP_PRINCIPAL#34532, C_ID_DEP_EDP_PRINCIPAL#34533, C_DNM_UD_ORGANICA_EDP_PRINCIPAL#34534, C_ID_ESTADO#34535, D_VIG_ALTA_OFICIAL#34536, NIF_CIF#34537, C_ID_AMB_PROVINCIA#34538, C_DESC_PROV#34539, CONTACTOS#34540, C_DNM_UD_ORGANICA_Norm#34541, source_names_stopwords#32145, target_names_stopwords#32227, CASE WHEN NOT (source_names_stopwords#32145 = target_names_stopwords#32227) THEN final_score#32254 ELSE cast(1 as float) END AS final_score#32306]\n                                                      +- Project [source_name#34520, target_name#34521, Entidad_Norm#34522, C_ID_UD_ORGANICA#34523, C_DNM_UD_ORGANICA#34524, C_ID_NIVEL_ADMON#34525, C_ID_TIPO_ENT_PUBLICA#34526, N_NIVEL_JERARQUICO#34527, C_ID_DEP_UD_SUPERIOR#34528, C_DNM_UD_ORGANICA_SUPERIOR#34529, C_ID_DEP_UD_PRINCIPAL#34530, C_DNM_UD_ORGANICA_PRINCIPAL#34531, B_SW_DEP_EDP_PRINCIPAL#34532, C_ID_DEP_EDP_PRINCIPAL#34533, C_DNM_UD_ORGANICA_EDP_PRINCIPAL#34534, C_ID_ESTADO#34535, D_VIG_ALTA_OFICIAL#34536, NIF_CIF#34537, C_ID_AMB_PROVINCIA#34538, C_DESC_PROV#34539, CONTACTOS#34540, C_DNM_UD_ORGANICA_Norm#34541, source_names_stopwords#32145, target_names_stopwords#32227, final_score#32254]\n                                                         +- Project [source_name#34520, target_name#34521, Entidad_Norm#34522, C_ID_UD_ORGANICA#34523, C_DNM_UD_ORGANICA#34524, C_ID_NIVEL_ADMON#34525, C_ID_TIPO_ENT_PUBLICA#34526, N_NIVEL_JERARQUICO#34527, C_ID_DEP_UD_SUPERIOR#34528, C_DNM_UD_ORGANICA_SUPERIOR#34529, C_ID_DEP_UD_PRINCIPAL#34530, C_DNM_UD_ORGANICA_PRINCIPAL#34531, B_SW_DEP_EDP_PRINCIPAL#34532, C_ID_DEP_EDP_PRINCIPAL#34533, C_DNM_UD_ORGANICA_EDP_PRINCIPAL#34534, C_ID_ESTADO#34535, D_VIG_ALTA_OFICIAL#34536, NIF_CIF#34537, C_ID_AMB_PROVINCIA#34538, C_DESC_PROV#34539, CONTACTOS#34540, C_DNM_UD_ORGANICA_Norm#34541, aux#32170, source_names_stopwords#32145, ... 2 more fields]\n                                                            +- Project [source_name#34520, target_name#34521, Entidad_Norm#34522, C_ID_UD_ORGANICA#34523, C_DNM_UD_ORGANICA#34524, C_ID_NIVEL_ADMON#34525, C_ID_TIPO_ENT_PUBLICA#34526, N_NIVEL_JERARQUICO#34527, C_ID_DEP_UD_SUPERIOR#34528, C_DNM_UD_ORGANICA_SUPERIOR#34529, C_ID_DEP_UD_PRINCIPAL#34530, C_DNM_UD_ORGANICA_PRINCIPAL#34531, B_SW_DEP_EDP_PRINCIPAL#34532, C_ID_DEP_EDP_PRINCIPAL#34533, C_DNM_UD_ORGANICA_EDP_PRINCIPAL#34534, C_ID_ESTADO#34535, D_VIG_ALTA_OFICIAL#34536, NIF_CIF#34537, C_ID_AMB_PROVINCIA#34538, C_DESC_PROV#34539, CONTACTOS#34540, C_DNM_UD_ORGANICA_Norm#34541, aux#32170, source_names_stopwords#32145, array_join(target_names_stopwords#32198,  , None) AS target_names_stopwords#32227]\n                                                               +- Project [source_name#34520, target_name#34521, Entidad_Norm#34522, C_ID_UD_ORGANICA#34523, C_DNM_UD_ORGANICA#34524, C_ID_NIVEL_ADMON#34525, C_ID_TIPO_ENT_PUBLICA#34526, N_NIVEL_JERARQUICO#34527, C_ID_DEP_UD_SUPERIOR#34528, C_DNM_UD_ORGANICA_SUPERIOR#34529, C_ID_DEP_UD_PRINCIPAL#34530, C_DNM_UD_ORGANICA_PRINCIPAL#34531, B_SW_DEP_EDP_PRINCIPAL#34532, C_ID_DEP_EDP_PRINCIPAL#34533, C_DNM_UD_ORGANICA_EDP_PRINCIPAL#34534, C_ID_ESTADO#34535, D_VIG_ALTA_OFICIAL#34536, NIF_CIF#34537, C_ID_AMB_PROVINCIA#34538, C_DESC_PROV#34539, CONTACTOS#34540, C_DNM_UD_ORGANICA_Norm#34541, aux#32170, source_names_stopwords#32145, UDF(aux#32170) AS target_names_stopwords#32198]\n                                                                  +- Project [source_name#34520, target_name#34521, Entidad_Norm#34522, C_ID_UD_ORGANICA#34523, C_DNM_UD_ORGANICA#34524, C_ID_NIVEL_ADMON#34525, C_ID_TIPO_ENT_PUBLICA#34526, N_NIVEL_JERARQUICO#34527, C_ID_DEP_UD_SUPERIOR#34528, C_DNM_UD_ORGANICA_SUPERIOR#34529, C_ID_DEP_UD_PRINCIPAL#34530, C_DNM_UD_ORGANICA_PRINCIPAL#34531, B_SW_DEP_EDP_PRINCIPAL#34532, C_ID_DEP_EDP_PRINCIPAL#34533, C_DNM_UD_ORGANICA_EDP_PRINCIPAL#34534, C_ID_ESTADO#34535, D_VIG_ALTA_OFICIAL#34536, NIF_CIF#34537, C_ID_AMB_PROVINCIA#34538, C_DESC_PROV#34539, CONTACTOS#34540, C_DNM_UD_ORGANICA_Norm#34541, split(target_name#34521, \\s+, -1) AS aux#32170, source_names_stopwords#32145]\n                                                                     +- Project [source_name#34520, target_name#34521, Entidad_Norm#34522, C_ID_UD_ORGANICA#34523, C_DNM_UD_ORGANICA#34524, C_ID_NIVEL_ADMON#34525, C_ID_TIPO_ENT_PUBLICA#34526, N_NIVEL_JERARQUICO#34527, C_ID_DEP_UD_SUPERIOR#34528, C_DNM_UD_ORGANICA_SUPERIOR#34529, C_ID_DEP_UD_PRINCIPAL#34530, C_DNM_UD_ORGANICA_PRINCIPAL#34531, B_SW_DEP_EDP_PRINCIPAL#34532, C_ID_DEP_EDP_PRINCIPAL#34533, C_DNM_UD_ORGANICA_EDP_PRINCIPAL#34534, C_ID_ESTADO#34535, D_VIG_ALTA_OFICIAL#34536, NIF_CIF#34537, C_ID_AMB_PROVINCIA#34538, C_DESC_PROV#34539, CONTACTOS#34540, C_DNM_UD_ORGANICA_Norm#34541, aux#32090, array_join(source_names_stopwords#32117,  , None) AS source_names_stopwords#32145]\n                                                                        +- Project [source_name#34520, target_name#34521, Entidad_Norm#34522, C_ID_UD_ORGANICA#34523, C_DNM_UD_ORGANICA#34524, C_ID_NIVEL_ADMON#34525, C_ID_TIPO_ENT_PUBLICA#34526, N_NIVEL_JERARQUICO#34527, C_ID_DEP_UD_SUPERIOR#34528, C_DNM_UD_ORGANICA_SUPERIOR#34529, C_ID_DEP_UD_PRINCIPAL#34530, C_DNM_UD_ORGANICA_PRINCIPAL#34531, B_SW_DEP_EDP_PRINCIPAL#34532, C_ID_DEP_EDP_PRINCIPAL#34533, C_DNM_UD_ORGANICA_EDP_PRINCIPAL#34534, C_ID_ESTADO#34535, D_VIG_ALTA_OFICIAL#34536, NIF_CIF#34537, C_ID_AMB_PROVINCIA#34538, C_DESC_PROV#34539, CONTACTOS#34540, C_DNM_UD_ORGANICA_Norm#34541, aux#32090, UDF(aux#32090) AS source_names_stopwords#32117]\n                                                                           +- Project [source_name#34520, target_name#34521, Entidad_Norm#34522, C_ID_UD_ORGANICA#34523, C_DNM_UD_ORGANICA#34524, C_ID_NIVEL_ADMON#34525, C_ID_TIPO_ENT_PUBLICA#34526, N_NIVEL_JERARQUICO#34527, C_ID_DEP_UD_SUPERIOR#34528, C_DNM_UD_ORGANICA_SUPERIOR#34529, C_ID_DEP_UD_PRINCIPAL#34530, C_DNM_UD_ORGANICA_PRINCIPAL#34531, B_SW_DEP_EDP_PRINCIPAL#34532, C_ID_DEP_EDP_PRINCIPAL#34533, C_DNM_UD_ORGANICA_EDP_PRINCIPAL#34534, C_ID_ESTADO#34535, D_VIG_ALTA_OFICIAL#34536, NIF_CIF#34537, C_ID_AMB_PROVINCIA#34538, C_DESC_PROV#34539, CONTACTOS#34540, C_DNM_UD_ORGANICA_Norm#34541, split(source_name#34520, \\s+, -1) AS aux#32090]\n                                                                              +- LogicalRDD [source_name#34520, target_name#34521, Entidad_Norm#34522, C_ID_UD_ORGANICA#34523, C_DNM_UD_ORGANICA#34524, C_ID_NIVEL_ADMON#34525, C_ID_TIPO_ENT_PUBLICA#34526, N_NIVEL_JERARQUICO#34527, C_ID_DEP_UD_SUPERIOR#34528, C_DNM_UD_ORGANICA_SUPERIOR#34529, C_ID_DEP_UD_PRINCIPAL#34530, C_DNM_UD_ORGANICA_PRINCIPAL#34531, B_SW_DEP_EDP_PRINCIPAL#34532, C_ID_DEP_EDP_PRINCIPAL#34533, C_DNM_UD_ORGANICA_EDP_PRINCIPAL#34534, C_ID_ESTADO#34535, D_VIG_ALTA_OFICIAL#34536, NIF_CIF#34537, C_ID_AMB_PROVINCIA#34538, C_DESC_PROV#34539, CONTACTOS#34540, C_DNM_UD_ORGANICA_Norm#34541], false\n"
     ]
    }
   ],
   "source": [
    "Nombre_Intermedio_proceso_dir3_entidades = Nombre_Intermedio_proceso_dir3_entidades1\\\n",
    "                                                        .union(Nombre_Intermedio_proceso_dir3_entidades2)\n",
    "\n",
    "\n"
   ]
  },
  {
   "cell_type": "code",
   "execution_count": null,
   "id": "454de631",
   "metadata": {},
   "outputs": [],
   "source": []
  },
  {
   "cell_type": "code",
   "execution_count": 194,
   "id": "b8c42042",
   "metadata": {},
   "outputs": [],
   "source": [
    "k = Nombre_Intermedio_proceso_dir3_entidades2.columns"
   ]
  },
  {
   "cell_type": "code",
   "execution_count": 195,
   "id": "30d34374",
   "metadata": {},
   "outputs": [
    {
     "data": {
      "text/plain": [
       "Entidad_Norm                       2\n",
       "Id                                 1\n",
       "C_DNM_UD_ORGANICA_SUPERIOR         1\n",
       "List_Entidad_Norm                  1\n",
       "List_Provincia_Entidad             1\n",
       "List_CIF                           1\n",
       "Similitud_invente                  1\n",
       "Similitud_Dir3                     1\n",
       "C_ID_UD_ORGANICA                   1\n",
       "C_DNM_UD_ORGANICA                  1\n",
       "C_ID_NIVEL_ADMON                   1\n",
       "C_ID_TIPO_ENT_PUBLICA              1\n",
       "N_NIVEL_JERARQUICO                 1\n",
       "C_ID_DEP_UD_SUPERIOR               1\n",
       "C_ID_DEP_UD_PRINCIPAL              1\n",
       "codigoOrigen                       1\n",
       "C_DNM_UD_ORGANICA_PRINCIPAL        1\n",
       "B_SW_DEP_EDP_PRINCIPAL             1\n",
       "C_ID_DEP_EDP_PRINCIPAL             1\n",
       "C_DNM_UD_ORGANICA_EDP_PRINCIPAL    1\n",
       "C_ID_ESTADO                        1\n",
       "D_VIG_ALTA_OFICIAL                 1\n",
       "NIF_CIF                            1\n",
       "C_ID_AMB_PROVINCIA                 1\n",
       "C_DESC_PROV                        1\n",
       "CONTACTOS                          1\n",
       "Provincia_Codigo                   1\n",
       "codigoDir3                         1\n",
       "CIF                                1\n",
       "COD_PROVINCIA                      1\n",
       "Provincia_Entidad                  1\n",
       "ID_ENTIDAD                         1\n",
       "NIF_COD                            1\n",
       "ACRONIMO                           1\n",
       "NOMBRE_ENTIDAD                     1\n",
       "Nombre_Entidad_Mostrar             1\n",
       "TIPO_ENTIDAD_N1_1                  1\n",
       "TIPO_ENTIDAD_N2_1                  1\n",
       "DIRECCION_POSTAL                   1\n",
       "COD_POSTAL                         1\n",
       "PROVINCIA                          1\n",
       "NIF                                1\n",
       "COD_CCAA                           1\n",
       "CCAA                               1\n",
       "ENLACE_WEB                         1\n",
       "SOMMA                              1\n",
       "TIPO_ENTIDAD_REGIONAL              1\n",
       "ESTADO_x                           1\n",
       "CodigoInvente                      1\n",
       "DenominacionSocial                 1\n",
       "FormaJuridica_Codigo               1\n",
       "FormaJuridica_Descripcion          1\n",
       "C_DNM_UD_ORGANICA_Norm             1\n",
       "Name: 0, dtype: int64"
      ]
     },
     "execution_count": 195,
     "metadata": {},
     "output_type": "execute_result"
    }
   ],
   "source": [
    "pd.DataFrame(k)[0].value_counts()"
   ]
  },
  {
   "cell_type": "code",
   "execution_count": null,
   "id": "8988ce3a",
   "metadata": {},
   "outputs": [],
   "source": []
  },
  {
   "cell_type": "code",
   "execution_count": null,
   "id": "03a75aad",
   "metadata": {},
   "outputs": [],
   "source": []
  },
  {
   "cell_type": "code",
   "execution_count": null,
   "id": "66757f40",
   "metadata": {},
   "outputs": [],
   "source": []
  },
  {
   "cell_type": "code",
   "execution_count": null,
   "id": "9d9bd79d",
   "metadata": {},
   "outputs": [],
   "source": []
  },
  {
   "cell_type": "code",
   "execution_count": null,
   "id": "3251e7f2",
   "metadata": {},
   "outputs": [],
   "source": []
  },
  {
   "cell_type": "code",
   "execution_count": 111,
   "id": "ebf3255d",
   "metadata": {},
   "outputs": [
    {
     "name": "stdout",
     "output_type": "stream",
     "text": [
      "root\n",
      " |-- Id: integer (nullable = true)\n",
      " |-- CIF: string (nullable = true)\n",
      " |-- Entidad_Norm: string (nullable = true)\n",
      " |-- Provincia_Entidad: string (nullable = true)\n",
      " |-- ID_ENTIDAD: string (nullable = true)\n",
      " |-- NIF_COD: string (nullable = true)\n",
      " |-- ACRONIMO: string (nullable = true)\n",
      " |-- NOMBRE_ENTIDAD: string (nullable = true)\n",
      " |-- Nombre_Entidad_Mostrar: string (nullable = true)\n",
      " |-- TIPO_ENTIDAD_N1_1: string (nullable = true)\n",
      " |-- TIPO_ENTIDAD_N2_1: string (nullable = true)\n",
      " |-- DIRECCION_POSTAL: string (nullable = true)\n",
      " |-- COD_POSTAL: string (nullable = true)\n",
      " |-- COD_PROVINCIA: string (nullable = true)\n",
      " |-- PROVINCIA: string (nullable = true)\n",
      " |-- COD_CCAA: string (nullable = true)\n",
      " |-- CCAA: string (nullable = true)\n",
      " |-- ENLACE_WEB: string (nullable = true)\n",
      " |-- SOMMA: string (nullable = true)\n",
      " |-- TIPO_ENTIDAD_REGIONAL: string (nullable = true)\n",
      " |-- ESTADO_x: string (nullable = true)\n",
      " |-- CodigoInvente: string (nullable = true)\n",
      " |-- DenominacionSocial: string (nullable = true)\n",
      " |-- FormaJuridica_Codigo: string (nullable = true)\n",
      " |-- FormaJuridica_Descripcion: string (nullable = true)\n",
      " |-- NIF: string (nullable = true)\n",
      " |-- codigoDir3: string (nullable = true)\n",
      " |-- codigoOrigen: string (nullable = true)\n",
      " |-- Provincia_Codigo: string (nullable = true)\n",
      " |-- C_ID_UD_ORGANICA: string (nullable = true)\n",
      " |-- C_DNM_UD_ORGANICA: string (nullable = true)\n",
      " |-- C_ID_NIVEL_ADMON: string (nullable = true)\n",
      " |-- C_ID_TIPO_ENT_PUBLICA: string (nullable = true)\n",
      " |-- N_NIVEL_JERARQUICO: string (nullable = true)\n",
      " |-- C_ID_DEP_UD_SUPERIOR: string (nullable = true)\n",
      " |-- C_DNM_UD_ORGANICA_SUPERIOR: string (nullable = true)\n",
      " |-- C_ID_DEP_UD_PRINCIPAL: string (nullable = true)\n",
      " |-- C_DNM_UD_ORGANICA_PRINCIPAL: string (nullable = true)\n",
      " |-- B_SW_DEP_EDP_PRINCIPAL: string (nullable = true)\n",
      " |-- C_ID_DEP_EDP_PRINCIPAL: string (nullable = true)\n",
      " |-- C_DNM_UD_ORGANICA_EDP_PRINCIPAL: string (nullable = true)\n",
      " |-- C_ID_ESTADO: string (nullable = true)\n",
      " |-- D_VIG_ALTA_OFICIAL: string (nullable = true)\n",
      " |-- NIF_CIF: string (nullable = true)\n",
      " |-- C_ID_AMB_PROVINCIA: string (nullable = true)\n",
      " |-- C_DESC_PROV: string (nullable = true)\n",
      " |-- CONTACTOS: string (nullable = true)\n",
      " |-- List_Entidad_Norm: string (nullable = true)\n",
      " |-- List_Provincia_Entidad: string (nullable = true)\n",
      " |-- List_CIF: string (nullable = true)\n",
      " |-- Similitud_invente: string (nullable = true)\n",
      "\n"
     ]
    }
   ],
   "source": [
    "Nombre_Intermedio_cruce2_invente.drop(str(list3).replace(\"[\", \"\").replace(\"]\", \"\")).printSchema()"
   ]
  },
  {
   "cell_type": "code",
   "execution_count": null,
   "id": "526198d2",
   "metadata": {},
   "outputs": [],
   "source": []
  },
  {
   "cell_type": "code",
   "execution_count": 109,
   "id": "92b822ef",
   "metadata": {},
   "outputs": [
    {
     "data": {
      "text/plain": [
       "\"'C_DNM_UD_ORGANICA_SUPERIOR', 'C_ID_UD_ORGANICA', 'C_ID_TIPO_ENT_PUBLICA', 'C_DESC_PROV', 'C_ID_DEP_EDP_PRINCIPAL', 'C_ID_ESTADO', 'Entidad_Norm', 'D_VIG_ALTA_OFICIAL', 'CONTACTOS', 'NIF_CIF', 'C_ID_NIVEL_ADMON', 'C_DNM_UD_ORGANICA_EDP_PRINCIPAL', 'C_ID_DEP_UD_PRINCIPAL', 'N_NIVEL_JERARQUICO', 'C_DNM_UD_ORGANICA', 'C_DNM_UD_ORGANICA_PRINCIPAL', 'B_SW_DEP_EDP_PRINCIPAL', 'C_ID_AMB_PROVINCIA', 'C_ID_DEP_UD_SUPERIOR'\""
      ]
     },
     "execution_count": 109,
     "metadata": {},
     "output_type": "execute_result"
    }
   ],
   "source": []
  },
  {
   "cell_type": "code",
   "execution_count": 106,
   "id": "68b6fa2e",
   "metadata": {},
   "outputs": [
    {
     "data": {
      "text/plain": [
       "['C_DNM_UD_ORGANICA_SUPERIOR',\n",
       " 'C_ID_UD_ORGANICA',\n",
       " 'C_ID_TIPO_ENT_PUBLICA',\n",
       " 'C_DESC_PROV',\n",
       " 'C_ID_DEP_EDP_PRINCIPAL',\n",
       " 'C_ID_ESTADO',\n",
       " 'Entidad_Norm',\n",
       " 'D_VIG_ALTA_OFICIAL',\n",
       " 'CONTACTOS',\n",
       " 'NIF_CIF',\n",
       " 'C_ID_NIVEL_ADMON',\n",
       " 'C_DNM_UD_ORGANICA_EDP_PRINCIPAL',\n",
       " 'C_ID_DEP_UD_PRINCIPAL',\n",
       " 'N_NIVEL_JERARQUICO',\n",
       " 'C_DNM_UD_ORGANICA',\n",
       " 'C_DNM_UD_ORGANICA_PRINCIPAL',\n",
       " 'B_SW_DEP_EDP_PRINCIPAL',\n",
       " 'C_ID_AMB_PROVINCIA',\n",
       " 'C_ID_DEP_UD_SUPERIOR']"
      ]
     },
     "execution_count": 106,
     "metadata": {},
     "output_type": "execute_result"
    }
   ],
   "source": []
  },
  {
   "cell_type": "code",
   "execution_count": null,
   "id": "6f36068a",
   "metadata": {},
   "outputs": [],
   "source": []
  },
  {
   "cell_type": "code",
   "execution_count": null,
   "id": "98f7b3df",
   "metadata": {},
   "outputs": [],
   "source": []
  },
  {
   "cell_type": "code",
   "execution_count": null,
   "id": "6a554779",
   "metadata": {},
   "outputs": [],
   "source": []
  },
  {
   "cell_type": "code",
   "execution_count": 114,
   "id": "79cce12a",
   "metadata": {},
   "outputs": [
    {
     "data": {
      "text/plain": [
       "['C_DNM_UD_ORGANICA_SUPERIOR',\n",
       " 'C_ID_UD_ORGANICA',\n",
       " 'C_ID_TIPO_ENT_PUBLICA',\n",
       " 'C_DESC_PROV',\n",
       " 'C_ID_DEP_EDP_PRINCIPAL',\n",
       " 'C_ID_ESTADO',\n",
       " 'D_VIG_ALTA_OFICIAL',\n",
       " 'CONTACTOS',\n",
       " 'NIF_CIF',\n",
       " 'C_ID_NIVEL_ADMON',\n",
       " 'C_DNM_UD_ORGANICA_EDP_PRINCIPAL',\n",
       " 'C_ID_DEP_UD_PRINCIPAL',\n",
       " 'N_NIVEL_JERARQUICO',\n",
       " 'C_DNM_UD_ORGANICA',\n",
       " 'C_DNM_UD_ORGANICA_PRINCIPAL',\n",
       " 'B_SW_DEP_EDP_PRINCIPAL',\n",
       " 'C_ID_AMB_PROVINCIA',\n",
       " 'C_ID_DEP_UD_SUPERIOR']"
      ]
     },
     "execution_count": 114,
     "metadata": {},
     "output_type": "execute_result"
    }
   ],
   "source": [
    "list1 = Nombre_Intermedio_cruce2_invente.columns\n",
    "list2 = match.columns\n",
    "\n",
    "set1 = set(list1)\n",
    "set2 = set(list2)\n",
    "\n",
    "set3 = set1 & set2\n",
    "list3 = list(set3)\n",
    "\n",
    "list3.remove('Entidad_Norm')\n",
    "list3"
   ]
  },
  {
   "cell_type": "code",
   "execution_count": 104,
   "id": "993413d1",
   "metadata": {},
   "outputs": [
    {
     "name": "stdout",
     "output_type": "stream",
     "text": [
      "22/07/31 12:15:43 WARN WindowExec: No Partition Defined for Window operation! Moving all data to a single partition, this can cause serious performance degradation.\n",
      "22/07/31 12:15:43 WARN WindowExec: No Partition Defined for Window operation! Moving all data to a single partition, this can cause serious performance degradation.\n",
      "22/07/31 12:15:43 WARN WindowExec: No Partition Defined for Window operation! Moving all data to a single partition, this can cause serious performance degradation.\n",
      "22/07/31 12:15:43 WARN WindowExec: No Partition Defined for Window operation! Moving all data to a single partition, this can cause serious performance degradation.\n",
      "22/07/31 12:15:43 WARN WindowExec: No Partition Defined for Window operation! Moving all data to a single partition, this can cause serious performance degradation.\n",
      "22/07/31 12:15:43 WARN WindowExec: No Partition Defined for Window operation! Moving all data to a single partition, this can cause serious performance degradation.\n",
      "22/07/31 12:15:43 WARN WindowExec: No Partition Defined for Window operation! Moving all data to a single partition, this can cause serious performance degradation.\n",
      "22/07/31 12:15:43 WARN WindowExec: No Partition Defined for Window operation! Moving all data to a single partition, this can cause serious performance degradation.\n",
      "22/07/31 12:15:43 WARN WindowExec: No Partition Defined for Window operation! Moving all data to a single partition, this can cause serious performance degradation.\n",
      "22/07/31 12:15:43 WARN WindowExec: No Partition Defined for Window operation! Moving all data to a single partition, this can cause serious performance degradation.\n",
      "22/07/31 12:15:43 WARN WindowExec: No Partition Defined for Window operation! Moving all data to a single partition, this can cause serious performance degradation.\n",
      "22/07/31 12:15:43 WARN WindowExec: No Partition Defined for Window operation! Moving all data to a single partition, this can cause serious performance degradation.\n",
      "22/07/31 12:15:43 WARN WindowExec: No Partition Defined for Window operation! Moving all data to a single partition, this can cause serious performance degradation.\n",
      "22/07/31 12:15:43 WARN WindowExec: No Partition Defined for Window operation! Moving all data to a single partition, this can cause serious performance degradation.\n",
      "22/07/31 12:15:43 WARN WindowExec: No Partition Defined for Window operation! Moving all data to a single partition, this can cause serious performance degradation.\n",
      "22/07/31 12:15:43 WARN WindowExec: No Partition Defined for Window operation! Moving all data to a single partition, this can cause serious performance degradation.\n",
      "22/07/31 12:15:44 WARN WindowExec: No Partition Defined for Window operation! Moving all data to a single partition, this can cause serious performance degradation.\n",
      "22/07/31 12:15:44 WARN WindowExec: No Partition Defined for Window operation! Moving all data to a single partition, this can cause serious performance degradation.\n",
      "22/07/31 12:15:44 WARN WindowExec: No Partition Defined for Window operation! Moving all data to a single partition, this can cause serious performance degradation.\n",
      "22/07/31 12:15:44 WARN WindowExec: No Partition Defined for Window operation! Moving all data to a single partition, this can cause serious performance degradation.\n",
      "22/07/31 12:15:44 WARN WindowExec: No Partition Defined for Window operation! Moving all data to a single partition, this can cause serious performance degradation.\n",
      "22/07/31 12:15:44 WARN WindowExec: No Partition Defined for Window operation! Moving all data to a single partition, this can cause serious performance degradation.\n",
      "22/07/31 12:15:44 WARN WindowExec: No Partition Defined for Window operation! Moving all data to a single partition, this can cause serious performance degradation.\n",
      "22/07/31 12:15:44 WARN WindowExec: No Partition Defined for Window operation! Moving all data to a single partition, this can cause serious performance degradation.\n",
      "22/07/31 12:15:44 WARN WindowExec: No Partition Defined for Window operation! Moving all data to a single partition, this can cause serious performance degradation.\n",
      "22/07/31 12:15:44 WARN WindowExec: No Partition Defined for Window operation! Moving all data to a single partition, this can cause serious performance degradation.\n",
      "22/07/31 12:15:44 WARN WindowExec: No Partition Defined for Window operation! Moving all data to a single partition, this can cause serious performance degradation.\n",
      "22/07/31 12:15:44 WARN WindowExec: No Partition Defined for Window operation! Moving all data to a single partition, this can cause serious performance degradation.\n",
      "22/07/31 12:15:44 WARN WindowExec: No Partition Defined for Window operation! Moving all data to a single partition, this can cause serious performance degradation.\n",
      "22/07/31 12:15:44 WARN WindowExec: No Partition Defined for Window operation! Moving all data to a single partition, this can cause serious performance degradation.\n",
      "22/07/31 12:15:44 WARN WindowExec: No Partition Defined for Window operation! Moving all data to a single partition, this can cause serious performance degradation.\n",
      "22/07/31 12:15:44 WARN WindowExec: No Partition Defined for Window operation! Moving all data to a single partition, this can cause serious performance degradation.\n",
      "22/07/31 12:15:44 WARN WindowExec: No Partition Defined for Window operation! Moving all data to a single partition, this can cause serious performance degradation.\n",
      "22/07/31 12:15:44 WARN WindowExec: No Partition Defined for Window operation! Moving all data to a single partition, this can cause serious performance degradation.\n",
      "22/07/31 12:15:44 WARN WindowExec: No Partition Defined for Window operation! Moving all data to a single partition, this can cause serious performance degradation.\n",
      "22/07/31 12:15:44 WARN WindowExec: No Partition Defined for Window operation! Moving all data to a single partition, this can cause serious performance degradation.\n",
      "22/07/31 12:15:44 WARN WindowExec: No Partition Defined for Window operation! Moving all data to a single partition, this can cause serious performance degradation.\n",
      "22/07/31 12:15:44 WARN WindowExec: No Partition Defined for Window operation! Moving all data to a single partition, this can cause serious performance degradation.\n",
      "22/07/31 12:15:44 WARN WindowExec: No Partition Defined for Window operation! Moving all data to a single partition, this can cause serious performance degradation.\n",
      "22/07/31 12:15:44 WARN WindowExec: No Partition Defined for Window operation! Moving all data to a single partition, this can cause serious performance degradation.\n",
      "22/07/31 12:15:44 WARN WindowExec: No Partition Defined for Window operation! Moving all data to a single partition, this can cause serious performance degradation.\n",
      "22/07/31 12:15:44 WARN WindowExec: No Partition Defined for Window operation! Moving all data to a single partition, this can cause serious performance degradation.\n",
      "22/07/31 12:15:44 WARN WindowExec: No Partition Defined for Window operation! Moving all data to a single partition, this can cause serious performance degradation.\n",
      "22/07/31 12:15:44 WARN WindowExec: No Partition Defined for Window operation! Moving all data to a single partition, this can cause serious performance degradation.\n",
      "22/07/31 12:15:44 WARN WindowExec: No Partition Defined for Window operation! Moving all data to a single partition, this can cause serious performance degradation.\n",
      "22/07/31 12:15:44 WARN WindowExec: No Partition Defined for Window operation! Moving all data to a single partition, this can cause serious performance degradation.\n",
      "22/07/31 12:15:44 WARN WindowExec: No Partition Defined for Window operation! Moving all data to a single partition, this can cause serious performance degradation.\n",
      "22/07/31 12:15:44 WARN WindowExec: No Partition Defined for Window operation! Moving all data to a single partition, this can cause serious performance degradation.\n",
      "22/07/31 12:15:44 WARN WindowExec: No Partition Defined for Window operation! Moving all data to a single partition, this can cause serious performance degradation.\n",
      "22/07/31 12:15:44 WARN WindowExec: No Partition Defined for Window operation! Moving all data to a single partition, this can cause serious performance degradation.\n",
      "22/07/31 12:15:44 WARN WindowExec: No Partition Defined for Window operation! Moving all data to a single partition, this can cause serious performance degradation.\n",
      "22/07/31 12:15:44 WARN WindowExec: No Partition Defined for Window operation! Moving all data to a single partition, this can cause serious performance degradation.\n",
      "22/07/31 12:15:44 WARN WindowExec: No Partition Defined for Window operation! Moving all data to a single partition, this can cause serious performance degradation.\n",
      "22/07/31 12:15:44 WARN WindowExec: No Partition Defined for Window operation! Moving all data to a single partition, this can cause serious performance degradation.\n",
      "22/07/31 12:15:44 WARN WindowExec: No Partition Defined for Window operation! Moving all data to a single partition, this can cause serious performance degradation.\n",
      "22/07/31 12:15:44 WARN WindowExec: No Partition Defined for Window operation! Moving all data to a single partition, this can cause serious performance degradation.\n",
      "22/07/31 12:15:44 WARN WindowExec: No Partition Defined for Window operation! Moving all data to a single partition, this can cause serious performance degradation.\n",
      "22/07/31 12:15:44 WARN WindowExec: No Partition Defined for Window operation! Moving all data to a single partition, this can cause serious performance degradation.\n"
     ]
    },
    {
     "name": "stdout",
     "output_type": "stream",
     "text": [
      "22/07/31 12:15:44 WARN WindowExec: No Partition Defined for Window operation! Moving all data to a single partition, this can cause serious performance degradation.\n",
      "22/07/31 12:15:44 WARN WindowExec: No Partition Defined for Window operation! Moving all data to a single partition, this can cause serious performance degradation.\n",
      "22/07/31 12:15:44 WARN WindowExec: No Partition Defined for Window operation! Moving all data to a single partition, this can cause serious performance degradation.\n",
      "22/07/31 12:15:44 WARN WindowExec: No Partition Defined for Window operation! Moving all data to a single partition, this can cause serious performance degradation.\n",
      "22/07/31 12:15:44 WARN WindowExec: No Partition Defined for Window operation! Moving all data to a single partition, this can cause serious performance degradation.\n",
      "22/07/31 12:15:44 WARN WindowExec: No Partition Defined for Window operation! Moving all data to a single partition, this can cause serious performance degradation.\n",
      "+----------------------+\n",
      "|B_SW_DEP_EDP_PRINCIPAL|\n",
      "+----------------------+\n",
      "|                  null|\n",
      "|                  null|\n",
      "|                  null|\n",
      "|                  null|\n",
      "|                  null|\n",
      "|                  null|\n",
      "|                  null|\n",
      "|                  null|\n",
      "|                  null|\n",
      "|                  null|\n",
      "|                  null|\n",
      "|                  null|\n",
      "|                  null|\n",
      "|                  null|\n",
      "|                  null|\n",
      "|                  null|\n",
      "|                  null|\n",
      "|                  null|\n",
      "|                  null|\n",
      "|                  null|\n",
      "+----------------------+\n",
      "only showing top 20 rows\n",
      "\n"
     ]
    }
   ],
   "source": [
    "Nombre_Intermedio_cruce2_invente.select('B_SW_DEP_EDP_PRINCIPAL').show()"
   ]
  },
  {
   "cell_type": "code",
   "execution_count": 99,
   "id": "0956ec31",
   "metadata": {},
   "outputs": [
    {
     "data": {
      "text/plain": [
       "['Id',\n",
       " 'CIF',\n",
       " 'Entidad_Norm',\n",
       " 'Provincia_Entidad',\n",
       " 'ID_ENTIDAD',\n",
       " 'NIF_COD',\n",
       " 'ACRONIMO',\n",
       " 'NOMBRE_ENTIDAD',\n",
       " 'Nombre_Entidad_Mostrar',\n",
       " 'TIPO_ENTIDAD_N1_1',\n",
       " 'TIPO_ENTIDAD_N2_1',\n",
       " 'DIRECCION_POSTAL',\n",
       " 'COD_POSTAL',\n",
       " 'COD_PROVINCIA',\n",
       " 'PROVINCIA',\n",
       " 'COD_CCAA',\n",
       " 'CCAA',\n",
       " 'ENLACE_WEB',\n",
       " 'SOMMA',\n",
       " 'TIPO_ENTIDAD_REGIONAL',\n",
       " 'ESTADO_x',\n",
       " 'CodigoInvente',\n",
       " 'DenominacionSocial',\n",
       " 'FormaJuridica_Codigo',\n",
       " 'FormaJuridica_Descripcion',\n",
       " 'NIF',\n",
       " 'codigoDir3',\n",
       " 'codigoOrigen',\n",
       " 'Provincia_Codigo',\n",
       " 'C_ID_UD_ORGANICA',\n",
       " 'C_DNM_UD_ORGANICA',\n",
       " 'C_ID_NIVEL_ADMON',\n",
       " 'C_ID_TIPO_ENT_PUBLICA',\n",
       " 'N_NIVEL_JERARQUICO',\n",
       " 'C_ID_DEP_UD_SUPERIOR',\n",
       " 'C_DNM_UD_ORGANICA_SUPERIOR',\n",
       " 'C_ID_DEP_UD_PRINCIPAL',\n",
       " 'C_DNM_UD_ORGANICA_PRINCIPAL',\n",
       " 'B_SW_DEP_EDP_PRINCIPAL',\n",
       " 'C_ID_DEP_EDP_PRINCIPAL',\n",
       " 'C_DNM_UD_ORGANICA_EDP_PRINCIPAL',\n",
       " 'C_ID_ESTADO',\n",
       " 'D_VIG_ALTA_OFICIAL',\n",
       " 'NIF_CIF',\n",
       " 'C_ID_AMB_PROVINCIA',\n",
       " 'C_DESC_PROV',\n",
       " 'CONTACTOS',\n",
       " 'List_Entidad_Norm',\n",
       " 'List_Provincia_Entidad',\n",
       " 'List_CIF',\n",
       " 'Similitud_invente']"
      ]
     },
     "execution_count": 99,
     "metadata": {},
     "output_type": "execute_result"
    }
   ],
   "source": []
  },
  {
   "cell_type": "code",
   "execution_count": null,
   "id": "2a54cfcd",
   "metadata": {},
   "outputs": [],
   "source": []
  },
  {
   "cell_type": "code",
   "execution_count": null,
   "id": "b7b9354b",
   "metadata": {},
   "outputs": [],
   "source": []
  },
  {
   "cell_type": "code",
   "execution_count": null,
   "id": "421d9c15",
   "metadata": {},
   "outputs": [],
   "source": []
  },
  {
   "cell_type": "code",
   "execution_count": null,
   "id": "0f74c39e",
   "metadata": {},
   "outputs": [],
   "source": []
  },
  {
   "cell_type": "code",
   "execution_count": null,
   "id": "e689ab0e",
   "metadata": {},
   "outputs": [],
   "source": []
  },
  {
   "cell_type": "code",
   "execution_count": null,
   "id": "653a395a",
   "metadata": {},
   "outputs": [],
   "source": [
    "Nombre_Intermedio_cruce2_invente = Nombre_Intermedio_cruce2_invente.join(l,\n",
    "                                      Nombre_Intermedio_cruce2_invente.Entidad_Norm ==  l.Entidad_Norm,\"left\")                                 \n",
    "\n",
    "     "
   ]
  },
  {
   "cell_type": "code",
   "execution_count": null,
   "id": "01306b45",
   "metadata": {},
   "outputs": [],
   "source": []
  },
  {
   "cell_type": "code",
   "execution_count": null,
   "id": "85cf6f7d",
   "metadata": {},
   "outputs": [],
   "source": []
  },
  {
   "cell_type": "code",
   "execution_count": null,
   "id": "aea6f41a",
   "metadata": {},
   "outputs": [],
   "source": []
  },
  {
   "cell_type": "code",
   "execution_count": null,
   "id": "01a52540",
   "metadata": {},
   "outputs": [],
   "source": []
  },
  {
   "cell_type": "code",
   "execution_count": null,
   "id": "e33daf18",
   "metadata": {},
   "outputs": [],
   "source": []
  },
  {
   "cell_type": "code",
   "execution_count": null,
   "id": "622ce280",
   "metadata": {},
   "outputs": [],
   "source": []
  },
  {
   "cell_type": "code",
   "execution_count": null,
   "id": "5590b044",
   "metadata": {},
   "outputs": [],
   "source": []
  },
  {
   "cell_type": "code",
   "execution_count": null,
   "id": "b6697246",
   "metadata": {},
   "outputs": [],
   "source": []
  },
  {
   "cell_type": "code",
   "execution_count": null,
   "id": "a55fecc3",
   "metadata": {},
   "outputs": [],
   "source": []
  },
  {
   "cell_type": "code",
   "execution_count": null,
   "id": "a8e7f03f",
   "metadata": {},
   "outputs": [],
   "source": []
  },
  {
   "cell_type": "code",
   "execution_count": 98,
   "id": "3746603b",
   "metadata": {},
   "outputs": [
    {
     "name": "stdout",
     "output_type": "stream",
     "text": [
      "root\n",
      " |-- Entidad_Norm: string (nullable = true)\n",
      " |-- C_ID_UD_ORGANICA: string (nullable = true)\n",
      " |-- C_DNM_UD_ORGANICA: string (nullable = true)\n",
      " |-- C_ID_NIVEL_ADMON: string (nullable = true)\n",
      " |-- C_ID_TIPO_ENT_PUBLICA: string (nullable = true)\n",
      " |-- N_NIVEL_JERARQUICO: string (nullable = true)\n",
      " |-- C_ID_DEP_UD_SUPERIOR: string (nullable = true)\n",
      " |-- C_DNM_UD_ORGANICA_SUPERIOR: string (nullable = true)\n",
      " |-- C_ID_DEP_UD_PRINCIPAL: string (nullable = true)\n",
      " |-- C_DNM_UD_ORGANICA_PRINCIPAL: string (nullable = true)\n",
      " |-- B_SW_DEP_EDP_PRINCIPAL: string (nullable = true)\n",
      " |-- C_ID_DEP_EDP_PRINCIPAL: string (nullable = true)\n",
      " |-- C_DNM_UD_ORGANICA_EDP_PRINCIPAL: string (nullable = true)\n",
      " |-- C_ID_ESTADO: string (nullable = true)\n",
      " |-- D_VIG_ALTA_OFICIAL: string (nullable = true)\n",
      " |-- NIF_CIF: string (nullable = true)\n",
      " |-- C_ID_AMB_PROVINCIA: string (nullable = true)\n",
      " |-- C_DESC_PROV: string (nullable = true)\n",
      " |-- CONTACTOS: string (nullable = true)\n",
      " |-- C_DNM_UD_ORGANICA_Norm: string (nullable = true)\n",
      "\n"
     ]
    }
   ],
   "source": [
    "match.printSchema()"
   ]
  },
  {
   "cell_type": "code",
   "execution_count": 96,
   "id": "66ae4181",
   "metadata": {},
   "outputs": [
    {
     "name": "stdout",
     "output_type": "stream",
     "text": [
      "root\n",
      " |-- source_name: string (nullable = true)\n",
      " |-- target_name: string (nullable = true)\n",
      " |-- Entidad_Norm: string (nullable = true)\n",
      " |-- C_ID_UD_ORGANICA: string (nullable = true)\n",
      " |-- C_DNM_UD_ORGANICA: string (nullable = true)\n",
      " |-- C_ID_NIVEL_ADMON: string (nullable = true)\n",
      " |-- C_ID_TIPO_ENT_PUBLICA: string (nullable = true)\n",
      " |-- N_NIVEL_JERARQUICO: string (nullable = true)\n",
      " |-- C_ID_DEP_UD_SUPERIOR: string (nullable = true)\n",
      " |-- C_DNM_UD_ORGANICA_SUPERIOR: string (nullable = true)\n",
      " |-- C_ID_DEP_UD_PRINCIPAL: string (nullable = true)\n",
      " |-- C_DNM_UD_ORGANICA_PRINCIPAL: string (nullable = true)\n",
      " |-- B_SW_DEP_EDP_PRINCIPAL: string (nullable = true)\n",
      " |-- C_ID_DEP_EDP_PRINCIPAL: string (nullable = true)\n",
      " |-- C_DNM_UD_ORGANICA_EDP_PRINCIPAL: string (nullable = true)\n",
      " |-- C_ID_ESTADO: string (nullable = true)\n",
      " |-- D_VIG_ALTA_OFICIAL: string (nullable = true)\n",
      " |-- NIF_CIF: string (nullable = true)\n",
      " |-- C_ID_AMB_PROVINCIA: string (nullable = true)\n",
      " |-- C_DESC_PROV: string (nullable = true)\n",
      " |-- CONTACTOS: string (nullable = true)\n",
      " |-- C_DNM_UD_ORGANICA_Norm: string (nullable = true)\n",
      " |-- source_names_stopwords: string (nullable = true)\n",
      " |-- target_names_stopwords: string (nullable = true)\n",
      " |-- final_score: float (nullable = true)\n",
      "\n"
     ]
    }
   ],
   "source": [
    "match.printSchema()"
   ]
  },
  {
   "cell_type": "code",
   "execution_count": null,
   "id": "e2aba470",
   "metadata": {},
   "outputs": [],
   "source": []
  },
  {
   "cell_type": "code",
   "execution_count": null,
   "id": "83607cf4",
   "metadata": {},
   "outputs": [],
   "source": []
  },
  {
   "cell_type": "code",
   "execution_count": null,
   "id": "db9daeb6",
   "metadata": {},
   "outputs": [],
   "source": []
  },
  {
   "cell_type": "code",
   "execution_count": 75,
   "id": "edcdba71",
   "metadata": {},
   "outputs": [
    {
     "data": {
      "text/html": [
       "<div>\n",
       "<style scoped>\n",
       "    .dataframe tbody tr th:only-of-type {\n",
       "        vertical-align: middle;\n",
       "    }\n",
       "\n",
       "    .dataframe tbody tr th {\n",
       "        vertical-align: top;\n",
       "    }\n",
       "\n",
       "    .dataframe thead th {\n",
       "        text-align: right;\n",
       "    }\n",
       "</style>\n",
       "<table border=\"1\" class=\"dataframe\">\n",
       "  <thead>\n",
       "    <tr style=\"text-align: right;\">\n",
       "      <th></th>\n",
       "      <th>Entidad_Norm</th>\n",
       "      <th>C_DNM_UD_ORGANICA_Norm</th>\n",
       "      <th>N_NIVEL_JERARQUICO</th>\n",
       "      <th>C_DNM_UD_ORGANICA_SUPERIOR</th>\n",
       "      <th>Similitud</th>\n",
       "    </tr>\n",
       "  </thead>\n",
       "  <tbody>\n",
       "    <tr>\n",
       "      <th>0</th>\n",
       "      <td>instituto valenciano de investigaciones agrarias</td>\n",
       "      <td>instituto valenciano de investigaciones agrarias ivia</td>\n",
       "      <td>3</td>\n",
       "      <td>Conselleria de Agricultura, Desarrollo Rural, Emergencia Climática y Transición Ecológica</td>\n",
       "      <td>0.400000</td>\n",
       "    </tr>\n",
       "    <tr>\n",
       "      <th>1</th>\n",
       "      <td>universidad politecnica de cartagena</td>\n",
       "      <td>universidad politecnica de cartagena</td>\n",
       "      <td>1</td>\n",
       "      <td>Universidades</td>\n",
       "      <td>0.489796</td>\n",
       "    </tr>\n",
       "  </tbody>\n",
       "</table>\n",
       "</div>"
      ],
      "text/plain": [
       "                                       Entidad_Norm  \\\n",
       "0  instituto valenciano de investigaciones agrarias   \n",
       "1              universidad politecnica de cartagena   \n",
       "\n",
       "                                  C_DNM_UD_ORGANICA_Norm N_NIVEL_JERARQUICO  \\\n",
       "0  instituto valenciano de investigaciones agrarias ivia                  3   \n",
       "1                   universidad politecnica de cartagena                  1   \n",
       "\n",
       "                                                                  C_DNM_UD_ORGANICA_SUPERIOR  \\\n",
       "0  Conselleria de Agricultura, Desarrollo Rural, Emergencia Climática y Transición Ecológica   \n",
       "1                                                                              Universidades   \n",
       "\n",
       "   Similitud  \n",
       "0   0.400000  \n",
       "1   0.489796  "
      ]
     },
     "execution_count": 75,
     "metadata": {},
     "output_type": "execute_result"
    }
   ],
   "source": [
    "duplicated2.sort(duplicated2.Similitud.desc())\\\n",
    "                            .dropDuplicates(subset = ['Entidad_Norm']).toPandas()[[\"Entidad_Norm\",\"C_DNM_UD_ORGANICA_Norm\", \"N_NIVEL_JERARQUICO\", \"C_DNM_UD_ORGANICA_SUPERIOR\", \"Similitud\"]]"
   ]
  },
  {
   "cell_type": "code",
   "execution_count": null,
   "id": "ae0bbba2",
   "metadata": {},
   "outputs": [],
   "source": []
  },
  {
   "cell_type": "code",
   "execution_count": null,
   "id": "3b28d468",
   "metadata": {},
   "outputs": [],
   "source": []
  },
  {
   "cell_type": "code",
   "execution_count": null,
   "id": "e03b32b3",
   "metadata": {},
   "outputs": [],
   "source": []
  },
  {
   "cell_type": "code",
   "execution_count": 72,
   "id": "11f097de",
   "metadata": {},
   "outputs": [
    {
     "name": "stderr",
     "output_type": "stream",
     "text": [
      "                                                                                \r"
     ]
    },
    {
     "data": {
      "text/html": [
       "<div>\n",
       "<style scoped>\n",
       "    .dataframe tbody tr th:only-of-type {\n",
       "        vertical-align: middle;\n",
       "    }\n",
       "\n",
       "    .dataframe tbody tr th {\n",
       "        vertical-align: top;\n",
       "    }\n",
       "\n",
       "    .dataframe thead th {\n",
       "        text-align: right;\n",
       "    }\n",
       "</style>\n",
       "<table border=\"1\" class=\"dataframe\">\n",
       "  <thead>\n",
       "    <tr style=\"text-align: right;\">\n",
       "      <th></th>\n",
       "      <th>Entidad_Norm</th>\n",
       "      <th>C_DNM_UD_ORGANICA_Norm</th>\n",
       "      <th>N_NIVEL_JERARQUICO</th>\n",
       "      <th>C_DNM_UD_ORGANICA_SUPERIOR</th>\n",
       "      <th>Similitud</th>\n",
       "    </tr>\n",
       "  </thead>\n",
       "  <tbody>\n",
       "    <tr>\n",
       "      <th>0</th>\n",
       "      <td>instituto valenciano de investigaciones agrarias</td>\n",
       "      <td>instituto canario de investigaciones agrarias</td>\n",
       "      <td>3</td>\n",
       "      <td>Consejería de Agricultura, Ganadería y Pesca</td>\n",
       "      <td>0.373626</td>\n",
       "    </tr>\n",
       "    <tr>\n",
       "      <th>1</th>\n",
       "      <td>instituto valenciano de investigaciones agrarias</td>\n",
       "      <td>instituto valenciano de investigaciones agrarias ivia</td>\n",
       "      <td>3</td>\n",
       "      <td>Conselleria de Agricultura, Desarrollo Rural, Emergencia Climática y Transición Ecológica</td>\n",
       "      <td>0.400000</td>\n",
       "    </tr>\n",
       "    <tr>\n",
       "      <th>2</th>\n",
       "      <td>universidad politecnica de cartagena</td>\n",
       "      <td>universidad politecnica de cartagena</td>\n",
       "      <td>1</td>\n",
       "      <td>Universidades</td>\n",
       "      <td>0.489796</td>\n",
       "    </tr>\n",
       "    <tr>\n",
       "      <th>3</th>\n",
       "      <td>universidad politecnica de cartagena</td>\n",
       "      <td>universidad politecnica de cataluna</td>\n",
       "      <td>1</td>\n",
       "      <td>Universidades</td>\n",
       "      <td>0.489796</td>\n",
       "    </tr>\n",
       "  </tbody>\n",
       "</table>\n",
       "</div>"
      ],
      "text/plain": [
       "                                       Entidad_Norm  \\\n",
       "0  instituto valenciano de investigaciones agrarias   \n",
       "1  instituto valenciano de investigaciones agrarias   \n",
       "2              universidad politecnica de cartagena   \n",
       "3              universidad politecnica de cartagena   \n",
       "\n",
       "                                  C_DNM_UD_ORGANICA_Norm N_NIVEL_JERARQUICO  \\\n",
       "0          instituto canario de investigaciones agrarias                  3   \n",
       "1  instituto valenciano de investigaciones agrarias ivia                  3   \n",
       "2                   universidad politecnica de cartagena                  1   \n",
       "3                    universidad politecnica de cataluna                  1   \n",
       "\n",
       "                                                                  C_DNM_UD_ORGANICA_SUPERIOR  \\\n",
       "0                                               Consejería de Agricultura, Ganadería y Pesca   \n",
       "1  Conselleria de Agricultura, Desarrollo Rural, Emergencia Climática y Transición Ecológica   \n",
       "2                                                                              Universidades   \n",
       "3                                                                              Universidades   \n",
       "\n",
       "   Similitud  \n",
       "0   0.373626  \n",
       "1   0.400000  \n",
       "2   0.489796  \n",
       "3   0.489796  "
      ]
     },
     "execution_count": 72,
     "metadata": {},
     "output_type": "execute_result"
    }
   ],
   "source": [
    "duplicated2.toPandas()[[\"Entidad_Norm\",\"C_DNM_UD_ORGANICA_Norm\", \"N_NIVEL_JERARQUICO\", \"C_DNM_UD_ORGANICA_SUPERIOR\", \"Similitud\"]]"
   ]
  },
  {
   "cell_type": "code",
   "execution_count": null,
   "id": "723ff693",
   "metadata": {},
   "outputs": [],
   "source": []
  },
  {
   "cell_type": "code",
   "execution_count": null,
   "id": "561654a1",
   "metadata": {},
   "outputs": [],
   "source": []
  },
  {
   "cell_type": "code",
   "execution_count": null,
   "id": "42562fa4",
   "metadata": {},
   "outputs": [],
   "source": []
  },
  {
   "cell_type": "code",
   "execution_count": null,
   "id": "23616576",
   "metadata": {},
   "outputs": [],
   "source": []
  },
  {
   "cell_type": "code",
   "execution_count": null,
   "id": "b8a32755",
   "metadata": {},
   "outputs": [],
   "source": []
  },
  {
   "cell_type": "code",
   "execution_count": null,
   "id": "4fdb92cc",
   "metadata": {},
   "outputs": [],
   "source": []
  },
  {
   "cell_type": "code",
   "execution_count": null,
   "id": "9f46b4ad",
   "metadata": {},
   "outputs": [],
   "source": []
  },
  {
   "cell_type": "code",
   "execution_count": null,
   "id": "3803cb7e",
   "metadata": {},
   "outputs": [],
   "source": []
  },
  {
   "cell_type": "code",
   "execution_count": null,
   "id": "1e1bd270",
   "metadata": {},
   "outputs": [],
   "source": []
  },
  {
   "cell_type": "code",
   "execution_count": null,
   "id": "2b5deb08",
   "metadata": {},
   "outputs": [],
   "source": []
  },
  {
   "cell_type": "code",
   "execution_count": null,
   "id": "5f2548e8",
   "metadata": {},
   "outputs": [],
   "source": []
  },
  {
   "cell_type": "code",
   "execution_count": null,
   "id": "60e61ac4",
   "metadata": {},
   "outputs": [],
   "source": []
  },
  {
   "cell_type": "code",
   "execution_count": null,
   "id": "09dd2a6e",
   "metadata": {},
   "outputs": [],
   "source": []
  },
  {
   "cell_type": "code",
   "execution_count": null,
   "id": "c4e6f3a2",
   "metadata": {},
   "outputs": [],
   "source": []
  },
  {
   "cell_type": "code",
   "execution_count": null,
   "id": "6c489fe0",
   "metadata": {},
   "outputs": [],
   "source": []
  },
  {
   "cell_type": "code",
   "execution_count": null,
   "id": "eebd8063",
   "metadata": {},
   "outputs": [],
   "source": []
  },
  {
   "cell_type": "code",
   "execution_count": null,
   "id": "3b51bca9",
   "metadata": {},
   "outputs": [],
   "source": []
  },
  {
   "cell_type": "code",
   "execution_count": 69,
   "id": "1236121b",
   "metadata": {},
   "outputs": [
    {
     "name": "stderr",
     "output_type": "stream",
     "text": [
      "                                                                                \r"
     ]
    },
    {
     "data": {
      "text/html": [
       "<div>\n",
       "<style scoped>\n",
       "    .dataframe tbody tr th:only-of-type {\n",
       "        vertical-align: middle;\n",
       "    }\n",
       "\n",
       "    .dataframe tbody tr th {\n",
       "        vertical-align: top;\n",
       "    }\n",
       "\n",
       "    .dataframe thead th {\n",
       "        text-align: right;\n",
       "    }\n",
       "</style>\n",
       "<table border=\"1\" class=\"dataframe\">\n",
       "  <thead>\n",
       "    <tr style=\"text-align: right;\">\n",
       "      <th></th>\n",
       "      <th>Entidad_Norm</th>\n",
       "      <th>C_DNM_UD_ORGANICA_Norm</th>\n",
       "      <th>N_NIVEL_JERARQUICO</th>\n",
       "      <th>C_DNM_UD_ORGANICA_SUPERIOR</th>\n",
       "    </tr>\n",
       "  </thead>\n",
       "  <tbody>\n",
       "    <tr>\n",
       "      <th>0</th>\n",
       "      <td>instituto valenciano de investigaciones agrarias</td>\n",
       "      <td>instituto canario de investigaciones agrarias</td>\n",
       "      <td>3</td>\n",
       "      <td>Consejería de Agricultura, Ganadería y Pesca</td>\n",
       "    </tr>\n",
       "    <tr>\n",
       "      <th>1</th>\n",
       "      <td>instituto valenciano de investigaciones agrarias</td>\n",
       "      <td>instituto valenciano de investigaciones agrarias ivia</td>\n",
       "      <td>3</td>\n",
       "      <td>Conselleria de Agricultura, Desarrollo Rural, Emergencia Climática y Transición Ecológica</td>\n",
       "    </tr>\n",
       "    <tr>\n",
       "      <th>2</th>\n",
       "      <td>universidad politecnica de cartagena</td>\n",
       "      <td>universidad politecnica de cartagena</td>\n",
       "      <td>1</td>\n",
       "      <td>Universidades</td>\n",
       "    </tr>\n",
       "    <tr>\n",
       "      <th>3</th>\n",
       "      <td>universidad politecnica de cartagena</td>\n",
       "      <td>universidad politecnica de cataluna</td>\n",
       "      <td>1</td>\n",
       "      <td>Universidades</td>\n",
       "    </tr>\n",
       "  </tbody>\n",
       "</table>\n",
       "</div>"
      ],
      "text/plain": [
       "                                       Entidad_Norm  \\\n",
       "0  instituto valenciano de investigaciones agrarias   \n",
       "1  instituto valenciano de investigaciones agrarias   \n",
       "2              universidad politecnica de cartagena   \n",
       "3              universidad politecnica de cartagena   \n",
       "\n",
       "                                  C_DNM_UD_ORGANICA_Norm N_NIVEL_JERARQUICO  \\\n",
       "0          instituto canario de investigaciones agrarias                  3   \n",
       "1  instituto valenciano de investigaciones agrarias ivia                  3   \n",
       "2                   universidad politecnica de cartagena                  1   \n",
       "3                    universidad politecnica de cataluna                  1   \n",
       "\n",
       "                                                                  C_DNM_UD_ORGANICA_SUPERIOR  \n",
       "0                                               Consejería de Agricultura, Ganadería y Pesca  \n",
       "1  Conselleria de Agricultura, Desarrollo Rural, Emergencia Climática y Transición Ecológica  \n",
       "2                                                                              Universidades  \n",
       "3                                                                              Universidades  "
      ]
     },
     "execution_count": 69,
     "metadata": {},
     "output_type": "execute_result"
    }
   ],
   "source": [
    "duplicated2.toPandas()[[\"Entidad_Norm\",\"C_DNM_UD_ORGANICA_Norm\", \"N_NIVEL_JERARQUICO\", \"C_DNM_UD_ORGANICA_SUPERIOR\"]]"
   ]
  },
  {
   "cell_type": "code",
   "execution_count": 70,
   "id": "9dd7889b",
   "metadata": {},
   "outputs": [
    {
     "data": {
      "text/html": [
       "<div>\n",
       "<style scoped>\n",
       "    .dataframe tbody tr th:only-of-type {\n",
       "        vertical-align: middle;\n",
       "    }\n",
       "\n",
       "    .dataframe tbody tr th {\n",
       "        vertical-align: top;\n",
       "    }\n",
       "\n",
       "    .dataframe thead th {\n",
       "        text-align: right;\n",
       "    }\n",
       "</style>\n",
       "<table border=\"1\" class=\"dataframe\">\n",
       "  <thead>\n",
       "    <tr style=\"text-align: right;\">\n",
       "      <th></th>\n",
       "      <th>Entidad_Norm</th>\n",
       "      <th>C_DNM_UD_ORGANICA_Norm</th>\n",
       "      <th>N_NIVEL_JERARQUICO</th>\n",
       "      <th>C_DNM_UD_ORGANICA_SUPERIOR</th>\n",
       "    </tr>\n",
       "  </thead>\n",
       "  <tbody>\n",
       "    <tr>\n",
       "      <th>0</th>\n",
       "      <td>universidad de valladolid</td>\n",
       "      <td>universidad de valladolid</td>\n",
       "      <td>1</td>\n",
       "      <td>Universidades</td>\n",
       "    </tr>\n",
       "  </tbody>\n",
       "</table>\n",
       "</div>"
      ],
      "text/plain": [
       "                Entidad_Norm     C_DNM_UD_ORGANICA_Norm N_NIVEL_JERARQUICO  \\\n",
       "0  universidad de valladolid  universidad de valladolid                  1   \n",
       "\n",
       "  C_DNM_UD_ORGANICA_SUPERIOR  \n",
       "0              Universidades  "
      ]
     },
     "execution_count": 70,
     "metadata": {},
     "output_type": "execute_result"
    }
   ],
   "source": [
    "duplicated1.toPandas()[[\"Entidad_Norm\",\"C_DNM_UD_ORGANICA_Norm\", \"N_NIVEL_JERARQUICO\", \"C_DNM_UD_ORGANICA_SUPERIOR\"]]"
   ]
  },
  {
   "cell_type": "code",
   "execution_count": null,
   "id": "7456c9d1",
   "metadata": {},
   "outputs": [],
   "source": [
    "l = get_matching_entities_by_elasticSearch(\n",
    "                                        duplicated2, \n",
    "                                        \"Entidad_Norm\", \n",
    "                                        [\"Entidad_Norm\"],\n",
    "                                        duplicated2, \n",
    "                                        \"C_DNM_UD_ORGANICA_Norm\",\n",
    "                                        [\"N_NIVEL_JERARQUICO\"],\n",
    "                                        'index_name',\n",
    "                                        10)"
   ]
  },
  {
   "cell_type": "code",
   "execution_count": 50,
   "id": "e96a81e0",
   "metadata": {},
   "outputs": [
    {
     "data": {
      "text/html": [
       "<div>\n",
       "<style scoped>\n",
       "    .dataframe tbody tr th:only-of-type {\n",
       "        vertical-align: middle;\n",
       "    }\n",
       "\n",
       "    .dataframe tbody tr th {\n",
       "        vertical-align: top;\n",
       "    }\n",
       "\n",
       "    .dataframe thead th {\n",
       "        text-align: right;\n",
       "    }\n",
       "</style>\n",
       "<table border=\"1\" class=\"dataframe\">\n",
       "  <thead>\n",
       "    <tr style=\"text-align: right;\">\n",
       "      <th></th>\n",
       "      <th>source_name</th>\n",
       "      <th>target_name</th>\n",
       "      <th>Entidad_Norm</th>\n",
       "      <th>N_NIVEL_JERARQUICO</th>\n",
       "    </tr>\n",
       "  </thead>\n",
       "  <tbody>\n",
       "  </tbody>\n",
       "</table>\n",
       "</div>"
      ],
      "text/plain": [
       "Empty DataFrame\n",
       "Columns: [source_name, target_name, Entidad_Norm, N_NIVEL_JERARQUICO]\n",
       "Index: []"
      ]
     },
     "execution_count": 50,
     "metadata": {},
     "output_type": "execute_result"
    }
   ],
   "source": [
    "l"
   ]
  },
  {
   "cell_type": "code",
   "execution_count": null,
   "id": "9d1dc941",
   "metadata": {},
   "outputs": [],
   "source": []
  },
  {
   "cell_type": "code",
   "execution_count": null,
   "id": "daf43561",
   "metadata": {},
   "outputs": [],
   "source": []
  },
  {
   "cell_type": "code",
   "execution_count": null,
   "id": "01df03ce",
   "metadata": {},
   "outputs": [],
   "source": []
  },
  {
   "cell_type": "code",
   "execution_count": null,
   "id": "505e6390",
   "metadata": {},
   "outputs": [],
   "source": []
  },
  {
   "cell_type": "code",
   "execution_count": null,
   "id": "72c9e284",
   "metadata": {},
   "outputs": [],
   "source": []
  },
  {
   "cell_type": "code",
   "execution_count": null,
   "id": "957592f3",
   "metadata": {},
   "outputs": [],
   "source": []
  },
  {
   "cell_type": "code",
   "execution_count": null,
   "id": "fcfebdde",
   "metadata": {},
   "outputs": [],
   "source": []
  },
  {
   "cell_type": "code",
   "execution_count": null,
   "id": "365c9a4a",
   "metadata": {},
   "outputs": [],
   "source": []
  },
  {
   "cell_type": "code",
   "execution_count": null,
   "id": "409369d9",
   "metadata": {},
   "outputs": [],
   "source": []
  },
  {
   "cell_type": "code",
   "execution_count": null,
   "id": "d48a6c2c",
   "metadata": {},
   "outputs": [],
   "source": []
  },
  {
   "cell_type": "code",
   "execution_count": null,
   "id": "132ce437",
   "metadata": {},
   "outputs": [],
   "source": []
  },
  {
   "cell_type": "code",
   "execution_count": null,
   "id": "481cce22",
   "metadata": {},
   "outputs": [],
   "source": []
  },
  {
   "cell_type": "code",
   "execution_count": null,
   "id": "9e5a29be",
   "metadata": {},
   "outputs": [],
   "source": []
  },
  {
   "cell_type": "code",
   "execution_count": null,
   "id": "265dce9c",
   "metadata": {},
   "outputs": [],
   "source": []
  },
  {
   "cell_type": "code",
   "execution_count": 73,
   "id": "89d038aa",
   "metadata": {},
   "outputs": [
    {
     "name": "stderr",
     "output_type": "stream",
     "text": [
      "                                                                                \r"
     ]
    },
    {
     "data": {
      "text/html": [
       "<div>\n",
       "<style scoped>\n",
       "    .dataframe tbody tr th:only-of-type {\n",
       "        vertical-align: middle;\n",
       "    }\n",
       "\n",
       "    .dataframe tbody tr th {\n",
       "        vertical-align: top;\n",
       "    }\n",
       "\n",
       "    .dataframe thead th {\n",
       "        text-align: right;\n",
       "    }\n",
       "</style>\n",
       "<table border=\"1\" class=\"dataframe\">\n",
       "  <thead>\n",
       "    <tr style=\"text-align: right;\">\n",
       "      <th></th>\n",
       "      <th>Entidad_Norm</th>\n",
       "      <th>C_DNM_UD_ORGANICA</th>\n",
       "      <th>N_NIVEL_JERARQUICO</th>\n",
       "    </tr>\n",
       "  </thead>\n",
       "  <tbody>\n",
       "    <tr>\n",
       "      <th>0</th>\n",
       "      <td>universidad politecnica de cartagena</td>\n",
       "      <td>Universidad Politécnica de Cartagena</td>\n",
       "      <td>1</td>\n",
       "    </tr>\n",
       "    <tr>\n",
       "      <th>1</th>\n",
       "      <td>universidad politecnica de cartagena</td>\n",
       "      <td>Universidad Politécnica de Cataluña</td>\n",
       "      <td>1</td>\n",
       "    </tr>\n",
       "    <tr>\n",
       "      <th>2</th>\n",
       "      <td>instituto valenciano de investigaciones agrarias</td>\n",
       "      <td>Instituto Canario de Investigaciones Agrarias</td>\n",
       "      <td>3</td>\n",
       "    </tr>\n",
       "    <tr>\n",
       "      <th>3</th>\n",
       "      <td>instituto valenciano de investigaciones agrarias</td>\n",
       "      <td>Instituto Valenciano de Investigaciones Agrarias (IVIA)</td>\n",
       "      <td>3</td>\n",
       "    </tr>\n",
       "  </tbody>\n",
       "</table>\n",
       "</div>"
      ],
      "text/plain": [
       "                                       Entidad_Norm  \\\n",
       "0              universidad politecnica de cartagena   \n",
       "1              universidad politecnica de cartagena   \n",
       "2  instituto valenciano de investigaciones agrarias   \n",
       "3  instituto valenciano de investigaciones agrarias   \n",
       "\n",
       "                                         C_DNM_UD_ORGANICA N_NIVEL_JERARQUICO  \n",
       "0                     Universidad Politécnica de Cartagena                  1  \n",
       "1                      Universidad Politécnica de Cataluña                  1  \n",
       "2            Instituto Canario de Investigaciones Agrarias                  3  \n",
       "3  Instituto Valenciano de Investigaciones Agrarias (IVIA)                  3  "
      ]
     },
     "execution_count": 73,
     "metadata": {},
     "output_type": "execute_result"
    }
   ],
   "source": [
    "duplicated2.toPandas()[[\"Entidad_Norm\",\"C_DNM_UD_ORGANICA\", \"N_NIVEL_JERARQUICO\"]]"
   ]
  },
  {
   "cell_type": "code",
   "execution_count": 69,
   "id": "bc0060ea",
   "metadata": {},
   "outputs": [
    {
     "name": "stderr",
     "output_type": "stream",
     "text": [
      "                                                                                \r"
     ]
    },
    {
     "data": {
      "text/html": [
       "<div>\n",
       "<style scoped>\n",
       "    .dataframe tbody tr th:only-of-type {\n",
       "        vertical-align: middle;\n",
       "    }\n",
       "\n",
       "    .dataframe tbody tr th {\n",
       "        vertical-align: top;\n",
       "    }\n",
       "\n",
       "    .dataframe thead th {\n",
       "        text-align: right;\n",
       "    }\n",
       "</style>\n",
       "<table border=\"1\" class=\"dataframe\">\n",
       "  <thead>\n",
       "    <tr style=\"text-align: right;\">\n",
       "      <th></th>\n",
       "      <th>Entidad_Norm</th>\n",
       "      <th>C_DNM_UD_ORGANICA</th>\n",
       "      <th>N_NIVEL_JERARQUICO</th>\n",
       "    </tr>\n",
       "  </thead>\n",
       "  <tbody>\n",
       "    <tr>\n",
       "      <th>0</th>\n",
       "      <td>universidad de valladolid</td>\n",
       "      <td>Universidad de Valladolid</td>\n",
       "      <td>1</td>\n",
       "    </tr>\n",
       "    <tr>\n",
       "      <th>1</th>\n",
       "      <td>universidad de valladolid</td>\n",
       "      <td>Museo de la Universidad de Valladolid</td>\n",
       "      <td>2</td>\n",
       "    </tr>\n",
       "  </tbody>\n",
       "</table>\n",
       "</div>"
      ],
      "text/plain": [
       "                Entidad_Norm                      C_DNM_UD_ORGANICA  \\\n",
       "0  universidad de valladolid              Universidad de Valladolid   \n",
       "1  universidad de valladolid  Museo de la Universidad de Valladolid   \n",
       "\n",
       "  N_NIVEL_JERARQUICO  \n",
       "0                  1  \n",
       "1                  2  "
      ]
     },
     "execution_count": 69,
     "metadata": {},
     "output_type": "execute_result"
    }
   ],
   "source": [
    "duplicated1.toPandas()[[\"Entidad_Norm\",\"C_DNM_UD_ORGANICA\", \"N_NIVEL_JERARQUICO\"]]"
   ]
  },
  {
   "cell_type": "code",
   "execution_count": 70,
   "id": "d12cf280",
   "metadata": {},
   "outputs": [
    {
     "data": {
      "text/html": [
       "<div>\n",
       "<style scoped>\n",
       "    .dataframe tbody tr th:only-of-type {\n",
       "        vertical-align: middle;\n",
       "    }\n",
       "\n",
       "    .dataframe tbody tr th {\n",
       "        vertical-align: top;\n",
       "    }\n",
       "\n",
       "    .dataframe thead th {\n",
       "        text-align: right;\n",
       "    }\n",
       "</style>\n",
       "<table border=\"1\" class=\"dataframe\">\n",
       "  <thead>\n",
       "    <tr style=\"text-align: right;\">\n",
       "      <th></th>\n",
       "      <th>Entidad_Norm</th>\n",
       "      <th>C_DNM_UD_ORGANICA</th>\n",
       "      <th>N_NIVEL_JERARQUICO</th>\n",
       "    </tr>\n",
       "  </thead>\n",
       "  <tbody>\n",
       "    <tr>\n",
       "      <th>0</th>\n",
       "      <td>instituto valenciano de investigaciones agrarias</td>\n",
       "      <td>Instituto Canario de Investigaciones Agrarias</td>\n",
       "      <td>3</td>\n",
       "    </tr>\n",
       "    <tr>\n",
       "      <th>1</th>\n",
       "      <td>instituto valenciano de investigaciones agrarias</td>\n",
       "      <td>Instituto Valenciano de Investigaciones Agrarias (IVIA)</td>\n",
       "      <td>3</td>\n",
       "    </tr>\n",
       "    <tr>\n",
       "      <th>2</th>\n",
       "      <td>universidad de valladolid</td>\n",
       "      <td>Museo de la Universidad de Valladolid</td>\n",
       "      <td>2</td>\n",
       "    </tr>\n",
       "    <tr>\n",
       "      <th>3</th>\n",
       "      <td>universidad de valladolid</td>\n",
       "      <td>Universidad de Valladolid</td>\n",
       "      <td>1</td>\n",
       "    </tr>\n",
       "    <tr>\n",
       "      <th>4</th>\n",
       "      <td>universidad politecnica de cartagena</td>\n",
       "      <td>Universidad Politécnica de Cartagena</td>\n",
       "      <td>1</td>\n",
       "    </tr>\n",
       "    <tr>\n",
       "      <th>5</th>\n",
       "      <td>universidad politecnica de cartagena</td>\n",
       "      <td>Universidad Politécnica de Cataluña</td>\n",
       "      <td>1</td>\n",
       "    </tr>\n",
       "  </tbody>\n",
       "</table>\n",
       "</div>"
      ],
      "text/plain": [
       "                                       Entidad_Norm  \\\n",
       "0  instituto valenciano de investigaciones agrarias   \n",
       "1  instituto valenciano de investigaciones agrarias   \n",
       "2                         universidad de valladolid   \n",
       "3                         universidad de valladolid   \n",
       "4              universidad politecnica de cartagena   \n",
       "5              universidad politecnica de cartagena   \n",
       "\n",
       "                                         C_DNM_UD_ORGANICA N_NIVEL_JERARQUICO  \n",
       "0            Instituto Canario de Investigaciones Agrarias                  3  \n",
       "1  Instituto Valenciano de Investigaciones Agrarias (IVIA)                  3  \n",
       "2                    Museo de la Universidad de Valladolid                  2  \n",
       "3                                Universidad de Valladolid                  1  \n",
       "4                     Universidad Politécnica de Cartagena                  1  \n",
       "5                      Universidad Politécnica de Cataluña                  1  "
      ]
     },
     "execution_count": 70,
     "metadata": {},
     "output_type": "execute_result"
    }
   ],
   "source": [
    "duplicated.toPandas()[[\"Entidad_Norm\",\"C_DNM_UD_ORGANICA\", \"N_NIVEL_JERARQUICO\"]]"
   ]
  },
  {
   "cell_type": "code",
   "execution_count": null,
   "id": "2a5383a4",
   "metadata": {},
   "outputs": [],
   "source": []
  },
  {
   "cell_type": "code",
   "execution_count": null,
   "id": "edf5db8c",
   "metadata": {},
   "outputs": [],
   "source": []
  },
  {
   "cell_type": "code",
   "execution_count": null,
   "id": "49f10b88",
   "metadata": {},
   "outputs": [],
   "source": []
  },
  {
   "cell_type": "code",
   "execution_count": null,
   "id": "55cf4116",
   "metadata": {},
   "outputs": [],
   "source": []
  },
  {
   "cell_type": "code",
   "execution_count": null,
   "id": "58647c2b",
   "metadata": {},
   "outputs": [],
   "source": []
  },
  {
   "cell_type": "code",
   "execution_count": null,
   "id": "e599add7",
   "metadata": {},
   "outputs": [],
   "source": []
  },
  {
   "cell_type": "code",
   "execution_count": null,
   "id": "22c9ee80",
   "metadata": {},
   "outputs": [],
   "source": []
  },
  {
   "cell_type": "code",
   "execution_count": null,
   "id": "2007cd40",
   "metadata": {},
   "outputs": [],
   "source": []
  },
  {
   "cell_type": "code",
   "execution_count": null,
   "id": "ead66430",
   "metadata": {},
   "outputs": [],
   "source": []
  },
  {
   "cell_type": "code",
   "execution_count": 45,
   "id": "cce5aa25",
   "metadata": {},
   "outputs": [],
   "source": [
    "Nombre_Intermedio_proceso_dir3_entidades = Nombre_Intermedio_cruce2_invente.join(l,\n",
    "                                      Nombre_Intermedio_cruce2_invente.Entidad_Norm ==  l.Entidad_Norm,\"left\")                                 \n"
   ]
  },
  {
   "cell_type": "code",
   "execution_count": 47,
   "id": "b745cea1",
   "metadata": {},
   "outputs": [
    {
     "name": "stdout",
     "output_type": "stream",
     "text": [
      "root\n",
      " |-- Id: integer (nullable = true)\n",
      " |-- CIF: string (nullable = true)\n",
      " |-- Entidad_Norm: string (nullable = true)\n",
      " |-- Provincia_Entidad: string (nullable = true)\n",
      " |-- ID_ENTIDAD: string (nullable = true)\n",
      " |-- NIF_COD: string (nullable = true)\n",
      " |-- ACRONIMO: string (nullable = true)\n",
      " |-- NOMBRE_ENTIDAD: string (nullable = true)\n",
      " |-- Nombre_Entidad_Mostrar: string (nullable = true)\n",
      " |-- TIPO_ENTIDAD_N1_1: string (nullable = true)\n",
      " |-- TIPO_ENTIDAD_N2_1: string (nullable = true)\n",
      " |-- DIRECCION_POSTAL: string (nullable = true)\n",
      " |-- COD_POSTAL: string (nullable = true)\n",
      " |-- COD_PROVINCIA: string (nullable = true)\n",
      " |-- PROVINCIA: string (nullable = true)\n",
      " |-- COD_CCAA: string (nullable = true)\n",
      " |-- CCAA: string (nullable = true)\n",
      " |-- ENLACE_WEB: string (nullable = true)\n",
      " |-- SOMMA: string (nullable = true)\n",
      " |-- TIPO_ENTIDAD_REGIONAL: string (nullable = true)\n",
      " |-- ESTADO_x: string (nullable = true)\n",
      " |-- CodigoInvente: string (nullable = true)\n",
      " |-- DenominacionSocial: string (nullable = true)\n",
      " |-- FormaJuridica_Codigo: string (nullable = true)\n",
      " |-- FormaJuridica_Descripcion: string (nullable = true)\n",
      " |-- NIF: string (nullable = true)\n",
      " |-- codigoDir3: string (nullable = true)\n",
      " |-- codigoOrigen: string (nullable = true)\n",
      " |-- Provincia_Codigo: string (nullable = true)\n",
      " |-- C_ID_UD_ORGANICA: string (nullable = true)\n",
      " |-- C_DNM_UD_ORGANICA: string (nullable = true)\n",
      " |-- C_ID_NIVEL_ADMON: string (nullable = true)\n",
      " |-- C_ID_TIPO_ENT_PUBLICA: string (nullable = true)\n",
      " |-- N_NIVEL_JERARQUICO: string (nullable = true)\n",
      " |-- C_ID_DEP_UD_SUPERIOR: string (nullable = true)\n",
      " |-- C_DNM_UD_ORGANICA_SUPERIOR: string (nullable = true)\n",
      " |-- C_ID_DEP_UD_PRINCIPAL: string (nullable = true)\n",
      " |-- C_DNM_UD_ORGANICA_PRINCIPAL: string (nullable = true)\n",
      " |-- B_SW_DEP_EDP_PRINCIPAL: string (nullable = true)\n",
      " |-- C_ID_DEP_EDP_PRINCIPAL: string (nullable = true)\n",
      " |-- C_DNM_UD_ORGANICA_EDP_PRINCIPAL: string (nullable = true)\n",
      " |-- C_ID_ESTADO: string (nullable = true)\n",
      " |-- D_VIG_ALTA_OFICIAL: string (nullable = true)\n",
      " |-- NIF_CIF: string (nullable = true)\n",
      " |-- C_ID_AMB_PROVINCIA: string (nullable = true)\n",
      " |-- C_DESC_PROV: string (nullable = true)\n",
      " |-- CONTACTOS: string (nullable = true)\n",
      " |-- List_Entidad_Norm: string (nullable = true)\n",
      " |-- List_Provincia_Entidad: string (nullable = true)\n",
      " |-- List_CIF: string (nullable = true)\n",
      " |-- Similitud_invente: string (nullable = true)\n",
      " |-- source_name: string (nullable = true)\n",
      " |-- target_name: string (nullable = true)\n",
      " |-- Entidad_Norm: string (nullable = true)\n",
      " |-- Unnamed: 0: string (nullable = true)\n",
      " |-- C_ID_UD_ORGANICA: string (nullable = true)\n",
      " |-- C_DNM_UD_ORGANICA: string (nullable = true)\n",
      " |-- C_ID_NIVEL_ADMON: string (nullable = true)\n",
      " |-- C_ID_TIPO_ENT_PUBLICA: string (nullable = true)\n",
      " |-- N_NIVEL_JERARQUICO: string (nullable = true)\n",
      " |-- C_ID_DEP_UD_SUPERIOR: string (nullable = true)\n",
      " |-- C_DNM_UD_ORGANICA_SUPERIOR: string (nullable = true)\n",
      " |-- C_ID_DEP_UD_PRINCIPAL: string (nullable = true)\n",
      " |-- C_DNM_UD_ORGANICA_PRINCIPAL: string (nullable = true)\n",
      " |-- B_SW_DEP_EDP_PRINCIPAL: string (nullable = true)\n",
      " |-- C_ID_DEP_EDP_PRINCIPAL: string (nullable = true)\n",
      " |-- C_DNM_UD_ORGANICA_EDP_PRINCIPAL: string (nullable = true)\n",
      " |-- C_ID_ESTADO: string (nullable = true)\n",
      " |-- D_VIG_ALTA_OFICIAL: string (nullable = true)\n",
      " |-- NIF_CIF: string (nullable = true)\n",
      " |-- C_ID_AMB_PROVINCIA: string (nullable = true)\n",
      " |-- C_DESC_PROV: string (nullable = true)\n",
      " |-- CONTACTOS: string (nullable = true)\n",
      " |-- C_DNM_UD_ORGANICA_Norm: string (nullable = true)\n",
      " |-- source_names_stopwords: string (nullable = true)\n",
      " |-- target_names_stopwords: string (nullable = true)\n",
      " |-- final_score: float (nullable = true)\n",
      "\n"
     ]
    }
   ],
   "source": [
    "Nombre_Intermedio_proceso_dir3_entidades.printSchema()"
   ]
  },
  {
   "cell_type": "code",
   "execution_count": null,
   "id": "14fea0e9",
   "metadata": {},
   "outputs": [],
   "source": []
  },
  {
   "cell_type": "code",
   "execution_count": null,
   "id": "fae910ae",
   "metadata": {},
   "outputs": [],
   "source": []
  },
  {
   "cell_type": "code",
   "execution_count": 44,
   "id": "2fbb408c",
   "metadata": {},
   "outputs": [
    {
     "name": "stderr",
     "output_type": "stream",
     "text": [
      "                                                                                \r"
     ]
    },
    {
     "data": {
      "text/html": [
       "<div>\n",
       "<style scoped>\n",
       "    .dataframe tbody tr th:only-of-type {\n",
       "        vertical-align: middle;\n",
       "    }\n",
       "\n",
       "    .dataframe tbody tr th {\n",
       "        vertical-align: top;\n",
       "    }\n",
       "\n",
       "    .dataframe thead th {\n",
       "        text-align: right;\n",
       "    }\n",
       "</style>\n",
       "<table border=\"1\" class=\"dataframe\">\n",
       "  <thead>\n",
       "    <tr style=\"text-align: right;\">\n",
       "      <th></th>\n",
       "      <th>Entidad_Norm</th>\n",
       "      <th>C_DNM_UD_ORGANICA_Norm</th>\n",
       "      <th>N_NIVEL_JERARQUICO</th>\n",
       "      <th>C_DNM_UD_ORGANICA_SUPERIOR</th>\n",
       "    </tr>\n",
       "  </thead>\n",
       "  <tbody>\n",
       "    <tr>\n",
       "      <th>0</th>\n",
       "      <td>centro de investigaciones energeticas medioambientales y tecnologicas o a m p</td>\n",
       "      <td>centro de investigaciones energeticas medioambientales y tecnologicas</td>\n",
       "      <td>3</td>\n",
       "      <td>Secretaría General de Investigación</td>\n",
       "    </tr>\n",
       "    <tr>\n",
       "      <th>1</th>\n",
       "      <td>consorcio barcelona supercomputing center centro nacional de supercomputacion</td>\n",
       "      <td>consorcio barcelona supercomputing center centro nacional de supercomputacion</td>\n",
       "      <td>5</td>\n",
       "      <td>S.G. de Grandes Instalaciones Cientifico-Tecnicas</td>\n",
       "    </tr>\n",
       "    <tr>\n",
       "      <th>2</th>\n",
       "      <td>consorcio centro de investigacion biomedica en red m p</td>\n",
       "      <td>consorcio centro de investigacion biomedica en red</td>\n",
       "      <td>4</td>\n",
       "      <td>Instituto de Salud Carlos III</td>\n",
       "    </tr>\n",
       "    <tr>\n",
       "      <th>3</th>\n",
       "      <td>escuela universitaria de relaciones laborales</td>\n",
       "      <td>escuela universitaria de relaciones laborales de zamora</td>\n",
       "      <td>2</td>\n",
       "      <td>Diputación Provincial de Zamora</td>\n",
       "    </tr>\n",
       "    <tr>\n",
       "      <th>4</th>\n",
       "      <td>fundacio privada centre de regulacio genomica</td>\n",
       "      <td>fundacio centre de regulacio genomica</td>\n",
       "      <td>2</td>\n",
       "      <td>Ministerio de Ciencia e Innovación</td>\n",
       "    </tr>\n",
       "    <tr>\n",
       "      <th>5</th>\n",
       "      <td>fundacion parque cientifico y tecnologico de castilla la mancha</td>\n",
       "      <td>fundacion parque cientifico y tecnologico de castilla la mancha</td>\n",
       "      <td>4</td>\n",
       "      <td>Secretaria General Educacion, Cultura y Deportes</td>\n",
       "    </tr>\n",
       "    <tr>\n",
       "      <th>6</th>\n",
       "      <td>instituto aragones de ciencias de la salud</td>\n",
       "      <td>instituto aragones de ciencias de la salud</td>\n",
       "      <td>3</td>\n",
       "      <td>Departamento de Sanidad</td>\n",
       "    </tr>\n",
       "    <tr>\n",
       "      <th>7</th>\n",
       "      <td>instituto nacional de tecnica aeroespacial esteban terradas</td>\n",
       "      <td>instituto nacional de tecnica aeroespacial esteban terradas inta</td>\n",
       "      <td>3</td>\n",
       "      <td>S. de E. de Defensa</td>\n",
       "    </tr>\n",
       "    <tr>\n",
       "      <th>8</th>\n",
       "      <td>instituto valenciano de investigaciones agrarias</td>\n",
       "      <td>instituto canario de investigaciones agrarias</td>\n",
       "      <td>3</td>\n",
       "      <td>Consejería de Agricultura, Ganadería y Pesca</td>\n",
       "    </tr>\n",
       "    <tr>\n",
       "      <th>9</th>\n",
       "      <td>instituto valenciano de investigaciones agrarias</td>\n",
       "      <td>instituto valenciano de investigaciones agrarias ivia</td>\n",
       "      <td>3</td>\n",
       "      <td>Conselleria de Agricultura, Desarrollo Rural, Emergencia Climática y Transición Ecológica</td>\n",
       "    </tr>\n",
       "    <tr>\n",
       "      <th>10</th>\n",
       "      <td>universidad autonoma de madrid</td>\n",
       "      <td>universidad autonoma de madrid</td>\n",
       "      <td>1</td>\n",
       "      <td>Universidades</td>\n",
       "    </tr>\n",
       "    <tr>\n",
       "      <th>11</th>\n",
       "      <td>universidad carlos iii de madrid</td>\n",
       "      <td>universidad carlos iii de madrid</td>\n",
       "      <td>1</td>\n",
       "      <td>Universidades</td>\n",
       "    </tr>\n",
       "    <tr>\n",
       "      <th>12</th>\n",
       "      <td>universidad complutense de madrid</td>\n",
       "      <td>universidad complutense de madrid</td>\n",
       "      <td>1</td>\n",
       "      <td>Universidades</td>\n",
       "    </tr>\n",
       "    <tr>\n",
       "      <th>13</th>\n",
       "      <td>universidad de alicante</td>\n",
       "      <td>universidad de alicante</td>\n",
       "      <td>1</td>\n",
       "      <td>Universidades</td>\n",
       "    </tr>\n",
       "    <tr>\n",
       "      <th>14</th>\n",
       "      <td>universidad de burgos</td>\n",
       "      <td>universidad de burgos</td>\n",
       "      <td>1</td>\n",
       "      <td>Universidades</td>\n",
       "    </tr>\n",
       "    <tr>\n",
       "      <th>15</th>\n",
       "      <td>universidad de castilla la mancha</td>\n",
       "      <td>universidad de castilla la mancha</td>\n",
       "      <td>1</td>\n",
       "      <td>Universidades</td>\n",
       "    </tr>\n",
       "    <tr>\n",
       "      <th>16</th>\n",
       "      <td>universidad de cordoba</td>\n",
       "      <td>universidad de cordoba</td>\n",
       "      <td>1</td>\n",
       "      <td>Universidades</td>\n",
       "    </tr>\n",
       "    <tr>\n",
       "      <th>17</th>\n",
       "      <td>universidad de granada</td>\n",
       "      <td>universidad de granada</td>\n",
       "      <td>1</td>\n",
       "      <td>Universidades</td>\n",
       "    </tr>\n",
       "    <tr>\n",
       "      <th>18</th>\n",
       "      <td>universidad de huelva</td>\n",
       "      <td>universidad de huelva</td>\n",
       "      <td>1</td>\n",
       "      <td>Universidades</td>\n",
       "    </tr>\n",
       "    <tr>\n",
       "      <th>19</th>\n",
       "      <td>universidad de la laguna</td>\n",
       "      <td>universidad de la laguna</td>\n",
       "      <td>1</td>\n",
       "      <td>Universidades</td>\n",
       "    </tr>\n",
       "    <tr>\n",
       "      <th>20</th>\n",
       "      <td>universidad de malaga</td>\n",
       "      <td>universidad de malaga</td>\n",
       "      <td>1</td>\n",
       "      <td>Universidades</td>\n",
       "    </tr>\n",
       "    <tr>\n",
       "      <th>21</th>\n",
       "      <td>universidad de oviedo</td>\n",
       "      <td>universidad de oviedo</td>\n",
       "      <td>1</td>\n",
       "      <td>Universidades</td>\n",
       "    </tr>\n",
       "    <tr>\n",
       "      <th>22</th>\n",
       "      <td>universidad de salamanca</td>\n",
       "      <td>universidad de salamanca</td>\n",
       "      <td>1</td>\n",
       "      <td>Universidades</td>\n",
       "    </tr>\n",
       "    <tr>\n",
       "      <th>23</th>\n",
       "      <td>universidad de sevilla</td>\n",
       "      <td>universidad de sevilla</td>\n",
       "      <td>1</td>\n",
       "      <td>Universidades</td>\n",
       "    </tr>\n",
       "    <tr>\n",
       "      <th>24</th>\n",
       "      <td>universidad de valladolid</td>\n",
       "      <td>museo de la universidad de valladolid</td>\n",
       "      <td>2</td>\n",
       "      <td>Universidad de Valladolid</td>\n",
       "    </tr>\n",
       "    <tr>\n",
       "      <th>25</th>\n",
       "      <td>universidad de valladolid</td>\n",
       "      <td>universidad de valladolid</td>\n",
       "      <td>1</td>\n",
       "      <td>Universidades</td>\n",
       "    </tr>\n",
       "    <tr>\n",
       "      <th>26</th>\n",
       "      <td>universidad de zaragoza</td>\n",
       "      <td>universidad de zaragoza</td>\n",
       "      <td>1</td>\n",
       "      <td>Universidades</td>\n",
       "    </tr>\n",
       "    <tr>\n",
       "      <th>27</th>\n",
       "      <td>universidad pablo de olavide</td>\n",
       "      <td>universidad pablo de olavide</td>\n",
       "      <td>1</td>\n",
       "      <td>Universidades</td>\n",
       "    </tr>\n",
       "    <tr>\n",
       "      <th>28</th>\n",
       "      <td>universidad politecnica de cartagena</td>\n",
       "      <td>universidad politecnica de cartagena</td>\n",
       "      <td>1</td>\n",
       "      <td>Universidades</td>\n",
       "    </tr>\n",
       "    <tr>\n",
       "      <th>29</th>\n",
       "      <td>universidad politecnica de cartagena</td>\n",
       "      <td>universidad politecnica de cataluna</td>\n",
       "      <td>1</td>\n",
       "      <td>Universidades</td>\n",
       "    </tr>\n",
       "    <tr>\n",
       "      <th>30</th>\n",
       "      <td>universidad politecnica de madrid</td>\n",
       "      <td>universidad politecnica de madrid</td>\n",
       "      <td>1</td>\n",
       "      <td>Universidades</td>\n",
       "    </tr>\n",
       "    <tr>\n",
       "      <th>31</th>\n",
       "      <td>universidad publica de navarra</td>\n",
       "      <td>universidad publica de navarra</td>\n",
       "      <td>1</td>\n",
       "      <td>Universidades</td>\n",
       "    </tr>\n",
       "    <tr>\n",
       "      <th>32</th>\n",
       "      <td>universidad rey juan carlos</td>\n",
       "      <td>universidad rey juan carlos</td>\n",
       "      <td>1</td>\n",
       "      <td>Universidades</td>\n",
       "    </tr>\n",
       "    <tr>\n",
       "      <th>33</th>\n",
       "      <td>universitat autonoma de barcelona</td>\n",
       "      <td>universidad autonoma de barcelona uab</td>\n",
       "      <td>1</td>\n",
       "      <td>Universidades</td>\n",
       "    </tr>\n",
       "    <tr>\n",
       "      <th>34</th>\n",
       "      <td>universitat de girona</td>\n",
       "      <td>universidad de girona</td>\n",
       "      <td>1</td>\n",
       "      <td>Universidades</td>\n",
       "    </tr>\n",
       "    <tr>\n",
       "      <th>35</th>\n",
       "      <td>universitat politecnica de valencia</td>\n",
       "      <td>universitat politecnica de valencia</td>\n",
       "      <td>1</td>\n",
       "      <td>Universidades</td>\n",
       "    </tr>\n",
       "  </tbody>\n",
       "</table>\n",
       "</div>"
      ],
      "text/plain": [
       "                                                                     Entidad_Norm  \\\n",
       "0   centro de investigaciones energeticas medioambientales y tecnologicas o a m p   \n",
       "1   consorcio barcelona supercomputing center centro nacional de supercomputacion   \n",
       "2                          consorcio centro de investigacion biomedica en red m p   \n",
       "3                                   escuela universitaria de relaciones laborales   \n",
       "4                                   fundacio privada centre de regulacio genomica   \n",
       "5                 fundacion parque cientifico y tecnologico de castilla la mancha   \n",
       "6                                      instituto aragones de ciencias de la salud   \n",
       "7                     instituto nacional de tecnica aeroespacial esteban terradas   \n",
       "8                                instituto valenciano de investigaciones agrarias   \n",
       "9                                instituto valenciano de investigaciones agrarias   \n",
       "10                                                 universidad autonoma de madrid   \n",
       "11                                               universidad carlos iii de madrid   \n",
       "12                                              universidad complutense de madrid   \n",
       "13                                                        universidad de alicante   \n",
       "14                                                          universidad de burgos   \n",
       "15                                              universidad de castilla la mancha   \n",
       "16                                                         universidad de cordoba   \n",
       "17                                                         universidad de granada   \n",
       "18                                                          universidad de huelva   \n",
       "19                                                       universidad de la laguna   \n",
       "20                                                          universidad de malaga   \n",
       "21                                                          universidad de oviedo   \n",
       "22                                                       universidad de salamanca   \n",
       "23                                                         universidad de sevilla   \n",
       "24                                                      universidad de valladolid   \n",
       "25                                                      universidad de valladolid   \n",
       "26                                                        universidad de zaragoza   \n",
       "27                                                   universidad pablo de olavide   \n",
       "28                                           universidad politecnica de cartagena   \n",
       "29                                           universidad politecnica de cartagena   \n",
       "30                                              universidad politecnica de madrid   \n",
       "31                                                 universidad publica de navarra   \n",
       "32                                                    universidad rey juan carlos   \n",
       "33                                              universitat autonoma de barcelona   \n",
       "34                                                          universitat de girona   \n",
       "35                                            universitat politecnica de valencia   \n",
       "\n",
       "                                                           C_DNM_UD_ORGANICA_Norm  \\\n",
       "0           centro de investigaciones energeticas medioambientales y tecnologicas   \n",
       "1   consorcio barcelona supercomputing center centro nacional de supercomputacion   \n",
       "2                              consorcio centro de investigacion biomedica en red   \n",
       "3                         escuela universitaria de relaciones laborales de zamora   \n",
       "4                                           fundacio centre de regulacio genomica   \n",
       "5                 fundacion parque cientifico y tecnologico de castilla la mancha   \n",
       "6                                      instituto aragones de ciencias de la salud   \n",
       "7                instituto nacional de tecnica aeroespacial esteban terradas inta   \n",
       "8                                   instituto canario de investigaciones agrarias   \n",
       "9                           instituto valenciano de investigaciones agrarias ivia   \n",
       "10                                                 universidad autonoma de madrid   \n",
       "11                                               universidad carlos iii de madrid   \n",
       "12                                              universidad complutense de madrid   \n",
       "13                                                        universidad de alicante   \n",
       "14                                                          universidad de burgos   \n",
       "15                                              universidad de castilla la mancha   \n",
       "16                                                         universidad de cordoba   \n",
       "17                                                         universidad de granada   \n",
       "18                                                          universidad de huelva   \n",
       "19                                                       universidad de la laguna   \n",
       "20                                                          universidad de malaga   \n",
       "21                                                          universidad de oviedo   \n",
       "22                                                       universidad de salamanca   \n",
       "23                                                         universidad de sevilla   \n",
       "24                                          museo de la universidad de valladolid   \n",
       "25                                                      universidad de valladolid   \n",
       "26                                                        universidad de zaragoza   \n",
       "27                                                   universidad pablo de olavide   \n",
       "28                                           universidad politecnica de cartagena   \n",
       "29                                            universidad politecnica de cataluna   \n",
       "30                                              universidad politecnica de madrid   \n",
       "31                                                 universidad publica de navarra   \n",
       "32                                                    universidad rey juan carlos   \n",
       "33                                          universidad autonoma de barcelona uab   \n",
       "34                                                          universidad de girona   \n",
       "35                                            universitat politecnica de valencia   \n",
       "\n",
       "   N_NIVEL_JERARQUICO  \\\n",
       "0                   3   \n",
       "1                   5   \n",
       "2                   4   \n",
       "3                   2   \n",
       "4                   2   \n",
       "5                   4   \n",
       "6                   3   \n",
       "7                   3   \n",
       "8                   3   \n",
       "9                   3   \n",
       "10                  1   \n",
       "11                  1   \n",
       "12                  1   \n",
       "13                  1   \n",
       "14                  1   \n",
       "15                  1   \n",
       "16                  1   \n",
       "17                  1   \n",
       "18                  1   \n",
       "19                  1   \n",
       "20                  1   \n",
       "21                  1   \n",
       "22                  1   \n",
       "23                  1   \n",
       "24                  2   \n",
       "25                  1   \n",
       "26                  1   \n",
       "27                  1   \n",
       "28                  1   \n",
       "29                  1   \n",
       "30                  1   \n",
       "31                  1   \n",
       "32                  1   \n",
       "33                  1   \n",
       "34                  1   \n",
       "35                  1   \n",
       "\n",
       "                                                                   C_DNM_UD_ORGANICA_SUPERIOR  \n",
       "0                                                         Secretaría General de Investigación  \n",
       "1                                           S.G. de Grandes Instalaciones Cientifico-Tecnicas  \n",
       "2                                                               Instituto de Salud Carlos III  \n",
       "3                                                             Diputación Provincial de Zamora  \n",
       "4                                                          Ministerio de Ciencia e Innovación  \n",
       "5                                            Secretaria General Educacion, Cultura y Deportes  \n",
       "6                                                                     Departamento de Sanidad  \n",
       "7                                                                         S. de E. de Defensa  \n",
       "8                                                Consejería de Agricultura, Ganadería y Pesca  \n",
       "9   Conselleria de Agricultura, Desarrollo Rural, Emergencia Climática y Transición Ecológica  \n",
       "10                                                                              Universidades  \n",
       "11                                                                              Universidades  \n",
       "12                                                                              Universidades  \n",
       "13                                                                              Universidades  \n",
       "14                                                                              Universidades  \n",
       "15                                                                              Universidades  \n",
       "16                                                                              Universidades  \n",
       "17                                                                              Universidades  \n",
       "18                                                                              Universidades  \n",
       "19                                                                              Universidades  \n",
       "20                                                                              Universidades  \n",
       "21                                                                              Universidades  \n",
       "22                                                                              Universidades  \n",
       "23                                                                              Universidades  \n",
       "24                                                                  Universidad de Valladolid  \n",
       "25                                                                              Universidades  \n",
       "26                                                                              Universidades  \n",
       "27                                                                              Universidades  \n",
       "28                                                                              Universidades  \n",
       "29                                                                              Universidades  \n",
       "30                                                                              Universidades  \n",
       "31                                                                              Universidades  \n",
       "32                                                                              Universidades  \n",
       "33                                                                              Universidades  \n",
       "34                                                                              Universidades  \n",
       "35                                                                              Universidades  "
      ]
     },
     "execution_count": 44,
     "metadata": {},
     "output_type": "execute_result"
    }
   ],
   "source": [
    "l.select(\"Entidad_Norm\", \"C_DNM_UD_ORGANICA_Norm\", \"N_NIVEL_JERARQUICO\",\"C_DNM_UD_ORGANICA_SUPERIOR\")\\\n",
    "                .dropDuplicates(subset = ['Entidad_Norm', \"C_DNM_UD_ORGANICA_Norm\"]).toPandas()\n",
    "\n",
    "\n",
    "\n",
    "\n"
   ]
  },
  {
   "cell_type": "code",
   "execution_count": 43,
   "id": "1a47367f",
   "metadata": {},
   "outputs": [
    {
     "data": {
      "text/plain": [
       "68001"
      ]
     },
     "execution_count": 43,
     "metadata": {},
     "output_type": "execute_result"
    }
   ],
   "source": [
    "Nombre_Input_dir3.count()"
   ]
  },
  {
   "cell_type": "code",
   "execution_count": null,
   "id": "529c1499",
   "metadata": {},
   "outputs": [],
   "source": [
    "DIR3_concatenado_AGE_CCAA_EELL_Universidades"
   ]
  },
  {
   "cell_type": "code",
   "execution_count": null,
   "id": "d016d1e9",
   "metadata": {},
   "outputs": [],
   "source": []
  },
  {
   "cell_type": "code",
   "execution_count": null,
   "id": "8ba336d2",
   "metadata": {},
   "outputs": [],
   "source": []
  },
  {
   "cell_type": "code",
   "execution_count": null,
   "id": "844d410e",
   "metadata": {},
   "outputs": [],
   "source": []
  },
  {
   "cell_type": "code",
   "execution_count": null,
   "id": "75625c82",
   "metadata": {},
   "outputs": [],
   "source": []
  },
  {
   "cell_type": "code",
   "execution_count": null,
   "id": "b0a3c114",
   "metadata": {},
   "outputs": [],
   "source": []
  },
  {
   "cell_type": "code",
   "execution_count": 41,
   "id": "00cda616",
   "metadata": {},
   "outputs": [
    {
     "name": "stdout",
     "output_type": "stream",
     "text": [
      "22/07/31 07:18:23 WARN WindowExec: No Partition Defined for Window operation! Moving all data to a single partition, this can cause serious performance degradation.\n",
      "22/07/31 07:18:23 WARN WindowExec: No Partition Defined for Window operation! Moving all data to a single partition, this can cause serious performance degradation.\n",
      "22/07/31 07:18:23 WARN WindowExec: No Partition Defined for Window operation! Moving all data to a single partition, this can cause serious performance degradation.\n",
      "22/07/31 07:18:23 WARN WindowExec: No Partition Defined for Window operation! Moving all data to a single partition, this can cause serious performance degradation.\n",
      "22/07/31 07:18:23 WARN WindowExec: No Partition Defined for Window operation! Moving all data to a single partition, this can cause serious performance degradation.\n",
      "22/07/31 07:18:23 WARN WindowExec: No Partition Defined for Window operation! Moving all data to a single partition, this can cause serious performance degradation.\n",
      "22/07/31 07:18:23 WARN WindowExec: No Partition Defined for Window operation! Moving all data to a single partition, this can cause serious performance degradation.\n",
      "22/07/31 07:18:23 WARN WindowExec: No Partition Defined for Window operation! Moving all data to a single partition, this can cause serious performance degradation.\n"
     ]
    },
    {
     "name": "stderr",
     "output_type": "stream",
     "text": [
      "                                                                                \r"
     ]
    },
    {
     "name": "stdout",
     "output_type": "stream",
     "text": [
      "22/07/31 07:18:28 WARN WindowExec: No Partition Defined for Window operation! Moving all data to a single partition, this can cause serious performance degradation.\n",
      "22/07/31 07:18:28 WARN WindowExec: No Partition Defined for Window operation! Moving all data to a single partition, this can cause serious performance degradation.\n",
      "22/07/31 07:18:28 WARN WindowExec: No Partition Defined for Window operation! Moving all data to a single partition, this can cause serious performance degradation.\n",
      "22/07/31 07:18:28 WARN WindowExec: No Partition Defined for Window operation! Moving all data to a single partition, this can cause serious performance degradation.\n",
      "22/07/31 07:18:28 WARN WindowExec: No Partition Defined for Window operation! Moving all data to a single partition, this can cause serious performance degradation.\n",
      "22/07/31 07:18:28 WARN WindowExec: No Partition Defined for Window operation! Moving all data to a single partition, this can cause serious performance degradation.\n",
      "22/07/31 07:18:28 WARN WindowExec: No Partition Defined for Window operation! Moving all data to a single partition, this can cause serious performance degradation.\n",
      "22/07/31 07:18:28 WARN WindowExec: No Partition Defined for Window operation! Moving all data to a single partition, this can cause serious performance degradation.\n",
      "22/07/31 07:18:28 WARN WindowExec: No Partition Defined for Window operation! Moving all data to a single partition, this can cause serious performance degradation.\n",
      "22/07/31 07:18:28 WARN WindowExec: No Partition Defined for Window operation! Moving all data to a single partition, this can cause serious performance degradation.\n",
      "22/07/31 07:18:28 WARN WindowExec: No Partition Defined for Window operation! Moving all data to a single partition, this can cause serious performance degradation.\n",
      "22/07/31 07:18:28 WARN WindowExec: No Partition Defined for Window operation! Moving all data to a single partition, this can cause serious performance degradation.\n",
      "22/07/31 07:18:28 WARN WindowExec: No Partition Defined for Window operation! Moving all data to a single partition, this can cause serious performance degradation.\n",
      "22/07/31 07:18:28 WARN WindowExec: No Partition Defined for Window operation! Moving all data to a single partition, this can cause serious performance degradation.\n",
      "22/07/31 07:18:28 WARN WindowExec: No Partition Defined for Window operation! Moving all data to a single partition, this can cause serious performance degradation.\n",
      "22/07/31 07:18:28 WARN WindowExec: No Partition Defined for Window operation! Moving all data to a single partition, this can cause serious performance degradation.\n",
      "22/07/31 07:18:28 WARN WindowExec: No Partition Defined for Window operation! Moving all data to a single partition, this can cause serious performance degradation.\n",
      "22/07/31 07:18:28 WARN WindowExec: No Partition Defined for Window operation! Moving all data to a single partition, this can cause serious performance degradation.\n",
      "22/07/31 07:18:28 WARN WindowExec: No Partition Defined for Window operation! Moving all data to a single partition, this can cause serious performance degradation.\n",
      "22/07/31 07:18:28 WARN WindowExec: No Partition Defined for Window operation! Moving all data to a single partition, this can cause serious performance degradation.\n",
      "22/07/31 07:18:28 WARN WindowExec: No Partition Defined for Window operation! Moving all data to a single partition, this can cause serious performance degradation.\n",
      "22/07/31 07:18:28 WARN WindowExec: No Partition Defined for Window operation! Moving all data to a single partition, this can cause serious performance degradation.\n",
      "22/07/31 07:18:28 WARN WindowExec: No Partition Defined for Window operation! Moving all data to a single partition, this can cause serious performance degradation.\n",
      "22/07/31 07:18:28 WARN WindowExec: No Partition Defined for Window operation! Moving all data to a single partition, this can cause serious performance degradation.\n",
      "22/07/31 07:18:28 WARN WindowExec: No Partition Defined for Window operation! Moving all data to a single partition, this can cause serious performance degradation.\n",
      "22/07/31 07:18:28 WARN WindowExec: No Partition Defined for Window operation! Moving all data to a single partition, this can cause serious performance degradation.\n"
     ]
    },
    {
     "name": "stderr",
     "output_type": "stream",
     "text": [
      "\r",
      "[Stage 38:==============================================>         (10 + 2) / 12]\r"
     ]
    },
    {
     "name": "stdout",
     "output_type": "stream",
     "text": [
      "22/07/31 07:18:29 WARN WindowExec: No Partition Defined for Window operation! Moving all data to a single partition, this can cause serious performance degradation.\n",
      "22/07/31 07:18:29 WARN WindowExec: No Partition Defined for Window operation! Moving all data to a single partition, this can cause serious performance degradation.\n",
      "22/07/31 07:18:29 WARN WindowExec: No Partition Defined for Window operation! Moving all data to a single partition, this can cause serious performance degradation.\n",
      "22/07/31 07:18:29 WARN WindowExec: No Partition Defined for Window operation! Moving all data to a single partition, this can cause serious performance degradation.\n",
      "22/07/31 07:18:29 WARN WindowExec: No Partition Defined for Window operation! Moving all data to a single partition, this can cause serious performance degradation.\n",
      "22/07/31 07:18:29 WARN WindowExec: No Partition Defined for Window operation! Moving all data to a single partition, this can cause serious performance degradation.\n",
      "22/07/31 07:18:29 WARN WindowExec: No Partition Defined for Window operation! Moving all data to a single partition, this can cause serious performance degradation.\n",
      "22/07/31 07:18:29 WARN WindowExec: No Partition Defined for Window operation! Moving all data to a single partition, this can cause serious performance degradation.\n",
      "22/07/31 07:18:29 WARN WindowExec: No Partition Defined for Window operation! Moving all data to a single partition, this can cause serious performance degradation.\n",
      "22/07/31 07:18:29 WARN WindowExec: No Partition Defined for Window operation! Moving all data to a single partition, this can cause serious performance degradation.\n"
     ]
    },
    {
     "name": "stderr",
     "output_type": "stream",
     "text": [
      "                                                                                \r"
     ]
    },
    {
     "data": {
      "text/plain": [
       "727"
      ]
     },
     "execution_count": 41,
     "metadata": {},
     "output_type": "execute_result"
    }
   ],
   "source": [
    "Nombre_Intermedio_cruce2_invente.count()"
   ]
  },
  {
   "cell_type": "code",
   "execution_count": null,
   "id": "4866803a",
   "metadata": {},
   "outputs": [],
   "source": []
  },
  {
   "cell_type": "code",
   "execution_count": null,
   "id": "30626864",
   "metadata": {},
   "outputs": [],
   "source": []
  },
  {
   "cell_type": "code",
   "execution_count": 1,
   "id": "7aa0afd3",
   "metadata": {},
   "outputs": [],
   "source": [
    "from elasticsearch import Elasticsearch\n",
    "from pyspark.sql.types import FloatType, StructField, StringType, StructType\n",
    "from tqdm import tqdm\n",
    "import pandas as pd\n",
    "import numpy as np\n",
    "from nltk.tokenize import word_tokenize\n",
    "import re\n",
    "import nltk\n",
    "import textdistance\n",
    "from pyspark.ml.feature import StopWordsRemover\n",
    "from pyspark.sql import functions as F\n",
    "import unidecode"
   ]
  },
  {
   "cell_type": "code",
   "execution_count": 8,
   "id": "3fb21149",
   "metadata": {},
   "outputs": [],
   "source": [
    "#Nombre_Input_entidades = pd.read_csv(\"DATA_SIC_ENTIDADES_PUBLICAS_AYUDAS_ESP.csv\", sep=\";\")\n",
    "Nombre_Input_relaciones = pd.read_csv(\"DATA_RELACION_ENTIDADES_MAESTRO.csv\", sep=\";\").head(1000)\n",
    "Nombre_Input_investigadores = pd.read_csv(\"DATA_SIC_AYUDA_ESP_UO_PB_J_MAESTRO.csv\", sep=\";\").head(1000)"
   ]
  },
  {
   "cell_type": "code",
   "execution_count": 10,
   "id": "ff3fbdfd",
   "metadata": {},
   "outputs": [],
   "source": [
    "def index_es(df,target_names_column,index_name):\n",
    "    '''\n",
    "    inputs:\n",
    "        df : pd.DataFrame object containing the two columns source names and target names\n",
    "        target_names : type: str, represents the the target names column\n",
    "        index_name : type: str, represents the index of elastic search object\n",
    "    output:\n",
    "        return elasticsearch object indexed, and initialized with target names\n",
    "    \n",
    "    '''\n",
    "\n",
    "    target_names = [str(name).lower() for name in list(df[target_names_column])]\n",
    "    es = Elasticsearch()\n",
    "    \n",
    "    for i in list(es.indices.get_alias(\"*\").items()):\n",
    "        es.indices.delete(index=list(i)[0])\n",
    "    \n",
    "    es.indices.delete(index='test-index', ignore=[400, 404])\n",
    "    \n",
    "    \n",
    "    i=0\n",
    "    for name in tqdm(target_names):\n",
    "        doc = {'entity':name}\n",
    "        es.index(index=index_name, id=i, document=doc)\n",
    "        i+=1    \n",
    "    return es"
   ]
  },
  {
   "cell_type": "code",
   "execution_count": 62,
   "id": "74fa0fcf",
   "metadata": {},
   "outputs": [],
   "source": [
    "def format_results(results, columnsDf1):\n",
    "    names_source = []\n",
    "    names_target = []\n",
    "    # cities_source=[]\n",
    "    # cities_target=[]\n",
    "    # mun_source=[]\n",
    "    # mun_target=[]\n",
    "    # countries_source=[]\n",
    "    # countries_target=[]\n",
    "    listCol = [[]]*len(columnsDf1)\n",
    "    for i in results:\n",
    "        source_name = results[i]['source_name']\n",
    "        columns = [results[i][name] for name in columnsDf1]\n",
    "        \n",
    "        for k in range(len(columnsDf1)):\n",
    "            listCol[k].append(columns[k])\n",
    "        \n",
    "        # source_city = results[i]['source_city']\n",
    "        # source_mun = results[i]['source_municipality']\n",
    "        # source_country = results[i]['source_country']\n",
    "        for element in results[i]['matching_names_by_elasticsearch']:\n",
    "            target_name = element[1]\n",
    "            # target_city = element[2]\n",
    "            # target_mun = element[3]\n",
    "            # target_country = element[4]\n",
    "            names_source.append(source_name)\n",
    "            \n",
    "            colResult = [col for col in columns]\n",
    "            # cities_source.append(source_city)\n",
    "            # mun_source.append(source_mun)\n",
    "            # countries_source.append(source_country)\n",
    "            names_target.append(target_name)\n",
    "\n",
    "                \n",
    "            # cities_target.append(target_city)\n",
    "            # mun_target.append(target_mun)\n",
    "            # countries_target.append(target_country)\n",
    "            \n",
    "            \n",
    "    prev = {'source_name':names_source,'target_name':names_target}        \n",
    "    \n",
    "    for l in range(len(columnsDf1)):\n",
    "        prev[columnsDf1[l]]=listCol[l]\n",
    "       \n",
    "            \n",
    "#     result = pd.DataFrame(prev)\n",
    "            \n",
    "    return prev"
   ]
  },
  {
   "cell_type": "code",
   "execution_count": 22,
   "id": "6b701bf1",
   "metadata": {},
   "outputs": [],
   "source": [
    "def format_results(results):\n",
    "    names_source = []\n",
    "    names_target = []\n",
    "    # cities_source=[]\n",
    "    # cities_target=[]\n",
    "    # mun_source=[]\n",
    "    # mun_target=[]\n",
    "    # countries_source=[]\n",
    "    # countries_target=[]\n",
    "    col = []\n",
    "    for i in results:\n",
    "        source_name = results[i]['source_name']\n",
    "        print(results[i])\n",
    "        test = results[i]['Id_NIVEL_1']\n",
    "        # source_city = results[i]['source_city']\n",
    "        # source_mun = results[i]['source_municipality']\n",
    "        # source_country = results[i]['source_country']\n",
    "        for element in results[i]['matching_names_by_elasticsearch']:\n",
    "            target_name = element[1]\n",
    "            # target_city = element[2]\n",
    "            # target_mun = element[3]\n",
    "            # target_country = element[4]\n",
    "            names_source.append(source_name)\n",
    "            col.append(test)\n",
    "            # cities_source.append(source_city)\n",
    "            # mun_source.append(source_mun)\n",
    "            # countries_source.append(source_country)\n",
    "            names_target.append(target_name)\n",
    "            \n",
    "            # cities_target.append(target_city)\n",
    "            # mun_target.append(target_mun)\n",
    "            # countries_target.append(target_country)\n",
    "            \n",
    "            \n",
    "    prev = {'source_name':names_source,'target_name':names_target\n",
    "                        }   \n",
    "    \n",
    "\n",
    "            \n",
    "    result = pd.DataFrame()\n",
    "            \n",
    "    return result"
   ]
  },
  {
   "cell_type": "code",
   "execution_count": 63,
   "id": "ce0a4415",
   "metadata": {},
   "outputs": [],
   "source": [
    "def get_matching_entities_by_elasticSearch(#syn_cities,\n",
    "                                           #cities,\n",
    "                                           df1,\n",
    "                                           source_names_column,\n",
    "                                           columnsDf1,\n",
    "                                        #    city_column_source,\n",
    "                                        #    municipality_column_source,\n",
    "                                        #    country_column_source,\n",
    "                                           df2,\n",
    "                                           target_names_column,\n",
    "                                        #    city_column_target,                                          \n",
    "                                        #    municipality_column_target,                                           \n",
    "                                        #    country_column_target,\n",
    "                                           index_name\n",
    "                                        #    name_weight=0.93283582,city_weight=0.06716418,\n",
    "                                        #    mun_weight=0.0,country_weight=0.0\n",
    "                                           ):\n",
    "    '''\n",
    "    inputs:\n",
    "        df : pd.DataFrame object containing the two columns source names and target names\n",
    "        source_names : type: str, represents the the source names column\n",
    "        index_name : type: str, represents the index of elastic search object\n",
    "        size: type: int , number of targets to extract by elasticseasource_pd_altas_nuevas['source_municipality'] = source_pd_altas_nuevas['source_municipality'].astype('Int64')rch, default is 20,\n",
    "                max for this paremeter is 10 000 \n",
    "    output:\n",
    "        return dict object results\n",
    "    '''\n",
    "    es = index_es(df2,target_names_column,index_name)\n",
    "\n",
    "    source_names = list(df1[source_names_column])\n",
    "    sources=[list(df1[name]) for name in columnsDf1 ]\n",
    "    \n",
    "\n",
    "#    cities_target=list(df2[city_column_target])\n",
    "\n",
    "\n",
    "    # mun_source=list(df1[municipality_column_source])\n",
    "#    mun_target=list(df2[municipality_column_target])\n",
    "\n",
    "    # countries_source=list(df1[country_column_source])\n",
    "#    countries_target=list(df2[country_column_target])\n",
    "    \n",
    "    source_idx=0\n",
    "    results = {}\n",
    "\n",
    "    for entity_i in tqdm(source_names):\n",
    "\n",
    "        matching_entities = []\n",
    "        query = {\"from\": 0,\n",
    "                 \"size\": 10,\n",
    "                 \"query\": {\"match\": {\"entity\":{'query':entity_i,'fuzziness':'AUTO'}}},\n",
    "                 \"sort\":[{'_score':{'order':'desc'}}]}\n",
    "        resp = es.search(index=index_name, body=query)\n",
    "\n",
    "        for element in resp['hits']['hits']:\n",
    "\n",
    "            target_idx = int(element['_id'])\n",
    "            entity_j = element['_source']['entity']\n",
    "            matching_entities.append((target_idx,entity_j))            \n",
    "#            matching_entities.append((target_idx,entity_j,cities_target[target_idx],mun_target[target_idx],countries_target[target_idx]))\n",
    "            \n",
    "            Prev = {'source_name':entity_i,'matching_names_by_elasticsearch':matching_entities}\n",
    "\n",
    "            for i in range(len(columnsDf1)):\n",
    "                   Prev[columnsDf1[i]]=sources[i]\n",
    "                \n",
    "        \n",
    "  \n",
    "\n",
    "            results[source_idx] = Prev\n",
    "\n",
    "        source_idx +=1\n",
    "\n",
    "    return format_results(results, columnsDf1)\n",
    "#     results = format_results(results, columnsDf1)\n",
    "\n",
    "    \n",
    "#     return results\n"
   ]
  },
  {
   "cell_type": "code",
   "execution_count": null,
   "id": "f33605a7",
   "metadata": {},
   "outputs": [],
   "source": []
  },
  {
   "cell_type": "code",
   "execution_count": null,
   "id": "4f660236",
   "metadata": {},
   "outputs": [],
   "source": []
  },
  {
   "cell_type": "code",
   "execution_count": 56,
   "id": "0c0c5b34",
   "metadata": {},
   "outputs": [
    {
     "data": {
      "text/plain": [
       "53     INSTITUTO MAIMONIDES DE INVESTIGACION BIOMEDIC...\n",
       "246    INSTITUTO MAIMONIDES DE INVESTIGACION BIOMEDIC...\n",
       "354    INSTITUTO MAIMONIDES DE INVESTIGACION BIOMEDIC...\n",
       "Name: NOMBRE_ENTIDAD_NIVEL_1, dtype: object"
      ]
     },
     "execution_count": 56,
     "metadata": {},
     "output_type": "execute_result"
    }
   ],
   "source": [
    "Nombre_Input_relaciones[Nombre_Input_relaciones[\"Id_NIVEL_1\"]==730][\"NOMBRE_ENTIDAD_NIVEL_1\"]"
   ]
  },
  {
   "cell_type": "code",
   "execution_count": 64,
   "id": "23cd5175",
   "metadata": {},
   "outputs": [
    {
     "name": "stderr",
     "output_type": "stream",
     "text": [
      "/var/folders/fy/cjds5kvd3692g8__1nlvytj00000gn/T/ipykernel_38530/3692108162.py:15: DeprecationWarning: Using positional arguments for APIs is deprecated and will be disabled in 8.0.0. Instead use only keyword arguments for all APIs. See https://github.com/elastic/elasticsearch-py/issues/1698 for more information\n",
      "  for i in list(es.indices.get_alias(\"*\").items()):\n",
      "100%|██████████████████████████████████████| 1000/1000 [00:01<00:00, 912.48it/s]\n",
      "  0%|                                                  | 0/1000 [00:00<?, ?it/s]/var/folders/fy/cjds5kvd3692g8__1nlvytj00000gn/T/ipykernel_38530/2887801158.py:53: DeprecationWarning: The 'body' parameter is deprecated for the 'search' API and will be removed in a future version. Instead use API parameters directly. See https://github.com/elastic/elasticsearch-py/issues/1698 for more information\n",
      "  resp = es.search(index=index_name, body=query)\n",
      "100%|██████████████████████████████████████| 1000/1000 [00:03<00:00, 281.71it/s]\n"
     ]
    }
   ],
   "source": [
    "d = get_matching_entities_by_elasticSearch(\n",
    "    Nombre_Input_relaciones,\n",
    "    \"NOMBRE_ENTIDAD_NIVEL_1\",\n",
    "    [\"Id_NIVEL_1\", \"Id_NIVEL_0\"],\n",
    "    Nombre_Input_investigadores,\n",
    "    \"Centro_Norm\",\n",
    "    \"index_name\")"
   ]
  },
  {
   "cell_type": "code",
   "execution_count": null,
   "id": "6ea64c59",
   "metadata": {},
   "outputs": [],
   "source": []
  },
  {
   "cell_type": "code",
   "execution_count": 65,
   "id": "080d8af1",
   "metadata": {},
   "outputs": [
    {
     "data": {
      "text/plain": [
       "dict_keys(['source_name', 'target_name', 'Id_NIVEL_1', 'Id_NIVEL_0'])"
      ]
     },
     "execution_count": 65,
     "metadata": {},
     "output_type": "execute_result"
    }
   ],
   "source": [
    "d.keys()"
   ]
  },
  {
   "cell_type": "code",
   "execution_count": 66,
   "id": "e9715da0",
   "metadata": {},
   "outputs": [
    {
     "data": {
      "text/plain": [
       "5693"
      ]
     },
     "execution_count": 66,
     "metadata": {},
     "output_type": "execute_result"
    }
   ],
   "source": [
    "len(d['source_name'])"
   ]
  },
  {
   "cell_type": "code",
   "execution_count": 67,
   "id": "c9ad8fa3",
   "metadata": {},
   "outputs": [
    {
     "data": {
      "text/plain": [
       "5693"
      ]
     },
     "execution_count": 67,
     "metadata": {},
     "output_type": "execute_result"
    }
   ],
   "source": [
    "len(d['target_name'])"
   ]
  },
  {
   "cell_type": "code",
   "execution_count": 68,
   "id": "a1a208c6",
   "metadata": {},
   "outputs": [
    {
     "data": {
      "text/plain": [
       "1158"
      ]
     },
     "execution_count": 68,
     "metadata": {},
     "output_type": "execute_result"
    }
   ],
   "source": [
    "len(d['Id_NIVEL_1'])"
   ]
  },
  {
   "cell_type": "code",
   "execution_count": 69,
   "id": "bfc31822",
   "metadata": {},
   "outputs": [
    {
     "data": {
      "text/plain": [
       "1158"
      ]
     },
     "execution_count": 69,
     "metadata": {},
     "output_type": "execute_result"
    }
   ],
   "source": [
    "len(d['Id_NIVEL_0'])"
   ]
  },
  {
   "cell_type": "code",
   "execution_count": null,
   "id": "a63b5636",
   "metadata": {},
   "outputs": [],
   "source": []
  },
  {
   "cell_type": "code",
   "execution_count": 76,
   "id": "24530ae7",
   "metadata": {
    "scrolled": true
   },
   "outputs": [
    {
     "name": "stdout",
     "output_type": "stream",
     "text": [
      "root\n",
      " |-- CodigoInvente: string (nullable = true)\n",
      " |-- DenominacionSocial: string (nullable = true)\n",
      " |-- FormaJuridica_Codigo: string (nullable = true)\n",
      " |-- FormaJuridica_Descripcion: string (nullable = true)\n",
      " |-- NIF: string (nullable = true)\n",
      " |-- codigoDir3: string (nullable = true)\n",
      " |-- codigoOrigen6: string (nullable = true)\n",
      " |-- CodigoInvente.1: string (nullable = true)\n",
      " |-- EjerceControl: string (nullable = true)\n",
      " |-- DenominacionSocial.1: string (nullable = true)\n",
      " |-- FechaAlta: string (nullable = true)\n",
      " |-- Adscripcion_Codigo: string (nullable = true)\n",
      " |-- Adscripcion_Descripcion: string (nullable = true)\n",
      " |-- Observaciones: string (nullable = true)\n",
      " |-- CodigoOrigen14: string (nullable = true)\n",
      " |-- CausaDeAlta_Codigo: string (nullable = true)\n",
      " |-- CausaDeAlta_Descripcion: string (nullable = true)\n",
      " |-- FormaJuridica_Codigo.1: string (nullable = true)\n",
      " |-- FormaJuridica_Descripcion.1: string (nullable = true)\n",
      " |-- RegimenContable_Codigo: string (nullable = true)\n",
      " |-- RegimenContable_Descripcion: string (nullable = true)\n",
      " |-- RegimenControl_Codigo: string (nullable = true)\n",
      " |-- RegimenControl_Descripcion: string (nullable = true)\n",
      " |-- RegimenPresupuestario_Codigo: string (nullable = true)\n",
      " |-- RegimenPresupuestario_Descripcion: string (nullable = true)\n",
      " |-- ClasificacionCN_Codigo: string (nullable = true)\n",
      " |-- ClasificacionCN_Descripcion: string (nullable = true)\n",
      " |-- CondicionMedioPropio: string (nullable = true)\n",
      " |-- ClasificacionEntidad: string (nullable = true)\n",
      " |-- Direccion: string (nullable = true)\n",
      " |-- Localidad: string (nullable = true)\n",
      " |-- Provincia_Codigo: string (nullable = true)\n",
      " |-- Provincia_Descripcion: string (nullable = true)\n",
      " |-- CodigoPostal: string (nullable = true)\n",
      " |-- Telefono: string (nullable = true)\n",
      " |-- SitioWeb: string (nullable = true)\n",
      " |-- eMail: string (nullable = true)\n",
      " |-- Denominacion: string (nullable = true)\n",
      " |-- Codigo: string (nullable = true)\n",
      " |-- PorcentajeParticipacion: string (nullable = true)\n",
      " |-- PorcentajeVoto: string (nullable = true)\n",
      " |-- Actividad_Situacion_Codigo: string (nullable = true)\n",
      " |-- Actividad_Situacion_Descripcion: string (nullable = true)\n",
      " |-- Actividad_Sector_Codigo: string (nullable = true)\n",
      " |-- Actividad_Sector_Descripcion: string (nullable = true)\n",
      " |-- ObjetoSocial: string (nullable = true)\n",
      " |-- Codigo.1: string (nullable = true)\n",
      " |-- Denominacion.1: string (nullable = true)\n",
      " |-- Venta_Bienes_DentroSP_Administracion: string (nullable = true)\n",
      " |-- Venta_Bienes_Dentro_SP_Otras: string (nullable = true)\n",
      " |-- Venta_Bienes_DentroSP_EntidadesSPI: string (nullable = true)\n",
      " |-- Venta_Bienes_SectorPrivado: string (nullable = true)\n",
      " |-- Transf_Subvenciones_Administracion: string (nullable = true)\n",
      " |-- Transf_Subvenciones_Otras: string (nullable = true)\n",
      " |-- Transf_Subvenciones_SPI: string (nullable = true)\n",
      " |-- Transf_Subvenciones_UnionEuropea: string (nullable = true)\n",
      " |-- Otros_Ingresos: string (nullable = true)\n",
      " |-- Denominacion.2: string (nullable = true)\n",
      " |-- FuenteAlta: string (nullable = true)\n",
      " |-- InformacionFuenteAlta: string (nullable = true)\n",
      " |-- AltaDesde: string (nullable = true)\n",
      " |-- FechaVersion: string (nullable = true)\n",
      " |-- Disponible: string (nullable = true)\n",
      " |-- FechaBaja: string (nullable = true)\n",
      "\n"
     ]
    }
   ],
   "source": [
    "Nombre_Input_invente.printSchema()"
   ]
  },
  {
   "cell_type": "code",
   "execution_count": null,
   "id": "d8149c01",
   "metadata": {},
   "outputs": [],
   "source": []
  },
  {
   "cell_type": "code",
   "execution_count": null,
   "id": "59db4c3f",
   "metadata": {},
   "outputs": [],
   "source": []
  },
  {
   "cell_type": "code",
   "execution_count": null,
   "id": "25973dd2",
   "metadata": {},
   "outputs": [],
   "source": []
  },
  {
   "cell_type": "code",
   "execution_count": null,
   "id": "8c900b21",
   "metadata": {},
   "outputs": [],
   "source": []
  },
  {
   "cell_type": "code",
   "execution_count": null,
   "id": "8a12fdd2",
   "metadata": {},
   "outputs": [],
   "source": []
  },
  {
   "cell_type": "code",
   "execution_count": null,
   "id": "9d4f4cd0",
   "metadata": {},
   "outputs": [],
   "source": []
  },
  {
   "cell_type": "code",
   "execution_count": null,
   "id": "3ff9ae90",
   "metadata": {},
   "outputs": [],
   "source": []
  },
  {
   "cell_type": "code",
   "execution_count": null,
   "id": "6e25619d",
   "metadata": {},
   "outputs": [],
   "source": []
  },
  {
   "cell_type": "code",
   "execution_count": null,
   "id": "aad2ea36",
   "metadata": {},
   "outputs": [],
   "source": []
  },
  {
   "cell_type": "code",
   "execution_count": null,
   "id": "c07817a3",
   "metadata": {},
   "outputs": [],
   "source": []
  },
  {
   "cell_type": "code",
   "execution_count": null,
   "id": "1e0c4497",
   "metadata": {},
   "outputs": [],
   "source": []
  },
  {
   "cell_type": "code",
   "execution_count": null,
   "id": "829d8a58",
   "metadata": {},
   "outputs": [],
   "source": []
  },
  {
   "cell_type": "code",
   "execution_count": null,
   "id": "57a25643",
   "metadata": {},
   "outputs": [],
   "source": []
  },
  {
   "cell_type": "code",
   "execution_count": 88,
   "id": "00c3e62c",
   "metadata": {},
   "outputs": [],
   "source": [
    "import pandas as pd\n",
    "dfe = pd.read_csv('DATA_IGAE_INVENTE.csv', on_bad_lines='skip', sep = ',')"
   ]
  },
  {
   "cell_type": "code",
   "execution_count": 90,
   "id": "bb6fdd6a",
   "metadata": {},
   "outputs": [],
   "source": [
    "dfe.to_csv('DATA_IGAE_INVENTE.csv', sep = ';', index = False)"
   ]
  },
  {
   "cell_type": "code",
   "execution_count": 89,
   "id": "76204fc3",
   "metadata": {},
   "outputs": [
    {
     "data": {
      "text/plain": [
       "Index(['CodigoInvente', 'DenominacionSocial', 'FormaJuridica_Codigo',\n",
       "       'FormaJuridica_Descripcion', 'NIF', 'codigoDir3', 'codigoOrigen',\n",
       "       'CodigoInvente.1', 'EjerceControl', 'FechaAlta', 'Adscripcion_Codigo',\n",
       "       'Adscripcion_Descripcion', 'Observaciones', 'CodigoOrigen',\n",
       "       'CausaDeAlta_Codigo', 'CausaDeAlta_Descripcion',\n",
       "       'FormaJuridica_Codigo.1', 'FormaJuridica_Descripcion.1',\n",
       "       'RegimenContable_Codigo', 'RegimenContable_Descripcion',\n",
       "       'RegimenControl_Codigo', 'RegimenControl_Descripcion',\n",
       "       'RegimenPresupuestario_Codigo', 'RegimenPresupuestario_Descripcion',\n",
       "       'ClasificacionCN_Codigo', 'ClasificacionCN_Descripcion',\n",
       "       'CondicionMedioPropio', 'ClasificacionEntidad', 'Direccion',\n",
       "       'Localidad', 'Provincia_Codigo', 'Provincia_Descripcion',\n",
       "       'CodigoPostal', 'Telefono', 'SitioWeb', 'eMail', 'Denominacion',\n",
       "       'Codigo', 'PorcentajeParticipacion', 'PorcentajeVoto',\n",
       "       'Actividad_Situacion_Codigo', 'Actividad_Situacion_Descripcion',\n",
       "       'Actividad_Sector_Codigo', 'Actividad_Sector_Descripcion',\n",
       "       'ObjetoSocial', 'Codigo.1', 'Denominacion.1',\n",
       "       'Venta_Bienes_DentroSP_Administracion', 'Venta_Bienes_Dentro_SP_Otras',\n",
       "       'Venta_Bienes_DentroSP_EntidadesSPI', 'Venta_Bienes_SectorPrivado',\n",
       "       'Transf_Subvenciones_Administracion', 'Transf_Subvenciones_Otras',\n",
       "       'Transf_Subvenciones_SPI', 'Transf_Subvenciones_UnionEuropea',\n",
       "       'Otros_Ingresos', 'Denominacion.2', 'FuenteAlta',\n",
       "       'InformacionFuenteAlta', 'AltaDesde', 'FechaVersion', 'Disponible',\n",
       "       'FechaBaja'],\n",
       "      dtype='object')"
      ]
     },
     "execution_count": 89,
     "metadata": {},
     "output_type": "execute_result"
    }
   ],
   "source": [
    "dfe.columns"
   ]
  },
  {
   "cell_type": "code",
   "execution_count": 47,
   "id": "2b16a414",
   "metadata": {},
   "outputs": [
    {
     "data": {
      "text/html": [
       "<div>\n",
       "<style scoped>\n",
       "    .dataframe tbody tr th:only-of-type {\n",
       "        vertical-align: middle;\n",
       "    }\n",
       "\n",
       "    .dataframe tbody tr th {\n",
       "        vertical-align: top;\n",
       "    }\n",
       "\n",
       "    .dataframe thead th {\n",
       "        text-align: right;\n",
       "    }\n",
       "</style>\n",
       "<table border=\"1\" class=\"dataframe\">\n",
       "  <thead>\n",
       "    <tr style=\"text-align: right;\">\n",
       "      <th></th>\n",
       "      <th></th>\n",
       "      <th></th>\n",
       "      <th></th>\n",
       "      <th></th>\n",
       "      <th></th>\n",
       "      <th></th>\n",
       "      <th></th>\n",
       "      <th></th>\n",
       "      <th>CodigoInvente;DenominacionSocial;FormaJuridica_Codigo;FormaJuridica_Descripcion;NIF;codigoDir3;codigoOrigen;CodigoInvente.1;EjerceControl;DenominacionSocial.1;FechaAlta;Adscripcion_Codigo;Adscripcion_Descripcion;Observaciones;CodigoOrigen;CodigoDIR3;CausaDeAlta_Codigo;CausaDeAlta_Descripcion;FormaJuridica_Codigo.1;FormaJuridica_Descripcion.1;RegimenContable_Codigo;RegimenContable_Descripcion;RegimenControl_Codigo;RegimenControl_Descripcion;RegimenPresupuestario_Codigo;RegimenPresupuestario_Descripcion;ClasificacionCN_Codigo;ClasificacionCN_Descripcion;CondicionMedioPropio;ClasificacionEntidad;Direccion;Localidad;Provincia_Codigo;Provincia_Descripcion;CodigoPostal;Telefono;SitioWeb;eMail;Denominacion;Codigo;PorcentajeParticipacion;PorcentajeVoto;Actividad_Situacion_Codigo;Actividad_Situacion_Descripcion;Actividad_Sector_Codigo;Actividad_Sector_Descripcion;ObjetoSocial;Codigo.1;Denominacion.1;Venta_Bienes_DentroSP_Administracion;Venta_Bienes_Dentro_SP_Otras;Venta_Bienes_DentroSP_EntidadesSPI;Venta_Bienes_SectorPrivado;Transf_Subvenciones_Administracion;Transf_Subvenciones_Otras;Transf_Subvenciones_SPI;Transf_Subvenciones_UnionEuropea;Otros_Ingresos;Denominacion.2;FuenteAlta;InformacionFuenteAlta;AltaDesde;FechaVersion;Disponible;FechaBaja</th>\n",
       "    </tr>\n",
       "  </thead>\n",
       "  <tbody>\n",
       "    <tr>\n",
       "      <th>INV00000002;1908 Puerto de Motril</th>\n",
       "      <th>A.I.E.;12;Sociedad mercantil ;V18862987;;0100000XP172;INV00000002;Administración Central;1908 Puerto de Motril</th>\n",
       "      <th>A.I.E.;2008-05-16T00:00:00;0;Varias administraciones públicas;soporte documental ESCRITURA nº 280 de 27 de febrero de 2008 (RM 16/05/2008);;;2;Incorporación al SPI;12;Sociedad mercantil ;2;Privado;3;Auditoría de cuentas;2;Estimativo;5;S.11001 Sociedades no financieras Públicas: Administración Central;;;Recinto Portuario  El Varadero</th>\n",
       "      <th>s/n                                                                             ;Motril                                                                                                                                                                                                                                                    ;18;Granada;18613;958601207;https://www.apmotril.com/motrilport                                                                                                                                                                                                                       ;jmartin@motrilport.com                                                                                                                                                                                                                                    ;Empresa Provincial de Vivienda</th>\n",
       "      <th>Suelo y Equipamiento de Granada</th>\n",
       "      <th>S.A.;INV00005446;29</th>\n",
       "      <th>41;29</th>\n",
       "      <th>41;1;Con actividad económica;2;Empresarial;Gestión y promoción de los intereses comunes de los sectores logístico-portuario y turístico-marítimo  del Puerto  de Motril</th>\n",
       "      <th>para integrar las sinergias cómo clave de éxito</th>\n",
       "      <td>coordinar la prestación de servicios para mej...</td>\n",
       "    </tr>\n",
       "    <tr>\n",
       "      <th>INV00000004;A.I. Abra Industrial</th>\n",
       "      <th>S.A. Sociedad Mercantil Estatal;12;Sociedad mercantil ;A48021349;EA0023191;1097NF;INV00000004;Administración Central;A.I. Abra Industrial</th>\n",
       "      <th>S.A. Sociedad Mercantil Estatal;1998-07-21T00:00:00;31;Ministerio de Hacienda y Función Pública;\"La Sociedad tiene su origen en la constitución con fecha 30 de enero de 1954</th>\n",
       "      <th>de la sociedad española de Minas de Somorrostro</th>\n",
       "      <th>S.A.</th>\n",
       "      <th>procediendo al cambio de denominación social</th>\n",
       "      <th>con fecha 26 de febrero de 1996</th>\n",
       "      <th>a A.I. Abra Industrial</th>\n",
       "      <th>S.A.</th>\n",
       "      <td>NaN</td>\n",
       "    </tr>\n",
       "    <tr>\n",
       "      <th>Con fecha 16 de enero de 2017</th>\n",
       "      <th>se inscribe en el Registro la modificación de la denominación social según lo dispuesto en el artículo 111.2 de la Ley 40/2015</th>\n",
       "      <th>de 1 de octubre</th>\n",
       "      <th>de Régimen Jurídico del Sector Público</th>\n",
       "      <th>incluyendo en su denominación “Sociedad Mercantil Estatal”.</th>\n",
       "      <th>NaN</th>\n",
       "      <th>NaN</th>\n",
       "      <th>NaN</th>\n",
       "      <th>NaN</th>\n",
       "      <td>NaN</td>\n",
       "    </tr>\n",
       "    <tr>\n",
       "      <th>La actividad principal de la Sociedad se enmarca en el proyecto de promover el desarrollo de actuaciones industriales</th>\n",
       "      <th>tecnológicas y de servicios en los terrenos situados en la zona minera de Bodavalle</th>\n",
       "      <th>recuperando los espacios naturales deteriorados por la acción minera ejercida sobre ellos en años anteriores. En la actualidad no existe la actividad minera</th>\n",
       "      <th>actividad principal por la cual se constituyó la sociedad.</th>\n",
       "      <th>NaN</th>\n",
       "      <th>NaN</th>\n",
       "      <th>NaN</th>\n",
       "      <th>NaN</th>\n",
       "      <th>NaN</th>\n",
       "      <td>NaN</td>\n",
       "    </tr>\n",
       "    <tr>\n",
       "      <th>- La urbanización</th>\n",
       "      <th>acondicionamiento</th>\n",
       "      <th>planeamiento</th>\n",
       "      <th>parcelación y reparcelación de terrenos</th>\n",
       "      <th>así como la gestión y la realización de obras y actuaciones precisas para ello.</th>\n",
       "      <th>NaN</th>\n",
       "      <th>NaN</th>\n",
       "      <th>NaN</th>\n",
       "      <th>NaN</th>\n",
       "      <td>NaN</td>\n",
       "    </tr>\n",
       "    <tr>\n",
       "      <th>...</th>\n",
       "      <th>...</th>\n",
       "      <th>...</th>\n",
       "      <th>...</th>\n",
       "      <th>...</th>\n",
       "      <th>...</th>\n",
       "      <th>...</th>\n",
       "      <th>...</th>\n",
       "      <th>...</th>\n",
       "      <td>...</td>\n",
       "    </tr>\n",
       "    <tr>\n",
       "      <th>INV00005465;Zubiaurre-Elkargune Institutua;7;Organismo autónomo;P7001801E;LA0015190;1520017AO002;INV00005465;Ayuntamiento de Azkoitia;Zubiaurre-Elkargune Institutua;1989-03-02T00:00:00;1520017AA000;Ayuntamiento de Azkoitia;soporte documental ESTATUTOS 02.03.1989;1520017AO002;LA0015190;2;Incorporación al SPI;7;Organismo autónomo;1;Público;1;\"Función interventora; Control financiero permanente; Auditoría de cuentas\";1;Limitativo;3;S.1313 Administraciones Públicas: Administración Local;;;Plaza Aita Madinabeitia</th>\n",
       "      <th>s/n                                                                             ;Azkoitia                                                                                                                                                                                                                                                  ;20;Gipuzkoa;20720;943852544;www.elkarguneazkoitia.eus                                                                                                                                                                                                                                 ;info@elkarguneazkoitia.net                                                                                                                                                                                                                                ;Ayuntamiento de Azkoitia;1520017AA000;100;100;1;Con actividad económica;1;Administrativo ;;P8552;Educación cultural;;;;;;;;;;Gestión de instalaciones deportivas;Carga inicial Registro SPI;Datos provisionales;06/01/20;2020-06-01T00:00:00;1;0001-01-01T00:00:00</th>\n",
       "      <th>NaN</th>\n",
       "      <th>NaN</th>\n",
       "      <th>NaN</th>\n",
       "      <th>NaN</th>\n",
       "      <th>NaN</th>\n",
       "      <th>NaN</th>\n",
       "      <th>NaN</th>\n",
       "      <td>NaN</td>\n",
       "    </tr>\n",
       "    <tr>\n",
       "      <th>INV00005466;Zuera Gest. Urbanistica</th>\n",
       "      <th>S.A.;12;Sociedad mercantil ;A50526268;;0250298AP001;INV00005466;Ayuntamiento de Zuera;Zuera Gest. Urbanistica</th>\n",
       "      <th>S.A.;1992-10-15T00:00:00;0250298AA000;Ayuntamiento de Zuera;soporte documental ESCRITURA 15.10.1992;0250298AP001;;2;Incorporación al SPI;12;Sociedad mercantil ;0;;3;Auditoría de cuentas;2;Estimativo;3;S.1313 Administraciones Públicas: Administración Local;;;Plaza de España</th>\n",
       "      <th>3                                                                               ;Zuera                                                                                                                                                                                                                                                     ;50;Zaragoza;50800;                         ;                                                                                                                                                                                                                                                          ;                                                                                                                                                                                                                                                          ;Ayuntamiento de Zuera;0250298AA000;100;100;1;Con actividad económica;2;Empresarial;;L6832;Gestión y administración de la propiedad inmobiliaria;;;;;;;;;;Zuera Gest. Urbanistica</th>\n",
       "      <th>S.A.;Carga inicial Registro SPI;Datos provisionales;06/01/20;2020-06-01T00:00:00;1;0001-01-01T00:00:00</th>\n",
       "      <th>NaN</th>\n",
       "      <th>NaN</th>\n",
       "      <th>NaN</th>\n",
       "      <th>NaN</th>\n",
       "      <td>NaN</td>\n",
       "    </tr>\n",
       "    <tr>\n",
       "      <th>INV00005467;Zugaztel</th>\n",
       "      <th>S.A.;12;Sociedad mercantil ;A95584835;;1548000DP019;INV00005467;Diputación Foral de Bizkaia;Zugaztel</th>\n",
       "      <th>S.A.;2009-09-30T00:00:00;1548000DD000;Diputación Foral de Bizkaia;soporte documental ESCRITURA 30.09.2009;1548000DP019;;2;Incorporación al SPI;12;Sociedad mercantil ;0;;3;Auditoría de cuentas;2;Estimativo;3;S.1313 Administraciones Públicas: Administración Local;;;C/ Islas Canarias</th>\n",
       "      <th>21                                                                              ;Bilbao                                                                                                                                                                                                                                                    ;48;Bizkaia;48015;946083903;                                                                                                                                                                                                                                                          ;zugaztel@bizkaia.net                                                                                                                                                                                                                                      ;Diputación Foral de Bizkaia;1548000DD000;100;0;1;Con actividad económica;2;Empresarial;;J6203;Gestión de recursos informáticos;;;;;;;;;;Otros servicios relacionados con las tecnologías de la información y la informática;Carga inicial Registro SPI;Datos provisionales;06/01/20;2020-06-01T00:00:00;1;0001-01-01T00:00:00</th>\n",
       "      <th>NaN</th>\n",
       "      <th>NaN</th>\n",
       "      <th>NaN</th>\n",
       "      <th>NaN</th>\n",
       "      <th>NaN</th>\n",
       "      <td>NaN</td>\n",
       "    </tr>\n",
       "    <tr>\n",
       "      <th>INV00005468;Zumaiako Kirol Portua</th>\n",
       "      <th>S.A.;12;Sociedad mercantil ;A20506127;A16005987;1500000BP102;INV00005468;Comunidad Autónoma del País Vasco;Zumaiako Kirol Portua</th>\n",
       "      <th>S.A.;2003-08-25T00:00:00;15;Pais Vasco;soporte documental ESCRITURA de compra-venta de acciones (Dec.196/2003</th>\n",
       "      <th>29/07);1500000BP102;A16005987;2;Incorporación al SPI;12;Sociedad mercantil ;2;Privado;3;Auditoría de cuentas;2;Estimativo;2;S.1312 Administraciones Públicas: Administración Regional;;;Plaza Foruen Enparantza</th>\n",
       "      <th>1                                                                               ;Zumaia                                                                                                                                                                                                                                                    ;20;Gipuzkoa;20750;                         ;                                                                                                                                                                                                                                                          ;                                                                                                                                                                                                                                                          ;Ayuntamiento de Zumaia;1520081AA000;49;49;1;Con actividad económica;2;Empresarial;Planificación</th>\n",
       "      <th>promoción</th>\n",
       "      <th>desarrollo y explotación de puertos deportivos;R931;Actividades deportivas;;;;;;;;;;Zumaiako Kirol Portua</th>\n",
       "      <th>S.A.;Carga inicial Registro SPI;Datos provisionales;06/01/20;2020-06-01T00:00:00;1;0001-01-01T00:00:00</th>\n",
       "      <th>NaN</th>\n",
       "      <td>NaN</td>\n",
       "    </tr>\n",
       "    <tr>\n",
       "      <th>INV00005469;Zumaiako Kirolaren Udal Patronatua-Patronato Muncipal de Deportes de Z;7;Organismo autónomo;Q2000564A;LA0005693;1520081AO001;INV00005469;Ayuntamiento de Zumaia;Zumaiako Kirolaren Udal Patronatua-Patronato Muncipal de Deportes de Z;2009-10-21T00:00:00;1520081AA000;Ayuntamiento de Zumaia;soporte documental B.O.P. 21.10.2009;1520081AO001;LA0005693;2;Incorporación al SPI;7;Organismo autónomo;1;Público;1;\"Función interventora; Control financiero permanente; Auditoría de cuentas\";1;Limitativo;3;S.1313 Administraciones Públicas: Administración Local;;;Bº Basadi Auzoa</th>\n",
       "      <th>16 - Polideportivo Lubaki                                                       ;Zumaia                                                                                                                                                                                                                                                    ;20;Gipuzkoa;20750;843862021;www.zumaia.eus                                                                                                                                                                                                                                            ;kirolak@lubaki.eus                                                                                                                                                                                                                                        ;Ayuntamiento de Zumaia;1520081AA000;100;100;1;Con actividad económica;1;Administrativo ;;R9311;Gestión de instalaciones deportivas;;;;;;;;;;Zumaiako Kirolaren Udal Patronatua-Patronato Muncipal de Deportes de Z;Carga inicial Registro SPI;Datos provisionales;06/01/20;2020-06-01T00:00:00;1;0001-01-01T00:00:00</th>\n",
       "      <th>NaN</th>\n",
       "      <th>NaN</th>\n",
       "      <th>NaN</th>\n",
       "      <th>NaN</th>\n",
       "      <th>NaN</th>\n",
       "      <th>NaN</th>\n",
       "      <th>NaN</th>\n",
       "      <td>NaN</td>\n",
       "    </tr>\n",
       "  </tbody>\n",
       "</table>\n",
       "<p>7279 rows × 1 columns</p>\n",
       "</div>"
      ],
      "text/plain": [
       "                                                                                                                                                                                                                                                                                                                                                                                                                                                                    CodigoInvente;DenominacionSocial;FormaJuridica_Codigo;FormaJuridica_Descripcion;NIF;codigoDir3;codigoOrigen;CodigoInvente.1;EjerceControl;DenominacionSocial.1;FechaAlta;Adscripcion_Codigo;Adscripcion_Descripcion;Observaciones;CodigoOrigen;CodigoDIR3;CausaDeAlta_Codigo;CausaDeAlta_Descripcion;FormaJuridica_Codigo.1;FormaJuridica_Descripcion.1;RegimenContable_Codigo;RegimenContable_Descripcion;RegimenControl_Codigo;RegimenControl_Descripcion;RegimenPresupuestario_Codigo;RegimenPresupuestario_Descripcion;ClasificacionCN_Codigo;ClasificacionCN_Descripcion;CondicionMedioPropio;ClasificacionEntidad;Direccion;Localidad;Provincia_Codigo;Provincia_Descripcion;CodigoPostal;Telefono;SitioWeb;eMail;Denominacion;Codigo;PorcentajeParticipacion;PorcentajeVoto;Actividad_Situacion_Codigo;Actividad_Situacion_Descripcion;Actividad_Sector_Codigo;Actividad_Sector_Descripcion;ObjetoSocial;Codigo.1;Denominacion.1;Venta_Bienes_DentroSP_Administracion;Venta_Bienes_Dentro_SP_Otras;Venta_Bienes_DentroSP_EntidadesSPI;Venta_Bienes_SectorPrivado;Transf_Subvenciones_Administracion;Transf_Subvenciones_Otras;Transf_Subvenciones_SPI;Transf_Subvenciones_UnionEuropea;Otros_Ingresos;Denominacion.2;FuenteAlta;InformacionFuenteAlta;AltaDesde;FechaVersion;Disponible;FechaBaja\n",
       "INV00000002;1908 Puerto de Motril                   A.I.E.;12;Sociedad mercantil ;V18862987;;01000...  A.I.E.;2008-05-16T00:00:00;0;Varias administra...  s/n                                           ...  Suelo y Equipamiento de Granada                    S.A.;INV00005446;29                          41;29                                              41;1;Con actividad económica;2;Empresarial;Gest...  para integrar las sinergias cómo clave de éxito   coordinar la prestación de servicios para mej...                                                                                                                                                                                                                                                                                                                                                                                                                                                                                                                                                                                                                                                                                                                                                                                                                                                                                                                                                                                                                                                                                                                                                                                                                                                      \n",
       "INV00000004;A.I. Abra Industrial                    S.A. Sociedad Mercantil Estatal;12;Sociedad me...  S.A. Sociedad Mercantil Estatal;1998-07-21T00:...  de la sociedad española de Minas de Somorrostro    S.A.                                               procediendo al cambio de denominación social  con fecha 26 de febrero de 1996                    a A.I. Abra Industrial                             S.A.                                                                                           NaN                                                                                                                                                                                                                                                                                                                                                                                                                                                                                                                                                                                                                                                                                                                                                                                                                                                                                                                                                                                                                                                                                                                                                                                                                                                      \n",
       "Con fecha 16 de enero de 2017                       se inscribe en el Registro la modificación de ...  de 1 de octubre                                    de Régimen Jurídico del Sector Público             incluyendo en su denominación “Sociedad Mercan... NaN                                           NaN                                                NaN                                                NaN                                                                                             NaN                                                                                                                                                                                                                                                                                                                                                                                                                                                                                                                                                                                                                                                                                                                                                                                                                                                                                                                                                                                                                                                                                                                                                                                                                                                      \n",
       "La actividad principal de la Sociedad se enmarc...  tecnológicas y de servicios en los terrenos si...  recuperando los espacios naturales deteriorado...  actividad principal por la cual se constituyó ... NaN                                                NaN                                           NaN                                                NaN                                                NaN                                                                                             NaN                                                                                                                                                                                                                                                                                                                                                                                                                                                                                                                                                                                                                                                                                                                                                                                                                                                                                                                                                                                                                                                                                                                                                                                                                                                      \n",
       "- La urbanización                                   acondicionamiento                                  planeamiento                                       parcelación y reparcelación de terrenos            así como la gestión y la realización de obras ... NaN                                           NaN                                                NaN                                                NaN                                                                                             NaN                                                                                                                                                                                                                                                                                                                                                                                                                                                                                                                                                                                                                                                                                                                                                                                                                                                                                                                                                                                                                                                                                                                                                                                                                                                      \n",
       "...                                                                                                                                                                                                                                                                                                                                                                                                                                                                                                                ...                                                                                                                                                                                                                                                                                                                                                                                                                                                                                                                                                                                                                                                                                                                                                                                                                                                                                                                                                                                                                                                                                                                                                                                                                                                      \n",
       "INV00005465;Zubiaurre-Elkargune Institutua;7;Or...  s/n                                           ... NaN                                                NaN                                                NaN                                                NaN                                           NaN                                                NaN                                                NaN                                                                                             NaN                                                                                                                                                                                                                                                                                                                                                                                                                                                                                                                                                                                                                                                                                                                                                                                                                                                                                                                                                                                                                                                                                                                                                                                                                                                      \n",
       "INV00005466;Zuera Gest. Urbanistica                 S.A.;12;Sociedad mercantil ;A50526268;;0250298...  S.A.;1992-10-15T00:00:00;0250298AA000;Ayuntami...  3                                             ...  S.A.;Carga inicial Registro SPI;Datos provisio... NaN                                           NaN                                                NaN                                                NaN                                                                                             NaN                                                                                                                                                                                                                                                                                                                                                                                                                                                                                                                                                                                                                                                                                                                                                                                                                                                                                                                                                                                                                                                                                                                                                                                                                                                      \n",
       "INV00005467;Zugaztel                               S.A.;12;Sociedad mercantil ;A95584835;;1548000D... S.A.;2009-09-30T00:00:00;1548000DD000;Diputació...  21                                            ... NaN                                                NaN                                           NaN                                                NaN                                                NaN                                                                                             NaN                                                                                                                                                                                                                                                                                                                                                                                                                                                                                                                                                                                                                                                                                                                                                                                                                                                                                                                                                                                                                                                                                                                                                                                                                                                      \n",
       "INV00005468;Zumaiako Kirol Portua                   S.A.;12;Sociedad mercantil ;A20506127;A1600598...  S.A.;2003-08-25T00:00:00;15;Pais Vasco;soporte...  29/07);1500000BP102;A16005987;2;Incorporación ...  1                                             ...  promoción                                     desarrollo y explotación de puertos deportivos...  S.A.;Carga inicial Registro SPI;Datos provisio... NaN                                                                                             NaN                                                                                                                                                                                                                                                                                                                                                                                                                                                                                                                                                                                                                                                                                                                                                                                                                                                                                                                                                                                                                                                                                                                                                                                                                                                      \n",
       "INV00005469;Zumaiako Kirolaren Udal Patronatua-...  16 - Polideportivo Lubaki                     ... NaN                                                NaN                                                NaN                                                NaN                                           NaN                                                NaN                                                NaN                                                                                             NaN                                                                                                                                                                                                                                                                                                                                                                                                                                                                                                                                                                                                                                                                                                                                                                                                                                                                                                                                                                                                                                                                                                                                                                                                                                                      \n",
       "\n",
       "[7279 rows x 1 columns]"
      ]
     },
     "execution_count": 47,
     "metadata": {},
     "output_type": "execute_result"
    }
   ],
   "source": [
    "dfe"
   ]
  },
  {
   "cell_type": "code",
   "execution_count": null,
   "id": "d38d8862",
   "metadata": {},
   "outputs": [],
   "source": []
  },
  {
   "cell_type": "code",
   "execution_count": null,
   "id": "e7f8dbac",
   "metadata": {},
   "outputs": [],
   "source": []
  },
  {
   "cell_type": "code",
   "execution_count": null,
   "id": "b400c10f",
   "metadata": {},
   "outputs": [],
   "source": []
  },
  {
   "cell_type": "code",
   "execution_count": null,
   "id": "ca1e4bb1",
   "metadata": {},
   "outputs": [],
   "source": []
  },
  {
   "cell_type": "code",
   "execution_count": null,
   "id": "432cf45a",
   "metadata": {},
   "outputs": [],
   "source": []
  },
  {
   "cell_type": "code",
   "execution_count": null,
   "id": "b755e33e",
   "metadata": {},
   "outputs": [],
   "source": []
  },
  {
   "cell_type": "code",
   "execution_count": null,
   "id": "6af2dcfc",
   "metadata": {},
   "outputs": [],
   "source": []
  },
  {
   "cell_type": "code",
   "execution_count": null,
   "id": "fda44743",
   "metadata": {},
   "outputs": [],
   "source": []
  },
  {
   "cell_type": "code",
   "execution_count": null,
   "id": "49144e40",
   "metadata": {},
   "outputs": [],
   "source": []
  },
  {
   "cell_type": "code",
   "execution_count": null,
   "id": "6abcd68d",
   "metadata": {},
   "outputs": [],
   "source": []
  },
  {
   "cell_type": "code",
   "execution_count": null,
   "id": "a7322536",
   "metadata": {},
   "outputs": [],
   "source": []
  },
  {
   "cell_type": "code",
   "execution_count": null,
   "id": "525c4392",
   "metadata": {},
   "outputs": [],
   "source": []
  },
  {
   "cell_type": "code",
   "execution_count": null,
   "id": "4473cb4f",
   "metadata": {},
   "outputs": [],
   "source": []
  },
  {
   "cell_type": "code",
   "execution_count": null,
   "id": "d954b90a",
   "metadata": {},
   "outputs": [],
   "source": []
  },
  {
   "cell_type": "code",
   "execution_count": null,
   "id": "4287ee4d",
   "metadata": {},
   "outputs": [],
   "source": []
  },
  {
   "cell_type": "code",
   "execution_count": null,
   "id": "c9ed9469",
   "metadata": {},
   "outputs": [],
   "source": []
  },
  {
   "cell_type": "code",
   "execution_count": null,
   "id": "93deae43",
   "metadata": {},
   "outputs": [],
   "source": []
  },
  {
   "cell_type": "code",
   "execution_count": null,
   "id": "8a53aa0f",
   "metadata": {},
   "outputs": [],
   "source": []
  },
  {
   "cell_type": "code",
   "execution_count": null,
   "id": "674be819",
   "metadata": {},
   "outputs": [],
   "source": []
  },
  {
   "cell_type": "code",
   "execution_count": null,
   "id": "25372133",
   "metadata": {},
   "outputs": [],
   "source": []
  },
  {
   "cell_type": "code",
   "execution_count": null,
   "id": "024d2ea5",
   "metadata": {},
   "outputs": [],
   "source": []
  },
  {
   "cell_type": "code",
   "execution_count": null,
   "id": "1e7aa2c0",
   "metadata": {},
   "outputs": [],
   "source": []
  },
  {
   "cell_type": "code",
   "execution_count": null,
   "id": "2b978b16",
   "metadata": {},
   "outputs": [],
   "source": []
  },
  {
   "cell_type": "code",
   "execution_count": null,
   "id": "99cf0aa6",
   "metadata": {},
   "outputs": [],
   "source": []
  },
  {
   "cell_type": "code",
   "execution_count": null,
   "id": "8486bbde",
   "metadata": {},
   "outputs": [],
   "source": []
  },
  {
   "cell_type": "code",
   "execution_count": null,
   "id": "fb4b6737",
   "metadata": {},
   "outputs": [],
   "source": []
  },
  {
   "cell_type": "code",
   "execution_count": null,
   "id": "70a27847",
   "metadata": {},
   "outputs": [],
   "source": []
  },
  {
   "cell_type": "code",
   "execution_count": null,
   "id": "bb53b39f",
   "metadata": {},
   "outputs": [],
   "source": []
  },
  {
   "cell_type": "code",
   "execution_count": null,
   "id": "49264731",
   "metadata": {},
   "outputs": [],
   "source": []
  },
  {
   "cell_type": "code",
   "execution_count": 32,
   "id": "ba9b959a",
   "metadata": {},
   "outputs": [
    {
     "data": {
      "text/plain": [
       "['Id_NIVEL_1',\n",
       " 'Id_NIVEL_0',\n",
       " 'ID_ENTIDAD_NIVEL_0',\n",
       " 'ID_ENTIDAD_NIVEL_1',\n",
       " 'Jerarquia',\n",
       " 'NIF_COD_NIVEL_0',\n",
       " 'ACRONIMO_NIVEL_0',\n",
       " 'NOMBRE_ENTIDAD_NIVEL_0',\n",
       " 'Nombre_Entidad_Mostrar_NIVEL_0',\n",
       " 'TIPO_ENTIDAD_N1_1_NIVEL_0',\n",
       " 'TIPO_ENTIDAD_N2_1_NIVEL_0',\n",
       " 'DIRECCION_POSTAL_NIVEL_0',\n",
       " 'COD_POSTAL_NIVEL_0',\n",
       " 'COD_PROVINCIA_NIVEL_0',\n",
       " 'PROVINCIA_NIVEL_0',\n",
       " 'COD_CCAA_NIVEL_0',\n",
       " 'CCAA_NIVEL_0',\n",
       " 'ENLACE_WEB_NIVEL_0',\n",
       " 'SOMMA_NIVEL_0',\n",
       " 'TIPO_ENTIDAD_REGIONAL_NIVEL_0',\n",
       " 'ESTADO_x_NIVEL_0',\n",
       " 'NIF_COD_NIVEL_1',\n",
       " 'ACRONIMO_NIVEL_1',\n",
       " 'NOMBRE_ENTIDAD_NIVEL_1',\n",
       " 'Nombre_Entidad_Mostrar_NIVEL_1',\n",
       " 'TIPO_ENTIDAD_N1_1_NIVEL_1',\n",
       " 'TIPO_ENTIDAD_N2_1_NIVEL_1',\n",
       " 'DIRECCION_POSTAL_NIVEL_1',\n",
       " 'COD_POSTAL_NIVEL_1',\n",
       " 'COD_PROVINCIA_NIVEL_1',\n",
       " 'PROVINCIA_NIVEL_1',\n",
       " 'COD_CCAA_NIVEL_1',\n",
       " 'CCAA_NIVEL_1',\n",
       " 'ENLACE_WEB_NIVEL_1',\n",
       " 'SOMMA_NIVEL_1',\n",
       " 'TIPO_ENTIDAD_REGIONAL_NIVEL_1',\n",
       " 'ESTADO_x_NIVEL_1']"
      ]
     },
     "execution_count": 32,
     "metadata": {},
     "output_type": "execute_result"
    }
   ],
   "source": [
    "Nombre_Input_relaciones.columns"
   ]
  },
  {
   "cell_type": "code",
   "execution_count": null,
   "id": "b5271c84",
   "metadata": {},
   "outputs": [],
   "source": []
  },
  {
   "cell_type": "code",
   "execution_count": null,
   "id": "06031f24",
   "metadata": {},
   "outputs": [],
   "source": []
  },
  {
   "cell_type": "code",
   "execution_count": null,
   "id": "5babdddd",
   "metadata": {},
   "outputs": [],
   "source": []
  },
  {
   "cell_type": "code",
   "execution_count": null,
   "id": "daa11667",
   "metadata": {},
   "outputs": [],
   "source": []
  },
  {
   "cell_type": "code",
   "execution_count": 15,
   "id": "75aa6f21",
   "metadata": {},
   "outputs": [
    {
     "data": {
      "text/plain": [
       "['Id_NIVEL_1',\n",
       " 'Id_NIVEL_0',\n",
       " 'ID_ENTIDAD_NIVEL_0',\n",
       " 'ID_ENTIDAD_NIVEL_1',\n",
       " 'Jerarquia',\n",
       " 'NIF_COD_NIVEL_0',\n",
       " 'ACRONIMO_NIVEL_0',\n",
       " 'NOMBRE_ENTIDAD_NIVEL_0',\n",
       " 'Nombre_Entidad_Mostrar_NIVEL_0',\n",
       " 'TIPO_ENTIDAD_N1_1_NIVEL_0',\n",
       " 'TIPO_ENTIDAD_N2_1_NIVEL_0',\n",
       " 'DIRECCION_POSTAL_NIVEL_0',\n",
       " 'COD_POSTAL_NIVEL_0',\n",
       " 'COD_PROVINCIA_NIVEL_0',\n",
       " 'PROVINCIA_NIVEL_0',\n",
       " 'COD_CCAA_NIVEL_0',\n",
       " 'CCAA_NIVEL_0',\n",
       " 'ENLACE_WEB_NIVEL_0',\n",
       " 'SOMMA_NIVEL_0',\n",
       " 'TIPO_ENTIDAD_REGIONAL_NIVEL_0',\n",
       " 'ESTADO_x_NIVEL_0',\n",
       " 'NIF_COD_NIVEL_1',\n",
       " 'ACRONIMO_NIVEL_1',\n",
       " 'NOMBRE_ENTIDAD_NIVEL_1',\n",
       " 'Nombre_Entidad_Mostrar_NIVEL_1',\n",
       " 'TIPO_ENTIDAD_N1_1_NIVEL_1',\n",
       " 'TIPO_ENTIDAD_N2_1_NIVEL_1',\n",
       " 'DIRECCION_POSTAL_NIVEL_1',\n",
       " 'COD_POSTAL_NIVEL_1',\n",
       " 'COD_PROVINCIA_NIVEL_1',\n",
       " 'PROVINCIA_NIVEL_1',\n",
       " 'COD_CCAA_NIVEL_1',\n",
       " 'CCAA_NIVEL_1',\n",
       " 'ENLACE_WEB_NIVEL_1',\n",
       " 'SOMMA_NIVEL_1',\n",
       " 'TIPO_ENTIDAD_REGIONAL_NIVEL_1',\n",
       " 'ESTADO_x_NIVEL_1']"
      ]
     },
     "execution_count": 15,
     "metadata": {},
     "output_type": "execute_result"
    }
   ],
   "source": [
    "val numbersDf = Seq(\n",
    "  (\"123\"),\n",
    "  (\"456\"),\n",
    "  (null),\n",
    "  (\"\")\n",
    ").toDF(\"numbers\")\n",
    "\n",
    "val lettersDf = Seq(\n",
    "  (\"123\", \"abc\"),\n",
    "  (\"456\", \"def\"),\n",
    "  (null, \"zzz\"),\n",
    "  (\"\", \"hhh\")\n",
    ").toDF(\"numbers\", \"letters\")\n",
    "\n",
    "val joinedDf = numbersDf.join(lettersDf, Seq(\"numbers\"))"
   ]
  },
  {
   "cell_type": "code",
   "execution_count": null,
   "id": "0e7ec90b",
   "metadata": {},
   "outputs": [],
   "source": []
  },
  {
   "cell_type": "code",
   "execution_count": null,
   "id": "4a8b7b1d",
   "metadata": {},
   "outputs": [],
   "source": [
    "data = data.withColumn(\"Id\", sequence(lit(maxId+1), lit(maxId+data.count())))"
   ]
  },
  {
   "cell_type": "code",
   "execution_count": 18,
   "id": "74e88218",
   "metadata": {},
   "outputs": [
    {
     "ename": "SyntaxError",
     "evalue": "invalid syntax (2611963741.py, line 1)",
     "output_type": "error",
     "traceback": [
      "\u001b[0;36m  File \u001b[0;32m\"/var/folders/fy/cjds5kvd3692g8__1nlvytj00000gn/T/ipykernel_50928/2611963741.py\"\u001b[0;36m, line \u001b[0;32m1\u001b[0m\n\u001b[0;31m    a12.withColumn(\"range\", array((1 to 100).map(lit(_)): _*)).show()\u001b[0m\n\u001b[0m                                     ^\u001b[0m\n\u001b[0;31mSyntaxError\u001b[0m\u001b[0;31m:\u001b[0m invalid syntax\n"
     ]
    }
   ],
   "source": [
    "a12.withColumn(\"range\", array((1 to 100).map(lit(_)): _*)).show()"
   ]
  },
  {
   "cell_type": "code",
   "execution_count": null,
   "id": "88985707",
   "metadata": {},
   "outputs": [],
   "source": [
    "data.write.csv(\"/Users/arturo/repos/repos/test1/data-eng-scripts/test\")"
   ]
  },
  {
   "cell_type": "code",
   "execution_count": 16,
   "id": "cf36611e",
   "metadata": {},
   "outputs": [
    {
     "name": "stderr",
     "output_type": "stream",
     "text": [
      "[Stage 17:>                                                         (0 + 1) / 1]\r"
     ]
    },
    {
     "name": "stdout",
     "output_type": "stream",
     "text": [
      "+---+\n",
      "| Id|\n",
      "+---+\n",
      "|833|\n",
      "|237|\n",
      "|856|\n",
      "|930|\n",
      "|871|\n",
      "|237|\n",
      "|849|\n",
      "|853|\n",
      "|237|\n",
      "|237|\n",
      "|237|\n",
      "|841|\n",
      "|847|\n",
      "|847|\n",
      "|886|\n",
      "|861|\n",
      "|833|\n",
      "|244|\n",
      "|859|\n",
      "|247|\n",
      "+---+\n",
      "only showing top 20 rows\n",
      "\n"
     ]
    },
    {
     "name": "stderr",
     "output_type": "stream",
     "text": [
      "\r",
      "                                                                                \r"
     ]
    }
   ],
   "source": [
    "data.select(\"Id\").show()"
   ]
  },
  {
   "cell_type": "code",
   "execution_count": null,
   "id": "d369aeee",
   "metadata": {},
   "outputs": [],
   "source": []
  },
  {
   "cell_type": "code",
   "execution_count": null,
   "id": "7301f40a",
   "metadata": {},
   "outputs": [],
   "source": []
  },
  {
   "cell_type": "code",
   "execution_count": null,
   "id": "7c009d8d",
   "metadata": {},
   "outputs": [],
   "source": []
  },
  {
   "cell_type": "code",
   "execution_count": null,
   "id": "fad162de",
   "metadata": {},
   "outputs": [],
   "source": []
  },
  {
   "cell_type": "code",
   "execution_count": null,
   "id": "4606c3f3",
   "metadata": {},
   "outputs": [],
   "source": []
  },
  {
   "cell_type": "code",
   "execution_count": 43,
   "id": "19b9799a",
   "metadata": {},
   "outputs": [
    {
     "ename": "AttributeError",
     "evalue": "'SparkSession' object has no attribute 'parallelize'",
     "output_type": "error",
     "traceback": [
      "\u001b[0;31m---------------------------------------------------------------------------\u001b[0m",
      "\u001b[0;31mAttributeError\u001b[0m                            Traceback (most recent call last)",
      "\u001b[0;32m/var/folders/fy/cjds5kvd3692g8__1nlvytj00000gn/T/ipykernel_10491/3764666917.py\u001b[0m in \u001b[0;36m<module>\u001b[0;34m\u001b[0m\n\u001b[0;32m----> 1\u001b[0;31m numbers_df = spark.parallelize([\n\u001b[0m\u001b[1;32m      2\u001b[0m     \u001b[0;34m(\u001b[0m\u001b[0;34m\"123\"\u001b[0m\u001b[0;34m,\u001b[0m \u001b[0;34m)\u001b[0m\u001b[0;34m,\u001b[0m \u001b[0;34m(\u001b[0m\u001b[0;34m\"456\"\u001b[0m\u001b[0;34m,\u001b[0m \u001b[0;34m)\u001b[0m\u001b[0;34m,\u001b[0m \u001b[0;34m(\u001b[0m\u001b[0;32mNone\u001b[0m\u001b[0;34m,\u001b[0m \u001b[0;34m)\u001b[0m\u001b[0;34m,\u001b[0m \u001b[0;34m(\u001b[0m\u001b[0;34m\"\"\u001b[0m\u001b[0;34m,\u001b[0m \u001b[0;34m)\u001b[0m\u001b[0;34m\u001b[0m\u001b[0;34m\u001b[0m\u001b[0m\n\u001b[1;32m      3\u001b[0m ]).toDF([\"numbers\"])\n\u001b[1;32m      4\u001b[0m \u001b[0;34m\u001b[0m\u001b[0m\n\u001b[1;32m      5\u001b[0m letters_df = spark.parallelize([\n",
      "\u001b[0;31mAttributeError\u001b[0m: 'SparkSession' object has no attribute 'parallelize'"
     ]
    }
   ],
   "source": [
    "numbers_df = spark.parallelize([\n",
    "    (\"123\", ), (\"456\", ), (None, ), (\"\", )\n",
    "]).toDF([\"numbers\"])\n",
    "\n",
    "letters_df = spark.parallelize([\n",
    "    (\"123\", \"abc\"), (\"456\", \"def\"), (None, \"zzz\"), (\"\", \"hhh\")\n",
    "]).toDF([\"numbers\", \"letters\"])\n",
    "\n",
    "#numbers_df.join(letters_df, numbers_df.numbers.eqNullSafe(letters_df.numbers))"
   ]
  },
  {
   "cell_type": "code",
   "execution_count": null,
   "id": "eb9cc7e4",
   "metadata": {},
   "outputs": [],
   "source": []
  },
  {
   "cell_type": "code",
   "execution_count": 62,
   "id": "34ca44df",
   "metadata": {},
   "outputs": [
    {
     "name": "stdout",
     "output_type": "stream",
     "text": [
      "+----+-------+---------+\n",
      "|  ID|   NAME|  Company|\n",
      "+----+-------+---------+\n",
      "|   1| sravan|company 1|\n",
      "|   2| ojaswi|company 1|\n",
      "|   3| rohith|company 2|\n",
      "|   4|sridevi|company 1|\n",
      "|null|  bobby|       44|\n",
      "+----+-------+---------+\n",
      "\n"
     ]
    }
   ],
   "source": [
    "# list  of employee data\n",
    "data = [[\"1\", \"sravan\", \"company 1\"],\n",
    "        [\"2\", \"ojaswi\", \"company 1\"],\n",
    "        [\"3\", \"rohith\", \"company 2\"],\n",
    "        [\"4\", \"sridevi\", \"company 1\"],\n",
    "        [None, \"bobby\", \"44\"]]\n",
    " \n",
    "# specify column names\n",
    "columns = ['ID', 'NAME', 'Company']\n",
    " \n",
    "# creating a dataframe from the lists of data\n",
    "dataframe = spark.createDataFrame(data, columns)\n",
    "dataframe.show()"
   ]
  },
  {
   "cell_type": "code",
   "execution_count": 63,
   "id": "efc07114",
   "metadata": {},
   "outputs": [
    {
     "name": "stdout",
     "output_type": "stream",
     "text": [
      "+----+-------+---------+\n",
      "| ID1|  NAME1| Company1|\n",
      "+----+-------+---------+\n",
      "|  14| sravan|company 1|\n",
      "|   2|ojaswii|company 1|\n",
      "|  34| rohith|company 2|\n",
      "|   4|sridevi|company 1|\n",
      "|null|  bobby|     null|\n",
      "+----+-------+---------+\n",
      "\n"
     ]
    }
   ],
   "source": [
    "data1 = [[\"14\", \"sravan\", \"company 1\"],\n",
    "        [\"2\", \"ojaswii\", \"company 1\"],\n",
    "        [\"34\", \"rohith\", \"company 2\"],\n",
    "        [\"4\", \"sridevi\", \"company 1\"],\n",
    "        [None, \"bobby\", None]]\n",
    " \n",
    "# specify column names\n",
    "columns = ['ID1', 'NAME1', 'Company1']\n",
    "\n",
    "# creating a dataframe from the lists of data\n",
    "dataframe1 = spark.createDataFrame(data1, columns)\n",
    "dataframe1.show()"
   ]
  },
  {
   "cell_type": "code",
   "execution_count": null,
   "id": "8be0db24",
   "metadata": {},
   "outputs": [],
   "source": []
  },
  {
   "cell_type": "code",
   "execution_count": 64,
   "id": "10256909",
   "metadata": {},
   "outputs": [],
   "source": [
    "cruce2 = dataframe.join(dataframe1,dataframe.ID.eqNullSafe(dataframe1.ID1))"
   ]
  },
  {
   "cell_type": "code",
   "execution_count": 65,
   "id": "87d19b26",
   "metadata": {},
   "outputs": [
    {
     "name": "stdout",
     "output_type": "stream",
     "text": [
      "+----+-------+---------+----+-------+---------+\n",
      "|  ID|   NAME|  Company| ID1|  NAME1| Company1|\n",
      "+----+-------+---------+----+-------+---------+\n",
      "|   2| ojaswi|company 1|   2|ojaswii|company 1|\n",
      "|   4|sridevi|company 1|   4|sridevi|company 1|\n",
      "|null|  bobby|       44|null|  bobby|     null|\n",
      "+----+-------+---------+----+-------+---------+\n",
      "\n"
     ]
    }
   ],
   "source": [
    "cruce2.show()"
   ]
  },
  {
   "cell_type": "code",
   "execution_count": null,
   "id": "e70d7c65",
   "metadata": {},
   "outputs": [],
   "source": []
  },
  {
   "cell_type": "code",
   "execution_count": null,
   "id": "822ae02c",
   "metadata": {},
   "outputs": [],
   "source": []
  },
  {
   "cell_type": "code",
   "execution_count": null,
   "id": "494958c4",
   "metadata": {},
   "outputs": [],
   "source": []
  },
  {
   "cell_type": "code",
   "execution_count": null,
   "id": "03c5ba2d",
   "metadata": {},
   "outputs": [],
   "source": []
  },
  {
   "cell_type": "code",
   "execution_count": null,
   "id": "ec726f9c",
   "metadata": {},
   "outputs": [],
   "source": []
  },
  {
   "cell_type": "code",
   "execution_count": null,
   "id": "6003a292",
   "metadata": {},
   "outputs": [],
   "source": []
  },
  {
   "cell_type": "code",
   "execution_count": null,
   "id": "4d1e8d26",
   "metadata": {},
   "outputs": [],
   "source": []
  },
  {
   "cell_type": "code",
   "execution_count": 61,
   "id": "322713c8",
   "metadata": {},
   "outputs": [],
   "source": [
    "maxid = 1000"
   ]
  },
  {
   "cell_type": "code",
   "execution_count": 70,
   "id": "4c47b621",
   "metadata": {},
   "outputs": [
    {
     "name": "stdout",
     "output_type": "stream",
     "text": [
      "+----+\n",
      "|  Id|\n",
      "+----+\n",
      "|1001|\n",
      "|1002|\n",
      "|1003|\n",
      "|1004|\n",
      "|1005|\n",
      "+----+\n",
      "\n"
     ]
    }
   ],
   "source": [
    "\n",
    "mylist = list(range(maxid+ 1,maxid + dataframe.count() + 1))\n",
    "\n",
    "# notice the parens after the type name\n",
    "index = spark.createDataFrame(mylist, IntegerType())\n",
    "index = index.withColumnRenamed(\"value\", \"Id\")\n",
    "\n",
    "index.show()"
   ]
  },
  {
   "cell_type": "code",
   "execution_count": 64,
   "id": "a44257ca",
   "metadata": {},
   "outputs": [],
   "source": [
    "dataframe = dataframe.withColumn(\"Dummy\", monotonically_increasing_id())\n",
    "index = index.withColumn(\"Dummy\", monotonically_increasing_id())\n",
    "df3 = dataframe.join(index, \"Dummy\", \"outer\").drop(\"Dummy\")"
   ]
  },
  {
   "cell_type": "code",
   "execution_count": 65,
   "id": "9e26be5e",
   "metadata": {},
   "outputs": [
    {
     "name": "stdout",
     "output_type": "stream",
     "text": [
      "+---+-------+---------+-----+\n",
      "| ID|   NAME|  Company|value|\n",
      "+---+-------+---------+-----+\n",
      "|  1| sravan|company 1| 1001|\n",
      "|  2| ojaswi|company 1| 1002|\n",
      "|  3| rohith|company 2| 1003|\n",
      "|  4|sridevi|company 1| 1004|\n",
      "|  5|  bobby|company 1| 1005|\n",
      "+---+-------+---------+-----+\n",
      "\n"
     ]
    }
   ],
   "source": [
    "df3.show()"
   ]
  },
  {
   "cell_type": "code",
   "execution_count": null,
   "id": "7260e5c1",
   "metadata": {},
   "outputs": [],
   "source": []
  },
  {
   "cell_type": "code",
   "execution_count": 55,
   "id": "7cb699a7",
   "metadata": {},
   "outputs": [
    {
     "ename": "AttributeError",
     "evalue": "'DataFrame' object has no attribute '_get_object_id'",
     "output_type": "error",
     "traceback": [
      "\u001b[0;31m---------------------------------------------------------------------------\u001b[0m",
      "\u001b[0;31mAttributeError\u001b[0m                            Traceback (most recent call last)",
      "\u001b[0;32m/var/folders/fy/cjds5kvd3692g8__1nlvytj00000gn/T/ipykernel_50928/3618555263.py\u001b[0m in \u001b[0;36m<module>\u001b[0;34m\u001b[0m\n\u001b[0;32m----> 1\u001b[0;31m \u001b[0mdataframe\u001b[0m\u001b[0;34m.\u001b[0m\u001b[0mwithColumn\u001b[0m\u001b[0;34m(\u001b[0m\u001b[0;34m\"Index\"\u001b[0m\u001b[0;34m,\u001b[0m \u001b[0mcol\u001b[0m\u001b[0;34m(\u001b[0m\u001b[0mindex\u001b[0m\u001b[0;34m.\u001b[0m\u001b[0mselect\u001b[0m\u001b[0;34m(\u001b[0m\u001b[0;34m\"value\"\u001b[0m\u001b[0;34m)\u001b[0m\u001b[0;34m)\u001b[0m\u001b[0;34m)\u001b[0m\u001b[0;34m\u001b[0m\u001b[0;34m\u001b[0m\u001b[0m\n\u001b[0m",
      "\u001b[0;32m~/opt/anaconda3/lib/python3.9/site-packages/pyspark/sql/functions.py\u001b[0m in \u001b[0;36mcol\u001b[0;34m(col)\u001b[0m\n\u001b[1;32m    149\u001b[0m     \u001b[0mColumn\u001b[0m\u001b[0;34m<\u001b[0m\u001b[0;34m'x'\u001b[0m\u001b[0;34m>\u001b[0m\u001b[0;34m\u001b[0m\u001b[0;34m\u001b[0m\u001b[0m\n\u001b[1;32m    150\u001b[0m     \"\"\"\n\u001b[0;32m--> 151\u001b[0;31m     \u001b[0;32mreturn\u001b[0m \u001b[0m_invoke_function\u001b[0m\u001b[0;34m(\u001b[0m\u001b[0;34m\"col\"\u001b[0m\u001b[0;34m,\u001b[0m \u001b[0mcol\u001b[0m\u001b[0;34m)\u001b[0m\u001b[0;34m\u001b[0m\u001b[0;34m\u001b[0m\u001b[0m\n\u001b[0m\u001b[1;32m    152\u001b[0m \u001b[0;34m\u001b[0m\u001b[0m\n\u001b[1;32m    153\u001b[0m \u001b[0;34m\u001b[0m\u001b[0m\n",
      "\u001b[0;32m~/opt/anaconda3/lib/python3.9/site-packages/pyspark/sql/functions.py\u001b[0m in \u001b[0;36m_invoke_function\u001b[0;34m(name, *args)\u001b[0m\n\u001b[1;32m     83\u001b[0m     \u001b[0;32massert\u001b[0m \u001b[0mSparkContext\u001b[0m\u001b[0;34m.\u001b[0m\u001b[0m_active_spark_context\u001b[0m \u001b[0;32mis\u001b[0m \u001b[0;32mnot\u001b[0m \u001b[0;32mNone\u001b[0m\u001b[0;34m\u001b[0m\u001b[0;34m\u001b[0m\u001b[0m\n\u001b[1;32m     84\u001b[0m     \u001b[0mjf\u001b[0m \u001b[0;34m=\u001b[0m \u001b[0m_get_jvm_function\u001b[0m\u001b[0;34m(\u001b[0m\u001b[0mname\u001b[0m\u001b[0;34m,\u001b[0m \u001b[0mSparkContext\u001b[0m\u001b[0;34m.\u001b[0m\u001b[0m_active_spark_context\u001b[0m\u001b[0;34m)\u001b[0m\u001b[0;34m\u001b[0m\u001b[0;34m\u001b[0m\u001b[0m\n\u001b[0;32m---> 85\u001b[0;31m     \u001b[0;32mreturn\u001b[0m \u001b[0mColumn\u001b[0m\u001b[0;34m(\u001b[0m\u001b[0mjf\u001b[0m\u001b[0;34m(\u001b[0m\u001b[0;34m*\u001b[0m\u001b[0margs\u001b[0m\u001b[0;34m)\u001b[0m\u001b[0;34m)\u001b[0m\u001b[0;34m\u001b[0m\u001b[0;34m\u001b[0m\u001b[0m\n\u001b[0m\u001b[1;32m     86\u001b[0m \u001b[0;34m\u001b[0m\u001b[0m\n\u001b[1;32m     87\u001b[0m \u001b[0;34m\u001b[0m\u001b[0m\n",
      "\u001b[0;32m~/opt/anaconda3/lib/python3.9/site-packages/py4j/java_gateway.py\u001b[0m in \u001b[0;36m__call__\u001b[0;34m(self, *args)\u001b[0m\n\u001b[1;32m   1311\u001b[0m \u001b[0;34m\u001b[0m\u001b[0m\n\u001b[1;32m   1312\u001b[0m     \u001b[0;32mdef\u001b[0m \u001b[0m__call__\u001b[0m\u001b[0;34m(\u001b[0m\u001b[0mself\u001b[0m\u001b[0;34m,\u001b[0m \u001b[0;34m*\u001b[0m\u001b[0margs\u001b[0m\u001b[0;34m)\u001b[0m\u001b[0;34m:\u001b[0m\u001b[0;34m\u001b[0m\u001b[0;34m\u001b[0m\u001b[0m\n\u001b[0;32m-> 1313\u001b[0;31m         \u001b[0margs_command\u001b[0m\u001b[0;34m,\u001b[0m \u001b[0mtemp_args\u001b[0m \u001b[0;34m=\u001b[0m \u001b[0mself\u001b[0m\u001b[0;34m.\u001b[0m\u001b[0m_build_args\u001b[0m\u001b[0;34m(\u001b[0m\u001b[0;34m*\u001b[0m\u001b[0margs\u001b[0m\u001b[0;34m)\u001b[0m\u001b[0;34m\u001b[0m\u001b[0;34m\u001b[0m\u001b[0m\n\u001b[0m\u001b[1;32m   1314\u001b[0m \u001b[0;34m\u001b[0m\u001b[0m\n\u001b[1;32m   1315\u001b[0m         \u001b[0mcommand\u001b[0m \u001b[0;34m=\u001b[0m \u001b[0mproto\u001b[0m\u001b[0;34m.\u001b[0m\u001b[0mCALL_COMMAND_NAME\u001b[0m \u001b[0;34m+\u001b[0m\u001b[0;31m\\\u001b[0m\u001b[0;34m\u001b[0m\u001b[0;34m\u001b[0m\u001b[0m\n",
      "\u001b[0;32m~/opt/anaconda3/lib/python3.9/site-packages/py4j/java_gateway.py\u001b[0m in \u001b[0;36m_build_args\u001b[0;34m(self, *args)\u001b[0m\n\u001b[1;32m   1281\u001b[0m \u001b[0;34m\u001b[0m\u001b[0m\n\u001b[1;32m   1282\u001b[0m         args_command = \"\".join(\n\u001b[0;32m-> 1283\u001b[0;31m             [get_command_part(arg, self.pool) for arg in new_args])\n\u001b[0m\u001b[1;32m   1284\u001b[0m \u001b[0;34m\u001b[0m\u001b[0m\n\u001b[1;32m   1285\u001b[0m         \u001b[0;32mreturn\u001b[0m \u001b[0margs_command\u001b[0m\u001b[0;34m,\u001b[0m \u001b[0mtemp_args\u001b[0m\u001b[0;34m\u001b[0m\u001b[0;34m\u001b[0m\u001b[0m\n",
      "\u001b[0;32m~/opt/anaconda3/lib/python3.9/site-packages/py4j/java_gateway.py\u001b[0m in \u001b[0;36m<listcomp>\u001b[0;34m(.0)\u001b[0m\n\u001b[1;32m   1281\u001b[0m \u001b[0;34m\u001b[0m\u001b[0m\n\u001b[1;32m   1282\u001b[0m         args_command = \"\".join(\n\u001b[0;32m-> 1283\u001b[0;31m             [get_command_part(arg, self.pool) for arg in new_args])\n\u001b[0m\u001b[1;32m   1284\u001b[0m \u001b[0;34m\u001b[0m\u001b[0m\n\u001b[1;32m   1285\u001b[0m         \u001b[0;32mreturn\u001b[0m \u001b[0margs_command\u001b[0m\u001b[0;34m,\u001b[0m \u001b[0mtemp_args\u001b[0m\u001b[0;34m\u001b[0m\u001b[0;34m\u001b[0m\u001b[0m\n",
      "\u001b[0;32m~/opt/anaconda3/lib/python3.9/site-packages/py4j/protocol.py\u001b[0m in \u001b[0;36mget_command_part\u001b[0;34m(parameter, python_proxy_pool)\u001b[0m\n\u001b[1;32m    296\u001b[0m             \u001b[0mcommand_part\u001b[0m \u001b[0;34m+=\u001b[0m \u001b[0;34m\";\"\u001b[0m \u001b[0;34m+\u001b[0m \u001b[0minterface\u001b[0m\u001b[0;34m\u001b[0m\u001b[0;34m\u001b[0m\u001b[0m\n\u001b[1;32m    297\u001b[0m     \u001b[0;32melse\u001b[0m\u001b[0;34m:\u001b[0m\u001b[0;34m\u001b[0m\u001b[0;34m\u001b[0m\u001b[0m\n\u001b[0;32m--> 298\u001b[0;31m         \u001b[0mcommand_part\u001b[0m \u001b[0;34m=\u001b[0m \u001b[0mREFERENCE_TYPE\u001b[0m \u001b[0;34m+\u001b[0m \u001b[0mparameter\u001b[0m\u001b[0;34m.\u001b[0m\u001b[0m_get_object_id\u001b[0m\u001b[0;34m(\u001b[0m\u001b[0;34m)\u001b[0m\u001b[0;34m\u001b[0m\u001b[0;34m\u001b[0m\u001b[0m\n\u001b[0m\u001b[1;32m    299\u001b[0m \u001b[0;34m\u001b[0m\u001b[0m\n\u001b[1;32m    300\u001b[0m     \u001b[0mcommand_part\u001b[0m \u001b[0;34m+=\u001b[0m \u001b[0;34m\"\\n\"\u001b[0m\u001b[0;34m\u001b[0m\u001b[0;34m\u001b[0m\u001b[0m\n",
      "\u001b[0;32m~/opt/anaconda3/lib/python3.9/site-packages/pyspark/sql/dataframe.py\u001b[0m in \u001b[0;36m__getattr__\u001b[0;34m(self, name)\u001b[0m\n\u001b[1;32m   1986\u001b[0m         \"\"\"\n\u001b[1;32m   1987\u001b[0m         \u001b[0;32mif\u001b[0m \u001b[0mname\u001b[0m \u001b[0;32mnot\u001b[0m \u001b[0;32min\u001b[0m \u001b[0mself\u001b[0m\u001b[0;34m.\u001b[0m\u001b[0mcolumns\u001b[0m\u001b[0;34m:\u001b[0m\u001b[0;34m\u001b[0m\u001b[0;34m\u001b[0m\u001b[0m\n\u001b[0;32m-> 1988\u001b[0;31m             raise AttributeError(\n\u001b[0m\u001b[1;32m   1989\u001b[0m                 \u001b[0;34m\"'%s' object has no attribute '%s'\"\u001b[0m \u001b[0;34m%\u001b[0m \u001b[0;34m(\u001b[0m\u001b[0mself\u001b[0m\u001b[0;34m.\u001b[0m\u001b[0m__class__\u001b[0m\u001b[0;34m.\u001b[0m\u001b[0m__name__\u001b[0m\u001b[0;34m,\u001b[0m \u001b[0mname\u001b[0m\u001b[0;34m)\u001b[0m\u001b[0;34m\u001b[0m\u001b[0;34m\u001b[0m\u001b[0m\n\u001b[1;32m   1990\u001b[0m             )\n",
      "\u001b[0;31mAttributeError\u001b[0m: 'DataFrame' object has no attribute '_get_object_id'"
     ]
    }
   ],
   "source": [
    "dataframe.withColumn(\"Index\", col(index.select(\"value\")))"
   ]
  },
  {
   "cell_type": "code",
   "execution_count": null,
   "id": "87ecd96e",
   "metadata": {},
   "outputs": [],
   "source": []
  },
  {
   "cell_type": "code",
   "execution_count": 52,
   "id": "05293d33",
   "metadata": {},
   "outputs": [
    {
     "name": "stdout",
     "output_type": "stream",
     "text": [
      "+-----+\n",
      "|value|\n",
      "+-----+\n",
      "|   11|\n",
      "|   12|\n",
      "|   13|\n",
      "|   14|\n",
      "|   15|\n",
      "+-----+\n",
      "\n"
     ]
    }
   ],
   "source": [
    "index.show()"
   ]
  },
  {
   "cell_type": "code",
   "execution_count": 14,
   "id": "e75b1166",
   "metadata": {},
   "outputs": [
    {
     "name": "stdout",
     "output_type": "stream",
     "text": [
      "22/07/21 12:36:47 WARN WindowExec: No Partition Defined for Window operation! Moving all data to a single partition, this can cause serious performance degradation.\n",
      "22/07/21 12:36:47 WARN WindowExec: No Partition Defined for Window operation! Moving all data to a single partition, this can cause serious performance degradation.\n",
      "22/07/21 12:36:47 WARN WindowExec: No Partition Defined for Window operation! Moving all data to a single partition, this can cause serious performance degradation.\n",
      "22/07/21 12:36:47 WARN WindowExec: No Partition Defined for Window operation! Moving all data to a single partition, this can cause serious performance degradation.\n",
      "22/07/21 12:36:47 WARN WindowExec: No Partition Defined for Window operation! Moving all data to a single partition, this can cause serious performance degradation.\n",
      "22/07/21 12:36:47 WARN WindowExec: No Partition Defined for Window operation! Moving all data to a single partition, this can cause serious performance degradation.\n",
      "22/07/21 12:36:47 WARN WindowExec: No Partition Defined for Window operation! Moving all data to a single partition, this can cause serious performance degradation.\n",
      "22/07/21 12:36:47 WARN WindowExec: No Partition Defined for Window operation! Moving all data to a single partition, this can cause serious performance degradation.\n",
      "22/07/21 12:36:47 WARN WindowExec: No Partition Defined for Window operation! Moving all data to a single partition, this can cause serious performance degradation.\n",
      "22/07/21 12:36:47 WARN WindowExec: No Partition Defined for Window operation! Moving all data to a single partition, this can cause serious performance degradation.\n",
      "22/07/21 12:36:47 WARN WindowExec: No Partition Defined for Window operation! Moving all data to a single partition, this can cause serious performance degradation.\n",
      "22/07/21 12:36:47 WARN WindowExec: No Partition Defined for Window operation! Moving all data to a single partition, this can cause serious performance degradation.\n",
      "22/07/21 12:36:47 WARN WindowExec: No Partition Defined for Window operation! Moving all data to a single partition, this can cause serious performance degradation.\n",
      "22/07/21 12:36:47 WARN WindowExec: No Partition Defined for Window operation! Moving all data to a single partition, this can cause serious performance degradation.\n",
      "22/07/21 12:36:47 WARN WindowExec: No Partition Defined for Window operation! Moving all data to a single partition, this can cause serious performance degradation.\n",
      "22/07/21 12:36:47 WARN WindowExec: No Partition Defined for Window operation! Moving all data to a single partition, this can cause serious performance degradation.\n",
      "22/07/21 12:36:48 WARN WindowExec: No Partition Defined for Window operation! Moving all data to a single partition, this can cause serious performance degradation.\n",
      "22/07/21 12:36:48 WARN WindowExec: No Partition Defined for Window operation! Moving all data to a single partition, this can cause serious performance degradation.\n",
      "22/07/21 12:36:48 WARN WindowExec: No Partition Defined for Window operation! Moving all data to a single partition, this can cause serious performance degradation.\n",
      "22/07/21 12:36:48 WARN WindowExec: No Partition Defined for Window operation! Moving all data to a single partition, this can cause serious performance degradation.\n",
      "22/07/21 12:36:48 WARN WindowExec: No Partition Defined for Window operation! Moving all data to a single partition, this can cause serious performance degradation.\n",
      "22/07/21 12:36:48 WARN WindowExec: No Partition Defined for Window operation! Moving all data to a single partition, this can cause serious performance degradation.\n",
      "22/07/21 12:36:48 WARN WindowExec: No Partition Defined for Window operation! Moving all data to a single partition, this can cause serious performance degradation.\n",
      "22/07/21 12:36:48 WARN WindowExec: No Partition Defined for Window operation! Moving all data to a single partition, this can cause serious performance degradation.\n",
      "22/07/21 12:36:48 WARN WindowExec: No Partition Defined for Window operation! Moving all data to a single partition, this can cause serious performance degradation.\n",
      "22/07/21 12:36:48 WARN WindowExec: No Partition Defined for Window operation! Moving all data to a single partition, this can cause serious performance degradation.\n",
      "22/07/21 12:36:48 WARN WindowExec: No Partition Defined for Window operation! Moving all data to a single partition, this can cause serious performance degradation.\n",
      "22/07/21 12:36:48 WARN WindowExec: No Partition Defined for Window operation! Moving all data to a single partition, this can cause serious performance degradation.\n",
      "22/07/21 12:36:48 WARN WindowExec: No Partition Defined for Window operation! Moving all data to a single partition, this can cause serious performance degradation.\n",
      "22/07/21 12:36:48 WARN WindowExec: No Partition Defined for Window operation! Moving all data to a single partition, this can cause serious performance degradation.\n",
      "22/07/21 12:36:48 WARN WindowExec: No Partition Defined for Window operation! Moving all data to a single partition, this can cause serious performance degradation.\n",
      "22/07/21 12:36:48 WARN WindowExec: No Partition Defined for Window operation! Moving all data to a single partition, this can cause serious performance degradation.\n",
      "22/07/21 12:36:48 WARN WindowExec: No Partition Defined for Window operation! Moving all data to a single partition, this can cause serious performance degradation.\n",
      "22/07/21 12:36:48 WARN WindowExec: No Partition Defined for Window operation! Moving all data to a single partition, this can cause serious performance degradation.\n",
      "22/07/21 12:36:48 WARN WindowExec: No Partition Defined for Window operation! Moving all data to a single partition, this can cause serious performance degradation.\n",
      "22/07/21 12:36:48 WARN WindowExec: No Partition Defined for Window operation! Moving all data to a single partition, this can cause serious performance degradation.\n",
      "22/07/21 12:36:48 WARN WindowExec: No Partition Defined for Window operation! Moving all data to a single partition, this can cause serious performance degradation.\n",
      "22/07/21 12:36:48 WARN WindowExec: No Partition Defined for Window operation! Moving all data to a single partition, this can cause serious performance degradation.\n",
      "22/07/21 12:36:48 WARN WindowExec: No Partition Defined for Window operation! Moving all data to a single partition, this can cause serious performance degradation.\n",
      "22/07/21 12:36:48 WARN WindowExec: No Partition Defined for Window operation! Moving all data to a single partition, this can cause serious performance degradation.\n",
      "+----+\n",
      "|  id|\n",
      "+----+\n",
      "|8194|\n",
      "|8195|\n",
      "|8196|\n",
      "|8197|\n",
      "|8198|\n",
      "|8199|\n",
      "|8200|\n",
      "|8201|\n",
      "|8202|\n",
      "|8203|\n",
      "|8204|\n",
      "|8205|\n",
      "|8206|\n",
      "|8207|\n",
      "|8208|\n",
      "|8209|\n",
      "|8210|\n",
      "|8211|\n",
      "|8212|\n",
      "|8213|\n",
      "|8214|\n",
      "|8215|\n",
      "|8216|\n",
      "|8217|\n",
      "|8218|\n",
      "|8219|\n",
      "|8220|\n",
      "|8221|\n",
      "|8222|\n",
      "|8223|\n",
      "|8224|\n",
      "|8225|\n",
      "|8226|\n",
      "|8227|\n",
      "|8228|\n",
      "|8229|\n",
      "|8230|\n",
      "|8231|\n",
      "+----+\n",
      "\n"
     ]
    }
   ],
   "source": [
    "data_1.select(\"id\").show(data_1.count())"
   ]
  },
  {
   "cell_type": "code",
   "execution_count": null,
   "id": "984ed822",
   "metadata": {},
   "outputs": [],
   "source": [
    "result = df_1_new.union(df_2_new)"
   ]
  },
  {
   "cell_type": "code",
   "execution_count": 32,
   "id": "96b20894",
   "metadata": {},
   "outputs": [
    {
     "name": "stdout",
     "output_type": "stream",
     "text": [
      "+---+-------+---------+--------------------+\n",
      "| ID|   NAME|  Company|               YEARS|\n",
      "+---+-------+---------+--------------------+\n",
      "|  1| sravan|company 1|[11, 12, 13, 14, 15]|\n",
      "|  2| ojaswi|company 1|[11, 12, 13, 14, 15]|\n",
      "|  3| rohith|company 2|[11, 12, 13, 14, 15]|\n",
      "|  4|sridevi|company 1|[11, 12, 13, 14, 15]|\n",
      "|  5|  bobby|company 1|[11, 12, 13, 14, 15]|\n",
      "+---+-------+---------+--------------------+\n",
      "\n"
     ]
    }
   ],
   "source": [
    "dataframe.show()"
   ]
  },
  {
   "cell_type": "code",
   "execution_count": 26,
   "id": "76267ad4",
   "metadata": {},
   "outputs": [
    {
     "ename": "TypeError",
     "evalue": "col should be Column",
     "output_type": "error",
     "traceback": [
      "\u001b[0;31m---------------------------------------------------------------------------\u001b[0m",
      "\u001b[0;31mTypeError\u001b[0m                                 Traceback (most recent call last)",
      "\u001b[0;32m/var/folders/fy/cjds5kvd3692g8__1nlvytj00000gn/T/ipykernel_50928/1353484913.py\u001b[0m in \u001b[0;36m<module>\u001b[0;34m\u001b[0m\n\u001b[0;32m----> 1\u001b[0;31m \u001b[0mdataframe\u001b[0m\u001b[0;34m.\u001b[0m\u001b[0mwithColumn\u001b[0m\u001b[0;34m(\u001b[0m\u001b[0;34m\"Idl\"\u001b[0m\u001b[0;34m,\u001b[0m \u001b[0mudf\u001b[0m\u001b[0;34m(\u001b[0m\u001b[0;32mlambda\u001b[0m \u001b[0mid\u001b[0m\u001b[0;34m:\u001b[0m \u001b[0mdates\u001b[0m\u001b[0;34m[\u001b[0m\u001b[0mid\u001b[0m\u001b[0;34m]\u001b[0m\u001b[0;34m)\u001b[0m\u001b[0;34m)\u001b[0m\u001b[0;34m.\u001b[0m\u001b[0mshow\u001b[0m\u001b[0;34m(\u001b[0m\u001b[0;34m)\u001b[0m\u001b[0;34m\u001b[0m\u001b[0;34m\u001b[0m\u001b[0m\n\u001b[0m",
      "\u001b[0;32m~/opt/anaconda3/lib/python3.9/site-packages/pyspark/sql/dataframe.py\u001b[0m in \u001b[0;36mwithColumn\u001b[0;34m(self, colName, col)\u001b[0m\n\u001b[1;32m   3033\u001b[0m         \"\"\"\n\u001b[1;32m   3034\u001b[0m         \u001b[0;32mif\u001b[0m \u001b[0;32mnot\u001b[0m \u001b[0misinstance\u001b[0m\u001b[0;34m(\u001b[0m\u001b[0mcol\u001b[0m\u001b[0;34m,\u001b[0m \u001b[0mColumn\u001b[0m\u001b[0;34m)\u001b[0m\u001b[0;34m:\u001b[0m\u001b[0;34m\u001b[0m\u001b[0;34m\u001b[0m\u001b[0m\n\u001b[0;32m-> 3035\u001b[0;31m             \u001b[0;32mraise\u001b[0m \u001b[0mTypeError\u001b[0m\u001b[0;34m(\u001b[0m\u001b[0;34m\"col should be Column\"\u001b[0m\u001b[0;34m)\u001b[0m\u001b[0;34m\u001b[0m\u001b[0;34m\u001b[0m\u001b[0m\n\u001b[0m\u001b[1;32m   3036\u001b[0m         \u001b[0;32mreturn\u001b[0m \u001b[0mDataFrame\u001b[0m\u001b[0;34m(\u001b[0m\u001b[0mself\u001b[0m\u001b[0;34m.\u001b[0m\u001b[0m_jdf\u001b[0m\u001b[0;34m.\u001b[0m\u001b[0mwithColumn\u001b[0m\u001b[0;34m(\u001b[0m\u001b[0mcolName\u001b[0m\u001b[0;34m,\u001b[0m \u001b[0mcol\u001b[0m\u001b[0;34m.\u001b[0m\u001b[0m_jc\u001b[0m\u001b[0;34m)\u001b[0m\u001b[0;34m,\u001b[0m \u001b[0mself\u001b[0m\u001b[0;34m.\u001b[0m\u001b[0msparkSession\u001b[0m\u001b[0;34m)\u001b[0m\u001b[0;34m\u001b[0m\u001b[0;34m\u001b[0m\u001b[0m\n\u001b[1;32m   3037\u001b[0m \u001b[0;34m\u001b[0m\u001b[0m\n",
      "\u001b[0;31mTypeError\u001b[0m: col should be Column"
     ]
    }
   ],
   "source": [
    "dataframe.withColumn(\"Idl\", udf(lambda id: dates[id])).show()"
   ]
  },
  {
   "cell_type": "code",
   "execution_count": null,
   "id": "58199819",
   "metadata": {},
   "outputs": [],
   "source": []
  },
  {
   "cell_type": "code",
   "execution_count": null,
   "id": "def06bf8",
   "metadata": {},
   "outputs": [],
   "source": []
  },
  {
   "cell_type": "code",
   "execution_count": null,
   "id": "af3ef391",
   "metadata": {},
   "outputs": [],
   "source": [
    "df = df.repartition(1).withColumn(\"YEARS\",  udf(lambda id: dates[id])"
   ]
  },
  {
   "cell_type": "code",
   "execution_count": 24,
   "id": "601662b0",
   "metadata": {},
   "outputs": [
    {
     "data": {
      "text/plain": [
       "Column<'sequence(8199, 8203)'>"
      ]
     },
     "execution_count": 24,
     "metadata": {},
     "output_type": "execute_result"
    }
   ],
   "source": [
    "sequence(lit(maxId+1), lit(maxId+dataframe.count()))"
   ]
  },
  {
   "cell_type": "code",
   "execution_count": 65,
   "id": "28803a21",
   "metadata": {},
   "outputs": [
    {
     "data": {
      "text/plain": [
       "8210"
      ]
     },
     "execution_count": 65,
     "metadata": {},
     "output_type": "execute_result"
    }
   ],
   "source": [
    "fi4.count()"
   ]
  },
  {
   "cell_type": "code",
   "execution_count": 64,
   "id": "78f8c543",
   "metadata": {},
   "outputs": [
    {
     "data": {
      "text/plain": [
       "8198"
      ]
     },
     "execution_count": 64,
     "metadata": {},
     "output_type": "execute_result"
    }
   ],
   "source": []
  },
  {
   "cell_type": "code",
   "execution_count": 55,
   "id": "81f161d2",
   "metadata": {},
   "outputs": [
    {
     "name": "stdout",
     "output_type": "stream",
     "text": [
      "+----+\n",
      "|  id|\n",
      "+----+\n",
      "|2668|\n",
      "|4782|\n",
      "|4589|\n",
      "|3515|\n",
      "|2891|\n",
      "|7281|\n",
      "|2635|\n",
      "| 547|\n",
      "| 352|\n",
      "|8193|\n",
      "|5328|\n",
      "|6552|\n",
      "|1491|\n",
      "|1375|\n",
      "|6408|\n",
      "|2344|\n",
      "|2119|\n",
      "|8102|\n",
      "|1528|\n",
      "|6590|\n",
      "+----+\n",
      "only showing top 20 rows\n",
      "\n"
     ]
    }
   ],
   "source": [
    "fi4.select(\"id\").show()"
   ]
  },
  {
   "cell_type": "code",
   "execution_count": 48,
   "id": "173882cf",
   "metadata": {},
   "outputs": [
    {
     "data": {
      "text/plain": [
       "[]"
      ]
     },
     "execution_count": 48,
     "metadata": {},
     "output_type": "execute_result"
    }
   ],
   "source": [
    "list(set(final.columns) - set(fi4.columns))"
   ]
  },
  {
   "cell_type": "code",
   "execution_count": 49,
   "id": "cfa2b1ed",
   "metadata": {},
   "outputs": [
    {
     "data": {
      "text/plain": [
       "49"
      ]
     },
     "execution_count": 49,
     "metadata": {},
     "output_type": "execute_result"
    }
   ],
   "source": [
    "len(final.columns)"
   ]
  },
  {
   "cell_type": "code",
   "execution_count": 50,
   "id": "8de29840",
   "metadata": {},
   "outputs": [
    {
     "data": {
      "text/plain": [
       "50"
      ]
     },
     "execution_count": 50,
     "metadata": {},
     "output_type": "execute_result"
    }
   ],
   "source": [
    "len(fi4.columns)"
   ]
  },
  {
   "cell_type": "code",
   "execution_count": 45,
   "id": "9b7114f4",
   "metadata": {},
   "outputs": [
    {
     "data": {
      "text/plain": [
       "C_ID_DEP_UD_PRINCIPAL              2\n",
       "CIF                                1\n",
       "codigoDir3                         1\n",
       "Provincia_Codigo                   1\n",
       "C_ID_UD_ORGANICA                   1\n",
       "C_DNM_UD_ORGANICA                  1\n",
       "C_ID_NIVEL_ADMON                   1\n",
       "C_ID_TIPO_ENT_PUBLICA              1\n",
       "N_NIVEL_JERARQUICO                 1\n",
       "C_ID_DEP_UD_SUPERIOR               1\n",
       "C_DNM_UD_ORGANICA_SUPERIOR         1\n",
       "C_DNM_UD_ORGANICA_PRINCIPAL        1\n",
       "B_SW_DEP_EDP_PRINCIPAL             1\n",
       "C_ID_DEP_EDP_PRINCIPAL             1\n",
       "C_DNM_UD_ORGANICA_EDP_PRINCIPAL    1\n",
       "C_ID_ESTADO                        1\n",
       "D_VIG_ALTA_OFICIAL                 1\n",
       "NIF_CIF                            1\n",
       "C_ID_AMB_PROVINCIA                 1\n",
       "C_DESC_PROV                        1\n",
       "CONTACTOS                          1\n",
       "List_Entidad_Norm                  1\n",
       "List_Provincia_Entidad             1\n",
       "codigoOrigen                       1\n",
       "NIF                                1\n",
       "Entidad_Norm                       1\n",
       "FormaJuridica_Descripcion          1\n",
       "Provincia_Entidad                  1\n",
       "ID_ENTIDAD                         1\n",
       "NIF_COD                            1\n",
       "ACRONIMO                           1\n",
       "NOMBRE_ENTIDAD                     1\n",
       "Nombre_Entidad_Mostrar             1\n",
       "TIPO_ENTIDAD_N1_1                  1\n",
       "TIPO_ENTIDAD_N2_1                  1\n",
       "DIRECCION_POSTAL                   1\n",
       "COD_POSTAL                         1\n",
       "COD_PROVINCIA                      1\n",
       "PROVINCIA                          1\n",
       "COD_CCAA                           1\n",
       "CCAA                               1\n",
       "ENLACE_WEB                         1\n",
       "SOMMA                              1\n",
       "TIPO_ENTIDAD_REGIONAL              1\n",
       "ESTADO_x                           1\n",
       "CodigoInvente                      1\n",
       "DenominacionSocial                 1\n",
       "FormaJuridica_Codigo               1\n",
       "List_CIF                           1\n",
       "Name: 0, dtype: int64"
      ]
     },
     "execution_count": 45,
     "metadata": {},
     "output_type": "execute_result"
    }
   ],
   "source": [
    "pd.DataFrame(final.columns)[0].value_counts()"
   ]
  },
  {
   "cell_type": "code",
   "execution_count": null,
   "id": "02f904c2",
   "metadata": {},
   "outputs": [],
   "source": []
  },
  {
   "cell_type": "code",
   "execution_count": null,
   "id": "1ba82d17",
   "metadata": {},
   "outputs": [],
   "source": []
  },
  {
   "cell_type": "code",
   "execution_count": 16,
   "id": "effddbfe",
   "metadata": {},
   "outputs": [
    {
     "name": "stdout",
     "output_type": "stream",
     "text": [
      "root\n",
      " |-- Id: string (nullable = true)\n",
      " |-- CIF: string (nullable = true)\n",
      " |-- Entidad_Norm: string (nullable = true)\n",
      " |-- Provincia_Entidad: string (nullable = true)\n",
      " |-- ID_ENTIDAD: string (nullable = true)\n",
      " |-- NIF_COD: string (nullable = true)\n",
      " |-- ACRONIMO: string (nullable = true)\n",
      " |-- NOMBRE_ENTIDAD: string (nullable = true)\n",
      " |-- Nombre_Entidad_Mostrar: string (nullable = true)\n",
      " |-- TIPO_ENTIDAD_N1_1: string (nullable = true)\n",
      " |-- TIPO_ENTIDAD_N2_1: string (nullable = true)\n",
      " |-- DIRECCION_POSTAL: string (nullable = true)\n",
      " |-- COD_POSTAL: string (nullable = true)\n",
      " |-- COD_PROVINCIA: string (nullable = true)\n",
      " |-- PROVINCIA: string (nullable = true)\n",
      " |-- COD_CCAA: string (nullable = true)\n",
      " |-- CCAA: string (nullable = true)\n",
      " |-- ENLACE_WEB: string (nullable = true)\n",
      " |-- SOMMA: string (nullable = true)\n",
      " |-- TIPO_ENTIDAD_REGIONAL: string (nullable = true)\n",
      " |-- ESTADO_x: string (nullable = true)\n",
      " |-- CodigoInvente: string (nullable = true)\n",
      " |-- DenominacionSocial: string (nullable = true)\n",
      " |-- FormaJuridica_Codigo: string (nullable = true)\n",
      " |-- FormaJuridica_Descripcion: string (nullable = true)\n",
      " |-- NIF: string (nullable = true)\n",
      " |-- codigoDir3: string (nullable = true)\n",
      " |-- codigoOrigen: string (nullable = true)\n",
      " |-- Provincia_Codigo: string (nullable = true)\n",
      " |-- C_ID_UD_ORGANICA: string (nullable = true)\n",
      " |-- C_DNM_UD_ORGANICA: string (nullable = true)\n",
      " |-- C_ID_NIVEL_ADMON: string (nullable = true)\n",
      " |-- C_ID_TIPO_ENT_PUBLICA: string (nullable = true)\n",
      " |-- N_NIVEL_JERARQUICO: string (nullable = true)\n",
      " |-- C_ID_DEP_UD_SUPERIOR: string (nullable = true)\n",
      " |-- C_DNM_UD_ORGANICA_SUPERIOR: string (nullable = true)\n",
      " |-- C_ID_DEP_UD_PRINCIPAL: string (nullable = true)\n",
      " |-- C_DNM_UD_ORGANICA_PRINCIPAL: string (nullable = true)\n",
      " |-- B_SW_DEP_EDP_PRINCIPAL: string (nullable = true)\n",
      " |-- C_ID_DEP_EDP_PRINCIPAL: string (nullable = true)\n",
      " |-- C_DNM_UD_ORGANICA_EDP_PRINCIPAL: string (nullable = true)\n",
      " |-- C_ID_ESTADO: string (nullable = true)\n",
      " |-- D_VIG_ALTA_OFICIAL: string (nullable = true)\n",
      " |-- NIF_CIF: string (nullable = true)\n",
      " |-- C_ID_AMB_PROVINCIA: string (nullable = true)\n",
      " |-- C_DESC_PROV: string (nullable = true)\n",
      " |-- CONTACTOS: string (nullable = true)\n",
      " |-- List_Entidad_Norm: string (nullable = true)\n",
      " |-- List_Provincia_Entidad: string (nullable = true)\n",
      " |-- List_CIF: string (nullable = true)\n",
      "\n"
     ]
    }
   ],
   "source": [
    "fi4.printSchema()"
   ]
  },
  {
   "cell_type": "code",
   "execution_count": 102,
   "id": "6021ad3d",
   "metadata": {},
   "outputs": [
    {
     "name": "stdout",
     "output_type": "stream",
     "text": [
      "root\n",
      " |-- Entidad_Norm: string (nullable = true)\n",
      " |-- Provincia_Entidad: string (nullable = true)\n",
      " |-- ID_ENTIDAD: string (nullable = true)\n",
      " |-- NIF_COD: string (nullable = true)\n",
      " |-- ACRONIMO: string (nullable = true)\n",
      " |-- NOMBRE_ENTIDAD: string (nullable = true)\n",
      " |-- Nombre_Entidad_Mostrar: string (nullable = true)\n",
      " |-- TIPO_ENTIDAD_N1_1: string (nullable = true)\n",
      " |-- TIPO_ENTIDAD_N2_1: string (nullable = true)\n",
      " |-- DIRECCION_POSTAL: string (nullable = true)\n",
      " |-- COD_POSTAL: string (nullable = true)\n",
      " |-- COD_PROVINCIA: string (nullable = true)\n",
      " |-- PROVINCIA: string (nullable = true)\n",
      " |-- COD_CCAA: string (nullable = true)\n",
      " |-- CCAA: string (nullable = true)\n",
      " |-- ENLACE_WEB: string (nullable = true)\n",
      " |-- SOMMA: string (nullable = true)\n",
      " |-- TIPO_ENTIDAD_REGIONAL: string (nullable = true)\n",
      " |-- ESTADO_x: string (nullable = true)\n",
      " |-- CodigoInvente: string (nullable = true)\n",
      " |-- DenominacionSocial: string (nullable = true)\n",
      " |-- FormaJuridica_Codigo: string (nullable = true)\n",
      " |-- FormaJuridica_Descripcion: string (nullable = true)\n",
      " |-- NIF: string (nullable = true)\n",
      " |-- codigoDir3: string (nullable = true)\n",
      " |-- codigoOrigen: string (nullable = true)\n",
      " |-- Provincia_Codigo: string (nullable = true)\n",
      " |-- C_DNM_UD_ORGANICA: string (nullable = true)\n",
      " |-- C_ID_NIVEL_ADMON: string (nullable = true)\n",
      " |-- C_ID_TIPO_ENT_PUBLICA: string (nullable = true)\n",
      " |-- N_NIVEL_JERARQUICO: string (nullable = true)\n",
      " |-- C_ID_DEP_UD_SUPERIOR: string (nullable = true)\n",
      " |-- C_DNM_UD_ORGANICA_SUPERIOR: string (nullable = true)\n",
      " |-- C_ID_DEP_UD_PRINCIPAL: string (nullable = true)\n",
      " |-- C_DNM_UD_ORGANICA_PRINCIPAL: string (nullable = true)\n",
      " |-- B_SW_DEP_EDP_PRINCIPAL: string (nullable = true)\n",
      " |-- C_ID_DEP_EDP_PRINCIPAL: string (nullable = true)\n",
      " |-- C_DNM_UD_ORGANICA_EDP_PRINCIPAL: string (nullable = true)\n",
      " |-- C_ID_ESTADO: string (nullable = true)\n",
      " |-- D_VIG_ALTA_OFICIAL: string (nullable = true)\n",
      " |-- NIF_CIF: string (nullable = true)\n",
      " |-- C_ID_AMB_PROVINCIA: string (nullable = true)\n",
      " |-- C_DESC_PROV: string (nullable = true)\n",
      " |-- CONTACTOS: string (nullable = true)\n",
      " |-- C_ID_DEP_UD_PRINCIPAL: string (nullable = true)\n",
      " |-- List_Entidad_Norm: string (nullable = true)\n",
      " |-- List_Provincia_Entidad: string (nullable = true)\n",
      " |-- List_CIF: string (nullable = true)\n",
      "\n"
     ]
    }
   ],
   "source": [
    "final.printSchema()"
   ]
  },
  {
   "cell_type": "code",
   "execution_count": null,
   "id": "0280fe87",
   "metadata": {},
   "outputs": [],
   "source": []
  },
  {
   "cell_type": "code",
   "execution_count": 51,
   "id": "e22a42da",
   "metadata": {},
   "outputs": [
    {
     "name": "stdout",
     "output_type": "stream",
     "text": [
      "root\n",
      " |-- Id: string (nullable = true)\n",
      " |-- CIF: string (nullable = true)\n",
      " |-- Entidad_Norm: string (nullable = true)\n",
      " |-- Provincia_Entidad: string (nullable = true)\n",
      " |-- ID_ENTIDAD: string (nullable = true)\n",
      " |-- NIF_COD: string (nullable = true)\n",
      " |-- ACRONIMO: string (nullable = true)\n",
      " |-- NOMBRE_ENTIDAD: string (nullable = true)\n",
      " |-- Nombre_Entidad_Mostrar: string (nullable = true)\n",
      " |-- TIPO_ENTIDAD_N1_1: string (nullable = true)\n",
      " |-- TIPO_ENTIDAD_N2_1: string (nullable = true)\n",
      " |-- DIRECCION_POSTAL: string (nullable = true)\n",
      " |-- COD_POSTAL: string (nullable = true)\n",
      " |-- COD_PROVINCIA: string (nullable = true)\n",
      " |-- PROVINCIA: string (nullable = true)\n",
      " |-- COD_CCAA: string (nullable = true)\n",
      " |-- CCAA: string (nullable = true)\n",
      " |-- ENLACE_WEB: string (nullable = true)\n",
      " |-- SOMMA: string (nullable = true)\n",
      " |-- TIPO_ENTIDAD_REGIONAL: string (nullable = true)\n",
      " |-- ESTADO_x: string (nullable = true)\n",
      " |-- CodigoInvente: string (nullable = true)\n",
      " |-- DenominacionSocial: string (nullable = true)\n",
      " |-- FormaJuridica_Codigo: string (nullable = true)\n",
      " |-- FormaJuridica_Descripcion: string (nullable = true)\n",
      " |-- NIF: string (nullable = true)\n",
      " |-- codigoDir3: string (nullable = true)\n",
      " |-- codigoOrigen: string (nullable = true)\n",
      " |-- Provincia_Codigo: string (nullable = true)\n",
      " |-- C_ID_UD_ORGANICA: string (nullable = true)\n",
      " |-- C_DNM_UD_ORGANICA: string (nullable = true)\n",
      " |-- C_ID_NIVEL_ADMON: string (nullable = true)\n",
      " |-- C_ID_TIPO_ENT_PUBLICA: string (nullable = true)\n",
      " |-- N_NIVEL_JERARQUICO: string (nullable = true)\n",
      " |-- C_ID_DEP_UD_SUPERIOR: string (nullable = true)\n",
      " |-- C_DNM_UD_ORGANICA_SUPERIOR: string (nullable = true)\n",
      " |-- C_ID_DEP_UD_PRINCIPAL: string (nullable = true)\n",
      " |-- C_DNM_UD_ORGANICA_PRINCIPAL: string (nullable = true)\n",
      " |-- B_SW_DEP_EDP_PRINCIPAL: string (nullable = true)\n",
      " |-- C_ID_DEP_EDP_PRINCIPAL: string (nullable = true)\n",
      " |-- C_DNM_UD_ORGANICA_EDP_PRINCIPAL: string (nullable = true)\n",
      " |-- C_ID_ESTADO: string (nullable = true)\n",
      " |-- D_VIG_ALTA_OFICIAL: string (nullable = true)\n",
      " |-- NIF_CIF: string (nullable = true)\n",
      " |-- C_ID_AMB_PROVINCIA: string (nullable = true)\n",
      " |-- C_DESC_PROV: string (nullable = true)\n",
      " |-- CONTACTOS: string (nullable = true)\n",
      " |-- List_Entidad_Norm: string (nullable = true)\n",
      " |-- List_Provincia_Entidad: string (nullable = true)\n",
      " |-- List_CIF: string (nullable = true)\n",
      "\n"
     ]
    }
   ],
   "source": [
    "fi4.printSchema()"
   ]
  },
  {
   "cell_type": "code",
   "execution_count": null,
   "id": "a42b45f9",
   "metadata": {},
   "outputs": [],
   "source": []
  },
  {
   "cell_type": "code",
   "execution_count": null,
   "id": "ac7bb8ac",
   "metadata": {},
   "outputs": [],
   "source": []
  },
  {
   "cell_type": "code",
   "execution_count": null,
   "id": "1ad37e4b",
   "metadata": {},
   "outputs": [],
   "source": []
  },
  {
   "cell_type": "code",
   "execution_count": null,
   "id": "91af7f8e",
   "metadata": {},
   "outputs": [],
   "source": []
  },
  {
   "cell_type": "code",
   "execution_count": null,
   "id": "f9898ce2",
   "metadata": {},
   "outputs": [],
   "source": []
  },
  {
   "cell_type": "code",
   "execution_count": null,
   "id": "7b915085",
   "metadata": {},
   "outputs": [],
   "source": []
  },
  {
   "cell_type": "code",
   "execution_count": null,
   "id": "966de426",
   "metadata": {},
   "outputs": [],
   "source": []
  },
  {
   "cell_type": "code",
   "execution_count": 6,
   "id": "b7024720",
   "metadata": {},
   "outputs": [
    {
     "data": {
      "text/plain": [
       "['Id',\n",
       " 'Entidad',\n",
       " 'Origen_Solicitud',\n",
       " 'Identificadores_Origen',\n",
       " 'Entidad_Norm',\n",
       " 'CIF',\n",
       " 'CIF_validacion',\n",
       " 'Centro',\n",
       " 'Centro_Norm',\n",
       " 'Tipo',\n",
       " 'Provincia_Entidad',\n",
       " 'Pais_Entidad',\n",
       " 'Provincia_Centro',\n",
       " 'PIC',\n",
       " 'Tipo_Persona',\n",
       " 'Entidad_Match',\n",
       " 'Provincia_Match',\n",
       " 'Match',\n",
       " 'Id_NIVEL_1',\n",
       " 'Id_NIVEL_0',\n",
       " 'ID_ENTIDAD_NIVEL_0',\n",
       " 'ID_ENTIDAD_NIVEL_1',\n",
       " 'Jerarquia',\n",
       " 'NIF_COD_NIVEL_0',\n",
       " 'ACRONIMO_NIVEL_0',\n",
       " 'NOMBRE_ENTIDAD_NIVEL_0',\n",
       " 'Nombre_Entidad_Mostrar_NIVEL_0',\n",
       " 'TIPO_ENTIDAD_N1_1_NIVEL_0',\n",
       " 'TIPO_ENTIDAD_N2_1_NIVEL_0',\n",
       " 'DIRECCION_POSTAL_NIVEL_0',\n",
       " 'COD_POSTAL_NIVEL_0',\n",
       " 'COD_PROVINCIA_NIVEL_0',\n",
       " 'PROVINCIA_NIVEL_0',\n",
       " 'COD_CCAA_NIVEL_0',\n",
       " 'CCAA_NIVEL_0',\n",
       " 'ENLACE_WEB_NIVEL_0',\n",
       " 'SOMMA_NIVEL_0',\n",
       " 'TIPO_ENTIDAD_REGIONAL_NIVEL_0',\n",
       " 'ESTADO_x_NIVEL_0',\n",
       " 'NIF_COD_NIVEL_1',\n",
       " 'ACRONIMO_NIVEL_1',\n",
       " 'NOMBRE_ENTIDAD_NIVEL_1',\n",
       " 'Nombre_Entidad_Mostrar_NIVEL_1',\n",
       " 'TIPO_ENTIDAD_N1_1_NIVEL_1',\n",
       " 'TIPO_ENTIDAD_N2_1_NIVEL_1',\n",
       " 'DIRECCION_POSTAL_NIVEL_1',\n",
       " 'COD_POSTAL_NIVEL_1',\n",
       " 'COD_PROVINCIA_NIVEL_1',\n",
       " 'PROVINCIA_NIVEL_1',\n",
       " 'COD_CCAA_NIVEL_1',\n",
       " 'CCAA_NIVEL_1',\n",
       " 'ENLACE_WEB_NIVEL_1',\n",
       " 'SOMMA_NIVEL_1',\n",
       " 'TIPO_ENTIDAD_REGIONAL_NIVEL_1',\n",
       " 'ESTADO_x_NIVEL_1']"
      ]
     },
     "execution_count": 6,
     "metadata": {},
     "output_type": "execute_result"
    }
   ],
   "source": [
    "cruce1.columns"
   ]
  },
  {
   "cell_type": "code",
   "execution_count": 88,
   "id": "fe7963a1",
   "metadata": {},
   "outputs": [
    {
     "name": "stdout",
     "output_type": "stream",
     "text": [
      "{'CIF', 'Entidad_Norm', 'Id', 'Provincia_Entidad'}\n"
     ]
    }
   ],
   "source": [
    "setA = set(cruce1.columns)\n",
    "setB = set(fi4.columns)\n",
    "\n",
    "print(setA & setB)"
   ]
  },
  {
   "cell_type": "code",
   "execution_count": 15,
   "id": "5b38f4e9",
   "metadata": {},
   "outputs": [
    {
     "data": {
      "text/plain": [
       "['Id',\n",
       " 'CIF',\n",
       " 'Entidad_Norm',\n",
       " 'Provincia_Entidad',\n",
       " 'ID_ENTIDAD',\n",
       " 'NIF_COD',\n",
       " 'ACRONIMO',\n",
       " 'NOMBRE_ENTIDAD',\n",
       " 'Nombre_Entidad_Mostrar',\n",
       " 'TIPO_ENTIDAD_N1_1',\n",
       " 'TIPO_ENTIDAD_N2_1',\n",
       " 'DIRECCION_POSTAL',\n",
       " 'COD_POSTAL',\n",
       " 'COD_PROVINCIA',\n",
       " 'PROVINCIA',\n",
       " 'COD_CCAA',\n",
       " 'CCAA',\n",
       " 'ENLACE_WEB',\n",
       " 'SOMMA',\n",
       " 'TIPO_ENTIDAD_REGIONAL',\n",
       " 'ESTADO_x',\n",
       " 'CodigoInvente',\n",
       " 'DenominacionSocial',\n",
       " 'FormaJuridica_Codigo',\n",
       " 'FormaJuridica_Descripcion',\n",
       " 'NIF',\n",
       " 'codigoDir3',\n",
       " 'codigoOrigen',\n",
       " 'Provincia_Codigo',\n",
       " 'C_ID_UD_ORGANICA',\n",
       " 'C_DNM_UD_ORGANICA',\n",
       " 'C_ID_NIVEL_ADMON',\n",
       " 'C_ID_TIPO_ENT_PUBLICA',\n",
       " 'N_NIVEL_JERARQUICO',\n",
       " 'C_ID_DEP_UD_SUPERIOR',\n",
       " 'C_DNM_UD_ORGANICA_SUPERIOR',\n",
       " 'C_ID_DEP_UD_PRINCIPAL',\n",
       " 'C_DNM_UD_ORGANICA_PRINCIPAL',\n",
       " 'B_SW_DEP_EDP_PRINCIPAL',\n",
       " 'C_ID_DEP_EDP_PRINCIPAL',\n",
       " 'C_DNM_UD_ORGANICA_EDP_PRINCIPAL',\n",
       " 'C_ID_ESTADO',\n",
       " 'D_VIG_ALTA_OFICIAL',\n",
       " 'NIF_CIF',\n",
       " 'C_ID_AMB_PROVINCIA',\n",
       " 'C_DESC_PROV',\n",
       " 'CONTACTOS',\n",
       " 'List_Entidad_Norm',\n",
       " 'List_Provincia_Entidad',\n",
       " 'List_CIF']"
      ]
     },
     "execution_count": 15,
     "metadata": {},
     "output_type": "execute_result"
    }
   ],
   "source": []
  },
  {
   "cell_type": "code",
   "execution_count": null,
   "id": "2f184689",
   "metadata": {},
   "outputs": [],
   "source": []
  },
  {
   "cell_type": "code",
   "execution_count": null,
   "id": "76c4e0f4",
   "metadata": {},
   "outputs": [],
   "source": []
  },
  {
   "cell_type": "code",
   "execution_count": 14,
   "id": "184d4742",
   "metadata": {},
   "outputs": [
    {
     "name": "stdout",
     "output_type": "stream",
     "text": [
      "root\n",
      " |-- Id: string (nullable = true)\n",
      " |-- Entidad: string (nullable = true)\n",
      " |-- Origen_Solicitud: string (nullable = true)\n",
      " |-- Identificadores_Origen: string (nullable = true)\n",
      " |-- Entidad_Norm: string (nullable = true)\n",
      " |-- CIF: string (nullable = true)\n",
      " |-- CIF_validacion: string (nullable = true)\n",
      " |-- Centro: string (nullable = true)\n",
      " |-- Centro_Norm: string (nullable = true)\n",
      " |-- Tipo: string (nullable = true)\n",
      " |-- Provincia_Entidad: string (nullable = true)\n",
      " |-- Pais_Entidad: string (nullable = true)\n",
      " |-- Provincia_Centro: string (nullable = true)\n",
      " |-- PIC: string (nullable = true)\n",
      " |-- Tipo_Persona: string (nullable = true)\n",
      " |-- Entidad_Match: string (nullable = true)\n",
      " |-- Provincia_Match: string (nullable = true)\n",
      " |-- Match: string (nullable = true)\n",
      " |-- Id_NIVEL_1: string (nullable = true)\n",
      " |-- Id_NIVEL_0: string (nullable = true)\n",
      " |-- ID_ENTIDAD_NIVEL_0: string (nullable = true)\n",
      " |-- ID_ENTIDAD_NIVEL_1: string (nullable = true)\n",
      " |-- Jerarquia: string (nullable = true)\n",
      " |-- NIF_COD_NIVEL_0: string (nullable = true)\n",
      " |-- ACRONIMO_NIVEL_0: string (nullable = true)\n",
      " |-- NOMBRE_ENTIDAD_NIVEL_0: string (nullable = true)\n",
      " |-- Nombre_Entidad_Mostrar_NIVEL_0: string (nullable = true)\n",
      " |-- TIPO_ENTIDAD_N1_1_NIVEL_0: string (nullable = true)\n",
      " |-- TIPO_ENTIDAD_N2_1_NIVEL_0: string (nullable = true)\n",
      " |-- DIRECCION_POSTAL_NIVEL_0: string (nullable = true)\n",
      " |-- COD_POSTAL_NIVEL_0: string (nullable = true)\n",
      " |-- COD_PROVINCIA_NIVEL_0: string (nullable = true)\n",
      " |-- PROVINCIA_NIVEL_0: string (nullable = true)\n",
      " |-- COD_CCAA_NIVEL_0: string (nullable = true)\n",
      " |-- CCAA_NIVEL_0: string (nullable = true)\n",
      " |-- ENLACE_WEB_NIVEL_0: string (nullable = true)\n",
      " |-- SOMMA_NIVEL_0: string (nullable = true)\n",
      " |-- TIPO_ENTIDAD_REGIONAL_NIVEL_0: string (nullable = true)\n",
      " |-- ESTADO_x_NIVEL_0: string (nullable = true)\n",
      " |-- NIF_COD_NIVEL_1: string (nullable = true)\n",
      " |-- ACRONIMO_NIVEL_1: string (nullable = true)\n",
      " |-- NOMBRE_ENTIDAD_NIVEL_1: string (nullable = true)\n",
      " |-- Nombre_Entidad_Mostrar_NIVEL_1: string (nullable = true)\n",
      " |-- TIPO_ENTIDAD_N1_1_NIVEL_1: string (nullable = true)\n",
      " |-- TIPO_ENTIDAD_N2_1_NIVEL_1: string (nullable = true)\n",
      " |-- DIRECCION_POSTAL_NIVEL_1: string (nullable = true)\n",
      " |-- COD_POSTAL_NIVEL_1: string (nullable = true)\n",
      " |-- COD_PROVINCIA_NIVEL_1: string (nullable = true)\n",
      " |-- PROVINCIA_NIVEL_1: string (nullable = true)\n",
      " |-- COD_CCAA_NIVEL_1: string (nullable = true)\n",
      " |-- CCAA_NIVEL_1: string (nullable = true)\n",
      " |-- ENLACE_WEB_NIVEL_1: string (nullable = true)\n",
      " |-- SOMMA_NIVEL_1: string (nullable = true)\n",
      " |-- TIPO_ENTIDAD_REGIONAL_NIVEL_1: string (nullable = true)\n",
      " |-- ESTADO_x_NIVEL_1: string (nullable = true)\n",
      " |-- Similitud: float (nullable = true)\n",
      "\n"
     ]
    }
   ],
   "source": [
    "cruce1.printSchema()"
   ]
  },
  {
   "cell_type": "code",
   "execution_count": null,
   "id": "d85bb041",
   "metadata": {},
   "outputs": [],
   "source": []
  },
  {
   "cell_type": "code",
   "execution_count": 12,
   "id": "58916892",
   "metadata": {},
   "outputs": [
    {
     "name": "stdout",
     "output_type": "stream",
     "text": [
      "root\n",
      " |-- Id: string (nullable = true)\n",
      " |-- CIF: string (nullable = true)\n",
      " |-- Entidad_Norm: string (nullable = true)\n",
      " |-- Provincia_Entidad: string (nullable = true)\n",
      " |-- ID_ENTIDAD: string (nullable = true)\n",
      " |-- NIF_COD: string (nullable = true)\n",
      " |-- ACRONIMO: string (nullable = true)\n",
      " |-- NOMBRE_ENTIDAD: string (nullable = true)\n",
      " |-- Nombre_Entidad_Mostrar: string (nullable = true)\n",
      " |-- TIPO_ENTIDAD_N1_1: string (nullable = true)\n",
      " |-- TIPO_ENTIDAD_N2_1: string (nullable = true)\n",
      " |-- DIRECCION_POSTAL: string (nullable = true)\n",
      " |-- COD_POSTAL: string (nullable = true)\n",
      " |-- COD_PROVINCIA: string (nullable = true)\n",
      " |-- PROVINCIA: string (nullable = true)\n",
      " |-- COD_CCAA: string (nullable = true)\n",
      " |-- CCAA: string (nullable = true)\n",
      " |-- ENLACE_WEB: string (nullable = true)\n",
      " |-- SOMMA: string (nullable = true)\n",
      " |-- TIPO_ENTIDAD_REGIONAL: string (nullable = true)\n",
      " |-- ESTADO_x: string (nullable = true)\n",
      " |-- CodigoInvente: string (nullable = true)\n",
      " |-- DenominacionSocial: string (nullable = true)\n",
      " |-- FormaJuridica_Codigo: string (nullable = true)\n",
      " |-- FormaJuridica_Descripcion: string (nullable = true)\n",
      " |-- NIF: string (nullable = true)\n",
      " |-- codigoDir3: string (nullable = true)\n",
      " |-- codigoOrigen: string (nullable = true)\n",
      " |-- Provincia_Codigo: string (nullable = true)\n",
      " |-- C_ID_UD_ORGANICA: string (nullable = true)\n",
      " |-- C_DNM_UD_ORGANICA: string (nullable = true)\n",
      " |-- C_ID_NIVEL_ADMON: string (nullable = true)\n",
      " |-- C_ID_TIPO_ENT_PUBLICA: string (nullable = true)\n",
      " |-- N_NIVEL_JERARQUICO: string (nullable = true)\n",
      " |-- C_ID_DEP_UD_SUPERIOR: string (nullable = true)\n",
      " |-- C_DNM_UD_ORGANICA_SUPERIOR: string (nullable = true)\n",
      " |-- C_ID_DEP_UD_PRINCIPAL: string (nullable = true)\n",
      " |-- C_DNM_UD_ORGANICA_PRINCIPAL: string (nullable = true)\n",
      " |-- B_SW_DEP_EDP_PRINCIPAL: string (nullable = true)\n",
      " |-- C_ID_DEP_EDP_PRINCIPAL: string (nullable = true)\n",
      " |-- C_DNM_UD_ORGANICA_EDP_PRINCIPAL: string (nullable = true)\n",
      " |-- C_ID_ESTADO: string (nullable = true)\n",
      " |-- D_VIG_ALTA_OFICIAL: string (nullable = true)\n",
      " |-- NIF_CIF: string (nullable = true)\n",
      " |-- C_ID_AMB_PROVINCIA: string (nullable = true)\n",
      " |-- C_DESC_PROV: string (nullable = true)\n",
      " |-- CONTACTOS: string (nullable = true)\n",
      " |-- List_Entidad_Norm: string (nullable = true)\n",
      " |-- List_Provincia_Entidad: string (nullable = true)\n",
      " |-- List_CIF: string (nullable = true)\n",
      "\n"
     ]
    }
   ],
   "source": [
    "fi4.printSchema()\n"
   ]
  },
  {
   "cell_type": "code",
   "execution_count": 21,
   "id": "b9ecc6e5",
   "metadata": {},
   "outputs": [
    {
     "name": "stdout",
     "output_type": "stream",
     "text": [
      "root\n",
      " |-- Id_NIVEL_1: string (nullable = true)\n",
      " |-- Id_NIVEL_0: string (nullable = true)\n",
      " |-- ID_ENTIDAD_NIVEL_0: string (nullable = true)\n",
      " |-- ID_ENTIDAD_NIVEL_1: string (nullable = true)\n",
      " |-- Jerarquia: string (nullable = true)\n",
      " |-- NIF_COD_NIVEL_0: string (nullable = true)\n",
      " |-- ACRONIMO_NIVEL_0: string (nullable = true)\n",
      " |-- NOMBRE_ENTIDAD_NIVEL_0: string (nullable = true)\n",
      " |-- Nombre_Entidad_Mostrar_NIVEL_0: string (nullable = true)\n",
      " |-- TIPO_ENTIDAD_N1_1_NIVEL_0: string (nullable = true)\n",
      " |-- TIPO_ENTIDAD_N2_1_NIVEL_0: string (nullable = true)\n",
      " |-- DIRECCION_POSTAL_NIVEL_0: string (nullable = true)\n",
      " |-- COD_POSTAL_NIVEL_0: string (nullable = true)\n",
      " |-- COD_PROVINCIA_NIVEL_0: string (nullable = true)\n",
      " |-- PROVINCIA_NIVEL_0: string (nullable = true)\n",
      " |-- COD_CCAA_NIVEL_0: string (nullable = true)\n",
      " |-- CCAA_NIVEL_0: string (nullable = true)\n",
      " |-- ENLACE_WEB_NIVEL_0: string (nullable = true)\n",
      " |-- SOMMA_NIVEL_0: string (nullable = true)\n",
      " |-- TIPO_ENTIDAD_REGIONAL_NIVEL_0: string (nullable = true)\n",
      " |-- ESTADO_x_NIVEL_0: string (nullable = true)\n",
      " |-- NIF_COD_NIVEL_1: string (nullable = true)\n",
      " |-- ACRONIMO_NIVEL_1: string (nullable = true)\n",
      " |-- NOMBRE_ENTIDAD_NIVEL_1: string (nullable = true)\n",
      " |-- Nombre_Entidad_Mostrar_NIVEL_1: string (nullable = true)\n",
      " |-- TIPO_ENTIDAD_N1_1_NIVEL_1: string (nullable = true)\n",
      " |-- TIPO_ENTIDAD_N2_1_NIVEL_1: string (nullable = true)\n",
      " |-- DIRECCION_POSTAL_NIVEL_1: string (nullable = true)\n",
      " |-- COD_POSTAL_NIVEL_1: string (nullable = true)\n",
      " |-- COD_PROVINCIA_NIVEL_1: string (nullable = true)\n",
      " |-- PROVINCIA_NIVEL_1: string (nullable = true)\n",
      " |-- COD_CCAA_NIVEL_1: string (nullable = true)\n",
      " |-- CCAA_NIVEL_1: string (nullable = true)\n",
      " |-- ENLACE_WEB_NIVEL_1: string (nullable = true)\n",
      " |-- SOMMA_NIVEL_1: string (nullable = true)\n",
      " |-- TIPO_ENTIDAD_REGIONAL_NIVEL_1: string (nullable = true)\n",
      " |-- ESTADO_x_NIVEL_1: string (nullable = true)\n",
      "\n"
     ]
    }
   ],
   "source": [
    "a12.printSchema()"
   ]
  }
 ],
 "metadata": {
  "kernelspec": {
   "display_name": "Python 3 (ipykernel)",
   "language": "python",
   "name": "python3"
  },
  "language_info": {
   "codemirror_mode": {
    "name": "ipython",
    "version": 3
   },
   "file_extension": ".py",
   "mimetype": "text/x-python",
   "name": "python",
   "nbconvert_exporter": "python",
   "pygments_lexer": "ipython3",
   "version": "3.9.7"
  }
 },
 "nbformat": 4,
 "nbformat_minor": 5
}
