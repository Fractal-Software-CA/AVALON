{
 "cells": [
  {
   "cell_type": "code",
   "execution_count": 1,
   "id": "7b280d4c-951a-41e3-b9eb-60ca08613224",
   "metadata": {},
   "outputs": [],
   "source": [
    "from FuncionAzul import *"
   ]
  },
  {
   "cell_type": "markdown",
   "id": "1af363ea-6baa-4b85-9e92-8cfaddbefffe",
   "metadata": {},
   "source": [
    "# Para ejecutar el flujo completo"
   ]
  },
  {
   "cell_type": "code",
   "execution_count": 2,
   "id": "d666208c-e271-4249-88a1-161dec0c0faa",
   "metadata": {
    "scrolled": true,
    "tags": []
   },
   "outputs": [
    {
     "name": "stdout",
     "output_type": "stream",
     "text": [
      "Almacenando fichero en la ruta test/DATA_SIC_ENTIDADES_CENTROS_PB\n"
     ]
    },
    {
     "name": "stderr",
     "output_type": "stream",
     "text": [
      "----------------------------------------\n",
      "Exception happened during processing of request from ('127.0.0.1', 39342)\n",
      "Traceback (most recent call last):\n",
      "  File \"/usr/lib/python3.8/socketserver.py\", line 316, in _handle_request_noblock\n",
      "    self.process_request(request, client_address)\n",
      "  File \"/usr/lib/python3.8/socketserver.py\", line 347, in process_request\n",
      "    self.finish_request(request, client_address)\n",
      "  File \"/usr/lib/python3.8/socketserver.py\", line 360, in finish_request\n",
      "    self.RequestHandlerClass(request, client_address, self)\n",
      "  File \"/usr/lib/python3.8/socketserver.py\", line 720, in __init__\n",
      "    self.handle()\n",
      "  File \"/home/gaszsantana/virtual/lib/python3.8/site-packages/pyspark/accumulators.py\", line 281, in handle\n",
      "    poll(accum_updates)\n",
      "  File \"/home/gaszsantana/virtual/lib/python3.8/site-packages/pyspark/accumulators.py\", line 253, in poll\n",
      "    if func():\n",
      "  File \"/home/gaszsantana/virtual/lib/python3.8/site-packages/pyspark/accumulators.py\", line 257, in accum_updates\n",
      "    num_updates = read_int(self.rfile)\n",
      "  File \"/home/gaszsantana/virtual/lib/python3.8/site-packages/pyspark/serializers.py\", line 595, in read_int\n",
      "    raise EOFError\n",
      "EOFError\n",
      "----------------------------------------\n",
      "ERROR:root:Exception while sending command.\n",
      "Traceback (most recent call last):\n",
      "  File \"/home/gaszsantana/virtual/lib/python3.8/site-packages/py4j/clientserver.py\", line 516, in send_command\n",
      "    raise Py4JNetworkError(\"Answer from Java side is empty\")\n",
      "py4j.protocol.Py4JNetworkError: Answer from Java side is empty\n",
      "\n",
      "During handling of the above exception, another exception occurred:\n",
      "\n",
      "Traceback (most recent call last):\n",
      "  File \"/home/gaszsantana/virtual/lib/python3.8/site-packages/py4j/java_gateway.py\", line 1038, in send_command\n",
      "    response = connection.send_command(command)\n",
      "  File \"/home/gaszsantana/virtual/lib/python3.8/site-packages/py4j/clientserver.py\", line 539, in send_command\n",
      "    raise Py4JNetworkError(\n",
      "py4j.protocol.Py4JNetworkError: Error while sending or receiving\n"
     ]
    },
    {
     "ename": "ConnectionRefusedError",
     "evalue": "[Errno 111] Connection refused",
     "output_type": "error",
     "traceback": [
      "\u001b[0;31m---------------------------------------------------------------------------\u001b[0m",
      "\u001b[0;31mPy4JError\u001b[0m                                 Traceback (most recent call last)",
      "\u001b[0;32m~/virtual/lib/python3.8/site-packages/pyspark/sql/dataframe.py\u001b[0m in \u001b[0;36mcollect\u001b[0;34m(self)\u001b[0m\n\u001b[1;32m    816\u001b[0m         \u001b[0;32mwith\u001b[0m \u001b[0mSCCallSiteSync\u001b[0m\u001b[0;34m(\u001b[0m\u001b[0mself\u001b[0m\u001b[0;34m.\u001b[0m\u001b[0m_sc\u001b[0m\u001b[0;34m)\u001b[0m\u001b[0;34m:\u001b[0m\u001b[0;34m\u001b[0m\u001b[0;34m\u001b[0m\u001b[0m\n\u001b[0;32m--> 817\u001b[0;31m             \u001b[0msock_info\u001b[0m \u001b[0;34m=\u001b[0m \u001b[0mself\u001b[0m\u001b[0;34m.\u001b[0m\u001b[0m_jdf\u001b[0m\u001b[0;34m.\u001b[0m\u001b[0mcollectToPython\u001b[0m\u001b[0;34m(\u001b[0m\u001b[0;34m)\u001b[0m\u001b[0;34m\u001b[0m\u001b[0;34m\u001b[0m\u001b[0m\n\u001b[0m\u001b[1;32m    818\u001b[0m         \u001b[0;32mreturn\u001b[0m \u001b[0mlist\u001b[0m\u001b[0;34m(\u001b[0m\u001b[0m_load_from_socket\u001b[0m\u001b[0;34m(\u001b[0m\u001b[0msock_info\u001b[0m\u001b[0;34m,\u001b[0m \u001b[0mBatchedSerializer\u001b[0m\u001b[0;34m(\u001b[0m\u001b[0mCPickleSerializer\u001b[0m\u001b[0;34m(\u001b[0m\u001b[0;34m)\u001b[0m\u001b[0;34m)\u001b[0m\u001b[0;34m)\u001b[0m\u001b[0;34m)\u001b[0m\u001b[0;34m\u001b[0m\u001b[0;34m\u001b[0m\u001b[0m\n",
      "\u001b[0;32m~/virtual/lib/python3.8/site-packages/py4j/java_gateway.py\u001b[0m in \u001b[0;36m__call__\u001b[0;34m(self, *args)\u001b[0m\n\u001b[1;32m   1320\u001b[0m         \u001b[0manswer\u001b[0m \u001b[0;34m=\u001b[0m \u001b[0mself\u001b[0m\u001b[0;34m.\u001b[0m\u001b[0mgateway_client\u001b[0m\u001b[0;34m.\u001b[0m\u001b[0msend_command\u001b[0m\u001b[0;34m(\u001b[0m\u001b[0mcommand\u001b[0m\u001b[0;34m)\u001b[0m\u001b[0;34m\u001b[0m\u001b[0;34m\u001b[0m\u001b[0m\n\u001b[0;32m-> 1321\u001b[0;31m         return_value = get_return_value(\n\u001b[0m\u001b[1;32m   1322\u001b[0m             answer, self.gateway_client, self.target_id, self.name)\n",
      "\u001b[0;32m~/virtual/lib/python3.8/site-packages/pyspark/sql/utils.py\u001b[0m in \u001b[0;36mdeco\u001b[0;34m(*a, **kw)\u001b[0m\n\u001b[1;32m    189\u001b[0m         \u001b[0;32mtry\u001b[0m\u001b[0;34m:\u001b[0m\u001b[0;34m\u001b[0m\u001b[0;34m\u001b[0m\u001b[0m\n\u001b[0;32m--> 190\u001b[0;31m             \u001b[0;32mreturn\u001b[0m \u001b[0mf\u001b[0m\u001b[0;34m(\u001b[0m\u001b[0;34m*\u001b[0m\u001b[0ma\u001b[0m\u001b[0;34m,\u001b[0m \u001b[0;34m**\u001b[0m\u001b[0mkw\u001b[0m\u001b[0;34m)\u001b[0m\u001b[0;34m\u001b[0m\u001b[0;34m\u001b[0m\u001b[0m\n\u001b[0m\u001b[1;32m    191\u001b[0m         \u001b[0;32mexcept\u001b[0m \u001b[0mPy4JJavaError\u001b[0m \u001b[0;32mas\u001b[0m \u001b[0me\u001b[0m\u001b[0;34m:\u001b[0m\u001b[0;34m\u001b[0m\u001b[0;34m\u001b[0m\u001b[0m\n",
      "\u001b[0;32m~/virtual/lib/python3.8/site-packages/py4j/protocol.py\u001b[0m in \u001b[0;36mget_return_value\u001b[0;34m(answer, gateway_client, target_id, name)\u001b[0m\n\u001b[1;32m    333\u001b[0m         \u001b[0;32melse\u001b[0m\u001b[0;34m:\u001b[0m\u001b[0;34m\u001b[0m\u001b[0;34m\u001b[0m\u001b[0m\n\u001b[0;32m--> 334\u001b[0;31m             raise Py4JError(\n\u001b[0m\u001b[1;32m    335\u001b[0m                 \u001b[0;34m\"An error occurred while calling {0}{1}{2}\"\u001b[0m\u001b[0;34m.\u001b[0m\u001b[0;34m\u001b[0m\u001b[0;34m\u001b[0m\u001b[0m\n",
      "\u001b[0;31mPy4JError\u001b[0m: An error occurred while calling o630.collectToPython",
      "\nDuring handling of the above exception, another exception occurred:\n",
      "\u001b[0;31mConnectionRefusedError\u001b[0m                    Traceback (most recent call last)",
      "\u001b[0;32m<ipython-input-2-aeb98a10187a>\u001b[0m in \u001b[0;36m<module>\u001b[0;34m\u001b[0m\n\u001b[0;32m----> 1\u001b[0;31m FuncionAzul(Ruta_Nombre_Input_entidades = \"DATA_SIC_ENTIDADES_PUBLICAS_SOLICITUD_ESP.csv\", \n\u001b[0m\u001b[1;32m      2\u001b[0m             \u001b[0mRuta_Nombre_Input_investigadores\u001b[0m \u001b[0;34m=\u001b[0m \u001b[0;34m\"DATA_SIC_INVEST_UO_FIL_PB_J_MAESTRO.csv\"\u001b[0m\u001b[0;34m,\u001b[0m\u001b[0;34m\u001b[0m\u001b[0;34m\u001b[0m\u001b[0m\n\u001b[1;32m      3\u001b[0m             \u001b[0mRuta_Nombre_Input_relaciones\u001b[0m \u001b[0;34m=\u001b[0m \u001b[0;34m\"DATA_SIC_RELACIONES_ENTIDADES_PB_AYUDAS_ESP_A6CORREC_new.csv\"\u001b[0m\u001b[0;34m,\u001b[0m\u001b[0;34m\u001b[0m\u001b[0;34m\u001b[0m\u001b[0m\n\u001b[1;32m      4\u001b[0m             \u001b[0mRuta_Nombre_Input_invente\u001b[0m \u001b[0;34m=\u001b[0m \u001b[0;34m'Analisis_entidades_invente_15-02-2022.xlsx'\u001b[0m\u001b[0;34m,\u001b[0m\u001b[0;34m\u001b[0m\u001b[0;34m\u001b[0m\u001b[0m\n\u001b[1;32m      5\u001b[0m             \u001b[0mRuta_Nombre_Input_dir3\u001b[0m \u001b[0;34m=\u001b[0m \u001b[0;34m\"DIR3_concatenado_AGE_CCAA_EELL_Universidades.csv\"\u001b[0m\u001b[0;34m,\u001b[0m\u001b[0;34m\u001b[0m\u001b[0;34m\u001b[0m\u001b[0m\n",
      "\u001b[0;32m~/Escritorio/Metodo_FuncionAzul_Final/FuncionAzul.py\u001b[0m in \u001b[0;36mFuncionAzul\u001b[0;34m(Ruta_Nombre_Input_entidades, Ruta_Nombre_Input_investigadores, Ruta_Nombre_Input_relaciones, Ruta_Nombre_Input_invente, Ruta_Nombre_Input_dir3, Ruta_Nombre_Intermedio_cruce1_relaciones, Ruta_Nombre_Intermedio_cruce1_entidades, Ruta_Nombre_Intermedio_cruce2_invente, Ruta_Nombre_Intermedio_cruce3_dir3, Ruta_Nombre_Output_investigadores, Ruta_Nombre_Output_relaciones, Ruta_Nombre_Output_entidades, flag_invente_dir3, Flag_csv)\u001b[0m\n\u001b[1;32m     65\u001b[0m \u001b[0;34m\u001b[0m\u001b[0m\n\u001b[1;32m     66\u001b[0m \u001b[0;34m\u001b[0m\u001b[0m\n\u001b[0;32m---> 67\u001b[0;31m     data,Nombre_Input_relaciones, Nombre_Input_investigadores, Nombre_Intermedio_cruce1_entidades, Nombre_Output_investigadores = cruce1_entidades_Output_investigadores(spark,\n\u001b[0m\u001b[1;32m     68\u001b[0m                                                                                                                                                        \u001b[0mRuta_Nombre_Input_entidades\u001b[0m\u001b[0;34m,\u001b[0m\u001b[0;34m\u001b[0m\u001b[0;34m\u001b[0m\u001b[0m\n\u001b[1;32m     69\u001b[0m                                                                                                                                                        \u001b[0mRuta_Nombre_Input_investigadores\u001b[0m\u001b[0;34m,\u001b[0m\u001b[0;34m\u001b[0m\u001b[0;34m\u001b[0m\u001b[0m\n",
      "\u001b[0;32m~/Escritorio/Metodo_FuncionAzul_Final/fa.py\u001b[0m in \u001b[0;36mcruce1_entidades_Output_investigadores\u001b[0;34m(spark, Ruta_Nombre_Input_entidades, Ruta_Nombre_Input_investigadores, Ruta_Nombre_Input_relaciones, Ruta_Nombre_Intermedio_cruce1_entidades, Ruta_Nombre_Output_investigadores, Flag_csv)\u001b[0m\n\u001b[1;32m    171\u001b[0m     \u001b[0;31m# Aplicación de metodo para almacenar el resultado (parquet, csv, o ambos inclusive)\u001b[0m\u001b[0;34m\u001b[0m\u001b[0;34m\u001b[0m\u001b[0;34m\u001b[0m\u001b[0m\n\u001b[1;32m    172\u001b[0m     \u001b[0;31m# =============================================================================\u001b[0m\u001b[0;34m\u001b[0m\u001b[0;34m\u001b[0m\u001b[0;34m\u001b[0m\u001b[0m\n\u001b[0;32m--> 173\u001b[0;31m     \u001b[0msave_csv_parquet\u001b[0m\u001b[0;34m(\u001b[0m\u001b[0mNombre_Intermedio_cruce1_entidades\u001b[0m\u001b[0;34m,\u001b[0m \u001b[0mFlag_csv\u001b[0m\u001b[0;34m,\u001b[0m \u001b[0mRuta_Nombre_Intermedio_cruce1_entidades\u001b[0m\u001b[0;34m)\u001b[0m\u001b[0;34m\u001b[0m\u001b[0;34m\u001b[0m\u001b[0m\n\u001b[0m\u001b[1;32m    174\u001b[0m \u001b[0;34m\u001b[0m\u001b[0m\n\u001b[1;32m    175\u001b[0m \u001b[0;34m\u001b[0m\u001b[0m\n",
      "\u001b[0;32m~/Escritorio/Metodo_FuncionAzul_Final/function2.py\u001b[0m in \u001b[0;36msave_csv_parquet\u001b[0;34m(var, Flag_csv, ruta)\u001b[0m\n\u001b[1;32m    252\u001b[0m \u001b[0;32mdef\u001b[0m \u001b[0msave_csv_parquet\u001b[0m\u001b[0;34m(\u001b[0m\u001b[0mvar\u001b[0m\u001b[0;34m,\u001b[0m \u001b[0mFlag_csv\u001b[0m\u001b[0;34m,\u001b[0m \u001b[0mruta\u001b[0m\u001b[0;34m)\u001b[0m\u001b[0;34m:\u001b[0m\u001b[0;34m\u001b[0m\u001b[0;34m\u001b[0m\u001b[0m\n\u001b[1;32m    253\u001b[0m     \u001b[0;32mif\u001b[0m \u001b[0mFlag_csv\u001b[0m \u001b[0;34m==\u001b[0m \u001b[0;32mTrue\u001b[0m\u001b[0;34m:\u001b[0m\u001b[0;34m\u001b[0m\u001b[0;34m\u001b[0m\u001b[0m\n\u001b[0;32m--> 254\u001b[0;31m         \u001b[0mvar\u001b[0m\u001b[0;34m.\u001b[0m\u001b[0mtoPandas\u001b[0m\u001b[0;34m(\u001b[0m\u001b[0;34m)\u001b[0m\u001b[0;34m.\u001b[0m\u001b[0mto_csv\u001b[0m\u001b[0;34m(\u001b[0m\u001b[0;34mf'{ruta}.csv'\u001b[0m\u001b[0;34m,\u001b[0m \u001b[0mdecimal\u001b[0m\u001b[0;34m=\u001b[0m\u001b[0;34m\",\"\u001b[0m\u001b[0;34m,\u001b[0m \u001b[0mindex\u001b[0m\u001b[0;34m=\u001b[0m\u001b[0;32mFalse\u001b[0m \u001b[0;34m)\u001b[0m\u001b[0;34m\u001b[0m\u001b[0;34m\u001b[0m\u001b[0m\n\u001b[0m\u001b[1;32m    255\u001b[0m \u001b[0;34m\u001b[0m\u001b[0m\n\u001b[1;32m    256\u001b[0m \u001b[0;34m\u001b[0m\u001b[0m\n",
      "\u001b[0;32m~/virtual/lib/python3.8/site-packages/pyspark/sql/pandas/conversion.py\u001b[0m in \u001b[0;36mtoPandas\u001b[0;34m(self)\u001b[0m\n\u001b[1;32m    203\u001b[0m \u001b[0;34m\u001b[0m\u001b[0m\n\u001b[1;32m    204\u001b[0m         \u001b[0;31m# Below is toPandas without Arrow optimization.\u001b[0m\u001b[0;34m\u001b[0m\u001b[0;34m\u001b[0m\u001b[0;34m\u001b[0m\u001b[0m\n\u001b[0;32m--> 205\u001b[0;31m         \u001b[0mpdf\u001b[0m \u001b[0;34m=\u001b[0m \u001b[0mpd\u001b[0m\u001b[0;34m.\u001b[0m\u001b[0mDataFrame\u001b[0m\u001b[0;34m.\u001b[0m\u001b[0mfrom_records\u001b[0m\u001b[0;34m(\u001b[0m\u001b[0mself\u001b[0m\u001b[0;34m.\u001b[0m\u001b[0mcollect\u001b[0m\u001b[0;34m(\u001b[0m\u001b[0;34m)\u001b[0m\u001b[0;34m,\u001b[0m \u001b[0mcolumns\u001b[0m\u001b[0;34m=\u001b[0m\u001b[0mself\u001b[0m\u001b[0;34m.\u001b[0m\u001b[0mcolumns\u001b[0m\u001b[0;34m)\u001b[0m\u001b[0;34m\u001b[0m\u001b[0;34m\u001b[0m\u001b[0m\n\u001b[0m\u001b[1;32m    206\u001b[0m         \u001b[0mcolumn_counter\u001b[0m \u001b[0;34m=\u001b[0m \u001b[0mCounter\u001b[0m\u001b[0;34m(\u001b[0m\u001b[0mself\u001b[0m\u001b[0;34m.\u001b[0m\u001b[0mcolumns\u001b[0m\u001b[0;34m)\u001b[0m\u001b[0;34m\u001b[0m\u001b[0;34m\u001b[0m\u001b[0m\n\u001b[1;32m    207\u001b[0m \u001b[0;34m\u001b[0m\u001b[0m\n",
      "\u001b[0;32m~/virtual/lib/python3.8/site-packages/pyspark/sql/dataframe.py\u001b[0m in \u001b[0;36mcollect\u001b[0;34m(self)\u001b[0m\n\u001b[1;32m    815\u001b[0m         \"\"\"\n\u001b[1;32m    816\u001b[0m         \u001b[0;32mwith\u001b[0m \u001b[0mSCCallSiteSync\u001b[0m\u001b[0;34m(\u001b[0m\u001b[0mself\u001b[0m\u001b[0;34m.\u001b[0m\u001b[0m_sc\u001b[0m\u001b[0;34m)\u001b[0m\u001b[0;34m:\u001b[0m\u001b[0;34m\u001b[0m\u001b[0;34m\u001b[0m\u001b[0m\n\u001b[0;32m--> 817\u001b[0;31m             \u001b[0msock_info\u001b[0m \u001b[0;34m=\u001b[0m \u001b[0mself\u001b[0m\u001b[0;34m.\u001b[0m\u001b[0m_jdf\u001b[0m\u001b[0;34m.\u001b[0m\u001b[0mcollectToPython\u001b[0m\u001b[0;34m(\u001b[0m\u001b[0;34m)\u001b[0m\u001b[0;34m\u001b[0m\u001b[0;34m\u001b[0m\u001b[0m\n\u001b[0m\u001b[1;32m    818\u001b[0m         \u001b[0;32mreturn\u001b[0m \u001b[0mlist\u001b[0m\u001b[0;34m(\u001b[0m\u001b[0m_load_from_socket\u001b[0m\u001b[0;34m(\u001b[0m\u001b[0msock_info\u001b[0m\u001b[0;34m,\u001b[0m \u001b[0mBatchedSerializer\u001b[0m\u001b[0;34m(\u001b[0m\u001b[0mCPickleSerializer\u001b[0m\u001b[0;34m(\u001b[0m\u001b[0;34m)\u001b[0m\u001b[0;34m)\u001b[0m\u001b[0;34m)\u001b[0m\u001b[0;34m)\u001b[0m\u001b[0;34m\u001b[0m\u001b[0;34m\u001b[0m\u001b[0m\n\u001b[1;32m    819\u001b[0m \u001b[0;34m\u001b[0m\u001b[0m\n",
      "\u001b[0;32m~/virtual/lib/python3.8/site-packages/pyspark/traceback_utils.py\u001b[0m in \u001b[0;36m__exit__\u001b[0;34m(self, type, value, tb)\u001b[0m\n\u001b[1;32m     79\u001b[0m         \u001b[0mSCCallSiteSync\u001b[0m\u001b[0;34m.\u001b[0m\u001b[0m_spark_stack_depth\u001b[0m \u001b[0;34m-=\u001b[0m \u001b[0;36m1\u001b[0m\u001b[0;34m\u001b[0m\u001b[0;34m\u001b[0m\u001b[0m\n\u001b[1;32m     80\u001b[0m         \u001b[0;32mif\u001b[0m \u001b[0mSCCallSiteSync\u001b[0m\u001b[0;34m.\u001b[0m\u001b[0m_spark_stack_depth\u001b[0m \u001b[0;34m==\u001b[0m \u001b[0;36m0\u001b[0m\u001b[0;34m:\u001b[0m\u001b[0;34m\u001b[0m\u001b[0;34m\u001b[0m\u001b[0m\n\u001b[0;32m---> 81\u001b[0;31m             \u001b[0mself\u001b[0m\u001b[0;34m.\u001b[0m\u001b[0m_context\u001b[0m\u001b[0;34m.\u001b[0m\u001b[0m_jsc\u001b[0m\u001b[0;34m.\u001b[0m\u001b[0msetCallSite\u001b[0m\u001b[0;34m(\u001b[0m\u001b[0;32mNone\u001b[0m\u001b[0;34m)\u001b[0m\u001b[0;34m\u001b[0m\u001b[0;34m\u001b[0m\u001b[0m\n\u001b[0m",
      "\u001b[0;32m~/virtual/lib/python3.8/site-packages/py4j/java_gateway.py\u001b[0m in \u001b[0;36m__call__\u001b[0;34m(self, *args)\u001b[0m\n\u001b[1;32m   1318\u001b[0m             \u001b[0mproto\u001b[0m\u001b[0;34m.\u001b[0m\u001b[0mEND_COMMAND_PART\u001b[0m\u001b[0;34m\u001b[0m\u001b[0;34m\u001b[0m\u001b[0m\n\u001b[1;32m   1319\u001b[0m \u001b[0;34m\u001b[0m\u001b[0m\n\u001b[0;32m-> 1320\u001b[0;31m         \u001b[0manswer\u001b[0m \u001b[0;34m=\u001b[0m \u001b[0mself\u001b[0m\u001b[0;34m.\u001b[0m\u001b[0mgateway_client\u001b[0m\u001b[0;34m.\u001b[0m\u001b[0msend_command\u001b[0m\u001b[0;34m(\u001b[0m\u001b[0mcommand\u001b[0m\u001b[0;34m)\u001b[0m\u001b[0;34m\u001b[0m\u001b[0;34m\u001b[0m\u001b[0m\n\u001b[0m\u001b[1;32m   1321\u001b[0m         return_value = get_return_value(\n\u001b[1;32m   1322\u001b[0m             answer, self.gateway_client, self.target_id, self.name)\n",
      "\u001b[0;32m~/virtual/lib/python3.8/site-packages/py4j/java_gateway.py\u001b[0m in \u001b[0;36msend_command\u001b[0;34m(self, command, retry, binary)\u001b[0m\n\u001b[1;32m   1034\u001b[0m          \u001b[0;32mif\u001b[0m\u001b[0;31m \u001b[0m\u001b[0;31m`\u001b[0m\u001b[0mbinary\u001b[0m\u001b[0;31m`\u001b[0m \u001b[0;32mis\u001b[0m\u001b[0;31m \u001b[0m\u001b[0;31m`\u001b[0m\u001b[0;32mTrue\u001b[0m\u001b[0;31m`\u001b[0m\u001b[0;34m.\u001b[0m\u001b[0;34m\u001b[0m\u001b[0;34m\u001b[0m\u001b[0m\n\u001b[1;32m   1035\u001b[0m         \"\"\"\n\u001b[0;32m-> 1036\u001b[0;31m         \u001b[0mconnection\u001b[0m \u001b[0;34m=\u001b[0m \u001b[0mself\u001b[0m\u001b[0;34m.\u001b[0m\u001b[0m_get_connection\u001b[0m\u001b[0;34m(\u001b[0m\u001b[0;34m)\u001b[0m\u001b[0;34m\u001b[0m\u001b[0;34m\u001b[0m\u001b[0m\n\u001b[0m\u001b[1;32m   1037\u001b[0m         \u001b[0;32mtry\u001b[0m\u001b[0;34m:\u001b[0m\u001b[0;34m\u001b[0m\u001b[0;34m\u001b[0m\u001b[0m\n\u001b[1;32m   1038\u001b[0m             \u001b[0mresponse\u001b[0m \u001b[0;34m=\u001b[0m \u001b[0mconnection\u001b[0m\u001b[0;34m.\u001b[0m\u001b[0msend_command\u001b[0m\u001b[0;34m(\u001b[0m\u001b[0mcommand\u001b[0m\u001b[0;34m)\u001b[0m\u001b[0;34m\u001b[0m\u001b[0;34m\u001b[0m\u001b[0m\n",
      "\u001b[0;32m~/virtual/lib/python3.8/site-packages/py4j/clientserver.py\u001b[0m in \u001b[0;36m_get_connection\u001b[0;34m(self)\u001b[0m\n\u001b[1;32m    282\u001b[0m \u001b[0;34m\u001b[0m\u001b[0m\n\u001b[1;32m    283\u001b[0m         \u001b[0;32mif\u001b[0m \u001b[0mconnection\u001b[0m \u001b[0;32mis\u001b[0m \u001b[0;32mNone\u001b[0m \u001b[0;32mor\u001b[0m \u001b[0mconnection\u001b[0m\u001b[0;34m.\u001b[0m\u001b[0msocket\u001b[0m \u001b[0;32mis\u001b[0m \u001b[0;32mNone\u001b[0m\u001b[0;34m:\u001b[0m\u001b[0;34m\u001b[0m\u001b[0;34m\u001b[0m\u001b[0m\n\u001b[0;32m--> 284\u001b[0;31m             \u001b[0mconnection\u001b[0m \u001b[0;34m=\u001b[0m \u001b[0mself\u001b[0m\u001b[0;34m.\u001b[0m\u001b[0m_create_new_connection\u001b[0m\u001b[0;34m(\u001b[0m\u001b[0;34m)\u001b[0m\u001b[0;34m\u001b[0m\u001b[0;34m\u001b[0m\u001b[0m\n\u001b[0m\u001b[1;32m    285\u001b[0m         \u001b[0;32mreturn\u001b[0m \u001b[0mconnection\u001b[0m\u001b[0;34m\u001b[0m\u001b[0;34m\u001b[0m\u001b[0m\n\u001b[1;32m    286\u001b[0m \u001b[0;34m\u001b[0m\u001b[0m\n",
      "\u001b[0;32m~/virtual/lib/python3.8/site-packages/py4j/clientserver.py\u001b[0m in \u001b[0;36m_create_new_connection\u001b[0;34m(self)\u001b[0m\n\u001b[1;32m    289\u001b[0m             \u001b[0mself\u001b[0m\u001b[0;34m.\u001b[0m\u001b[0mjava_parameters\u001b[0m\u001b[0;34m,\u001b[0m \u001b[0mself\u001b[0m\u001b[0;34m.\u001b[0m\u001b[0mpython_parameters\u001b[0m\u001b[0;34m,\u001b[0m\u001b[0;34m\u001b[0m\u001b[0;34m\u001b[0m\u001b[0m\n\u001b[1;32m    290\u001b[0m             self.gateway_property, self)\n\u001b[0;32m--> 291\u001b[0;31m         \u001b[0mconnection\u001b[0m\u001b[0;34m.\u001b[0m\u001b[0mconnect_to_java_server\u001b[0m\u001b[0;34m(\u001b[0m\u001b[0;34m)\u001b[0m\u001b[0;34m\u001b[0m\u001b[0;34m\u001b[0m\u001b[0m\n\u001b[0m\u001b[1;32m    292\u001b[0m         \u001b[0mself\u001b[0m\u001b[0;34m.\u001b[0m\u001b[0mset_thread_connection\u001b[0m\u001b[0;34m(\u001b[0m\u001b[0mconnection\u001b[0m\u001b[0;34m)\u001b[0m\u001b[0;34m\u001b[0m\u001b[0;34m\u001b[0m\u001b[0m\n\u001b[1;32m    293\u001b[0m         \u001b[0;32mreturn\u001b[0m \u001b[0mconnection\u001b[0m\u001b[0;34m\u001b[0m\u001b[0;34m\u001b[0m\u001b[0m\n",
      "\u001b[0;32m~/virtual/lib/python3.8/site-packages/py4j/clientserver.py\u001b[0m in \u001b[0;36mconnect_to_java_server\u001b[0;34m(self)\u001b[0m\n\u001b[1;32m    436\u001b[0m                 self.socket = self.ssl_context.wrap_socket(\n\u001b[1;32m    437\u001b[0m                     self.socket, server_hostname=self.java_address)\n\u001b[0;32m--> 438\u001b[0;31m             \u001b[0mself\u001b[0m\u001b[0;34m.\u001b[0m\u001b[0msocket\u001b[0m\u001b[0;34m.\u001b[0m\u001b[0mconnect\u001b[0m\u001b[0;34m(\u001b[0m\u001b[0;34m(\u001b[0m\u001b[0mself\u001b[0m\u001b[0;34m.\u001b[0m\u001b[0mjava_address\u001b[0m\u001b[0;34m,\u001b[0m \u001b[0mself\u001b[0m\u001b[0;34m.\u001b[0m\u001b[0mjava_port\u001b[0m\u001b[0;34m)\u001b[0m\u001b[0;34m)\u001b[0m\u001b[0;34m\u001b[0m\u001b[0;34m\u001b[0m\u001b[0m\n\u001b[0m\u001b[1;32m    439\u001b[0m             \u001b[0mself\u001b[0m\u001b[0;34m.\u001b[0m\u001b[0mstream\u001b[0m \u001b[0;34m=\u001b[0m \u001b[0mself\u001b[0m\u001b[0;34m.\u001b[0m\u001b[0msocket\u001b[0m\u001b[0;34m.\u001b[0m\u001b[0mmakefile\u001b[0m\u001b[0;34m(\u001b[0m\u001b[0;34m\"rb\"\u001b[0m\u001b[0;34m)\u001b[0m\u001b[0;34m\u001b[0m\u001b[0;34m\u001b[0m\u001b[0m\n\u001b[1;32m    440\u001b[0m             \u001b[0mself\u001b[0m\u001b[0;34m.\u001b[0m\u001b[0mis_connected\u001b[0m \u001b[0;34m=\u001b[0m \u001b[0;32mTrue\u001b[0m\u001b[0;34m\u001b[0m\u001b[0;34m\u001b[0m\u001b[0m\n",
      "\u001b[0;31mConnectionRefusedError\u001b[0m: [Errno 111] Connection refused"
     ]
    }
   ],
   "source": [
    "FuncionAzul(Ruta_Nombre_Input_entidades = \"DATA_SIC_ENTIDADES_PUBLICAS_SOLICITUD_ESP.csv\", \n",
    "            Ruta_Nombre_Input_investigadores = \"DATA_SIC_INVEST_UO_FIL_PB_J_MAESTRO.csv\",     \n",
    "            Ruta_Nombre_Input_relaciones = \"DATA_SIC_RELACIONES_ENTIDADES_PB_AYUDAS_ESP_A6CORREC_new.csv\",\n",
    "            Ruta_Nombre_Input_invente = 'Analisis_entidades_invente_15-02-2022.xlsx', \n",
    "            Ruta_Nombre_Input_dir3 = \"DIR3_concatenado_AGE_CCAA_EELL_Universidades.csv\", \n",
    "            Ruta_Nombre_Intermedio_cruce1_relaciones = \"test/DATA_SIC_NV_RELACIONES_MST\",\n",
    "            Ruta_Nombre_Intermedio_cruce1_entidades = \"test/DATA_SIC_ENTIDADES_CENTROS_PB\",\n",
    "            Ruta_Nombre_Intermedio_cruce2_invente = \"test/DATA_SIC_ENTIDADES_CENTROS_PB_INVENTE_NORM\", \n",
    "            Ruta_Nombre_Intermedio_cruce3_dir3 = \"test/DATA_SIC_ENTIDADES_CENTROS_PB_INVENTE_DIR3_NORM\",\n",
    "            Ruta_Nombre_Output_investigadores = \"test/DATA_SIC_INVEST_UO_FIL_PB_CENTRO_MST\", \n",
    "            Ruta_Nombre_Output_relaciones = \"test/DATA_SIC_RELACIONES_ENTIDADES_PB_FIL_INVEST\",\n",
    "            Ruta_Nombre_Output_entidades = \"test/DATA_SIC_ENTIDADES_PUBLICAS_FIL_INVEST\", \n",
    "            flag_invente_dir3 = True, \n",
    "            Flag_csv = True)"
   ]
  },
  {
   "cell_type": "markdown",
   "id": "5c3a9e51-c8c0-407f-8087-21c98450dfbf",
   "metadata": {},
   "source": [
    "# Para ejecutar por procesos"
   ]
  },
  {
   "cell_type": "code",
   "execution_count": 1,
   "id": "88a2c535-4a65-443b-bda1-74e2d5896f33",
   "metadata": {},
   "outputs": [],
   "source": [
    "from fa import *"
   ]
  },
  {
   "cell_type": "code",
   "execution_count": 2,
   "id": "e58c6bda-bf98-4896-88dd-412117df6b19",
   "metadata": {},
   "outputs": [],
   "source": [
    "Ruta_Nombre_Input_entidades = \"DATA_SIC_ENTIDADES_PUBLICAS_SOLICITUD_ESP.csv\" \n",
    "Ruta_Nombre_Input_investigadores = \"DATA_SIC_INVEST_UO_FIL_PB_J_MAESTRO.csv\"     \n",
    "Ruta_Nombre_Input_relaciones = \"DATA_SIC_RELACIONES_ENTIDADES_PB_AYUDAS_ESP_A6CORREC_new.csv\"\n",
    "Ruta_Nombre_Input_invente = 'Analisis_entidades_invente_15-02-2022.xlsx' \n",
    "Ruta_Nombre_Input_dir3 = \"DIR3_concatenado_AGE_CCAA_EELL_Universidades.csv\" \n",
    "############## Nombres de Output de prueba ################################# \n",
    "Ruta_Nombre_Intermedio_cruce1_relaciones = \"test/Nombre_Intermedio_cruce1_relaciones\"\n",
    "Ruta_Nombre_Intermedio_cruce1_entidades = \"test/Nombre_Intermedio_cruce1_entidades\" \n",
    "Ruta_Nombre_Intermedio_cruce2_invente = \"test/Nombre_Intermedio_cruce2_invente\" \n",
    "Ruta_Nombre_Intermedio_cruce3_dir3 = \"test/Nombre_Intermedio_cruce3_dir3\"\n",
    "Ruta_Nombre_Output_investigadores = \"test/Nombre_Output_investigadores\" \n",
    "Ruta_Nombre_Output_relaciones = \"test/Nombre_Output_relaciones\"\n",
    "Ruta_Nombre_Output_entidades = \"test/Nombre_Output_entidades\"\n",
    "Ruta_Nombre_Intermedio_cruce1_relaciones = \"test/DATA_SIC_NV_RELACIONES_MST\",\n",
    "############## Nombres para procesar con la data completa ################################# \n",
    "# Ruta_Nombre_Intermedio_cruce1_entidades = \"test/DATA_SIC_ENTIDADES_CENTROS_PB\",\n",
    "# Ruta_Nombre_Intermedio_cruce2_invente = \"test/DATA_SIC_ENTIDADES_CENTROS_PB_INVENTE_NORM\", \n",
    "# Ruta_Nombre_Intermedio_cruce3_dir3 = \"test/DATA_SIC_ENTIDADES_CENTROS_PB_INVENTE_DIR3_NORM\",\n",
    "# Ruta_Nombre_Output_investigadores = \"test/DATA_SIC_INVEST_UO_FIL_PB_CENTRO_MST\", \n",
    "# Ruta_Nombre_Output_relaciones = \"test/DATA_SIC_RELACIONES_ENTIDADES_PB_FIL_INVEST\",\n",
    "# Ruta_Nombre_Output_entidades = \"test/DATA_SIC_ENTIDADES_PUBLICAS_FIL_INVEST\", \n",
    "flag_invente_dir3 = True \n",
    "Flag_csv = True"
   ]
  },
  {
   "cell_type": "code",
   "execution_count": 3,
   "id": "86d9dcff-48ec-4499-a1e0-28bd9efff966",
   "metadata": {
    "scrolled": true,
    "tags": []
   },
   "outputs": [
    {
     "name": "stdout",
     "output_type": "stream",
     "text": [
      "Almacenando fichero en la ruta test/Nombre_Intermedio_cruce1_entidades\n",
      "Almacenando fichero en la ruta test/Nombre_Output_investigadores\n"
     ]
    }
   ],
   "source": [
    "spark = SparkSession.builder.appName('FuncionAzul').config(\"spark.driver.memory\",\"70G\")\\\n",
    "                         .config(\"spark.executor.memory\",\"70G\")\\\n",
    "                         .config(\"spark.executor.cores\",\"20\")\\\n",
    "                         .config(\"spark.executor.instances\",\"5\")\\\n",
    "                         .config(\"spark.driver.maxResultSize\", '128g')\\\n",
    "                         .config(\"spark.memory.offHeap.enabled\", 'true')\\\n",
    "                         .config(\"spark.memory.offHeap.size\", '30g')\\\n",
    "                         .enableHiveSupport().getOrCreate()\n",
    "\n",
    "\n",
    "data,Nombre_Input_relaciones, Nombre_Input_entidades, Nombre_Input_investigadores, Nombre_Intermedio_cruce1_entidades, Nombre_Output_investigadores = cruce1_entidades_Output_investigadores(spark,\n",
    "                                                                                                                                                       Ruta_Nombre_Input_entidades,\n",
    "                                                                                                                                                       Ruta_Nombre_Input_investigadores,\n",
    "                                                                                                                                                       Ruta_Nombre_Input_relaciones,\n",
    "                                                                                                                                                       Ruta_Nombre_Intermedio_cruce1_entidades,\n",
    "                                                                                                                                                       Ruta_Nombre_Output_investigadores, \n",
    "                                                                                                                                                       Flag_csv = True)\n"
   ]
  },
  {
   "cell_type": "code",
   "execution_count": 4,
   "id": "c4b15fdb-ae4e-40a7-b401-96a913a17d50",
   "metadata": {},
   "outputs": [
    {
     "name": "stderr",
     "output_type": "stream",
     "text": [
      "100%|██████████| 20000/20000 [01:36<00:00, 208.19it/s]\n",
      "100%|██████████| 20000/20000 [02:49<00:00, 117.95it/s]\n",
      "100%|██████████| 20000/20000 [00:19<00:00, 1024.26it/s]\n"
     ]
    },
    {
     "name": "stdout",
     "output_type": "stream",
     "text": [
      "Almacenando fichero en la ruta test/Nombre_Intermedio_cruce1_relaciones\n"
     ]
    }
   ],
   "source": [
    "Nombre_Intermedio_cruce1_relaciones = cruce1_relaciones(spark,\n",
    "                                                          data,\n",
    "                                                          Nombre_Input_relaciones,\n",
    "                                                          Nombre_Input_investigadores,\n",
    "                                                          Ruta_Nombre_Intermedio_cruce1_relaciones,\n",
    "                                                          Flag_csv)"
   ]
  },
  {
   "cell_type": "code",
   "execution_count": 5,
   "id": "7d1dd2b3-cf6a-453d-a722-a2a9357339ad",
   "metadata": {},
   "outputs": [
    {
     "name": "stdout",
     "output_type": "stream",
     "text": [
      "Almacenando fichero en la ruta test/Nombre_Output_relaciones\n"
     ]
    }
   ],
   "source": [
    "Nombre_Output_relaciones = output_relaciones(spark,\n",
    "                                              Nombre_Input_relaciones,\n",
    "                                              Nombre_Intermedio_cruce1_relaciones,\n",
    "                                              Ruta_Nombre_Output_relaciones,\n",
    "                                              Flag_csv)"
   ]
  },
  {
   "cell_type": "code",
   "execution_count": 20,
   "id": "28d14b10-46f9-4b68-b2a9-e5b2b16fe6c5",
   "metadata": {
    "scrolled": true,
    "tags": []
   },
   "outputs": [
    {
     "name": "stderr",
     "output_type": "stream",
     "text": [
      "100%|██████████| 5181/5181 [00:13<00:00, 384.99it/s]\n",
      "100%|██████████| 9/9 [00:00<00:00, 40.66it/s]\n",
      "100%|██████████| 9/9 [00:00<00:00, 59918.63it/s]\n"
     ]
    },
    {
     "name": "stdout",
     "output_type": "stream",
     "text": [
      "Almacenando fichero en la ruta test/Nombre_Intermedio_cruce2_invente\n"
     ]
    }
   ],
   "source": [
    "if flag_invente_dir3 == True:\n",
    "    Nombre_Intermedio_cruce2_invente= cruce2_invente(spark,\n",
    "                                                    Nombre_Input_entidades,\n",
    "                                                    Ruta_Nombre_Input_invente,\n",
    "                                                    Nombre_Intermedio_cruce1_entidades,\n",
    "                                                    Ruta_Nombre_Intermedio_cruce2_invente,\n",
    "                                                    Ruta_Nombre_Output_entidades,\n",
    "                                                    Flag_csv)"
   ]
  },
  {
   "cell_type": "code",
   "execution_count": 24,
   "id": "a057c644-e854-4ef8-a3df-774e1be013de",
   "metadata": {},
   "outputs": [
    {
     "name": "stderr",
     "output_type": "stream",
     "text": [
      "100%|██████████| 68001/68001 [11:35<00:00, 97.79it/s] \n",
      "100%|██████████| 9/9 [00:00<00:00, 11.92it/s]\n",
      "100%|██████████| 9/9 [00:00<00:00, 21946.94it/s]\n"
     ]
    },
    {
     "name": "stdout",
     "output_type": "stream",
     "text": [
      "Almacenando fichero en la ruta test/Nombre_Intermedio_cruce3_dir3\n"
     ]
    }
   ],
   "source": [
    "if flag_invente_dir3 == True:\n",
    "    Nombre_Intermedio_cruce3_dir3 = cruce3_dir3(spark,\n",
    "                                    Nombre_Intermedio_cruce2_invente,\n",
    "                                    Ruta_Nombre_Input_dir3,\n",
    "                                    Ruta_Nombre_Intermedio_cruce3_dir3,\n",
    "                                    Flag_csv)"
   ]
  },
  {
   "cell_type": "code",
   "execution_count": 25,
   "id": "d3d04af8-b323-49dd-89f1-9f39ca85075c",
   "metadata": {},
   "outputs": [
    {
     "name": "stdout",
     "output_type": "stream",
     "text": [
      "Almacenando fichero en la ruta test/Nombre_Output_entidades\n"
     ]
    }
   ],
   "source": [
    "if flag_invente_dir3 == True:    \n",
    "    Output_entidades_true(spark,\n",
    "                          Nombre_Input_entidades,\n",
    "                          Nombre_Intermedio_cruce3_dir3,\n",
    "                          Ruta_Nombre_Output_entidades)"
   ]
  },
  {
   "cell_type": "code",
   "execution_count": null,
   "id": "143273f0-cfbd-48e8-83f9-aa76f346a6e4",
   "metadata": {},
   "outputs": [],
   "source": [
    "if flag_invente_dir3 == False:\n",
    "    Output_entidades_false(spark,\n",
    "                          Nombre_Input_entidades,\n",
    "                          Nombre_Intermedio_cruce1_entidades,\n",
    "                          Ruta_Nombre_Output_entidades)"
   ]
  }
 ],
 "metadata": {
  "kernelspec": {
   "display_name": "Python 3",
   "language": "python",
   "name": "python3"
  },
  "language_info": {
   "codemirror_mode": {
    "name": "ipython",
    "version": 3
   },
   "file_extension": ".py",
   "mimetype": "text/x-python",
   "name": "python",
   "nbconvert_exporter": "python",
   "pygments_lexer": "ipython3",
   "version": "3.8.5"
  }
 },
 "nbformat": 4,
 "nbformat_minor": 5
}
