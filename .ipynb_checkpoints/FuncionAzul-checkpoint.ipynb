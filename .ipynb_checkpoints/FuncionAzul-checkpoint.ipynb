{
 "cells": [
  {
   "cell_type": "code",
   "execution_count": 1,
   "id": "3b8a875d",
   "metadata": {},
   "outputs": [],
   "source": [
    "import sys  \n",
    "sys.path.insert(0, '/Users/arturo/Downloads/')\n",
    "\n",
    "from Funciones import *"
   ]
  },
  {
   "cell_type": "code",
   "execution_count": 1,
   "id": "ffad5d2f",
   "metadata": {},
   "outputs": [],
   "source": [
    "import pyspark\n",
    "from pyspark.sql import SparkSession\n",
    "from Funciones import *\n",
    "from pyspark.sql.window import Window as W\n",
    "# from pyspark.sql.types import StructType,StructField, StringType, IntegerType \n",
    "# from pyspark.sql.types import ArrayType, DoubleType, BooleanType\n",
    "# from pyspark.sql.functions import col,array_contains\n",
    "\n"
   ]
  },
  {
   "cell_type": "code",
   "execution_count": 2,
   "id": "aebed985",
   "metadata": {},
   "outputs": [
    {
     "name": "stdout",
     "output_type": "stream",
     "text": [
      "22/07/26 00:05:53 WARN Utils: Your hostname, gaszsantana resolves to a loopback address: 127.0.1.1; using 192.168.8.102 instead (on interface wlp1s0)\n",
      "22/07/26 00:05:53 WARN Utils: Set SPARK_LOCAL_IP if you need to bind to another address\n"
     ]
    },
    {
     "name": "stderr",
     "output_type": "stream",
     "text": [
      "Setting default log level to \"WARN\".\n",
      "To adjust logging level use sc.setLogLevel(newLevel). For SparkR, use setLogLevel(newLevel).\n"
     ]
    },
    {
     "name": "stdout",
     "output_type": "stream",
     "text": [
      "22/07/26 00:05:55 WARN NativeCodeLoader: Unable to load native-hadoop library for your platform... using builtin-java classes where applicable\n"
     ]
    }
   ],
   "source": [
    "spark = SparkSession.builder.appName('SparkByExamples.com').getOrCreate()"
   ]
  },
  {
   "cell_type": "markdown",
   "id": "e5d318af",
   "metadata": {},
   "source": [
    "# Datos"
   ]
  },
  {
   "cell_type": "code",
   "execution_count": 3,
   "id": "7e715f8c",
   "metadata": {},
   "outputs": [
    {
     "name": "stderr",
     "output_type": "stream",
     "text": [
      "                                                                                \r"
     ]
    }
   ],
   "source": [
    "Nombre_Input_entidades = spark.read.csv(\"DATA_SIC_ENTIDADES_PUBLICAS_AYUDAS_ESP_short.csv\", sep=\";\", header=True)\n",
    "Nombre_Input_relaciones = spark.read.csv(\"DATA_RELACION_ENTIDADES_MAESTRO_short.csv\", sep=\";\", header=True)\n",
    "Nombre_Input_investigadores = spark.read.csv(\"DATA_SIC_AYUDA_ESP_UO_PB_J_MAESTRO_short.csv\", sep=\";\", header=True)"
   ]
  },
  {
   "cell_type": "markdown",
   "id": "5390fb48",
   "metadata": {},
   "source": [
    "# Cruce 1"
   ]
  },
  {
   "cell_type": "code",
   "execution_count": 4,
   "id": "dc76ba9e",
   "metadata": {},
   "outputs": [],
   "source": [
    "cruce1 = Nombre_Input_investigadores.\\\n",
    "                                    join(Nombre_Input_relaciones,\n",
    "                                         Nombre_Input_investigadores.Id ==  Nombre_Input_relaciones.Id_NIVEL_0,\"inner\")"
   ]
  },
  {
   "cell_type": "code",
   "execution_count": 5,
   "id": "304cf61d",
   "metadata": {},
   "outputs": [],
   "source": [
    "cruce1 = cruce1.withColumn(\"Similitud\", \n",
    "                           udf_Distance_ratcliff_obershelp(\n",
    "                               UDF_normalizarTexto(cruce1.NOMBRE_ENTIDAD_NIVEL_1),\n",
    "                               cruce1.Centro_Norm\n",
    "                           )) "
   ]
  },
  {
   "cell_type": "markdown",
   "id": "8525feb3",
   "metadata": {},
   "source": [
    "# DATA_SIC_ENTIDADES_CENTROS_PB"
   ]
  },
  {
   "cell_type": "code",
   "execution_count": 6,
   "id": "2214f45d",
   "metadata": {},
   "outputs": [
    {
     "name": "stderr",
     "output_type": "stream",
     "text": [
      "                                                                                \r"
     ]
    }
   ],
   "source": [
    "maxId = Nombre_Input_entidades.withColumn(\"Id\", Nombre_Input_entidades.Id.cast('int')).select(\"Id\").rdd.max()[0]"
   ]
  },
  {
   "cell_type": "code",
   "execution_count": 7,
   "id": "f04cca19",
   "metadata": {},
   "outputs": [],
   "source": [
    "data = cruce1.filter(\"Similitud <0.875\")\\\n",
    "             .withColumn(\"CIF\",lit(None).cast(StringType()))\\\n",
    "             .withColumn(\"Entidad_Norm\",col(\"Centro_Norm\"))\\\n",
    "             .withColumn(\"Provincia_Entidad\",col(\"Provincia_Centro\"))\\\n",
    "             .withColumn(\"ID_ENTIDAD\",lit(None).cast(StringType()))\\\n",
    "             .withColumn(\"NIF_COD\",lit(None).cast(StringType()))\\\n",
    "             .withColumn(\"ACRONIMO\",lit(None).cast(StringType()))\\\n",
    "             .withColumn(\"NOMBRE_ENTIDAD\",lit(None).cast(StringType()))\\\n",
    "             .withColumn(\"Nombre_Entidad_Mostrar\",lit(None).cast(StringType()))\\\n",
    "             .withColumn(\"TIPO_ENTIDAD_N1_1\",lit(None).cast(StringType()))\\\n",
    "             .withColumn(\"TIPO_ENTIDAD_N2_1\",lit(None).cast(StringType()))\\\n",
    "             .withColumn(\"DIRECCION_POSTAL\",lit(None).cast(StringType()))\\\n",
    "             .withColumn(\"COD_POSTAL\",lit(None).cast(StringType()))\\\n",
    "             .withColumn(\"COD_PROVINCIA\",lit(None).cast(StringType()))\\\n",
    "             .withColumn(\"PROVINCIA\",lit(None).cast(StringType()))\\\n",
    "             .withColumn(\"COD_CCAA\",lit(None).cast(StringType()))\\\n",
    "             .withColumn(\"CCAA\",lit(None).cast(StringType()))\\\n",
    "             .withColumn(\"ENLACE_WEB\",lit(None).cast(StringType()))\\\n",
    "             .withColumn(\"SOMMA\",lit(None).cast(StringType()))\\\n",
    "             .withColumn(\"TIPO_ENTIDAD_REGIONAL\",lit(None).cast(StringType()))\\\n",
    "             .withColumn(\"ESTADO_x\",lit(None).cast(StringType()))\\\n",
    "             .withColumn(\"CodigoInvente\",lit(None).cast(StringType()))\\\n",
    "             .withColumn(\"DenominacionSocial\",lit(None).cast(StringType()))\\\n",
    "             .withColumn(\"FormaJuridica_Codigo\",lit(None).cast(StringType()))\\\n",
    "             .withColumn(\"FormaJuridica_Descripcion\",lit(None).cast(StringType()))\\\n",
    "             .withColumn(\"NIF\",lit(None).cast(StringType()))\\\n",
    "             .withColumn(\"codigoDir3\",lit(None).cast(StringType()))\\\n",
    "             .withColumn(\"codigoOrigen\",lit(None).cast(StringType()))\\\n",
    "             .withColumn(\"Provincia_Codigo\",lit(None).cast(StringType()))\\\n",
    "             .withColumn(\"C_ID_UD_ORGANICA\",lit(None).cast(StringType()))\\\n",
    "             .withColumn(\"C_DNM_UD_ORGANICA\",lit(None).cast(StringType()))\\\n",
    "             .withColumn(\"C_ID_NIVEL_ADMON\",lit(None).cast(StringType()))\\\n",
    "             .withColumn(\"C_ID_TIPO_ENT_PUBLICA\",lit(None).cast(StringType()))\\\n",
    "             .withColumn(\"N_NIVEL_JERARQUICO\",lit(None).cast(StringType()))\\\n",
    "             .withColumn(\"C_ID_DEP_UD_SUPERIOR\",lit(None).cast(StringType()))\\\n",
    "             .withColumn(\"C_DNM_UD_ORGANICA_SUPERIOR\",lit(None).cast(StringType()))\\\n",
    "             .withColumn(\"C_ID_DEP_UD_PRINCIPAL\",lit(None).cast(StringType()))\\\n",
    "             .withColumn(\"C_DNM_UD_ORGANICA_PRINCIPAL\",lit(None).cast(StringType()))\\\n",
    "             .withColumn(\"B_SW_DEP_EDP_PRINCIPAL\",lit(None).cast(StringType()))\\\n",
    "             .withColumn(\"C_ID_DEP_EDP_PRINCIPAL\",lit(None).cast(StringType()))\\\n",
    "             .withColumn(\"C_DNM_UD_ORGANICA_EDP_PRINCIPAL\",lit(None).cast(StringType()))\\\n",
    "             .withColumn(\"C_ID_ESTADO\",lit(None).cast(StringType()))\\\n",
    "             .withColumn(\"D_VIG_ALTA_OFICIAL\",lit(None).cast(StringType()))\\\n",
    "             .withColumn(\"NIF_CIF\",lit(None).cast(StringType()))\\\n",
    "             .withColumn(\"C_ID_AMB_PROVINCIA\",lit(None).cast(StringType()))\\\n",
    "             .withColumn(\"C_DESC_PROV\",lit(None).cast(StringType()))\\\n",
    "             .withColumn(\"CONTACTOS\",lit(None).cast(StringType()))\\\n",
    "             .withColumn(\"List_Entidad_Norm\",col(\"Centro_Norm\"))\\\n",
    "             .withColumn(\"List_Provincia_Entidad\",col(\"Provincia_Centro\"))\\\n",
    "             .withColumn(\"List_CIF\",lit(None).cast(StringType()))"
   ]
  },
  {
   "cell_type": "code",
   "execution_count": 8,
   "id": "15b811ea",
   "metadata": {},
   "outputs": [],
   "source": [
    "#data = data.dropDuplicates([\"Entidad_Norm\", \"Provincia_Entidad\"])\n",
    "data = data.withColumnRenamed(\"Id\", \"IdOld\")"
   ]
  },
  {
   "cell_type": "code",
   "execution_count": 9,
   "id": "961aa6fb",
   "metadata": {
    "scrolled": true
   },
   "outputs": [
    {
     "name": "stderr",
     "output_type": "stream",
     "text": [
      "                                                                                \r"
     ]
    }
   ],
   "source": [
    "data_count = data.count()"
   ]
  },
  {
   "cell_type": "code",
   "execution_count": 10,
   "id": "4086cf00",
   "metadata": {},
   "outputs": [],
   "source": [
    "Index = [maxId + i for i in range(1, data_count+1)]\n",
    "Index = spark.createDataFrame(Index, IntegerType())\n",
    "Index = Index.withColumnRenamed(\"value\", \"Id\")"
   ]
  },
  {
   "cell_type": "code",
   "execution_count": 11,
   "id": "88f27586",
   "metadata": {},
   "outputs": [],
   "source": [
    "windowSpec = W.orderBy(\"Dummy\")\n",
    "\n",
    "Index = Index.withColumn(\"Dummy\", monotonically_increasing_id())\n",
    "Index = Index.withColumn(\"Dummy\", F.row_number().over(windowSpec))\n",
    "\n",
    "data = data.withColumn(\"Dummy\", monotonically_increasing_id())\n",
    "data = data.withColumn(\"Dummy\", F.row_number().over(windowSpec))\n",
    "\n",
    "data = data.join(Index, \"Dummy\", \"outer\").drop(\"Dummy\")"
   ]
  },
  {
   "cell_type": "code",
   "execution_count": 12,
   "id": "d7a83d3b",
   "metadata": {},
   "outputs": [],
   "source": [
    "Nombre_Intermedio_cruce1_entidades = data.select(Nombre_Input_entidades.columns)"
   ]
  },
  {
   "cell_type": "code",
   "execution_count": 14,
   "id": "22dd956a",
   "metadata": {},
   "outputs": [],
   "source": [
    "#Nombre_Intermedio_cruce1_entidades.write.option(\"header\",True).mode('overwrite').format(\"csv\").save(\"Nombre_Intermedio_cruce1_entidades/csv\")"
   ]
  },
  {
   "cell_type": "code",
   "execution_count": 15,
   "id": "40cd53bc",
   "metadata": {},
   "outputs": [],
   "source": [
    "#Nombre_Intermedio_cruce1_entidades.write.format(\"parquet\").mode('overwrite').save(\"Nombre_Intermedio_cruce1_entidades/parquet\")"
   ]
  },
  {
   "cell_type": "markdown",
   "id": "c8708fbc",
   "metadata": {},
   "source": [
    "# Nombre_Output_investigadores"
   ]
  },
  {
   "cell_type": "code",
   "execution_count": 13,
   "id": "9bdbf3e3",
   "metadata": {},
   "outputs": [],
   "source": [
    "data_2 = cruce1.filter(\"Similitud >=0.875\")\\\n",
    "        .withColumn(\"Final_Score\", col(\"Similitud\"))\\\n",
    "        .withColumn(\"Id_Centro\", col(\"Id_NIVEL_1\"))\\\n",
    "        .withColumn(\"Centro_Nombre_match\", col(\"NOMBRE_ENTIDAD_NIVEL_1\"))\\\n",
    "        .withColumn(\"Centro_Provincia_match\", col(\"COD_PROVINCIA_NIVEL_1\"))\\\n",
    "        .withColumn(\"Similitud_Centro\", col(\"Similitud\"))\\\n",
    "        .select(Nombre_Input_investigadores.columns + \n",
    "                [\"Final_Score\",\"Id_Centro\", \"Centro_Nombre_match\", \"Centro_Provincia_match\", \"Similitud_Centro\"])\n"
   ]
  },
  {
   "cell_type": "code",
   "execution_count": 14,
   "id": "196406af",
   "metadata": {},
   "outputs": [],
   "source": [
    "data_3 = data.withColumn(\"Final_Score\", col(\"Similitud\"))\\\n",
    "        .withColumn(\"Id_Centro\", col(\"Id\"))\\\n",
    "        .withColumn(\"Centro_Nombre_match\", col(\"NOMBRE_ENTIDAD_NIVEL_1\"))\\\n",
    "        .withColumn(\"Centro_Provincia_match\", col(\"COD_PROVINCIA_NIVEL_1\"))\\\n",
    "        .withColumn(\"Similitud_Centro\", col(\"Similitud\"))\\\n",
    "        .select(Nombre_Input_investigadores.columns + \n",
    "                [\"Final_Score\",\"Id_Centro\", \"Centro_Nombre_match\", \"Centro_Provincia_match\", \"Similitud_Centro\"])\n"
   ]
  },
  {
   "cell_type": "code",
   "execution_count": 15,
   "id": "ec4df652",
   "metadata": {},
   "outputs": [],
   "source": [
    "Nombre_Output_investigadores = data_2.union(data_3)"
   ]
  },
  {
   "cell_type": "code",
   "execution_count": 19,
   "id": "f0b40c2b",
   "metadata": {},
   "outputs": [],
   "source": [
    "#result.write.option(\"header\",True).mode('overwrite').format(\"csv\").save(\"Nombre_Output_investigadores/csv\")"
   ]
  },
  {
   "cell_type": "code",
   "execution_count": 20,
   "id": "2140b2de",
   "metadata": {},
   "outputs": [],
   "source": [
    "#result.write.format(\"parquet\").mode('overwrite').save(\"Nombre_Output_investigadores/parquet\")"
   ]
  },
  {
   "cell_type": "markdown",
   "id": "e245dc5f",
   "metadata": {},
   "source": [
    "# Nombre_Intermedio_cruce1_relaciones"
   ]
  },
  {
   "cell_type": "code",
   "execution_count": 16,
   "id": "46c13542",
   "metadata": {},
   "outputs": [],
   "source": [
    "Nombre_Intermedio_cruce1_relaciones = data.select([\"Id\", \"IdOld\", \"Entidad\", \"Centro\",\"Centro_Norm\", \"Provincia_Entidad\", \"Provincia_Centro\",\"CIF\",\"Entidad_Norm\"])\n"
   ]
  },
  {
   "cell_type": "code",
   "execution_count": 17,
   "id": "85ea1cf1",
   "metadata": {},
   "outputs": [],
   "source": [
    "Nombre_Intermedio_cruce1_relaciones = Nombre_Intermedio_cruce1_relaciones.withColumn(\"Id_NIVEL_1\", col(\"Id\"))\\\n",
    "      .withColumn(\"Id_NIVEL_0\", col(\"IdOld\"))\\\n",
    "      .withColumn(\"NOMBRE_ENTIDAD_NIVEL_0\", col(\"Entidad\"))\\\n",
    "      .withColumn(\"NOMBRE_ENTIDAD_NIVEL_1\", col(\"Centro\"))\\\n",
    "      .withColumn(\"COD_PROVINCIA_NIVEL_0\", col(\"Provincia_Entidad\"))\\\n",
    "      .withColumn(\"COD_PROVINCIA_NIVEL_1\", col(\"Provincia_Centro\"))\\\n",
    "      .withColumn(\"NIF_COD_NIVEL_0\", col(\"CIF\"))\\\n",
    "      .withColumn(\"Jerarquia\", lit(\"Orgánica Directa\").cast(StringType()))\\\n",
    "      .withColumn(\"ACRONIMO_NIVEL_0\",lit(None).cast(StringType()))\\\n",
    "      .withColumn(\"ACRONIMO_NIVEL_1\",lit(None).cast(StringType()))\\\n",
    "      .withColumn(\"CCAA_NIVEL_0\",lit(None).cast(StringType()))\\\n",
    "      .withColumn(\"CCAA_NIVEL_1\",lit(None).cast(StringType()))\\\n",
    "      .withColumn(\"COD_CCAA_NIVEL_0\",lit(None).cast(StringType()))\\\n",
    "      .withColumn(\"COD_CCAA_NIVEL_1\",lit(None).cast(StringType()))\\\n",
    "      .withColumn(\"COD_POSTAL_NIVEL_0\",lit(None).cast(StringType()))\\\n",
    "      .withColumn(\"COD_POSTAL_NIVEL_1\",lit(None).cast(StringType()))\\\n",
    "      .withColumn(\"DIRECCION_POSTAL_NIVEL_0\",lit(None).cast(StringType()))\\\n",
    "      .withColumn(\"DIRECCION_POSTAL_NIVEL_1\",lit(None).cast(StringType()))\\\n",
    "      .withColumn(\"ENLACE_WEB_NIVEL_0\",lit(None).cast(StringType()))\\\n",
    "      .withColumn(\"ENLACE_WEB_NIVEL_1\",lit(None).cast(StringType()))\\\n",
    "      .withColumn(\"ESTADO_x_NIVEL_0\",lit(None).cast(StringType()))\\\n",
    "      .withColumn(\"ENLACE_WEB_NIVEL_1\",lit(None).cast(StringType()))\\\n",
    "      .withColumn(\"ESTADO_x_NIVEL_0\",lit(None).cast(StringType()))\\\n",
    "      .withColumn(\"ESTADO_x_NIVEL_1\",lit(None).cast(StringType()))\\\n",
    "      .withColumn(\"ID_ENTIDAD_NIVEL_0\",lit(None).cast(StringType()))\\\n",
    "      .withColumn(\"ID_ENTIDAD_NIVEL_1\",lit(None).cast(StringType()))\\\n",
    "      .withColumn(\"NIF_COD_NIVEL_1\",lit(None).cast(StringType()))\\\n",
    "      .withColumn(\"Nombre_Entidad_Mostrar_NIVEL_0\",lit(None).cast(StringType()))\\\n",
    "      .withColumn(\"Nombre_Entidad_Mostrar_NIVEL_1\",lit(None).cast(StringType()))\\\n",
    "      .withColumn(\"PROVINCIA_NIVEL_0\",lit(None).cast(StringType()))\\\n",
    "      .withColumn(\"PROVINCIA_NIVEL_1\",lit(None).cast(StringType()))\\\n",
    "      .withColumn(\"SOMMA_NIVEL_0\",lit(None).cast(StringType()))\\\n",
    "      .withColumn(\"SOMMA_NIVEL_1\",lit(None).cast(StringType()))\\\n",
    "      .withColumn(\"TIPO_ENTIDAD_N1_1_NIVEL_0\",lit(None).cast(StringType()))\\\n",
    "      .withColumn(\"TIPO_ENTIDAD_N1_1_NIVEL_1\",lit(None).cast(StringType()))\\\n",
    "      .withColumn(\"TIPO_ENTIDAD_N2_1_NIVEL_0\",lit(None).cast(StringType()))\\\n",
    "      .withColumn(\"TIPO_ENTIDAD_N2_1_NIVEL_1\",lit(None).cast(StringType()))\\\n",
    "      .withColumn(\"TIPO_ENTIDAD_REGIONAL_NIVEL_0\",lit(None).cast(StringType()))\\\n",
    "      .withColumn(\"TIPO_ENTIDAD_REGIONAL_NIVEL_1\",lit(None).cast(StringType()))\\\n",
    "    "
   ]
  },
  {
   "cell_type": "code",
   "execution_count": 18,
   "id": "f58bc52d",
   "metadata": {},
   "outputs": [],
   "source": [
    "Nombre_Intermedio_cruce1_relaciones = Nombre_Intermedio_cruce1_relaciones.select(Nombre_Input_relaciones.columns)"
   ]
  },
  {
   "cell_type": "code",
   "execution_count": null,
   "id": "6410a581",
   "metadata": {},
   "outputs": [],
   "source": [
    "# Preguntar como eliminar duplicados"
   ]
  },
  {
   "cell_type": "code",
   "execution_count": null,
   "id": "d1750c31",
   "metadata": {},
   "outputs": [],
   "source": [
    "\n",
    "#Nombre_Intermedio_cruce1_relaciones.write.option(\"header\",True).mode('overwrite').format(\"csv\").save(\"Nombre_Intermedio_cruce1_relaciones/csv\")"
   ]
  },
  {
   "cell_type": "code",
   "execution_count": null,
   "id": "c74f19ab",
   "metadata": {},
   "outputs": [],
   "source": [
    "#Nombre_Intermedio_cruce1_relaciones.write.option(\"header\",True).mode('overwrite').format(\"csv\").save(\"Nombre_Intermedio_cruce1_relaciones/parquet\")"
   ]
  },
  {
   "cell_type": "markdown",
   "id": "676246bd",
   "metadata": {},
   "source": [
    "# Agregacion vertical de relaciones"
   ]
  },
  {
   "cell_type": "code",
   "execution_count": 19,
   "id": "22a53a2b",
   "metadata": {},
   "outputs": [],
   "source": [
    "Nombre_Output_relaciones = Nombre_Input_relaciones.union(Nombre_Intermedio_cruce1_relaciones)"
   ]
  },
  {
   "cell_type": "code",
   "execution_count": null,
   "id": "8be1e2b1",
   "metadata": {},
   "outputs": [],
   "source": [
    "#Nombre_Intermedio_cruce1_relaciones.write.option(\"header\",True).mode('overwrite').format(\"csv\").save(\"Nombre_Output_relaciones/csv\")"
   ]
  },
  {
   "cell_type": "code",
   "execution_count": null,
   "id": "8bdcec4c",
   "metadata": {},
   "outputs": [],
   "source": [
    "#Nombre_Intermedio_cruce1_relaciones.write.mode('overwrite').format(\"paequet\").save(\"Nombre_Output_relaciones/parquet\")"
   ]
  },
  {
   "cell_type": "code",
   "execution_count": null,
   "id": "846bd357",
   "metadata": {},
   "outputs": [],
   "source": []
  },
  {
   "cell_type": "markdown",
   "id": "53c71c21",
   "metadata": {},
   "source": [
    "# Nombre_Intermedio_cruce2_relaciones"
   ]
  },
  {
   "cell_type": "code",
   "execution_count": 20,
   "id": "07e72157",
   "metadata": {},
   "outputs": [],
   "source": [
    "Nombre_Input_invente = spark.read.csv(\"DATA_IGAE_INVENTE.csv\", sep=\";\", header=True)"
   ]
  },
  {
   "cell_type": "markdown",
   "id": "c5355032",
   "metadata": {},
   "source": [
    "# If flag_invente_dir3 == True"
   ]
  },
  {
   "cell_type": "code",
   "execution_count": 78,
   "id": "e0195d1f",
   "metadata": {
    "scrolled": true
   },
   "outputs": [],
   "source": [
    "inter = list(set(Nombre_Input_entidades.columns) & set(Nombre_Input_invente.columns))"
   ]
  },
  {
   "cell_type": "code",
   "execution_count": 89,
   "id": "6b9d4d7a",
   "metadata": {},
   "outputs": [],
   "source": [
    "cruce2 = Nombre_Intermedio_cruce1_entidades.drop(*inter)\\\n",
    "                                    .join(Nombre_Input_invente,\n",
    "                                         Nombre_Intermedio_cruce1_entidades.Entidad_Norm == UDF_normalizarTexto(Nombre_Input_invente.DenominacionSocial),\"inner\")"
   ]
  },
  {
   "cell_type": "code",
   "execution_count": 90,
   "id": "63a93724",
   "metadata": {
    "scrolled": true
   },
   "outputs": [],
   "source": [
    "cruce2 = cruce2.withColumn(\"Entidad_Norm1\", UDF_normalizarTexto(cruce2.DenominacionSocial))"
   ]
  },
  {
   "cell_type": "code",
   "execution_count": 91,
   "id": "596fe3cd",
   "metadata": {
    "scrolled": true
   },
   "outputs": [],
   "source": [
    "cruce2 = cruce2.withColumn(\"Similitud\", \n",
    "                           udf_Distance_ratcliff_obershelp(\n",
    "                           cruce2.Entidad_Norm,\n",
    "                           cruce2.Entidad_Norm1\n",
    "                           )) "
   ]
  },
  {
   "cell_type": "code",
   "execution_count": 92,
   "id": "864c6cc7",
   "metadata": {},
   "outputs": [],
   "source": [
    "Nombre_Intermedio_cruce2_invente = cruce2.filter(\"Similitud >=0.875\")\\\n",
    "                                         .withColumn(\"Entidad_Norm\", UDF_normalizarTexto(cruce2.DenominacionSocial))\\\n",
    "                                         .withColumn(\"Provincia_Entidad\", col(\"Provincia_Codigo\"))\\\n",
    "                                         .withColumn(\"CIF\", col(\"NIF\"))\\\n",
    "                                         .withColumn(\"Final_Score\", col(\"Similitud\"))\\\n",
    "                                         .select(Nombre_Intermedio_cruce1_entidades.columns)"
   ]
  },
  {
   "cell_type": "code",
   "execution_count": null,
   "id": "230ea7f2",
   "metadata": {},
   "outputs": [],
   "source": [
    "#Nombre_Intermedio_cruce2_invente.write.option(\"header\",True).mode('overwrite').format(\"csv\").save(\"Nombre_Intermedio_cruce2_invente/csv\")"
   ]
  },
  {
   "cell_type": "code",
   "execution_count": null,
   "id": "ced2fc96",
   "metadata": {},
   "outputs": [],
   "source": [
    "#Nombre_Intermedio_cruce2_invente.write.mode('overwrite').format(\"paequet\").save(\"Nombre_Intermedio_cruce2_invente/parquet\")"
   ]
  },
  {
   "cell_type": "code",
   "execution_count": null,
   "id": "080d8af1",
   "metadata": {},
   "outputs": [],
   "source": []
  },
  {
   "cell_type": "code",
   "execution_count": null,
   "id": "e9715da0",
   "metadata": {},
   "outputs": [],
   "source": []
  },
  {
   "cell_type": "code",
   "execution_count": null,
   "id": "c9ad8fa3",
   "metadata": {},
   "outputs": [],
   "source": []
  },
  {
   "cell_type": "code",
   "execution_count": null,
   "id": "a63b5636",
   "metadata": {},
   "outputs": [],
   "source": []
  },
  {
   "cell_type": "code",
   "execution_count": 54,
   "id": "9b4e2342",
   "metadata": {
    "scrolled": true
   },
   "outputs": [
    {
     "data": {
      "text/plain": [
       "['Id',\n",
       " 'CIF',\n",
       " 'Entidad_Norm',\n",
       " 'Provincia_Entidad',\n",
       " 'ID_ENTIDAD',\n",
       " 'NIF_COD',\n",
       " 'ACRONIMO',\n",
       " 'NOMBRE_ENTIDAD',\n",
       " 'Nombre_Entidad_Mostrar',\n",
       " 'TIPO_ENTIDAD_N1_1',\n",
       " 'TIPO_ENTIDAD_N2_1',\n",
       " 'DIRECCION_POSTAL',\n",
       " 'COD_POSTAL',\n",
       " 'COD_PROVINCIA',\n",
       " 'PROVINCIA',\n",
       " 'COD_CCAA',\n",
       " 'CCAA',\n",
       " 'ENLACE_WEB',\n",
       " 'SOMMA',\n",
       " 'TIPO_ENTIDAD_REGIONAL',\n",
       " 'ESTADO_x',\n",
       " 'DenominacionSocial',\n",
       " 'FormaJuridica_Codigo',\n",
       " 'FormaJuridica_Descripcion',\n",
       " 'NIF',\n",
       " 'codigoDir3',\n",
       " 'codigoOrigen',\n",
       " 'Provincia_Codigo',\n",
       " 'C_ID_UD_ORGANICA',\n",
       " 'C_DNM_UD_ORGANICA',\n",
       " 'C_ID_NIVEL_ADMON',\n",
       " 'C_ID_TIPO_ENT_PUBLICA',\n",
       " 'N_NIVEL_JERARQUICO',\n",
       " 'C_ID_DEP_UD_SUPERIOR',\n",
       " 'C_DNM_UD_ORGANICA_SUPERIOR',\n",
       " 'C_ID_DEP_UD_PRINCIPAL',\n",
       " 'C_DNM_UD_ORGANICA_PRINCIPAL',\n",
       " 'B_SW_DEP_EDP_PRINCIPAL',\n",
       " 'C_ID_DEP_EDP_PRINCIPAL',\n",
       " 'C_DNM_UD_ORGANICA_EDP_PRINCIPAL',\n",
       " 'C_ID_ESTADO',\n",
       " 'D_VIG_ALTA_OFICIAL',\n",
       " 'NIF_CIF',\n",
       " 'C_ID_AMB_PROVINCIA',\n",
       " 'C_DESC_PROV',\n",
       " 'CONTACTOS',\n",
       " 'List_Entidad_Norm',\n",
       " 'List_Provincia_Entidad',\n",
       " 'List_CIF']"
      ]
     },
     "execution_count": 54,
     "metadata": {},
     "output_type": "execute_result"
    }
   ],
   "source": [
    "Nombre_Intermedio_cruce1_entidades.drop([\"CodigoInvente\", \"NIF\"]).columns"
   ]
  },
  {
   "cell_type": "code",
   "execution_count": 213,
   "id": "150b41e0",
   "metadata": {
    "scrolled": true
   },
   "outputs": [
    {
     "name": "stdout",
     "output_type": "stream",
     "text": [
      "22/07/25 23:43:03 WARN WindowExec: No Partition Defined for Window operation! Moving all data to a single partition, this can cause serious performance degradation.\n",
      "22/07/25 23:43:03 WARN WindowExec: No Partition Defined for Window operation! Moving all data to a single partition, this can cause serious performance degradation.\n",
      "22/07/25 23:43:03 WARN WindowExec: No Partition Defined for Window operation! Moving all data to a single partition, this can cause serious performance degradation.\n",
      "22/07/25 23:43:03 WARN WindowExec: No Partition Defined for Window operation! Moving all data to a single partition, this can cause serious performance degradation.\n",
      "22/07/25 23:43:03 WARN WindowExec: No Partition Defined for Window operation! Moving all data to a single partition, this can cause serious performance degradation.\n",
      "22/07/25 23:43:03 WARN WindowExec: No Partition Defined for Window operation! Moving all data to a single partition, this can cause serious performance degradation.\n",
      "22/07/25 23:43:03 WARN WindowExec: No Partition Defined for Window operation! Moving all data to a single partition, this can cause serious performance degradation.\n",
      "22/07/25 23:43:03 WARN WindowExec: No Partition Defined for Window operation! Moving all data to a single partition, this can cause serious performance degradation.\n",
      "22/07/25 23:43:03 WARN WindowExec: No Partition Defined for Window operation! Moving all data to a single partition, this can cause serious performance degradation.\n",
      "22/07/25 23:43:03 WARN WindowExec: No Partition Defined for Window operation! Moving all data to a single partition, this can cause serious performance degradation.\n",
      "22/07/25 23:43:04 WARN WindowExec: No Partition Defined for Window operation! Moving all data to a single partition, this can cause serious performance degradation.\n",
      "22/07/25 23:43:04 WARN WindowExec: No Partition Defined for Window operation! Moving all data to a single partition, this can cause serious performance degradation.\n"
     ]
    },
    {
     "name": "stderr",
     "output_type": "stream",
     "text": [
      "\r",
      "[Stage 379:===================>                                     (1 + 2) / 3]\r",
      "\r",
      "                                                                                \r"
     ]
    },
    {
     "name": "stdout",
     "output_type": "stream",
     "text": [
      "22/07/25 23:43:04 WARN WindowExec: No Partition Defined for Window operation! Moving all data to a single partition, this can cause serious performance degradation.\n",
      "22/07/25 23:43:04 WARN WindowExec: No Partition Defined for Window operation! Moving all data to a single partition, this can cause serious performance degradation.\n",
      "22/07/25 23:43:04 WARN WindowExec: No Partition Defined for Window operation! Moving all data to a single partition, this can cause serious performance degradation.\n",
      "22/07/25 23:43:04 WARN WindowExec: No Partition Defined for Window operation! Moving all data to a single partition, this can cause serious performance degradation.\n"
     ]
    },
    {
     "data": {
      "text/plain": [
       "5"
      ]
     },
     "execution_count": 213,
     "metadata": {},
     "output_type": "execute_result"
    }
   ],
   "source": [
    "cruce2.count()"
   ]
  },
  {
   "cell_type": "code",
   "execution_count": 56,
   "id": "aaa803e5",
   "metadata": {
    "scrolled": true
   },
   "outputs": [
    {
     "name": "stdout",
     "output_type": "stream",
     "text": [
      "root\n",
      " |-- Id: integer (nullable = true)\n",
      " |-- CIF: string (nullable = true)\n",
      " |-- Entidad_Norm: string (nullable = true)\n",
      " |-- Provincia_Entidad: string (nullable = true)\n",
      " |-- ID_ENTIDAD: string (nullable = true)\n",
      " |-- NIF_COD: string (nullable = true)\n",
      " |-- ACRONIMO: string (nullable = true)\n",
      " |-- NOMBRE_ENTIDAD: string (nullable = true)\n",
      " |-- Nombre_Entidad_Mostrar: string (nullable = true)\n",
      " |-- TIPO_ENTIDAD_N1_1: string (nullable = true)\n",
      " |-- TIPO_ENTIDAD_N2_1: string (nullable = true)\n",
      " |-- DIRECCION_POSTAL: string (nullable = true)\n",
      " |-- COD_POSTAL: string (nullable = true)\n",
      " |-- COD_PROVINCIA: string (nullable = true)\n",
      " |-- PROVINCIA: string (nullable = true)\n",
      " |-- COD_CCAA: string (nullable = true)\n",
      " |-- CCAA: string (nullable = true)\n",
      " |-- ENLACE_WEB: string (nullable = true)\n",
      " |-- SOMMA: string (nullable = true)\n",
      " |-- TIPO_ENTIDAD_REGIONAL: string (nullable = true)\n",
      " |-- ESTADO_x: string (nullable = true)\n",
      " |-- CodigoInvente: string (nullable = true)\n",
      " |-- FormaJuridica_Codigo: string (nullable = true)\n",
      " |-- FormaJuridica_Descripcion: string (nullable = true)\n",
      " |-- NIF: string (nullable = true)\n",
      " |-- codigoDir3: string (nullable = true)\n",
      " |-- codigoOrigen: string (nullable = true)\n",
      " |-- Provincia_Codigo: string (nullable = true)\n",
      " |-- C_ID_UD_ORGANICA: string (nullable = true)\n",
      " |-- C_DNM_UD_ORGANICA: string (nullable = true)\n",
      " |-- C_ID_NIVEL_ADMON: string (nullable = true)\n",
      " |-- C_ID_TIPO_ENT_PUBLICA: string (nullable = true)\n",
      " |-- N_NIVEL_JERARQUICO: string (nullable = true)\n",
      " |-- C_ID_DEP_UD_SUPERIOR: string (nullable = true)\n",
      " |-- C_DNM_UD_ORGANICA_SUPERIOR: string (nullable = true)\n",
      " |-- C_ID_DEP_UD_PRINCIPAL: string (nullable = true)\n",
      " |-- C_DNM_UD_ORGANICA_PRINCIPAL: string (nullable = true)\n",
      " |-- B_SW_DEP_EDP_PRINCIPAL: string (nullable = true)\n",
      " |-- C_ID_DEP_EDP_PRINCIPAL: string (nullable = true)\n",
      " |-- C_DNM_UD_ORGANICA_EDP_PRINCIPAL: string (nullable = true)\n",
      " |-- C_ID_ESTADO: string (nullable = true)\n",
      " |-- D_VIG_ALTA_OFICIAL: string (nullable = true)\n",
      " |-- NIF_CIF: string (nullable = true)\n",
      " |-- C_ID_AMB_PROVINCIA: string (nullable = true)\n",
      " |-- C_DESC_PROV: string (nullable = true)\n",
      " |-- CONTACTOS: string (nullable = true)\n",
      " |-- List_Entidad_Norm: string (nullable = true)\n",
      " |-- List_Provincia_Entidad: string (nullable = true)\n",
      " |-- List_CIF: string (nullable = true)\n",
      " |-- CodigoInvente: string (nullable = true)\n",
      " |-- DenominacionSocial: string (nullable = true)\n",
      " |-- FormaJuridica_Codigo: string (nullable = true)\n",
      " |-- FormaJuridica_Descripcion: string (nullable = true)\n",
      " |-- NIF: string (nullable = true)\n",
      " |-- codigoDir3: string (nullable = true)\n",
      " |-- codigoOrigen6: string (nullable = true)\n",
      " |-- CodigoInvente.1: string (nullable = true)\n",
      " |-- EjerceControl: string (nullable = true)\n",
      " |-- FechaAlta: string (nullable = true)\n",
      " |-- Adscripcion_Codigo: string (nullable = true)\n",
      " |-- Adscripcion_Descripcion: string (nullable = true)\n",
      " |-- Observaciones: string (nullable = true)\n",
      " |-- CodigoOrigen13: string (nullable = true)\n",
      " |-- CausaDeAlta_Codigo: string (nullable = true)\n",
      " |-- CausaDeAlta_Descripcion: string (nullable = true)\n",
      " |-- FormaJuridica_Codigo.1: string (nullable = true)\n",
      " |-- FormaJuridica_Descripcion.1: string (nullable = true)\n",
      " |-- RegimenContable_Codigo: string (nullable = true)\n",
      " |-- RegimenContable_Descripcion: string (nullable = true)\n",
      " |-- RegimenControl_Codigo: string (nullable = true)\n",
      " |-- RegimenControl_Descripcion: string (nullable = true)\n",
      " |-- RegimenPresupuestario_Codigo: string (nullable = true)\n",
      " |-- RegimenPresupuestario_Descripcion: string (nullable = true)\n",
      " |-- ClasificacionCN_Codigo: string (nullable = true)\n",
      " |-- ClasificacionCN_Descripcion: string (nullable = true)\n",
      " |-- CondicionMedioPropio: string (nullable = true)\n",
      " |-- ClasificacionEntidad: string (nullable = true)\n",
      " |-- Direccion: string (nullable = true)\n",
      " |-- Localidad: string (nullable = true)\n",
      " |-- Provincia_Codigo: string (nullable = true)\n",
      " |-- Provincia_Descripcion: string (nullable = true)\n",
      " |-- CodigoPostal: string (nullable = true)\n",
      " |-- Telefono: string (nullable = true)\n",
      " |-- SitioWeb: string (nullable = true)\n",
      " |-- eMail: string (nullable = true)\n",
      " |-- Denominacion: string (nullable = true)\n",
      " |-- Codigo: string (nullable = true)\n",
      " |-- PorcentajeParticipacion: string (nullable = true)\n",
      " |-- PorcentajeVoto: string (nullable = true)\n",
      " |-- Actividad_Situacion_Codigo: string (nullable = true)\n",
      " |-- Actividad_Situacion_Descripcion: string (nullable = true)\n",
      " |-- Actividad_Sector_Codigo: string (nullable = true)\n",
      " |-- Actividad_Sector_Descripcion: string (nullable = true)\n",
      " |-- ObjetoSocial: string (nullable = true)\n",
      " |-- Codigo.1: string (nullable = true)\n",
      " |-- Denominacion.1: string (nullable = true)\n",
      " |-- Venta_Bienes_DentroSP_Administracion: string (nullable = true)\n",
      " |-- Venta_Bienes_Dentro_SP_Otras: string (nullable = true)\n",
      " |-- Venta_Bienes_DentroSP_EntidadesSPI: string (nullable = true)\n",
      " |-- Venta_Bienes_SectorPrivado: string (nullable = true)\n",
      " |-- Transf_Subvenciones_Administracion: string (nullable = true)\n",
      " |-- Transf_Subvenciones_Otras: string (nullable = true)\n",
      " |-- Transf_Subvenciones_SPI: string (nullable = true)\n",
      " |-- Transf_Subvenciones_UnionEuropea: string (nullable = true)\n",
      " |-- Otros_Ingresos: string (nullable = true)\n",
      " |-- Denominacion.2: string (nullable = true)\n",
      " |-- FuenteAlta: string (nullable = true)\n",
      " |-- InformacionFuenteAlta: string (nullable = true)\n",
      " |-- AltaDesde: string (nullable = true)\n",
      " |-- FechaVersion: string (nullable = true)\n",
      " |-- Disponible: string (nullable = true)\n",
      " |-- FechaBaja: string (nullable = true)\n",
      "\n"
     ]
    }
   ],
   "source": [
    "cruce2.printSchema()"
   ]
  },
  {
   "cell_type": "code",
   "execution_count": 93,
   "id": "8b6a2c4e",
   "metadata": {
    "scrolled": true
   },
   "outputs": [
    {
     "name": "stdout",
     "output_type": "stream",
     "text": [
      "22/07/26 01:06:43 WARN WindowExec: No Partition Defined for Window operation! Moving all data to a single partition, this can cause serious performance degradation.\n",
      "22/07/26 01:06:43 WARN WindowExec: No Partition Defined for Window operation! Moving all data to a single partition, this can cause serious performance degradation.\n",
      "22/07/26 01:06:43 WARN WindowExec: No Partition Defined for Window operation! Moving all data to a single partition, this can cause serious performance degradation.\n",
      "22/07/26 01:06:43 WARN WindowExec: No Partition Defined for Window operation! Moving all data to a single partition, this can cause serious performance degradation.\n",
      "22/07/26 01:06:44 WARN WindowExec: No Partition Defined for Window operation! Moving all data to a single partition, this can cause serious performance degradation.\n",
      "22/07/26 01:06:44 WARN WindowExec: No Partition Defined for Window operation! Moving all data to a single partition, this can cause serious performance degradation.\n",
      "22/07/26 01:06:44 WARN WindowExec: No Partition Defined for Window operation! Moving all data to a single partition, this can cause serious performance degradation.\n",
      "22/07/26 01:06:44 WARN WindowExec: No Partition Defined for Window operation! Moving all data to a single partition, this can cause serious performance degradation.\n",
      "22/07/26 01:06:44 WARN WindowExec: No Partition Defined for Window operation! Moving all data to a single partition, this can cause serious performance degradation.\n",
      "22/07/26 01:06:44 WARN WindowExec: No Partition Defined for Window operation! Moving all data to a single partition, this can cause serious performance degradation.\n"
     ]
    },
    {
     "name": "stderr",
     "output_type": "stream",
     "text": [
      "\r",
      "[Stage 69:>                                                         (0 + 3) / 3]\r",
      "\r",
      "                                                                                \r"
     ]
    },
    {
     "name": "stdout",
     "output_type": "stream",
     "text": [
      "22/07/26 01:06:45 WARN WindowExec: No Partition Defined for Window operation! Moving all data to a single partition, this can cause serious performance degradation.\n",
      "22/07/26 01:06:45 WARN WindowExec: No Partition Defined for Window operation! Moving all data to a single partition, this can cause serious performance degradation.\n"
     ]
    },
    {
     "name": "stderr",
     "output_type": "stream",
     "text": [
      "                                                                                \r"
     ]
    },
    {
     "name": "stdout",
     "output_type": "stream",
     "text": [
      "22/07/26 01:06:49 WARN WindowExec: No Partition Defined for Window operation! Moving all data to a single partition, this can cause serious performance degradation.\n",
      "22/07/26 01:06:49 WARN WindowExec: No Partition Defined for Window operation! Moving all data to a single partition, this can cause serious performance degradation.\n"
     ]
    },
    {
     "name": "stderr",
     "output_type": "stream",
     "text": [
      "\r",
      "[Stage 72:>                                                         (0 + 1) / 1]\r"
     ]
    },
    {
     "name": "stdout",
     "output_type": "stream",
     "text": [
      "22/07/26 01:06:52 WARN WindowExec: No Partition Defined for Window operation! Moving all data to a single partition, this can cause serious performance degradation.\n",
      "22/07/26 01:06:52 WARN WindowExec: No Partition Defined for Window operation! Moving all data to a single partition, this can cause serious performance degradation.\n",
      "+---------+\n",
      "|Similitud|\n",
      "+---------+\n",
      "|     null|\n",
      "|     null|\n",
      "|     null|\n",
      "|     null|\n",
      "|     null|\n",
      "+---------+\n",
      "\n"
     ]
    },
    {
     "name": "stderr",
     "output_type": "stream",
     "text": [
      "\r",
      "                                                                                \r"
     ]
    }
   ],
   "source": [
    "cruce2.select('Similitud').show()"
   ]
  },
  {
   "cell_type": "code",
   "execution_count": 88,
   "id": "065f67ac",
   "metadata": {
    "scrolled": true
   },
   "outputs": [
    {
     "name": "stdout",
     "output_type": "stream",
     "text": [
      "22/07/26 01:03:52 WARN WindowExec: No Partition Defined for Window operation! Moving all data to a single partition, this can cause serious performance degradation.\n",
      "22/07/26 01:03:52 WARN WindowExec: No Partition Defined for Window operation! Moving all data to a single partition, this can cause serious performance degradation.\n",
      "22/07/26 01:03:52 WARN WindowExec: No Partition Defined for Window operation! Moving all data to a single partition, this can cause serious performance degradation.\n",
      "22/07/26 01:03:52 WARN WindowExec: No Partition Defined for Window operation! Moving all data to a single partition, this can cause serious performance degradation.\n",
      "22/07/26 01:03:53 WARN WindowExec: No Partition Defined for Window operation! Moving all data to a single partition, this can cause serious performance degradation.\n",
      "22/07/26 01:03:53 WARN WindowExec: No Partition Defined for Window operation! Moving all data to a single partition, this can cause serious performance degradation.\n",
      "22/07/26 01:03:53 WARN WindowExec: No Partition Defined for Window operation! Moving all data to a single partition, this can cause serious performance degradation.\n",
      "22/07/26 01:03:53 WARN WindowExec: No Partition Defined for Window operation! Moving all data to a single partition, this can cause serious performance degradation.\n",
      "22/07/26 01:03:53 WARN WindowExec: No Partition Defined for Window operation! Moving all data to a single partition, this can cause serious performance degradation.\n",
      "22/07/26 01:03:53 WARN WindowExec: No Partition Defined for Window operation! Moving all data to a single partition, this can cause serious performance degradation.\n",
      "22/07/26 01:03:53 WARN WindowExec: No Partition Defined for Window operation! Moving all data to a single partition, this can cause serious performance degradation.\n",
      "22/07/26 01:03:53 WARN WindowExec: No Partition Defined for Window operation! Moving all data to a single partition, this can cause serious performance degradation.\n"
     ]
    },
    {
     "name": "stderr",
     "output_type": "stream",
     "text": [
      "\r",
      "[Stage 61:======================================>                   (2 + 1) / 3]\r",
      "\r",
      "                                                                                \r"
     ]
    },
    {
     "name": "stdout",
     "output_type": "stream",
     "text": [
      "22/07/26 01:03:54 WARN WindowExec: No Partition Defined for Window operation! Moving all data to a single partition, this can cause serious performance degradation.\n",
      "22/07/26 01:03:54 WARN WindowExec: No Partition Defined for Window operation! Moving all data to a single partition, this can cause serious performance degradation.\n",
      "22/07/26 01:03:54 WARN WindowExec: No Partition Defined for Window operation! Moving all data to a single partition, this can cause serious performance degradation.\n",
      "22/07/26 01:03:54 WARN WindowExec: No Partition Defined for Window operation! Moving all data to a single partition, this can cause serious performance degradation.\n"
     ]
    },
    {
     "data": {
      "text/plain": [
       "[Row(Entidad_Norm='universidad de zaragoza', Entidad_Norm1='universidad de zaragoza', Similitud=None),\n",
       " Row(Entidad_Norm='universidad de salamanca', Entidad_Norm1='universidad de salamanca', Similitud=None),\n",
       " Row(Entidad_Norm='universidad de zaragoza', Entidad_Norm1='universidad de zaragoza', Similitud=None),\n",
       " Row(Entidad_Norm='universidad de zaragoza', Entidad_Norm1='universidad de zaragoza', Similitud=None),\n",
       " Row(Entidad_Norm='universidad de zaragoza', Entidad_Norm1='universidad de zaragoza', Similitud=None)]"
      ]
     },
     "execution_count": 88,
     "metadata": {},
     "output_type": "execute_result"
    }
   ],
   "source": [
    "cruce2.select(['Entidad_Norm','Entidad_Norm1', 'Similitud']).collect()\n"
   ]
  },
  {
   "cell_type": "code",
   "execution_count": 225,
   "id": "47d27791",
   "metadata": {
    "scrolled": true
   },
   "outputs": [
    {
     "name": "stdout",
     "output_type": "stream",
     "text": [
      "22/07/25 23:50:36 WARN WindowExec: No Partition Defined for Window operation! Moving all data to a single partition, this can cause serious performance degradation.\n",
      "22/07/25 23:50:36 WARN WindowExec: No Partition Defined for Window operation! Moving all data to a single partition, this can cause serious performance degradation.\n",
      "22/07/25 23:50:36 WARN WindowExec: No Partition Defined for Window operation! Moving all data to a single partition, this can cause serious performance degradation.\n",
      "22/07/25 23:50:36 WARN WindowExec: No Partition Defined for Window operation! Moving all data to a single partition, this can cause serious performance degradation.\n",
      "22/07/25 23:50:37 WARN WindowExec: No Partition Defined for Window operation! Moving all data to a single partition, this can cause serious performance degradation.\n",
      "22/07/25 23:50:37 WARN WindowExec: No Partition Defined for Window operation! Moving all data to a single partition, this can cause serious performance degradation.\n",
      "22/07/25 23:50:37 WARN WindowExec: No Partition Defined for Window operation! Moving all data to a single partition, this can cause serious performance degradation.\n",
      "22/07/25 23:50:37 WARN WindowExec: No Partition Defined for Window operation! Moving all data to a single partition, this can cause serious performance degradation.\n",
      "22/07/25 23:50:37 WARN WindowExec: No Partition Defined for Window operation! Moving all data to a single partition, this can cause serious performance degradation.\n",
      "22/07/25 23:50:37 WARN WindowExec: No Partition Defined for Window operation! Moving all data to a single partition, this can cause serious performance degradation.\n",
      "22/07/25 23:50:37 WARN WindowExec: No Partition Defined for Window operation! Moving all data to a single partition, this can cause serious performance degradation.\n",
      "22/07/25 23:50:37 WARN WindowExec: No Partition Defined for Window operation! Moving all data to a single partition, this can cause serious performance degradation.\n"
     ]
    },
    {
     "name": "stderr",
     "output_type": "stream",
     "text": [
      "                                                                                \r"
     ]
    },
    {
     "name": "stdout",
     "output_type": "stream",
     "text": [
      "22/07/25 23:50:42 WARN WindowExec: No Partition Defined for Window operation! Moving all data to a single partition, this can cause serious performance degradation.\n",
      "22/07/25 23:50:42 WARN WindowExec: No Partition Defined for Window operation! Moving all data to a single partition, this can cause serious performance degradation.\n"
     ]
    },
    {
     "name": "stderr",
     "output_type": "stream",
     "text": [
      "\r",
      "[Stage 438:>                                                        (0 + 1) / 1]\r"
     ]
    },
    {
     "name": "stdout",
     "output_type": "stream",
     "text": [
      "22/07/25 23:50:44 WARN WindowExec: No Partition Defined for Window operation! Moving all data to a single partition, this can cause serious performance degradation.\n",
      "22/07/25 23:50:44 WARN WindowExec: No Partition Defined for Window operation! Moving all data to a single partition, this can cause serious performance degradation.\n",
      "+--------------------+--------------------+---------+\n",
      "|        Entidad_Norm|       Entidad_Norm1|Similitud|\n",
      "+--------------------+--------------------+---------+\n",
      "|universidad de za...|universidad de za...|     null|\n",
      "|universidad de sa...|universidad de sa...|     null|\n",
      "|universidad de za...|universidad de za...|     null|\n",
      "|universidad de za...|universidad de za...|     null|\n",
      "|universidad de za...|universidad de za...|     null|\n",
      "+--------------------+--------------------+---------+\n",
      "\n"
     ]
    },
    {
     "name": "stderr",
     "output_type": "stream",
     "text": [
      "\r",
      "                                                                                \r"
     ]
    }
   ],
   "source": [
    "cruce2.select('Entidad_Norm','Entidad_Norm1','Similitud').show()"
   ]
  },
  {
   "cell_type": "code",
   "execution_count": null,
   "id": "ad5e81ef",
   "metadata": {},
   "outputs": [],
   "source": [
    "Nombre_Intermedio_cruce2_invente = "
   ]
  },
  {
   "cell_type": "code",
   "execution_count": 78,
   "id": "318ddf64",
   "metadata": {},
   "outputs": [
    {
     "name": "stdout",
     "output_type": "stream",
     "text": [
      "+--------------------+\n",
      "|  DenominacionSocial|\n",
      "+--------------------+\n",
      "|1908 Puerto de Mo...|\n",
      "|A.I. Abra Industr...|\n",
      "|                null|\n",
      "|                null|\n",
      "|              NF1097|\n",
      "|                null|\n",
      "|                F411|\n",
      "|AAA Dominicana, S.A.|\n",
      "|AAA Venezuela, S.A. |\n",
      "|AAA. Ecuador Agac...|\n",
      "|     Aban Campo S.A.|\n",
      "|Abanto-Zierbena Z...|\n",
      "|       Aberekin S.A.|\n",
      "|Academia Europea ...|\n",
      "|Academia Galega d...|\n",
      "|Academia Valencia...|\n",
      "|Academia Vasca de...|\n",
      "|              Acevin|\n",
      "|        Acosol, S.A.|\n",
      "|Actius de Muntany...|\n",
      "+--------------------+\n",
      "only showing top 20 rows\n",
      "\n"
     ]
    }
   ],
   "source": [
    "Nombre_Input_invente.select(\"DenominacionSocial\").show()"
   ]
  },
  {
   "cell_type": "code",
   "execution_count": 80,
   "id": "497645a9",
   "metadata": {
    "scrolled": true
   },
   "outputs": [
    {
     "name": "stdout",
     "output_type": "stream",
     "text": [
      "22/07/25 22:28:50 WARN WindowExec: No Partition Defined for Window operation! Moving all data to a single partition, this can cause serious performance degradation.\n",
      "22/07/25 22:28:50 WARN WindowExec: No Partition Defined for Window operation! Moving all data to a single partition, this can cause serious performance degradation.\n",
      "22/07/25 22:28:50 WARN WindowExec: No Partition Defined for Window operation! Moving all data to a single partition, this can cause serious performance degradation.\n",
      "22/07/25 22:28:50 WARN WindowExec: No Partition Defined for Window operation! Moving all data to a single partition, this can cause serious performance degradation.\n",
      "22/07/25 22:28:50 WARN WindowExec: No Partition Defined for Window operation! Moving all data to a single partition, this can cause serious performance degradation.\n",
      "22/07/25 22:28:50 WARN WindowExec: No Partition Defined for Window operation! Moving all data to a single partition, this can cause serious performance degradation.\n",
      "22/07/25 22:28:50 WARN WindowExec: No Partition Defined for Window operation! Moving all data to a single partition, this can cause serious performance degradation.\n",
      "22/07/25 22:28:50 WARN WindowExec: No Partition Defined for Window operation! Moving all data to a single partition, this can cause serious performance degradation.\n",
      "22/07/25 22:28:50 WARN WindowExec: No Partition Defined for Window operation! Moving all data to a single partition, this can cause serious performance degradation.\n",
      "22/07/25 22:28:50 WARN WindowExec: No Partition Defined for Window operation! Moving all data to a single partition, this can cause serious performance degradation.\n",
      "22/07/25 22:28:50 WARN WindowExec: No Partition Defined for Window operation! Moving all data to a single partition, this can cause serious performance degradation.\n",
      "22/07/25 22:28:50 WARN WindowExec: No Partition Defined for Window operation! Moving all data to a single partition, this can cause serious performance degradation.\n"
     ]
    },
    {
     "name": "stderr",
     "output_type": "stream",
     "text": [
      "\r",
      "[Stage 51:>                                                         (0 + 1) / 1]\r"
     ]
    },
    {
     "name": "stdout",
     "output_type": "stream",
     "text": [
      "22/07/25 22:28:57 WARN WindowExec: No Partition Defined for Window operation! Moving all data to a single partition, this can cause serious performance degradation.\n",
      "22/07/25 22:28:57 WARN WindowExec: No Partition Defined for Window operation! Moving all data to a single partition, this can cause serious performance degradation.\n",
      "22/07/25 22:28:57 WARN WindowExec: No Partition Defined for Window operation! Moving all data to a single partition, this can cause serious performance degradation.\n",
      "22/07/25 22:28:57 WARN WindowExec: No Partition Defined for Window operation! Moving all data to a single partition, this can cause serious performance degradation.\n"
     ]
    },
    {
     "name": "stderr",
     "output_type": "stream",
     "text": [
      "\r",
      "[Stage 54:>                                                         (0 + 1) / 1]\r"
     ]
    },
    {
     "name": "stdout",
     "output_type": "stream",
     "text": [
      "+--------------------+\n",
      "|        Entidad_Norm|\n",
      "+--------------------+\n",
      "|facultad de medicina|\n",
      "|universidad de za...|\n",
      "|                  77|\n",
      "|laib imib institu...|\n",
      "|facultad de veter...|\n",
      "| facultad de quimica|\n",
      "|instituto de micr...|\n",
      "|instituto de leng...|\n",
      "|instituto de prod...|\n",
      "|csic instituto de...|\n",
      "|instituto de agro...|\n",
      "|instituto de cien...|\n",
      "|                  77|\n",
      "|instituto cajal a...|\n",
      "|instituto de la g...|\n",
      "|dpto biodiversida...|\n",
      "|                  77|\n",
      "|centro de alta te...|\n",
      "|escuela tecnica s...|\n",
      "|  facultad de letras|\n",
      "+--------------------+\n",
      "only showing top 20 rows\n",
      "\n"
     ]
    },
    {
     "name": "stderr",
     "output_type": "stream",
     "text": [
      "\r",
      "                                                                                \r"
     ]
    }
   ],
   "source": [
    "Nombre_Intermedio_cruce1_entidades.select(\"Entidad_Norm\").show()"
   ]
  },
  {
   "cell_type": "code",
   "execution_count": 75,
   "id": "beb2bed0",
   "metadata": {},
   "outputs": [
    {
     "data": {
      "text/plain": [
       "8040"
      ]
     },
     "execution_count": 75,
     "metadata": {},
     "output_type": "execute_result"
    }
   ],
   "source": [
    "Nombre_Input_invente.count()"
   ]
  },
  {
   "cell_type": "code",
   "execution_count": 76,
   "id": "24530ae7",
   "metadata": {
    "scrolled": true
   },
   "outputs": [
    {
     "name": "stdout",
     "output_type": "stream",
     "text": [
      "root\n",
      " |-- CodigoInvente: string (nullable = true)\n",
      " |-- DenominacionSocial: string (nullable = true)\n",
      " |-- FormaJuridica_Codigo: string (nullable = true)\n",
      " |-- FormaJuridica_Descripcion: string (nullable = true)\n",
      " |-- NIF: string (nullable = true)\n",
      " |-- codigoDir3: string (nullable = true)\n",
      " |-- codigoOrigen6: string (nullable = true)\n",
      " |-- CodigoInvente.1: string (nullable = true)\n",
      " |-- EjerceControl: string (nullable = true)\n",
      " |-- DenominacionSocial.1: string (nullable = true)\n",
      " |-- FechaAlta: string (nullable = true)\n",
      " |-- Adscripcion_Codigo: string (nullable = true)\n",
      " |-- Adscripcion_Descripcion: string (nullable = true)\n",
      " |-- Observaciones: string (nullable = true)\n",
      " |-- CodigoOrigen14: string (nullable = true)\n",
      " |-- CausaDeAlta_Codigo: string (nullable = true)\n",
      " |-- CausaDeAlta_Descripcion: string (nullable = true)\n",
      " |-- FormaJuridica_Codigo.1: string (nullable = true)\n",
      " |-- FormaJuridica_Descripcion.1: string (nullable = true)\n",
      " |-- RegimenContable_Codigo: string (nullable = true)\n",
      " |-- RegimenContable_Descripcion: string (nullable = true)\n",
      " |-- RegimenControl_Codigo: string (nullable = true)\n",
      " |-- RegimenControl_Descripcion: string (nullable = true)\n",
      " |-- RegimenPresupuestario_Codigo: string (nullable = true)\n",
      " |-- RegimenPresupuestario_Descripcion: string (nullable = true)\n",
      " |-- ClasificacionCN_Codigo: string (nullable = true)\n",
      " |-- ClasificacionCN_Descripcion: string (nullable = true)\n",
      " |-- CondicionMedioPropio: string (nullable = true)\n",
      " |-- ClasificacionEntidad: string (nullable = true)\n",
      " |-- Direccion: string (nullable = true)\n",
      " |-- Localidad: string (nullable = true)\n",
      " |-- Provincia_Codigo: string (nullable = true)\n",
      " |-- Provincia_Descripcion: string (nullable = true)\n",
      " |-- CodigoPostal: string (nullable = true)\n",
      " |-- Telefono: string (nullable = true)\n",
      " |-- SitioWeb: string (nullable = true)\n",
      " |-- eMail: string (nullable = true)\n",
      " |-- Denominacion: string (nullable = true)\n",
      " |-- Codigo: string (nullable = true)\n",
      " |-- PorcentajeParticipacion: string (nullable = true)\n",
      " |-- PorcentajeVoto: string (nullable = true)\n",
      " |-- Actividad_Situacion_Codigo: string (nullable = true)\n",
      " |-- Actividad_Situacion_Descripcion: string (nullable = true)\n",
      " |-- Actividad_Sector_Codigo: string (nullable = true)\n",
      " |-- Actividad_Sector_Descripcion: string (nullable = true)\n",
      " |-- ObjetoSocial: string (nullable = true)\n",
      " |-- Codigo.1: string (nullable = true)\n",
      " |-- Denominacion.1: string (nullable = true)\n",
      " |-- Venta_Bienes_DentroSP_Administracion: string (nullable = true)\n",
      " |-- Venta_Bienes_Dentro_SP_Otras: string (nullable = true)\n",
      " |-- Venta_Bienes_DentroSP_EntidadesSPI: string (nullable = true)\n",
      " |-- Venta_Bienes_SectorPrivado: string (nullable = true)\n",
      " |-- Transf_Subvenciones_Administracion: string (nullable = true)\n",
      " |-- Transf_Subvenciones_Otras: string (nullable = true)\n",
      " |-- Transf_Subvenciones_SPI: string (nullable = true)\n",
      " |-- Transf_Subvenciones_UnionEuropea: string (nullable = true)\n",
      " |-- Otros_Ingresos: string (nullable = true)\n",
      " |-- Denominacion.2: string (nullable = true)\n",
      " |-- FuenteAlta: string (nullable = true)\n",
      " |-- InformacionFuenteAlta: string (nullable = true)\n",
      " |-- AltaDesde: string (nullable = true)\n",
      " |-- FechaVersion: string (nullable = true)\n",
      " |-- Disponible: string (nullable = true)\n",
      " |-- FechaBaja: string (nullable = true)\n",
      "\n"
     ]
    }
   ],
   "source": [
    "Nombre_Input_invente.printSchema()"
   ]
  },
  {
   "cell_type": "code",
   "execution_count": null,
   "id": "d8149c01",
   "metadata": {},
   "outputs": [],
   "source": []
  },
  {
   "cell_type": "code",
   "execution_count": null,
   "id": "59db4c3f",
   "metadata": {},
   "outputs": [],
   "source": []
  },
  {
   "cell_type": "code",
   "execution_count": null,
   "id": "25973dd2",
   "metadata": {},
   "outputs": [],
   "source": []
  },
  {
   "cell_type": "code",
   "execution_count": null,
   "id": "8c900b21",
   "metadata": {},
   "outputs": [],
   "source": []
  },
  {
   "cell_type": "code",
   "execution_count": null,
   "id": "8a12fdd2",
   "metadata": {},
   "outputs": [],
   "source": []
  },
  {
   "cell_type": "code",
   "execution_count": null,
   "id": "9d4f4cd0",
   "metadata": {},
   "outputs": [],
   "source": []
  },
  {
   "cell_type": "code",
   "execution_count": null,
   "id": "3ff9ae90",
   "metadata": {},
   "outputs": [],
   "source": []
  },
  {
   "cell_type": "code",
   "execution_count": null,
   "id": "6e25619d",
   "metadata": {},
   "outputs": [],
   "source": []
  },
  {
   "cell_type": "code",
   "execution_count": null,
   "id": "aad2ea36",
   "metadata": {},
   "outputs": [],
   "source": []
  },
  {
   "cell_type": "code",
   "execution_count": null,
   "id": "c07817a3",
   "metadata": {},
   "outputs": [],
   "source": []
  },
  {
   "cell_type": "code",
   "execution_count": null,
   "id": "1e0c4497",
   "metadata": {},
   "outputs": [],
   "source": []
  },
  {
   "cell_type": "code",
   "execution_count": null,
   "id": "829d8a58",
   "metadata": {},
   "outputs": [],
   "source": []
  },
  {
   "cell_type": "code",
   "execution_count": null,
   "id": "57a25643",
   "metadata": {},
   "outputs": [],
   "source": []
  },
  {
   "cell_type": "code",
   "execution_count": 88,
   "id": "00c3e62c",
   "metadata": {},
   "outputs": [],
   "source": [
    "import pandas as pd\n",
    "dfe = pd.read_csv('DATA_IGAE_INVENTE.csv', on_bad_lines='skip', sep = ',')"
   ]
  },
  {
   "cell_type": "code",
   "execution_count": 90,
   "id": "bb6fdd6a",
   "metadata": {},
   "outputs": [],
   "source": [
    "dfe.to_csv('DATA_IGAE_INVENTE.csv', sep = ';', index = False)"
   ]
  },
  {
   "cell_type": "code",
   "execution_count": 89,
   "id": "76204fc3",
   "metadata": {},
   "outputs": [
    {
     "data": {
      "text/plain": [
       "Index(['CodigoInvente', 'DenominacionSocial', 'FormaJuridica_Codigo',\n",
       "       'FormaJuridica_Descripcion', 'NIF', 'codigoDir3', 'codigoOrigen',\n",
       "       'CodigoInvente.1', 'EjerceControl', 'FechaAlta', 'Adscripcion_Codigo',\n",
       "       'Adscripcion_Descripcion', 'Observaciones', 'CodigoOrigen',\n",
       "       'CausaDeAlta_Codigo', 'CausaDeAlta_Descripcion',\n",
       "       'FormaJuridica_Codigo.1', 'FormaJuridica_Descripcion.1',\n",
       "       'RegimenContable_Codigo', 'RegimenContable_Descripcion',\n",
       "       'RegimenControl_Codigo', 'RegimenControl_Descripcion',\n",
       "       'RegimenPresupuestario_Codigo', 'RegimenPresupuestario_Descripcion',\n",
       "       'ClasificacionCN_Codigo', 'ClasificacionCN_Descripcion',\n",
       "       'CondicionMedioPropio', 'ClasificacionEntidad', 'Direccion',\n",
       "       'Localidad', 'Provincia_Codigo', 'Provincia_Descripcion',\n",
       "       'CodigoPostal', 'Telefono', 'SitioWeb', 'eMail', 'Denominacion',\n",
       "       'Codigo', 'PorcentajeParticipacion', 'PorcentajeVoto',\n",
       "       'Actividad_Situacion_Codigo', 'Actividad_Situacion_Descripcion',\n",
       "       'Actividad_Sector_Codigo', 'Actividad_Sector_Descripcion',\n",
       "       'ObjetoSocial', 'Codigo.1', 'Denominacion.1',\n",
       "       'Venta_Bienes_DentroSP_Administracion', 'Venta_Bienes_Dentro_SP_Otras',\n",
       "       'Venta_Bienes_DentroSP_EntidadesSPI', 'Venta_Bienes_SectorPrivado',\n",
       "       'Transf_Subvenciones_Administracion', 'Transf_Subvenciones_Otras',\n",
       "       'Transf_Subvenciones_SPI', 'Transf_Subvenciones_UnionEuropea',\n",
       "       'Otros_Ingresos', 'Denominacion.2', 'FuenteAlta',\n",
       "       'InformacionFuenteAlta', 'AltaDesde', 'FechaVersion', 'Disponible',\n",
       "       'FechaBaja'],\n",
       "      dtype='object')"
      ]
     },
     "execution_count": 89,
     "metadata": {},
     "output_type": "execute_result"
    }
   ],
   "source": [
    "dfe.columns"
   ]
  },
  {
   "cell_type": "code",
   "execution_count": 47,
   "id": "2b16a414",
   "metadata": {},
   "outputs": [
    {
     "data": {
      "text/html": [
       "<div>\n",
       "<style scoped>\n",
       "    .dataframe tbody tr th:only-of-type {\n",
       "        vertical-align: middle;\n",
       "    }\n",
       "\n",
       "    .dataframe tbody tr th {\n",
       "        vertical-align: top;\n",
       "    }\n",
       "\n",
       "    .dataframe thead th {\n",
       "        text-align: right;\n",
       "    }\n",
       "</style>\n",
       "<table border=\"1\" class=\"dataframe\">\n",
       "  <thead>\n",
       "    <tr style=\"text-align: right;\">\n",
       "      <th></th>\n",
       "      <th></th>\n",
       "      <th></th>\n",
       "      <th></th>\n",
       "      <th></th>\n",
       "      <th></th>\n",
       "      <th></th>\n",
       "      <th></th>\n",
       "      <th></th>\n",
       "      <th>CodigoInvente;DenominacionSocial;FormaJuridica_Codigo;FormaJuridica_Descripcion;NIF;codigoDir3;codigoOrigen;CodigoInvente.1;EjerceControl;DenominacionSocial.1;FechaAlta;Adscripcion_Codigo;Adscripcion_Descripcion;Observaciones;CodigoOrigen;CodigoDIR3;CausaDeAlta_Codigo;CausaDeAlta_Descripcion;FormaJuridica_Codigo.1;FormaJuridica_Descripcion.1;RegimenContable_Codigo;RegimenContable_Descripcion;RegimenControl_Codigo;RegimenControl_Descripcion;RegimenPresupuestario_Codigo;RegimenPresupuestario_Descripcion;ClasificacionCN_Codigo;ClasificacionCN_Descripcion;CondicionMedioPropio;ClasificacionEntidad;Direccion;Localidad;Provincia_Codigo;Provincia_Descripcion;CodigoPostal;Telefono;SitioWeb;eMail;Denominacion;Codigo;PorcentajeParticipacion;PorcentajeVoto;Actividad_Situacion_Codigo;Actividad_Situacion_Descripcion;Actividad_Sector_Codigo;Actividad_Sector_Descripcion;ObjetoSocial;Codigo.1;Denominacion.1;Venta_Bienes_DentroSP_Administracion;Venta_Bienes_Dentro_SP_Otras;Venta_Bienes_DentroSP_EntidadesSPI;Venta_Bienes_SectorPrivado;Transf_Subvenciones_Administracion;Transf_Subvenciones_Otras;Transf_Subvenciones_SPI;Transf_Subvenciones_UnionEuropea;Otros_Ingresos;Denominacion.2;FuenteAlta;InformacionFuenteAlta;AltaDesde;FechaVersion;Disponible;FechaBaja</th>\n",
       "    </tr>\n",
       "  </thead>\n",
       "  <tbody>\n",
       "    <tr>\n",
       "      <th>INV00000002;1908 Puerto de Motril</th>\n",
       "      <th>A.I.E.;12;Sociedad mercantil ;V18862987;;0100000XP172;INV00000002;Administración Central;1908 Puerto de Motril</th>\n",
       "      <th>A.I.E.;2008-05-16T00:00:00;0;Varias administraciones públicas;soporte documental ESCRITURA nº 280 de 27 de febrero de 2008 (RM 16/05/2008);;;2;Incorporación al SPI;12;Sociedad mercantil ;2;Privado;3;Auditoría de cuentas;2;Estimativo;5;S.11001 Sociedades no financieras Públicas: Administración Central;;;Recinto Portuario  El Varadero</th>\n",
       "      <th>s/n                                                                             ;Motril                                                                                                                                                                                                                                                    ;18;Granada;18613;958601207;https://www.apmotril.com/motrilport                                                                                                                                                                                                                       ;jmartin@motrilport.com                                                                                                                                                                                                                                    ;Empresa Provincial de Vivienda</th>\n",
       "      <th>Suelo y Equipamiento de Granada</th>\n",
       "      <th>S.A.;INV00005446;29</th>\n",
       "      <th>41;29</th>\n",
       "      <th>41;1;Con actividad económica;2;Empresarial;Gestión y promoción de los intereses comunes de los sectores logístico-portuario y turístico-marítimo  del Puerto  de Motril</th>\n",
       "      <th>para integrar las sinergias cómo clave de éxito</th>\n",
       "      <td>coordinar la prestación de servicios para mej...</td>\n",
       "    </tr>\n",
       "    <tr>\n",
       "      <th>INV00000004;A.I. Abra Industrial</th>\n",
       "      <th>S.A. Sociedad Mercantil Estatal;12;Sociedad mercantil ;A48021349;EA0023191;1097NF;INV00000004;Administración Central;A.I. Abra Industrial</th>\n",
       "      <th>S.A. Sociedad Mercantil Estatal;1998-07-21T00:00:00;31;Ministerio de Hacienda y Función Pública;\"La Sociedad tiene su origen en la constitución con fecha 30 de enero de 1954</th>\n",
       "      <th>de la sociedad española de Minas de Somorrostro</th>\n",
       "      <th>S.A.</th>\n",
       "      <th>procediendo al cambio de denominación social</th>\n",
       "      <th>con fecha 26 de febrero de 1996</th>\n",
       "      <th>a A.I. Abra Industrial</th>\n",
       "      <th>S.A.</th>\n",
       "      <td>NaN</td>\n",
       "    </tr>\n",
       "    <tr>\n",
       "      <th>Con fecha 16 de enero de 2017</th>\n",
       "      <th>se inscribe en el Registro la modificación de la denominación social según lo dispuesto en el artículo 111.2 de la Ley 40/2015</th>\n",
       "      <th>de 1 de octubre</th>\n",
       "      <th>de Régimen Jurídico del Sector Público</th>\n",
       "      <th>incluyendo en su denominación “Sociedad Mercantil Estatal”.</th>\n",
       "      <th>NaN</th>\n",
       "      <th>NaN</th>\n",
       "      <th>NaN</th>\n",
       "      <th>NaN</th>\n",
       "      <td>NaN</td>\n",
       "    </tr>\n",
       "    <tr>\n",
       "      <th>La actividad principal de la Sociedad se enmarca en el proyecto de promover el desarrollo de actuaciones industriales</th>\n",
       "      <th>tecnológicas y de servicios en los terrenos situados en la zona minera de Bodavalle</th>\n",
       "      <th>recuperando los espacios naturales deteriorados por la acción minera ejercida sobre ellos en años anteriores. En la actualidad no existe la actividad minera</th>\n",
       "      <th>actividad principal por la cual se constituyó la sociedad.</th>\n",
       "      <th>NaN</th>\n",
       "      <th>NaN</th>\n",
       "      <th>NaN</th>\n",
       "      <th>NaN</th>\n",
       "      <th>NaN</th>\n",
       "      <td>NaN</td>\n",
       "    </tr>\n",
       "    <tr>\n",
       "      <th>- La urbanización</th>\n",
       "      <th>acondicionamiento</th>\n",
       "      <th>planeamiento</th>\n",
       "      <th>parcelación y reparcelación de terrenos</th>\n",
       "      <th>así como la gestión y la realización de obras y actuaciones precisas para ello.</th>\n",
       "      <th>NaN</th>\n",
       "      <th>NaN</th>\n",
       "      <th>NaN</th>\n",
       "      <th>NaN</th>\n",
       "      <td>NaN</td>\n",
       "    </tr>\n",
       "    <tr>\n",
       "      <th>...</th>\n",
       "      <th>...</th>\n",
       "      <th>...</th>\n",
       "      <th>...</th>\n",
       "      <th>...</th>\n",
       "      <th>...</th>\n",
       "      <th>...</th>\n",
       "      <th>...</th>\n",
       "      <th>...</th>\n",
       "      <td>...</td>\n",
       "    </tr>\n",
       "    <tr>\n",
       "      <th>INV00005465;Zubiaurre-Elkargune Institutua;7;Organismo autónomo;P7001801E;LA0015190;1520017AO002;INV00005465;Ayuntamiento de Azkoitia;Zubiaurre-Elkargune Institutua;1989-03-02T00:00:00;1520017AA000;Ayuntamiento de Azkoitia;soporte documental ESTATUTOS 02.03.1989;1520017AO002;LA0015190;2;Incorporación al SPI;7;Organismo autónomo;1;Público;1;\"Función interventora; Control financiero permanente; Auditoría de cuentas\";1;Limitativo;3;S.1313 Administraciones Públicas: Administración Local;;;Plaza Aita Madinabeitia</th>\n",
       "      <th>s/n                                                                             ;Azkoitia                                                                                                                                                                                                                                                  ;20;Gipuzkoa;20720;943852544;www.elkarguneazkoitia.eus                                                                                                                                                                                                                                 ;info@elkarguneazkoitia.net                                                                                                                                                                                                                                ;Ayuntamiento de Azkoitia;1520017AA000;100;100;1;Con actividad económica;1;Administrativo ;;P8552;Educación cultural;;;;;;;;;;Gestión de instalaciones deportivas;Carga inicial Registro SPI;Datos provisionales;06/01/20;2020-06-01T00:00:00;1;0001-01-01T00:00:00</th>\n",
       "      <th>NaN</th>\n",
       "      <th>NaN</th>\n",
       "      <th>NaN</th>\n",
       "      <th>NaN</th>\n",
       "      <th>NaN</th>\n",
       "      <th>NaN</th>\n",
       "      <th>NaN</th>\n",
       "      <td>NaN</td>\n",
       "    </tr>\n",
       "    <tr>\n",
       "      <th>INV00005466;Zuera Gest. Urbanistica</th>\n",
       "      <th>S.A.;12;Sociedad mercantil ;A50526268;;0250298AP001;INV00005466;Ayuntamiento de Zuera;Zuera Gest. Urbanistica</th>\n",
       "      <th>S.A.;1992-10-15T00:00:00;0250298AA000;Ayuntamiento de Zuera;soporte documental ESCRITURA 15.10.1992;0250298AP001;;2;Incorporación al SPI;12;Sociedad mercantil ;0;;3;Auditoría de cuentas;2;Estimativo;3;S.1313 Administraciones Públicas: Administración Local;;;Plaza de España</th>\n",
       "      <th>3                                                                               ;Zuera                                                                                                                                                                                                                                                     ;50;Zaragoza;50800;                         ;                                                                                                                                                                                                                                                          ;                                                                                                                                                                                                                                                          ;Ayuntamiento de Zuera;0250298AA000;100;100;1;Con actividad económica;2;Empresarial;;L6832;Gestión y administración de la propiedad inmobiliaria;;;;;;;;;;Zuera Gest. Urbanistica</th>\n",
       "      <th>S.A.;Carga inicial Registro SPI;Datos provisionales;06/01/20;2020-06-01T00:00:00;1;0001-01-01T00:00:00</th>\n",
       "      <th>NaN</th>\n",
       "      <th>NaN</th>\n",
       "      <th>NaN</th>\n",
       "      <th>NaN</th>\n",
       "      <td>NaN</td>\n",
       "    </tr>\n",
       "    <tr>\n",
       "      <th>INV00005467;Zugaztel</th>\n",
       "      <th>S.A.;12;Sociedad mercantil ;A95584835;;1548000DP019;INV00005467;Diputación Foral de Bizkaia;Zugaztel</th>\n",
       "      <th>S.A.;2009-09-30T00:00:00;1548000DD000;Diputación Foral de Bizkaia;soporte documental ESCRITURA 30.09.2009;1548000DP019;;2;Incorporación al SPI;12;Sociedad mercantil ;0;;3;Auditoría de cuentas;2;Estimativo;3;S.1313 Administraciones Públicas: Administración Local;;;C/ Islas Canarias</th>\n",
       "      <th>21                                                                              ;Bilbao                                                                                                                                                                                                                                                    ;48;Bizkaia;48015;946083903;                                                                                                                                                                                                                                                          ;zugaztel@bizkaia.net                                                                                                                                                                                                                                      ;Diputación Foral de Bizkaia;1548000DD000;100;0;1;Con actividad económica;2;Empresarial;;J6203;Gestión de recursos informáticos;;;;;;;;;;Otros servicios relacionados con las tecnologías de la información y la informática;Carga inicial Registro SPI;Datos provisionales;06/01/20;2020-06-01T00:00:00;1;0001-01-01T00:00:00</th>\n",
       "      <th>NaN</th>\n",
       "      <th>NaN</th>\n",
       "      <th>NaN</th>\n",
       "      <th>NaN</th>\n",
       "      <th>NaN</th>\n",
       "      <td>NaN</td>\n",
       "    </tr>\n",
       "    <tr>\n",
       "      <th>INV00005468;Zumaiako Kirol Portua</th>\n",
       "      <th>S.A.;12;Sociedad mercantil ;A20506127;A16005987;1500000BP102;INV00005468;Comunidad Autónoma del País Vasco;Zumaiako Kirol Portua</th>\n",
       "      <th>S.A.;2003-08-25T00:00:00;15;Pais Vasco;soporte documental ESCRITURA de compra-venta de acciones (Dec.196/2003</th>\n",
       "      <th>29/07);1500000BP102;A16005987;2;Incorporación al SPI;12;Sociedad mercantil ;2;Privado;3;Auditoría de cuentas;2;Estimativo;2;S.1312 Administraciones Públicas: Administración Regional;;;Plaza Foruen Enparantza</th>\n",
       "      <th>1                                                                               ;Zumaia                                                                                                                                                                                                                                                    ;20;Gipuzkoa;20750;                         ;                                                                                                                                                                                                                                                          ;                                                                                                                                                                                                                                                          ;Ayuntamiento de Zumaia;1520081AA000;49;49;1;Con actividad económica;2;Empresarial;Planificación</th>\n",
       "      <th>promoción</th>\n",
       "      <th>desarrollo y explotación de puertos deportivos;R931;Actividades deportivas;;;;;;;;;;Zumaiako Kirol Portua</th>\n",
       "      <th>S.A.;Carga inicial Registro SPI;Datos provisionales;06/01/20;2020-06-01T00:00:00;1;0001-01-01T00:00:00</th>\n",
       "      <th>NaN</th>\n",
       "      <td>NaN</td>\n",
       "    </tr>\n",
       "    <tr>\n",
       "      <th>INV00005469;Zumaiako Kirolaren Udal Patronatua-Patronato Muncipal de Deportes de Z;7;Organismo autónomo;Q2000564A;LA0005693;1520081AO001;INV00005469;Ayuntamiento de Zumaia;Zumaiako Kirolaren Udal Patronatua-Patronato Muncipal de Deportes de Z;2009-10-21T00:00:00;1520081AA000;Ayuntamiento de Zumaia;soporte documental B.O.P. 21.10.2009;1520081AO001;LA0005693;2;Incorporación al SPI;7;Organismo autónomo;1;Público;1;\"Función interventora; Control financiero permanente; Auditoría de cuentas\";1;Limitativo;3;S.1313 Administraciones Públicas: Administración Local;;;Bº Basadi Auzoa</th>\n",
       "      <th>16 - Polideportivo Lubaki                                                       ;Zumaia                                                                                                                                                                                                                                                    ;20;Gipuzkoa;20750;843862021;www.zumaia.eus                                                                                                                                                                                                                                            ;kirolak@lubaki.eus                                                                                                                                                                                                                                        ;Ayuntamiento de Zumaia;1520081AA000;100;100;1;Con actividad económica;1;Administrativo ;;R9311;Gestión de instalaciones deportivas;;;;;;;;;;Zumaiako Kirolaren Udal Patronatua-Patronato Muncipal de Deportes de Z;Carga inicial Registro SPI;Datos provisionales;06/01/20;2020-06-01T00:00:00;1;0001-01-01T00:00:00</th>\n",
       "      <th>NaN</th>\n",
       "      <th>NaN</th>\n",
       "      <th>NaN</th>\n",
       "      <th>NaN</th>\n",
       "      <th>NaN</th>\n",
       "      <th>NaN</th>\n",
       "      <th>NaN</th>\n",
       "      <td>NaN</td>\n",
       "    </tr>\n",
       "  </tbody>\n",
       "</table>\n",
       "<p>7279 rows × 1 columns</p>\n",
       "</div>"
      ],
      "text/plain": [
       "                                                                                                                                                                                                                                                                                                                                                                                                                                                                    CodigoInvente;DenominacionSocial;FormaJuridica_Codigo;FormaJuridica_Descripcion;NIF;codigoDir3;codigoOrigen;CodigoInvente.1;EjerceControl;DenominacionSocial.1;FechaAlta;Adscripcion_Codigo;Adscripcion_Descripcion;Observaciones;CodigoOrigen;CodigoDIR3;CausaDeAlta_Codigo;CausaDeAlta_Descripcion;FormaJuridica_Codigo.1;FormaJuridica_Descripcion.1;RegimenContable_Codigo;RegimenContable_Descripcion;RegimenControl_Codigo;RegimenControl_Descripcion;RegimenPresupuestario_Codigo;RegimenPresupuestario_Descripcion;ClasificacionCN_Codigo;ClasificacionCN_Descripcion;CondicionMedioPropio;ClasificacionEntidad;Direccion;Localidad;Provincia_Codigo;Provincia_Descripcion;CodigoPostal;Telefono;SitioWeb;eMail;Denominacion;Codigo;PorcentajeParticipacion;PorcentajeVoto;Actividad_Situacion_Codigo;Actividad_Situacion_Descripcion;Actividad_Sector_Codigo;Actividad_Sector_Descripcion;ObjetoSocial;Codigo.1;Denominacion.1;Venta_Bienes_DentroSP_Administracion;Venta_Bienes_Dentro_SP_Otras;Venta_Bienes_DentroSP_EntidadesSPI;Venta_Bienes_SectorPrivado;Transf_Subvenciones_Administracion;Transf_Subvenciones_Otras;Transf_Subvenciones_SPI;Transf_Subvenciones_UnionEuropea;Otros_Ingresos;Denominacion.2;FuenteAlta;InformacionFuenteAlta;AltaDesde;FechaVersion;Disponible;FechaBaja\n",
       "INV00000002;1908 Puerto de Motril                   A.I.E.;12;Sociedad mercantil ;V18862987;;01000...  A.I.E.;2008-05-16T00:00:00;0;Varias administra...  s/n                                           ...  Suelo y Equipamiento de Granada                    S.A.;INV00005446;29                          41;29                                              41;1;Con actividad económica;2;Empresarial;Gest...  para integrar las sinergias cómo clave de éxito   coordinar la prestación de servicios para mej...                                                                                                                                                                                                                                                                                                                                                                                                                                                                                                                                                                                                                                                                                                                                                                                                                                                                                                                                                                                                                                                                                                                                                                                                                                                      \n",
       "INV00000004;A.I. Abra Industrial                    S.A. Sociedad Mercantil Estatal;12;Sociedad me...  S.A. Sociedad Mercantil Estatal;1998-07-21T00:...  de la sociedad española de Minas de Somorrostro    S.A.                                               procediendo al cambio de denominación social  con fecha 26 de febrero de 1996                    a A.I. Abra Industrial                             S.A.                                                                                           NaN                                                                                                                                                                                                                                                                                                                                                                                                                                                                                                                                                                                                                                                                                                                                                                                                                                                                                                                                                                                                                                                                                                                                                                                                                                                      \n",
       "Con fecha 16 de enero de 2017                       se inscribe en el Registro la modificación de ...  de 1 de octubre                                    de Régimen Jurídico del Sector Público             incluyendo en su denominación “Sociedad Mercan... NaN                                           NaN                                                NaN                                                NaN                                                                                             NaN                                                                                                                                                                                                                                                                                                                                                                                                                                                                                                                                                                                                                                                                                                                                                                                                                                                                                                                                                                                                                                                                                                                                                                                                                                                      \n",
       "La actividad principal de la Sociedad se enmarc...  tecnológicas y de servicios en los terrenos si...  recuperando los espacios naturales deteriorado...  actividad principal por la cual se constituyó ... NaN                                                NaN                                           NaN                                                NaN                                                NaN                                                                                             NaN                                                                                                                                                                                                                                                                                                                                                                                                                                                                                                                                                                                                                                                                                                                                                                                                                                                                                                                                                                                                                                                                                                                                                                                                                                                      \n",
       "- La urbanización                                   acondicionamiento                                  planeamiento                                       parcelación y reparcelación de terrenos            así como la gestión y la realización de obras ... NaN                                           NaN                                                NaN                                                NaN                                                                                             NaN                                                                                                                                                                                                                                                                                                                                                                                                                                                                                                                                                                                                                                                                                                                                                                                                                                                                                                                                                                                                                                                                                                                                                                                                                                                      \n",
       "...                                                                                                                                                                                                                                                                                                                                                                                                                                                                                                                ...                                                                                                                                                                                                                                                                                                                                                                                                                                                                                                                                                                                                                                                                                                                                                                                                                                                                                                                                                                                                                                                                                                                                                                                                                                                      \n",
       "INV00005465;Zubiaurre-Elkargune Institutua;7;Or...  s/n                                           ... NaN                                                NaN                                                NaN                                                NaN                                           NaN                                                NaN                                                NaN                                                                                             NaN                                                                                                                                                                                                                                                                                                                                                                                                                                                                                                                                                                                                                                                                                                                                                                                                                                                                                                                                                                                                                                                                                                                                                                                                                                                      \n",
       "INV00005466;Zuera Gest. Urbanistica                 S.A.;12;Sociedad mercantil ;A50526268;;0250298...  S.A.;1992-10-15T00:00:00;0250298AA000;Ayuntami...  3                                             ...  S.A.;Carga inicial Registro SPI;Datos provisio... NaN                                           NaN                                                NaN                                                NaN                                                                                             NaN                                                                                                                                                                                                                                                                                                                                                                                                                                                                                                                                                                                                                                                                                                                                                                                                                                                                                                                                                                                                                                                                                                                                                                                                                                                      \n",
       "INV00005467;Zugaztel                               S.A.;12;Sociedad mercantil ;A95584835;;1548000D... S.A.;2009-09-30T00:00:00;1548000DD000;Diputació...  21                                            ... NaN                                                NaN                                           NaN                                                NaN                                                NaN                                                                                             NaN                                                                                                                                                                                                                                                                                                                                                                                                                                                                                                                                                                                                                                                                                                                                                                                                                                                                                                                                                                                                                                                                                                                                                                                                                                                      \n",
       "INV00005468;Zumaiako Kirol Portua                   S.A.;12;Sociedad mercantil ;A20506127;A1600598...  S.A.;2003-08-25T00:00:00;15;Pais Vasco;soporte...  29/07);1500000BP102;A16005987;2;Incorporación ...  1                                             ...  promoción                                     desarrollo y explotación de puertos deportivos...  S.A.;Carga inicial Registro SPI;Datos provisio... NaN                                                                                             NaN                                                                                                                                                                                                                                                                                                                                                                                                                                                                                                                                                                                                                                                                                                                                                                                                                                                                                                                                                                                                                                                                                                                                                                                                                                                      \n",
       "INV00005469;Zumaiako Kirolaren Udal Patronatua-...  16 - Polideportivo Lubaki                     ... NaN                                                NaN                                                NaN                                                NaN                                           NaN                                                NaN                                                NaN                                                                                             NaN                                                                                                                                                                                                                                                                                                                                                                                                                                                                                                                                                                                                                                                                                                                                                                                                                                                                                                                                                                                                                                                                                                                                                                                                                                                      \n",
       "\n",
       "[7279 rows x 1 columns]"
      ]
     },
     "execution_count": 47,
     "metadata": {},
     "output_type": "execute_result"
    }
   ],
   "source": [
    "dfe"
   ]
  },
  {
   "cell_type": "code",
   "execution_count": null,
   "id": "d38d8862",
   "metadata": {},
   "outputs": [],
   "source": []
  },
  {
   "cell_type": "code",
   "execution_count": null,
   "id": "e7f8dbac",
   "metadata": {},
   "outputs": [],
   "source": []
  },
  {
   "cell_type": "code",
   "execution_count": null,
   "id": "b400c10f",
   "metadata": {},
   "outputs": [],
   "source": []
  },
  {
   "cell_type": "code",
   "execution_count": null,
   "id": "ca1e4bb1",
   "metadata": {},
   "outputs": [],
   "source": []
  },
  {
   "cell_type": "code",
   "execution_count": null,
   "id": "432cf45a",
   "metadata": {},
   "outputs": [],
   "source": []
  },
  {
   "cell_type": "code",
   "execution_count": null,
   "id": "b755e33e",
   "metadata": {},
   "outputs": [],
   "source": []
  },
  {
   "cell_type": "code",
   "execution_count": null,
   "id": "6af2dcfc",
   "metadata": {},
   "outputs": [],
   "source": []
  },
  {
   "cell_type": "code",
   "execution_count": null,
   "id": "fda44743",
   "metadata": {},
   "outputs": [],
   "source": []
  },
  {
   "cell_type": "code",
   "execution_count": null,
   "id": "49144e40",
   "metadata": {},
   "outputs": [],
   "source": []
  },
  {
   "cell_type": "code",
   "execution_count": null,
   "id": "6abcd68d",
   "metadata": {},
   "outputs": [],
   "source": []
  },
  {
   "cell_type": "code",
   "execution_count": null,
   "id": "a7322536",
   "metadata": {},
   "outputs": [],
   "source": []
  },
  {
   "cell_type": "code",
   "execution_count": null,
   "id": "525c4392",
   "metadata": {},
   "outputs": [],
   "source": []
  },
  {
   "cell_type": "code",
   "execution_count": null,
   "id": "4473cb4f",
   "metadata": {},
   "outputs": [],
   "source": []
  },
  {
   "cell_type": "code",
   "execution_count": null,
   "id": "d954b90a",
   "metadata": {},
   "outputs": [],
   "source": []
  },
  {
   "cell_type": "code",
   "execution_count": null,
   "id": "4287ee4d",
   "metadata": {},
   "outputs": [],
   "source": []
  },
  {
   "cell_type": "code",
   "execution_count": null,
   "id": "c9ed9469",
   "metadata": {},
   "outputs": [],
   "source": []
  },
  {
   "cell_type": "code",
   "execution_count": null,
   "id": "93deae43",
   "metadata": {},
   "outputs": [],
   "source": []
  },
  {
   "cell_type": "code",
   "execution_count": null,
   "id": "8a53aa0f",
   "metadata": {},
   "outputs": [],
   "source": []
  },
  {
   "cell_type": "code",
   "execution_count": null,
   "id": "674be819",
   "metadata": {},
   "outputs": [],
   "source": []
  },
  {
   "cell_type": "code",
   "execution_count": null,
   "id": "25372133",
   "metadata": {},
   "outputs": [],
   "source": []
  },
  {
   "cell_type": "code",
   "execution_count": null,
   "id": "024d2ea5",
   "metadata": {},
   "outputs": [],
   "source": []
  },
  {
   "cell_type": "code",
   "execution_count": null,
   "id": "1e7aa2c0",
   "metadata": {},
   "outputs": [],
   "source": []
  },
  {
   "cell_type": "code",
   "execution_count": null,
   "id": "2b978b16",
   "metadata": {},
   "outputs": [],
   "source": []
  },
  {
   "cell_type": "code",
   "execution_count": null,
   "id": "99cf0aa6",
   "metadata": {},
   "outputs": [],
   "source": []
  },
  {
   "cell_type": "code",
   "execution_count": null,
   "id": "8486bbde",
   "metadata": {},
   "outputs": [],
   "source": []
  },
  {
   "cell_type": "code",
   "execution_count": null,
   "id": "fb4b6737",
   "metadata": {},
   "outputs": [],
   "source": []
  },
  {
   "cell_type": "code",
   "execution_count": null,
   "id": "70a27847",
   "metadata": {},
   "outputs": [],
   "source": []
  },
  {
   "cell_type": "code",
   "execution_count": null,
   "id": "bb53b39f",
   "metadata": {},
   "outputs": [],
   "source": []
  },
  {
   "cell_type": "code",
   "execution_count": null,
   "id": "49264731",
   "metadata": {},
   "outputs": [],
   "source": []
  },
  {
   "cell_type": "code",
   "execution_count": 32,
   "id": "ba9b959a",
   "metadata": {},
   "outputs": [
    {
     "data": {
      "text/plain": [
       "['Id_NIVEL_1',\n",
       " 'Id_NIVEL_0',\n",
       " 'ID_ENTIDAD_NIVEL_0',\n",
       " 'ID_ENTIDAD_NIVEL_1',\n",
       " 'Jerarquia',\n",
       " 'NIF_COD_NIVEL_0',\n",
       " 'ACRONIMO_NIVEL_0',\n",
       " 'NOMBRE_ENTIDAD_NIVEL_0',\n",
       " 'Nombre_Entidad_Mostrar_NIVEL_0',\n",
       " 'TIPO_ENTIDAD_N1_1_NIVEL_0',\n",
       " 'TIPO_ENTIDAD_N2_1_NIVEL_0',\n",
       " 'DIRECCION_POSTAL_NIVEL_0',\n",
       " 'COD_POSTAL_NIVEL_0',\n",
       " 'COD_PROVINCIA_NIVEL_0',\n",
       " 'PROVINCIA_NIVEL_0',\n",
       " 'COD_CCAA_NIVEL_0',\n",
       " 'CCAA_NIVEL_0',\n",
       " 'ENLACE_WEB_NIVEL_0',\n",
       " 'SOMMA_NIVEL_0',\n",
       " 'TIPO_ENTIDAD_REGIONAL_NIVEL_0',\n",
       " 'ESTADO_x_NIVEL_0',\n",
       " 'NIF_COD_NIVEL_1',\n",
       " 'ACRONIMO_NIVEL_1',\n",
       " 'NOMBRE_ENTIDAD_NIVEL_1',\n",
       " 'Nombre_Entidad_Mostrar_NIVEL_1',\n",
       " 'TIPO_ENTIDAD_N1_1_NIVEL_1',\n",
       " 'TIPO_ENTIDAD_N2_1_NIVEL_1',\n",
       " 'DIRECCION_POSTAL_NIVEL_1',\n",
       " 'COD_POSTAL_NIVEL_1',\n",
       " 'COD_PROVINCIA_NIVEL_1',\n",
       " 'PROVINCIA_NIVEL_1',\n",
       " 'COD_CCAA_NIVEL_1',\n",
       " 'CCAA_NIVEL_1',\n",
       " 'ENLACE_WEB_NIVEL_1',\n",
       " 'SOMMA_NIVEL_1',\n",
       " 'TIPO_ENTIDAD_REGIONAL_NIVEL_1',\n",
       " 'ESTADO_x_NIVEL_1']"
      ]
     },
     "execution_count": 32,
     "metadata": {},
     "output_type": "execute_result"
    }
   ],
   "source": [
    "Nombre_Input_relaciones.columns"
   ]
  },
  {
   "cell_type": "code",
   "execution_count": null,
   "id": "b5271c84",
   "metadata": {},
   "outputs": [],
   "source": []
  },
  {
   "cell_type": "code",
   "execution_count": null,
   "id": "06031f24",
   "metadata": {},
   "outputs": [],
   "source": []
  },
  {
   "cell_type": "code",
   "execution_count": null,
   "id": "5babdddd",
   "metadata": {},
   "outputs": [],
   "source": []
  },
  {
   "cell_type": "code",
   "execution_count": null,
   "id": "daa11667",
   "metadata": {},
   "outputs": [],
   "source": []
  },
  {
   "cell_type": "code",
   "execution_count": 15,
   "id": "75aa6f21",
   "metadata": {},
   "outputs": [
    {
     "data": {
      "text/plain": [
       "['Id_NIVEL_1',\n",
       " 'Id_NIVEL_0',\n",
       " 'ID_ENTIDAD_NIVEL_0',\n",
       " 'ID_ENTIDAD_NIVEL_1',\n",
       " 'Jerarquia',\n",
       " 'NIF_COD_NIVEL_0',\n",
       " 'ACRONIMO_NIVEL_0',\n",
       " 'NOMBRE_ENTIDAD_NIVEL_0',\n",
       " 'Nombre_Entidad_Mostrar_NIVEL_0',\n",
       " 'TIPO_ENTIDAD_N1_1_NIVEL_0',\n",
       " 'TIPO_ENTIDAD_N2_1_NIVEL_0',\n",
       " 'DIRECCION_POSTAL_NIVEL_0',\n",
       " 'COD_POSTAL_NIVEL_0',\n",
       " 'COD_PROVINCIA_NIVEL_0',\n",
       " 'PROVINCIA_NIVEL_0',\n",
       " 'COD_CCAA_NIVEL_0',\n",
       " 'CCAA_NIVEL_0',\n",
       " 'ENLACE_WEB_NIVEL_0',\n",
       " 'SOMMA_NIVEL_0',\n",
       " 'TIPO_ENTIDAD_REGIONAL_NIVEL_0',\n",
       " 'ESTADO_x_NIVEL_0',\n",
       " 'NIF_COD_NIVEL_1',\n",
       " 'ACRONIMO_NIVEL_1',\n",
       " 'NOMBRE_ENTIDAD_NIVEL_1',\n",
       " 'Nombre_Entidad_Mostrar_NIVEL_1',\n",
       " 'TIPO_ENTIDAD_N1_1_NIVEL_1',\n",
       " 'TIPO_ENTIDAD_N2_1_NIVEL_1',\n",
       " 'DIRECCION_POSTAL_NIVEL_1',\n",
       " 'COD_POSTAL_NIVEL_1',\n",
       " 'COD_PROVINCIA_NIVEL_1',\n",
       " 'PROVINCIA_NIVEL_1',\n",
       " 'COD_CCAA_NIVEL_1',\n",
       " 'CCAA_NIVEL_1',\n",
       " 'ENLACE_WEB_NIVEL_1',\n",
       " 'SOMMA_NIVEL_1',\n",
       " 'TIPO_ENTIDAD_REGIONAL_NIVEL_1',\n",
       " 'ESTADO_x_NIVEL_1']"
      ]
     },
     "execution_count": 15,
     "metadata": {},
     "output_type": "execute_result"
    }
   ],
   "source": [
    "val numbersDf = Seq(\n",
    "  (\"123\"),\n",
    "  (\"456\"),\n",
    "  (null),\n",
    "  (\"\")\n",
    ").toDF(\"numbers\")\n",
    "\n",
    "val lettersDf = Seq(\n",
    "  (\"123\", \"abc\"),\n",
    "  (\"456\", \"def\"),\n",
    "  (null, \"zzz\"),\n",
    "  (\"\", \"hhh\")\n",
    ").toDF(\"numbers\", \"letters\")\n",
    "\n",
    "val joinedDf = numbersDf.join(lettersDf, Seq(\"numbers\"))"
   ]
  },
  {
   "cell_type": "code",
   "execution_count": null,
   "id": "6158b49b",
   "metadata": {},
   "outputs": [],
   "source": []
  },
  {
   "cell_type": "code",
   "execution_count": null,
   "id": "a7854ef6",
   "metadata": {},
   "outputs": [],
   "source": []
  },
  {
   "cell_type": "code",
   "execution_count": null,
   "id": "0e7ec90b",
   "metadata": {},
   "outputs": [],
   "source": []
  },
  {
   "cell_type": "code",
   "execution_count": null,
   "id": "4a8b7b1d",
   "metadata": {},
   "outputs": [],
   "source": [
    "data = data.withColumn(\"Id\", sequence(lit(maxId+1), lit(maxId+data.count())))"
   ]
  },
  {
   "cell_type": "code",
   "execution_count": 18,
   "id": "74e88218",
   "metadata": {},
   "outputs": [
    {
     "ename": "SyntaxError",
     "evalue": "invalid syntax (2611963741.py, line 1)",
     "output_type": "error",
     "traceback": [
      "\u001b[0;36m  File \u001b[0;32m\"/var/folders/fy/cjds5kvd3692g8__1nlvytj00000gn/T/ipykernel_50928/2611963741.py\"\u001b[0;36m, line \u001b[0;32m1\u001b[0m\n\u001b[0;31m    a12.withColumn(\"range\", array((1 to 100).map(lit(_)): _*)).show()\u001b[0m\n\u001b[0m                                     ^\u001b[0m\n\u001b[0;31mSyntaxError\u001b[0m\u001b[0;31m:\u001b[0m invalid syntax\n"
     ]
    }
   ],
   "source": [
    "a12.withColumn(\"range\", array((1 to 100).map(lit(_)): _*)).show()"
   ]
  },
  {
   "cell_type": "code",
   "execution_count": null,
   "id": "88985707",
   "metadata": {},
   "outputs": [],
   "source": [
    "data.write.csv(\"/Users/arturo/repos/repos/test1/data-eng-scripts/test\")"
   ]
  },
  {
   "cell_type": "code",
   "execution_count": 16,
   "id": "cf36611e",
   "metadata": {},
   "outputs": [
    {
     "name": "stderr",
     "output_type": "stream",
     "text": [
      "[Stage 17:>                                                         (0 + 1) / 1]\r"
     ]
    },
    {
     "name": "stdout",
     "output_type": "stream",
     "text": [
      "+---+\n",
      "| Id|\n",
      "+---+\n",
      "|833|\n",
      "|237|\n",
      "|856|\n",
      "|930|\n",
      "|871|\n",
      "|237|\n",
      "|849|\n",
      "|853|\n",
      "|237|\n",
      "|237|\n",
      "|237|\n",
      "|841|\n",
      "|847|\n",
      "|847|\n",
      "|886|\n",
      "|861|\n",
      "|833|\n",
      "|244|\n",
      "|859|\n",
      "|247|\n",
      "+---+\n",
      "only showing top 20 rows\n",
      "\n"
     ]
    },
    {
     "name": "stderr",
     "output_type": "stream",
     "text": [
      "\r",
      "                                                                                \r"
     ]
    }
   ],
   "source": [
    "data.select(\"Id\").show()"
   ]
  },
  {
   "cell_type": "code",
   "execution_count": null,
   "id": "d369aeee",
   "metadata": {},
   "outputs": [],
   "source": []
  },
  {
   "cell_type": "code",
   "execution_count": null,
   "id": "7301f40a",
   "metadata": {},
   "outputs": [],
   "source": []
  },
  {
   "cell_type": "code",
   "execution_count": null,
   "id": "7c009d8d",
   "metadata": {},
   "outputs": [],
   "source": []
  },
  {
   "cell_type": "code",
   "execution_count": null,
   "id": "fad162de",
   "metadata": {},
   "outputs": [],
   "source": []
  },
  {
   "cell_type": "code",
   "execution_count": null,
   "id": "4606c3f3",
   "metadata": {},
   "outputs": [],
   "source": []
  },
  {
   "cell_type": "code",
   "execution_count": 43,
   "id": "19b9799a",
   "metadata": {},
   "outputs": [
    {
     "ename": "AttributeError",
     "evalue": "'SparkSession' object has no attribute 'parallelize'",
     "output_type": "error",
     "traceback": [
      "\u001b[0;31m---------------------------------------------------------------------------\u001b[0m",
      "\u001b[0;31mAttributeError\u001b[0m                            Traceback (most recent call last)",
      "\u001b[0;32m/var/folders/fy/cjds5kvd3692g8__1nlvytj00000gn/T/ipykernel_10491/3764666917.py\u001b[0m in \u001b[0;36m<module>\u001b[0;34m\u001b[0m\n\u001b[0;32m----> 1\u001b[0;31m numbers_df = spark.parallelize([\n\u001b[0m\u001b[1;32m      2\u001b[0m     \u001b[0;34m(\u001b[0m\u001b[0;34m\"123\"\u001b[0m\u001b[0;34m,\u001b[0m \u001b[0;34m)\u001b[0m\u001b[0;34m,\u001b[0m \u001b[0;34m(\u001b[0m\u001b[0;34m\"456\"\u001b[0m\u001b[0;34m,\u001b[0m \u001b[0;34m)\u001b[0m\u001b[0;34m,\u001b[0m \u001b[0;34m(\u001b[0m\u001b[0;32mNone\u001b[0m\u001b[0;34m,\u001b[0m \u001b[0;34m)\u001b[0m\u001b[0;34m,\u001b[0m \u001b[0;34m(\u001b[0m\u001b[0;34m\"\"\u001b[0m\u001b[0;34m,\u001b[0m \u001b[0;34m)\u001b[0m\u001b[0;34m\u001b[0m\u001b[0;34m\u001b[0m\u001b[0m\n\u001b[1;32m      3\u001b[0m ]).toDF([\"numbers\"])\n\u001b[1;32m      4\u001b[0m \u001b[0;34m\u001b[0m\u001b[0m\n\u001b[1;32m      5\u001b[0m letters_df = spark.parallelize([\n",
      "\u001b[0;31mAttributeError\u001b[0m: 'SparkSession' object has no attribute 'parallelize'"
     ]
    }
   ],
   "source": [
    "numbers_df = spark.parallelize([\n",
    "    (\"123\", ), (\"456\", ), (None, ), (\"\", )\n",
    "]).toDF([\"numbers\"])\n",
    "\n",
    "letters_df = spark.parallelize([\n",
    "    (\"123\", \"abc\"), (\"456\", \"def\"), (None, \"zzz\"), (\"\", \"hhh\")\n",
    "]).toDF([\"numbers\", \"letters\"])\n",
    "\n",
    "#numbers_df.join(letters_df, numbers_df.numbers.eqNullSafe(letters_df.numbers))"
   ]
  },
  {
   "cell_type": "code",
   "execution_count": null,
   "id": "eb9cc7e4",
   "metadata": {},
   "outputs": [],
   "source": []
  },
  {
   "cell_type": "code",
   "execution_count": 62,
   "id": "34ca44df",
   "metadata": {},
   "outputs": [
    {
     "name": "stdout",
     "output_type": "stream",
     "text": [
      "+----+-------+---------+\n",
      "|  ID|   NAME|  Company|\n",
      "+----+-------+---------+\n",
      "|   1| sravan|company 1|\n",
      "|   2| ojaswi|company 1|\n",
      "|   3| rohith|company 2|\n",
      "|   4|sridevi|company 1|\n",
      "|null|  bobby|       44|\n",
      "+----+-------+---------+\n",
      "\n"
     ]
    }
   ],
   "source": [
    "# list  of employee data\n",
    "data = [[\"1\", \"sravan\", \"company 1\"],\n",
    "        [\"2\", \"ojaswi\", \"company 1\"],\n",
    "        [\"3\", \"rohith\", \"company 2\"],\n",
    "        [\"4\", \"sridevi\", \"company 1\"],\n",
    "        [None, \"bobby\", \"44\"]]\n",
    " \n",
    "# specify column names\n",
    "columns = ['ID', 'NAME', 'Company']\n",
    " \n",
    "# creating a dataframe from the lists of data\n",
    "dataframe = spark.createDataFrame(data, columns)\n",
    "dataframe.show()"
   ]
  },
  {
   "cell_type": "code",
   "execution_count": 63,
   "id": "efc07114",
   "metadata": {},
   "outputs": [
    {
     "name": "stdout",
     "output_type": "stream",
     "text": [
      "+----+-------+---------+\n",
      "| ID1|  NAME1| Company1|\n",
      "+----+-------+---------+\n",
      "|  14| sravan|company 1|\n",
      "|   2|ojaswii|company 1|\n",
      "|  34| rohith|company 2|\n",
      "|   4|sridevi|company 1|\n",
      "|null|  bobby|     null|\n",
      "+----+-------+---------+\n",
      "\n"
     ]
    }
   ],
   "source": [
    "data1 = [[\"14\", \"sravan\", \"company 1\"],\n",
    "        [\"2\", \"ojaswii\", \"company 1\"],\n",
    "        [\"34\", \"rohith\", \"company 2\"],\n",
    "        [\"4\", \"sridevi\", \"company 1\"],\n",
    "        [None, \"bobby\", None]]\n",
    " \n",
    "# specify column names\n",
    "columns = ['ID1', 'NAME1', 'Company1']\n",
    "\n",
    "# creating a dataframe from the lists of data\n",
    "dataframe1 = spark.createDataFrame(data1, columns)\n",
    "dataframe1.show()"
   ]
  },
  {
   "cell_type": "code",
   "execution_count": null,
   "id": "8be0db24",
   "metadata": {},
   "outputs": [],
   "source": []
  },
  {
   "cell_type": "code",
   "execution_count": 64,
   "id": "10256909",
   "metadata": {},
   "outputs": [],
   "source": [
    "cruce2 = dataframe.join(dataframe1,dataframe.ID.eqNullSafe(dataframe1.ID1))"
   ]
  },
  {
   "cell_type": "code",
   "execution_count": 65,
   "id": "87d19b26",
   "metadata": {},
   "outputs": [
    {
     "name": "stdout",
     "output_type": "stream",
     "text": [
      "+----+-------+---------+----+-------+---------+\n",
      "|  ID|   NAME|  Company| ID1|  NAME1| Company1|\n",
      "+----+-------+---------+----+-------+---------+\n",
      "|   2| ojaswi|company 1|   2|ojaswii|company 1|\n",
      "|   4|sridevi|company 1|   4|sridevi|company 1|\n",
      "|null|  bobby|       44|null|  bobby|     null|\n",
      "+----+-------+---------+----+-------+---------+\n",
      "\n"
     ]
    }
   ],
   "source": [
    "cruce2.show()"
   ]
  },
  {
   "cell_type": "code",
   "execution_count": null,
   "id": "e70d7c65",
   "metadata": {},
   "outputs": [],
   "source": []
  },
  {
   "cell_type": "code",
   "execution_count": null,
   "id": "822ae02c",
   "metadata": {},
   "outputs": [],
   "source": []
  },
  {
   "cell_type": "code",
   "execution_count": null,
   "id": "494958c4",
   "metadata": {},
   "outputs": [],
   "source": []
  },
  {
   "cell_type": "code",
   "execution_count": null,
   "id": "03c5ba2d",
   "metadata": {},
   "outputs": [],
   "source": []
  },
  {
   "cell_type": "code",
   "execution_count": null,
   "id": "ec726f9c",
   "metadata": {},
   "outputs": [],
   "source": []
  },
  {
   "cell_type": "code",
   "execution_count": null,
   "id": "6003a292",
   "metadata": {},
   "outputs": [],
   "source": []
  },
  {
   "cell_type": "code",
   "execution_count": null,
   "id": "4d1e8d26",
   "metadata": {},
   "outputs": [],
   "source": []
  },
  {
   "cell_type": "code",
   "execution_count": 61,
   "id": "322713c8",
   "metadata": {},
   "outputs": [],
   "source": [
    "maxid = 1000"
   ]
  },
  {
   "cell_type": "code",
   "execution_count": 70,
   "id": "4c47b621",
   "metadata": {},
   "outputs": [
    {
     "name": "stdout",
     "output_type": "stream",
     "text": [
      "+----+\n",
      "|  Id|\n",
      "+----+\n",
      "|1001|\n",
      "|1002|\n",
      "|1003|\n",
      "|1004|\n",
      "|1005|\n",
      "+----+\n",
      "\n"
     ]
    }
   ],
   "source": [
    "\n",
    "mylist = list(range(maxid+ 1,maxid + dataframe.count() + 1))\n",
    "\n",
    "# notice the parens after the type name\n",
    "index = spark.createDataFrame(mylist, IntegerType())\n",
    "index = index.withColumnRenamed(\"value\", \"Id\")\n",
    "\n",
    "index.show()"
   ]
  },
  {
   "cell_type": "code",
   "execution_count": 64,
   "id": "a44257ca",
   "metadata": {},
   "outputs": [],
   "source": [
    "dataframe = dataframe.withColumn(\"Dummy\", monotonically_increasing_id())\n",
    "index = index.withColumn(\"Dummy\", monotonically_increasing_id())\n",
    "df3 = dataframe.join(index, \"Dummy\", \"outer\").drop(\"Dummy\")"
   ]
  },
  {
   "cell_type": "code",
   "execution_count": 65,
   "id": "9e26be5e",
   "metadata": {},
   "outputs": [
    {
     "name": "stdout",
     "output_type": "stream",
     "text": [
      "+---+-------+---------+-----+\n",
      "| ID|   NAME|  Company|value|\n",
      "+---+-------+---------+-----+\n",
      "|  1| sravan|company 1| 1001|\n",
      "|  2| ojaswi|company 1| 1002|\n",
      "|  3| rohith|company 2| 1003|\n",
      "|  4|sridevi|company 1| 1004|\n",
      "|  5|  bobby|company 1| 1005|\n",
      "+---+-------+---------+-----+\n",
      "\n"
     ]
    }
   ],
   "source": [
    "df3.show()"
   ]
  },
  {
   "cell_type": "code",
   "execution_count": null,
   "id": "7260e5c1",
   "metadata": {},
   "outputs": [],
   "source": []
  },
  {
   "cell_type": "code",
   "execution_count": 55,
   "id": "7cb699a7",
   "metadata": {},
   "outputs": [
    {
     "ename": "AttributeError",
     "evalue": "'DataFrame' object has no attribute '_get_object_id'",
     "output_type": "error",
     "traceback": [
      "\u001b[0;31m---------------------------------------------------------------------------\u001b[0m",
      "\u001b[0;31mAttributeError\u001b[0m                            Traceback (most recent call last)",
      "\u001b[0;32m/var/folders/fy/cjds5kvd3692g8__1nlvytj00000gn/T/ipykernel_50928/3618555263.py\u001b[0m in \u001b[0;36m<module>\u001b[0;34m\u001b[0m\n\u001b[0;32m----> 1\u001b[0;31m \u001b[0mdataframe\u001b[0m\u001b[0;34m.\u001b[0m\u001b[0mwithColumn\u001b[0m\u001b[0;34m(\u001b[0m\u001b[0;34m\"Index\"\u001b[0m\u001b[0;34m,\u001b[0m \u001b[0mcol\u001b[0m\u001b[0;34m(\u001b[0m\u001b[0mindex\u001b[0m\u001b[0;34m.\u001b[0m\u001b[0mselect\u001b[0m\u001b[0;34m(\u001b[0m\u001b[0;34m\"value\"\u001b[0m\u001b[0;34m)\u001b[0m\u001b[0;34m)\u001b[0m\u001b[0;34m)\u001b[0m\u001b[0;34m\u001b[0m\u001b[0;34m\u001b[0m\u001b[0m\n\u001b[0m",
      "\u001b[0;32m~/opt/anaconda3/lib/python3.9/site-packages/pyspark/sql/functions.py\u001b[0m in \u001b[0;36mcol\u001b[0;34m(col)\u001b[0m\n\u001b[1;32m    149\u001b[0m     \u001b[0mColumn\u001b[0m\u001b[0;34m<\u001b[0m\u001b[0;34m'x'\u001b[0m\u001b[0;34m>\u001b[0m\u001b[0;34m\u001b[0m\u001b[0;34m\u001b[0m\u001b[0m\n\u001b[1;32m    150\u001b[0m     \"\"\"\n\u001b[0;32m--> 151\u001b[0;31m     \u001b[0;32mreturn\u001b[0m \u001b[0m_invoke_function\u001b[0m\u001b[0;34m(\u001b[0m\u001b[0;34m\"col\"\u001b[0m\u001b[0;34m,\u001b[0m \u001b[0mcol\u001b[0m\u001b[0;34m)\u001b[0m\u001b[0;34m\u001b[0m\u001b[0;34m\u001b[0m\u001b[0m\n\u001b[0m\u001b[1;32m    152\u001b[0m \u001b[0;34m\u001b[0m\u001b[0m\n\u001b[1;32m    153\u001b[0m \u001b[0;34m\u001b[0m\u001b[0m\n",
      "\u001b[0;32m~/opt/anaconda3/lib/python3.9/site-packages/pyspark/sql/functions.py\u001b[0m in \u001b[0;36m_invoke_function\u001b[0;34m(name, *args)\u001b[0m\n\u001b[1;32m     83\u001b[0m     \u001b[0;32massert\u001b[0m \u001b[0mSparkContext\u001b[0m\u001b[0;34m.\u001b[0m\u001b[0m_active_spark_context\u001b[0m \u001b[0;32mis\u001b[0m \u001b[0;32mnot\u001b[0m \u001b[0;32mNone\u001b[0m\u001b[0;34m\u001b[0m\u001b[0;34m\u001b[0m\u001b[0m\n\u001b[1;32m     84\u001b[0m     \u001b[0mjf\u001b[0m \u001b[0;34m=\u001b[0m \u001b[0m_get_jvm_function\u001b[0m\u001b[0;34m(\u001b[0m\u001b[0mname\u001b[0m\u001b[0;34m,\u001b[0m \u001b[0mSparkContext\u001b[0m\u001b[0;34m.\u001b[0m\u001b[0m_active_spark_context\u001b[0m\u001b[0;34m)\u001b[0m\u001b[0;34m\u001b[0m\u001b[0;34m\u001b[0m\u001b[0m\n\u001b[0;32m---> 85\u001b[0;31m     \u001b[0;32mreturn\u001b[0m \u001b[0mColumn\u001b[0m\u001b[0;34m(\u001b[0m\u001b[0mjf\u001b[0m\u001b[0;34m(\u001b[0m\u001b[0;34m*\u001b[0m\u001b[0margs\u001b[0m\u001b[0;34m)\u001b[0m\u001b[0;34m)\u001b[0m\u001b[0;34m\u001b[0m\u001b[0;34m\u001b[0m\u001b[0m\n\u001b[0m\u001b[1;32m     86\u001b[0m \u001b[0;34m\u001b[0m\u001b[0m\n\u001b[1;32m     87\u001b[0m \u001b[0;34m\u001b[0m\u001b[0m\n",
      "\u001b[0;32m~/opt/anaconda3/lib/python3.9/site-packages/py4j/java_gateway.py\u001b[0m in \u001b[0;36m__call__\u001b[0;34m(self, *args)\u001b[0m\n\u001b[1;32m   1311\u001b[0m \u001b[0;34m\u001b[0m\u001b[0m\n\u001b[1;32m   1312\u001b[0m     \u001b[0;32mdef\u001b[0m \u001b[0m__call__\u001b[0m\u001b[0;34m(\u001b[0m\u001b[0mself\u001b[0m\u001b[0;34m,\u001b[0m \u001b[0;34m*\u001b[0m\u001b[0margs\u001b[0m\u001b[0;34m)\u001b[0m\u001b[0;34m:\u001b[0m\u001b[0;34m\u001b[0m\u001b[0;34m\u001b[0m\u001b[0m\n\u001b[0;32m-> 1313\u001b[0;31m         \u001b[0margs_command\u001b[0m\u001b[0;34m,\u001b[0m \u001b[0mtemp_args\u001b[0m \u001b[0;34m=\u001b[0m \u001b[0mself\u001b[0m\u001b[0;34m.\u001b[0m\u001b[0m_build_args\u001b[0m\u001b[0;34m(\u001b[0m\u001b[0;34m*\u001b[0m\u001b[0margs\u001b[0m\u001b[0;34m)\u001b[0m\u001b[0;34m\u001b[0m\u001b[0;34m\u001b[0m\u001b[0m\n\u001b[0m\u001b[1;32m   1314\u001b[0m \u001b[0;34m\u001b[0m\u001b[0m\n\u001b[1;32m   1315\u001b[0m         \u001b[0mcommand\u001b[0m \u001b[0;34m=\u001b[0m \u001b[0mproto\u001b[0m\u001b[0;34m.\u001b[0m\u001b[0mCALL_COMMAND_NAME\u001b[0m \u001b[0;34m+\u001b[0m\u001b[0;31m\\\u001b[0m\u001b[0;34m\u001b[0m\u001b[0;34m\u001b[0m\u001b[0m\n",
      "\u001b[0;32m~/opt/anaconda3/lib/python3.9/site-packages/py4j/java_gateway.py\u001b[0m in \u001b[0;36m_build_args\u001b[0;34m(self, *args)\u001b[0m\n\u001b[1;32m   1281\u001b[0m \u001b[0;34m\u001b[0m\u001b[0m\n\u001b[1;32m   1282\u001b[0m         args_command = \"\".join(\n\u001b[0;32m-> 1283\u001b[0;31m             [get_command_part(arg, self.pool) for arg in new_args])\n\u001b[0m\u001b[1;32m   1284\u001b[0m \u001b[0;34m\u001b[0m\u001b[0m\n\u001b[1;32m   1285\u001b[0m         \u001b[0;32mreturn\u001b[0m \u001b[0margs_command\u001b[0m\u001b[0;34m,\u001b[0m \u001b[0mtemp_args\u001b[0m\u001b[0;34m\u001b[0m\u001b[0;34m\u001b[0m\u001b[0m\n",
      "\u001b[0;32m~/opt/anaconda3/lib/python3.9/site-packages/py4j/java_gateway.py\u001b[0m in \u001b[0;36m<listcomp>\u001b[0;34m(.0)\u001b[0m\n\u001b[1;32m   1281\u001b[0m \u001b[0;34m\u001b[0m\u001b[0m\n\u001b[1;32m   1282\u001b[0m         args_command = \"\".join(\n\u001b[0;32m-> 1283\u001b[0;31m             [get_command_part(arg, self.pool) for arg in new_args])\n\u001b[0m\u001b[1;32m   1284\u001b[0m \u001b[0;34m\u001b[0m\u001b[0m\n\u001b[1;32m   1285\u001b[0m         \u001b[0;32mreturn\u001b[0m \u001b[0margs_command\u001b[0m\u001b[0;34m,\u001b[0m \u001b[0mtemp_args\u001b[0m\u001b[0;34m\u001b[0m\u001b[0;34m\u001b[0m\u001b[0m\n",
      "\u001b[0;32m~/opt/anaconda3/lib/python3.9/site-packages/py4j/protocol.py\u001b[0m in \u001b[0;36mget_command_part\u001b[0;34m(parameter, python_proxy_pool)\u001b[0m\n\u001b[1;32m    296\u001b[0m             \u001b[0mcommand_part\u001b[0m \u001b[0;34m+=\u001b[0m \u001b[0;34m\";\"\u001b[0m \u001b[0;34m+\u001b[0m \u001b[0minterface\u001b[0m\u001b[0;34m\u001b[0m\u001b[0;34m\u001b[0m\u001b[0m\n\u001b[1;32m    297\u001b[0m     \u001b[0;32melse\u001b[0m\u001b[0;34m:\u001b[0m\u001b[0;34m\u001b[0m\u001b[0;34m\u001b[0m\u001b[0m\n\u001b[0;32m--> 298\u001b[0;31m         \u001b[0mcommand_part\u001b[0m \u001b[0;34m=\u001b[0m \u001b[0mREFERENCE_TYPE\u001b[0m \u001b[0;34m+\u001b[0m \u001b[0mparameter\u001b[0m\u001b[0;34m.\u001b[0m\u001b[0m_get_object_id\u001b[0m\u001b[0;34m(\u001b[0m\u001b[0;34m)\u001b[0m\u001b[0;34m\u001b[0m\u001b[0;34m\u001b[0m\u001b[0m\n\u001b[0m\u001b[1;32m    299\u001b[0m \u001b[0;34m\u001b[0m\u001b[0m\n\u001b[1;32m    300\u001b[0m     \u001b[0mcommand_part\u001b[0m \u001b[0;34m+=\u001b[0m \u001b[0;34m\"\\n\"\u001b[0m\u001b[0;34m\u001b[0m\u001b[0;34m\u001b[0m\u001b[0m\n",
      "\u001b[0;32m~/opt/anaconda3/lib/python3.9/site-packages/pyspark/sql/dataframe.py\u001b[0m in \u001b[0;36m__getattr__\u001b[0;34m(self, name)\u001b[0m\n\u001b[1;32m   1986\u001b[0m         \"\"\"\n\u001b[1;32m   1987\u001b[0m         \u001b[0;32mif\u001b[0m \u001b[0mname\u001b[0m \u001b[0;32mnot\u001b[0m \u001b[0;32min\u001b[0m \u001b[0mself\u001b[0m\u001b[0;34m.\u001b[0m\u001b[0mcolumns\u001b[0m\u001b[0;34m:\u001b[0m\u001b[0;34m\u001b[0m\u001b[0;34m\u001b[0m\u001b[0m\n\u001b[0;32m-> 1988\u001b[0;31m             raise AttributeError(\n\u001b[0m\u001b[1;32m   1989\u001b[0m                 \u001b[0;34m\"'%s' object has no attribute '%s'\"\u001b[0m \u001b[0;34m%\u001b[0m \u001b[0;34m(\u001b[0m\u001b[0mself\u001b[0m\u001b[0;34m.\u001b[0m\u001b[0m__class__\u001b[0m\u001b[0;34m.\u001b[0m\u001b[0m__name__\u001b[0m\u001b[0;34m,\u001b[0m \u001b[0mname\u001b[0m\u001b[0;34m)\u001b[0m\u001b[0;34m\u001b[0m\u001b[0;34m\u001b[0m\u001b[0m\n\u001b[1;32m   1990\u001b[0m             )\n",
      "\u001b[0;31mAttributeError\u001b[0m: 'DataFrame' object has no attribute '_get_object_id'"
     ]
    }
   ],
   "source": [
    "dataframe.withColumn(\"Index\", col(index.select(\"value\")))"
   ]
  },
  {
   "cell_type": "code",
   "execution_count": null,
   "id": "87ecd96e",
   "metadata": {},
   "outputs": [],
   "source": []
  },
  {
   "cell_type": "code",
   "execution_count": 52,
   "id": "05293d33",
   "metadata": {},
   "outputs": [
    {
     "name": "stdout",
     "output_type": "stream",
     "text": [
      "+-----+\n",
      "|value|\n",
      "+-----+\n",
      "|   11|\n",
      "|   12|\n",
      "|   13|\n",
      "|   14|\n",
      "|   15|\n",
      "+-----+\n",
      "\n"
     ]
    }
   ],
   "source": [
    "index.show()"
   ]
  },
  {
   "cell_type": "code",
   "execution_count": 14,
   "id": "e75b1166",
   "metadata": {},
   "outputs": [
    {
     "name": "stdout",
     "output_type": "stream",
     "text": [
      "22/07/21 12:36:47 WARN WindowExec: No Partition Defined for Window operation! Moving all data to a single partition, this can cause serious performance degradation.\n",
      "22/07/21 12:36:47 WARN WindowExec: No Partition Defined for Window operation! Moving all data to a single partition, this can cause serious performance degradation.\n",
      "22/07/21 12:36:47 WARN WindowExec: No Partition Defined for Window operation! Moving all data to a single partition, this can cause serious performance degradation.\n",
      "22/07/21 12:36:47 WARN WindowExec: No Partition Defined for Window operation! Moving all data to a single partition, this can cause serious performance degradation.\n",
      "22/07/21 12:36:47 WARN WindowExec: No Partition Defined for Window operation! Moving all data to a single partition, this can cause serious performance degradation.\n",
      "22/07/21 12:36:47 WARN WindowExec: No Partition Defined for Window operation! Moving all data to a single partition, this can cause serious performance degradation.\n",
      "22/07/21 12:36:47 WARN WindowExec: No Partition Defined for Window operation! Moving all data to a single partition, this can cause serious performance degradation.\n",
      "22/07/21 12:36:47 WARN WindowExec: No Partition Defined for Window operation! Moving all data to a single partition, this can cause serious performance degradation.\n",
      "22/07/21 12:36:47 WARN WindowExec: No Partition Defined for Window operation! Moving all data to a single partition, this can cause serious performance degradation.\n",
      "22/07/21 12:36:47 WARN WindowExec: No Partition Defined for Window operation! Moving all data to a single partition, this can cause serious performance degradation.\n",
      "22/07/21 12:36:47 WARN WindowExec: No Partition Defined for Window operation! Moving all data to a single partition, this can cause serious performance degradation.\n",
      "22/07/21 12:36:47 WARN WindowExec: No Partition Defined for Window operation! Moving all data to a single partition, this can cause serious performance degradation.\n",
      "22/07/21 12:36:47 WARN WindowExec: No Partition Defined for Window operation! Moving all data to a single partition, this can cause serious performance degradation.\n",
      "22/07/21 12:36:47 WARN WindowExec: No Partition Defined for Window operation! Moving all data to a single partition, this can cause serious performance degradation.\n",
      "22/07/21 12:36:47 WARN WindowExec: No Partition Defined for Window operation! Moving all data to a single partition, this can cause serious performance degradation.\n",
      "22/07/21 12:36:47 WARN WindowExec: No Partition Defined for Window operation! Moving all data to a single partition, this can cause serious performance degradation.\n",
      "22/07/21 12:36:48 WARN WindowExec: No Partition Defined for Window operation! Moving all data to a single partition, this can cause serious performance degradation.\n",
      "22/07/21 12:36:48 WARN WindowExec: No Partition Defined for Window operation! Moving all data to a single partition, this can cause serious performance degradation.\n",
      "22/07/21 12:36:48 WARN WindowExec: No Partition Defined for Window operation! Moving all data to a single partition, this can cause serious performance degradation.\n",
      "22/07/21 12:36:48 WARN WindowExec: No Partition Defined for Window operation! Moving all data to a single partition, this can cause serious performance degradation.\n",
      "22/07/21 12:36:48 WARN WindowExec: No Partition Defined for Window operation! Moving all data to a single partition, this can cause serious performance degradation.\n",
      "22/07/21 12:36:48 WARN WindowExec: No Partition Defined for Window operation! Moving all data to a single partition, this can cause serious performance degradation.\n",
      "22/07/21 12:36:48 WARN WindowExec: No Partition Defined for Window operation! Moving all data to a single partition, this can cause serious performance degradation.\n",
      "22/07/21 12:36:48 WARN WindowExec: No Partition Defined for Window operation! Moving all data to a single partition, this can cause serious performance degradation.\n",
      "22/07/21 12:36:48 WARN WindowExec: No Partition Defined for Window operation! Moving all data to a single partition, this can cause serious performance degradation.\n",
      "22/07/21 12:36:48 WARN WindowExec: No Partition Defined for Window operation! Moving all data to a single partition, this can cause serious performance degradation.\n",
      "22/07/21 12:36:48 WARN WindowExec: No Partition Defined for Window operation! Moving all data to a single partition, this can cause serious performance degradation.\n",
      "22/07/21 12:36:48 WARN WindowExec: No Partition Defined for Window operation! Moving all data to a single partition, this can cause serious performance degradation.\n",
      "22/07/21 12:36:48 WARN WindowExec: No Partition Defined for Window operation! Moving all data to a single partition, this can cause serious performance degradation.\n",
      "22/07/21 12:36:48 WARN WindowExec: No Partition Defined for Window operation! Moving all data to a single partition, this can cause serious performance degradation.\n",
      "22/07/21 12:36:48 WARN WindowExec: No Partition Defined for Window operation! Moving all data to a single partition, this can cause serious performance degradation.\n",
      "22/07/21 12:36:48 WARN WindowExec: No Partition Defined for Window operation! Moving all data to a single partition, this can cause serious performance degradation.\n",
      "22/07/21 12:36:48 WARN WindowExec: No Partition Defined for Window operation! Moving all data to a single partition, this can cause serious performance degradation.\n",
      "22/07/21 12:36:48 WARN WindowExec: No Partition Defined for Window operation! Moving all data to a single partition, this can cause serious performance degradation.\n",
      "22/07/21 12:36:48 WARN WindowExec: No Partition Defined for Window operation! Moving all data to a single partition, this can cause serious performance degradation.\n",
      "22/07/21 12:36:48 WARN WindowExec: No Partition Defined for Window operation! Moving all data to a single partition, this can cause serious performance degradation.\n",
      "22/07/21 12:36:48 WARN WindowExec: No Partition Defined for Window operation! Moving all data to a single partition, this can cause serious performance degradation.\n",
      "22/07/21 12:36:48 WARN WindowExec: No Partition Defined for Window operation! Moving all data to a single partition, this can cause serious performance degradation.\n",
      "22/07/21 12:36:48 WARN WindowExec: No Partition Defined for Window operation! Moving all data to a single partition, this can cause serious performance degradation.\n",
      "22/07/21 12:36:48 WARN WindowExec: No Partition Defined for Window operation! Moving all data to a single partition, this can cause serious performance degradation.\n",
      "+----+\n",
      "|  id|\n",
      "+----+\n",
      "|8194|\n",
      "|8195|\n",
      "|8196|\n",
      "|8197|\n",
      "|8198|\n",
      "|8199|\n",
      "|8200|\n",
      "|8201|\n",
      "|8202|\n",
      "|8203|\n",
      "|8204|\n",
      "|8205|\n",
      "|8206|\n",
      "|8207|\n",
      "|8208|\n",
      "|8209|\n",
      "|8210|\n",
      "|8211|\n",
      "|8212|\n",
      "|8213|\n",
      "|8214|\n",
      "|8215|\n",
      "|8216|\n",
      "|8217|\n",
      "|8218|\n",
      "|8219|\n",
      "|8220|\n",
      "|8221|\n",
      "|8222|\n",
      "|8223|\n",
      "|8224|\n",
      "|8225|\n",
      "|8226|\n",
      "|8227|\n",
      "|8228|\n",
      "|8229|\n",
      "|8230|\n",
      "|8231|\n",
      "+----+\n",
      "\n"
     ]
    }
   ],
   "source": [
    "data_1.select(\"id\").show(data_1.count())"
   ]
  },
  {
   "cell_type": "code",
   "execution_count": null,
   "id": "984ed822",
   "metadata": {},
   "outputs": [],
   "source": [
    "result = df_1_new.union(df_2_new)"
   ]
  },
  {
   "cell_type": "code",
   "execution_count": 32,
   "id": "96b20894",
   "metadata": {},
   "outputs": [
    {
     "name": "stdout",
     "output_type": "stream",
     "text": [
      "+---+-------+---------+--------------------+\n",
      "| ID|   NAME|  Company|               YEARS|\n",
      "+---+-------+---------+--------------------+\n",
      "|  1| sravan|company 1|[11, 12, 13, 14, 15]|\n",
      "|  2| ojaswi|company 1|[11, 12, 13, 14, 15]|\n",
      "|  3| rohith|company 2|[11, 12, 13, 14, 15]|\n",
      "|  4|sridevi|company 1|[11, 12, 13, 14, 15]|\n",
      "|  5|  bobby|company 1|[11, 12, 13, 14, 15]|\n",
      "+---+-------+---------+--------------------+\n",
      "\n"
     ]
    }
   ],
   "source": [
    "dataframe.show()"
   ]
  },
  {
   "cell_type": "code",
   "execution_count": 26,
   "id": "76267ad4",
   "metadata": {},
   "outputs": [
    {
     "ename": "TypeError",
     "evalue": "col should be Column",
     "output_type": "error",
     "traceback": [
      "\u001b[0;31m---------------------------------------------------------------------------\u001b[0m",
      "\u001b[0;31mTypeError\u001b[0m                                 Traceback (most recent call last)",
      "\u001b[0;32m/var/folders/fy/cjds5kvd3692g8__1nlvytj00000gn/T/ipykernel_50928/1353484913.py\u001b[0m in \u001b[0;36m<module>\u001b[0;34m\u001b[0m\n\u001b[0;32m----> 1\u001b[0;31m \u001b[0mdataframe\u001b[0m\u001b[0;34m.\u001b[0m\u001b[0mwithColumn\u001b[0m\u001b[0;34m(\u001b[0m\u001b[0;34m\"Idl\"\u001b[0m\u001b[0;34m,\u001b[0m \u001b[0mudf\u001b[0m\u001b[0;34m(\u001b[0m\u001b[0;32mlambda\u001b[0m \u001b[0mid\u001b[0m\u001b[0;34m:\u001b[0m \u001b[0mdates\u001b[0m\u001b[0;34m[\u001b[0m\u001b[0mid\u001b[0m\u001b[0;34m]\u001b[0m\u001b[0;34m)\u001b[0m\u001b[0;34m)\u001b[0m\u001b[0;34m.\u001b[0m\u001b[0mshow\u001b[0m\u001b[0;34m(\u001b[0m\u001b[0;34m)\u001b[0m\u001b[0;34m\u001b[0m\u001b[0;34m\u001b[0m\u001b[0m\n\u001b[0m",
      "\u001b[0;32m~/opt/anaconda3/lib/python3.9/site-packages/pyspark/sql/dataframe.py\u001b[0m in \u001b[0;36mwithColumn\u001b[0;34m(self, colName, col)\u001b[0m\n\u001b[1;32m   3033\u001b[0m         \"\"\"\n\u001b[1;32m   3034\u001b[0m         \u001b[0;32mif\u001b[0m \u001b[0;32mnot\u001b[0m \u001b[0misinstance\u001b[0m\u001b[0;34m(\u001b[0m\u001b[0mcol\u001b[0m\u001b[0;34m,\u001b[0m \u001b[0mColumn\u001b[0m\u001b[0;34m)\u001b[0m\u001b[0;34m:\u001b[0m\u001b[0;34m\u001b[0m\u001b[0;34m\u001b[0m\u001b[0m\n\u001b[0;32m-> 3035\u001b[0;31m             \u001b[0;32mraise\u001b[0m \u001b[0mTypeError\u001b[0m\u001b[0;34m(\u001b[0m\u001b[0;34m\"col should be Column\"\u001b[0m\u001b[0;34m)\u001b[0m\u001b[0;34m\u001b[0m\u001b[0;34m\u001b[0m\u001b[0m\n\u001b[0m\u001b[1;32m   3036\u001b[0m         \u001b[0;32mreturn\u001b[0m \u001b[0mDataFrame\u001b[0m\u001b[0;34m(\u001b[0m\u001b[0mself\u001b[0m\u001b[0;34m.\u001b[0m\u001b[0m_jdf\u001b[0m\u001b[0;34m.\u001b[0m\u001b[0mwithColumn\u001b[0m\u001b[0;34m(\u001b[0m\u001b[0mcolName\u001b[0m\u001b[0;34m,\u001b[0m \u001b[0mcol\u001b[0m\u001b[0;34m.\u001b[0m\u001b[0m_jc\u001b[0m\u001b[0;34m)\u001b[0m\u001b[0;34m,\u001b[0m \u001b[0mself\u001b[0m\u001b[0;34m.\u001b[0m\u001b[0msparkSession\u001b[0m\u001b[0;34m)\u001b[0m\u001b[0;34m\u001b[0m\u001b[0;34m\u001b[0m\u001b[0m\n\u001b[1;32m   3037\u001b[0m \u001b[0;34m\u001b[0m\u001b[0m\n",
      "\u001b[0;31mTypeError\u001b[0m: col should be Column"
     ]
    }
   ],
   "source": [
    "dataframe.withColumn(\"Idl\", udf(lambda id: dates[id])).show()"
   ]
  },
  {
   "cell_type": "code",
   "execution_count": null,
   "id": "58199819",
   "metadata": {},
   "outputs": [],
   "source": []
  },
  {
   "cell_type": "code",
   "execution_count": null,
   "id": "def06bf8",
   "metadata": {},
   "outputs": [],
   "source": []
  },
  {
   "cell_type": "code",
   "execution_count": null,
   "id": "af3ef391",
   "metadata": {},
   "outputs": [],
   "source": [
    "df = df.repartition(1).withColumn(\"YEARS\",  udf(lambda id: dates[id])"
   ]
  },
  {
   "cell_type": "code",
   "execution_count": 24,
   "id": "601662b0",
   "metadata": {},
   "outputs": [
    {
     "data": {
      "text/plain": [
       "Column<'sequence(8199, 8203)'>"
      ]
     },
     "execution_count": 24,
     "metadata": {},
     "output_type": "execute_result"
    }
   ],
   "source": [
    "sequence(lit(maxId+1), lit(maxId+dataframe.count()))"
   ]
  },
  {
   "cell_type": "code",
   "execution_count": 65,
   "id": "28803a21",
   "metadata": {},
   "outputs": [
    {
     "data": {
      "text/plain": [
       "8210"
      ]
     },
     "execution_count": 65,
     "metadata": {},
     "output_type": "execute_result"
    }
   ],
   "source": [
    "fi4.count()"
   ]
  },
  {
   "cell_type": "code",
   "execution_count": 64,
   "id": "78f8c543",
   "metadata": {},
   "outputs": [
    {
     "data": {
      "text/plain": [
       "8198"
      ]
     },
     "execution_count": 64,
     "metadata": {},
     "output_type": "execute_result"
    }
   ],
   "source": []
  },
  {
   "cell_type": "code",
   "execution_count": 55,
   "id": "81f161d2",
   "metadata": {},
   "outputs": [
    {
     "name": "stdout",
     "output_type": "stream",
     "text": [
      "+----+\n",
      "|  id|\n",
      "+----+\n",
      "|2668|\n",
      "|4782|\n",
      "|4589|\n",
      "|3515|\n",
      "|2891|\n",
      "|7281|\n",
      "|2635|\n",
      "| 547|\n",
      "| 352|\n",
      "|8193|\n",
      "|5328|\n",
      "|6552|\n",
      "|1491|\n",
      "|1375|\n",
      "|6408|\n",
      "|2344|\n",
      "|2119|\n",
      "|8102|\n",
      "|1528|\n",
      "|6590|\n",
      "+----+\n",
      "only showing top 20 rows\n",
      "\n"
     ]
    }
   ],
   "source": [
    "fi4.select(\"id\").show()"
   ]
  },
  {
   "cell_type": "code",
   "execution_count": 48,
   "id": "173882cf",
   "metadata": {},
   "outputs": [
    {
     "data": {
      "text/plain": [
       "[]"
      ]
     },
     "execution_count": 48,
     "metadata": {},
     "output_type": "execute_result"
    }
   ],
   "source": [
    "list(set(final.columns) - set(fi4.columns))"
   ]
  },
  {
   "cell_type": "code",
   "execution_count": 49,
   "id": "cfa2b1ed",
   "metadata": {},
   "outputs": [
    {
     "data": {
      "text/plain": [
       "49"
      ]
     },
     "execution_count": 49,
     "metadata": {},
     "output_type": "execute_result"
    }
   ],
   "source": [
    "len(final.columns)"
   ]
  },
  {
   "cell_type": "code",
   "execution_count": 50,
   "id": "8de29840",
   "metadata": {},
   "outputs": [
    {
     "data": {
      "text/plain": [
       "50"
      ]
     },
     "execution_count": 50,
     "metadata": {},
     "output_type": "execute_result"
    }
   ],
   "source": [
    "len(fi4.columns)"
   ]
  },
  {
   "cell_type": "code",
   "execution_count": 45,
   "id": "9b7114f4",
   "metadata": {},
   "outputs": [
    {
     "data": {
      "text/plain": [
       "C_ID_DEP_UD_PRINCIPAL              2\n",
       "CIF                                1\n",
       "codigoDir3                         1\n",
       "Provincia_Codigo                   1\n",
       "C_ID_UD_ORGANICA                   1\n",
       "C_DNM_UD_ORGANICA                  1\n",
       "C_ID_NIVEL_ADMON                   1\n",
       "C_ID_TIPO_ENT_PUBLICA              1\n",
       "N_NIVEL_JERARQUICO                 1\n",
       "C_ID_DEP_UD_SUPERIOR               1\n",
       "C_DNM_UD_ORGANICA_SUPERIOR         1\n",
       "C_DNM_UD_ORGANICA_PRINCIPAL        1\n",
       "B_SW_DEP_EDP_PRINCIPAL             1\n",
       "C_ID_DEP_EDP_PRINCIPAL             1\n",
       "C_DNM_UD_ORGANICA_EDP_PRINCIPAL    1\n",
       "C_ID_ESTADO                        1\n",
       "D_VIG_ALTA_OFICIAL                 1\n",
       "NIF_CIF                            1\n",
       "C_ID_AMB_PROVINCIA                 1\n",
       "C_DESC_PROV                        1\n",
       "CONTACTOS                          1\n",
       "List_Entidad_Norm                  1\n",
       "List_Provincia_Entidad             1\n",
       "codigoOrigen                       1\n",
       "NIF                                1\n",
       "Entidad_Norm                       1\n",
       "FormaJuridica_Descripcion          1\n",
       "Provincia_Entidad                  1\n",
       "ID_ENTIDAD                         1\n",
       "NIF_COD                            1\n",
       "ACRONIMO                           1\n",
       "NOMBRE_ENTIDAD                     1\n",
       "Nombre_Entidad_Mostrar             1\n",
       "TIPO_ENTIDAD_N1_1                  1\n",
       "TIPO_ENTIDAD_N2_1                  1\n",
       "DIRECCION_POSTAL                   1\n",
       "COD_POSTAL                         1\n",
       "COD_PROVINCIA                      1\n",
       "PROVINCIA                          1\n",
       "COD_CCAA                           1\n",
       "CCAA                               1\n",
       "ENLACE_WEB                         1\n",
       "SOMMA                              1\n",
       "TIPO_ENTIDAD_REGIONAL              1\n",
       "ESTADO_x                           1\n",
       "CodigoInvente                      1\n",
       "DenominacionSocial                 1\n",
       "FormaJuridica_Codigo               1\n",
       "List_CIF                           1\n",
       "Name: 0, dtype: int64"
      ]
     },
     "execution_count": 45,
     "metadata": {},
     "output_type": "execute_result"
    }
   ],
   "source": [
    "pd.DataFrame(final.columns)[0].value_counts()"
   ]
  },
  {
   "cell_type": "code",
   "execution_count": null,
   "id": "02f904c2",
   "metadata": {},
   "outputs": [],
   "source": []
  },
  {
   "cell_type": "code",
   "execution_count": null,
   "id": "1ba82d17",
   "metadata": {},
   "outputs": [],
   "source": []
  },
  {
   "cell_type": "code",
   "execution_count": 16,
   "id": "effddbfe",
   "metadata": {},
   "outputs": [
    {
     "name": "stdout",
     "output_type": "stream",
     "text": [
      "root\n",
      " |-- Id: string (nullable = true)\n",
      " |-- CIF: string (nullable = true)\n",
      " |-- Entidad_Norm: string (nullable = true)\n",
      " |-- Provincia_Entidad: string (nullable = true)\n",
      " |-- ID_ENTIDAD: string (nullable = true)\n",
      " |-- NIF_COD: string (nullable = true)\n",
      " |-- ACRONIMO: string (nullable = true)\n",
      " |-- NOMBRE_ENTIDAD: string (nullable = true)\n",
      " |-- Nombre_Entidad_Mostrar: string (nullable = true)\n",
      " |-- TIPO_ENTIDAD_N1_1: string (nullable = true)\n",
      " |-- TIPO_ENTIDAD_N2_1: string (nullable = true)\n",
      " |-- DIRECCION_POSTAL: string (nullable = true)\n",
      " |-- COD_POSTAL: string (nullable = true)\n",
      " |-- COD_PROVINCIA: string (nullable = true)\n",
      " |-- PROVINCIA: string (nullable = true)\n",
      " |-- COD_CCAA: string (nullable = true)\n",
      " |-- CCAA: string (nullable = true)\n",
      " |-- ENLACE_WEB: string (nullable = true)\n",
      " |-- SOMMA: string (nullable = true)\n",
      " |-- TIPO_ENTIDAD_REGIONAL: string (nullable = true)\n",
      " |-- ESTADO_x: string (nullable = true)\n",
      " |-- CodigoInvente: string (nullable = true)\n",
      " |-- DenominacionSocial: string (nullable = true)\n",
      " |-- FormaJuridica_Codigo: string (nullable = true)\n",
      " |-- FormaJuridica_Descripcion: string (nullable = true)\n",
      " |-- NIF: string (nullable = true)\n",
      " |-- codigoDir3: string (nullable = true)\n",
      " |-- codigoOrigen: string (nullable = true)\n",
      " |-- Provincia_Codigo: string (nullable = true)\n",
      " |-- C_ID_UD_ORGANICA: string (nullable = true)\n",
      " |-- C_DNM_UD_ORGANICA: string (nullable = true)\n",
      " |-- C_ID_NIVEL_ADMON: string (nullable = true)\n",
      " |-- C_ID_TIPO_ENT_PUBLICA: string (nullable = true)\n",
      " |-- N_NIVEL_JERARQUICO: string (nullable = true)\n",
      " |-- C_ID_DEP_UD_SUPERIOR: string (nullable = true)\n",
      " |-- C_DNM_UD_ORGANICA_SUPERIOR: string (nullable = true)\n",
      " |-- C_ID_DEP_UD_PRINCIPAL: string (nullable = true)\n",
      " |-- C_DNM_UD_ORGANICA_PRINCIPAL: string (nullable = true)\n",
      " |-- B_SW_DEP_EDP_PRINCIPAL: string (nullable = true)\n",
      " |-- C_ID_DEP_EDP_PRINCIPAL: string (nullable = true)\n",
      " |-- C_DNM_UD_ORGANICA_EDP_PRINCIPAL: string (nullable = true)\n",
      " |-- C_ID_ESTADO: string (nullable = true)\n",
      " |-- D_VIG_ALTA_OFICIAL: string (nullable = true)\n",
      " |-- NIF_CIF: string (nullable = true)\n",
      " |-- C_ID_AMB_PROVINCIA: string (nullable = true)\n",
      " |-- C_DESC_PROV: string (nullable = true)\n",
      " |-- CONTACTOS: string (nullable = true)\n",
      " |-- List_Entidad_Norm: string (nullable = true)\n",
      " |-- List_Provincia_Entidad: string (nullable = true)\n",
      " |-- List_CIF: string (nullable = true)\n",
      "\n"
     ]
    }
   ],
   "source": [
    "fi4.printSchema()"
   ]
  },
  {
   "cell_type": "code",
   "execution_count": 102,
   "id": "6021ad3d",
   "metadata": {},
   "outputs": [
    {
     "name": "stdout",
     "output_type": "stream",
     "text": [
      "root\n",
      " |-- Entidad_Norm: string (nullable = true)\n",
      " |-- Provincia_Entidad: string (nullable = true)\n",
      " |-- ID_ENTIDAD: string (nullable = true)\n",
      " |-- NIF_COD: string (nullable = true)\n",
      " |-- ACRONIMO: string (nullable = true)\n",
      " |-- NOMBRE_ENTIDAD: string (nullable = true)\n",
      " |-- Nombre_Entidad_Mostrar: string (nullable = true)\n",
      " |-- TIPO_ENTIDAD_N1_1: string (nullable = true)\n",
      " |-- TIPO_ENTIDAD_N2_1: string (nullable = true)\n",
      " |-- DIRECCION_POSTAL: string (nullable = true)\n",
      " |-- COD_POSTAL: string (nullable = true)\n",
      " |-- COD_PROVINCIA: string (nullable = true)\n",
      " |-- PROVINCIA: string (nullable = true)\n",
      " |-- COD_CCAA: string (nullable = true)\n",
      " |-- CCAA: string (nullable = true)\n",
      " |-- ENLACE_WEB: string (nullable = true)\n",
      " |-- SOMMA: string (nullable = true)\n",
      " |-- TIPO_ENTIDAD_REGIONAL: string (nullable = true)\n",
      " |-- ESTADO_x: string (nullable = true)\n",
      " |-- CodigoInvente: string (nullable = true)\n",
      " |-- DenominacionSocial: string (nullable = true)\n",
      " |-- FormaJuridica_Codigo: string (nullable = true)\n",
      " |-- FormaJuridica_Descripcion: string (nullable = true)\n",
      " |-- NIF: string (nullable = true)\n",
      " |-- codigoDir3: string (nullable = true)\n",
      " |-- codigoOrigen: string (nullable = true)\n",
      " |-- Provincia_Codigo: string (nullable = true)\n",
      " |-- C_DNM_UD_ORGANICA: string (nullable = true)\n",
      " |-- C_ID_NIVEL_ADMON: string (nullable = true)\n",
      " |-- C_ID_TIPO_ENT_PUBLICA: string (nullable = true)\n",
      " |-- N_NIVEL_JERARQUICO: string (nullable = true)\n",
      " |-- C_ID_DEP_UD_SUPERIOR: string (nullable = true)\n",
      " |-- C_DNM_UD_ORGANICA_SUPERIOR: string (nullable = true)\n",
      " |-- C_ID_DEP_UD_PRINCIPAL: string (nullable = true)\n",
      " |-- C_DNM_UD_ORGANICA_PRINCIPAL: string (nullable = true)\n",
      " |-- B_SW_DEP_EDP_PRINCIPAL: string (nullable = true)\n",
      " |-- C_ID_DEP_EDP_PRINCIPAL: string (nullable = true)\n",
      " |-- C_DNM_UD_ORGANICA_EDP_PRINCIPAL: string (nullable = true)\n",
      " |-- C_ID_ESTADO: string (nullable = true)\n",
      " |-- D_VIG_ALTA_OFICIAL: string (nullable = true)\n",
      " |-- NIF_CIF: string (nullable = true)\n",
      " |-- C_ID_AMB_PROVINCIA: string (nullable = true)\n",
      " |-- C_DESC_PROV: string (nullable = true)\n",
      " |-- CONTACTOS: string (nullable = true)\n",
      " |-- C_ID_DEP_UD_PRINCIPAL: string (nullable = true)\n",
      " |-- List_Entidad_Norm: string (nullable = true)\n",
      " |-- List_Provincia_Entidad: string (nullable = true)\n",
      " |-- List_CIF: string (nullable = true)\n",
      "\n"
     ]
    }
   ],
   "source": [
    "final.printSchema()"
   ]
  },
  {
   "cell_type": "code",
   "execution_count": null,
   "id": "0280fe87",
   "metadata": {},
   "outputs": [],
   "source": []
  },
  {
   "cell_type": "code",
   "execution_count": 51,
   "id": "e22a42da",
   "metadata": {},
   "outputs": [
    {
     "name": "stdout",
     "output_type": "stream",
     "text": [
      "root\n",
      " |-- Id: string (nullable = true)\n",
      " |-- CIF: string (nullable = true)\n",
      " |-- Entidad_Norm: string (nullable = true)\n",
      " |-- Provincia_Entidad: string (nullable = true)\n",
      " |-- ID_ENTIDAD: string (nullable = true)\n",
      " |-- NIF_COD: string (nullable = true)\n",
      " |-- ACRONIMO: string (nullable = true)\n",
      " |-- NOMBRE_ENTIDAD: string (nullable = true)\n",
      " |-- Nombre_Entidad_Mostrar: string (nullable = true)\n",
      " |-- TIPO_ENTIDAD_N1_1: string (nullable = true)\n",
      " |-- TIPO_ENTIDAD_N2_1: string (nullable = true)\n",
      " |-- DIRECCION_POSTAL: string (nullable = true)\n",
      " |-- COD_POSTAL: string (nullable = true)\n",
      " |-- COD_PROVINCIA: string (nullable = true)\n",
      " |-- PROVINCIA: string (nullable = true)\n",
      " |-- COD_CCAA: string (nullable = true)\n",
      " |-- CCAA: string (nullable = true)\n",
      " |-- ENLACE_WEB: string (nullable = true)\n",
      " |-- SOMMA: string (nullable = true)\n",
      " |-- TIPO_ENTIDAD_REGIONAL: string (nullable = true)\n",
      " |-- ESTADO_x: string (nullable = true)\n",
      " |-- CodigoInvente: string (nullable = true)\n",
      " |-- DenominacionSocial: string (nullable = true)\n",
      " |-- FormaJuridica_Codigo: string (nullable = true)\n",
      " |-- FormaJuridica_Descripcion: string (nullable = true)\n",
      " |-- NIF: string (nullable = true)\n",
      " |-- codigoDir3: string (nullable = true)\n",
      " |-- codigoOrigen: string (nullable = true)\n",
      " |-- Provincia_Codigo: string (nullable = true)\n",
      " |-- C_ID_UD_ORGANICA: string (nullable = true)\n",
      " |-- C_DNM_UD_ORGANICA: string (nullable = true)\n",
      " |-- C_ID_NIVEL_ADMON: string (nullable = true)\n",
      " |-- C_ID_TIPO_ENT_PUBLICA: string (nullable = true)\n",
      " |-- N_NIVEL_JERARQUICO: string (nullable = true)\n",
      " |-- C_ID_DEP_UD_SUPERIOR: string (nullable = true)\n",
      " |-- C_DNM_UD_ORGANICA_SUPERIOR: string (nullable = true)\n",
      " |-- C_ID_DEP_UD_PRINCIPAL: string (nullable = true)\n",
      " |-- C_DNM_UD_ORGANICA_PRINCIPAL: string (nullable = true)\n",
      " |-- B_SW_DEP_EDP_PRINCIPAL: string (nullable = true)\n",
      " |-- C_ID_DEP_EDP_PRINCIPAL: string (nullable = true)\n",
      " |-- C_DNM_UD_ORGANICA_EDP_PRINCIPAL: string (nullable = true)\n",
      " |-- C_ID_ESTADO: string (nullable = true)\n",
      " |-- D_VIG_ALTA_OFICIAL: string (nullable = true)\n",
      " |-- NIF_CIF: string (nullable = true)\n",
      " |-- C_ID_AMB_PROVINCIA: string (nullable = true)\n",
      " |-- C_DESC_PROV: string (nullable = true)\n",
      " |-- CONTACTOS: string (nullable = true)\n",
      " |-- List_Entidad_Norm: string (nullable = true)\n",
      " |-- List_Provincia_Entidad: string (nullable = true)\n",
      " |-- List_CIF: string (nullable = true)\n",
      "\n"
     ]
    }
   ],
   "source": [
    "fi4.printSchema()"
   ]
  },
  {
   "cell_type": "code",
   "execution_count": null,
   "id": "a42b45f9",
   "metadata": {},
   "outputs": [],
   "source": []
  },
  {
   "cell_type": "code",
   "execution_count": null,
   "id": "ac7bb8ac",
   "metadata": {},
   "outputs": [],
   "source": []
  },
  {
   "cell_type": "code",
   "execution_count": null,
   "id": "1ad37e4b",
   "metadata": {},
   "outputs": [],
   "source": []
  },
  {
   "cell_type": "code",
   "execution_count": null,
   "id": "91af7f8e",
   "metadata": {},
   "outputs": [],
   "source": []
  },
  {
   "cell_type": "code",
   "execution_count": null,
   "id": "f9898ce2",
   "metadata": {},
   "outputs": [],
   "source": []
  },
  {
   "cell_type": "code",
   "execution_count": null,
   "id": "7b915085",
   "metadata": {},
   "outputs": [],
   "source": []
  },
  {
   "cell_type": "code",
   "execution_count": null,
   "id": "966de426",
   "metadata": {},
   "outputs": [],
   "source": []
  },
  {
   "cell_type": "code",
   "execution_count": 6,
   "id": "b7024720",
   "metadata": {},
   "outputs": [
    {
     "data": {
      "text/plain": [
       "['Id',\n",
       " 'Entidad',\n",
       " 'Origen_Solicitud',\n",
       " 'Identificadores_Origen',\n",
       " 'Entidad_Norm',\n",
       " 'CIF',\n",
       " 'CIF_validacion',\n",
       " 'Centro',\n",
       " 'Centro_Norm',\n",
       " 'Tipo',\n",
       " 'Provincia_Entidad',\n",
       " 'Pais_Entidad',\n",
       " 'Provincia_Centro',\n",
       " 'PIC',\n",
       " 'Tipo_Persona',\n",
       " 'Entidad_Match',\n",
       " 'Provincia_Match',\n",
       " 'Match',\n",
       " 'Id_NIVEL_1',\n",
       " 'Id_NIVEL_0',\n",
       " 'ID_ENTIDAD_NIVEL_0',\n",
       " 'ID_ENTIDAD_NIVEL_1',\n",
       " 'Jerarquia',\n",
       " 'NIF_COD_NIVEL_0',\n",
       " 'ACRONIMO_NIVEL_0',\n",
       " 'NOMBRE_ENTIDAD_NIVEL_0',\n",
       " 'Nombre_Entidad_Mostrar_NIVEL_0',\n",
       " 'TIPO_ENTIDAD_N1_1_NIVEL_0',\n",
       " 'TIPO_ENTIDAD_N2_1_NIVEL_0',\n",
       " 'DIRECCION_POSTAL_NIVEL_0',\n",
       " 'COD_POSTAL_NIVEL_0',\n",
       " 'COD_PROVINCIA_NIVEL_0',\n",
       " 'PROVINCIA_NIVEL_0',\n",
       " 'COD_CCAA_NIVEL_0',\n",
       " 'CCAA_NIVEL_0',\n",
       " 'ENLACE_WEB_NIVEL_0',\n",
       " 'SOMMA_NIVEL_0',\n",
       " 'TIPO_ENTIDAD_REGIONAL_NIVEL_0',\n",
       " 'ESTADO_x_NIVEL_0',\n",
       " 'NIF_COD_NIVEL_1',\n",
       " 'ACRONIMO_NIVEL_1',\n",
       " 'NOMBRE_ENTIDAD_NIVEL_1',\n",
       " 'Nombre_Entidad_Mostrar_NIVEL_1',\n",
       " 'TIPO_ENTIDAD_N1_1_NIVEL_1',\n",
       " 'TIPO_ENTIDAD_N2_1_NIVEL_1',\n",
       " 'DIRECCION_POSTAL_NIVEL_1',\n",
       " 'COD_POSTAL_NIVEL_1',\n",
       " 'COD_PROVINCIA_NIVEL_1',\n",
       " 'PROVINCIA_NIVEL_1',\n",
       " 'COD_CCAA_NIVEL_1',\n",
       " 'CCAA_NIVEL_1',\n",
       " 'ENLACE_WEB_NIVEL_1',\n",
       " 'SOMMA_NIVEL_1',\n",
       " 'TIPO_ENTIDAD_REGIONAL_NIVEL_1',\n",
       " 'ESTADO_x_NIVEL_1']"
      ]
     },
     "execution_count": 6,
     "metadata": {},
     "output_type": "execute_result"
    }
   ],
   "source": [
    "cruce1.columns"
   ]
  },
  {
   "cell_type": "code",
   "execution_count": 88,
   "id": "fe7963a1",
   "metadata": {},
   "outputs": [
    {
     "name": "stdout",
     "output_type": "stream",
     "text": [
      "{'CIF', 'Entidad_Norm', 'Id', 'Provincia_Entidad'}\n"
     ]
    }
   ],
   "source": [
    "setA = set(cruce1.columns)\n",
    "setB = set(fi4.columns)\n",
    "\n",
    "print(setA & setB)"
   ]
  },
  {
   "cell_type": "code",
   "execution_count": 15,
   "id": "5b38f4e9",
   "metadata": {},
   "outputs": [
    {
     "data": {
      "text/plain": [
       "['Id',\n",
       " 'CIF',\n",
       " 'Entidad_Norm',\n",
       " 'Provincia_Entidad',\n",
       " 'ID_ENTIDAD',\n",
       " 'NIF_COD',\n",
       " 'ACRONIMO',\n",
       " 'NOMBRE_ENTIDAD',\n",
       " 'Nombre_Entidad_Mostrar',\n",
       " 'TIPO_ENTIDAD_N1_1',\n",
       " 'TIPO_ENTIDAD_N2_1',\n",
       " 'DIRECCION_POSTAL',\n",
       " 'COD_POSTAL',\n",
       " 'COD_PROVINCIA',\n",
       " 'PROVINCIA',\n",
       " 'COD_CCAA',\n",
       " 'CCAA',\n",
       " 'ENLACE_WEB',\n",
       " 'SOMMA',\n",
       " 'TIPO_ENTIDAD_REGIONAL',\n",
       " 'ESTADO_x',\n",
       " 'CodigoInvente',\n",
       " 'DenominacionSocial',\n",
       " 'FormaJuridica_Codigo',\n",
       " 'FormaJuridica_Descripcion',\n",
       " 'NIF',\n",
       " 'codigoDir3',\n",
       " 'codigoOrigen',\n",
       " 'Provincia_Codigo',\n",
       " 'C_ID_UD_ORGANICA',\n",
       " 'C_DNM_UD_ORGANICA',\n",
       " 'C_ID_NIVEL_ADMON',\n",
       " 'C_ID_TIPO_ENT_PUBLICA',\n",
       " 'N_NIVEL_JERARQUICO',\n",
       " 'C_ID_DEP_UD_SUPERIOR',\n",
       " 'C_DNM_UD_ORGANICA_SUPERIOR',\n",
       " 'C_ID_DEP_UD_PRINCIPAL',\n",
       " 'C_DNM_UD_ORGANICA_PRINCIPAL',\n",
       " 'B_SW_DEP_EDP_PRINCIPAL',\n",
       " 'C_ID_DEP_EDP_PRINCIPAL',\n",
       " 'C_DNM_UD_ORGANICA_EDP_PRINCIPAL',\n",
       " 'C_ID_ESTADO',\n",
       " 'D_VIG_ALTA_OFICIAL',\n",
       " 'NIF_CIF',\n",
       " 'C_ID_AMB_PROVINCIA',\n",
       " 'C_DESC_PROV',\n",
       " 'CONTACTOS',\n",
       " 'List_Entidad_Norm',\n",
       " 'List_Provincia_Entidad',\n",
       " 'List_CIF']"
      ]
     },
     "execution_count": 15,
     "metadata": {},
     "output_type": "execute_result"
    }
   ],
   "source": []
  },
  {
   "cell_type": "code",
   "execution_count": null,
   "id": "2f184689",
   "metadata": {},
   "outputs": [],
   "source": []
  },
  {
   "cell_type": "code",
   "execution_count": null,
   "id": "76c4e0f4",
   "metadata": {},
   "outputs": [],
   "source": []
  },
  {
   "cell_type": "code",
   "execution_count": 14,
   "id": "184d4742",
   "metadata": {},
   "outputs": [
    {
     "name": "stdout",
     "output_type": "stream",
     "text": [
      "root\n",
      " |-- Id: string (nullable = true)\n",
      " |-- Entidad: string (nullable = true)\n",
      " |-- Origen_Solicitud: string (nullable = true)\n",
      " |-- Identificadores_Origen: string (nullable = true)\n",
      " |-- Entidad_Norm: string (nullable = true)\n",
      " |-- CIF: string (nullable = true)\n",
      " |-- CIF_validacion: string (nullable = true)\n",
      " |-- Centro: string (nullable = true)\n",
      " |-- Centro_Norm: string (nullable = true)\n",
      " |-- Tipo: string (nullable = true)\n",
      " |-- Provincia_Entidad: string (nullable = true)\n",
      " |-- Pais_Entidad: string (nullable = true)\n",
      " |-- Provincia_Centro: string (nullable = true)\n",
      " |-- PIC: string (nullable = true)\n",
      " |-- Tipo_Persona: string (nullable = true)\n",
      " |-- Entidad_Match: string (nullable = true)\n",
      " |-- Provincia_Match: string (nullable = true)\n",
      " |-- Match: string (nullable = true)\n",
      " |-- Id_NIVEL_1: string (nullable = true)\n",
      " |-- Id_NIVEL_0: string (nullable = true)\n",
      " |-- ID_ENTIDAD_NIVEL_0: string (nullable = true)\n",
      " |-- ID_ENTIDAD_NIVEL_1: string (nullable = true)\n",
      " |-- Jerarquia: string (nullable = true)\n",
      " |-- NIF_COD_NIVEL_0: string (nullable = true)\n",
      " |-- ACRONIMO_NIVEL_0: string (nullable = true)\n",
      " |-- NOMBRE_ENTIDAD_NIVEL_0: string (nullable = true)\n",
      " |-- Nombre_Entidad_Mostrar_NIVEL_0: string (nullable = true)\n",
      " |-- TIPO_ENTIDAD_N1_1_NIVEL_0: string (nullable = true)\n",
      " |-- TIPO_ENTIDAD_N2_1_NIVEL_0: string (nullable = true)\n",
      " |-- DIRECCION_POSTAL_NIVEL_0: string (nullable = true)\n",
      " |-- COD_POSTAL_NIVEL_0: string (nullable = true)\n",
      " |-- COD_PROVINCIA_NIVEL_0: string (nullable = true)\n",
      " |-- PROVINCIA_NIVEL_0: string (nullable = true)\n",
      " |-- COD_CCAA_NIVEL_0: string (nullable = true)\n",
      " |-- CCAA_NIVEL_0: string (nullable = true)\n",
      " |-- ENLACE_WEB_NIVEL_0: string (nullable = true)\n",
      " |-- SOMMA_NIVEL_0: string (nullable = true)\n",
      " |-- TIPO_ENTIDAD_REGIONAL_NIVEL_0: string (nullable = true)\n",
      " |-- ESTADO_x_NIVEL_0: string (nullable = true)\n",
      " |-- NIF_COD_NIVEL_1: string (nullable = true)\n",
      " |-- ACRONIMO_NIVEL_1: string (nullable = true)\n",
      " |-- NOMBRE_ENTIDAD_NIVEL_1: string (nullable = true)\n",
      " |-- Nombre_Entidad_Mostrar_NIVEL_1: string (nullable = true)\n",
      " |-- TIPO_ENTIDAD_N1_1_NIVEL_1: string (nullable = true)\n",
      " |-- TIPO_ENTIDAD_N2_1_NIVEL_1: string (nullable = true)\n",
      " |-- DIRECCION_POSTAL_NIVEL_1: string (nullable = true)\n",
      " |-- COD_POSTAL_NIVEL_1: string (nullable = true)\n",
      " |-- COD_PROVINCIA_NIVEL_1: string (nullable = true)\n",
      " |-- PROVINCIA_NIVEL_1: string (nullable = true)\n",
      " |-- COD_CCAA_NIVEL_1: string (nullable = true)\n",
      " |-- CCAA_NIVEL_1: string (nullable = true)\n",
      " |-- ENLACE_WEB_NIVEL_1: string (nullable = true)\n",
      " |-- SOMMA_NIVEL_1: string (nullable = true)\n",
      " |-- TIPO_ENTIDAD_REGIONAL_NIVEL_1: string (nullable = true)\n",
      " |-- ESTADO_x_NIVEL_1: string (nullable = true)\n",
      " |-- Similitud: float (nullable = true)\n",
      "\n"
     ]
    }
   ],
   "source": [
    "cruce1.printSchema()"
   ]
  },
  {
   "cell_type": "code",
   "execution_count": null,
   "id": "d85bb041",
   "metadata": {},
   "outputs": [],
   "source": []
  },
  {
   "cell_type": "code",
   "execution_count": 12,
   "id": "58916892",
   "metadata": {},
   "outputs": [
    {
     "name": "stdout",
     "output_type": "stream",
     "text": [
      "root\n",
      " |-- Id: string (nullable = true)\n",
      " |-- CIF: string (nullable = true)\n",
      " |-- Entidad_Norm: string (nullable = true)\n",
      " |-- Provincia_Entidad: string (nullable = true)\n",
      " |-- ID_ENTIDAD: string (nullable = true)\n",
      " |-- NIF_COD: string (nullable = true)\n",
      " |-- ACRONIMO: string (nullable = true)\n",
      " |-- NOMBRE_ENTIDAD: string (nullable = true)\n",
      " |-- Nombre_Entidad_Mostrar: string (nullable = true)\n",
      " |-- TIPO_ENTIDAD_N1_1: string (nullable = true)\n",
      " |-- TIPO_ENTIDAD_N2_1: string (nullable = true)\n",
      " |-- DIRECCION_POSTAL: string (nullable = true)\n",
      " |-- COD_POSTAL: string (nullable = true)\n",
      " |-- COD_PROVINCIA: string (nullable = true)\n",
      " |-- PROVINCIA: string (nullable = true)\n",
      " |-- COD_CCAA: string (nullable = true)\n",
      " |-- CCAA: string (nullable = true)\n",
      " |-- ENLACE_WEB: string (nullable = true)\n",
      " |-- SOMMA: string (nullable = true)\n",
      " |-- TIPO_ENTIDAD_REGIONAL: string (nullable = true)\n",
      " |-- ESTADO_x: string (nullable = true)\n",
      " |-- CodigoInvente: string (nullable = true)\n",
      " |-- DenominacionSocial: string (nullable = true)\n",
      " |-- FormaJuridica_Codigo: string (nullable = true)\n",
      " |-- FormaJuridica_Descripcion: string (nullable = true)\n",
      " |-- NIF: string (nullable = true)\n",
      " |-- codigoDir3: string (nullable = true)\n",
      " |-- codigoOrigen: string (nullable = true)\n",
      " |-- Provincia_Codigo: string (nullable = true)\n",
      " |-- C_ID_UD_ORGANICA: string (nullable = true)\n",
      " |-- C_DNM_UD_ORGANICA: string (nullable = true)\n",
      " |-- C_ID_NIVEL_ADMON: string (nullable = true)\n",
      " |-- C_ID_TIPO_ENT_PUBLICA: string (nullable = true)\n",
      " |-- N_NIVEL_JERARQUICO: string (nullable = true)\n",
      " |-- C_ID_DEP_UD_SUPERIOR: string (nullable = true)\n",
      " |-- C_DNM_UD_ORGANICA_SUPERIOR: string (nullable = true)\n",
      " |-- C_ID_DEP_UD_PRINCIPAL: string (nullable = true)\n",
      " |-- C_DNM_UD_ORGANICA_PRINCIPAL: string (nullable = true)\n",
      " |-- B_SW_DEP_EDP_PRINCIPAL: string (nullable = true)\n",
      " |-- C_ID_DEP_EDP_PRINCIPAL: string (nullable = true)\n",
      " |-- C_DNM_UD_ORGANICA_EDP_PRINCIPAL: string (nullable = true)\n",
      " |-- C_ID_ESTADO: string (nullable = true)\n",
      " |-- D_VIG_ALTA_OFICIAL: string (nullable = true)\n",
      " |-- NIF_CIF: string (nullable = true)\n",
      " |-- C_ID_AMB_PROVINCIA: string (nullable = true)\n",
      " |-- C_DESC_PROV: string (nullable = true)\n",
      " |-- CONTACTOS: string (nullable = true)\n",
      " |-- List_Entidad_Norm: string (nullable = true)\n",
      " |-- List_Provincia_Entidad: string (nullable = true)\n",
      " |-- List_CIF: string (nullable = true)\n",
      "\n"
     ]
    }
   ],
   "source": [
    "fi4.printSchema()\n"
   ]
  },
  {
   "cell_type": "code",
   "execution_count": 21,
   "id": "b9ecc6e5",
   "metadata": {},
   "outputs": [
    {
     "name": "stdout",
     "output_type": "stream",
     "text": [
      "root\n",
      " |-- Id_NIVEL_1: string (nullable = true)\n",
      " |-- Id_NIVEL_0: string (nullable = true)\n",
      " |-- ID_ENTIDAD_NIVEL_0: string (nullable = true)\n",
      " |-- ID_ENTIDAD_NIVEL_1: string (nullable = true)\n",
      " |-- Jerarquia: string (nullable = true)\n",
      " |-- NIF_COD_NIVEL_0: string (nullable = true)\n",
      " |-- ACRONIMO_NIVEL_0: string (nullable = true)\n",
      " |-- NOMBRE_ENTIDAD_NIVEL_0: string (nullable = true)\n",
      " |-- Nombre_Entidad_Mostrar_NIVEL_0: string (nullable = true)\n",
      " |-- TIPO_ENTIDAD_N1_1_NIVEL_0: string (nullable = true)\n",
      " |-- TIPO_ENTIDAD_N2_1_NIVEL_0: string (nullable = true)\n",
      " |-- DIRECCION_POSTAL_NIVEL_0: string (nullable = true)\n",
      " |-- COD_POSTAL_NIVEL_0: string (nullable = true)\n",
      " |-- COD_PROVINCIA_NIVEL_0: string (nullable = true)\n",
      " |-- PROVINCIA_NIVEL_0: string (nullable = true)\n",
      " |-- COD_CCAA_NIVEL_0: string (nullable = true)\n",
      " |-- CCAA_NIVEL_0: string (nullable = true)\n",
      " |-- ENLACE_WEB_NIVEL_0: string (nullable = true)\n",
      " |-- SOMMA_NIVEL_0: string (nullable = true)\n",
      " |-- TIPO_ENTIDAD_REGIONAL_NIVEL_0: string (nullable = true)\n",
      " |-- ESTADO_x_NIVEL_0: string (nullable = true)\n",
      " |-- NIF_COD_NIVEL_1: string (nullable = true)\n",
      " |-- ACRONIMO_NIVEL_1: string (nullable = true)\n",
      " |-- NOMBRE_ENTIDAD_NIVEL_1: string (nullable = true)\n",
      " |-- Nombre_Entidad_Mostrar_NIVEL_1: string (nullable = true)\n",
      " |-- TIPO_ENTIDAD_N1_1_NIVEL_1: string (nullable = true)\n",
      " |-- TIPO_ENTIDAD_N2_1_NIVEL_1: string (nullable = true)\n",
      " |-- DIRECCION_POSTAL_NIVEL_1: string (nullable = true)\n",
      " |-- COD_POSTAL_NIVEL_1: string (nullable = true)\n",
      " |-- COD_PROVINCIA_NIVEL_1: string (nullable = true)\n",
      " |-- PROVINCIA_NIVEL_1: string (nullable = true)\n",
      " |-- COD_CCAA_NIVEL_1: string (nullable = true)\n",
      " |-- CCAA_NIVEL_1: string (nullable = true)\n",
      " |-- ENLACE_WEB_NIVEL_1: string (nullable = true)\n",
      " |-- SOMMA_NIVEL_1: string (nullable = true)\n",
      " |-- TIPO_ENTIDAD_REGIONAL_NIVEL_1: string (nullable = true)\n",
      " |-- ESTADO_x_NIVEL_1: string (nullable = true)\n",
      "\n"
     ]
    }
   ],
   "source": [
    "a12.printSchema()"
   ]
  }
 ],
 "metadata": {
  "kernelspec": {
   "display_name": "Python 3 (ipykernel)",
   "language": "python",
   "name": "python3"
  },
  "language_info": {
   "codemirror_mode": {
    "name": "ipython",
    "version": 3
   },
   "file_extension": ".py",
   "mimetype": "text/x-python",
   "name": "python",
   "nbconvert_exporter": "python",
   "pygments_lexer": "ipython3",
   "version": "3.8.10"
  }
 },
 "nbformat": 4,
 "nbformat_minor": 5
}
